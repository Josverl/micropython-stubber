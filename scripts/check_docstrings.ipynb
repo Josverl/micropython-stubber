{
 "cells": [
  {
   "cell_type": "code",
   "execution_count": 1,
   "metadata": {},
   "outputs": [],
   "source": [
    "# !pydocstyle --match='(?!test_).*\\.py(i)?' .\n",
    "# !pydocstyle --match='(?!test_).*\\.py(i)?' --add-ignore=D105,D107,  ../repos/micropython-stubs/publish/micropython-v1_21_0-esp32-stubs\n",
    "\n",
    "# messages = !pydocstyle --match='(?!test_).*\\.py(i)?' --add-ignore=D2,D4 --select=D100,D101,D102,D103,D104  ../repos/micropython-stubs/publish/micropython-v1_21_0-esp32-stubs\n",
    "# print(messages[1:4])"
   ]
  },
  {
   "cell_type": "code",
   "execution_count": 15,
   "metadata": {},
   "outputs": [],
   "source": [
    "from pathlib import Path\n",
    "\n",
    "\n",
    "def count_def_class(folder_path: Path) -> dict:\n",
    "    folder_path = Path(folder_path)\n",
    "    if not folder_path.is_dir():\n",
    "        raise ValueError(f\"{folder_path} is not a directory\")\n",
    "    counts = {\"def\": 0, \"class\": 0, \"module\": 0}\n",
    "    for file_path in folder_path.rglob(\"*\"):\n",
    "        if file_path.is_file() and file_path.suffix in [\".pyi\", \".py\"]:\n",
    "            counts[\"module\"] += 1\n",
    "            with file_path.open(encoding=\"utf8\") as f:\n",
    "                content = f.read()\n",
    "                counts[\"def\"] += content.count(\"def \")\n",
    "                counts[\"class\"] += content.count(\"class \")\n",
    "    return counts\n",
    "\n",
    "# count_def_class(\"../repos/micropython-stubs/publish/micropython-v1_21_0-esp32-stubs\")"
   ]
  },
  {
   "cell_type": "code",
   "execution_count": 16,
   "metadata": {},
   "outputs": [],
   "source": [
    "import pydocstyle\n",
    "\n",
    "\n",
    "def count_missing_docstrings(folder_path: Path) -> dict:\n",
    "    folder_path = Path(folder_path)\n",
    "    if not folder_path.is_dir():\n",
    "        raise ValueError(f\"{folder_path} is not a directory\")\n",
    "    files = []\n",
    "    for file_path in folder_path.rglob(\"*\"):\n",
    "        if file_path.is_file() and file_path.suffix in [\".pyi\", \".py\"]:\n",
    "            files.append(str(file_path))\n",
    "\n",
    "    parser = pydocstyle.config.ConfigurationParser()\n",
    "\n",
    "    docstring_checks = \"D100,D101,D102,D103,D104\"\n",
    "    try:\n",
    "        errors = pydocstyle.check(files, select=docstring_checks)\n",
    "        messages = list(f\"{e.code} {e.definition} in {e.filename}\" for e in errors if isinstance(e, pydocstyle.Error))\n",
    "    except Exception as e:\n",
    "        messages = []\n",
    "    # print(messages[1:4])\n",
    "    missing = {\n",
    "        \"module\": len([m for m in messages if \"D100\" in m]),  # module or package\n",
    "        \"class\": len([m for m in messages if \"D101\" in m]),  # class\n",
    "        \"def\": len([m for m in messages if \"D102\" in m or \"D103\" in m]),  # method or function\n",
    "    }\n",
    "    return missing\n",
    "\n",
    "\n",
    "# pth = Path(\"../repos/micropython-stubs/publish/micropython-v1_21_0-esp32-stubs\")\n",
    "# missing = count_missing_docstrings(pth)\n",
    "# print(missing)"
   ]
  },
  {
   "cell_type": "code",
   "execution_count": 17,
   "metadata": {},
   "outputs": [],
   "source": [
    "def get_docstring_score(folder_path: Path) -> dict:\n",
    "    defs = count_def_class(folder_path)\n",
    "    missing = count_missing_docstrings(folder_path)\n",
    "    docstring_score = {\n",
    "        \"module\": round(1 - (missing[\"module\"] + 1) / (defs[\"module\"] + 1), 2),\n",
    "        \"class\": round(1 - (missing[\"class\"] + 1) / (defs[\"class\"] + 1), 2),\n",
    "        \"def\": round(1 - (missing[\"def\"] + 1) / (defs[\"def\"] + 1), 2),\n",
    "    }\n",
    "    return docstring_score"
   ]
  },
  {
   "cell_type": "code",
   "execution_count": 18,
   "metadata": {},
   "outputs": [
    {
     "name": "stdout",
     "output_type": "stream",
     "text": [
      "micropython-latest-esp32-merged {'module': 0.82, 'class': 0.7, 'def': 0.57}\n",
      "micropython-latest-esp8266-merged {'module': 0.88, 'class': 0.79, 'def': 0.62}\n",
      "micropython-latest-rp2-merged {'module': 0.9, 'class': 0.79, 'def': 0.57}\n",
      "micropython-latest-rp2-PIMORONI_PICOLIPO_16MB-merged {'module': 0.9, 'class': 0.76, 'def': 0.57}\n",
      "micropython-latest-samd-ADAFRUIT_FEATHER_M4_EXPRESS-merged {'module': 0.87, 'class': 0.84, 'def': 0.56}\n",
      "micropython-latest-samd-ADAFRUIT_ITSYBITSY_M4_EXPRESS-merged {'module': 0.87, 'class': 0.83, 'def': 0.56}\n",
      "micropython-latest-samd-MINISAM_M4-merged {'module': 0.87, 'class': 0.82, 'def': 0.56}\n",
      "micropython-latest-samd-SEEED_WIO_TERMINAL-merged {'module': 0.87, 'class': 0.88, 'def': 0.56}\n",
      "micropython-latest-stm32-merged {'module': 0.91, 'class': 0.89, 'def': 0.66}\n",
      "micropython-latest-stm32-PYBV11-merged {'module': 0.91, 'class': 0.89, 'def': 0.66}\n"
     ]
    }
   ],
   "source": [
    "publish_path = Path(\"../repos/micropython-stubs/stubs\")\n",
    "\n",
    "for folder_path in publish_path.glob(\"micropython-latest*-merged\"):\n",
    "    docstring_score = get_docstring_score(folder_path)\n",
    "    print(f\"{folder_path.name} {docstring_score}\")"
   ]
  },
  {
   "cell_type": "code",
   "execution_count": 21,
   "metadata": {},
   "outputs": [
    {
     "name": "stdout",
     "output_type": "stream",
     "text": [
      "micropython-v1_20_0-esp32-ota-stubs {'module': 0.63, 'class': 0.63, 'def': 0.61}\n",
      "micropython-v1_20_0-esp32-s3-stubs {'module': 0.64, 'class': 0.64, 'def': 0.61}\n",
      "micropython-v1_20_0-esp32-stubs {'module': 0.63, 'class': 0.63, 'def': 0.61}\n",
      "micropython-v1_20_0-rp2-pico-stubs {'module': 0.75, 'class': 0.64, 'def': 0.58}\n",
      "micropython-v1_20_0-rp2-pico_w-stubs {'module': 0.71, 'class': 0.63, 'def': 0.57}\n",
      "micropython-v1_20_0-rp2-pimoroni_picolipo_16mb-stubs {'module': 0.75, 'class': 0.64, 'def': 0.58}\n",
      "micropython-v1_20_0-rp2-stubs {'module': 0.75, 'class': 0.64, 'def': 0.58}\n",
      "micropython-v1_20_0-samd-adafruit_feather_m4_express-stubs {'module': 0.74, 'class': 0.68, 'def': 0.57}\n",
      "micropython-v1_20_0-samd-adafruit_itsybitsy_m4_express-stubs {'module': 0.74, 'class': 0.68, 'def': 0.57}\n",
      "micropython-v1_20_0-samd-minisam_m4-stubs {'module': 0.74, 'class': 0.68, 'def': 0.57}\n",
      "micropython-v1_20_0-samd-seeed_wio_terminal-stubs {'module': 0.74, 'class': 0.68, 'def': 0.57}\n",
      "micropython-v1_20_0-stm32-pybv11-stubs {'module': 0.77, 'class': 0.75, 'def': 0.66}\n",
      "micropython-v1_20_0-stm32-stubs {'module': 0.76, 'class': 0.75, 'def': 0.66}\n",
      "micropython-v1_21_0-esp32-esp32_generic-stubs {'module': 0.59, 'class': 0.59, 'def': 0.59}\n",
      "micropython-v1_21_0-esp32-stubs {'module': 0.6, 'class': 0.59, 'def': 0.59}\n",
      "micropython-v1_21_0-rp2-rpi_pico-stubs {'module': 0.69, 'class': 0.57, 'def': 0.57}\n",
      "micropython-v1_21_0-rp2-rpi_pico_w-stubs {'module': 0.57, 'class': 0.5, 'def': 0.57}\n",
      "micropython-v1_21_0-samd-seeed_wio_terminal-stubs {'module': 0.67, 'class': 0.59, 'def': 0.57}\n"
     ]
    }
   ],
   "source": [
    "publish_path = Path(\"../repos/micropython-stubs/publish\")\n",
    "\n",
    "for folder_path in publish_path.glob(\"micropython-v1_2*\"):\n",
    "    docstring_score = get_docstring_score(folder_path)\n",
    "    print(f\"{folder_path.name} {docstring_score}\")"
   ]
  },
  {
   "cell_type": "code",
   "execution_count": 20,
   "metadata": {},
   "outputs": [
    {
     "name": "stdout",
     "output_type": "stream",
     "text": [
      "micropython-latest-esp32-stubs {'module': 0.6, 'class': 0.59, 'def': 0.59}\n",
      "micropython-latest-rp2-pimoroni_picolipo_16mb-stubs {'module': 0.69, 'class': 0.55, 'def': 0.55}\n",
      "micropython-latest-rp2-stubs {'module': 0.69, 'class': 0.55, 'def': 0.55}\n",
      "micropython-latest-samd-adafruit_feather_m4_express-stubs {'module': 0.67, 'class': 0.57, 'def': 0.54}\n",
      "micropython-latest-samd-adafruit_itsybitsy_m4_express-stubs {'module': 0.67, 'class': 0.57, 'def': 0.54}\n",
      "micropython-latest-samd-minisam_m4-stubs {'module': 0.67, 'class': 0.57, 'def': 0.54}\n",
      "micropython-latest-samd-seeed_wio_terminal-stubs {'module': 0.67, 'class': 0.57, 'def': 0.54}\n",
      "micropython-latest-stm32-pybv11-stubs {'module': 0.73, 'class': 0.65, 'def': 0.64}\n",
      "micropython-latest-stm32-stubs {'module': 0.73, 'class': 0.65, 'def': 0.64}\n"
     ]
    }
   ],
   "source": [
    "for folder_path in publish_path.glob(\"micropython-latest*\"):\n",
    "    docstring_score = get_docstring_score(folder_path)\n",
    "    print(f\"{folder_path.name} {docstring_score}\")"
   ]
  }
 ],
 "metadata": {
  "kernelspec": {
   "display_name": ".venv",
   "language": "python",
   "name": "python3"
  },
  "language_info": {
   "codemirror_mode": {
    "name": "ipython",
    "version": 3
   },
   "file_extension": ".py",
   "mimetype": "text/x-python",
   "name": "python",
   "nbconvert_exporter": "python",
   "pygments_lexer": "ipython3",
   "version": "3.11.6"
  }
 },
 "nbformat": 4,
 "nbformat_minor": 2
}
