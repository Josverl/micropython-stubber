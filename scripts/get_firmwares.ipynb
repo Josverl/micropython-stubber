{
 "cells": [
  {
   "cell_type": "markdown",
   "metadata": {},
   "source": [
    "## Get Firmwares\n",
    "\n",
    "Notebook to download pre-built firmwares published on the micropython download pages\n"
   ]
  },
  {
   "cell_type": "code",
   "execution_count": 3,
   "metadata": {},
   "outputs": [],
   "source": [
    "# Below are the requirements for the notebook to run.\n",
    "# %pip install BeautifulSoup4 requests"
   ]
  },
  {
   "cell_type": "code",
   "execution_count": 4,
   "metadata": {
    "tags": []
   },
   "outputs": [],
   "source": [
    "import requests\n",
    "import re\n",
    "import functools\n",
    "from urllib.parse import urljoin\n",
    "\n",
    "from typing import List, Dict\n",
    "from bs4 import BeautifulSoup"
   ]
  },
  {
   "cell_type": "code",
   "execution_count": 5,
   "metadata": {
    "tags": []
   },
   "outputs": [],
   "source": [
    "# use functools.lru_cache to avoid needing to download pages multiple times\n",
    "@functools.lru_cache(maxsize=500)\n",
    "def get_page(page_url) -> str:\n",
    "    \"\"\"Get the HTML of a page and return it as a string.\"\"\"\n",
    "    response = requests.get(page_url)\n",
    "    downloads_html = response.content.decode()\n",
    "    return downloads_html\n",
    "\n",
    "\n",
    "@functools.lru_cache(maxsize=500)\n",
    "def get_board_urls(page_url) -> List[Dict[str, str]]:\n",
    "    \"\"\"Get the urls to all the board pages listed on this page.\"\"\"\n",
    "    downloads_html = get_page(page_url)\n",
    "    soup = BeautifulSoup(downloads_html, \"html.parser\")\n",
    "    tags = soup.findAll(\"a\", recursive=True, attrs={\"class\": \"board-card\"})\n",
    "    # assumes that all links are relative to the page url\n",
    "    boards = [tag.get(\"href\") for tag in tags]\n",
    "    if \"?\" in page_url:\n",
    "        page_url = page_url.split(\"?\")[0]\n",
    "    return [{\"board\": board, \"url\": page_url + board} for board in boards]"
   ]
  },
  {
   "cell_type": "code",
   "execution_count": 6,
   "metadata": {},
   "outputs": [],
   "source": [
    "def firmware_list(board_url: str, base_url: str, ext: str) -> List[str]:\n",
    "    \"\"\"Get the urls to all the firmware files for a board.\"\"\"\n",
    "    html = get_page(board_url)\n",
    "    soup = BeautifulSoup(html, \"html.parser\")\n",
    "    # get all the a tags\n",
    "    #   that have a url that starts with `/resources/firmware/`\n",
    "    #   and ends with a matching extension\n",
    "    tags = soup.findAll(\n",
    "        \"a\",\n",
    "        recursive=True,\n",
    "        attrs={\"href\": re.compile(r\"^/resources/firmware/.*\\.\" + ext.lstrip(\".\") + \"$\")},\n",
    "    )\n",
    "    if \"?\" in base_url:\n",
    "        base_url = base_url.split(\"?\")[0]\n",
    "    links = [urljoin(base_url, tag.get(\"href\")) for tag in tags]\n",
    "    return links"
   ]
  },
  {
   "cell_type": "code",
   "execution_count": 7,
   "metadata": {
    "tags": []
   },
   "outputs": [
    {
     "name": "stdout",
     "output_type": "stream",
     "text": [
      "Found 138 firmwares\n"
     ]
    }
   ],
   "source": [
    "MICROPYTHON_ORG_URL = \"https://micropython.org/\"\n",
    "# ports and firmware extensions we are interested in\n",
    "PORT_FWTYPES = {\n",
    "    \"stm32\": \".hex\",\n",
    "    \"esp32\": \".bin\",\n",
    "    \"rp2\": \".uf2\",\n",
    "    \"samd\": \".uf2\",\n",
    "}\n",
    "# boards we are interested in ( this avoids getting a lot of boards we don't care about)\n",
    "RELEVANT_BOARDS = [\n",
    "    \"PYBV11\",\n",
    "    \"ESP32_GENERIC\",\n",
    "    \"RPI_PICO\",\n",
    "    \"RPI_PICO_W\",\n",
    "    \"ARDUINO_NANO_RP2040_CONNECT\",\n",
    "    \"PIMORONI_PICOLIPO_16MB\",\n",
    "    \"SEEED_WIO_TERMINAL\",\n",
    "]\n",
    "\n",
    "\n",
    "# The first run takes ~60 seconds to run for 4 ports , all boards\n",
    "# so it makes sense to cache the results and skip boards as soon as possible\n",
    "def get_boards(fw_types, RELEVANT_BOARDS):\n",
    "    board_urls = []\n",
    "    for port in fw_types.keys():\n",
    "        download_page_url = f\"{MICROPYTHON_ORG_URL}download/?port={port}\"\n",
    "        _urls = get_board_urls(download_page_url)\n",
    "        # filter out boards we don't care about\n",
    "        _urls = [board for board in _urls if board[\"board\"] in RELEVANT_BOARDS]\n",
    "        # add the port to the board urls\n",
    "        for board in _urls:\n",
    "            board[\"port\"] = port\n",
    "\n",
    "        for board in _urls:\n",
    "            # add a board to the list for each firmware found\n",
    "            firmwares = firmware_list(board[\"url\"], MICROPYTHON_ORG_URL, fw_types[port])\n",
    "            for _url in firmwares:\n",
    "                board[\"firmware\"] = _url\n",
    "                board[\"preview\"] = \"preview\" in _url  # type: ignore\n",
    "                # get version number and optional preview from url\n",
    "                # 'PYBD_SF2-20231009-v1.22.0-preview.3.ga06f4c8df.hex' -> v1.22.0-preview.3\n",
    "                # 'PYBD_SF2-20230426-v1.20.0.hex' -> v1.20.0\n",
    "                ver_match = re.search(r\"(\\d+\\.\\d+\\.\\d+(-\\w+.\\d+)?)\", _url)\n",
    "                if ver_match:\n",
    "                    board[\"version\"] = ver_match.group(1)\n",
    "                else:\n",
    "                    board[\"version\"] = \"\"\n",
    "\n",
    "                board_urls.append(board.copy())\n",
    "    return board_urls\n",
    "\n",
    "\n",
    "board_urls = get_boards(PORT_FWTYPES, RELEVANT_BOARDS)\n",
    "\n",
    "print(f\"Found {len(board_urls)} firmwares\")"
   ]
  },
  {
   "cell_type": "code",
   "execution_count": 12,
   "metadata": {},
   "outputs": [
    {
     "name": "stdout",
     "output_type": "stream",
     "text": [
      "Found 75 relevant firmwares\n"
     ]
    }
   ],
   "source": [
    "relevant = [\n",
    "    board\n",
    "    for board in board_urls\n",
    "    if board[\"board\"] in RELEVANT_BOARDS and (board[\"version\"] in [\"1.21.0\"] or board[\"preview\"])\n",
    "    # and b[\"port\"] in [\"esp32\", \"rp2\"]\n",
    "]\n",
    "# relevant\n",
    "print(f\"Found {len(relevant)} relevant firmwares\")"
   ]
  },
  {
   "cell_type": "code",
   "execution_count": 13,
   "metadata": {},
   "outputs": [
    {
     "name": "stdout",
     "output_type": "stream",
     "text": [
      "Downloading https://micropython.org/resources/firmware/PYBV11-20231005-v1.21.0.hex to firmware\\stm32\\PYBV11-v1.21.0.hex\n",
      "Downloading https://micropython.org/resources/firmware/PYBV11-20231019-v1.22.0-preview.32.g86c7b957a.hex to firmware\\stm32\\PYBV11-v1.22.0-preview.32.hex\n",
      "Downloading https://micropython.org/resources/firmware/PYBV11-20231017-v1.22.0-preview.31.g3883f2948.hex to firmware\\stm32\\PYBV11-v1.22.0-preview.31.hex\n",
      "Downloading https://micropython.org/resources/firmware/PYBV11-20231017-v1.22.0-preview.30.ge78471416.hex to firmware\\stm32\\PYBV11-v1.22.0-preview.30.hex\n",
      "Downloading https://micropython.org/resources/firmware/PYBV11-20231017-v1.22.0-preview.27.gc2361328e.hex to firmware\\stm32\\PYBV11-v1.22.0-preview.27.hex\n",
      "Downloading https://micropython.org/resources/firmware/PYBV11-DP-20231005-v1.21.0.hex to firmware\\stm32\\PYBV11-DP-v1.21.0.hex\n",
      "Downloading https://micropython.org/resources/firmware/PYBV11-DP-20231019-v1.22.0-preview.32.g86c7b957a.hex to firmware\\stm32\\PYBV11-DP-v1.22.0-preview.32.hex\n",
      "Downloading https://micropython.org/resources/firmware/PYBV11-DP-20231017-v1.22.0-preview.31.g3883f2948.hex to firmware\\stm32\\PYBV11-DP-v1.22.0-preview.31.hex\n",
      "Downloading https://micropython.org/resources/firmware/PYBV11-DP-20231017-v1.22.0-preview.30.ge78471416.hex to firmware\\stm32\\PYBV11-DP-v1.22.0-preview.30.hex\n",
      "Downloading https://micropython.org/resources/firmware/PYBV11-DP-20231017-v1.22.0-preview.27.gc2361328e.hex to firmware\\stm32\\PYBV11-DP-v1.22.0-preview.27.hex\n",
      "Downloading https://micropython.org/resources/firmware/PYBV11-NETWORK-20231005-v1.21.0.hex to firmware\\stm32\\PYBV11-NETWORK-v1.21.0.hex\n",
      "Downloading https://micropython.org/resources/firmware/PYBV11-NETWORK-20231019-v1.22.0-preview.32.g86c7b957a.hex to firmware\\stm32\\PYBV11-NETWORK-v1.22.0-preview.32.hex\n",
      "Downloading https://micropython.org/resources/firmware/PYBV11-NETWORK-20231017-v1.22.0-preview.31.g3883f2948.hex to firmware\\stm32\\PYBV11-NETWORK-v1.22.0-preview.31.hex\n",
      "Downloading https://micropython.org/resources/firmware/PYBV11-NETWORK-20231017-v1.22.0-preview.30.ge78471416.hex to firmware\\stm32\\PYBV11-NETWORK-v1.22.0-preview.30.hex\n",
      "Downloading https://micropython.org/resources/firmware/PYBV11-NETWORK-20231017-v1.22.0-preview.27.gc2361328e.hex to firmware\\stm32\\PYBV11-NETWORK-v1.22.0-preview.27.hex\n",
      "Downloading https://micropython.org/resources/firmware/PYBV11-THREAD-20231005-v1.21.0.hex to firmware\\stm32\\PYBV11-THREAD-v1.21.0.hex\n",
      "Downloading https://micropython.org/resources/firmware/PYBV11-THREAD-20231019-v1.22.0-preview.32.g86c7b957a.hex to firmware\\stm32\\PYBV11-THREAD-v1.22.0-preview.32.hex\n",
      "Downloading https://micropython.org/resources/firmware/PYBV11-THREAD-20231017-v1.22.0-preview.31.g3883f2948.hex to firmware\\stm32\\PYBV11-THREAD-v1.22.0-preview.31.hex\n",
      "Downloading https://micropython.org/resources/firmware/PYBV11-THREAD-20231017-v1.22.0-preview.30.ge78471416.hex to firmware\\stm32\\PYBV11-THREAD-v1.22.0-preview.30.hex\n",
      "Downloading https://micropython.org/resources/firmware/PYBV11-THREAD-20231017-v1.22.0-preview.27.gc2361328e.hex to firmware\\stm32\\PYBV11-THREAD-v1.22.0-preview.27.hex\n",
      "Downloading https://micropython.org/resources/firmware/PYBV11-DP_THREAD-20231005-v1.21.0.hex to firmware\\stm32\\PYBV11-DP_THREAD-v1.21.0.hex\n",
      "Downloading https://micropython.org/resources/firmware/PYBV11-DP_THREAD-20231019-v1.22.0-preview.32.g86c7b957a.hex to firmware\\stm32\\PYBV11-DP_THREAD-v1.22.0-preview.32.hex\n",
      "Downloading https://micropython.org/resources/firmware/PYBV11-DP_THREAD-20231017-v1.22.0-preview.31.g3883f2948.hex to firmware\\stm32\\PYBV11-DP_THREAD-v1.22.0-preview.31.hex\n",
      "Downloading https://micropython.org/resources/firmware/PYBV11-DP_THREAD-20231017-v1.22.0-preview.30.ge78471416.hex to firmware\\stm32\\PYBV11-DP_THREAD-v1.22.0-preview.30.hex\n",
      "Downloading https://micropython.org/resources/firmware/PYBV11-DP_THREAD-20231017-v1.22.0-preview.27.gc2361328e.hex to firmware\\stm32\\PYBV11-DP_THREAD-v1.22.0-preview.27.hex\n",
      "Downloading https://micropython.org/resources/firmware/ESP32_GENERIC-20231005-v1.21.0.bin to firmware\\esp32\\ESP32_GENERIC-v1.21.0.bin\n",
      "Downloading https://micropython.org/resources/firmware/ESP32_GENERIC-20231019-v1.22.0-preview.32.g86c7b957a.bin to firmware\\esp32\\ESP32_GENERIC-v1.22.0-preview.32.bin\n",
      "Downloading https://micropython.org/resources/firmware/ESP32_GENERIC-20231017-v1.22.0-preview.31.g3883f2948.bin to firmware\\esp32\\ESP32_GENERIC-v1.22.0-preview.31.bin\n",
      "Downloading https://micropython.org/resources/firmware/ESP32_GENERIC-20231017-v1.22.0-preview.30.ge78471416.bin to firmware\\esp32\\ESP32_GENERIC-v1.22.0-preview.30.bin\n",
      "Downloading https://micropython.org/resources/firmware/ESP32_GENERIC-20231017-v1.22.0-preview.27.gc2361328e.bin to firmware\\esp32\\ESP32_GENERIC-v1.22.0-preview.27.bin\n",
      "Downloading https://micropython.org/resources/firmware/ESP32_GENERIC-UNICORE-20231005-v1.21.0.bin to firmware\\esp32\\ESP32_GENERIC-UNICORE-v1.21.0.bin\n",
      "Downloading https://micropython.org/resources/firmware/ESP32_GENERIC-UNICORE-20231019-v1.22.0-preview.32.g86c7b957a.bin to firmware\\esp32\\ESP32_GENERIC-UNICORE-v1.22.0-preview.32.bin\n",
      "Downloading https://micropython.org/resources/firmware/ESP32_GENERIC-UNICORE-20231017-v1.22.0-preview.31.g3883f2948.bin to firmware\\esp32\\ESP32_GENERIC-UNICORE-v1.22.0-preview.31.bin\n",
      "Downloading https://micropython.org/resources/firmware/ESP32_GENERIC-UNICORE-20231017-v1.22.0-preview.30.ge78471416.bin to firmware\\esp32\\ESP32_GENERIC-UNICORE-v1.22.0-preview.30.bin\n",
      "Downloading https://micropython.org/resources/firmware/ESP32_GENERIC-UNICORE-20231017-v1.22.0-preview.27.gc2361328e.bin to firmware\\esp32\\ESP32_GENERIC-UNICORE-v1.22.0-preview.27.bin\n",
      "Downloading https://micropython.org/resources/firmware/ESP32_GENERIC-OTA-20231005-v1.21.0.bin to firmware\\esp32\\ESP32_GENERIC-OTA-v1.21.0.bin\n",
      "Downloading https://micropython.org/resources/firmware/ESP32_GENERIC-OTA-20231019-v1.22.0-preview.32.g86c7b957a.bin to firmware\\esp32\\ESP32_GENERIC-OTA-v1.22.0-preview.32.bin\n",
      "Downloading https://micropython.org/resources/firmware/ESP32_GENERIC-OTA-20231017-v1.22.0-preview.31.g3883f2948.bin to firmware\\esp32\\ESP32_GENERIC-OTA-v1.22.0-preview.31.bin\n",
      "Downloading https://micropython.org/resources/firmware/ESP32_GENERIC-OTA-20231017-v1.22.0-preview.30.ge78471416.bin to firmware\\esp32\\ESP32_GENERIC-OTA-v1.22.0-preview.30.bin\n",
      "Downloading https://micropython.org/resources/firmware/ESP32_GENERIC-OTA-20231017-v1.22.0-preview.27.gc2361328e.bin to firmware\\esp32\\ESP32_GENERIC-OTA-v1.22.0-preview.27.bin\n",
      "Downloading https://micropython.org/resources/firmware/ESP32_GENERIC-D2WD-20231005-v1.21.0.bin to firmware\\esp32\\ESP32_GENERIC-D2WD-v1.21.0.bin\n",
      "Downloading https://micropython.org/resources/firmware/ESP32_GENERIC-D2WD-20231019-v1.22.0-preview.32.g86c7b957a.bin to firmware\\esp32\\ESP32_GENERIC-D2WD-v1.22.0-preview.32.bin\n",
      "Downloading https://micropython.org/resources/firmware/ESP32_GENERIC-D2WD-20231017-v1.22.0-preview.31.g3883f2948.bin to firmware\\esp32\\ESP32_GENERIC-D2WD-v1.22.0-preview.31.bin\n",
      "Downloading https://micropython.org/resources/firmware/ESP32_GENERIC-D2WD-20231017-v1.22.0-preview.30.ge78471416.bin to firmware\\esp32\\ESP32_GENERIC-D2WD-v1.22.0-preview.30.bin\n",
      "Downloading https://micropython.org/resources/firmware/ESP32_GENERIC-D2WD-20231017-v1.22.0-preview.27.gc2361328e.bin to firmware\\esp32\\ESP32_GENERIC-D2WD-v1.22.0-preview.27.bin\n",
      "Downloading https://micropython.org/resources/firmware/ESP32_GENERIC-SPIRAM-20231005-v1.21.0.bin to firmware\\esp32\\ESP32_GENERIC-SPIRAM-v1.21.0.bin\n",
      "Downloading https://micropython.org/resources/firmware/ESP32_GENERIC-SPIRAM-20231019-v1.22.0-preview.32.g86c7b957a.bin to firmware\\esp32\\ESP32_GENERIC-SPIRAM-v1.22.0-preview.32.bin\n",
      "Downloading https://micropython.org/resources/firmware/ESP32_GENERIC-SPIRAM-20231017-v1.22.0-preview.31.g3883f2948.bin to firmware\\esp32\\ESP32_GENERIC-SPIRAM-v1.22.0-preview.31.bin\n",
      "Downloading https://micropython.org/resources/firmware/ESP32_GENERIC-SPIRAM-20231017-v1.22.0-preview.30.ge78471416.bin to firmware\\esp32\\ESP32_GENERIC-SPIRAM-v1.22.0-preview.30.bin\n",
      "Downloading https://micropython.org/resources/firmware/ESP32_GENERIC-SPIRAM-20231017-v1.22.0-preview.27.gc2361328e.bin to firmware\\esp32\\ESP32_GENERIC-SPIRAM-v1.22.0-preview.27.bin\n",
      "Downloading https://micropython.org/resources/firmware/ARDUINO_NANO_RP2040_CONNECT-20231005-v1.21.0.uf2 to firmware\\rp2\\ARDUINO_NANO_RP2040_CONNECT-v1.21.0.uf2\n",
      "Downloading https://micropython.org/resources/firmware/ARDUINO_NANO_RP2040_CONNECT-20231019-v1.22.0-preview.32.g86c7b957a.uf2 to firmware\\rp2\\ARDUINO_NANO_RP2040_CONNECT-v1.22.0-preview.32.uf2\n",
      "Downloading https://micropython.org/resources/firmware/ARDUINO_NANO_RP2040_CONNECT-20231017-v1.22.0-preview.31.g3883f2948.uf2 to firmware\\rp2\\ARDUINO_NANO_RP2040_CONNECT-v1.22.0-preview.31.uf2\n",
      "Downloading https://micropython.org/resources/firmware/ARDUINO_NANO_RP2040_CONNECT-20231017-v1.22.0-preview.30.ge78471416.uf2 to firmware\\rp2\\ARDUINO_NANO_RP2040_CONNECT-v1.22.0-preview.30.uf2\n",
      "Downloading https://micropython.org/resources/firmware/ARDUINO_NANO_RP2040_CONNECT-20231017-v1.22.0-preview.27.gc2361328e.uf2 to firmware\\rp2\\ARDUINO_NANO_RP2040_CONNECT-v1.22.0-preview.27.uf2\n",
      "Downloading https://micropython.org/resources/firmware/PIMORONI_PICOLIPO_16MB-20231005-v1.21.0.uf2 to firmware\\rp2\\PIMORONI_PICOLIPO_16MB-v1.21.0.uf2\n",
      "Downloading https://micropython.org/resources/firmware/PIMORONI_PICOLIPO_16MB-20231019-v1.22.0-preview.32.g86c7b957a.uf2 to firmware\\rp2\\PIMORONI_PICOLIPO_16MB-v1.22.0-preview.32.uf2\n",
      "Downloading https://micropython.org/resources/firmware/PIMORONI_PICOLIPO_16MB-20231017-v1.22.0-preview.31.g3883f2948.uf2 to firmware\\rp2\\PIMORONI_PICOLIPO_16MB-v1.22.0-preview.31.uf2\n",
      "Downloading https://micropython.org/resources/firmware/PIMORONI_PICOLIPO_16MB-20231017-v1.22.0-preview.30.ge78471416.uf2 to firmware\\rp2\\PIMORONI_PICOLIPO_16MB-v1.22.0-preview.30.uf2\n",
      "Downloading https://micropython.org/resources/firmware/PIMORONI_PICOLIPO_16MB-20231017-v1.22.0-preview.27.gc2361328e.uf2 to firmware\\rp2\\PIMORONI_PICOLIPO_16MB-v1.22.0-preview.27.uf2\n",
      "Downloading https://micropython.org/resources/firmware/RPI_PICO-20231005-v1.21.0.uf2 to firmware\\rp2\\RPI_PICO-v1.21.0.uf2\n",
      "Downloading https://micropython.org/resources/firmware/RPI_PICO-20231019-v1.22.0-preview.32.g86c7b957a.uf2 to firmware\\rp2\\RPI_PICO-v1.22.0-preview.32.uf2\n",
      "Downloading https://micropython.org/resources/firmware/RPI_PICO-20231017-v1.22.0-preview.31.g3883f2948.uf2 to firmware\\rp2\\RPI_PICO-v1.22.0-preview.31.uf2\n",
      "Downloading https://micropython.org/resources/firmware/RPI_PICO-20231017-v1.22.0-preview.30.ge78471416.uf2 to firmware\\rp2\\RPI_PICO-v1.22.0-preview.30.uf2\n",
      "Downloading https://micropython.org/resources/firmware/RPI_PICO-20231017-v1.22.0-preview.27.gc2361328e.uf2 to firmware\\rp2\\RPI_PICO-v1.22.0-preview.27.uf2\n",
      "Downloading https://micropython.org/resources/firmware/RPI_PICO_W-20231005-v1.21.0.uf2 to firmware\\rp2\\RPI_PICO_W-v1.21.0.uf2\n",
      "Downloading https://micropython.org/resources/firmware/RPI_PICO_W-20231019-v1.22.0-preview.32.g86c7b957a.uf2 to firmware\\rp2\\RPI_PICO_W-v1.22.0-preview.32.uf2\n",
      "Downloading https://micropython.org/resources/firmware/RPI_PICO_W-20231017-v1.22.0-preview.31.g3883f2948.uf2 to firmware\\rp2\\RPI_PICO_W-v1.22.0-preview.31.uf2\n",
      "Downloading https://micropython.org/resources/firmware/RPI_PICO_W-20231017-v1.22.0-preview.30.ge78471416.uf2 to firmware\\rp2\\RPI_PICO_W-v1.22.0-preview.30.uf2\n",
      "Downloading https://micropython.org/resources/firmware/RPI_PICO_W-20231017-v1.22.0-preview.27.gc2361328e.uf2 to firmware\\rp2\\RPI_PICO_W-v1.22.0-preview.27.uf2\n",
      "Downloading https://micropython.org/resources/firmware/SEEED_WIO_TERMINAL-20231005-v1.21.0.uf2 to firmware\\samd\\SEEED_WIO_TERMINAL-v1.21.0.uf2\n",
      "Downloading https://micropython.org/resources/firmware/SEEED_WIO_TERMINAL-20231019-v1.22.0-preview.32.g86c7b957a.uf2 to firmware\\samd\\SEEED_WIO_TERMINAL-v1.22.0-preview.32.uf2\n",
      "Downloading https://micropython.org/resources/firmware/SEEED_WIO_TERMINAL-20231017-v1.22.0-preview.31.g3883f2948.uf2 to firmware\\samd\\SEEED_WIO_TERMINAL-v1.22.0-preview.31.uf2\n",
      "Downloading https://micropython.org/resources/firmware/SEEED_WIO_TERMINAL-20231017-v1.22.0-preview.30.ge78471416.uf2 to firmware\\samd\\SEEED_WIO_TERMINAL-v1.22.0-preview.30.uf2\n",
      "Downloading https://micropython.org/resources/firmware/SEEED_WIO_TERMINAL-20231017-v1.22.0-preview.27.gc2361328e.uf2 to firmware\\samd\\SEEED_WIO_TERMINAL-v1.22.0-preview.27.uf2\n"
     ]
    }
   ],
   "source": [
    "# download the relevant files to the firmware folder\n",
    "import requests\n",
    "from pathlib import Path\n",
    "\n",
    "firmware_folder = Path(\"firmware\")\n",
    "firmware_folder.mkdir(exist_ok=True)\n",
    "\n",
    "for board in relevant:\n",
    "    date_re = r\"(-\\d{8}-)\"\n",
    "    hash_re = r\"(.g[0-9a-f]+\\.)\"\n",
    "    # remove date from firmware name\n",
    "    fname = re.sub(date_re, \"-\", Path(board[\"firmware\"]).name)\n",
    "    # remove hash from firmware name\n",
    "    fname = re.sub(hash_re, \".\", fname)\n",
    "    filename = firmware_folder / board[\"port\"] / fname\n",
    "    filename.parent.mkdir(exist_ok=True)\n",
    "    print(f\"Downloading {board['firmware']} to {filename}\")\n",
    "    r = requests.get(board[\"firmware\"], allow_redirects=True)\n",
    "    with open(filename, \"wb\") as f:\n",
    "        f.write(r.content)\n",
    "    board[\"filename\"] = filename"
   ]
  },
  {
   "cell_type": "code",
   "execution_count": 10,
   "metadata": {},
   "outputs": [],
   "source": [
    "# serialport = \"COM9\"\n",
    "# !esptool --chip esp32 --port {serialport} erase_flash\n",
    "# !esptool --chip esp32 --port {serialport} --baud 460800 write_flash -z 0x1000 firmware/ESP32_GENERIC-SPIRAM-v1.21.0.bin"
   ]
  }
 ],
 "metadata": {
  "kernelspec": {
   "display_name": "Python 3 (ipykernel)",
   "language": "python",
   "name": "python3"
  },
  "language_info": {
   "codemirror_mode": {
    "name": "ipython",
    "version": 3
   },
   "file_extension": ".py",
   "mimetype": "text/x-python",
   "name": "python",
   "nbconvert_exporter": "python",
   "pygments_lexer": "ipython3",
   "version": "3.11.6"
  }
 },
 "nbformat": 4,
 "nbformat_minor": 4
}
