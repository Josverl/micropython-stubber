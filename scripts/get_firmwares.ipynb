{
 "cells": [
  {
   "cell_type": "markdown",
   "metadata": {},
   "source": [
    "## Get Firmwares\n",
    "\n",
    "Notebook to download pre-built firmwares published on the micropython download pages\n"
   ]
  },
  {
   "cell_type": "code",
   "execution_count": 1,
   "metadata": {},
   "outputs": [],
   "source": [
    "# Below are the requirements for the notebook to run.\n",
    "# %pip install BeautifulSoup4 requests"
   ]
  },
  {
   "cell_type": "code",
   "execution_count": 2,
   "metadata": {
    "tags": []
   },
   "outputs": [],
   "source": [
    "import requests\n",
    "import re\n",
    "import functools\n",
    "from urllib.parse import urljoin\n",
    "\n",
    "from typing import List, Dict\n",
    "from bs4 import BeautifulSoup"
   ]
  },
  {
   "cell_type": "code",
   "execution_count": 3,
   "metadata": {
    "tags": []
   },
   "outputs": [],
   "source": [
    "# use functools.lru_cache to avoid needing to download pages multiple times\n",
    "@functools.lru_cache(maxsize=500)\n",
    "def get_page(page_url) -> str:\n",
    "    \"\"\"Get the HTML of a page and return it as a string.\"\"\"\n",
    "    response = requests.get(page_url)\n",
    "    downloads_html = response.content.decode()\n",
    "    return downloads_html\n",
    "\n",
    "\n",
    "@functools.lru_cache(maxsize=500)\n",
    "def get_board_urls(page_url) -> List[Dict[str, str]]:\n",
    "    \"\"\"Get the urls to all the board pages listed on this page.\"\"\"\n",
    "    downloads_html = get_page(page_url)\n",
    "    soup = BeautifulSoup(downloads_html, \"html.parser\")\n",
    "    tags = soup.findAll(\"a\", recursive=True, attrs={\"class\": \"board-card\"})\n",
    "    # assumes that all links are relative to the page url\n",
    "    boards = [tag.get(\"href\") for tag in tags]\n",
    "    if \"?\" in page_url:\n",
    "        page_url = page_url.split(\"?\")[0]\n",
    "    return [{\"board\": board, \"url\": page_url + board} for board in boards]"
   ]
  },
  {
   "cell_type": "code",
   "execution_count": 4,
   "metadata": {},
   "outputs": [],
   "source": [
    "def firmware_list(board_url: str, base_url: str, ext: str) -> List[str]:\n",
    "    \"\"\"Get the urls to all the firmware files for a board.\"\"\"\n",
    "    html = get_page(board_url)\n",
    "    soup = BeautifulSoup(html, \"html.parser\")\n",
    "    # get all the a tags\n",
    "    #   that have a url that starts with `/resources/firmware/`\n",
    "    #   and ends with a matching extension\n",
    "    tags = soup.findAll(\n",
    "        \"a\",\n",
    "        recursive=True,\n",
    "        attrs={\"href\": re.compile(r\"^/resources/firmware/.*\\.\" + ext.lstrip(\".\") + \"$\")},\n",
    "    )\n",
    "    if \"?\" in base_url:\n",
    "        base_url = base_url.split(\"?\")[0]\n",
    "    links: List = [urljoin(base_url, tag.get(\"href\")) for tag in tags]\n",
    "    return links"
   ]
  },
  {
   "cell_type": "code",
   "execution_count": 5,
   "metadata": {
    "tags": []
   },
   "outputs": [
    {
     "name": "stdout",
     "output_type": "stream",
     "text": [
      "Found 169 firmwares\n"
     ]
    }
   ],
   "source": [
    "MICROPYTHON_ORG_URL = \"https://micropython.org/\"\n",
    "# ports and firmware extensions we are interested in\n",
    "PORT_FWTYPES = {\n",
    "    \"stm32\": \".hex\",\n",
    "    \"esp32\": \".bin\",\n",
    "    \"rp2\": \".uf2\",\n",
    "    \"samd\": \".uf2\",\n",
    "}\n",
    "# boards we are interested in ( this avoids getting a lot of boards we don't care about)\n",
    "RELEVANT_BOARDS = [\n",
    "    \"PYBV11\",\n",
    "    \"ESP32_GENERIC\",\n",
    "    \"ESP32_GENERIC_S3\",\n",
    "    \"RPI_PICO\",\n",
    "    \"RPI_PICO_W\",\n",
    "    \"ARDUINO_NANO_RP2040_CONNECT\",\n",
    "    \"PIMORONI_PICOLIPO_16MB\",\n",
    "    \"SEEED_WIO_TERMINAL\",\n",
    "]\n",
    "\n",
    "\n",
    "# The first run takes ~60 seconds to run for 4 ports , all boards\n",
    "# so it makes sense to cache the results and skip boards as soon as possible\n",
    "def get_boards(fw_types, RELEVANT_BOARDS):\n",
    "    board_urls = []\n",
    "    for port in fw_types.keys():\n",
    "        download_page_url = f\"{MICROPYTHON_ORG_URL}download/?port={port}\"\n",
    "        _urls = get_board_urls(download_page_url)\n",
    "        # filter out boards we don't care about\n",
    "        _urls = [board for board in _urls if board[\"board\"] in RELEVANT_BOARDS]\n",
    "        # add the port to the board urls\n",
    "        for board in _urls:\n",
    "            board[\"port\"] = port\n",
    "\n",
    "        for board in _urls:\n",
    "            # add a board to the list for each firmware found\n",
    "            firmwares = firmware_list(board[\"url\"], MICROPYTHON_ORG_URL, fw_types[port])\n",
    "            for _url in firmwares:\n",
    "                board[\"firmware\"] = _url\n",
    "                board[\"preview\"] = \"preview\" in _url  # type: ignore\n",
    "                # get version number and optional preview from url\n",
    "                # 'PYBD_SF2-20231009-v1.22.0-preview.3.ga06f4c8df.hex' -> v1.22.0-preview.3\n",
    "                # 'PYBD_SF2-20230426-v1.20.0.hex' -> v1.20.0\n",
    "                ver_match = re.search(r\"(\\d+\\.\\d+\\.\\d+(-\\w+.\\d+)?)\", _url)\n",
    "                if ver_match:\n",
    "                    board[\"version\"] = ver_match.group(1)\n",
    "                else:\n",
    "                    board[\"version\"] = \"\"\n",
    "\n",
    "                board_urls.append(board.copy())\n",
    "    return board_urls\n",
    "\n",
    "\n",
    "board_urls = get_boards(PORT_FWTYPES, RELEVANT_BOARDS)\n",
    "\n",
    "print(f\"Found {len(board_urls)} firmwares\")"
   ]
  },
  {
   "cell_type": "code",
   "execution_count": 6,
   "metadata": {},
   "outputs": [
    {
     "name": "stdout",
     "output_type": "stream",
     "text": [
      "Found 102 relevant firmwares\n"
     ]
    }
   ],
   "source": [
    "relevant = [3````````````````\n",
    "    # and b[\"port\"] in [\"esp32\", \"rp2\"]\n",
    "]\n",
    "# relevant\n",
    "print(f\"Found {len(relevant)} relevant firmwares\")"
   ]
  },
  {
   "cell_type": "code",
   "execution_count": 13,
   "metadata": {},
   "outputs": [],
   "source": [
    "# download the relevant files to the firmware folder\n",
    "import requests\n",
    "from pathlib import Path\n",
    "\n",
    "firmware_folder = Path(\"firmware\")\n",
    "firmware_folder.mkdir(exist_ok=True)\n",
    "\n",
    "for board in relevant:\n",
    "    date_re = r\"(-\\d{8}-)\"\n",
    "    hash_re = r\"(.g[0-9a-f]+\\.)\"\n",
    "    # remove date from firmware name\n",
    "    fname = re.sub(date_re, \"-\", Path(board[\"firmware\"]).name)\n",
    "    # remove hash from firmware name\n",
    "    fname = re.sub(hash_re, \".\", fname)\n",
    "    filename = firmware_folder / board[\"port\"] / fname\n",
    "    filename.parent.mkdir(exist_ok=True)\n",
    "    if filename.exists():\n",
    "        # print(f\" {filename} already exists, skip download\")\n",
    "        continue\n",
    "    print(f\"Downloading {board['firmware']} to {filename}\")\n",
    "    r = requests.get(board[\"firmware\"], allow_redirects=True)\n",
    "    with open(filename, \"wb\") as f:\n",
    "        f.write(r.content)\n",
    "    board[\"filename\"] = filename"
   ]
  },
  {
   "cell_type": "code",
   "execution_count": 12,
   "metadata": {},
   "outputs": [
    {
     "name": "stdout",
     "output_type": "stream",
     "text": [
      " Volume in drive C has no label.\n",
      " Volume Serial Number is 30ED-D319\n",
      "\n",
      " Directory of c:\\develop\\MyPython\\micropython-stubber\\scripts\n",
      "\n",
      "\n",
      " Directory of c:\\develop\\MyPython\\micropython-stubber\\scripts\\firmware\\esp32\n",
      "\n",
      "03-01-2024  11:55    <DIR>          .\n",
      "19-10-2023  14:24    <DIR>          ..\n",
      "19-10-2023  14:45         1.494.672 ESP32_GENERIC-D2WD-v1.21.0.bin\n",
      "19-10-2023  14:45         1.494.832 ESP32_GENERIC-D2WD-v1.22.0-preview.27.bin\n",
      "30-12-2023  00:28         1.493.840 ESP32_GENERIC-D2WD-v1.22.0-preview.278.bin\n",
      "30-12-2023  00:28         1.494.112 ESP32_GENERIC-D2WD-v1.22.0-preview.281.bin\n",
      "30-12-2023  00:28         1.494.176 ESP32_GENERIC-D2WD-v1.22.0-preview.283.bin\n",
      "30-12-2023  00:28         1.494.144 ESP32_GENERIC-D2WD-v1.22.0-preview.289.bin\n",
      "19-10-2023  14:45         1.494.832 ESP32_GENERIC-D2WD-v1.22.0-preview.30.bin\n",
      "19-10-2023  14:45         1.494.832 ESP32_GENERIC-D2WD-v1.22.0-preview.31.bin\n",
      "19-10-2023  14:45         1.494.832 ESP32_GENERIC-D2WD-v1.22.0-preview.32.bin\n",
      "30-12-2023  00:28         1.494.112 ESP32_GENERIC-D2WD-v1.22.0.bin\n",
      "03-01-2024  11:55         1.494.144 ESP32_GENERIC-D2WD-v1.23.0-preview.6.bin\n",
      "19-10-2023  14:45         1.621.792 ESP32_GENERIC-OTA-v1.21.0.bin\n",
      "19-10-2023  14:45         1.621.936 ESP32_GENERIC-OTA-v1.22.0-preview.27.bin\n",
      "30-12-2023  00:28         1.544.848 ESP32_GENERIC-OTA-v1.22.0-preview.278.bin\n",
      "30-12-2023  00:28         1.545.104 ESP32_GENERIC-OTA-v1.22.0-preview.281.bin\n",
      "30-12-2023  00:28         1.545.152 ESP32_GENERIC-OTA-v1.22.0-preview.283.bin\n",
      "30-12-2023  00:28         1.545.120 ESP32_GENERIC-OTA-v1.22.0-preview.289.bin\n",
      "19-10-2023  14:45         1.621.936 ESP32_GENERIC-OTA-v1.22.0-preview.30.bin\n",
      "19-10-2023  14:45         1.621.952 ESP32_GENERIC-OTA-v1.22.0-preview.31.bin\n",
      "19-10-2023  14:45         1.621.952 ESP32_GENERIC-OTA-v1.22.0-preview.32.bin\n",
      "30-12-2023  00:28         1.545.088 ESP32_GENERIC-OTA-v1.22.0.bin\n",
      "03-01-2024  11:55         1.545.120 ESP32_GENERIC-OTA-v1.23.0-preview.6.bin\n",
      "19-10-2023  14:45         1.601.072 ESP32_GENERIC-SPIRAM-v1.21.0.bin\n",
      "19-10-2023  14:45         1.601.200 ESP32_GENERIC-SPIRAM-v1.22.0-preview.27.bin\n",
      "30-12-2023  00:28         1.614.304 ESP32_GENERIC-SPIRAM-v1.22.0-preview.278.bin\n",
      "30-12-2023  00:28         1.614.576 ESP32_GENERIC-SPIRAM-v1.22.0-preview.281.bin\n",
      "30-12-2023  00:28         1.614.640 ESP32_GENERIC-SPIRAM-v1.22.0-preview.283.bin\n",
      "30-12-2023  00:28         1.614.624 ESP32_GENERIC-SPIRAM-v1.22.0-preview.289.bin\n",
      "19-10-2023  14:45         1.601.200 ESP32_GENERIC-SPIRAM-v1.22.0-preview.30.bin\n",
      "19-10-2023  14:45         1.601.200 ESP32_GENERIC-SPIRAM-v1.22.0-preview.31.bin\n",
      "19-10-2023  14:45         1.601.200 ESP32_GENERIC-SPIRAM-v1.22.0-preview.32.bin\n",
      "30-12-2023  00:28         1.614.576 ESP32_GENERIC-SPIRAM-v1.22.0.bin\n",
      "03-01-2024  11:55         1.614.624 ESP32_GENERIC-SPIRAM-v1.23.0-preview.6.bin\n",
      "19-10-2023  14:45         1.653.872 ESP32_GENERIC-UNICORE-v1.21.0.bin\n",
      "19-10-2023  14:45         1.654.032 ESP32_GENERIC-UNICORE-v1.22.0-preview.27.bin\n",
      "30-12-2023  00:28         1.728.880 ESP32_GENERIC-UNICORE-v1.22.0-preview.278.bin\n",
      "30-12-2023  00:28         1.729.200 ESP32_GENERIC-UNICORE-v1.22.0-preview.281.bin\n",
      "30-12-2023  00:28         1.729.248 ESP32_GENERIC-UNICORE-v1.22.0-preview.283.bin\n",
      "30-12-2023  00:28         1.729.232 ESP32_GENERIC-UNICORE-v1.22.0-preview.289.bin\n",
      "19-10-2023  14:45         1.654.032 ESP32_GENERIC-UNICORE-v1.22.0-preview.30.bin\n",
      "19-10-2023  14:45         1.654.032 ESP32_GENERIC-UNICORE-v1.22.0-preview.31.bin\n",
      "19-10-2023  14:45         1.654.032 ESP32_GENERIC-UNICORE-v1.22.0-preview.32.bin\n",
      "30-12-2023  00:28         1.729.152 ESP32_GENERIC-UNICORE-v1.22.0.bin\n",
      "03-01-2024  11:55         1.729.232 ESP32_GENERIC-UNICORE-v1.23.0-preview.6.bin\n",
      "19-10-2023  14:45         1.661.872 ESP32_GENERIC-v1.21.0.bin\n",
      "19-10-2023  14:45         1.662.032 ESP32_GENERIC-v1.22.0-preview.27.bin\n",
      "30-12-2023  00:28         1.737.408 ESP32_GENERIC-v1.22.0-preview.278.bin\n",
      "30-12-2023  00:28         1.737.696 ESP32_GENERIC-v1.22.0-preview.281.bin\n",
      "30-12-2023  00:28         1.737.760 ESP32_GENERIC-v1.22.0-preview.283.bin\n",
      "30-12-2023  00:28         1.737.728 ESP32_GENERIC-v1.22.0-preview.289.bin\n",
      "19-10-2023  14:45         1.662.032 ESP32_GENERIC-v1.22.0-preview.30.bin\n",
      "19-10-2023  14:45         1.662.032 ESP32_GENERIC-v1.22.0-preview.31.bin\n",
      "19-10-2023  14:45         1.662.032 ESP32_GENERIC-v1.22.0-preview.32.bin\n",
      "30-12-2023  00:28         1.737.664 ESP32_GENERIC-v1.22.0.bin\n",
      "03-01-2024  11:55         1.737.728 ESP32_GENERIC-v1.23.0-preview.6.bin\n",
      "03-01-2024  11:55         1.561.184 ESP32_GENERIC_S3-SPIRAM_OCT-v1.21.0.bin\n",
      "30-12-2023  00:29         1.631.216 ESP32_GENERIC_S3-SPIRAM_OCT-v1.22.0-preview.278.bin\n",
      "30-12-2023  00:29         1.631.536 ESP32_GENERIC_S3-SPIRAM_OCT-v1.22.0-preview.281.bin\n",
      "30-12-2023  00:29         1.631.600 ESP32_GENERIC_S3-SPIRAM_OCT-v1.22.0-preview.283.bin\n",
      "30-12-2023  00:29         1.631.584 ESP32_GENERIC_S3-SPIRAM_OCT-v1.22.0-preview.289.bin\n",
      "30-12-2023  00:29         1.631.504 ESP32_GENERIC_S3-SPIRAM_OCT-v1.22.0.bin\n",
      "03-01-2024  11:55         1.631.584 ESP32_GENERIC_S3-SPIRAM_OCT-v1.23.0-preview.6.bin\n",
      "03-01-2024  11:55         1.559.472 ESP32_GENERIC_S3-v1.21.0.bin\n",
      "30-12-2023  00:29         1.627.952 ESP32_GENERIC_S3-v1.22.0-preview.278.bin\n",
      "30-12-2023  00:29         1.628.272 ESP32_GENERIC_S3-v1.22.0-preview.281.bin\n",
      "30-12-2023  00:29         1.628.320 ESP32_GENERIC_S3-v1.22.0-preview.283.bin\n",
      "30-12-2023  00:28         1.628.320 ESP32_GENERIC_S3-v1.22.0-preview.289.bin\n",
      "30-12-2023  00:28         1.628.240 ESP32_GENERIC_S3-v1.22.0.bin\n",
      "03-01-2024  11:55         1.628.304 ESP32_GENERIC_S3-v1.23.0-preview.6.bin\n",
      "              69 File(s)    111.571.760 bytes\n",
      "               2 Dir(s)  348.284.379.136 bytes free\n"
     ]
    },
    {
     "name": "stderr",
     "output_type": "stream",
     "text": [
      "File Not Found\n"
     ]
    }
   ],
   "source": [
    "!dir -l firmware\\esp32"
   ]
  },
  {
   "cell_type": "code",
   "execution_count": null,
   "metadata": {},
   "outputs": [],
   "source": []
  }
 ],
 "metadata": {
  "kernelspec": {
   "display_name": "Python 3 (ipykernel)",
   "language": "python",
   "name": "python3"
  },
  "language_info": {
   "codemirror_mode": {
    "name": "ipython",
    "version": 3
   },
   "file_extension": ".py",
   "mimetype": "text/x-python",
   "name": "python",
   "nbconvert_exporter": "python",
   "pygments_lexer": "ipython3",
   "version": "3.11.7"
  }
 },
 "nbformat": 4,
 "nbformat_minor": 4
}
