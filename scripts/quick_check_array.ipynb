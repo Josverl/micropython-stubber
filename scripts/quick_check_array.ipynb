{
 "cells": [
  {
   "cell_type": "markdown",
   "metadata": {},
   "source": [
    "quick check to help find if/where `class array(List)` is being properly generarated"
   ]
  },
  {
   "cell_type": "code",
   "execution_count": 4,
   "metadata": {},
   "outputs": [],
   "source": [
    "from pathlib import Path"
   ]
  },
  {
   "cell_type": "code",
   "execution_count": 5,
   "metadata": {},
   "outputs": [
    {
     "name": "stdout",
     "output_type": "stream",
     "text": [
      "94\n"
     ]
    }
   ],
   "source": [
    "stub_path = Path(\"../repos/micropython-stubs/stubs\")\n",
    "pub_path = Path(\"../repos/micropython-stubs/publish\")\n",
    "\n",
    "version = \"v1_19_1*\"\n",
    "version = \"v1_20_0*\"\n",
    "version = \"v1_*\"\n",
    "files = list(stub_path.glob(f\"micropython-{version}-merged/array.py\"))\n",
    "files += list(stub_path.glob(f\"micropython-{version}-merged/array.pyi\"))\n",
    "files += list(stub_path.glob(f\"micropython-{version}-docstubs/array.pyi\"))\n",
    "files += list(pub_path.glob(f\"micropython-{version}/array.pyi\"))\n",
    "\n",
    "files = sorted(files, key=lambda f: str(f.parent))\n",
    "\n",
    "print(len(files))\n",
    "# files"
   ]
  },
  {
   "cell_type": "code",
   "execution_count": 6,
   "metadata": {},
   "outputs": [
    {
     "name": "stdout",
     "output_type": "stream",
     "text": [
      "publish/micropython-v1_17-esp32-stubs/array.pyi                                  class array:        \n",
      "publish/micropython-v1_17-esp8266-stubs/array.pyi                                class array:        \n",
      "publish/micropython-v1_17-rp2-stubs/array.pyi                                    class array:        \n",
      "publish/micropython-v1_17-stm32-stubs/array.pyi                                  class array:        \n",
      "publish/micropython-v1_18-esp32-stubs/array.pyi                                  class array:        \n",
      "publish/micropython-v1_18-esp8266-stubs/array.pyi                                class array:        \n",
      "publish/micropython-v1_18-rp2-stubs/array.pyi                                    class array:        \n",
      "publish/micropython-v1_18-stm32-stubs/array.pyi                                  class array:        \n",
      "publish/micropython-v1_19_1-esp32-generic_s3-stubs/array.pyi                     class array(List):  \n",
      "publish/micropython-v1_19_1-esp32-generic_spiram-stubs/array.pyi                 class array(List):  \n",
      "publish/micropython-v1_19_1-esp32-stubs/array.pyi                                class array(List):  \n",
      "publish/micropython-v1_19_1-esp32-um_tinypico-stubs/array.pyi                    class array(List):  \n",
      "publish/micropython-v1_19_1-esp8266-stubs/array.pyi                              class array(List):  \n",
      "publish/micropython-v1_19_1-rp2-stubs/array.pyi                                  class array(List):  \n",
      "publish/micropython-v1_19_1-stm32-stubs/array.pyi                                class array(List):  \n",
      "publish/micropython-v1_20_0-esp32-generic_ota-stubs/array.pyi                    class array(List):  \n",
      "publish/micropython-v1_20_0-esp32-generic_s3-stubs/array.pyi                     class array(List):  \n",
      "publish/micropython-v1_20_0-esp32-stubs/array.pyi                                class array(List):  \n",
      "publish/micropython-v1_20_0-rp2-stubs/array.pyi                                  class array(List):  \n",
      "publish/micropython-v1_20_0-samd-stubs/array.pyi                                 class array(List):  \n",
      "publish/micropython-v1_20_0-stm32-stubs/array.pyi                                class array(List):  \n",
      "publish/micropython-v1_21_0-esp32-esp32_generic-stubs/array.pyi                  class array(List):  \n",
      "publish/micropython-v1_21_0-esp32-stubs/array.pyi                                class array(List):  \n",
      "publish/micropython-v1_21_0-rp2-stubs/array.pyi                                  class array(List):  \n",
      "publish/micropython-v1_21_0-samd-stubs/array.pyi                                 class array(List):  \n",
      "publish/micropython-v1_21_0-stm32-stubs/array.pyi                                class array(List):  \n",
      "stubs/micropython-v1_17-docstubs/array.pyi                                       class array:        \n",
      "stubs/micropython-v1_17-esp32-merged/array.py                                    class array:        \n",
      "stubs/micropython-v1_17-esp32-merged/array.pyi                                   class array:        \n",
      "stubs/micropython-v1_17-esp8266-merged/array.py                                  class array:        \n",
      "stubs/micropython-v1_17-esp8266-merged/array.pyi                                 class array:        \n",
      "stubs/micropython-v1_17-rp2-merged/array.py                                      class array:        \n",
      "stubs/micropython-v1_17-rp2-merged/array.pyi                                     class array:        \n",
      "stubs/micropython-v1_17-stm32-merged/array.py                                    class array:        \n",
      "stubs/micropython-v1_17-stm32-merged/array.pyi                                   class array:        \n",
      "stubs/micropython-v1_18-docstubs/array.pyi                                       class array:        \n",
      "stubs/micropython-v1_18-esp32-merged/array.py                                    class array:        \n",
      "stubs/micropython-v1_18-esp32-merged/array.pyi                                   class array:        \n",
      "stubs/micropython-v1_18-esp8266-merged/array.py                                  class array:        \n",
      "stubs/micropython-v1_18-esp8266-merged/array.pyi                                 class array:        \n",
      "stubs/micropython-v1_18-rp2-merged/array.py                                      class array:        \n",
      "stubs/micropython-v1_18-rp2-merged/array.pyi                                     class array:        \n",
      "stubs/micropython-v1_18-stm32-merged/array.py                                    class array:        \n",
      "stubs/micropython-v1_18-stm32-merged/array.pyi                                   class array:        \n",
      "stubs/micropython-v1_19-docstubs/array.pyi                                       class array:        \n",
      "stubs/micropython-v1_19_1-docstubs/array.pyi                                     class array(List):  \n",
      "stubs/micropython-v1_19_1-esp32-GENERIC-merged/array.py                          class array(List):  \n",
      "stubs/micropython-v1_19_1-esp32-GENERIC-merged/array.pyi                         class array(List):  \n",
      "stubs/micropython-v1_19_1-esp32-GENERIC_S3-merged/array.py                       class array(List):  \n",
      "stubs/micropython-v1_19_1-esp32-GENERIC_S3-merged/array.pyi                      class array(List):  \n",
      "stubs/micropython-v1_19_1-esp32-GENERIC_SPIRAM-merged/array.py                   class array(List):  \n",
      "stubs/micropython-v1_19_1-esp32-GENERIC_SPIRAM-merged/array.pyi                  class array(List):  \n",
      "stubs/micropython-v1_19_1-esp32-UM_TINYPICO-merged/array.py                      class array(List):  \n",
      "stubs/micropython-v1_19_1-esp32-UM_TINYPICO-merged/array.pyi                     class array(List):  \n",
      "stubs/micropython-v1_19_1-esp8266-merged/array.py                                class array(List):  \n",
      "stubs/micropython-v1_19_1-esp8266-merged/array.pyi                               class array(List):  \n",
      "stubs/micropython-v1_19_1-rp2-merged/array.py                                    class array(List):  \n",
      "stubs/micropython-v1_19_1-rp2-merged/array.pyi                                   class array(List):  \n",
      "stubs/micropython-v1_19_1-stm32-merged/array.py                                  class array(List):  \n",
      "stubs/micropython-v1_19_1-stm32-merged/array.pyi                                 class array(List):  \n",
      "stubs/micropython-v1_20_0-docstubs/array.pyi                                     class array(List):  \n",
      "stubs/micropython-v1_20_0-esp32-GENERIC-merged/array.py                          class array(List):  \n",
      "stubs/micropython-v1_20_0-esp32-GENERIC-merged/array.pyi                         class array(List):  \n",
      "stubs/micropython-v1_20_0-esp32-GENERIC_OTA-merged/array.py                      class array(List):  \n",
      "stubs/micropython-v1_20_0-esp32-GENERIC_OTA-merged/array.pyi                     class array(List):  \n",
      "stubs/micropython-v1_20_0-esp32-GENERIC_S3-merged/array.py                       class array(List):  \n",
      "stubs/micropython-v1_20_0-esp32-GENERIC_S3-merged/array.pyi                      class array(List):  \n",
      "stubs/micropython-v1_20_0-rp2-PICO-merged/array.py                               class array(List):  \n",
      "stubs/micropython-v1_20_0-rp2-PICO-merged/array.pyi                              class array(List):  \n",
      "stubs/micropython-v1_20_0-rp2-PICO_W-merged/array.py                             class array(List):  \n",
      "stubs/micropython-v1_20_0-rp2-PICO_W-merged/array.pyi                            class array(List):  \n",
      "stubs/micropython-v1_20_0-rp2-PIMORONI_PICOLIPO_16MB-merged/array.py             class array(List):  \n",
      "stubs/micropython-v1_20_0-rp2-PIMORONI_PICOLIPO_16MB-merged/array.pyi            class array(List):  \n",
      "stubs/micropython-v1_20_0-samd-ADAFRUIT_FEATHER_M4_EXPRESS-merged/array.py       class array(List):  \n",
      "stubs/micropython-v1_20_0-samd-ADAFRUIT_FEATHER_M4_EXPRESS-merged/array.pyi      class array(List):  \n",
      "stubs/micropython-v1_20_0-samd-ADAFRUIT_ITSYBITSY_M4_EXPRESS-merged/array.py     class array(List):  \n",
      "stubs/micropython-v1_20_0-samd-ADAFRUIT_ITSYBITSY_M4_EXPRESS-merged/array.pyi    class array(List):  \n",
      "stubs/micropython-v1_20_0-samd-MINISAM_M4-merged/array.py                        class array(List):  \n",
      "stubs/micropython-v1_20_0-samd-MINISAM_M4-merged/array.pyi                       class array(List):  \n",
      "stubs/micropython-v1_20_0-samd-SEEED_WIO_TERMINAL-merged/array.py                class array(List):  \n",
      "stubs/micropython-v1_20_0-samd-SEEED_WIO_TERMINAL-merged/array.pyi               class array(List):  \n",
      "stubs/micropython-v1_20_0-stm32-PYBV11-merged/array.py                           class array(List):  \n",
      "stubs/micropython-v1_20_0-stm32-PYBV11-merged/array.pyi                          class array(List):  \n",
      "stubs/micropython-v1_21_0-docstubs/array.pyi                                     class array(List):  \n",
      "stubs/micropython-v1_21_0-esp32-ESP32_GENERIC-merged/array.py                    class array(List):  \n",
      "stubs/micropython-v1_21_0-esp32-ESP32_GENERIC-merged/array.pyi                   class array(List):  \n",
      "stubs/micropython-v1_21_0-rp2-RPI_PICO-merged/array.py                           class array(List):  \n",
      "stubs/micropython-v1_21_0-rp2-RPI_PICO-merged/array.pyi                          class array(List):  \n",
      "stubs/micropython-v1_21_0-rp2-RPI_PICO_W-merged/array.py                         class array(List):  \n",
      "stubs/micropython-v1_21_0-rp2-RPI_PICO_W-merged/array.pyi                        class array(List):  \n",
      "stubs/micropython-v1_21_0-samd-SEEED_WIO_TERMINAL-merged/array.py                class array(List):  \n",
      "stubs/micropython-v1_21_0-samd-SEEED_WIO_TERMINAL-merged/array.pyi               class array(List):  \n",
      "stubs/micropython-v1_21_0-stm32-PYBV11-merged/array.py                           class array(List):  \n",
      "stubs/micropython-v1_21_0-stm32-PYBV11-merged/array.pyi                          class array(List):  \n"
     ]
    }
   ],
   "source": [
    "data = \"\"\n",
    "for f in files:\n",
    "    with open(f, \"r\") as file:\n",
    "        data = file.read()\n",
    "        stat = \"?\"\n",
    "        if \"class array(List):\" in data:\n",
    "            stat = \"class array(List):\"\n",
    "        elif \"class array:\" in data:\n",
    "            stat = \"class array:\"\n",
    "    print(f\"{str(f.relative_to(stub_path.parent)):<80} {stat:<20}\")"
   ]
  },
  {
   "cell_type": "code",
   "execution_count": null,
   "metadata": {},
   "outputs": [],
   "source": []
  }
 ],
 "metadata": {
  "kernelspec": {
   "display_name": ".venv",
   "language": "python",
   "name": "python3"
  },
  "language_info": {
   "codemirror_mode": {
    "name": "ipython",
    "version": 3
   },
   "file_extension": ".py",
   "mimetype": "text/x-python",
   "name": "python",
   "nbconvert_exporter": "python",
   "pygments_lexer": "ipython3",
   "version": "3.9.17"
  }
 },
 "nbformat": 4,
 "nbformat_minor": 2
}
