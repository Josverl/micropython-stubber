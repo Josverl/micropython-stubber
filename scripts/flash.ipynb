{
 "cells": [
  {
   "cell_type": "code",
   "execution_count": 12,
   "metadata": {},
   "outputs": [],
   "source": [
    "import shutil, time"
   ]
  },
  {
   "cell_type": "code",
   "execution_count": 13,
   "metadata": {},
   "outputs": [],
   "source": [
    "from pathlib import Path\n",
    "\n",
    "PORT_FWTYPES = {\n",
    "    \"stm32\": \".hex\",\n",
    "    \"esp32\": \".bin\",\n",
    "    \"rp2\": \".uf2\",\n",
    "    \"samd\": \".uf2\",\n",
    "}\n",
    "\n",
    "\n",
    "def find_firmware(version: str, *, board: str = \"*\", port: str):\n",
    "    fw_folder = Path.cwd() / \"firmware\" / port\n",
    "    if not fw_folder.exists():\n",
    "        print(f\"Folder {fw_folder} does not exist\")\n",
    "        return None\n",
    "    v_str = f\"v{version}\"\n",
    "    ext = PORT_FWTYPES[port]\n",
    "    if port == \"rp2\":\n",
    "        # PICO boards were renamed to RPI_PICO starting @v1.22.0 for all versions on the download page\n",
    "        if board.startswith(\"PICO\"):\n",
    "            board = f\"RPI_{board}\"\n",
    "\n",
    "    fw_files = list(fw_folder.glob(f\"{board}-{v_str}{ext}\"))\n",
    "    if not fw_files:\n",
    "        print(f\"No firmware files found for {v_str}\")\n",
    "        return None\n",
    "    fw_files.sort()\n",
    "    yield from fw_files\n",
    "\n",
    "\n",
    "# for fw in find_firmware(\"1.22.0\", port=\"samd\", board=\"SEEED_WIO_*\"):\n",
    "#     print(fw)\n",
    "# for fw in find_firmware(\"1.22.0\", port=\"esp32\", board=\"ESP32_GENERIC-SPIRAM\"):\n",
    "#     print(fw)"
   ]
  },
  {
   "cell_type": "code",
   "execution_count": 14,
   "metadata": {},
   "outputs": [],
   "source": [
    "import gc\n",
    "import os\n",
    "\n",
    "\n",
    "LIBS = [\"../src/stubber/data\"]\n",
    "\n",
    "\n",
    "def file_exists(filename: str):\n",
    "    try:\n",
    "        if os.stat(filename)[0] >> 14:\n",
    "            return True\n",
    "        return False\n",
    "    except OSError:\n",
    "        return False\n",
    "\n",
    "\n",
    "def read_boardname(info, desc: str = \"\"):\n",
    "    found = False\n",
    "    for filename in [d + \"/board_info.csv\" for d in LIBS]:\n",
    "        # print(\"look up the board name in the file\", filename)\n",
    "        if file_exists(filename):\n",
    "            descr = desc or info[\"board\"].strip()\n",
    "            print(\"searching info file: {} for: '{}' \".format(filename, descr))\n",
    "            if find_board(info, descr, filename):\n",
    "                found = True\n",
    "                break\n",
    "    if not found:\n",
    "        print(\"Board not found, guessing board name\")\n",
    "        descr = desc or info[\"board\"].strip()\n",
    "        if \"with \" + info[\"cpu\"].upper() in descr:\n",
    "            # remove the with cpu part\n",
    "            descr = descr.split(\"with \" + info[\"cpu\"].upper())[0].strip()\n",
    "        info[\"board\"] = descr\n",
    "    info[\"board\"] = info[\"board\"].replace(\" \", \"_\")\n",
    "    gc.collect()\n",
    "\n",
    "\n",
    "def find_board(info: dict, descr: str, filename: str):\n",
    "    # find a board based on its description\n",
    "    short_hit = \"\"\n",
    "    lines = []\n",
    "    pos = descr.rfind(\" with\")\n",
    "    if pos != -1:\n",
    "        short_descr = descr[:pos].strip()\n",
    "    else:\n",
    "        short_descr = \"\"\n",
    "    try:\n",
    "        with open(filename, \"r\") as file:\n",
    "            lines = file.readlines()\n",
    "        for line in lines:\n",
    "            line = line.strip()\n",
    "            if line.startswith(\"#\"):\n",
    "                continue\n",
    "            _descr = line.split(\",\")[0].strip()\n",
    "            _board = line.split(\",\")[1].strip()\n",
    "            if _descr == descr:\n",
    "                info[\"board\"] = _board\n",
    "                return True\n",
    "            elif short_descr and _descr == short_descr:\n",
    "                if \"with\" in short_descr:\n",
    "                    # Good enough - no need to trawl the entire file\n",
    "                    info[\"board\"] = _board\n",
    "                    return True\n",
    "                # good enough if not found in the rest of the file (but slow)\n",
    "                short_hit = _board\n",
    "        if short_hit:\n",
    "            info[\"board\"] = short_hit\n",
    "            return True\n",
    "        return False\n",
    "    finally:\n",
    "        del lines\n",
    "        gc.collect()"
   ]
  },
  {
   "cell_type": "code",
   "execution_count": null,
   "metadata": {},
   "outputs": [],
   "source": []
  },
  {
   "cell_type": "code",
   "execution_count": 15,
   "metadata": {},
   "outputs": [],
   "source": [
    "from typing import Dict, Optional\n",
    "import psutil\n",
    "MCUInfo = Dict[str,str]\n",
    "def flash_uf2(mcu:MCUInfo, fw_file:Optional[Path]= None) -> Optional[MCUInfo]:\n",
    "    if not PORT_FWTYPES[mcu[\"port\"]] in [\".uf2\"]:\n",
    "        print(f\"UF2 not supported on {mcu['board']} on {mcu['serial_port']}\")\n",
    "        return None\n",
    "\n",
    "    print(f\"Entering bootloader on {mcu['board']} on {mcu['serial_port']}\")\n",
    "    %mpy --select {mcu['serial_port']}\n",
    "    %mpy --bootloader # TODO: add this to micropython-magic\n",
    "\n",
    "    destination = \"\"\n",
    "    wait = 5\n",
    "    while not destination and wait > 0:\n",
    "        print(f\"Waiting for mcu to mount as a drive : {wait} seconds left\")\n",
    "        drives = [drive.device for drive in psutil.disk_partitions()]\n",
    "        for drive in drives:\n",
    "            if Path(drive, \"INFO_UF2.TXT\").exists():\n",
    "                destination = drive\n",
    "                break\n",
    "            time.sleep(1)\n",
    "        wait -= 1\n",
    "    if not destination or not Path(destination).exists() or not Path(destination, \"INFO_UF2.TXT\").exists():\n",
    "        print(\"Board is not in bootloader mode\")\n",
    "        return None\n",
    "    else:\n",
    "        print(\"Board is in bootloader mode\")\n",
    "        fw_file = fw_file or find_firmware(target_version, port=mcu[\"port\"], board=mcu[\"board\"]).__next__()\n",
    "        print(f\"Copying {fw_file} to {destination}\")\n",
    "        shutil.copy(fw_file, destination)\n",
    "        print(\"Done copying, resetting the board and wait for it to restart\")\n",
    "        time.sleep(5)\n",
    "        new_info:MCUInfo = %mpy --select {mcu['serial_port']} --info\n",
    "        return new_info"
   ]
  },
  {
   "cell_type": "code",
   "execution_count": 16,
   "metadata": {},
   "outputs": [],
   "source": [
    "def flash_esp32(mcu:MCUInfo, fw_file:Optional[Path]= None,*, erase_flash:bool=True) -> Optional[MCUInfo]:\n",
    "    if not mcu[\"port\"] in [\"esp32\"]:\n",
    "        print(f\"ESP32 not supported on {mcu['board']} on {mcu['serial_port']}\")\n",
    "        return None\n",
    "\n",
    "    fw_file = fw_file or find_firmware(target_version, port=mcu[\"port\"], board=mcu[\"board\"]).__next__()\n",
    "    print(f\"Flashing {fw_file} on {mcu['board']} on {mcu['serial_port']}\")\n",
    "    baud_rate = str(2000000)\n",
    "    if mcu[\"cpu\"].upper()== \"ESP32\":\n",
    "        if erase_flash:\n",
    "            !esptool --chip esp32 --port {mcu[\"serial_port\"]} erase_flash\n",
    "        !esptool --chip esp32 --port {mcu[\"serial_port\"]} -b {baud_rate} write_flash -z 0x1000 {fw_file}\n",
    "    elif mcu[\"cpu\"].upper() == \"ESP32S3\":\n",
    "        if erase_flash:\n",
    "            !esptool --chip esp32s3 --port {mcu[\"serial_port\"]} erase_flash\n",
    "        !esptool --chip esp32s3 --port {mcu[\"serial_port\"]} -b {baud_rate} write_flash -z 0x0 {fw_file}\n",
    "\n",
    "    print(\"Done flashing, resetting the board and wait for it to restart\")\n",
    "    time.sleep(5)\n",
    "    new_info:MCUInfo = %mpy --select {mcu['serial_port']} --info\n",
    "    return new_info\n"
   ]
  },
  {
   "cell_type": "code",
   "execution_count": 17,
   "metadata": {},
   "outputs": [
    {
     "name": "stdout",
     "output_type": "stream",
     "text": [
      "searching info file: ../src/stubber/data/board_info.csv for: 'Raspberry Pi Pico W with RP2040' \n",
      "searching info file: ../src/stubber/data/board_info.csv for: 'Raspberry Pi Pico with RP2040' \n",
      "| ver      | version   | port   | mpy   | build   | cpu    | family      | board      | arch   | serial_port   |\n",
      "|----------|-----------|--------|-------|---------|--------|-------------|------------|--------|---------------|\n",
      "| v1.22.0. | 1.22.0    | rp2    | v6.2  |         | RP2040 | micropython | RPI_PICO_W | armv6m | COM4          |\n",
      "| v1.22.0. | 1.22.0    | rp2    | v6.2  |         | RP2040 | micropython | RPI_PICO   | armv6m | COM15         |\n"
     ]
    }
   ],
   "source": [
    "def get_dev_info():\n",
    "    devs = %mpy --list\n",
    "    ports = devs.fields(0) # list of ports\n",
    "    # build a list of dicts with info for each port and attached board \n",
    "    dev_info = []\n",
    "    for p in ports:\n",
    "        info = %mpy --select {p} --info\n",
    "        if info:\n",
    "            try:\n",
    "                info[\"version\"] = info[\"version\"].rstrip(\".\")\n",
    "                read_boardname(info)\n",
    "            finally:\n",
    "                dev_info.append(info)\n",
    "    return dev_info\n",
    "\n",
    "dev_info = get_dev_info()\n",
    "from tabulate import tabulate\n",
    "print(tabulate(dev_info, headers=\"keys\", tablefmt=\"github\"))\n"
   ]
  },
  {
   "cell_type": "code",
   "execution_count": 23,
   "metadata": {},
   "outputs": [
    {
     "name": "stdout",
     "output_type": "stream",
     "text": [
      "{'ver': 'v1.22.0.', 'version': '1.22.0', 'port': 'rp2', 'mpy': 'v6.2', 'build': '', 'cpu': 'RP2040', 'family': 'micropython', 'board': 'RPI_PICO', 'arch': 'armv6m', 'serial_port': 'COM15'}\n",
      "No firmware files found for v1.14.0\n"
     ]
    },
    {
     "ename": "StopIteration",
     "evalue": "",
     "output_type": "error",
     "traceback": [
      "\u001b[1;31m---------------------------------------------------------------------------\u001b[0m",
      "\u001b[1;31mStopIteration\u001b[0m                             Traceback (most recent call last)",
      "Cell \u001b[1;32mIn[23], line 4\u001b[0m\n\u001b[0;32m      2\u001b[0m mcu \u001b[38;5;241m=\u001b[39m dev_info[\u001b[38;5;241m1\u001b[39m]\n\u001b[0;32m      3\u001b[0m \u001b[38;5;28mprint\u001b[39m(mcu)\n\u001b[1;32m----> 4\u001b[0m \u001b[43mfind_firmware\u001b[49m\u001b[43m(\u001b[49m\u001b[43mtarget_version\u001b[49m\u001b[43m,\u001b[49m\u001b[43m \u001b[49m\u001b[43mport\u001b[49m\u001b[38;5;241;43m=\u001b[39;49m\u001b[43mmcu\u001b[49m\u001b[43m[\u001b[49m\u001b[38;5;124;43m\"\u001b[39;49m\u001b[38;5;124;43mport\u001b[39;49m\u001b[38;5;124;43m\"\u001b[39;49m\u001b[43m]\u001b[49m\u001b[43m,\u001b[49m\u001b[43m \u001b[49m\u001b[43mboard\u001b[49m\u001b[38;5;241;43m=\u001b[39;49m\u001b[43mmcu\u001b[49m\u001b[43m[\u001b[49m\u001b[38;5;124;43m\"\u001b[39;49m\u001b[38;5;124;43mboard\u001b[39;49m\u001b[38;5;124;43m\"\u001b[39;49m\u001b[43m]\u001b[49m\u001b[43m)\u001b[49m\u001b[38;5;241;43m.\u001b[39;49m\u001b[38;5;21;43m__next__\u001b[39;49m\u001b[43m(\u001b[49m\u001b[43m)\u001b[49m\n",
      "\u001b[1;31mStopIteration\u001b[0m: "
     ]
    }
   ],
   "source": [
    "target_version = \"1.14.0\"\n",
    "mcu = dev_info[1]\n",
    "print(mcu)\n",
    "find_firmware(target_version, port=mcu[\"port\"], board=mcu[\"board\"]).__next__()"
   ]
  },
  {
   "cell_type": "code",
   "execution_count": 8,
   "metadata": {},
   "outputs": [
    {
     "name": "stdout",
     "output_type": "stream",
     "text": [
      "c:\\develop\\MyPython\\micropython-stubber\\scripts\\firmware\\rp2\\RPI_PICO_W-v1.22.0.uf2 {'ver': 'v1.22.0.', 'version': '1.22.0', 'port': 'rp2', 'mpy': 'v6.2', 'build': '', 'cpu': 'RP2040', 'family': 'micropython', 'board': 'RPI_PICO_W', 'arch': 'armv6m', 'serial_port': 'COM4'}\n",
      "Entering bootloader on RPI_PICO_W on COM4\n",
      "Waiting for mcu to mount as a drive : 5 seconds left\n",
      "Waiting for mcu to mount as a drive : 4 seconds left\n",
      "Board is in bootloader mode\n",
      "Copying c:\\develop\\MyPython\\micropython-stubber\\scripts\\firmware\\rp2\\RPI_PICO_W-v1.22.0.uf2 to E:\\\n",
      "Done copying, resetting the board and wait for it to restart\n",
      "searching info file: ../src/stubber/data/board_info.csv for: 'Raspberry Pi Pico W with RP2040' \n",
      "c:\\develop\\MyPython\\micropython-stubber\\scripts\\firmware\\rp2\\RPI_PICO-v1.22.0.uf2 {'ver': 'v1.22.0.', 'version': '1.22.0', 'port': 'rp2', 'mpy': 'v6.2', 'build': '', 'cpu': 'RP2040', 'family': 'micropython', 'board': 'RPI_PICO', 'arch': 'armv6m', 'serial_port': 'COM15'}\n",
      "Entering bootloader on RPI_PICO on COM15\n",
      "Waiting for mcu to mount as a drive : 5 seconds left\n",
      "Waiting for mcu to mount as a drive : 4 seconds left\n",
      "Board is in bootloader mode\n",
      "Copying c:\\develop\\MyPython\\micropython-stubber\\scripts\\firmware\\rp2\\RPI_PICO-v1.22.0.uf2 to E:\\\n",
      "Done copying, resetting the board and wait for it to restart\n",
      "searching info file: ../src/stubber/data/board_info.csv for: 'Raspberry Pi Pico with RP2040' \n",
      "| ver      | version   | port   | mpy   | build   | cpu    | family      | board      | arch   | serial_port   |\n",
      "|----------|-----------|--------|-------|---------|--------|-------------|------------|--------|---------------|\n",
      "| v1.22.0. | 1.22.0.   | rp2    | v6.2  |         | RP2040 | micropython | RPI_PICO_W | armv6m | COM4          |\n",
      "| v1.22.0. | 1.22.0.   | rp2    | v6.2  |         | RP2040 | micropython | RPI_PICO   | armv6m | COM15         |\n"
     ]
    }
   ],
   "source": [
    "target_version = \"1.22.0\"\n",
    "updated = []\n",
    "for mcu in dev_info:\n",
    "    fw_file = find_firmware(target_version, port=mcu[\"port\"], board=mcu[\"board\"]).__next__()\n",
    "    print(fw_file, mcu)\n",
    "\n",
    "\n",
    "    new = None\n",
    "\n",
    "    if mcu[\"port\"] in [\"samd\", \"rp2\"]:\n",
    "        new = flash_uf2(mcu)\n",
    "\n",
    "    elif mcu[\"port\"] in [\"esp32\"]:\n",
    "        new = flash_esp32(mcu, erase_flash=False)\n",
    "\n",
    "    if new:\n",
    "        read_boardname(new)\n",
    "        updated.append(new)\n",
    "\n",
    "\n",
    "print(tabulate(updated, headers=\"keys\", tablefmt=\"github\"))"
   ]
  },
  {
   "cell_type": "code",
   "execution_count": 9,
   "metadata": {},
   "outputs": [
    {
     "data": {
      "text/plain": [
       "'.uf2'"
      ]
     },
     "execution_count": 9,
     "metadata": {},
     "output_type": "execute_result"
    }
   ],
   "source": [
    "PORT_FWTYPES[mcu[\"port\"]]"
   ]
  },
  {
   "cell_type": "code",
   "execution_count": null,
   "metadata": {},
   "outputs": [],
   "source": []
  }
 ],
 "metadata": {
  "kernelspec": {
   "display_name": ".venv",
   "language": "python",
   "name": "python3"
  },
  "language_info": {
   "codemirror_mode": {
    "name": "ipython",
    "version": 3
   },
   "file_extension": ".py",
   "mimetype": "text/x-python",
   "name": "python",
   "nbconvert_exporter": "python",
   "pygments_lexer": "ipython3",
   "version": "3.11.7"
  }
 },
 "nbformat": 4,
 "nbformat_minor": 2
}
