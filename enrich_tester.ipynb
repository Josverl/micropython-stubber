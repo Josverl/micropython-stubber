{
 "cells": [
  {
   "cell_type": "markdown",
   "metadata": {},
   "source": [
    "Try to merge in overloads from other maintainers \n",
    "----\n",
    "\n",
    "- clone to repos \n",
    "- new docstubs \n",
    "- merge in overloads"
   ]
  },
  {
   "cell_type": "code",
   "execution_count": 4,
   "metadata": {},
   "outputs": [
    {
     "data": {
      "text/html": [
       "<pre style=\"white-space:pre;overflow-x:auto;line-height:normal;font-family:Menlo,'DejaVu Sans Mono',consolas,'Courier New',monospace\"><span style=\"color: #008000; text-decoration-color: #008000\">09:06:30</span> | ℹ️ <span style=\"font-weight: bold\">micropython-stubber </span><span style=\"color: #008080; text-decoration-color: #008080; font-weight: bold\">1.23</span><span style=\"font-weight: bold\">.2a0</span>\n",
       "</pre>\n"
      ],
      "text/plain": [
       "\u001b[32m09:06:30\u001b[0m | ℹ️ \u001b[1mmicropython-stubber \u001b[0m\u001b[1;36m1.23\u001b[0m\u001b[1m.2a0\u001b[0m\n"
      ]
     },
     "metadata": {},
     "output_type": "display_data"
    },
    {
     "data": {
      "text/html": [
       "<pre style=\"white-space:pre;overflow-x:auto;line-height:normal;font-family:Menlo,'DejaVu Sans Mono',consolas,'Courier New',monospace\"><span style=\"color: #008000; text-decoration-color: #008000\">09:06:30</span> | ℹ️ <span style=\"font-weight: bold\">fetch updates</span>\n",
       "</pre>\n"
      ],
      "text/plain": [
       "\u001b[32m09:06:30\u001b[0m | ℹ️ \u001b[1mfetch updates\u001b[0m\n"
      ]
     },
     "metadata": {},
     "output_type": "display_data"
    },
    {
     "data": {
      "text/html": [
       "<pre style=\"white-space:pre;overflow-x:auto;line-height:normal;font-family:Menlo,'DejaVu Sans Mono',consolas,'Courier New',monospace\"><span style=\"color: #008000; text-decoration-color: #008000\">09:06:32</span> | ℹ️ <span style=\"font-weight: bold\">Switching to v1.</span><span style=\"color: #008080; text-decoration-color: #008080; font-weight: bold\">23.0</span>\n",
       "</pre>\n"
      ],
      "text/plain": [
       "\u001b[32m09:06:32\u001b[0m | ℹ️ \u001b[1mSwitching to v1.\u001b[0m\u001b[1;36m23.0\u001b[0m\n"
      ]
     },
     "metadata": {},
     "output_type": "display_data"
    },
    {
     "data": {
      "text/html": [
       "<pre style=\"white-space:pre;overflow-x:auto;line-height:normal;font-family:Menlo,'DejaVu Sans Mono',consolas,'Courier New',monospace\"><span style=\"color: #008000; text-decoration-color: #008000\">09:06:34</span> | ℹ️ <span style=\"font-weight: bold\">repos\\micropython                        v1.</span><span style=\"color: #008080; text-decoration-color: #008080; font-weight: bold\">23.0</span>\n",
       "</pre>\n"
      ],
      "text/plain": [
       "\u001b[32m09:06:34\u001b[0m | ℹ️ \u001b[1mrepos\\micropython                        v1.\u001b[0m\u001b[1;36m23.0\u001b[0m\n"
      ]
     },
     "metadata": {},
     "output_type": "display_data"
    },
    {
     "data": {
      "text/html": [
       "<pre style=\"white-space:pre;overflow-x:auto;line-height:normal;font-family:Menlo,'DejaVu Sans Mono',consolas,'Courier New',monospace\"><span style=\"color: #008000; text-decoration-color: #008000\">09:06:34</span> | ℹ️ <span style=\"font-weight: bold\">repos\\micropython-lib                    v1.</span><span style=\"color: #008080; text-decoration-color: #008080; font-weight: bold\">23.0</span>\n",
       "</pre>\n"
      ],
      "text/plain": [
       "\u001b[32m09:06:34\u001b[0m | ℹ️ \u001b[1mrepos\\micropython-lib                    v1.\u001b[0m\u001b[1;36m23.0\u001b[0m\n"
      ]
     },
     "metadata": {},
     "output_type": "display_data"
    },
    {
     "data": {
      "text/html": [
       "<pre style=\"white-space:pre;overflow-x:auto;line-height:normal;font-family:Menlo,'DejaVu Sans Mono',consolas,'Courier New',monospace\"><span style=\"color: #008000; text-decoration-color: #008000\">09:06:34</span> | ℹ️ <span style=\"font-weight: bold\">repos\\micropython\\lib\\micropython-lib    v1.</span><span style=\"color: #008080; text-decoration-color: #008080; font-weight: bold\">23.0</span>\n",
       "</pre>\n"
      ],
      "text/plain": [
       "\u001b[32m09:06:34\u001b[0m | ℹ️ \u001b[1mrepos\\micropython\\lib\\micropython-lib    v1.\u001b[0m\u001b[1;36m23.0\u001b[0m\n"
      ]
     },
     "metadata": {},
     "output_type": "display_data"
    },
    {
     "data": {
      "text/html": [
       "<pre style=\"white-space:pre;overflow-x:auto;line-height:normal;font-family:Menlo,'DejaVu Sans Mono',consolas,'Courier New',monospace\"><span style=\"color: #008000; text-decoration-color: #008000\">09:06:34</span> | ℹ️ <span style=\"font-weight: bold\">Get docstubs for MicroPython v1.</span><span style=\"color: #008080; text-decoration-color: #008080; font-weight: bold\">23.0</span>\n",
       "</pre>\n"
      ],
      "text/plain": [
       "\u001b[32m09:06:34\u001b[0m | ℹ️ \u001b[1mGet docstubs for MicroPython v1.\u001b[0m\u001b[1;36m23.0\u001b[0m\n"
      ]
     },
     "metadata": {},
     "output_type": "display_data"
    },
    {
     "data": {
      "text/html": [
       "<pre style=\"white-space:pre;overflow-x:auto;line-height:normal;font-family:Menlo,'DejaVu Sans Mono',consolas,'Courier New',monospace\"><span style=\"color: #008000; text-decoration-color: #008000\">09:06:34</span> | ℹ️ <span style=\"font-weight: bold\"> - Writing to: repos\\micropython-stubs\\stubs\\micropython-v1_23_0-docstubs\\array\\__init__.pyi</span>\n",
       "</pre>\n"
      ],
      "text/plain": [
       "\u001b[32m09:06:34\u001b[0m | ℹ️ \u001b[1m - Writing to: repos\\micropython-stubs\\stubs\\micropython-v1_23_0-docstubs\\array\\__init__.pyi\u001b[0m\n"
      ]
     },
     "metadata": {},
     "output_type": "display_data"
    },
    {
     "data": {
      "text/html": [
       "<pre style=\"white-space:pre;overflow-x:auto;line-height:normal;font-family:Menlo,'DejaVu Sans Mono',consolas,'Courier New',monospace\"><span style=\"color: #008000; text-decoration-color: #008000\">09:06:34</span> | ℹ️ <span style=\"font-weight: bold\"> - Writing to: repos\\micropython-stubs\\stubs\\micropython-v1_23_0-docstubs\\asyncio\\__init__.pyi</span>\n",
       "</pre>\n"
      ],
      "text/plain": [
       "\u001b[32m09:06:34\u001b[0m | ℹ️ \u001b[1m - Writing to: repos\\micropython-stubs\\stubs\\micropython-v1_23_0-docstubs\\asyncio\\__init__.pyi\u001b[0m\n"
      ]
     },
     "metadata": {},
     "output_type": "display_data"
    },
    {
     "data": {
      "text/html": [
       "<pre style=\"white-space:pre;overflow-x:auto;line-height:normal;font-family:Menlo,'DejaVu Sans Mono',consolas,'Courier New',monospace\"><span style=\"color: #008000; text-decoration-color: #008000\">09:06:34</span> | ℹ️ <span style=\"font-weight: bold\"> - Writing to: repos\\micropython-stubs\\stubs\\micropython-v1_23_0-docstubs\\binascii\\__init__.pyi</span>\n",
       "</pre>\n"
      ],
      "text/plain": [
       "\u001b[32m09:06:34\u001b[0m | ℹ️ \u001b[1m - Writing to: repos\\micropython-stubs\\stubs\\micropython-v1_23_0-docstubs\\binascii\\__init__.pyi\u001b[0m\n"
      ]
     },
     "metadata": {},
     "output_type": "display_data"
    },
    {
     "data": {
      "text/html": [
       "<pre style=\"white-space:pre;overflow-x:auto;line-height:normal;font-family:Menlo,'DejaVu Sans Mono',consolas,'Courier New',monospace\"><span style=\"color: #008000; text-decoration-color: #008000\">09:06:34</span> | ℹ️ <span style=\"font-weight: bold\"> - Writing to: repos\\micropython-stubs\\stubs\\micropython-v1_23_0-docstubs\\bluetooth\\__init__.pyi</span>\n",
       "</pre>\n"
      ],
      "text/plain": [
       "\u001b[32m09:06:34\u001b[0m | ℹ️ \u001b[1m - Writing to: repos\\micropython-stubs\\stubs\\micropython-v1_23_0-docstubs\\bluetooth\\__init__.pyi\u001b[0m\n"
      ]
     },
     "metadata": {},
     "output_type": "display_data"
    },
    {
     "data": {
      "text/html": [
       "<pre style=\"white-space:pre;overflow-x:auto;line-height:normal;font-family:Menlo,'DejaVu Sans Mono',consolas,'Courier New',monospace\"><span style=\"color: #008000; text-decoration-color: #008000\">09:06:34</span> | ℹ️ <span style=\"font-weight: bold\"> - Writing to: repos\\micropython-stubs\\stubs\\micropython-v1_23_0-docstubs\\btree\\__init__.pyi</span>\n",
       "</pre>\n"
      ],
      "text/plain": [
       "\u001b[32m09:06:34\u001b[0m | ℹ️ \u001b[1m - Writing to: repos\\micropython-stubs\\stubs\\micropython-v1_23_0-docstubs\\btree\\__init__.pyi\u001b[0m\n"
      ]
     },
     "metadata": {},
     "output_type": "display_data"
    },
    {
     "data": {
      "text/html": [
       "<pre style=\"white-space:pre;overflow-x:auto;line-height:normal;font-family:Menlo,'DejaVu Sans Mono',consolas,'Courier New',monospace\"><span style=\"color: #008000; text-decoration-color: #008000\">09:06:34</span> | ℹ️ <span style=\"font-weight: bold\"> - Writing to: repos\\micropython-stubs\\stubs\\micropython-v1_23_0-docstubs\\cmath\\__init__.pyi</span>\n",
       "</pre>\n"
      ],
      "text/plain": [
       "\u001b[32m09:06:34\u001b[0m | ℹ️ \u001b[1m - Writing to: repos\\micropython-stubs\\stubs\\micropython-v1_23_0-docstubs\\cmath\\__init__.pyi\u001b[0m\n"
      ]
     },
     "metadata": {},
     "output_type": "display_data"
    },
    {
     "data": {
      "text/html": [
       "<pre style=\"white-space:pre;overflow-x:auto;line-height:normal;font-family:Menlo,'DejaVu Sans Mono',consolas,'Courier New',monospace\"><span style=\"color: #008000; text-decoration-color: #008000\">09:06:34</span> | ℹ️ <span style=\"font-weight: bold\"> - Writing to: repos\\micropython-stubs\\stubs\\micropython-v1_23_0-docstubs\\collections\\__init__.pyi</span>\n",
       "</pre>\n"
      ],
      "text/plain": [
       "\u001b[32m09:06:34\u001b[0m | ℹ️ \u001b[1m - Writing to: repos\\micropython-stubs\\stubs\\micropython-v1_23_0-docstubs\\collections\\__init__.pyi\u001b[0m\n"
      ]
     },
     "metadata": {},
     "output_type": "display_data"
    },
    {
     "data": {
      "text/html": [
       "<pre style=\"white-space:pre;overflow-x:auto;line-height:normal;font-family:Menlo,'DejaVu Sans Mono',consolas,'Courier New',monospace\"><span style=\"color: #008000; text-decoration-color: #008000\">09:06:34</span> | ℹ️ <span style=\"font-weight: bold\"> - Writing to: repos\\micropython-stubs\\stubs\\micropython-v1_23_0-docstubs\\cryptolib\\__init__.pyi</span>\n",
       "</pre>\n"
      ],
      "text/plain": [
       "\u001b[32m09:06:34\u001b[0m | ℹ️ \u001b[1m - Writing to: repos\\micropython-stubs\\stubs\\micropython-v1_23_0-docstubs\\cryptolib\\__init__.pyi\u001b[0m\n"
      ]
     },
     "metadata": {},
     "output_type": "display_data"
    },
    {
     "data": {
      "text/html": [
       "<pre style=\"white-space:pre;overflow-x:auto;line-height:normal;font-family:Menlo,'DejaVu Sans Mono',consolas,'Courier New',monospace\"><span style=\"color: #008000; text-decoration-color: #008000\">09:06:34</span> | ℹ️ <span style=\"font-weight: bold\"> - Writing to: repos\\micropython-stubs\\stubs\\micropython-v1_23_0-docstubs\\deflate\\__init__.pyi</span>\n",
       "</pre>\n"
      ],
      "text/plain": [
       "\u001b[32m09:06:34\u001b[0m | ℹ️ \u001b[1m - Writing to: repos\\micropython-stubs\\stubs\\micropython-v1_23_0-docstubs\\deflate\\__init__.pyi\u001b[0m\n"
      ]
     },
     "metadata": {},
     "output_type": "display_data"
    },
    {
     "data": {
      "text/html": [
       "<pre style=\"white-space:pre;overflow-x:auto;line-height:normal;font-family:Menlo,'DejaVu Sans Mono',consolas,'Courier New',monospace\"><span style=\"color: #008000; text-decoration-color: #008000\">09:06:34</span> | ℹ️ <span style=\"font-weight: bold\"> - Writing to: repos\\micropython-stubs\\stubs\\micropython-v1_23_0-docstubs\\errno\\__init__.pyi</span>\n",
       "</pre>\n"
      ],
      "text/plain": [
       "\u001b[32m09:06:34\u001b[0m | ℹ️ \u001b[1m - Writing to: repos\\micropython-stubs\\stubs\\micropython-v1_23_0-docstubs\\errno\\__init__.pyi\u001b[0m\n"
      ]
     },
     "metadata": {},
     "output_type": "display_data"
    },
    {
     "data": {
      "text/html": [
       "<pre style=\"white-space:pre;overflow-x:auto;line-height:normal;font-family:Menlo,'DejaVu Sans Mono',consolas,'Courier New',monospace\"><span style=\"color: #008000; text-decoration-color: #008000\">09:06:34</span> | ℹ️ <span style=\"font-weight: bold\"> - Writing to: repos\\micropython-stubs\\stubs\\micropython-v1_23_0-docstubs\\esp\\__init__.pyi</span>\n",
       "</pre>\n"
      ],
      "text/plain": [
       "\u001b[32m09:06:34\u001b[0m | ℹ️ \u001b[1m - Writing to: repos\\micropython-stubs\\stubs\\micropython-v1_23_0-docstubs\\esp\\__init__.pyi\u001b[0m\n"
      ]
     },
     "metadata": {},
     "output_type": "display_data"
    },
    {
     "data": {
      "text/html": [
       "<pre style=\"white-space:pre;overflow-x:auto;line-height:normal;font-family:Menlo,'DejaVu Sans Mono',consolas,'Courier New',monospace\"><span style=\"color: #008000; text-decoration-color: #008000\">09:06:34</span> | ℹ️ <span style=\"font-weight: bold\"> - Writing to: repos\\micropython-stubs\\stubs\\micropython-v1_23_0-docstubs\\esp32\\__init__.pyi</span>\n",
       "</pre>\n"
      ],
      "text/plain": [
       "\u001b[32m09:06:34\u001b[0m | ℹ️ \u001b[1m - Writing to: repos\\micropython-stubs\\stubs\\micropython-v1_23_0-docstubs\\esp32\\__init__.pyi\u001b[0m\n"
      ]
     },
     "metadata": {},
     "output_type": "display_data"
    },
    {
     "data": {
      "text/html": [
       "<pre style=\"white-space:pre;overflow-x:auto;line-height:normal;font-family:Menlo,'DejaVu Sans Mono',consolas,'Courier New',monospace\"><span style=\"color: #008000; text-decoration-color: #008000\">09:06:34</span> | ℹ️ <span style=\"font-weight: bold\"> - Writing to: repos\\micropython-stubs\\stubs\\micropython-v1_23_0-docstubs\\espnow\\__init__.pyi</span>\n",
       "</pre>\n"
      ],
      "text/plain": [
       "\u001b[32m09:06:34\u001b[0m | ℹ️ \u001b[1m - Writing to: repos\\micropython-stubs\\stubs\\micropython-v1_23_0-docstubs\\espnow\\__init__.pyi\u001b[0m\n"
      ]
     },
     "metadata": {},
     "output_type": "display_data"
    },
    {
     "data": {
      "text/html": [
       "<pre style=\"white-space:pre;overflow-x:auto;line-height:normal;font-family:Menlo,'DejaVu Sans Mono',consolas,'Courier New',monospace\"><span style=\"color: #008000; text-decoration-color: #008000\">09:06:34</span> | ℹ️ <span style=\"font-weight: bold\"> - Writing to: repos\\micropython-stubs\\stubs\\micropython-v1_23_0-docstubs\\framebuf\\__init__.pyi</span>\n",
       "</pre>\n"
      ],
      "text/plain": [
       "\u001b[32m09:06:34\u001b[0m | ℹ️ \u001b[1m - Writing to: repos\\micropython-stubs\\stubs\\micropython-v1_23_0-docstubs\\framebuf\\__init__.pyi\u001b[0m\n"
      ]
     },
     "metadata": {},
     "output_type": "display_data"
    },
    {
     "data": {
      "text/html": [
       "<pre style=\"white-space:pre;overflow-x:auto;line-height:normal;font-family:Menlo,'DejaVu Sans Mono',consolas,'Courier New',monospace\"><span style=\"color: #008000; text-decoration-color: #008000\">09:06:34</span> | ℹ️ <span style=\"font-weight: bold\"> - Writing to: repos\\micropython-stubs\\stubs\\micropython-v1_23_0-docstubs\\gc\\__init__.pyi</span>\n",
       "</pre>\n"
      ],
      "text/plain": [
       "\u001b[32m09:06:34\u001b[0m | ℹ️ \u001b[1m - Writing to: repos\\micropython-stubs\\stubs\\micropython-v1_23_0-docstubs\\gc\\__init__.pyi\u001b[0m\n"
      ]
     },
     "metadata": {},
     "output_type": "display_data"
    },
    {
     "data": {
      "text/html": [
       "<pre style=\"white-space:pre;overflow-x:auto;line-height:normal;font-family:Menlo,'DejaVu Sans Mono',consolas,'Courier New',monospace\"><span style=\"color: #008000; text-decoration-color: #008000\">09:06:34</span> | ℹ️ <span style=\"font-weight: bold\"> - Writing to: repos\\micropython-stubs\\stubs\\micropython-v1_23_0-docstubs\\gzip\\__init__.pyi</span>\n",
       "</pre>\n"
      ],
      "text/plain": [
       "\u001b[32m09:06:34\u001b[0m | ℹ️ \u001b[1m - Writing to: repos\\micropython-stubs\\stubs\\micropython-v1_23_0-docstubs\\gzip\\__init__.pyi\u001b[0m\n"
      ]
     },
     "metadata": {},
     "output_type": "display_data"
    },
    {
     "data": {
      "text/html": [
       "<pre style=\"white-space:pre;overflow-x:auto;line-height:normal;font-family:Menlo,'DejaVu Sans Mono',consolas,'Courier New',monospace\"><span style=\"color: #008000; text-decoration-color: #008000\">09:06:34</span> | ℹ️ <span style=\"font-weight: bold\"> - Writing to: repos\\micropython-stubs\\stubs\\micropython-v1_23_0-docstubs\\hashlib\\__init__.pyi</span>\n",
       "</pre>\n"
      ],
      "text/plain": [
       "\u001b[32m09:06:34\u001b[0m | ℹ️ \u001b[1m - Writing to: repos\\micropython-stubs\\stubs\\micropython-v1_23_0-docstubs\\hashlib\\__init__.pyi\u001b[0m\n"
      ]
     },
     "metadata": {},
     "output_type": "display_data"
    },
    {
     "data": {
      "text/html": [
       "<pre style=\"white-space:pre;overflow-x:auto;line-height:normal;font-family:Menlo,'DejaVu Sans Mono',consolas,'Courier New',monospace\"><span style=\"color: #008000; text-decoration-color: #008000\">09:06:34</span> | ℹ️ <span style=\"font-weight: bold\"> - Writing to: repos\\micropython-stubs\\stubs\\micropython-v1_23_0-docstubs\\heapq\\__init__.pyi</span>\n",
       "</pre>\n"
      ],
      "text/plain": [
       "\u001b[32m09:06:34\u001b[0m | ℹ️ \u001b[1m - Writing to: repos\\micropython-stubs\\stubs\\micropython-v1_23_0-docstubs\\heapq\\__init__.pyi\u001b[0m\n"
      ]
     },
     "metadata": {},
     "output_type": "display_data"
    },
    {
     "data": {
      "text/html": [
       "<pre style=\"white-space:pre;overflow-x:auto;line-height:normal;font-family:Menlo,'DejaVu Sans Mono',consolas,'Courier New',monospace\"><span style=\"color: #008000; text-decoration-color: #008000\">09:06:34</span> | ℹ️ <span style=\"font-weight: bold\"> - Writing to: repos\\micropython-stubs\\stubs\\micropython-v1_23_0-docstubs\\io\\__init__.pyi</span>\n",
       "</pre>\n"
      ],
      "text/plain": [
       "\u001b[32m09:06:34\u001b[0m | ℹ️ \u001b[1m - Writing to: repos\\micropython-stubs\\stubs\\micropython-v1_23_0-docstubs\\io\\__init__.pyi\u001b[0m\n"
      ]
     },
     "metadata": {},
     "output_type": "display_data"
    },
    {
     "data": {
      "text/html": [
       "<pre style=\"white-space:pre;overflow-x:auto;line-height:normal;font-family:Menlo,'DejaVu Sans Mono',consolas,'Courier New',monospace\"><span style=\"color: #008000; text-decoration-color: #008000\">09:06:34</span> | ℹ️ <span style=\"font-weight: bold\"> - Writing to: repos\\micropython-stubs\\stubs\\micropython-v1_23_0-docstubs\\json\\__init__.pyi</span>\n",
       "</pre>\n"
      ],
      "text/plain": [
       "\u001b[32m09:06:34\u001b[0m | ℹ️ \u001b[1m - Writing to: repos\\micropython-stubs\\stubs\\micropython-v1_23_0-docstubs\\json\\__init__.pyi\u001b[0m\n"
      ]
     },
     "metadata": {},
     "output_type": "display_data"
    },
    {
     "data": {
      "text/html": [
       "<pre style=\"white-space:pre;overflow-x:auto;line-height:normal;font-family:Menlo,'DejaVu Sans Mono',consolas,'Courier New',monospace\"><span style=\"color: #008000; text-decoration-color: #008000\">09:06:34</span> | ℹ️ <span style=\"font-weight: bold\"> - Writing to: repos\\micropython-stubs\\stubs\\micropython-v1_23_0-docstubs\\lcd160cr\\__init__.pyi</span>\n",
       "</pre>\n"
      ],
      "text/plain": [
       "\u001b[32m09:06:34\u001b[0m | ℹ️ \u001b[1m - Writing to: repos\\micropython-stubs\\stubs\\micropython-v1_23_0-docstubs\\lcd160cr\\__init__.pyi\u001b[0m\n"
      ]
     },
     "metadata": {},
     "output_type": "display_data"
    },
    {
     "data": {
      "text/html": [
       "<pre style=\"white-space:pre;overflow-x:auto;line-height:normal;font-family:Menlo,'DejaVu Sans Mono',consolas,'Courier New',monospace\"><span style=\"color: #008000; text-decoration-color: #008000\">09:06:34</span> | ℹ️ <span style=\"font-weight: bold\"> - Writing to: repos\\micropython-stubs\\stubs\\micropython-v1_23_0-docstubs\\machine\\ADC.pyi</span>\n",
       "</pre>\n"
      ],
      "text/plain": [
       "\u001b[32m09:06:34\u001b[0m | ℹ️ \u001b[1m - Writing to: repos\\micropython-stubs\\stubs\\micropython-v1_23_0-docstubs\\machine\\ADC.pyi\u001b[0m\n"
      ]
     },
     "metadata": {},
     "output_type": "display_data"
    },
    {
     "data": {
      "text/html": [
       "<pre style=\"white-space:pre;overflow-x:auto;line-height:normal;font-family:Menlo,'DejaVu Sans Mono',consolas,'Courier New',monospace\"><span style=\"color: #008000; text-decoration-color: #008000\">09:06:34</span> | ℹ️ <span style=\"font-weight: bold\"> - Writing to: repos\\micropython-stubs\\stubs\\micropython-v1_23_0-docstubs\\machine\\ADCBlock.pyi</span>\n",
       "</pre>\n"
      ],
      "text/plain": [
       "\u001b[32m09:06:34\u001b[0m | ℹ️ \u001b[1m - Writing to: repos\\micropython-stubs\\stubs\\micropython-v1_23_0-docstubs\\machine\\ADCBlock.pyi\u001b[0m\n"
      ]
     },
     "metadata": {},
     "output_type": "display_data"
    },
    {
     "data": {
      "text/html": [
       "<pre style=\"white-space:pre;overflow-x:auto;line-height:normal;font-family:Menlo,'DejaVu Sans Mono',consolas,'Courier New',monospace\"><span style=\"color: #008000; text-decoration-color: #008000\">09:06:34</span> | ℹ️ <span style=\"font-weight: bold\"> - Writing to: repos\\micropython-stubs\\stubs\\micropython-v1_23_0-docstubs\\machine\\ADCWiPy.pyi</span>\n",
       "</pre>\n"
      ],
      "text/plain": [
       "\u001b[32m09:06:34\u001b[0m | ℹ️ \u001b[1m - Writing to: repos\\micropython-stubs\\stubs\\micropython-v1_23_0-docstubs\\machine\\ADCWiPy.pyi\u001b[0m\n"
      ]
     },
     "metadata": {},
     "output_type": "display_data"
    },
    {
     "data": {
      "text/html": [
       "<pre style=\"white-space:pre;overflow-x:auto;line-height:normal;font-family:Menlo,'DejaVu Sans Mono',consolas,'Courier New',monospace\"><span style=\"color: #008000; text-decoration-color: #008000\">09:06:34</span> | ℹ️ <span style=\"font-weight: bold\"> - Writing to: repos\\micropython-stubs\\stubs\\micropython-v1_23_0-docstubs\\machine\\I2C.pyi</span>\n",
       "</pre>\n"
      ],
      "text/plain": [
       "\u001b[32m09:06:34\u001b[0m | ℹ️ \u001b[1m - Writing to: repos\\micropython-stubs\\stubs\\micropython-v1_23_0-docstubs\\machine\\I2C.pyi\u001b[0m\n"
      ]
     },
     "metadata": {},
     "output_type": "display_data"
    },
    {
     "data": {
      "text/html": [
       "<pre style=\"white-space:pre;overflow-x:auto;line-height:normal;font-family:Menlo,'DejaVu Sans Mono',consolas,'Courier New',monospace\"><span style=\"color: #008000; text-decoration-color: #008000\">09:06:34</span> | ℹ️ <span style=\"font-weight: bold\"> - Writing to: repos\\micropython-stubs\\stubs\\micropython-v1_23_0-docstubs\\machine\\I2S.pyi</span>\n",
       "</pre>\n"
      ],
      "text/plain": [
       "\u001b[32m09:06:34\u001b[0m | ℹ️ \u001b[1m - Writing to: repos\\micropython-stubs\\stubs\\micropython-v1_23_0-docstubs\\machine\\I2S.pyi\u001b[0m\n"
      ]
     },
     "metadata": {},
     "output_type": "display_data"
    },
    {
     "data": {
      "text/html": [
       "<pre style=\"white-space:pre;overflow-x:auto;line-height:normal;font-family:Menlo,'DejaVu Sans Mono',consolas,'Courier New',monospace\"><span style=\"color: #008000; text-decoration-color: #008000\">09:06:34</span> | ℹ️ <span style=\"font-weight: bold\"> - Writing to: repos\\micropython-stubs\\stubs\\micropython-v1_23_0-docstubs\\machine\\Pin.pyi</span>\n",
       "</pre>\n"
      ],
      "text/plain": [
       "\u001b[32m09:06:34\u001b[0m | ℹ️ \u001b[1m - Writing to: repos\\micropython-stubs\\stubs\\micropython-v1_23_0-docstubs\\machine\\Pin.pyi\u001b[0m\n"
      ]
     },
     "metadata": {},
     "output_type": "display_data"
    },
    {
     "data": {
      "text/html": [
       "<pre style=\"white-space:pre;overflow-x:auto;line-height:normal;font-family:Menlo,'DejaVu Sans Mono',consolas,'Courier New',monospace\"><span style=\"color: #008000; text-decoration-color: #008000\">09:06:34</span> | ℹ️ <span style=\"font-weight: bold\"> - Writing to: repos\\micropython-stubs\\stubs\\micropython-v1_23_0-docstubs\\machine\\PWM.pyi</span>\n",
       "</pre>\n"
      ],
      "text/plain": [
       "\u001b[32m09:06:34\u001b[0m | ℹ️ \u001b[1m - Writing to: repos\\micropython-stubs\\stubs\\micropython-v1_23_0-docstubs\\machine\\PWM.pyi\u001b[0m\n"
      ]
     },
     "metadata": {},
     "output_type": "display_data"
    },
    {
     "data": {
      "text/html": [
       "<pre style=\"white-space:pre;overflow-x:auto;line-height:normal;font-family:Menlo,'DejaVu Sans Mono',consolas,'Courier New',monospace\"><span style=\"color: #008000; text-decoration-color: #008000\">09:06:34</span> | ℹ️ <span style=\"font-weight: bold\"> - Writing to: repos\\micropython-stubs\\stubs\\micropython-v1_23_0-docstubs\\machine\\__init__.pyi</span>\n",
       "</pre>\n"
      ],
      "text/plain": [
       "\u001b[32m09:06:34\u001b[0m | ℹ️ \u001b[1m - Writing to: repos\\micropython-stubs\\stubs\\micropython-v1_23_0-docstubs\\machine\\__init__.pyi\u001b[0m\n"
      ]
     },
     "metadata": {},
     "output_type": "display_data"
    },
    {
     "data": {
      "text/html": [
       "<pre style=\"white-space:pre;overflow-x:auto;line-height:normal;font-family:Menlo,'DejaVu Sans Mono',consolas,'Courier New',monospace\"><span style=\"color: #008000; text-decoration-color: #008000\">09:06:34</span> | ℹ️ <span style=\"font-weight: bold\"> - Writing to: repos\\micropython-stubs\\stubs\\micropython-v1_23_0-docstubs\\machine\\RTC.pyi</span>\n",
       "</pre>\n"
      ],
      "text/plain": [
       "\u001b[32m09:06:34\u001b[0m | ℹ️ \u001b[1m - Writing to: repos\\micropython-stubs\\stubs\\micropython-v1_23_0-docstubs\\machine\\RTC.pyi\u001b[0m\n"
      ]
     },
     "metadata": {},
     "output_type": "display_data"
    },
    {
     "data": {
      "text/html": [
       "<pre style=\"white-space:pre;overflow-x:auto;line-height:normal;font-family:Menlo,'DejaVu Sans Mono',consolas,'Courier New',monospace\"><span style=\"color: #008000; text-decoration-color: #008000\">09:06:34</span> | ℹ️ <span style=\"font-weight: bold\"> - Writing to: repos\\micropython-stubs\\stubs\\micropython-v1_23_0-docstubs\\machine\\SD.pyi</span>\n",
       "</pre>\n"
      ],
      "text/plain": [
       "\u001b[32m09:06:34\u001b[0m | ℹ️ \u001b[1m - Writing to: repos\\micropython-stubs\\stubs\\micropython-v1_23_0-docstubs\\machine\\SD.pyi\u001b[0m\n"
      ]
     },
     "metadata": {},
     "output_type": "display_data"
    },
    {
     "data": {
      "text/html": [
       "<pre style=\"white-space:pre;overflow-x:auto;line-height:normal;font-family:Menlo,'DejaVu Sans Mono',consolas,'Courier New',monospace\"><span style=\"color: #008000; text-decoration-color: #008000\">09:06:34</span> | ℹ️ <span style=\"font-weight: bold\"> - Writing to: repos\\micropython-stubs\\stubs\\micropython-v1_23_0-docstubs\\machine\\SDCard.pyi</span>\n",
       "</pre>\n"
      ],
      "text/plain": [
       "\u001b[32m09:06:34\u001b[0m | ℹ️ \u001b[1m - Writing to: repos\\micropython-stubs\\stubs\\micropython-v1_23_0-docstubs\\machine\\SDCard.pyi\u001b[0m\n"
      ]
     },
     "metadata": {},
     "output_type": "display_data"
    },
    {
     "data": {
      "text/html": [
       "<pre style=\"white-space:pre;overflow-x:auto;line-height:normal;font-family:Menlo,'DejaVu Sans Mono',consolas,'Courier New',monospace\"><span style=\"color: #008000; text-decoration-color: #008000\">09:06:34</span> | ℹ️ <span style=\"font-weight: bold\"> - Writing to: repos\\micropython-stubs\\stubs\\micropython-v1_23_0-docstubs\\machine\\Signal.pyi</span>\n",
       "</pre>\n"
      ],
      "text/plain": [
       "\u001b[32m09:06:34\u001b[0m | ℹ️ \u001b[1m - Writing to: repos\\micropython-stubs\\stubs\\micropython-v1_23_0-docstubs\\machine\\Signal.pyi\u001b[0m\n"
      ]
     },
     "metadata": {},
     "output_type": "display_data"
    },
    {
     "data": {
      "text/html": [
       "<pre style=\"white-space:pre;overflow-x:auto;line-height:normal;font-family:Menlo,'DejaVu Sans Mono',consolas,'Courier New',monospace\"><span style=\"color: #008000; text-decoration-color: #008000\">09:06:35</span> | ℹ️ <span style=\"font-weight: bold\"> - Writing to: repos\\micropython-stubs\\stubs\\micropython-v1_23_0-docstubs\\machine\\SPI.pyi</span>\n",
       "</pre>\n"
      ],
      "text/plain": [
       "\u001b[32m09:06:35\u001b[0m | ℹ️ \u001b[1m - Writing to: repos\\micropython-stubs\\stubs\\micropython-v1_23_0-docstubs\\machine\\SPI.pyi\u001b[0m\n"
      ]
     },
     "metadata": {},
     "output_type": "display_data"
    },
    {
     "data": {
      "text/html": [
       "<pre style=\"white-space:pre;overflow-x:auto;line-height:normal;font-family:Menlo,'DejaVu Sans Mono',consolas,'Courier New',monospace\"><span style=\"color: #008000; text-decoration-color: #008000\">09:06:35</span> | ℹ️ <span style=\"font-weight: bold\"> - Writing to: repos\\micropython-stubs\\stubs\\micropython-v1_23_0-docstubs\\machine\\Timer.pyi</span>\n",
       "</pre>\n"
      ],
      "text/plain": [
       "\u001b[32m09:06:35\u001b[0m | ℹ️ \u001b[1m - Writing to: repos\\micropython-stubs\\stubs\\micropython-v1_23_0-docstubs\\machine\\Timer.pyi\u001b[0m\n"
      ]
     },
     "metadata": {},
     "output_type": "display_data"
    },
    {
     "data": {
      "text/html": [
       "<pre style=\"white-space:pre;overflow-x:auto;line-height:normal;font-family:Menlo,'DejaVu Sans Mono',consolas,'Courier New',monospace\"><span style=\"color: #008000; text-decoration-color: #008000\">09:06:35</span> | ℹ️ <span style=\"font-weight: bold\"> - Writing to: repos\\micropython-stubs\\stubs\\micropython-v1_23_0-docstubs\\machine\\TimerWiPy.pyi</span>\n",
       "</pre>\n"
      ],
      "text/plain": [
       "\u001b[32m09:06:35\u001b[0m | ℹ️ \u001b[1m - Writing to: repos\\micropython-stubs\\stubs\\micropython-v1_23_0-docstubs\\machine\\TimerWiPy.pyi\u001b[0m\n"
      ]
     },
     "metadata": {},
     "output_type": "display_data"
    },
    {
     "data": {
      "text/html": [
       "<pre style=\"white-space:pre;overflow-x:auto;line-height:normal;font-family:Menlo,'DejaVu Sans Mono',consolas,'Courier New',monospace\"><span style=\"color: #008000; text-decoration-color: #008000\">09:06:35</span> | ℹ️ <span style=\"font-weight: bold\"> - Writing to: repos\\micropython-stubs\\stubs\\micropython-v1_23_0-docstubs\\machine\\UART.pyi</span>\n",
       "</pre>\n"
      ],
      "text/plain": [
       "\u001b[32m09:06:35\u001b[0m | ℹ️ \u001b[1m - Writing to: repos\\micropython-stubs\\stubs\\micropython-v1_23_0-docstubs\\machine\\UART.pyi\u001b[0m\n"
      ]
     },
     "metadata": {},
     "output_type": "display_data"
    },
    {
     "data": {
      "text/html": [
       "<pre style=\"white-space:pre;overflow-x:auto;line-height:normal;font-family:Menlo,'DejaVu Sans Mono',consolas,'Courier New',monospace\"><span style=\"color: #008000; text-decoration-color: #008000\">09:06:35</span> | ℹ️ <span style=\"font-weight: bold\"> - Writing to: repos\\micropython-stubs\\stubs\\micropython-v1_23_0-docstubs\\machine\\USBDevice.pyi</span>\n",
       "</pre>\n"
      ],
      "text/plain": [
       "\u001b[32m09:06:35\u001b[0m | ℹ️ \u001b[1m - Writing to: repos\\micropython-stubs\\stubs\\micropython-v1_23_0-docstubs\\machine\\USBDevice.pyi\u001b[0m\n"
      ]
     },
     "metadata": {},
     "output_type": "display_data"
    },
    {
     "data": {
      "text/html": [
       "<pre style=\"white-space:pre;overflow-x:auto;line-height:normal;font-family:Menlo,'DejaVu Sans Mono',consolas,'Courier New',monospace\"><span style=\"color: #008000; text-decoration-color: #008000\">09:06:35</span> | ℹ️ <span style=\"font-weight: bold\"> - Writing to: repos\\micropython-stubs\\stubs\\micropython-v1_23_0-docstubs\\machine\\WDT.pyi</span>\n",
       "</pre>\n"
      ],
      "text/plain": [
       "\u001b[32m09:06:35\u001b[0m | ℹ️ \u001b[1m - Writing to: repos\\micropython-stubs\\stubs\\micropython-v1_23_0-docstubs\\machine\\WDT.pyi\u001b[0m\n"
      ]
     },
     "metadata": {},
     "output_type": "display_data"
    },
    {
     "data": {
      "text/html": [
       "<pre style=\"white-space:pre;overflow-x:auto;line-height:normal;font-family:Menlo,'DejaVu Sans Mono',consolas,'Courier New',monospace\"><span style=\"color: #008000; text-decoration-color: #008000\">09:06:35</span> | ℹ️ <span style=\"font-weight: bold\"> - Writing to: repos\\micropython-stubs\\stubs\\micropython-v1_23_0-docstubs\\math\\__init__.pyi</span>\n",
       "</pre>\n"
      ],
      "text/plain": [
       "\u001b[32m09:06:35\u001b[0m | ℹ️ \u001b[1m - Writing to: repos\\micropython-stubs\\stubs\\micropython-v1_23_0-docstubs\\math\\__init__.pyi\u001b[0m\n"
      ]
     },
     "metadata": {},
     "output_type": "display_data"
    },
    {
     "data": {
      "text/html": [
       "<pre style=\"white-space:pre;overflow-x:auto;line-height:normal;font-family:Menlo,'DejaVu Sans Mono',consolas,'Courier New',monospace\"><span style=\"color: #008000; text-decoration-color: #008000\">09:06:35</span> | ℹ️ <span style=\"font-weight: bold\"> - Writing to: repos\\micropython-stubs\\stubs\\micropython-v1_23_0-docstubs\\micropython\\__init__.pyi</span>\n",
       "</pre>\n"
      ],
      "text/plain": [
       "\u001b[32m09:06:35\u001b[0m | ℹ️ \u001b[1m - Writing to: repos\\micropython-stubs\\stubs\\micropython-v1_23_0-docstubs\\micropython\\__init__.pyi\u001b[0m\n"
      ]
     },
     "metadata": {},
     "output_type": "display_data"
    },
    {
     "data": {
      "text/html": [
       "<pre style=\"white-space:pre;overflow-x:auto;line-height:normal;font-family:Menlo,'DejaVu Sans Mono',consolas,'Courier New',monospace\"><span style=\"color: #008000; text-decoration-color: #008000\">09:06:35</span> | ℹ️ <span style=\"font-weight: bold\"> - Writing to: repos\\micropython-stubs\\stubs\\micropython-v1_23_0-docstubs\\neopixel\\__init__.pyi</span>\n",
       "</pre>\n"
      ],
      "text/plain": [
       "\u001b[32m09:06:35\u001b[0m | ℹ️ \u001b[1m - Writing to: repos\\micropython-stubs\\stubs\\micropython-v1_23_0-docstubs\\neopixel\\__init__.pyi\u001b[0m\n"
      ]
     },
     "metadata": {},
     "output_type": "display_data"
    },
    {
     "data": {
      "text/html": [
       "<pre style=\"white-space:pre;overflow-x:auto;line-height:normal;font-family:Menlo,'DejaVu Sans Mono',consolas,'Courier New',monospace\"><span style=\"color: #008000; text-decoration-color: #008000\">09:06:35</span> | ℹ️ <span style=\"font-weight: bold\"> - Writing to: repos\\micropython-stubs\\stubs\\micropython-v1_23_0-docstubs\\network\\LAN.pyi</span>\n",
       "</pre>\n"
      ],
      "text/plain": [
       "\u001b[32m09:06:35\u001b[0m | ℹ️ \u001b[1m - Writing to: repos\\micropython-stubs\\stubs\\micropython-v1_23_0-docstubs\\network\\LAN.pyi\u001b[0m\n"
      ]
     },
     "metadata": {},
     "output_type": "display_data"
    },
    {
     "data": {
      "text/html": [
       "<pre style=\"white-space:pre;overflow-x:auto;line-height:normal;font-family:Menlo,'DejaVu Sans Mono',consolas,'Courier New',monospace\"><span style=\"color: #008000; text-decoration-color: #008000\">09:06:35</span> | ℹ️ <span style=\"font-weight: bold\"> - Writing to: repos\\micropython-stubs\\stubs\\micropython-v1_23_0-docstubs\\network\\__init__.pyi</span>\n",
       "</pre>\n"
      ],
      "text/plain": [
       "\u001b[32m09:06:35\u001b[0m | ℹ️ \u001b[1m - Writing to: repos\\micropython-stubs\\stubs\\micropython-v1_23_0-docstubs\\network\\__init__.pyi\u001b[0m\n"
      ]
     },
     "metadata": {},
     "output_type": "display_data"
    },
    {
     "data": {
      "text/html": [
       "<pre style=\"white-space:pre;overflow-x:auto;line-height:normal;font-family:Menlo,'DejaVu Sans Mono',consolas,'Courier New',monospace\"><span style=\"color: #008000; text-decoration-color: #008000\">09:06:35</span> | ℹ️ <span style=\"font-weight: bold\"> - Writing to: repos\\micropython-stubs\\stubs\\micropython-v1_23_0-docstubs\\network\\WIZNET5K.pyi</span>\n",
       "</pre>\n"
      ],
      "text/plain": [
       "\u001b[32m09:06:35\u001b[0m | ℹ️ \u001b[1m - Writing to: repos\\micropython-stubs\\stubs\\micropython-v1_23_0-docstubs\\network\\WIZNET5K.pyi\u001b[0m\n"
      ]
     },
     "metadata": {},
     "output_type": "display_data"
    },
    {
     "data": {
      "text/html": [
       "<pre style=\"white-space:pre;overflow-x:auto;line-height:normal;font-family:Menlo,'DejaVu Sans Mono',consolas,'Courier New',monospace\"><span style=\"color: #008000; text-decoration-color: #008000\">09:06:35</span> | ℹ️ <span style=\"font-weight: bold\"> - Writing to: repos\\micropython-stubs\\stubs\\micropython-v1_23_0-docstubs\\network\\WLAN.pyi</span>\n",
       "</pre>\n"
      ],
      "text/plain": [
       "\u001b[32m09:06:35\u001b[0m | ℹ️ \u001b[1m - Writing to: repos\\micropython-stubs\\stubs\\micropython-v1_23_0-docstubs\\network\\WLAN.pyi\u001b[0m\n"
      ]
     },
     "metadata": {},
     "output_type": "display_data"
    },
    {
     "data": {
      "text/html": [
       "<pre style=\"white-space:pre;overflow-x:auto;line-height:normal;font-family:Menlo,'DejaVu Sans Mono',consolas,'Courier New',monospace\"><span style=\"color: #008000; text-decoration-color: #008000\">09:06:35</span> | ℹ️ <span style=\"font-weight: bold\"> - Writing to: repos\\micropython-stubs\\stubs\\micropython-v1_23_0-docstubs\\network\\WLANWiPy.pyi</span>\n",
       "</pre>\n"
      ],
      "text/plain": [
       "\u001b[32m09:06:35\u001b[0m | ℹ️ \u001b[1m - Writing to: repos\\micropython-stubs\\stubs\\micropython-v1_23_0-docstubs\\network\\WLANWiPy.pyi\u001b[0m\n"
      ]
     },
     "metadata": {},
     "output_type": "display_data"
    },
    {
     "data": {
      "text/html": [
       "<pre style=\"white-space:pre;overflow-x:auto;line-height:normal;font-family:Menlo,'DejaVu Sans Mono',consolas,'Courier New',monospace\"><span style=\"color: #008000; text-decoration-color: #008000\">09:06:35</span> | ℹ️ <span style=\"font-weight: bold\"> - Writing to: repos\\micropython-stubs\\stubs\\micropython-v1_23_0-docstubs\\openamp\\__init__.pyi</span>\n",
       "</pre>\n"
      ],
      "text/plain": [
       "\u001b[32m09:06:35\u001b[0m | ℹ️ \u001b[1m - Writing to: repos\\micropython-stubs\\stubs\\micropython-v1_23_0-docstubs\\openamp\\__init__.pyi\u001b[0m\n"
      ]
     },
     "metadata": {},
     "output_type": "display_data"
    },
    {
     "data": {
      "text/html": [
       "<pre style=\"white-space:pre;overflow-x:auto;line-height:normal;font-family:Menlo,'DejaVu Sans Mono',consolas,'Courier New',monospace\"><span style=\"color: #008000; text-decoration-color: #008000\">09:06:35</span> | ℹ️ <span style=\"font-weight: bold\"> - Writing to: repos\\micropython-stubs\\stubs\\micropython-v1_23_0-docstubs\\os\\__init__.pyi</span>\n",
       "</pre>\n"
      ],
      "text/plain": [
       "\u001b[32m09:06:35\u001b[0m | ℹ️ \u001b[1m - Writing to: repos\\micropython-stubs\\stubs\\micropython-v1_23_0-docstubs\\os\\__init__.pyi\u001b[0m\n"
      ]
     },
     "metadata": {},
     "output_type": "display_data"
    },
    {
     "data": {
      "text/html": [
       "<pre style=\"white-space:pre;overflow-x:auto;line-height:normal;font-family:Menlo,'DejaVu Sans Mono',consolas,'Courier New',monospace\"><span style=\"color: #008000; text-decoration-color: #008000\">09:06:35</span> | ℹ️ <span style=\"font-weight: bold\"> - Writing to: repos\\micropython-stubs\\stubs\\micropython-v1_23_0-docstubs\\platform\\__init__.pyi</span>\n",
       "</pre>\n"
      ],
      "text/plain": [
       "\u001b[32m09:06:35\u001b[0m | ℹ️ \u001b[1m - Writing to: repos\\micropython-stubs\\stubs\\micropython-v1_23_0-docstubs\\platform\\__init__.pyi\u001b[0m\n"
      ]
     },
     "metadata": {},
     "output_type": "display_data"
    },
    {
     "data": {
      "text/html": [
       "<pre style=\"white-space:pre;overflow-x:auto;line-height:normal;font-family:Menlo,'DejaVu Sans Mono',consolas,'Courier New',monospace\"><span style=\"color: #008000; text-decoration-color: #008000\">09:06:35</span> | ℹ️ <span style=\"font-weight: bold\"> - Writing to: repos\\micropython-stubs\\stubs\\micropython-v1_23_0-docstubs\\pyb\\Accel.pyi</span>\n",
       "</pre>\n"
      ],
      "text/plain": [
       "\u001b[32m09:06:35\u001b[0m | ℹ️ \u001b[1m - Writing to: repos\\micropython-stubs\\stubs\\micropython-v1_23_0-docstubs\\pyb\\Accel.pyi\u001b[0m\n"
      ]
     },
     "metadata": {},
     "output_type": "display_data"
    },
    {
     "data": {
      "text/html": [
       "<pre style=\"white-space:pre;overflow-x:auto;line-height:normal;font-family:Menlo,'DejaVu Sans Mono',consolas,'Courier New',monospace\"><span style=\"color: #008000; text-decoration-color: #008000\">09:06:35</span> | ℹ️ <span style=\"font-weight: bold\"> - Writing to: repos\\micropython-stubs\\stubs\\micropython-v1_23_0-docstubs\\pyb\\ADC.pyi</span>\n",
       "</pre>\n"
      ],
      "text/plain": [
       "\u001b[32m09:06:35\u001b[0m | ℹ️ \u001b[1m - Writing to: repos\\micropython-stubs\\stubs\\micropython-v1_23_0-docstubs\\pyb\\ADC.pyi\u001b[0m\n"
      ]
     },
     "metadata": {},
     "output_type": "display_data"
    },
    {
     "data": {
      "text/html": [
       "<pre style=\"white-space:pre;overflow-x:auto;line-height:normal;font-family:Menlo,'DejaVu Sans Mono',consolas,'Courier New',monospace\"><span style=\"color: #008000; text-decoration-color: #008000\">09:06:35</span> | ℹ️ <span style=\"font-weight: bold\"> - Writing to: repos\\micropython-stubs\\stubs\\micropython-v1_23_0-docstubs\\pyb\\CAN.pyi</span>\n",
       "</pre>\n"
      ],
      "text/plain": [
       "\u001b[32m09:06:35\u001b[0m | ℹ️ \u001b[1m - Writing to: repos\\micropython-stubs\\stubs\\micropython-v1_23_0-docstubs\\pyb\\CAN.pyi\u001b[0m\n"
      ]
     },
     "metadata": {},
     "output_type": "display_data"
    },
    {
     "data": {
      "text/html": [
       "<pre style=\"white-space:pre;overflow-x:auto;line-height:normal;font-family:Menlo,'DejaVu Sans Mono',consolas,'Courier New',monospace\"><span style=\"color: #008000; text-decoration-color: #008000\">09:06:35</span> | ℹ️ <span style=\"font-weight: bold\"> - Writing to: repos\\micropython-stubs\\stubs\\micropython-v1_23_0-docstubs\\pyb\\DAC.pyi</span>\n",
       "</pre>\n"
      ],
      "text/plain": [
       "\u001b[32m09:06:35\u001b[0m | ℹ️ \u001b[1m - Writing to: repos\\micropython-stubs\\stubs\\micropython-v1_23_0-docstubs\\pyb\\DAC.pyi\u001b[0m\n"
      ]
     },
     "metadata": {},
     "output_type": "display_data"
    },
    {
     "data": {
      "text/html": [
       "<pre style=\"white-space:pre;overflow-x:auto;line-height:normal;font-family:Menlo,'DejaVu Sans Mono',consolas,'Courier New',monospace\"><span style=\"color: #008000; text-decoration-color: #008000\">09:06:35</span> | ℹ️ <span style=\"font-weight: bold\"> - Writing to: repos\\micropython-stubs\\stubs\\micropython-v1_23_0-docstubs\\pyb\\ExtInt.pyi</span>\n",
       "</pre>\n"
      ],
      "text/plain": [
       "\u001b[32m09:06:35\u001b[0m | ℹ️ \u001b[1m - Writing to: repos\\micropython-stubs\\stubs\\micropython-v1_23_0-docstubs\\pyb\\ExtInt.pyi\u001b[0m\n"
      ]
     },
     "metadata": {},
     "output_type": "display_data"
    },
    {
     "data": {
      "text/html": [
       "<pre style=\"white-space:pre;overflow-x:auto;line-height:normal;font-family:Menlo,'DejaVu Sans Mono',consolas,'Courier New',monospace\"><span style=\"color: #008000; text-decoration-color: #008000\">09:06:35</span> | ℹ️ <span style=\"font-weight: bold\"> - Writing to: repos\\micropython-stubs\\stubs\\micropython-v1_23_0-docstubs\\pyb\\Flash.pyi</span>\n",
       "</pre>\n"
      ],
      "text/plain": [
       "\u001b[32m09:06:35\u001b[0m | ℹ️ \u001b[1m - Writing to: repos\\micropython-stubs\\stubs\\micropython-v1_23_0-docstubs\\pyb\\Flash.pyi\u001b[0m\n"
      ]
     },
     "metadata": {},
     "output_type": "display_data"
    },
    {
     "data": {
      "text/html": [
       "<pre style=\"white-space:pre;overflow-x:auto;line-height:normal;font-family:Menlo,'DejaVu Sans Mono',consolas,'Courier New',monospace\"><span style=\"color: #008000; text-decoration-color: #008000\">09:06:35</span> | ℹ️ <span style=\"font-weight: bold\"> - Writing to: repos\\micropython-stubs\\stubs\\micropython-v1_23_0-docstubs\\pyb\\I2C.pyi</span>\n",
       "</pre>\n"
      ],
      "text/plain": [
       "\u001b[32m09:06:35\u001b[0m | ℹ️ \u001b[1m - Writing to: repos\\micropython-stubs\\stubs\\micropython-v1_23_0-docstubs\\pyb\\I2C.pyi\u001b[0m\n"
      ]
     },
     "metadata": {},
     "output_type": "display_data"
    },
    {
     "data": {
      "text/html": [
       "<pre style=\"white-space:pre;overflow-x:auto;line-height:normal;font-family:Menlo,'DejaVu Sans Mono',consolas,'Courier New',monospace\"><span style=\"color: #008000; text-decoration-color: #008000\">09:06:35</span> | ℹ️ <span style=\"font-weight: bold\"> - Writing to: repos\\micropython-stubs\\stubs\\micropython-v1_23_0-docstubs\\pyb\\LCD.pyi</span>\n",
       "</pre>\n"
      ],
      "text/plain": [
       "\u001b[32m09:06:35\u001b[0m | ℹ️ \u001b[1m - Writing to: repos\\micropython-stubs\\stubs\\micropython-v1_23_0-docstubs\\pyb\\LCD.pyi\u001b[0m\n"
      ]
     },
     "metadata": {},
     "output_type": "display_data"
    },
    {
     "data": {
      "text/html": [
       "<pre style=\"white-space:pre;overflow-x:auto;line-height:normal;font-family:Menlo,'DejaVu Sans Mono',consolas,'Courier New',monospace\"><span style=\"color: #008000; text-decoration-color: #008000\">09:06:35</span> | ℹ️ <span style=\"font-weight: bold\"> - Writing to: repos\\micropython-stubs\\stubs\\micropython-v1_23_0-docstubs\\pyb\\LED.pyi</span>\n",
       "</pre>\n"
      ],
      "text/plain": [
       "\u001b[32m09:06:35\u001b[0m | ℹ️ \u001b[1m - Writing to: repos\\micropython-stubs\\stubs\\micropython-v1_23_0-docstubs\\pyb\\LED.pyi\u001b[0m\n"
      ]
     },
     "metadata": {},
     "output_type": "display_data"
    },
    {
     "data": {
      "text/html": [
       "<pre style=\"white-space:pre;overflow-x:auto;line-height:normal;font-family:Menlo,'DejaVu Sans Mono',consolas,'Courier New',monospace\"><span style=\"color: #008000; text-decoration-color: #008000\">09:06:35</span> | ℹ️ <span style=\"font-weight: bold\"> - Writing to: repos\\micropython-stubs\\stubs\\micropython-v1_23_0-docstubs\\pyb\\Pin.pyi</span>\n",
       "</pre>\n"
      ],
      "text/plain": [
       "\u001b[32m09:06:35\u001b[0m | ℹ️ \u001b[1m - Writing to: repos\\micropython-stubs\\stubs\\micropython-v1_23_0-docstubs\\pyb\\Pin.pyi\u001b[0m\n"
      ]
     },
     "metadata": {},
     "output_type": "display_data"
    },
    {
     "data": {
      "text/html": [
       "<pre style=\"white-space:pre;overflow-x:auto;line-height:normal;font-family:Menlo,'DejaVu Sans Mono',consolas,'Courier New',monospace\"><span style=\"color: #008000; text-decoration-color: #008000\">09:06:35</span> | ℹ️ <span style=\"font-weight: bold\"> - Writing to: repos\\micropython-stubs\\stubs\\micropython-v1_23_0-docstubs\\pyb\\__init__.pyi</span>\n",
       "</pre>\n"
      ],
      "text/plain": [
       "\u001b[32m09:06:35\u001b[0m | ℹ️ \u001b[1m - Writing to: repos\\micropython-stubs\\stubs\\micropython-v1_23_0-docstubs\\pyb\\__init__.pyi\u001b[0m\n"
      ]
     },
     "metadata": {},
     "output_type": "display_data"
    },
    {
     "data": {
      "text/html": [
       "<pre style=\"white-space:pre;overflow-x:auto;line-height:normal;font-family:Menlo,'DejaVu Sans Mono',consolas,'Courier New',monospace\"><span style=\"color: #008000; text-decoration-color: #008000\">09:06:35</span> | ℹ️ <span style=\"font-weight: bold\"> - Writing to: repos\\micropython-stubs\\stubs\\micropython-v1_23_0-docstubs\\pyb\\RTC.pyi</span>\n",
       "</pre>\n"
      ],
      "text/plain": [
       "\u001b[32m09:06:35\u001b[0m | ℹ️ \u001b[1m - Writing to: repos\\micropython-stubs\\stubs\\micropython-v1_23_0-docstubs\\pyb\\RTC.pyi\u001b[0m\n"
      ]
     },
     "metadata": {},
     "output_type": "display_data"
    },
    {
     "data": {
      "text/html": [
       "<pre style=\"white-space:pre;overflow-x:auto;line-height:normal;font-family:Menlo,'DejaVu Sans Mono',consolas,'Courier New',monospace\"><span style=\"color: #008000; text-decoration-color: #008000\">09:06:35</span> | ℹ️ <span style=\"font-weight: bold\"> - Writing to: repos\\micropython-stubs\\stubs\\micropython-v1_23_0-docstubs\\pyb\\Servo.pyi</span>\n",
       "</pre>\n"
      ],
      "text/plain": [
       "\u001b[32m09:06:35\u001b[0m | ℹ️ \u001b[1m - Writing to: repos\\micropython-stubs\\stubs\\micropython-v1_23_0-docstubs\\pyb\\Servo.pyi\u001b[0m\n"
      ]
     },
     "metadata": {},
     "output_type": "display_data"
    },
    {
     "data": {
      "text/html": [
       "<pre style=\"white-space:pre;overflow-x:auto;line-height:normal;font-family:Menlo,'DejaVu Sans Mono',consolas,'Courier New',monospace\"><span style=\"color: #008000; text-decoration-color: #008000\">09:06:35</span> | ℹ️ <span style=\"font-weight: bold\"> - Writing to: repos\\micropython-stubs\\stubs\\micropython-v1_23_0-docstubs\\pyb\\SPI.pyi</span>\n",
       "</pre>\n"
      ],
      "text/plain": [
       "\u001b[32m09:06:35\u001b[0m | ℹ️ \u001b[1m - Writing to: repos\\micropython-stubs\\stubs\\micropython-v1_23_0-docstubs\\pyb\\SPI.pyi\u001b[0m\n"
      ]
     },
     "metadata": {},
     "output_type": "display_data"
    },
    {
     "data": {
      "text/html": [
       "<pre style=\"white-space:pre;overflow-x:auto;line-height:normal;font-family:Menlo,'DejaVu Sans Mono',consolas,'Courier New',monospace\"><span style=\"color: #008000; text-decoration-color: #008000\">09:06:35</span> | ℹ️ <span style=\"font-weight: bold\"> - Writing to: repos\\micropython-stubs\\stubs\\micropython-v1_23_0-docstubs\\pyb\\Switch.pyi</span>\n",
       "</pre>\n"
      ],
      "text/plain": [
       "\u001b[32m09:06:35\u001b[0m | ℹ️ \u001b[1m - Writing to: repos\\micropython-stubs\\stubs\\micropython-v1_23_0-docstubs\\pyb\\Switch.pyi\u001b[0m\n"
      ]
     },
     "metadata": {},
     "output_type": "display_data"
    },
    {
     "data": {
      "text/html": [
       "<pre style=\"white-space:pre;overflow-x:auto;line-height:normal;font-family:Menlo,'DejaVu Sans Mono',consolas,'Courier New',monospace\"><span style=\"color: #008000; text-decoration-color: #008000\">09:06:35</span> | ℹ️ <span style=\"font-weight: bold\"> - Writing to: repos\\micropython-stubs\\stubs\\micropython-v1_23_0-docstubs\\pyb\\Timer.pyi</span>\n",
       "</pre>\n"
      ],
      "text/plain": [
       "\u001b[32m09:06:35\u001b[0m | ℹ️ \u001b[1m - Writing to: repos\\micropython-stubs\\stubs\\micropython-v1_23_0-docstubs\\pyb\\Timer.pyi\u001b[0m\n"
      ]
     },
     "metadata": {},
     "output_type": "display_data"
    },
    {
     "data": {
      "text/html": [
       "<pre style=\"white-space:pre;overflow-x:auto;line-height:normal;font-family:Menlo,'DejaVu Sans Mono',consolas,'Courier New',monospace\"><span style=\"color: #008000; text-decoration-color: #008000\">09:06:35</span> | ℹ️ <span style=\"font-weight: bold\"> - Writing to: repos\\micropython-stubs\\stubs\\micropython-v1_23_0-docstubs\\pyb\\UART.pyi</span>\n",
       "</pre>\n"
      ],
      "text/plain": [
       "\u001b[32m09:06:35\u001b[0m | ℹ️ \u001b[1m - Writing to: repos\\micropython-stubs\\stubs\\micropython-v1_23_0-docstubs\\pyb\\UART.pyi\u001b[0m\n"
      ]
     },
     "metadata": {},
     "output_type": "display_data"
    },
    {
     "data": {
      "text/html": [
       "<pre style=\"white-space:pre;overflow-x:auto;line-height:normal;font-family:Menlo,'DejaVu Sans Mono',consolas,'Courier New',monospace\"><span style=\"color: #008000; text-decoration-color: #008000\">09:06:35</span> | ℹ️ <span style=\"font-weight: bold\"> - Writing to: repos\\micropython-stubs\\stubs\\micropython-v1_23_0-docstubs\\pyb\\USB_HID.pyi</span>\n",
       "</pre>\n"
      ],
      "text/plain": [
       "\u001b[32m09:06:35\u001b[0m | ℹ️ \u001b[1m - Writing to: repos\\micropython-stubs\\stubs\\micropython-v1_23_0-docstubs\\pyb\\USB_HID.pyi\u001b[0m\n"
      ]
     },
     "metadata": {},
     "output_type": "display_data"
    },
    {
     "data": {
      "text/html": [
       "<pre style=\"white-space:pre;overflow-x:auto;line-height:normal;font-family:Menlo,'DejaVu Sans Mono',consolas,'Courier New',monospace\"><span style=\"color: #008000; text-decoration-color: #008000\">09:06:35</span> | ℹ️ <span style=\"font-weight: bold\"> - Writing to: repos\\micropython-stubs\\stubs\\micropython-v1_23_0-docstubs\\pyb\\USB_VCP.pyi</span>\n",
       "</pre>\n"
      ],
      "text/plain": [
       "\u001b[32m09:06:35\u001b[0m | ℹ️ \u001b[1m - Writing to: repos\\micropython-stubs\\stubs\\micropython-v1_23_0-docstubs\\pyb\\USB_VCP.pyi\u001b[0m\n"
      ]
     },
     "metadata": {},
     "output_type": "display_data"
    },
    {
     "data": {
      "text/html": [
       "<pre style=\"white-space:pre;overflow-x:auto;line-height:normal;font-family:Menlo,'DejaVu Sans Mono',consolas,'Courier New',monospace\"><span style=\"color: #008000; text-decoration-color: #008000\">09:06:35</span> | ℹ️ <span style=\"font-weight: bold\"> - Writing to: repos\\micropython-stubs\\stubs\\micropython-v1_23_0-docstubs\\random\\__init__.pyi</span>\n",
       "</pre>\n"
      ],
      "text/plain": [
       "\u001b[32m09:06:35\u001b[0m | ℹ️ \u001b[1m - Writing to: repos\\micropython-stubs\\stubs\\micropython-v1_23_0-docstubs\\random\\__init__.pyi\u001b[0m\n"
      ]
     },
     "metadata": {},
     "output_type": "display_data"
    },
    {
     "data": {
      "text/html": [
       "<pre style=\"white-space:pre;overflow-x:auto;line-height:normal;font-family:Menlo,'DejaVu Sans Mono',consolas,'Courier New',monospace\"><span style=\"color: #008000; text-decoration-color: #008000\">09:06:35</span> | ℹ️ <span style=\"font-weight: bold\"> - Writing to: repos\\micropython-stubs\\stubs\\micropython-v1_23_0-docstubs\\rp2\\DMA.pyi</span>\n",
       "</pre>\n"
      ],
      "text/plain": [
       "\u001b[32m09:06:35\u001b[0m | ℹ️ \u001b[1m - Writing to: repos\\micropython-stubs\\stubs\\micropython-v1_23_0-docstubs\\rp2\\DMA.pyi\u001b[0m\n"
      ]
     },
     "metadata": {},
     "output_type": "display_data"
    },
    {
     "data": {
      "text/html": [
       "<pre style=\"white-space:pre;overflow-x:auto;line-height:normal;font-family:Menlo,'DejaVu Sans Mono',consolas,'Courier New',monospace\"><span style=\"color: #008000; text-decoration-color: #008000\">09:06:35</span> | ℹ️ <span style=\"font-weight: bold\"> - Writing to: repos\\micropython-stubs\\stubs\\micropython-v1_23_0-docstubs\\rp2\\Flash.pyi</span>\n",
       "</pre>\n"
      ],
      "text/plain": [
       "\u001b[32m09:06:35\u001b[0m | ℹ️ \u001b[1m - Writing to: repos\\micropython-stubs\\stubs\\micropython-v1_23_0-docstubs\\rp2\\Flash.pyi\u001b[0m\n"
      ]
     },
     "metadata": {},
     "output_type": "display_data"
    },
    {
     "data": {
      "text/html": [
       "<pre style=\"white-space:pre;overflow-x:auto;line-height:normal;font-family:Menlo,'DejaVu Sans Mono',consolas,'Courier New',monospace\"><span style=\"color: #008000; text-decoration-color: #008000\">09:06:35</span> | ℹ️ <span style=\"font-weight: bold\"> - Writing to: repos\\micropython-stubs\\stubs\\micropython-v1_23_0-docstubs\\rp2\\PIO.pyi</span>\n",
       "</pre>\n"
      ],
      "text/plain": [
       "\u001b[32m09:06:35\u001b[0m | ℹ️ \u001b[1m - Writing to: repos\\micropython-stubs\\stubs\\micropython-v1_23_0-docstubs\\rp2\\PIO.pyi\u001b[0m\n"
      ]
     },
     "metadata": {},
     "output_type": "display_data"
    },
    {
     "data": {
      "text/html": [
       "<pre style=\"white-space:pre;overflow-x:auto;line-height:normal;font-family:Menlo,'DejaVu Sans Mono',consolas,'Courier New',monospace\"><span style=\"color: #008000; text-decoration-color: #008000\">09:06:35</span> | ℹ️ <span style=\"font-weight: bold\"> - Writing to: repos\\micropython-stubs\\stubs\\micropython-v1_23_0-docstubs\\rp2\\__init__.pyi</span>\n",
       "</pre>\n"
      ],
      "text/plain": [
       "\u001b[32m09:06:35\u001b[0m | ℹ️ \u001b[1m - Writing to: repos\\micropython-stubs\\stubs\\micropython-v1_23_0-docstubs\\rp2\\__init__.pyi\u001b[0m\n"
      ]
     },
     "metadata": {},
     "output_type": "display_data"
    },
    {
     "data": {
      "text/html": [
       "<pre style=\"white-space:pre;overflow-x:auto;line-height:normal;font-family:Menlo,'DejaVu Sans Mono',consolas,'Courier New',monospace\"><span style=\"color: #008000; text-decoration-color: #008000\">09:06:35</span> | ℹ️ <span style=\"font-weight: bold\"> - Writing to: repos\\micropython-stubs\\stubs\\micropython-v1_23_0-docstubs\\rp2\\StateMachine.pyi</span>\n",
       "</pre>\n"
      ],
      "text/plain": [
       "\u001b[32m09:06:35\u001b[0m | ℹ️ \u001b[1m - Writing to: repos\\micropython-stubs\\stubs\\micropython-v1_23_0-docstubs\\rp2\\StateMachine.pyi\u001b[0m\n"
      ]
     },
     "metadata": {},
     "output_type": "display_data"
    },
    {
     "data": {
      "text/html": [
       "<pre style=\"white-space:pre;overflow-x:auto;line-height:normal;font-family:Menlo,'DejaVu Sans Mono',consolas,'Courier New',monospace\"><span style=\"color: #008000; text-decoration-color: #008000\">09:06:35</span> | ℹ️ <span style=\"font-weight: bold\"> - Writing to: repos\\micropython-stubs\\stubs\\micropython-v1_23_0-docstubs\\select\\__init__.pyi</span>\n",
       "</pre>\n"
      ],
      "text/plain": [
       "\u001b[32m09:06:35\u001b[0m | ℹ️ \u001b[1m - Writing to: repos\\micropython-stubs\\stubs\\micropython-v1_23_0-docstubs\\select\\__init__.pyi\u001b[0m\n"
      ]
     },
     "metadata": {},
     "output_type": "display_data"
    },
    {
     "data": {
      "text/html": [
       "<pre style=\"white-space:pre;overflow-x:auto;line-height:normal;font-family:Menlo,'DejaVu Sans Mono',consolas,'Courier New',monospace\"><span style=\"color: #008000; text-decoration-color: #008000\">09:06:35</span> | ℹ️ <span style=\"font-weight: bold\"> - Writing to: repos\\micropython-stubs\\stubs\\micropython-v1_23_0-docstubs\\socket\\__init__.pyi</span>\n",
       "</pre>\n"
      ],
      "text/plain": [
       "\u001b[32m09:06:35\u001b[0m | ℹ️ \u001b[1m - Writing to: repos\\micropython-stubs\\stubs\\micropython-v1_23_0-docstubs\\socket\\__init__.pyi\u001b[0m\n"
      ]
     },
     "metadata": {},
     "output_type": "display_data"
    },
    {
     "data": {
      "text/html": [
       "<pre style=\"white-space:pre;overflow-x:auto;line-height:normal;font-family:Menlo,'DejaVu Sans Mono',consolas,'Courier New',monospace\"><span style=\"color: #008000; text-decoration-color: #008000\">09:06:35</span> | ℹ️ <span style=\"font-weight: bold\"> - Writing to: repos\\micropython-stubs\\stubs\\micropython-v1_23_0-docstubs\\ssl\\__init__.pyi</span>\n",
       "</pre>\n"
      ],
      "text/plain": [
       "\u001b[32m09:06:35\u001b[0m | ℹ️ \u001b[1m - Writing to: repos\\micropython-stubs\\stubs\\micropython-v1_23_0-docstubs\\ssl\\__init__.pyi\u001b[0m\n"
      ]
     },
     "metadata": {},
     "output_type": "display_data"
    },
    {
     "data": {
      "text/html": [
       "<pre style=\"white-space:pre;overflow-x:auto;line-height:normal;font-family:Menlo,'DejaVu Sans Mono',consolas,'Courier New',monospace\"><span style=\"color: #008000; text-decoration-color: #008000\">09:06:35</span> | ℹ️ <span style=\"font-weight: bold\"> - Writing to: repos\\micropython-stubs\\stubs\\micropython-v1_23_0-docstubs\\stm\\__init__.pyi</span>\n",
       "</pre>\n"
      ],
      "text/plain": [
       "\u001b[32m09:06:35\u001b[0m | ℹ️ \u001b[1m - Writing to: repos\\micropython-stubs\\stubs\\micropython-v1_23_0-docstubs\\stm\\__init__.pyi\u001b[0m\n"
      ]
     },
     "metadata": {},
     "output_type": "display_data"
    },
    {
     "data": {
      "text/html": [
       "<pre style=\"white-space:pre;overflow-x:auto;line-height:normal;font-family:Menlo,'DejaVu Sans Mono',consolas,'Courier New',monospace\"><span style=\"color: #008000; text-decoration-color: #008000\">09:06:35</span> | ℹ️ <span style=\"font-weight: bold\"> - Writing to: repos\\micropython-stubs\\stubs\\micropython-v1_23_0-docstubs\\struct\\__init__.pyi</span>\n",
       "</pre>\n"
      ],
      "text/plain": [
       "\u001b[32m09:06:35\u001b[0m | ℹ️ \u001b[1m - Writing to: repos\\micropython-stubs\\stubs\\micropython-v1_23_0-docstubs\\struct\\__init__.pyi\u001b[0m\n"
      ]
     },
     "metadata": {},
     "output_type": "display_data"
    },
    {
     "data": {
      "text/html": [
       "<pre style=\"white-space:pre;overflow-x:auto;line-height:normal;font-family:Menlo,'DejaVu Sans Mono',consolas,'Courier New',monospace\"><span style=\"color: #008000; text-decoration-color: #008000\">09:06:35</span> | ℹ️ <span style=\"font-weight: bold\"> - Writing to: repos\\micropython-stubs\\stubs\\micropython-v1_23_0-docstubs\\sys\\__init__.pyi</span>\n",
       "</pre>\n"
      ],
      "text/plain": [
       "\u001b[32m09:06:35\u001b[0m | ℹ️ \u001b[1m - Writing to: repos\\micropython-stubs\\stubs\\micropython-v1_23_0-docstubs\\sys\\__init__.pyi\u001b[0m\n"
      ]
     },
     "metadata": {},
     "output_type": "display_data"
    },
    {
     "data": {
      "text/html": [
       "<pre style=\"white-space:pre;overflow-x:auto;line-height:normal;font-family:Menlo,'DejaVu Sans Mono',consolas,'Courier New',monospace\"><span style=\"color: #008000; text-decoration-color: #008000\">09:06:35</span> | ℹ️ <span style=\"font-weight: bold\"> - Writing to: repos\\micropython-stubs\\stubs\\micropython-v1_23_0-docstubs\\time\\__init__.pyi</span>\n",
       "</pre>\n"
      ],
      "text/plain": [
       "\u001b[32m09:06:35\u001b[0m | ℹ️ \u001b[1m - Writing to: repos\\micropython-stubs\\stubs\\micropython-v1_23_0-docstubs\\time\\__init__.pyi\u001b[0m\n"
      ]
     },
     "metadata": {},
     "output_type": "display_data"
    },
    {
     "data": {
      "text/html": [
       "<pre style=\"white-space:pre;overflow-x:auto;line-height:normal;font-family:Menlo,'DejaVu Sans Mono',consolas,'Courier New',monospace\"><span style=\"color: #008000; text-decoration-color: #008000\">09:06:35</span> | ℹ️ <span style=\"font-weight: bold\"> - Writing to: repos\\micropython-stubs\\stubs\\micropython-v1_23_0-docstubs\\uctypes\\__init__.pyi</span>\n",
       "</pre>\n"
      ],
      "text/plain": [
       "\u001b[32m09:06:35\u001b[0m | ℹ️ \u001b[1m - Writing to: repos\\micropython-stubs\\stubs\\micropython-v1_23_0-docstubs\\uctypes\\__init__.pyi\u001b[0m\n"
      ]
     },
     "metadata": {},
     "output_type": "display_data"
    },
    {
     "data": {
      "text/html": [
       "<pre style=\"white-space:pre;overflow-x:auto;line-height:normal;font-family:Menlo,'DejaVu Sans Mono',consolas,'Courier New',monospace\"><span style=\"color: #008000; text-decoration-color: #008000\">09:06:35</span> | ℹ️ <span style=\"font-weight: bold\"> - Writing to: repos\\micropython-stubs\\stubs\\micropython-v1_23_0-docstubs\\vfs\\__init__.pyi</span>\n",
       "</pre>\n"
      ],
      "text/plain": [
       "\u001b[32m09:06:35\u001b[0m | ℹ️ \u001b[1m - Writing to: repos\\micropython-stubs\\stubs\\micropython-v1_23_0-docstubs\\vfs\\__init__.pyi\u001b[0m\n"
      ]
     },
     "metadata": {},
     "output_type": "display_data"
    },
    {
     "data": {
      "text/html": [
       "<pre style=\"white-space:pre;overflow-x:auto;line-height:normal;font-family:Menlo,'DejaVu Sans Mono',consolas,'Courier New',monospace\"><span style=\"color: #008000; text-decoration-color: #008000\">09:06:35</span> | ℹ️ <span style=\"font-weight: bold\"> - Writing to: repos\\micropython-stubs\\stubs\\micropython-v1_23_0-docstubs\\wipy\\__init__.pyi</span>\n",
       "</pre>\n"
      ],
      "text/plain": [
       "\u001b[32m09:06:35\u001b[0m | ℹ️ \u001b[1m - Writing to: repos\\micropython-stubs\\stubs\\micropython-v1_23_0-docstubs\\wipy\\__init__.pyi\u001b[0m\n"
      ]
     },
     "metadata": {},
     "output_type": "display_data"
    },
    {
     "data": {
      "text/html": [
       "<pre style=\"white-space:pre;overflow-x:auto;line-height:normal;font-family:Menlo,'DejaVu Sans Mono',consolas,'Courier New',monospace\"><span style=\"color: #008000; text-decoration-color: #008000\">09:06:35</span> | ℹ️ <span style=\"font-weight: bold\"> - Writing to: repos\\micropython-stubs\\stubs\\micropython-v1_23_0-docstubs\\wm8960\\__init__.pyi</span>\n",
       "</pre>\n"
      ],
      "text/plain": [
       "\u001b[32m09:06:35\u001b[0m | ℹ️ \u001b[1m - Writing to: repos\\micropython-stubs\\stubs\\micropython-v1_23_0-docstubs\\wm8960\\__init__.pyi\u001b[0m\n"
      ]
     },
     "metadata": {},
     "output_type": "display_data"
    },
    {
     "data": {
      "text/html": [
       "<pre style=\"white-space:pre;overflow-x:auto;line-height:normal;font-family:Menlo,'DejaVu Sans Mono',consolas,'Courier New',monospace\"><span style=\"color: #008000; text-decoration-color: #008000\">09:06:35</span> | ℹ️ <span style=\"font-weight: bold\"> - Writing to: repos\\micropython-stubs\\stubs\\micropython-v1_23_0-docstubs\\zephyr\\DiskAccess.pyi</span>\n",
       "</pre>\n"
      ],
      "text/plain": [
       "\u001b[32m09:06:35\u001b[0m | ℹ️ \u001b[1m - Writing to: repos\\micropython-stubs\\stubs\\micropython-v1_23_0-docstubs\\zephyr\\DiskAccess.pyi\u001b[0m\n"
      ]
     },
     "metadata": {},
     "output_type": "display_data"
    },
    {
     "data": {
      "text/html": [
       "<pre style=\"white-space:pre;overflow-x:auto;line-height:normal;font-family:Menlo,'DejaVu Sans Mono',consolas,'Courier New',monospace\"><span style=\"color: #008000; text-decoration-color: #008000\">09:06:35</span> | ℹ️ <span style=\"font-weight: bold\"> - Writing to: repos\\micropython-stubs\\stubs\\micropython-v1_23_0-docstubs\\zephyr\\FlashArea.pyi</span>\n",
       "</pre>\n"
      ],
      "text/plain": [
       "\u001b[32m09:06:35\u001b[0m | ℹ️ \u001b[1m - Writing to: repos\\micropython-stubs\\stubs\\micropython-v1_23_0-docstubs\\zephyr\\FlashArea.pyi\u001b[0m\n"
      ]
     },
     "metadata": {},
     "output_type": "display_data"
    },
    {
     "data": {
      "text/html": [
       "<pre style=\"white-space:pre;overflow-x:auto;line-height:normal;font-family:Menlo,'DejaVu Sans Mono',consolas,'Courier New',monospace\"><span style=\"color: #008000; text-decoration-color: #008000\">09:06:35</span> | ℹ️ <span style=\"font-weight: bold\"> - Writing to: repos\\micropython-stubs\\stubs\\micropython-v1_23_0-docstubs\\zephyr\\__init__.pyi</span>\n",
       "</pre>\n"
      ],
      "text/plain": [
       "\u001b[32m09:06:35\u001b[0m | ℹ️ \u001b[1m - Writing to: repos\\micropython-stubs\\stubs\\micropython-v1_23_0-docstubs\\zephyr\\__init__.pyi\u001b[0m\n"
      ]
     },
     "metadata": {},
     "output_type": "display_data"
    },
    {
     "data": {
      "text/html": [
       "<pre style=\"white-space:pre;overflow-x:auto;line-height:normal;font-family:Menlo,'DejaVu Sans Mono',consolas,'Courier New',monospace\"><span style=\"color: #008000; text-decoration-color: #008000\">09:06:35</span> | ℹ️ <span style=\"font-weight: bold\"> - Writing to: repos\\micropython-stubs\\stubs\\micropython-v1_23_0-docstubs\\zephyr\\zsensor.pyi</span>\n",
       "</pre>\n"
      ],
      "text/plain": [
       "\u001b[32m09:06:35\u001b[0m | ℹ️ \u001b[1m - Writing to: repos\\micropython-stubs\\stubs\\micropython-v1_23_0-docstubs\\zephyr\\zsensor.pyi\u001b[0m\n"
      ]
     },
     "metadata": {},
     "output_type": "display_data"
    },
    {
     "data": {
      "text/html": [
       "<pre style=\"white-space:pre;overflow-x:auto;line-height:normal;font-family:Menlo,'DejaVu Sans Mono',consolas,'Courier New',monospace\"><span style=\"color: #008000; text-decoration-color: #008000\">09:06:35</span> | ℹ️ <span style=\"font-weight: bold\"> - Writing to: repos\\micropython-stubs\\stubs\\micropython-v1_23_0-docstubs\\zlib\\__init__.pyi</span>\n",
       "</pre>\n"
      ],
      "text/plain": [
       "\u001b[32m09:06:35\u001b[0m | ℹ️ \u001b[1m - Writing to: repos\\micropython-stubs\\stubs\\micropython-v1_23_0-docstubs\\zlib\\__init__.pyi\u001b[0m\n"
      ]
     },
     "metadata": {},
     "output_type": "display_data"
    },
    {
     "data": {
      "text/html": [
       "<pre style=\"white-space:pre;overflow-x:auto;line-height:normal;font-family:Menlo,'DejaVu Sans Mono',consolas,'Courier New',monospace\"><span style=\"color: #008000; text-decoration-color: #008000\">09:06:35</span> | ℹ️ <span style=\"font-weight: bold\"> - Writing to: repos\\micropython-stubs\\stubs\\micropython-v1_23_0-docstubs\\_thread\\__init__.pyi</span>\n",
       "</pre>\n"
      ],
      "text/plain": [
       "\u001b[32m09:06:35\u001b[0m | ℹ️ \u001b[1m - Writing to: repos\\micropython-stubs\\stubs\\micropython-v1_23_0-docstubs\\_thread\\__init__.pyi\u001b[0m\n"
      ]
     },
     "metadata": {},
     "output_type": "display_data"
    },
    {
     "data": {
      "text/html": [
       "<pre style=\"white-space:pre;overflow-x:auto;line-height:normal;font-family:Menlo,'DejaVu Sans Mono',consolas,'Courier New',monospace\"><span style=\"color: #008000; text-decoration-color: #008000\">09:06:35</span> | ℹ️ <span style=\"font-weight: bold\">::group:: start post processing of retrieved stubs</span>\n",
       "</pre>\n"
      ],
      "text/plain": [
       "\u001b[32m09:06:35\u001b[0m | ℹ️ \u001b[1m::group:: start post processing of retrieved stubs\u001b[0m\n"
      ]
     },
     "metadata": {},
     "output_type": "display_data"
    },
    {
     "data": {
      "text/html": [
       "<pre style=\"white-space:pre;overflow-x:auto;line-height:normal;font-family:Menlo,'DejaVu Sans Mono',consolas,'Courier New',monospace\"><span style=\"color: #008000; text-decoration-color: #008000\">09:06:38</span> | ℹ️ <span style=\"font-weight: bold\">Running autoflake on: repos\\micropython-stubs\\stubs\\micropython-v1_23_0-docstubs</span>\n",
       "</pre>\n"
      ],
      "text/plain": [
       "\u001b[32m09:06:38\u001b[0m | ℹ️ \u001b[1mRunning autoflake on: repos\\micropython-stubs\\stubs\\micropython-v1_23_0-docstubs\u001b[0m\n"
      ]
     },
     "metadata": {},
     "output_type": "display_data"
    },
    {
     "data": {
      "text/html": [
       "<pre style=\"white-space:pre;overflow-x:auto;line-height:normal;font-family:Menlo,'DejaVu Sans Mono',consolas,'Courier New',monospace\"><span style=\"color: #008000; text-decoration-color: #008000\">09:06:39</span> | ℹ️ <span style=\"font-weight: bold\">::group:: Done</span>\n",
       "</pre>\n"
      ],
      "text/plain": [
       "\u001b[32m09:06:39\u001b[0m | ℹ️ \u001b[1m::group:: Done\u001b[0m\n"
      ]
     },
     "metadata": {},
     "output_type": "display_data"
    },
    {
     "name": "stderr",
     "output_type": "stream",
     "text": [
      "All done! ✨ 🍰 ✨\n",
      "103 files left unchanged.\n"
     ]
    }
   ],
   "source": [
    "# create docstubs without cleaning up the .rst  docstrings\n",
    "%run -m stubber.stubber docstubs --version stable \n",
    "# --no-clean-rst\n",
    "\n",
    "! black repos\\micropython-stubs\\stubs\\micropython-v1_23_0-docstubs\n"
   ]
  },
  {
   "cell_type": "code",
   "execution_count": 5,
   "metadata": {},
   "outputs": [
    {
     "data": {
      "text/html": [
       "<pre style=\"white-space:pre;overflow-x:auto;line-height:normal;font-family:Menlo,'DejaVu Sans Mono',consolas,'Courier New',monospace\"><span style=\"color: #008000; text-decoration-color: #008000\">09:06:41</span> | ℹ️ <span style=\"font-weight: bold\">micropython-stubber </span><span style=\"color: #008080; text-decoration-color: #008080; font-weight: bold\">1.23</span><span style=\"font-weight: bold\">.2a0</span>\n",
       "</pre>\n"
      ],
      "text/plain": [
       "\u001b[32m09:06:41\u001b[0m | ℹ️ \u001b[1mmicropython-stubber \u001b[0m\u001b[1;36m1.23\u001b[0m\u001b[1m.2a0\u001b[0m\n"
      ]
     },
     "metadata": {},
     "output_type": "display_data"
    },
    {
     "data": {
      "text/html": [
       "<pre style=\"white-space:pre;overflow-x:auto;line-height:normal;font-family:Menlo,'DejaVu Sans Mono',consolas,'Courier New',monospace\"><span style=\"color: #008000; text-decoration-color: #008000\">09:06:41</span> | ℹ️ <span style=\"font-weight: bold\">Enriching repos\\micropython-stubs\\stubs\\micropython-v1_23_0-docstubs with </span>\n",
       "<span style=\"font-weight: bold\">repos\\gobotTypeshed\\micropython_typesheds</span>\n",
       "</pre>\n"
      ],
      "text/plain": [
       "\u001b[32m09:06:41\u001b[0m | ℹ️ \u001b[1mEnriching repos\\micropython-stubs\\stubs\\micropython-v1_23_0-docstubs with \u001b[0m\n",
       "\u001b[1mrepos\\gobotTypeshed\\micropython_typesheds\u001b[0m\n"
      ]
     },
     "metadata": {},
     "output_type": "display_data"
    },
    {
     "data": {
      "text/html": [
       "<pre style=\"white-space:pre;overflow-x:auto;line-height:normal;font-family:Menlo,'DejaVu Sans Mono',consolas,'Courier New',monospace\"><span style=\"color: #008000; text-decoration-color: #008000\">09:06:41</span> | ℹ️ <span style=\"font-weight: bold\">Enrich folder repos\\micropython-stubs\\stubs\\micropython-v1_23_0-docstubs.</span>\n",
       "</pre>\n"
      ],
      "text/plain": [
       "\u001b[32m09:06:41\u001b[0m | ℹ️ \u001b[1mEnrich folder repos\\micropython-stubs\\stubs\\micropython-v1_23_0-docstubs.\u001b[0m\n"
      ]
     },
     "metadata": {},
     "output_type": "display_data"
    },
    {
     "data": {
      "text/html": [
       "<pre style=\"white-space:pre;overflow-x:auto;line-height:normal;font-family:Menlo,'DejaVu Sans Mono',consolas,'Courier New',monospace\"><span style=\"color: #008000; text-decoration-color: #008000\">09:06:41</span> | ℹ️ <span style=\"font-weight: bold\">Merge repos\\micropython-stubs\\stubs\\micropython-v1_23_0-docstubs\\_thread\\__init__.pyi from </span>\n",
       "<span style=\"font-weight: bold\">repos\\gobotTypeshed\\micropython_typesheds\\_thread.pyi</span>\n",
       "</pre>\n"
      ],
      "text/plain": [
       "\u001b[32m09:06:41\u001b[0m | ℹ️ \u001b[1mMerge repos\\micropython-stubs\\stubs\\micropython-v1_23_0-docstubs\\_thread\\__init__.pyi from \u001b[0m\n",
       "\u001b[1mrepos\\gobotTypeshed\\micropython_typesheds\\_thread.pyi\u001b[0m\n"
      ]
     },
     "metadata": {},
     "output_type": "display_data"
    },
    {
     "data": {
      "text/html": [
       "<pre style=\"white-space:pre;overflow-x:auto;line-height:normal;font-family:Menlo,'DejaVu Sans Mono',consolas,'Courier New',monospace\"><span style=\"color: #008000; text-decoration-color: #008000\">09:06:41</span> | ℹ️ <span style=\"font-weight: bold\">Merge repos\\micropython-stubs\\stubs\\micropython-v1_23_0-docstubs\\array\\__init__.pyi from </span>\n",
       "<span style=\"font-weight: bold\">repos\\gobotTypeshed\\micropython_typesheds\\array.pyi</span>\n",
       "</pre>\n"
      ],
      "text/plain": [
       "\u001b[32m09:06:41\u001b[0m | ℹ️ \u001b[1mMerge repos\\micropython-stubs\\stubs\\micropython-v1_23_0-docstubs\\array\\__init__.pyi from \u001b[0m\n",
       "\u001b[1mrepos\\gobotTypeshed\\micropython_typesheds\\array.pyi\u001b[0m\n"
      ]
     },
     "metadata": {},
     "output_type": "display_data"
    },
    {
     "data": {
      "text/html": [
       "<pre style=\"white-space:pre;overflow-x:auto;line-height:normal;font-family:Menlo,'DejaVu Sans Mono',consolas,'Courier New',monospace\"><span style=\"color: #008000; text-decoration-color: #008000\">09:06:41</span> | ℹ️ <span style=\"font-weight: bold\">Change __getitem__ to @overload</span>\n",
       "</pre>\n"
      ],
      "text/plain": [
       "\u001b[32m09:06:41\u001b[0m | ℹ️ \u001b[1mChange __getitem__ to @overload\u001b[0m\n"
      ]
     },
     "metadata": {},
     "output_type": "display_data"
    },
    {
     "data": {
      "text/html": [
       "<pre style=\"white-space:pre;overflow-x:auto;line-height:normal;font-family:Menlo,'DejaVu Sans Mono',consolas,'Courier New',monospace\"><span style=\"color: #008000; text-decoration-color: #008000\">09:06:41</span> | ℹ️ <span style=\"font-weight: bold\">Change __setitem__ to @overload</span>\n",
       "</pre>\n"
      ],
      "text/plain": [
       "\u001b[32m09:06:41\u001b[0m | ℹ️ \u001b[1mChange __setitem__ to @overload\u001b[0m\n"
      ]
     },
     "metadata": {},
     "output_type": "display_data"
    },
    {
     "data": {
      "text/html": [
       "<pre style=\"white-space:pre;overflow-x:auto;line-height:normal;font-family:Menlo,'DejaVu Sans Mono',consolas,'Courier New',monospace\"><span style=\"color: #008000; text-decoration-color: #008000\">09:06:41</span> | ℹ️ <span style=\"font-weight: bold\">Merge repos\\micropython-stubs\\stubs\\micropython-v1_23_0-docstubs\\array\\__init__.pyi from </span>\n",
       "<span style=\"font-weight: bold\">repos\\gobotTypeshed\\micropython_typesheds\\uarray.pyi</span>\n",
       "</pre>\n"
      ],
      "text/plain": [
       "\u001b[32m09:06:41\u001b[0m | ℹ️ \u001b[1mMerge repos\\micropython-stubs\\stubs\\micropython-v1_23_0-docstubs\\array\\__init__.pyi from \u001b[0m\n",
       "\u001b[1mrepos\\gobotTypeshed\\micropython_typesheds\\uarray.pyi\u001b[0m\n"
      ]
     },
     "metadata": {},
     "output_type": "display_data"
    },
    {
     "data": {
      "text/html": [
       "<pre style=\"white-space:pre;overflow-x:auto;line-height:normal;font-family:Menlo,'DejaVu Sans Mono',consolas,'Courier New',monospace\"><span style=\"color: #008000; text-decoration-color: #008000\">09:06:41</span> | ℹ️ <span style=\"font-weight: bold\">Merge repos\\micropython-stubs\\stubs\\micropython-v1_23_0-docstubs\\asyncio\\__init__.pyi from </span>\n",
       "<span style=\"font-weight: bold\">repos\\gobotTypeshed\\micropython_typesheds\\uasyncio.pyi</span>\n",
       "</pre>\n"
      ],
      "text/plain": [
       "\u001b[32m09:06:41\u001b[0m | ℹ️ \u001b[1mMerge repos\\micropython-stubs\\stubs\\micropython-v1_23_0-docstubs\\asyncio\\__init__.pyi from \u001b[0m\n",
       "\u001b[1mrepos\\gobotTypeshed\\micropython_typesheds\\uasyncio.pyi\u001b[0m\n"
      ]
     },
     "metadata": {},
     "output_type": "display_data"
    },
    {
     "data": {
      "text/html": [
       "<pre style=\"white-space:pre;overflow-x:auto;line-height:normal;font-family:Menlo,'DejaVu Sans Mono',consolas,'Courier New',monospace\"><span style=\"color: #008000; text-decoration-color: #008000\">09:06:41</span> | ℹ️ <span style=\"font-weight: bold\">Merge repos\\micropython-stubs\\stubs\\micropython-v1_23_0-docstubs\\binascii\\__init__.pyi from </span>\n",
       "<span style=\"font-weight: bold\">repos\\gobotTypeshed\\micropython_typesheds\\binascii.pyi</span>\n",
       "</pre>\n"
      ],
      "text/plain": [
       "\u001b[32m09:06:41\u001b[0m | ℹ️ \u001b[1mMerge repos\\micropython-stubs\\stubs\\micropython-v1_23_0-docstubs\\binascii\\__init__.pyi from \u001b[0m\n",
       "\u001b[1mrepos\\gobotTypeshed\\micropython_typesheds\\binascii.pyi\u001b[0m\n"
      ]
     },
     "metadata": {},
     "output_type": "display_data"
    },
    {
     "data": {
      "text/html": [
       "<pre style=\"white-space:pre;overflow-x:auto;line-height:normal;font-family:Menlo,'DejaVu Sans Mono',consolas,'Courier New',monospace\"><span style=\"color: #008000; text-decoration-color: #008000\">09:06:41</span> | ℹ️ <span style=\"font-weight: bold\">Merge repos\\micropython-stubs\\stubs\\micropython-v1_23_0-docstubs\\binascii\\__init__.pyi from </span>\n",
       "<span style=\"font-weight: bold\">repos\\gobotTypeshed\\micropython_typesheds\\ubinascii.pyi</span>\n",
       "</pre>\n"
      ],
      "text/plain": [
       "\u001b[32m09:06:41\u001b[0m | ℹ️ \u001b[1mMerge repos\\micropython-stubs\\stubs\\micropython-v1_23_0-docstubs\\binascii\\__init__.pyi from \u001b[0m\n",
       "\u001b[1mrepos\\gobotTypeshed\\micropython_typesheds\\ubinascii.pyi\u001b[0m\n"
      ]
     },
     "metadata": {},
     "output_type": "display_data"
    },
    {
     "data": {
      "text/html": [
       "<pre style=\"white-space:pre;overflow-x:auto;line-height:normal;font-family:Menlo,'DejaVu Sans Mono',consolas,'Courier New',monospace\"><span style=\"color: #008000; text-decoration-color: #008000\">09:06:41</span> | ℹ️ <span style=\"font-weight: bold\">Merge repos\\micropython-stubs\\stubs\\micropython-v1_23_0-docstubs\\bluetooth\\__init__.pyi from </span>\n",
       "<span style=\"font-weight: bold\">repos\\gobotTypeshed\\micropython_typesheds\\bluetooth.pyi</span>\n",
       "</pre>\n"
      ],
      "text/plain": [
       "\u001b[32m09:06:41\u001b[0m | ℹ️ \u001b[1mMerge repos\\micropython-stubs\\stubs\\micropython-v1_23_0-docstubs\\bluetooth\\__init__.pyi from \u001b[0m\n",
       "\u001b[1mrepos\\gobotTypeshed\\micropython_typesheds\\bluetooth.pyi\u001b[0m\n"
      ]
     },
     "metadata": {},
     "output_type": "display_data"
    },
    {
     "data": {
      "text/html": [
       "<pre style=\"white-space:pre;overflow-x:auto;line-height:normal;font-family:Menlo,'DejaVu Sans Mono',consolas,'Courier New',monospace\"><span style=\"color: #008000; text-decoration-color: #008000\">09:06:41</span> | ℹ️ <span style=\"font-weight: bold\">Change active to @overload</span>\n",
       "</pre>\n"
      ],
      "text/plain": [
       "\u001b[32m09:06:41\u001b[0m | ℹ️ \u001b[1mChange active to @overload\u001b[0m\n"
      ]
     },
     "metadata": {},
     "output_type": "display_data"
    },
    {
     "data": {
      "text/html": [
       "<pre style=\"white-space:pre;overflow-x:auto;line-height:normal;font-family:Menlo,'DejaVu Sans Mono',consolas,'Courier New',monospace\"><span style=\"color: #008000; text-decoration-color: #008000\">09:06:41</span> | ℹ️ <span style=\"font-weight: bold\">Change config to @overload</span>\n",
       "</pre>\n"
      ],
      "text/plain": [
       "\u001b[32m09:06:41\u001b[0m | ℹ️ \u001b[1mChange config to @overload\u001b[0m\n"
      ]
     },
     "metadata": {},
     "output_type": "display_data"
    },
    {
     "data": {
      "text/html": [
       "<pre style=\"white-space:pre;overflow-x:auto;line-height:normal;font-family:Menlo,'DejaVu Sans Mono',consolas,'Courier New',monospace\"><span style=\"color: #008000; text-decoration-color: #008000\">09:06:41</span> | ℹ️ <span style=\"font-weight: bold\">Merge repos\\micropython-stubs\\stubs\\micropython-v1_23_0-docstubs\\bluetooth\\__init__.pyi from </span>\n",
       "<span style=\"font-weight: bold\">repos\\gobotTypeshed\\micropython_typesheds\\ubluetooth.pyi</span>\n",
       "</pre>\n"
      ],
      "text/plain": [
       "\u001b[32m09:06:41\u001b[0m | ℹ️ \u001b[1mMerge repos\\micropython-stubs\\stubs\\micropython-v1_23_0-docstubs\\bluetooth\\__init__.pyi from \u001b[0m\n",
       "\u001b[1mrepos\\gobotTypeshed\\micropython_typesheds\\ubluetooth.pyi\u001b[0m\n"
      ]
     },
     "metadata": {},
     "output_type": "display_data"
    },
    {
     "data": {
      "text/html": [
       "<pre style=\"white-space:pre;overflow-x:auto;line-height:normal;font-family:Menlo,'DejaVu Sans Mono',consolas,'Courier New',monospace\"><span style=\"color: #008000; text-decoration-color: #008000\">09:06:42</span> | ℹ️ <span style=\"font-weight: bold\">Merge repos\\micropython-stubs\\stubs\\micropython-v1_23_0-docstubs\\btree\\__init__.pyi from </span>\n",
       "<span style=\"font-weight: bold\">repos\\gobotTypeshed\\micropython_typesheds\\btree.pyi</span>\n",
       "</pre>\n"
      ],
      "text/plain": [
       "\u001b[32m09:06:42\u001b[0m | ℹ️ \u001b[1mMerge repos\\micropython-stubs\\stubs\\micropython-v1_23_0-docstubs\\btree\\__init__.pyi from \u001b[0m\n",
       "\u001b[1mrepos\\gobotTypeshed\\micropython_typesheds\\btree.pyi\u001b[0m\n"
      ]
     },
     "metadata": {},
     "output_type": "display_data"
    },
    {
     "data": {
      "text/html": [
       "<pre style=\"white-space:pre;overflow-x:auto;line-height:normal;font-family:Menlo,'DejaVu Sans Mono',consolas,'Courier New',monospace\"><span style=\"color: #008000; text-decoration-color: #008000\">09:06:42</span> | ℹ️ <span style=\"font-weight: bold\">Merge repos\\micropython-stubs\\stubs\\micropython-v1_23_0-docstubs\\cmath\\__init__.pyi from </span>\n",
       "<span style=\"font-weight: bold\">repos\\gobotTypeshed\\micropython_typesheds\\cmath.pyi</span>\n",
       "</pre>\n"
      ],
      "text/plain": [
       "\u001b[32m09:06:42\u001b[0m | ℹ️ \u001b[1mMerge repos\\micropython-stubs\\stubs\\micropython-v1_23_0-docstubs\\cmath\\__init__.pyi from \u001b[0m\n",
       "\u001b[1mrepos\\gobotTypeshed\\micropython_typesheds\\cmath.pyi\u001b[0m\n"
      ]
     },
     "metadata": {},
     "output_type": "display_data"
    },
    {
     "data": {
      "text/html": [
       "<pre style=\"white-space:pre;overflow-x:auto;line-height:normal;font-family:Menlo,'DejaVu Sans Mono',consolas,'Courier New',monospace\"><span style=\"color: #008000; text-decoration-color: #008000\">09:06:42</span> | ℹ️ <span style=\"font-weight: bold\">Merge repos\\micropython-stubs\\stubs\\micropython-v1_23_0-docstubs\\collections\\__init__.pyi from </span>\n",
       "<span style=\"font-weight: bold\">repos\\gobotTypeshed\\micropython_typesheds\\collections.pyi</span>\n",
       "</pre>\n"
      ],
      "text/plain": [
       "\u001b[32m09:06:42\u001b[0m | ℹ️ \u001b[1mMerge repos\\micropython-stubs\\stubs\\micropython-v1_23_0-docstubs\\collections\\__init__.pyi from \u001b[0m\n",
       "\u001b[1mrepos\\gobotTypeshed\\micropython_typesheds\\collections.pyi\u001b[0m\n"
      ]
     },
     "metadata": {},
     "output_type": "display_data"
    },
    {
     "data": {
      "text/html": [
       "<pre style=\"white-space:pre;overflow-x:auto;line-height:normal;font-family:Menlo,'DejaVu Sans Mono',consolas,'Courier New',monospace\"><span style=\"color: #008000; text-decoration-color: #008000\">09:06:42</span> | ℹ️ <span style=\"font-weight: bold\">Change __init__ to @overload</span>\n",
       "</pre>\n"
      ],
      "text/plain": [
       "\u001b[32m09:06:42\u001b[0m | ℹ️ \u001b[1mChange __init__ to @overload\u001b[0m\n"
      ]
     },
     "metadata": {},
     "output_type": "display_data"
    },
    {
     "data": {
      "text/html": [
       "<pre style=\"white-space:pre;overflow-x:auto;line-height:normal;font-family:Menlo,'DejaVu Sans Mono',consolas,'Courier New',monospace\"><span style=\"color: #008000; text-decoration-color: #008000\">09:06:42</span> | ℹ️ <span style=\"font-weight: bold\">Merge repos\\micropython-stubs\\stubs\\micropython-v1_23_0-docstubs\\collections\\__init__.pyi from </span>\n",
       "<span style=\"font-weight: bold\">repos\\gobotTypeshed\\micropython_typesheds\\ucollections.pyi</span>\n",
       "</pre>\n"
      ],
      "text/plain": [
       "\u001b[32m09:06:42\u001b[0m | ℹ️ \u001b[1mMerge repos\\micropython-stubs\\stubs\\micropython-v1_23_0-docstubs\\collections\\__init__.pyi from \u001b[0m\n",
       "\u001b[1mrepos\\gobotTypeshed\\micropython_typesheds\\ucollections.pyi\u001b[0m\n"
      ]
     },
     "metadata": {},
     "output_type": "display_data"
    },
    {
     "data": {
      "text/html": [
       "<pre style=\"white-space:pre;overflow-x:auto;line-height:normal;font-family:Menlo,'DejaVu Sans Mono',consolas,'Courier New',monospace\"><span style=\"color: #008000; text-decoration-color: #008000\">09:06:42</span> | ℹ️ <span style=\"font-weight: bold\">Merge repos\\micropython-stubs\\stubs\\micropython-v1_23_0-docstubs\\cryptolib\\__init__.pyi from </span>\n",
       "<span style=\"font-weight: bold\">repos\\gobotTypeshed\\micropython_typesheds\\cryptolib.pyi</span>\n",
       "</pre>\n"
      ],
      "text/plain": [
       "\u001b[32m09:06:42\u001b[0m | ℹ️ \u001b[1mMerge repos\\micropython-stubs\\stubs\\micropython-v1_23_0-docstubs\\cryptolib\\__init__.pyi from \u001b[0m\n",
       "\u001b[1mrepos\\gobotTypeshed\\micropython_typesheds\\cryptolib.pyi\u001b[0m\n"
      ]
     },
     "metadata": {},
     "output_type": "display_data"
    },
    {
     "data": {
      "text/html": [
       "<pre style=\"white-space:pre;overflow-x:auto;line-height:normal;font-family:Menlo,'DejaVu Sans Mono',consolas,'Courier New',monospace\"><span style=\"color: #008000; text-decoration-color: #008000\">09:06:42</span> | ℹ️ <span style=\"font-weight: bold\">Change __init__ to @overload</span>\n",
       "</pre>\n"
      ],
      "text/plain": [
       "\u001b[32m09:06:42\u001b[0m | ℹ️ \u001b[1mChange __init__ to @overload\u001b[0m\n"
      ]
     },
     "metadata": {},
     "output_type": "display_data"
    },
    {
     "data": {
      "text/html": [
       "<pre style=\"white-space:pre;overflow-x:auto;line-height:normal;font-family:Menlo,'DejaVu Sans Mono',consolas,'Courier New',monospace\"><span style=\"color: #008000; text-decoration-color: #008000\">09:06:42</span> | ℹ️ <span style=\"font-weight: bold\">Change encrypt to @overload</span>\n",
       "</pre>\n"
      ],
      "text/plain": [
       "\u001b[32m09:06:42\u001b[0m | ℹ️ \u001b[1mChange encrypt to @overload\u001b[0m\n"
      ]
     },
     "metadata": {},
     "output_type": "display_data"
    },
    {
     "data": {
      "text/html": [
       "<pre style=\"white-space:pre;overflow-x:auto;line-height:normal;font-family:Menlo,'DejaVu Sans Mono',consolas,'Courier New',monospace\"><span style=\"color: #008000; text-decoration-color: #008000\">09:06:42</span> | ℹ️ <span style=\"font-weight: bold\">Change decrypt to @overload</span>\n",
       "</pre>\n"
      ],
      "text/plain": [
       "\u001b[32m09:06:42\u001b[0m | ℹ️ \u001b[1mChange decrypt to @overload\u001b[0m\n"
      ]
     },
     "metadata": {},
     "output_type": "display_data"
    },
    {
     "data": {
      "text/html": [
       "<pre style=\"white-space:pre;overflow-x:auto;line-height:normal;font-family:Menlo,'DejaVu Sans Mono',consolas,'Courier New',monospace\"><span style=\"color: #008000; text-decoration-color: #008000\">09:06:42</span> | ℹ️ <span style=\"font-weight: bold\">Merge repos\\micropython-stubs\\stubs\\micropython-v1_23_0-docstubs\\cryptolib\\__init__.pyi from </span>\n",
       "<span style=\"font-weight: bold\">repos\\gobotTypeshed\\micropython_typesheds\\ucryptolib.pyi</span>\n",
       "</pre>\n"
      ],
      "text/plain": [
       "\u001b[32m09:06:42\u001b[0m | ℹ️ \u001b[1mMerge repos\\micropython-stubs\\stubs\\micropython-v1_23_0-docstubs\\cryptolib\\__init__.pyi from \u001b[0m\n",
       "\u001b[1mrepos\\gobotTypeshed\\micropython_typesheds\\ucryptolib.pyi\u001b[0m\n"
      ]
     },
     "metadata": {},
     "output_type": "display_data"
    },
    {
     "data": {
      "text/html": [
       "<pre style=\"white-space:pre;overflow-x:auto;line-height:normal;font-family:Menlo,'DejaVu Sans Mono',consolas,'Courier New',monospace\"><span style=\"color: #008000; text-decoration-color: #008000\">09:06:42</span> | ℹ️ <span style=\"font-weight: bold\">Merge repos\\micropython-stubs\\stubs\\micropython-v1_23_0-docstubs\\errno\\__init__.pyi from </span>\n",
       "<span style=\"font-weight: bold\">repos\\gobotTypeshed\\micropython_typesheds\\errno.pyi</span>\n",
       "</pre>\n"
      ],
      "text/plain": [
       "\u001b[32m09:06:42\u001b[0m | ℹ️ \u001b[1mMerge repos\\micropython-stubs\\stubs\\micropython-v1_23_0-docstubs\\errno\\__init__.pyi from \u001b[0m\n",
       "\u001b[1mrepos\\gobotTypeshed\\micropython_typesheds\\errno.pyi\u001b[0m\n"
      ]
     },
     "metadata": {},
     "output_type": "display_data"
    },
    {
     "data": {
      "text/html": [
       "<pre style=\"white-space:pre;overflow-x:auto;line-height:normal;font-family:Menlo,'DejaVu Sans Mono',consolas,'Courier New',monospace\"><span style=\"color: #008000; text-decoration-color: #008000\">09:06:42</span> | ℹ️ <span style=\"font-weight: bold\">Merge repos\\micropython-stubs\\stubs\\micropython-v1_23_0-docstubs\\errno\\__init__.pyi from </span>\n",
       "<span style=\"font-weight: bold\">repos\\gobotTypeshed\\micropython_typesheds\\uerrno.pyi</span>\n",
       "</pre>\n"
      ],
      "text/plain": [
       "\u001b[32m09:06:42\u001b[0m | ℹ️ \u001b[1mMerge repos\\micropython-stubs\\stubs\\micropython-v1_23_0-docstubs\\errno\\__init__.pyi from \u001b[0m\n",
       "\u001b[1mrepos\\gobotTypeshed\\micropython_typesheds\\uerrno.pyi\u001b[0m\n"
      ]
     },
     "metadata": {},
     "output_type": "display_data"
    },
    {
     "data": {
      "text/html": [
       "<pre style=\"white-space:pre;overflow-x:auto;line-height:normal;font-family:Menlo,'DejaVu Sans Mono',consolas,'Courier New',monospace\"><span style=\"color: #008000; text-decoration-color: #008000\">09:06:42</span> | ℹ️ <span style=\"font-weight: bold\">Merge repos\\micropython-stubs\\stubs\\micropython-v1_23_0-docstubs\\esp\\__init__.pyi from </span>\n",
       "<span style=\"font-weight: bold\">repos\\gobotTypeshed\\micropython_typesheds\\esp.pyi</span>\n",
       "</pre>\n"
      ],
      "text/plain": [
       "\u001b[32m09:06:42\u001b[0m | ℹ️ \u001b[1mMerge repos\\micropython-stubs\\stubs\\micropython-v1_23_0-docstubs\\esp\\__init__.pyi from \u001b[0m\n",
       "\u001b[1mrepos\\gobotTypeshed\\micropython_typesheds\\esp.pyi\u001b[0m\n"
      ]
     },
     "metadata": {},
     "output_type": "display_data"
    },
    {
     "data": {
      "text/html": [
       "<pre style=\"white-space:pre;overflow-x:auto;line-height:normal;font-family:Menlo,'DejaVu Sans Mono',consolas,'Courier New',monospace\"><span style=\"color: #008000; text-decoration-color: #008000\">09:06:42</span> | ℹ️ <span style=\"font-weight: bold\">Change sleep_type to @overload</span>\n",
       "</pre>\n"
      ],
      "text/plain": [
       "\u001b[32m09:06:42\u001b[0m | ℹ️ \u001b[1mChange sleep_type to @overload\u001b[0m\n"
      ]
     },
     "metadata": {},
     "output_type": "display_data"
    },
    {
     "data": {
      "text/html": [
       "<pre style=\"white-space:pre;overflow-x:auto;line-height:normal;font-family:Menlo,'DejaVu Sans Mono',consolas,'Courier New',monospace\"><span style=\"color: #008000; text-decoration-color: #008000\">09:06:42</span> | ℹ️ <span style=\"font-weight: bold\">Change flash_read to @overload</span>\n",
       "</pre>\n"
      ],
      "text/plain": [
       "\u001b[32m09:06:42\u001b[0m | ℹ️ \u001b[1mChange flash_read to @overload\u001b[0m\n"
      ]
     },
     "metadata": {},
     "output_type": "display_data"
    },
    {
     "data": {
      "text/html": [
       "<pre style=\"white-space:pre;overflow-x:auto;line-height:normal;font-family:Menlo,'DejaVu Sans Mono',consolas,'Courier New',monospace\"><span style=\"color: #008000; text-decoration-color: #008000\">09:06:42</span> | ℹ️ <span style=\"font-weight: bold\">Change set_native_code_location to @overload</span>\n",
       "</pre>\n"
      ],
      "text/plain": [
       "\u001b[32m09:06:42\u001b[0m | ℹ️ \u001b[1mChange set_native_code_location to @overload\u001b[0m\n"
      ]
     },
     "metadata": {},
     "output_type": "display_data"
    },
    {
     "data": {
      "text/html": [
       "<pre style=\"white-space:pre;overflow-x:auto;line-height:normal;font-family:Menlo,'DejaVu Sans Mono',consolas,'Courier New',monospace\"><span style=\"color: #008000; text-decoration-color: #008000\">09:06:42</span> | ℹ️ <span style=\"font-weight: bold\">Merge repos\\micropython-stubs\\stubs\\micropython-v1_23_0-docstubs\\esp32\\__init__.pyi from </span>\n",
       "<span style=\"font-weight: bold\">repos\\gobotTypeshed\\micropython_typesheds\\esp32.pyi</span>\n",
       "</pre>\n"
      ],
      "text/plain": [
       "\u001b[32m09:06:42\u001b[0m | ℹ️ \u001b[1mMerge repos\\micropython-stubs\\stubs\\micropython-v1_23_0-docstubs\\esp32\\__init__.pyi from \u001b[0m\n",
       "\u001b[1mrepos\\gobotTypeshed\\micropython_typesheds\\esp32.pyi\u001b[0m\n"
      ]
     },
     "metadata": {},
     "output_type": "display_data"
    },
    {
     "data": {
      "text/html": [
       "<pre style=\"white-space:pre;overflow-x:auto;line-height:normal;font-family:Menlo,'DejaVu Sans Mono',consolas,'Courier New',monospace\"><span style=\"color: #008000; text-decoration-color: #008000\">09:06:43</span> | ℹ️ <span style=\"font-weight: bold\">Change write_pulses to @overload</span>\n",
       "</pre>\n"
      ],
      "text/plain": [
       "\u001b[32m09:06:43\u001b[0m | ℹ️ \u001b[1mChange write_pulses to @overload\u001b[0m\n"
      ]
     },
     "metadata": {},
     "output_type": "display_data"
    },
    {
     "data": {
      "text/html": [
       "<pre style=\"white-space:pre;overflow-x:auto;line-height:normal;font-family:Menlo,'DejaVu Sans Mono',consolas,'Courier New',monospace\"><span style=\"color: #008000; text-decoration-color: #008000\">09:06:43</span> | ℹ️ <span style=\"font-weight: bold\">Merge repos\\micropython-stubs\\stubs\\micropython-v1_23_0-docstubs\\framebuf\\__init__.pyi from </span>\n",
       "<span style=\"font-weight: bold\">repos\\gobotTypeshed\\micropython_typesheds\\framebuf.pyi</span>\n",
       "</pre>\n"
      ],
      "text/plain": [
       "\u001b[32m09:06:43\u001b[0m | ℹ️ \u001b[1mMerge repos\\micropython-stubs\\stubs\\micropython-v1_23_0-docstubs\\framebuf\\__init__.pyi from \u001b[0m\n",
       "\u001b[1mrepos\\gobotTypeshed\\micropython_typesheds\\framebuf.pyi\u001b[0m\n"
      ]
     },
     "metadata": {},
     "output_type": "display_data"
    },
    {
     "data": {
      "text/html": [
       "<pre style=\"white-space:pre;overflow-x:auto;line-height:normal;font-family:Menlo,'DejaVu Sans Mono',consolas,'Courier New',monospace\"><span style=\"color: #008000; text-decoration-color: #008000\">09:06:43</span> | ℹ️ <span style=\"font-weight: bold\">Change pixel to @overload</span>\n",
       "</pre>\n"
      ],
      "text/plain": [
       "\u001b[32m09:06:43\u001b[0m | ℹ️ \u001b[1mChange pixel to @overload\u001b[0m\n"
      ]
     },
     "metadata": {},
     "output_type": "display_data"
    },
    {
     "data": {
      "text/html": [
       "<pre style=\"white-space:pre;overflow-x:auto;line-height:normal;font-family:Menlo,'DejaVu Sans Mono',consolas,'Courier New',monospace\"><span style=\"color: #008000; text-decoration-color: #008000\">09:06:43</span> | ℹ️ <span style=\"font-weight: bold\">Merge repos\\micropython-stubs\\stubs\\micropython-v1_23_0-docstubs\\gc\\__init__.pyi from </span>\n",
       "<span style=\"font-weight: bold\">repos\\gobotTypeshed\\micropython_typesheds\\gc.pyi</span>\n",
       "</pre>\n"
      ],
      "text/plain": [
       "\u001b[32m09:06:43\u001b[0m | ℹ️ \u001b[1mMerge repos\\micropython-stubs\\stubs\\micropython-v1_23_0-docstubs\\gc\\__init__.pyi from \u001b[0m\n",
       "\u001b[1mrepos\\gobotTypeshed\\micropython_typesheds\\gc.pyi\u001b[0m\n"
      ]
     },
     "metadata": {},
     "output_type": "display_data"
    },
    {
     "data": {
      "text/html": [
       "<pre style=\"white-space:pre;overflow-x:auto;line-height:normal;font-family:Menlo,'DejaVu Sans Mono',consolas,'Courier New',monospace\"><span style=\"color: #008000; text-decoration-color: #008000\">09:06:43</span> | ℹ️ <span style=\"font-weight: bold\">Change threshold to @overload</span>\n",
       "</pre>\n"
      ],
      "text/plain": [
       "\u001b[32m09:06:43\u001b[0m | ℹ️ \u001b[1mChange threshold to @overload\u001b[0m\n"
      ]
     },
     "metadata": {},
     "output_type": "display_data"
    },
    {
     "data": {
      "text/html": [
       "<pre style=\"white-space:pre;overflow-x:auto;line-height:normal;font-family:Menlo,'DejaVu Sans Mono',consolas,'Courier New',monospace\"><span style=\"color: #008000; text-decoration-color: #008000\">09:06:43</span> | ℹ️ <span style=\"font-weight: bold\">Merge repos\\micropython-stubs\\stubs\\micropython-v1_23_0-docstubs\\hashlib\\__init__.pyi from </span>\n",
       "<span style=\"font-weight: bold\">repos\\gobotTypeshed\\micropython_typesheds\\hashlib.pyi</span>\n",
       "</pre>\n"
      ],
      "text/plain": [
       "\u001b[32m09:06:43\u001b[0m | ℹ️ \u001b[1mMerge repos\\micropython-stubs\\stubs\\micropython-v1_23_0-docstubs\\hashlib\\__init__.pyi from \u001b[0m\n",
       "\u001b[1mrepos\\gobotTypeshed\\micropython_typesheds\\hashlib.pyi\u001b[0m\n"
      ]
     },
     "metadata": {},
     "output_type": "display_data"
    },
    {
     "data": {
      "text/html": [
       "<pre style=\"white-space:pre;overflow-x:auto;line-height:normal;font-family:Menlo,'DejaVu Sans Mono',consolas,'Courier New',monospace\"><span style=\"color: #008000; text-decoration-color: #008000\">09:06:43</span> | ℹ️ <span style=\"font-weight: bold\">Change __init__ to @overload</span>\n",
       "</pre>\n"
      ],
      "text/plain": [
       "\u001b[32m09:06:43\u001b[0m | ℹ️ \u001b[1mChange __init__ to @overload\u001b[0m\n"
      ]
     },
     "metadata": {},
     "output_type": "display_data"
    },
    {
     "data": {
      "text/html": [
       "<pre style=\"white-space:pre;overflow-x:auto;line-height:normal;font-family:Menlo,'DejaVu Sans Mono',consolas,'Courier New',monospace\"><span style=\"color: #008000; text-decoration-color: #008000\">09:06:43</span> | ℹ️ <span style=\"font-weight: bold\">Change __init__ to @overload</span>\n",
       "</pre>\n"
      ],
      "text/plain": [
       "\u001b[32m09:06:43\u001b[0m | ℹ️ \u001b[1mChange __init__ to @overload\u001b[0m\n"
      ]
     },
     "metadata": {},
     "output_type": "display_data"
    },
    {
     "data": {
      "text/html": [
       "<pre style=\"white-space:pre;overflow-x:auto;line-height:normal;font-family:Menlo,'DejaVu Sans Mono',consolas,'Courier New',monospace\"><span style=\"color: #008000; text-decoration-color: #008000\">09:06:43</span> | ℹ️ <span style=\"font-weight: bold\">Merge repos\\micropython-stubs\\stubs\\micropython-v1_23_0-docstubs\\hashlib\\__init__.pyi from </span>\n",
       "<span style=\"font-weight: bold\">repos\\gobotTypeshed\\micropython_typesheds\\uhashlib.pyi</span>\n",
       "</pre>\n"
      ],
      "text/plain": [
       "\u001b[32m09:06:43\u001b[0m | ℹ️ \u001b[1mMerge repos\\micropython-stubs\\stubs\\micropython-v1_23_0-docstubs\\hashlib\\__init__.pyi from \u001b[0m\n",
       "\u001b[1mrepos\\gobotTypeshed\\micropython_typesheds\\uhashlib.pyi\u001b[0m\n"
      ]
     },
     "metadata": {},
     "output_type": "display_data"
    },
    {
     "data": {
      "text/html": [
       "<pre style=\"white-space:pre;overflow-x:auto;line-height:normal;font-family:Menlo,'DejaVu Sans Mono',consolas,'Courier New',monospace\"><span style=\"color: #008000; text-decoration-color: #008000\">09:06:43</span> | ℹ️ <span style=\"font-weight: bold\">Merge repos\\micropython-stubs\\stubs\\micropython-v1_23_0-docstubs\\heapq\\__init__.pyi from </span>\n",
       "<span style=\"font-weight: bold\">repos\\gobotTypeshed\\micropython_typesheds\\heapq.pyi</span>\n",
       "</pre>\n"
      ],
      "text/plain": [
       "\u001b[32m09:06:43\u001b[0m | ℹ️ \u001b[1mMerge repos\\micropython-stubs\\stubs\\micropython-v1_23_0-docstubs\\heapq\\__init__.pyi from \u001b[0m\n",
       "\u001b[1mrepos\\gobotTypeshed\\micropython_typesheds\\heapq.pyi\u001b[0m\n"
      ]
     },
     "metadata": {},
     "output_type": "display_data"
    },
    {
     "data": {
      "text/html": [
       "<pre style=\"white-space:pre;overflow-x:auto;line-height:normal;font-family:Menlo,'DejaVu Sans Mono',consolas,'Courier New',monospace\"><span style=\"color: #008000; text-decoration-color: #008000\">09:06:43</span> | ℹ️ <span style=\"font-weight: bold\">Merge repos\\micropython-stubs\\stubs\\micropython-v1_23_0-docstubs\\heapq\\__init__.pyi from </span>\n",
       "<span style=\"font-weight: bold\">repos\\gobotTypeshed\\micropython_typesheds\\uheapq.pyi</span>\n",
       "</pre>\n"
      ],
      "text/plain": [
       "\u001b[32m09:06:43\u001b[0m | ℹ️ \u001b[1mMerge repos\\micropython-stubs\\stubs\\micropython-v1_23_0-docstubs\\heapq\\__init__.pyi from \u001b[0m\n",
       "\u001b[1mrepos\\gobotTypeshed\\micropython_typesheds\\uheapq.pyi\u001b[0m\n"
      ]
     },
     "metadata": {},
     "output_type": "display_data"
    },
    {
     "data": {
      "text/html": [
       "<pre style=\"white-space:pre;overflow-x:auto;line-height:normal;font-family:Menlo,'DejaVu Sans Mono',consolas,'Courier New',monospace\"><span style=\"color: #008000; text-decoration-color: #008000\">09:06:43</span> | ℹ️ <span style=\"font-weight: bold\">Merge repos\\micropython-stubs\\stubs\\micropython-v1_23_0-docstubs\\io\\__init__.pyi from </span>\n",
       "<span style=\"font-weight: bold\">repos\\gobotTypeshed\\micropython_typesheds\\io.pyi</span>\n",
       "</pre>\n"
      ],
      "text/plain": [
       "\u001b[32m09:06:43\u001b[0m | ℹ️ \u001b[1mMerge repos\\micropython-stubs\\stubs\\micropython-v1_23_0-docstubs\\io\\__init__.pyi from \u001b[0m\n",
       "\u001b[1mrepos\\gobotTypeshed\\micropython_typesheds\\io.pyi\u001b[0m\n"
      ]
     },
     "metadata": {},
     "output_type": "display_data"
    },
    {
     "data": {
      "text/html": [
       "<pre style=\"white-space:pre;overflow-x:auto;line-height:normal;font-family:Menlo,'DejaVu Sans Mono',consolas,'Courier New',monospace\"><span style=\"color: #008000; text-decoration-color: #008000\">09:06:43</span> | ℹ️ <span style=\"font-weight: bold\">Change __init__ to @overload</span>\n",
       "</pre>\n"
      ],
      "text/plain": [
       "\u001b[32m09:06:43\u001b[0m | ℹ️ \u001b[1mChange __init__ to @overload\u001b[0m\n"
      ]
     },
     "metadata": {},
     "output_type": "display_data"
    },
    {
     "data": {
      "text/html": [
       "<pre style=\"white-space:pre;overflow-x:auto;line-height:normal;font-family:Menlo,'DejaVu Sans Mono',consolas,'Courier New',monospace\"><span style=\"color: #008000; text-decoration-color: #008000\">09:06:43</span> | ℹ️ <span style=\"font-weight: bold\">Change __init__ to @overload</span>\n",
       "</pre>\n"
      ],
      "text/plain": [
       "\u001b[32m09:06:43\u001b[0m | ℹ️ \u001b[1mChange __init__ to @overload\u001b[0m\n"
      ]
     },
     "metadata": {},
     "output_type": "display_data"
    },
    {
     "data": {
      "text/html": [
       "<pre style=\"white-space:pre;overflow-x:auto;line-height:normal;font-family:Menlo,'DejaVu Sans Mono',consolas,'Courier New',monospace\"><span style=\"color: #008000; text-decoration-color: #008000\">09:06:43</span> | ℹ️ <span style=\"font-weight: bold\">Change open to @overload</span>\n",
       "</pre>\n"
      ],
      "text/plain": [
       "\u001b[32m09:06:43\u001b[0m | ℹ️ \u001b[1mChange open to @overload\u001b[0m\n"
      ]
     },
     "metadata": {},
     "output_type": "display_data"
    },
    {
     "data": {
      "text/html": [
       "<pre style=\"white-space:pre;overflow-x:auto;line-height:normal;font-family:Menlo,'DejaVu Sans Mono',consolas,'Courier New',monospace\"><span style=\"color: #008000; text-decoration-color: #008000\">09:06:43</span> | ℹ️ <span style=\"font-weight: bold\">Merge repos\\micropython-stubs\\stubs\\micropython-v1_23_0-docstubs\\io\\__init__.pyi from </span>\n",
       "<span style=\"font-weight: bold\">repos\\gobotTypeshed\\micropython_typesheds\\uio.pyi</span>\n",
       "</pre>\n"
      ],
      "text/plain": [
       "\u001b[32m09:06:43\u001b[0m | ℹ️ \u001b[1mMerge repos\\micropython-stubs\\stubs\\micropython-v1_23_0-docstubs\\io\\__init__.pyi from \u001b[0m\n",
       "\u001b[1mrepos\\gobotTypeshed\\micropython_typesheds\\uio.pyi\u001b[0m\n"
      ]
     },
     "metadata": {},
     "output_type": "display_data"
    },
    {
     "data": {
      "text/html": [
       "<pre style=\"white-space:pre;overflow-x:auto;line-height:normal;font-family:Menlo,'DejaVu Sans Mono',consolas,'Courier New',monospace\"><span style=\"color: #008000; text-decoration-color: #008000\">09:06:43</span> | ℹ️ <span style=\"font-weight: bold\">Merge repos\\micropython-stubs\\stubs\\micropython-v1_23_0-docstubs\\json\\__init__.pyi from </span>\n",
       "<span style=\"font-weight: bold\">repos\\gobotTypeshed\\micropython_typesheds\\json.pyi</span>\n",
       "</pre>\n"
      ],
      "text/plain": [
       "\u001b[32m09:06:43\u001b[0m | ℹ️ \u001b[1mMerge repos\\micropython-stubs\\stubs\\micropython-v1_23_0-docstubs\\json\\__init__.pyi from \u001b[0m\n",
       "\u001b[1mrepos\\gobotTypeshed\\micropython_typesheds\\json.pyi\u001b[0m\n"
      ]
     },
     "metadata": {},
     "output_type": "display_data"
    },
    {
     "data": {
      "text/html": [
       "<pre style=\"white-space:pre;overflow-x:auto;line-height:normal;font-family:Menlo,'DejaVu Sans Mono',consolas,'Courier New',monospace\"><span style=\"color: #008000; text-decoration-color: #008000\">09:06:43</span> | ℹ️ <span style=\"font-weight: bold\">Merge repos\\micropython-stubs\\stubs\\micropython-v1_23_0-docstubs\\json\\__init__.pyi from </span>\n",
       "<span style=\"font-weight: bold\">repos\\gobotTypeshed\\micropython_typesheds\\ujson.pyi</span>\n",
       "</pre>\n"
      ],
      "text/plain": [
       "\u001b[32m09:06:43\u001b[0m | ℹ️ \u001b[1mMerge repos\\micropython-stubs\\stubs\\micropython-v1_23_0-docstubs\\json\\__init__.pyi from \u001b[0m\n",
       "\u001b[1mrepos\\gobotTypeshed\\micropython_typesheds\\ujson.pyi\u001b[0m\n"
      ]
     },
     "metadata": {},
     "output_type": "display_data"
    },
    {
     "data": {
      "text/html": [
       "<pre style=\"white-space:pre;overflow-x:auto;line-height:normal;font-family:Menlo,'DejaVu Sans Mono',consolas,'Courier New',monospace\"><span style=\"color: #008000; text-decoration-color: #008000\">09:06:43</span> | ℹ️ <span style=\"font-weight: bold\">Merge repos\\micropython-stubs\\stubs\\micropython-v1_23_0-docstubs\\lcd160cr\\__init__.pyi from </span>\n",
       "<span style=\"font-weight: bold\">repos\\gobotTypeshed\\micropython_typesheds\\lcd160cr.pyi</span>\n",
       "</pre>\n"
      ],
      "text/plain": [
       "\u001b[32m09:06:43\u001b[0m | ℹ️ \u001b[1mMerge repos\\micropython-stubs\\stubs\\micropython-v1_23_0-docstubs\\lcd160cr\\__init__.pyi from \u001b[0m\n",
       "\u001b[1mrepos\\gobotTypeshed\\micropython_typesheds\\lcd160cr.pyi\u001b[0m\n"
      ]
     },
     "metadata": {},
     "output_type": "display_data"
    },
    {
     "data": {
      "text/html": [
       "<pre style=\"white-space:pre;overflow-x:auto;line-height:normal;font-family:Menlo,'DejaVu Sans Mono',consolas,'Courier New',monospace\"><span style=\"color: #008000; text-decoration-color: #008000\">09:06:44</span> | ℹ️ <span style=\"font-weight: bold\">Change __init__ to @overload</span>\n",
       "</pre>\n"
      ],
      "text/plain": [
       "\u001b[32m09:06:44\u001b[0m | ℹ️ \u001b[1mChange __init__ to @overload\u001b[0m\n"
      ]
     },
     "metadata": {},
     "output_type": "display_data"
    },
    {
     "data": {
      "text/html": [
       "<pre style=\"white-space:pre;overflow-x:auto;line-height:normal;font-family:Menlo,'DejaVu Sans Mono',consolas,'Courier New',monospace\"><span style=\"color: #008000; text-decoration-color: #008000\">09:06:44</span> | ℹ️ <span style=\"font-weight: bold\">Merge repos\\micropython-stubs\\stubs\\micropython-v1_23_0-docstubs\\machine\\__init__.pyi from </span>\n",
       "<span style=\"font-weight: bold\">repos\\gobotTypeshed\\micropython_typesheds\\machine.pyi</span>\n",
       "</pre>\n"
      ],
      "text/plain": [
       "\u001b[32m09:06:44\u001b[0m | ℹ️ \u001b[1mMerge repos\\micropython-stubs\\stubs\\micropython-v1_23_0-docstubs\\machine\\__init__.pyi from \u001b[0m\n",
       "\u001b[1mrepos\\gobotTypeshed\\micropython_typesheds\\machine.pyi\u001b[0m\n"
      ]
     },
     "metadata": {},
     "output_type": "display_data"
    },
    {
     "data": {
      "text/html": [
       "<pre style=\"white-space:pre;overflow-x:auto;line-height:normal;font-family:Menlo,'DejaVu Sans Mono',consolas,'Courier New',monospace\"><span style=\"color: #008000; text-decoration-color: #008000\">09:06:44</span> | ℹ️ <span style=\"font-weight: bold\">Change freq to @overload</span>\n",
       "</pre>\n"
      ],
      "text/plain": [
       "\u001b[32m09:06:44\u001b[0m | ℹ️ \u001b[1mChange freq to @overload\u001b[0m\n"
      ]
     },
     "metadata": {},
     "output_type": "display_data"
    },
    {
     "data": {
      "text/html": [
       "<pre style=\"white-space:pre;overflow-x:auto;line-height:normal;font-family:Menlo,'DejaVu Sans Mono',consolas,'Courier New',monospace\"><span style=\"color: #008000; text-decoration-color: #008000\">09:06:44</span> | ℹ️ <span style=\"font-weight: bold\">Change lightsleep to @overload</span>\n",
       "</pre>\n"
      ],
      "text/plain": [
       "\u001b[32m09:06:44\u001b[0m | ℹ️ \u001b[1mChange lightsleep to @overload\u001b[0m\n"
      ]
     },
     "metadata": {},
     "output_type": "display_data"
    },
    {
     "data": {
      "text/html": [
       "<pre style=\"white-space:pre;overflow-x:auto;line-height:normal;font-family:Menlo,'DejaVu Sans Mono',consolas,'Courier New',monospace\"><span style=\"color: #008000; text-decoration-color: #008000\">09:06:44</span> | ℹ️ <span style=\"font-weight: bold\">Change deepsleep to @overload</span>\n",
       "</pre>\n"
      ],
      "text/plain": [
       "\u001b[32m09:06:44\u001b[0m | ℹ️ \u001b[1mChange deepsleep to @overload\u001b[0m\n"
      ]
     },
     "metadata": {},
     "output_type": "display_data"
    },
    {
     "data": {
      "text/html": [
       "<pre style=\"white-space:pre;overflow-x:auto;line-height:normal;font-family:Menlo,'DejaVu Sans Mono',consolas,'Courier New',monospace\"><span style=\"color: #008000; text-decoration-color: #008000\">09:06:44</span> | ℹ️ <span style=\"font-weight: bold\">Merge repos\\micropython-stubs\\stubs\\micropython-v1_23_0-docstubs\\machine\\ADC.pyi from </span>\n",
       "<span style=\"font-weight: bold\">repos\\gobotTypeshed\\micropython_typesheds\\machine.pyi</span>\n",
       "</pre>\n"
      ],
      "text/plain": [
       "\u001b[32m09:06:44\u001b[0m | ℹ️ \u001b[1mMerge repos\\micropython-stubs\\stubs\\micropython-v1_23_0-docstubs\\machine\\ADC.pyi from \u001b[0m\n",
       "\u001b[1mrepos\\gobotTypeshed\\micropython_typesheds\\machine.pyi\u001b[0m\n"
      ]
     },
     "metadata": {},
     "output_type": "display_data"
    },
    {
     "data": {
      "text/html": [
       "<pre style=\"white-space:pre;overflow-x:auto;line-height:normal;font-family:Menlo,'DejaVu Sans Mono',consolas,'Courier New',monospace\"><span style=\"color: #008000; text-decoration-color: #008000\">09:06:44</span> | ℹ️ <span style=\"font-weight: bold\">Merge repos\\micropython-stubs\\stubs\\micropython-v1_23_0-docstubs\\machine\\ADCBlock.pyi from </span>\n",
       "<span style=\"font-weight: bold\">repos\\gobotTypeshed\\micropython_typesheds\\machine.pyi</span>\n",
       "</pre>\n"
      ],
      "text/plain": [
       "\u001b[32m09:06:44\u001b[0m | ℹ️ \u001b[1mMerge repos\\micropython-stubs\\stubs\\micropython-v1_23_0-docstubs\\machine\\ADCBlock.pyi from \u001b[0m\n",
       "\u001b[1mrepos\\gobotTypeshed\\micropython_typesheds\\machine.pyi\u001b[0m\n"
      ]
     },
     "metadata": {},
     "output_type": "display_data"
    },
    {
     "data": {
      "text/html": [
       "<pre style=\"white-space:pre;overflow-x:auto;line-height:normal;font-family:Menlo,'DejaVu Sans Mono',consolas,'Courier New',monospace\"><span style=\"color: #008000; text-decoration-color: #008000\">09:06:45</span> | ℹ️ <span style=\"font-weight: bold\">Merge repos\\micropython-stubs\\stubs\\micropython-v1_23_0-docstubs\\machine\\ADCWiPy.pyi from </span>\n",
       "<span style=\"font-weight: bold\">repos\\gobotTypeshed\\micropython_typesheds\\machine.pyi</span>\n",
       "</pre>\n"
      ],
      "text/plain": [
       "\u001b[32m09:06:45\u001b[0m | ℹ️ \u001b[1mMerge repos\\micropython-stubs\\stubs\\micropython-v1_23_0-docstubs\\machine\\ADCWiPy.pyi from \u001b[0m\n",
       "\u001b[1mrepos\\gobotTypeshed\\micropython_typesheds\\machine.pyi\u001b[0m\n"
      ]
     },
     "metadata": {},
     "output_type": "display_data"
    },
    {
     "data": {
      "text/html": [
       "<pre style=\"white-space:pre;overflow-x:auto;line-height:normal;font-family:Menlo,'DejaVu Sans Mono',consolas,'Courier New',monospace\"><span style=\"color: #008000; text-decoration-color: #008000\">09:06:45</span> | ℹ️ <span style=\"font-weight: bold\">Merge repos\\micropython-stubs\\stubs\\micropython-v1_23_0-docstubs\\machine\\I2C.pyi from </span>\n",
       "<span style=\"font-weight: bold\">repos\\gobotTypeshed\\micropython_typesheds\\machine.pyi</span>\n",
       "</pre>\n"
      ],
      "text/plain": [
       "\u001b[32m09:06:45\u001b[0m | ℹ️ \u001b[1mMerge repos\\micropython-stubs\\stubs\\micropython-v1_23_0-docstubs\\machine\\I2C.pyi from \u001b[0m\n",
       "\u001b[1mrepos\\gobotTypeshed\\micropython_typesheds\\machine.pyi\u001b[0m\n"
      ]
     },
     "metadata": {},
     "output_type": "display_data"
    },
    {
     "data": {
      "text/html": [
       "<pre style=\"white-space:pre;overflow-x:auto;line-height:normal;font-family:Menlo,'DejaVu Sans Mono',consolas,'Courier New',monospace\"><span style=\"color: #008000; text-decoration-color: #008000\">09:06:45</span> | ℹ️ <span style=\"font-weight: bold\">Change __init__ to @overload</span>\n",
       "</pre>\n"
      ],
      "text/plain": [
       "\u001b[32m09:06:45\u001b[0m | ℹ️ \u001b[1mChange __init__ to @overload\u001b[0m\n"
      ]
     },
     "metadata": {},
     "output_type": "display_data"
    },
    {
     "data": {
      "text/html": [
       "<pre style=\"white-space:pre;overflow-x:auto;line-height:normal;font-family:Menlo,'DejaVu Sans Mono',consolas,'Courier New',monospace\"><span style=\"color: #008000; text-decoration-color: #008000\">09:06:45</span> | ℹ️ <span style=\"font-weight: bold\">Change init to @overload</span>\n",
       "</pre>\n"
      ],
      "text/plain": [
       "\u001b[32m09:06:45\u001b[0m | ℹ️ \u001b[1mChange init to @overload\u001b[0m\n"
      ]
     },
     "metadata": {},
     "output_type": "display_data"
    },
    {
     "data": {
      "text/html": [
       "<pre style=\"white-space:pre;overflow-x:auto;line-height:normal;font-family:Menlo,'DejaVu Sans Mono',consolas,'Courier New',monospace\"><span style=\"color: #008000; text-decoration-color: #008000\">09:06:45</span> | ℹ️ <span style=\"font-weight: bold\">Merge repos\\micropython-stubs\\stubs\\micropython-v1_23_0-docstubs\\machine\\I2S.pyi from </span>\n",
       "<span style=\"font-weight: bold\">repos\\gobotTypeshed\\micropython_typesheds\\machine.pyi</span>\n",
       "</pre>\n"
      ],
      "text/plain": [
       "\u001b[32m09:06:45\u001b[0m | ℹ️ \u001b[1mMerge repos\\micropython-stubs\\stubs\\micropython-v1_23_0-docstubs\\machine\\I2S.pyi from \u001b[0m\n",
       "\u001b[1mrepos\\gobotTypeshed\\micropython_typesheds\\machine.pyi\u001b[0m\n"
      ]
     },
     "metadata": {},
     "output_type": "display_data"
    },
    {
     "data": {
      "text/html": [
       "<pre style=\"white-space:pre;overflow-x:auto;line-height:normal;font-family:Menlo,'DejaVu Sans Mono',consolas,'Courier New',monospace\"><span style=\"color: #008000; text-decoration-color: #008000\">09:06:46</span> | ℹ️ <span style=\"font-weight: bold\">Merge repos\\micropython-stubs\\stubs\\micropython-v1_23_0-docstubs\\machine\\Pin.pyi from </span>\n",
       "<span style=\"font-weight: bold\">repos\\gobotTypeshed\\micropython_typesheds\\machine.pyi</span>\n",
       "</pre>\n"
      ],
      "text/plain": [
       "\u001b[32m09:06:46\u001b[0m | ℹ️ \u001b[1mMerge repos\\micropython-stubs\\stubs\\micropython-v1_23_0-docstubs\\machine\\Pin.pyi from \u001b[0m\n",
       "\u001b[1mrepos\\gobotTypeshed\\micropython_typesheds\\machine.pyi\u001b[0m\n"
      ]
     },
     "metadata": {},
     "output_type": "display_data"
    },
    {
     "data": {
      "text/html": [
       "<pre style=\"white-space:pre;overflow-x:auto;line-height:normal;font-family:Menlo,'DejaVu Sans Mono',consolas,'Courier New',monospace\"><span style=\"color: #008000; text-decoration-color: #008000\">09:06:46</span> | ℹ️ <span style=\"font-weight: bold\">Change value to @overload</span>\n",
       "</pre>\n"
      ],
      "text/plain": [
       "\u001b[32m09:06:46\u001b[0m | ℹ️ \u001b[1mChange value to @overload\u001b[0m\n"
      ]
     },
     "metadata": {},
     "output_type": "display_data"
    },
    {
     "data": {
      "text/html": [
       "<pre style=\"white-space:pre;overflow-x:auto;line-height:normal;font-family:Menlo,'DejaVu Sans Mono',consolas,'Courier New',monospace\"><span style=\"color: #008000; text-decoration-color: #008000\">09:06:46</span> | ℹ️ <span style=\"font-weight: bold\">Change __call__ to @overload</span>\n",
       "</pre>\n"
      ],
      "text/plain": [
       "\u001b[32m09:06:46\u001b[0m | ℹ️ \u001b[1mChange __call__ to @overload\u001b[0m\n"
      ]
     },
     "metadata": {},
     "output_type": "display_data"
    },
    {
     "data": {
      "text/html": [
       "<pre style=\"white-space:pre;overflow-x:auto;line-height:normal;font-family:Menlo,'DejaVu Sans Mono',consolas,'Courier New',monospace\"><span style=\"color: #008000; text-decoration-color: #008000\">09:06:46</span> | ℹ️ <span style=\"font-weight: bold\">Change mode to @overload</span>\n",
       "</pre>\n"
      ],
      "text/plain": [
       "\u001b[32m09:06:46\u001b[0m | ℹ️ \u001b[1mChange mode to @overload\u001b[0m\n"
      ]
     },
     "metadata": {},
     "output_type": "display_data"
    },
    {
     "data": {
      "text/html": [
       "<pre style=\"white-space:pre;overflow-x:auto;line-height:normal;font-family:Menlo,'DejaVu Sans Mono',consolas,'Courier New',monospace\"><span style=\"color: #008000; text-decoration-color: #008000\">09:06:46</span> | ℹ️ <span style=\"font-weight: bold\">Change pull to @overload</span>\n",
       "</pre>\n"
      ],
      "text/plain": [
       "\u001b[32m09:06:46\u001b[0m | ℹ️ \u001b[1mChange pull to @overload\u001b[0m\n"
      ]
     },
     "metadata": {},
     "output_type": "display_data"
    },
    {
     "data": {
      "text/html": [
       "<pre style=\"white-space:pre;overflow-x:auto;line-height:normal;font-family:Menlo,'DejaVu Sans Mono',consolas,'Courier New',monospace\"><span style=\"color: #008000; text-decoration-color: #008000\">09:06:46</span> | ℹ️ <span style=\"font-weight: bold\">Merge repos\\micropython-stubs\\stubs\\micropython-v1_23_0-docstubs\\machine\\PWM.pyi from </span>\n",
       "<span style=\"font-weight: bold\">repos\\gobotTypeshed\\micropython_typesheds\\machine.pyi</span>\n",
       "</pre>\n"
      ],
      "text/plain": [
       "\u001b[32m09:06:46\u001b[0m | ℹ️ \u001b[1mMerge repos\\micropython-stubs\\stubs\\micropython-v1_23_0-docstubs\\machine\\PWM.pyi from \u001b[0m\n",
       "\u001b[1mrepos\\gobotTypeshed\\micropython_typesheds\\machine.pyi\u001b[0m\n"
      ]
     },
     "metadata": {},
     "output_type": "display_data"
    },
    {
     "data": {
      "text/html": [
       "<pre style=\"white-space:pre;overflow-x:auto;line-height:normal;font-family:Menlo,'DejaVu Sans Mono',consolas,'Courier New',monospace\"><span style=\"color: #008000; text-decoration-color: #008000\">09:06:46</span> | ℹ️ <span style=\"font-weight: bold\">Change freq to @overload</span>\n",
       "</pre>\n"
      ],
      "text/plain": [
       "\u001b[32m09:06:46\u001b[0m | ℹ️ \u001b[1mChange freq to @overload\u001b[0m\n"
      ]
     },
     "metadata": {},
     "output_type": "display_data"
    },
    {
     "data": {
      "text/html": [
       "<pre style=\"white-space:pre;overflow-x:auto;line-height:normal;font-family:Menlo,'DejaVu Sans Mono',consolas,'Courier New',monospace\"><span style=\"color: #008000; text-decoration-color: #008000\">09:06:46</span> | ℹ️ <span style=\"font-weight: bold\">Change duty_u16 to @overload</span>\n",
       "</pre>\n"
      ],
      "text/plain": [
       "\u001b[32m09:06:46\u001b[0m | ℹ️ \u001b[1mChange duty_u16 to @overload\u001b[0m\n"
      ]
     },
     "metadata": {},
     "output_type": "display_data"
    },
    {
     "data": {
      "text/html": [
       "<pre style=\"white-space:pre;overflow-x:auto;line-height:normal;font-family:Menlo,'DejaVu Sans Mono',consolas,'Courier New',monospace\"><span style=\"color: #008000; text-decoration-color: #008000\">09:06:46</span> | ℹ️ <span style=\"font-weight: bold\">Change duty_ns to @overload</span>\n",
       "</pre>\n"
      ],
      "text/plain": [
       "\u001b[32m09:06:46\u001b[0m | ℹ️ \u001b[1mChange duty_ns to @overload\u001b[0m\n"
      ]
     },
     "metadata": {},
     "output_type": "display_data"
    },
    {
     "data": {
      "text/html": [
       "<pre style=\"white-space:pre;overflow-x:auto;line-height:normal;font-family:Menlo,'DejaVu Sans Mono',consolas,'Courier New',monospace\"><span style=\"color: #008000; text-decoration-color: #008000\">09:06:46</span> | ℹ️ <span style=\"font-weight: bold\">Merge repos\\micropython-stubs\\stubs\\micropython-v1_23_0-docstubs\\machine\\RTC.pyi from </span>\n",
       "<span style=\"font-weight: bold\">repos\\gobotTypeshed\\micropython_typesheds\\machine.pyi</span>\n",
       "</pre>\n"
      ],
      "text/plain": [
       "\u001b[32m09:06:46\u001b[0m | ℹ️ \u001b[1mMerge repos\\micropython-stubs\\stubs\\micropython-v1_23_0-docstubs\\machine\\RTC.pyi from \u001b[0m\n",
       "\u001b[1mrepos\\gobotTypeshed\\micropython_typesheds\\machine.pyi\u001b[0m\n"
      ]
     },
     "metadata": {},
     "output_type": "display_data"
    },
    {
     "data": {
      "text/html": [
       "<pre style=\"white-space:pre;overflow-x:auto;line-height:normal;font-family:Menlo,'DejaVu Sans Mono',consolas,'Courier New',monospace\"><span style=\"color: #008000; text-decoration-color: #008000\">09:06:47</span> | ℹ️ <span style=\"font-weight: bold\">Change __init__ to @overload</span>\n",
       "</pre>\n"
      ],
      "text/plain": [
       "\u001b[32m09:06:47\u001b[0m | ℹ️ \u001b[1mChange __init__ to @overload\u001b[0m\n"
      ]
     },
     "metadata": {},
     "output_type": "display_data"
    },
    {
     "data": {
      "text/html": [
       "<pre style=\"white-space:pre;overflow-x:auto;line-height:normal;font-family:Menlo,'DejaVu Sans Mono',consolas,'Courier New',monospace\"><span style=\"color: #008000; text-decoration-color: #008000\">09:06:47</span> | ℹ️ <span style=\"font-weight: bold\">Change init to @overload</span>\n",
       "</pre>\n"
      ],
      "text/plain": [
       "\u001b[32m09:06:47\u001b[0m | ℹ️ \u001b[1mChange init to @overload\u001b[0m\n"
      ]
     },
     "metadata": {},
     "output_type": "display_data"
    },
    {
     "data": {
      "text/html": [
       "<pre style=\"white-space:pre;overflow-x:auto;line-height:normal;font-family:Menlo,'DejaVu Sans Mono',consolas,'Courier New',monospace\"><span style=\"color: #008000; text-decoration-color: #008000\">09:06:47</span> | ℹ️ <span style=\"font-weight: bold\">Change alarm to @overload</span>\n",
       "</pre>\n"
      ],
      "text/plain": [
       "\u001b[32m09:06:47\u001b[0m | ℹ️ \u001b[1mChange alarm to @overload\u001b[0m\n"
      ]
     },
     "metadata": {},
     "output_type": "display_data"
    },
    {
     "data": {
      "text/html": [
       "<pre style=\"white-space:pre;overflow-x:auto;line-height:normal;font-family:Menlo,'DejaVu Sans Mono',consolas,'Courier New',monospace\"><span style=\"color: #008000; text-decoration-color: #008000\">09:06:47</span> | ℹ️ <span style=\"font-weight: bold\">Merge repos\\micropython-stubs\\stubs\\micropython-v1_23_0-docstubs\\machine\\SD.pyi from </span>\n",
       "<span style=\"font-weight: bold\">repos\\gobotTypeshed\\micropython_typesheds\\machine.pyi</span>\n",
       "</pre>\n"
      ],
      "text/plain": [
       "\u001b[32m09:06:47\u001b[0m | ℹ️ \u001b[1mMerge repos\\micropython-stubs\\stubs\\micropython-v1_23_0-docstubs\\machine\\SD.pyi from \u001b[0m\n",
       "\u001b[1mrepos\\gobotTypeshed\\micropython_typesheds\\machine.pyi\u001b[0m\n"
      ]
     },
     "metadata": {},
     "output_type": "display_data"
    },
    {
     "data": {
      "text/html": [
       "<pre style=\"white-space:pre;overflow-x:auto;line-height:normal;font-family:Menlo,'DejaVu Sans Mono',consolas,'Courier New',monospace\"><span style=\"color: #008000; text-decoration-color: #008000\">09:06:47</span> | ℹ️ <span style=\"font-weight: bold\">Merge repos\\micropython-stubs\\stubs\\micropython-v1_23_0-docstubs\\machine\\SDCard.pyi from </span>\n",
       "<span style=\"font-weight: bold\">repos\\gobotTypeshed\\micropython_typesheds\\machine.pyi</span>\n",
       "</pre>\n"
      ],
      "text/plain": [
       "\u001b[32m09:06:47\u001b[0m | ℹ️ \u001b[1mMerge repos\\micropython-stubs\\stubs\\micropython-v1_23_0-docstubs\\machine\\SDCard.pyi from \u001b[0m\n",
       "\u001b[1mrepos\\gobotTypeshed\\micropython_typesheds\\machine.pyi\u001b[0m\n"
      ]
     },
     "metadata": {},
     "output_type": "display_data"
    },
    {
     "data": {
      "text/html": [
       "<pre style=\"white-space:pre;overflow-x:auto;line-height:normal;font-family:Menlo,'DejaVu Sans Mono',consolas,'Courier New',monospace\"><span style=\"color: #008000; text-decoration-color: #008000\">09:06:47</span> | ℹ️ <span style=\"font-weight: bold\">Merge repos\\micropython-stubs\\stubs\\micropython-v1_23_0-docstubs\\machine\\Signal.pyi from </span>\n",
       "<span style=\"font-weight: bold\">repos\\gobotTypeshed\\micropython_typesheds\\machine.pyi</span>\n",
       "</pre>\n"
      ],
      "text/plain": [
       "\u001b[32m09:06:47\u001b[0m | ℹ️ \u001b[1mMerge repos\\micropython-stubs\\stubs\\micropython-v1_23_0-docstubs\\machine\\Signal.pyi from \u001b[0m\n",
       "\u001b[1mrepos\\gobotTypeshed\\micropython_typesheds\\machine.pyi\u001b[0m\n"
      ]
     },
     "metadata": {},
     "output_type": "display_data"
    },
    {
     "data": {
      "text/html": [
       "<pre style=\"white-space:pre;overflow-x:auto;line-height:normal;font-family:Menlo,'DejaVu Sans Mono',consolas,'Courier New',monospace\"><span style=\"color: #008000; text-decoration-color: #008000\">09:06:48</span> | ℹ️ <span style=\"font-weight: bold\">Change __init__ to @overload</span>\n",
       "</pre>\n"
      ],
      "text/plain": [
       "\u001b[32m09:06:48\u001b[0m | ℹ️ \u001b[1mChange __init__ to @overload\u001b[0m\n"
      ]
     },
     "metadata": {},
     "output_type": "display_data"
    },
    {
     "data": {
      "text/html": [
       "<pre style=\"white-space:pre;overflow-x:auto;line-height:normal;font-family:Menlo,'DejaVu Sans Mono',consolas,'Courier New',monospace\"><span style=\"color: #008000; text-decoration-color: #008000\">09:06:48</span> | ℹ️ <span style=\"font-weight: bold\">Change value to @overload</span>\n",
       "</pre>\n"
      ],
      "text/plain": [
       "\u001b[32m09:06:48\u001b[0m | ℹ️ \u001b[1mChange value to @overload\u001b[0m\n"
      ]
     },
     "metadata": {},
     "output_type": "display_data"
    },
    {
     "data": {
      "text/html": [
       "<pre style=\"white-space:pre;overflow-x:auto;line-height:normal;font-family:Menlo,'DejaVu Sans Mono',consolas,'Courier New',monospace\"><span style=\"color: #008000; text-decoration-color: #008000\">09:06:48</span> | ℹ️ <span style=\"font-weight: bold\">Merge repos\\micropython-stubs\\stubs\\micropython-v1_23_0-docstubs\\machine\\SPI.pyi from </span>\n",
       "<span style=\"font-weight: bold\">repos\\gobotTypeshed\\micropython_typesheds\\machine.pyi</span>\n",
       "</pre>\n"
      ],
      "text/plain": [
       "\u001b[32m09:06:48\u001b[0m | ℹ️ \u001b[1mMerge repos\\micropython-stubs\\stubs\\micropython-v1_23_0-docstubs\\machine\\SPI.pyi from \u001b[0m\n",
       "\u001b[1mrepos\\gobotTypeshed\\micropython_typesheds\\machine.pyi\u001b[0m\n"
      ]
     },
     "metadata": {},
     "output_type": "display_data"
    },
    {
     "data": {
      "text/html": [
       "<pre style=\"white-space:pre;overflow-x:auto;line-height:normal;font-family:Menlo,'DejaVu Sans Mono',consolas,'Courier New',monospace\"><span style=\"color: #008000; text-decoration-color: #008000\">09:06:48</span> | ℹ️ <span style=\"font-weight: bold\">Change __init__ to @overload</span>\n",
       "</pre>\n"
      ],
      "text/plain": [
       "\u001b[32m09:06:48\u001b[0m | ℹ️ \u001b[1mChange __init__ to @overload\u001b[0m\n"
      ]
     },
     "metadata": {},
     "output_type": "display_data"
    },
    {
     "data": {
      "text/html": [
       "<pre style=\"white-space:pre;overflow-x:auto;line-height:normal;font-family:Menlo,'DejaVu Sans Mono',consolas,'Courier New',monospace\"><span style=\"color: #008000; text-decoration-color: #008000\">09:06:48</span> | ℹ️ <span style=\"font-weight: bold\">Change init to @overload</span>\n",
       "</pre>\n"
      ],
      "text/plain": [
       "\u001b[32m09:06:48\u001b[0m | ℹ️ \u001b[1mChange init to @overload\u001b[0m\n"
      ]
     },
     "metadata": {},
     "output_type": "display_data"
    },
    {
     "data": {
      "text/html": [
       "<pre style=\"white-space:pre;overflow-x:auto;line-height:normal;font-family:Menlo,'DejaVu Sans Mono',consolas,'Courier New',monospace\"><span style=\"color: #008000; text-decoration-color: #008000\">09:06:48</span> | ℹ️ <span style=\"font-weight: bold\">Merge repos\\micropython-stubs\\stubs\\micropython-v1_23_0-docstubs\\machine\\Timer.pyi from </span>\n",
       "<span style=\"font-weight: bold\">repos\\gobotTypeshed\\micropython_typesheds\\machine.pyi</span>\n",
       "</pre>\n"
      ],
      "text/plain": [
       "\u001b[32m09:06:48\u001b[0m | ℹ️ \u001b[1mMerge repos\\micropython-stubs\\stubs\\micropython-v1_23_0-docstubs\\machine\\Timer.pyi from \u001b[0m\n",
       "\u001b[1mrepos\\gobotTypeshed\\micropython_typesheds\\machine.pyi\u001b[0m\n"
      ]
     },
     "metadata": {},
     "output_type": "display_data"
    },
    {
     "data": {
      "text/html": [
       "<pre style=\"white-space:pre;overflow-x:auto;line-height:normal;font-family:Menlo,'DejaVu Sans Mono',consolas,'Courier New',monospace\"><span style=\"color: #008000; text-decoration-color: #008000\">09:06:48</span> | ℹ️ <span style=\"font-weight: bold\">Change __init__ to @overload</span>\n",
       "</pre>\n"
      ],
      "text/plain": [
       "\u001b[32m09:06:48\u001b[0m | ℹ️ \u001b[1mChange __init__ to @overload\u001b[0m\n"
      ]
     },
     "metadata": {},
     "output_type": "display_data"
    },
    {
     "data": {
      "text/html": [
       "<pre style=\"white-space:pre;overflow-x:auto;line-height:normal;font-family:Menlo,'DejaVu Sans Mono',consolas,'Courier New',monospace\"><span style=\"color: #008000; text-decoration-color: #008000\">09:06:48</span> | ℹ️ <span style=\"font-weight: bold\">Merge repos\\micropython-stubs\\stubs\\micropython-v1_23_0-docstubs\\machine\\TimerWiPy.pyi from </span>\n",
       "<span style=\"font-weight: bold\">repos\\gobotTypeshed\\micropython_typesheds\\machine.pyi</span>\n",
       "</pre>\n"
      ],
      "text/plain": [
       "\u001b[32m09:06:48\u001b[0m | ℹ️ \u001b[1mMerge repos\\micropython-stubs\\stubs\\micropython-v1_23_0-docstubs\\machine\\TimerWiPy.pyi from \u001b[0m\n",
       "\u001b[1mrepos\\gobotTypeshed\\micropython_typesheds\\machine.pyi\u001b[0m\n"
      ]
     },
     "metadata": {},
     "output_type": "display_data"
    },
    {
     "data": {
      "text/html": [
       "<pre style=\"white-space:pre;overflow-x:auto;line-height:normal;font-family:Menlo,'DejaVu Sans Mono',consolas,'Courier New',monospace\"><span style=\"color: #008000; text-decoration-color: #008000\">09:06:49</span> | ℹ️ <span style=\"font-weight: bold\">Merge repos\\micropython-stubs\\stubs\\micropython-v1_23_0-docstubs\\machine\\UART.pyi from </span>\n",
       "<span style=\"font-weight: bold\">repos\\gobotTypeshed\\micropython_typesheds\\machine.pyi</span>\n",
       "</pre>\n"
      ],
      "text/plain": [
       "\u001b[32m09:06:49\u001b[0m | ℹ️ \u001b[1mMerge repos\\micropython-stubs\\stubs\\micropython-v1_23_0-docstubs\\machine\\UART.pyi from \u001b[0m\n",
       "\u001b[1mrepos\\gobotTypeshed\\micropython_typesheds\\machine.pyi\u001b[0m\n"
      ]
     },
     "metadata": {},
     "output_type": "display_data"
    },
    {
     "data": {
      "text/html": [
       "<pre style=\"white-space:pre;overflow-x:auto;line-height:normal;font-family:Menlo,'DejaVu Sans Mono',consolas,'Courier New',monospace\"><span style=\"color: #008000; text-decoration-color: #008000\">09:06:49</span> | ℹ️ <span style=\"font-weight: bold\">Change __init__ to @overload</span>\n",
       "</pre>\n"
      ],
      "text/plain": [
       "\u001b[32m09:06:49\u001b[0m | ℹ️ \u001b[1mChange __init__ to @overload\u001b[0m\n"
      ]
     },
     "metadata": {},
     "output_type": "display_data"
    },
    {
     "data": {
      "text/html": [
       "<pre style=\"white-space:pre;overflow-x:auto;line-height:normal;font-family:Menlo,'DejaVu Sans Mono',consolas,'Courier New',monospace\"><span style=\"color: #008000; text-decoration-color: #008000\">09:06:49</span> | ℹ️ <span style=\"font-weight: bold\">Change init to @overload</span>\n",
       "</pre>\n"
      ],
      "text/plain": [
       "\u001b[32m09:06:49\u001b[0m | ℹ️ \u001b[1mChange init to @overload\u001b[0m\n"
      ]
     },
     "metadata": {},
     "output_type": "display_data"
    },
    {
     "data": {
      "text/html": [
       "<pre style=\"white-space:pre;overflow-x:auto;line-height:normal;font-family:Menlo,'DejaVu Sans Mono',consolas,'Courier New',monospace\"><span style=\"color: #008000; text-decoration-color: #008000\">09:06:49</span> | ℹ️ <span style=\"font-weight: bold\">Change read to @overload</span>\n",
       "</pre>\n"
      ],
      "text/plain": [
       "\u001b[32m09:06:49\u001b[0m | ℹ️ \u001b[1mChange read to @overload\u001b[0m\n"
      ]
     },
     "metadata": {},
     "output_type": "display_data"
    },
    {
     "data": {
      "text/html": [
       "<pre style=\"white-space:pre;overflow-x:auto;line-height:normal;font-family:Menlo,'DejaVu Sans Mono',consolas,'Courier New',monospace\"><span style=\"color: #008000; text-decoration-color: #008000\">09:06:49</span> | ℹ️ <span style=\"font-weight: bold\">Change readinto to @overload</span>\n",
       "</pre>\n"
      ],
      "text/plain": [
       "\u001b[32m09:06:49\u001b[0m | ℹ️ \u001b[1mChange readinto to @overload\u001b[0m\n"
      ]
     },
     "metadata": {},
     "output_type": "display_data"
    },
    {
     "data": {
      "text/html": [
       "<pre style=\"white-space:pre;overflow-x:auto;line-height:normal;font-family:Menlo,'DejaVu Sans Mono',consolas,'Courier New',monospace\"><span style=\"color: #008000; text-decoration-color: #008000\">09:06:49</span> | ℹ️ <span style=\"font-weight: bold\">Merge repos\\micropython-stubs\\stubs\\micropython-v1_23_0-docstubs\\machine\\USBDevice.pyi from </span>\n",
       "<span style=\"font-weight: bold\">repos\\gobotTypeshed\\micropython_typesheds\\machine.pyi</span>\n",
       "</pre>\n"
      ],
      "text/plain": [
       "\u001b[32m09:06:49\u001b[0m | ℹ️ \u001b[1mMerge repos\\micropython-stubs\\stubs\\micropython-v1_23_0-docstubs\\machine\\USBDevice.pyi from \u001b[0m\n",
       "\u001b[1mrepos\\gobotTypeshed\\micropython_typesheds\\machine.pyi\u001b[0m\n"
      ]
     },
     "metadata": {},
     "output_type": "display_data"
    },
    {
     "data": {
      "text/html": [
       "<pre style=\"white-space:pre;overflow-x:auto;line-height:normal;font-family:Menlo,'DejaVu Sans Mono',consolas,'Courier New',monospace\"><span style=\"color: #008000; text-decoration-color: #008000\">09:06:49</span> | ℹ️ <span style=\"font-weight: bold\">Merge repos\\micropython-stubs\\stubs\\micropython-v1_23_0-docstubs\\machine\\WDT.pyi from </span>\n",
       "<span style=\"font-weight: bold\">repos\\gobotTypeshed\\micropython_typesheds\\machine.pyi</span>\n",
       "</pre>\n"
      ],
      "text/plain": [
       "\u001b[32m09:06:49\u001b[0m | ℹ️ \u001b[1mMerge repos\\micropython-stubs\\stubs\\micropython-v1_23_0-docstubs\\machine\\WDT.pyi from \u001b[0m\n",
       "\u001b[1mrepos\\gobotTypeshed\\micropython_typesheds\\machine.pyi\u001b[0m\n"
      ]
     },
     "metadata": {},
     "output_type": "display_data"
    },
    {
     "data": {
      "text/html": [
       "<pre style=\"white-space:pre;overflow-x:auto;line-height:normal;font-family:Menlo,'DejaVu Sans Mono',consolas,'Courier New',monospace\"><span style=\"color: #008000; text-decoration-color: #008000\">09:06:50</span> | ℹ️ <span style=\"font-weight: bold\">Merge repos\\micropython-stubs\\stubs\\micropython-v1_23_0-docstubs\\math\\__init__.pyi from </span>\n",
       "<span style=\"font-weight: bold\">repos\\gobotTypeshed\\micropython_typesheds\\math.pyi</span>\n",
       "</pre>\n"
      ],
      "text/plain": [
       "\u001b[32m09:06:50\u001b[0m | ℹ️ \u001b[1mMerge repos\\micropython-stubs\\stubs\\micropython-v1_23_0-docstubs\\math\\__init__.pyi from \u001b[0m\n",
       "\u001b[1mrepos\\gobotTypeshed\\micropython_typesheds\\math.pyi\u001b[0m\n"
      ]
     },
     "metadata": {},
     "output_type": "display_data"
    },
    {
     "data": {
      "text/html": [
       "<pre style=\"white-space:pre;overflow-x:auto;line-height:normal;font-family:Menlo,'DejaVu Sans Mono',consolas,'Courier New',monospace\"><span style=\"color: #008000; text-decoration-color: #008000\">09:06:50</span> | ℹ️ <span style=\"font-weight: bold\">Merge repos\\micropython-stubs\\stubs\\micropython-v1_23_0-docstubs\\micropython\\__init__.pyi from </span>\n",
       "<span style=\"font-weight: bold\">repos\\gobotTypeshed\\micropython_typesheds\\micropython.pyi</span>\n",
       "</pre>\n"
      ],
      "text/plain": [
       "\u001b[32m09:06:50\u001b[0m | ℹ️ \u001b[1mMerge repos\\micropython-stubs\\stubs\\micropython-v1_23_0-docstubs\\micropython\\__init__.pyi from \u001b[0m\n",
       "\u001b[1mrepos\\gobotTypeshed\\micropython_typesheds\\micropython.pyi\u001b[0m\n"
      ]
     },
     "metadata": {},
     "output_type": "display_data"
    },
    {
     "data": {
      "text/html": [
       "<pre style=\"white-space:pre;overflow-x:auto;line-height:normal;font-family:Menlo,'DejaVu Sans Mono',consolas,'Courier New',monospace\"><span style=\"color: #008000; text-decoration-color: #008000\">09:06:50</span> | ℹ️ <span style=\"font-weight: bold\">Change opt_level to @overload</span>\n",
       "</pre>\n"
      ],
      "text/plain": [
       "\u001b[32m09:06:50\u001b[0m | ℹ️ \u001b[1mChange opt_level to @overload\u001b[0m\n"
      ]
     },
     "metadata": {},
     "output_type": "display_data"
    },
    {
     "data": {
      "text/html": [
       "<pre style=\"white-space:pre;overflow-x:auto;line-height:normal;font-family:Menlo,'DejaVu Sans Mono',consolas,'Courier New',monospace\"><span style=\"color: #008000; text-decoration-color: #008000\">09:06:50</span> | ℹ️ <span style=\"font-weight: bold\">Change mem_info to @overload</span>\n",
       "</pre>\n"
      ],
      "text/plain": [
       "\u001b[32m09:06:50\u001b[0m | ℹ️ \u001b[1mChange mem_info to @overload\u001b[0m\n"
      ]
     },
     "metadata": {},
     "output_type": "display_data"
    },
    {
     "data": {
      "text/html": [
       "<pre style=\"white-space:pre;overflow-x:auto;line-height:normal;font-family:Menlo,'DejaVu Sans Mono',consolas,'Courier New',monospace\"><span style=\"color: #008000; text-decoration-color: #008000\">09:06:50</span> | ℹ️ <span style=\"font-weight: bold\">Change qstr_info to @overload</span>\n",
       "</pre>\n"
      ],
      "text/plain": [
       "\u001b[32m09:06:50\u001b[0m | ℹ️ \u001b[1mChange qstr_info to @overload\u001b[0m\n"
      ]
     },
     "metadata": {},
     "output_type": "display_data"
    },
    {
     "data": {
      "text/html": [
       "<pre style=\"white-space:pre;overflow-x:auto;line-height:normal;font-family:Menlo,'DejaVu Sans Mono',consolas,'Courier New',monospace\"><span style=\"color: #008000; text-decoration-color: #008000\">09:06:50</span> | ℹ️ <span style=\"font-weight: bold\">Merge repos\\micropython-stubs\\stubs\\micropython-v1_23_0-docstubs\\neopixel\\__init__.pyi from </span>\n",
       "<span style=\"font-weight: bold\">repos\\gobotTypeshed\\micropython_typesheds\\neopixel.pyi</span>\n",
       "</pre>\n"
      ],
      "text/plain": [
       "\u001b[32m09:06:50\u001b[0m | ℹ️ \u001b[1mMerge repos\\micropython-stubs\\stubs\\micropython-v1_23_0-docstubs\\neopixel\\__init__.pyi from \u001b[0m\n",
       "\u001b[1mrepos\\gobotTypeshed\\micropython_typesheds\\neopixel.pyi\u001b[0m\n"
      ]
     },
     "metadata": {},
     "output_type": "display_data"
    },
    {
     "data": {
      "text/html": [
       "<pre style=\"white-space:pre;overflow-x:auto;line-height:normal;font-family:Menlo,'DejaVu Sans Mono',consolas,'Courier New',monospace\"><span style=\"color: #008000; text-decoration-color: #008000\">09:06:50</span> | ℹ️ <span style=\"font-weight: bold\">Merge repos\\micropython-stubs\\stubs\\micropython-v1_23_0-docstubs\\network\\__init__.pyi from </span>\n",
       "<span style=\"font-weight: bold\">repos\\gobotTypeshed\\micropython_typesheds\\network.pyi</span>\n",
       "</pre>\n"
      ],
      "text/plain": [
       "\u001b[32m09:06:50\u001b[0m | ℹ️ \u001b[1mMerge repos\\micropython-stubs\\stubs\\micropython-v1_23_0-docstubs\\network\\__init__.pyi from \u001b[0m\n",
       "\u001b[1mrepos\\gobotTypeshed\\micropython_typesheds\\network.pyi\u001b[0m\n"
      ]
     },
     "metadata": {},
     "output_type": "display_data"
    },
    {
     "data": {
      "text/html": [
       "<pre style=\"white-space:pre;overflow-x:auto;line-height:normal;font-family:Menlo,'DejaVu Sans Mono',consolas,'Courier New',monospace\"><span style=\"color: #008000; text-decoration-color: #008000\">09:06:50</span> | ℹ️ <span style=\"font-weight: bold\">Change active to @overload</span>\n",
       "</pre>\n"
      ],
      "text/plain": [
       "\u001b[32m09:06:50\u001b[0m | ℹ️ \u001b[1mChange active to @overload\u001b[0m\n"
      ]
     },
     "metadata": {},
     "output_type": "display_data"
    },
    {
     "data": {
      "text/html": [
       "<pre style=\"white-space:pre;overflow-x:auto;line-height:normal;font-family:Menlo,'DejaVu Sans Mono',consolas,'Courier New',monospace\"><span style=\"color: #008000; text-decoration-color: #008000\">09:06:50</span> | ℹ️ <span style=\"font-weight: bold\">Change connect to @overload</span>\n",
       "</pre>\n"
      ],
      "text/plain": [
       "\u001b[32m09:06:50\u001b[0m | ℹ️ \u001b[1mChange connect to @overload\u001b[0m\n"
      ]
     },
     "metadata": {},
     "output_type": "display_data"
    },
    {
     "data": {
      "text/html": [
       "<pre style=\"white-space:pre;overflow-x:auto;line-height:normal;font-family:Menlo,'DejaVu Sans Mono',consolas,'Courier New',monospace\"><span style=\"color: #008000; text-decoration-color: #008000\">09:06:50</span> | ℹ️ <span style=\"font-weight: bold\">Change status to @overload</span>\n",
       "</pre>\n"
      ],
      "text/plain": [
       "\u001b[32m09:06:50\u001b[0m | ℹ️ \u001b[1mChange status to @overload\u001b[0m\n"
      ]
     },
     "metadata": {},
     "output_type": "display_data"
    },
    {
     "data": {
      "text/html": [
       "<pre style=\"white-space:pre;overflow-x:auto;line-height:normal;font-family:Menlo,'DejaVu Sans Mono',consolas,'Courier New',monospace\"><span style=\"color: #008000; text-decoration-color: #008000\">09:06:50</span> | ℹ️ <span style=\"font-weight: bold\">Change ifconfig to @overload</span>\n",
       "</pre>\n"
      ],
      "text/plain": [
       "\u001b[32m09:06:50\u001b[0m | ℹ️ \u001b[1mChange ifconfig to @overload\u001b[0m\n"
      ]
     },
     "metadata": {},
     "output_type": "display_data"
    },
    {
     "data": {
      "text/html": [
       "<pre style=\"white-space:pre;overflow-x:auto;line-height:normal;font-family:Menlo,'DejaVu Sans Mono',consolas,'Courier New',monospace\"><span style=\"color: #008000; text-decoration-color: #008000\">09:06:50</span> | ℹ️ <span style=\"font-weight: bold\">Change config to @overload</span>\n",
       "</pre>\n"
      ],
      "text/plain": [
       "\u001b[32m09:06:50\u001b[0m | ℹ️ \u001b[1mChange config to @overload\u001b[0m\n"
      ]
     },
     "metadata": {},
     "output_type": "display_data"
    },
    {
     "data": {
      "text/html": [
       "<pre style=\"white-space:pre;overflow-x:auto;line-height:normal;font-family:Menlo,'DejaVu Sans Mono',consolas,'Courier New',monospace\"><span style=\"color: #008000; text-decoration-color: #008000\">09:06:50</span> | ℹ️ <span style=\"font-weight: bold\">Merge repos\\micropython-stubs\\stubs\\micropython-v1_23_0-docstubs\\network\\LAN.pyi from </span>\n",
       "<span style=\"font-weight: bold\">repos\\gobotTypeshed\\micropython_typesheds\\network.pyi</span>\n",
       "</pre>\n"
      ],
      "text/plain": [
       "\u001b[32m09:06:50\u001b[0m | ℹ️ \u001b[1mMerge repos\\micropython-stubs\\stubs\\micropython-v1_23_0-docstubs\\network\\LAN.pyi from \u001b[0m\n",
       "\u001b[1mrepos\\gobotTypeshed\\micropython_typesheds\\network.pyi\u001b[0m\n"
      ]
     },
     "metadata": {},
     "output_type": "display_data"
    },
    {
     "data": {
      "text/html": [
       "<pre style=\"white-space:pre;overflow-x:auto;line-height:normal;font-family:Menlo,'DejaVu Sans Mono',consolas,'Courier New',monospace\"><span style=\"color: #008000; text-decoration-color: #008000\">09:06:50</span> | ℹ️ <span style=\"font-weight: bold\">Merge repos\\micropython-stubs\\stubs\\micropython-v1_23_0-docstubs\\network\\WIZNET5K.pyi from </span>\n",
       "<span style=\"font-weight: bold\">repos\\gobotTypeshed\\micropython_typesheds\\network.pyi</span>\n",
       "</pre>\n"
      ],
      "text/plain": [
       "\u001b[32m09:06:50\u001b[0m | ℹ️ \u001b[1mMerge repos\\micropython-stubs\\stubs\\micropython-v1_23_0-docstubs\\network\\WIZNET5K.pyi from \u001b[0m\n",
       "\u001b[1mrepos\\gobotTypeshed\\micropython_typesheds\\network.pyi\u001b[0m\n"
      ]
     },
     "metadata": {},
     "output_type": "display_data"
    },
    {
     "data": {
      "text/html": [
       "<pre style=\"white-space:pre;overflow-x:auto;line-height:normal;font-family:Menlo,'DejaVu Sans Mono',consolas,'Courier New',monospace\"><span style=\"color: #008000; text-decoration-color: #008000\">09:06:51</span> | ℹ️ <span style=\"font-weight: bold\">Change ifconfig to @overload</span>\n",
       "</pre>\n"
      ],
      "text/plain": [
       "\u001b[32m09:06:51\u001b[0m | ℹ️ \u001b[1mChange ifconfig to @overload\u001b[0m\n"
      ]
     },
     "metadata": {},
     "output_type": "display_data"
    },
    {
     "data": {
      "text/html": [
       "<pre style=\"white-space:pre;overflow-x:auto;line-height:normal;font-family:Menlo,'DejaVu Sans Mono',consolas,'Courier New',monospace\"><span style=\"color: #008000; text-decoration-color: #008000\">09:06:51</span> | ℹ️ <span style=\"font-weight: bold\">Merge repos\\micropython-stubs\\stubs\\micropython-v1_23_0-docstubs\\network\\WLAN.pyi from </span>\n",
       "<span style=\"font-weight: bold\">repos\\gobotTypeshed\\micropython_typesheds\\network.pyi</span>\n",
       "</pre>\n"
      ],
      "text/plain": [
       "\u001b[32m09:06:51\u001b[0m | ℹ️ \u001b[1mMerge repos\\micropython-stubs\\stubs\\micropython-v1_23_0-docstubs\\network\\WLAN.pyi from \u001b[0m\n",
       "\u001b[1mrepos\\gobotTypeshed\\micropython_typesheds\\network.pyi\u001b[0m\n"
      ]
     },
     "metadata": {},
     "output_type": "display_data"
    },
    {
     "data": {
      "text/html": [
       "<pre style=\"white-space:pre;overflow-x:auto;line-height:normal;font-family:Menlo,'DejaVu Sans Mono',consolas,'Courier New',monospace\"><span style=\"color: #008000; text-decoration-color: #008000\">09:06:51</span> | ℹ️ <span style=\"font-weight: bold\">Change active to @overload</span>\n",
       "</pre>\n"
      ],
      "text/plain": [
       "\u001b[32m09:06:51\u001b[0m | ℹ️ \u001b[1mChange active to @overload\u001b[0m\n"
      ]
     },
     "metadata": {},
     "output_type": "display_data"
    },
    {
     "data": {
      "text/html": [
       "<pre style=\"white-space:pre;overflow-x:auto;line-height:normal;font-family:Menlo,'DejaVu Sans Mono',consolas,'Courier New',monospace\"><span style=\"color: #008000; text-decoration-color: #008000\">09:06:51</span> | ℹ️ <span style=\"font-weight: bold\">Change status to @overload</span>\n",
       "</pre>\n"
      ],
      "text/plain": [
       "\u001b[32m09:06:51\u001b[0m | ℹ️ \u001b[1mChange status to @overload\u001b[0m\n"
      ]
     },
     "metadata": {},
     "output_type": "display_data"
    },
    {
     "data": {
      "text/html": [
       "<pre style=\"white-space:pre;overflow-x:auto;line-height:normal;font-family:Menlo,'DejaVu Sans Mono',consolas,'Courier New',monospace\"><span style=\"color: #008000; text-decoration-color: #008000\">09:06:51</span> | ℹ️ <span style=\"font-weight: bold\">Change ifconfig to @overload</span>\n",
       "</pre>\n"
      ],
      "text/plain": [
       "\u001b[32m09:06:51\u001b[0m | ℹ️ \u001b[1mChange ifconfig to @overload\u001b[0m\n"
      ]
     },
     "metadata": {},
     "output_type": "display_data"
    },
    {
     "data": {
      "text/html": [
       "<pre style=\"white-space:pre;overflow-x:auto;line-height:normal;font-family:Menlo,'DejaVu Sans Mono',consolas,'Courier New',monospace\"><span style=\"color: #008000; text-decoration-color: #008000\">09:06:51</span> | ℹ️ <span style=\"font-weight: bold\">Change config to @overload</span>\n",
       "</pre>\n"
      ],
      "text/plain": [
       "\u001b[32m09:06:51\u001b[0m | ℹ️ \u001b[1mChange config to @overload\u001b[0m\n"
      ]
     },
     "metadata": {},
     "output_type": "display_data"
    },
    {
     "data": {
      "text/html": [
       "<pre style=\"white-space:pre;overflow-x:auto;line-height:normal;font-family:Menlo,'DejaVu Sans Mono',consolas,'Courier New',monospace\"><span style=\"color: #008000; text-decoration-color: #008000\">09:06:51</span> | ℹ️ <span style=\"font-weight: bold\">Merge repos\\micropython-stubs\\stubs\\micropython-v1_23_0-docstubs\\network\\WLANWiPy.pyi from </span>\n",
       "<span style=\"font-weight: bold\">repos\\gobotTypeshed\\micropython_typesheds\\network.pyi</span>\n",
       "</pre>\n"
      ],
      "text/plain": [
       "\u001b[32m09:06:51\u001b[0m | ℹ️ \u001b[1mMerge repos\\micropython-stubs\\stubs\\micropython-v1_23_0-docstubs\\network\\WLANWiPy.pyi from \u001b[0m\n",
       "\u001b[1mrepos\\gobotTypeshed\\micropython_typesheds\\network.pyi\u001b[0m\n"
      ]
     },
     "metadata": {},
     "output_type": "display_data"
    },
    {
     "data": {
      "text/html": [
       "<pre style=\"white-space:pre;overflow-x:auto;line-height:normal;font-family:Menlo,'DejaVu Sans Mono',consolas,'Courier New',monospace\"><span style=\"color: #008000; text-decoration-color: #008000\">09:06:51</span> | ℹ️ <span style=\"font-weight: bold\">Change __init__ to @overload</span>\n",
       "</pre>\n"
      ],
      "text/plain": [
       "\u001b[32m09:06:51\u001b[0m | ℹ️ \u001b[1mChange __init__ to @overload\u001b[0m\n"
      ]
     },
     "metadata": {},
     "output_type": "display_data"
    },
    {
     "data": {
      "text/html": [
       "<pre style=\"white-space:pre;overflow-x:auto;line-height:normal;font-family:Menlo,'DejaVu Sans Mono',consolas,'Courier New',monospace\"><span style=\"color: #008000; text-decoration-color: #008000\">09:06:51</span> | ℹ️ <span style=\"font-weight: bold\">Change ifconfig to @overload</span>\n",
       "</pre>\n"
      ],
      "text/plain": [
       "\u001b[32m09:06:51\u001b[0m | ℹ️ \u001b[1mChange ifconfig to @overload\u001b[0m\n"
      ]
     },
     "metadata": {},
     "output_type": "display_data"
    },
    {
     "data": {
      "text/html": [
       "<pre style=\"white-space:pre;overflow-x:auto;line-height:normal;font-family:Menlo,'DejaVu Sans Mono',consolas,'Courier New',monospace\"><span style=\"color: #008000; text-decoration-color: #008000\">09:06:51</span> | ℹ️ <span style=\"font-weight: bold\">Change mode to @overload</span>\n",
       "</pre>\n"
      ],
      "text/plain": [
       "\u001b[32m09:06:51\u001b[0m | ℹ️ \u001b[1mChange mode to @overload\u001b[0m\n"
      ]
     },
     "metadata": {},
     "output_type": "display_data"
    },
    {
     "data": {
      "text/html": [
       "<pre style=\"white-space:pre;overflow-x:auto;line-height:normal;font-family:Menlo,'DejaVu Sans Mono',consolas,'Courier New',monospace\"><span style=\"color: #008000; text-decoration-color: #008000\">09:06:51</span> | ℹ️ <span style=\"font-weight: bold\">Change ssid to @overload</span>\n",
       "</pre>\n"
      ],
      "text/plain": [
       "\u001b[32m09:06:51\u001b[0m | ℹ️ \u001b[1mChange ssid to @overload\u001b[0m\n"
      ]
     },
     "metadata": {},
     "output_type": "display_data"
    },
    {
     "data": {
      "text/html": [
       "<pre style=\"white-space:pre;overflow-x:auto;line-height:normal;font-family:Menlo,'DejaVu Sans Mono',consolas,'Courier New',monospace\"><span style=\"color: #008000; text-decoration-color: #008000\">09:06:51</span> | ℹ️ <span style=\"font-weight: bold\">Change auth to @overload</span>\n",
       "</pre>\n"
      ],
      "text/plain": [
       "\u001b[32m09:06:51\u001b[0m | ℹ️ \u001b[1mChange auth to @overload\u001b[0m\n"
      ]
     },
     "metadata": {},
     "output_type": "display_data"
    },
    {
     "data": {
      "text/html": [
       "<pre style=\"white-space:pre;overflow-x:auto;line-height:normal;font-family:Menlo,'DejaVu Sans Mono',consolas,'Courier New',monospace\"><span style=\"color: #008000; text-decoration-color: #008000\">09:06:51</span> | ℹ️ <span style=\"font-weight: bold\">Change channel to @overload</span>\n",
       "</pre>\n"
      ],
      "text/plain": [
       "\u001b[32m09:06:51\u001b[0m | ℹ️ \u001b[1mChange channel to @overload\u001b[0m\n"
      ]
     },
     "metadata": {},
     "output_type": "display_data"
    },
    {
     "data": {
      "text/html": [
       "<pre style=\"white-space:pre;overflow-x:auto;line-height:normal;font-family:Menlo,'DejaVu Sans Mono',consolas,'Courier New',monospace\"><span style=\"color: #008000; text-decoration-color: #008000\">09:06:51</span> | ℹ️ <span style=\"font-weight: bold\">Change antenna to @overload</span>\n",
       "</pre>\n"
      ],
      "text/plain": [
       "\u001b[32m09:06:51\u001b[0m | ℹ️ \u001b[1mChange antenna to @overload\u001b[0m\n"
      ]
     },
     "metadata": {},
     "output_type": "display_data"
    },
    {
     "data": {
      "text/html": [
       "<pre style=\"white-space:pre;overflow-x:auto;line-height:normal;font-family:Menlo,'DejaVu Sans Mono',consolas,'Courier New',monospace\"><span style=\"color: #008000; text-decoration-color: #008000\">09:06:51</span> | ℹ️ <span style=\"font-weight: bold\">Change mac to @overload</span>\n",
       "</pre>\n"
      ],
      "text/plain": [
       "\u001b[32m09:06:51\u001b[0m | ℹ️ \u001b[1mChange mac to @overload\u001b[0m\n"
      ]
     },
     "metadata": {},
     "output_type": "display_data"
    },
    {
     "data": {
      "text/html": [
       "<pre style=\"white-space:pre;overflow-x:auto;line-height:normal;font-family:Menlo,'DejaVu Sans Mono',consolas,'Courier New',monospace\"><span style=\"color: #008000; text-decoration-color: #008000\">09:06:51</span> | ℹ️ <span style=\"font-weight: bold\">Merge repos\\micropython-stubs\\stubs\\micropython-v1_23_0-docstubs\\os\\__init__.pyi from </span>\n",
       "<span style=\"font-weight: bold\">repos\\gobotTypeshed\\micropython_typesheds\\os.pyi</span>\n",
       "</pre>\n"
      ],
      "text/plain": [
       "\u001b[32m09:06:51\u001b[0m | ℹ️ \u001b[1mMerge repos\\micropython-stubs\\stubs\\micropython-v1_23_0-docstubs\\os\\__init__.pyi from \u001b[0m\n",
       "\u001b[1mrepos\\gobotTypeshed\\micropython_typesheds\\os.pyi\u001b[0m\n"
      ]
     },
     "metadata": {},
     "output_type": "display_data"
    },
    {
     "data": {
      "text/html": [
       "<pre style=\"white-space:pre;overflow-x:auto;line-height:normal;font-family:Menlo,'DejaVu Sans Mono',consolas,'Courier New',monospace\"><span style=\"color: #008000; text-decoration-color: #008000\">09:06:51</span> | ℹ️ <span style=\"font-weight: bold\">Change ilistdir to @overload</span>\n",
       "</pre>\n"
      ],
      "text/plain": [
       "\u001b[32m09:06:51\u001b[0m | ℹ️ \u001b[1mChange ilistdir to @overload\u001b[0m\n"
      ]
     },
     "metadata": {},
     "output_type": "display_data"
    },
    {
     "data": {
      "text/html": [
       "<pre style=\"white-space:pre;overflow-x:auto;line-height:normal;font-family:Menlo,'DejaVu Sans Mono',consolas,'Courier New',monospace\"><span style=\"color: #008000; text-decoration-color: #008000\">09:06:51</span> | ℹ️ <span style=\"font-weight: bold\">Change listdir to @overload</span>\n",
       "</pre>\n"
      ],
      "text/plain": [
       "\u001b[32m09:06:51\u001b[0m | ℹ️ \u001b[1mChange listdir to @overload\u001b[0m\n"
      ]
     },
     "metadata": {},
     "output_type": "display_data"
    },
    {
     "data": {
      "text/html": [
       "<pre style=\"white-space:pre;overflow-x:auto;line-height:normal;font-family:Menlo,'DejaVu Sans Mono',consolas,'Courier New',monospace\"><span style=\"color: #008000; text-decoration-color: #008000\">09:06:51</span> | ℹ️ <span style=\"font-weight: bold\">Merge repos\\micropython-stubs\\stubs\\micropython-v1_23_0-docstubs\\os\\__init__.pyi from </span>\n",
       "<span style=\"font-weight: bold\">repos\\gobotTypeshed\\micropython_typesheds\\uos.pyi</span>\n",
       "</pre>\n"
      ],
      "text/plain": [
       "\u001b[32m09:06:51\u001b[0m | ℹ️ \u001b[1mMerge repos\\micropython-stubs\\stubs\\micropython-v1_23_0-docstubs\\os\\__init__.pyi from \u001b[0m\n",
       "\u001b[1mrepos\\gobotTypeshed\\micropython_typesheds\\uos.pyi\u001b[0m\n"
      ]
     },
     "metadata": {},
     "output_type": "display_data"
    },
    {
     "data": {
      "text/html": [
       "<pre style=\"white-space:pre;overflow-x:auto;line-height:normal;font-family:Menlo,'DejaVu Sans Mono',consolas,'Courier New',monospace\"><span style=\"color: #008000; text-decoration-color: #008000\">09:06:51</span> | ℹ️ <span style=\"font-weight: bold\">Merge repos\\micropython-stubs\\stubs\\micropython-v1_23_0-docstubs\\pyb\\__init__.pyi from </span>\n",
       "<span style=\"font-weight: bold\">repos\\gobotTypeshed\\micropython_typesheds\\pyb.pyi</span>\n",
       "</pre>\n"
      ],
      "text/plain": [
       "\u001b[32m09:06:51\u001b[0m | ℹ️ \u001b[1mMerge repos\\micropython-stubs\\stubs\\micropython-v1_23_0-docstubs\\pyb\\__init__.pyi from \u001b[0m\n",
       "\u001b[1mrepos\\gobotTypeshed\\micropython_typesheds\\pyb.pyi\u001b[0m\n"
      ]
     },
     "metadata": {},
     "output_type": "display_data"
    },
    {
     "data": {
      "text/html": [
       "<pre style=\"white-space:pre;overflow-x:auto;line-height:normal;font-family:Menlo,'DejaVu Sans Mono',consolas,'Courier New',monospace\"><span style=\"color: #008000; text-decoration-color: #008000\">09:06:52</span> | ℹ️ <span style=\"font-weight: bold\">Change freq to @overload</span>\n",
       "</pre>\n"
      ],
      "text/plain": [
       "\u001b[32m09:06:52\u001b[0m | ℹ️ \u001b[1mChange freq to @overload\u001b[0m\n"
      ]
     },
     "metadata": {},
     "output_type": "display_data"
    },
    {
     "data": {
      "text/html": [
       "<pre style=\"white-space:pre;overflow-x:auto;line-height:normal;font-family:Menlo,'DejaVu Sans Mono',consolas,'Courier New',monospace\"><span style=\"color: #008000; text-decoration-color: #008000\">09:06:52</span> | ℹ️ <span style=\"font-weight: bold\">Change hid to @overload</span>\n",
       "</pre>\n"
      ],
      "text/plain": [
       "\u001b[32m09:06:52\u001b[0m | ℹ️ \u001b[1mChange hid to @overload\u001b[0m\n"
      ]
     },
     "metadata": {},
     "output_type": "display_data"
    },
    {
     "data": {
      "text/html": [
       "<pre style=\"white-space:pre;overflow-x:auto;line-height:normal;font-family:Menlo,'DejaVu Sans Mono',consolas,'Courier New',monospace\"><span style=\"color: #008000; text-decoration-color: #008000\">09:06:52</span> | ℹ️ <span style=\"font-weight: bold\">Change info to @overload</span>\n",
       "</pre>\n"
      ],
      "text/plain": [
       "\u001b[32m09:06:52\u001b[0m | ℹ️ \u001b[1mChange info to @overload\u001b[0m\n"
      ]
     },
     "metadata": {},
     "output_type": "display_data"
    },
    {
     "data": {
      "text/html": [
       "<pre style=\"white-space:pre;overflow-x:auto;line-height:normal;font-family:Menlo,'DejaVu Sans Mono',consolas,'Courier New',monospace\"><span style=\"color: #008000; text-decoration-color: #008000\">09:06:52</span> | ℹ️ <span style=\"font-weight: bold\">Change mount to @overload</span>\n",
       "</pre>\n"
      ],
      "text/plain": [
       "\u001b[32m09:06:52\u001b[0m | ℹ️ \u001b[1mChange mount to @overload\u001b[0m\n"
      ]
     },
     "metadata": {},
     "output_type": "display_data"
    },
    {
     "data": {
      "text/html": [
       "<pre style=\"white-space:pre;overflow-x:auto;line-height:normal;font-family:Menlo,'DejaVu Sans Mono',consolas,'Courier New',monospace\"><span style=\"color: #008000; text-decoration-color: #008000\">09:06:52</span> | ℹ️ <span style=\"font-weight: bold\">Change repl_uart to @overload</span>\n",
       "</pre>\n"
      ],
      "text/plain": [
       "\u001b[32m09:06:52\u001b[0m | ℹ️ \u001b[1mChange repl_uart to @overload\u001b[0m\n"
      ]
     },
     "metadata": {},
     "output_type": "display_data"
    },
    {
     "data": {
      "text/html": [
       "<pre style=\"white-space:pre;overflow-x:auto;line-height:normal;font-family:Menlo,'DejaVu Sans Mono',consolas,'Courier New',monospace\"><span style=\"color: #008000; text-decoration-color: #008000\">09:06:52</span> | ℹ️ <span style=\"font-weight: bold\">Change usb_mode to @overload</span>\n",
       "</pre>\n"
      ],
      "text/plain": [
       "\u001b[32m09:06:52\u001b[0m | ℹ️ \u001b[1mChange usb_mode to @overload\u001b[0m\n"
      ]
     },
     "metadata": {},
     "output_type": "display_data"
    },
    {
     "data": {
      "text/html": [
       "<pre style=\"white-space:pre;overflow-x:auto;line-height:normal;font-family:Menlo,'DejaVu Sans Mono',consolas,'Courier New',monospace\"><span style=\"color: #008000; text-decoration-color: #008000\">09:06:52</span> | ℹ️ <span style=\"font-weight: bold\">Merge repos\\micropython-stubs\\stubs\\micropython-v1_23_0-docstubs\\pyb\\Accel.pyi from </span>\n",
       "<span style=\"font-weight: bold\">repos\\gobotTypeshed\\micropython_typesheds\\pyb.pyi</span>\n",
       "</pre>\n"
      ],
      "text/plain": [
       "\u001b[32m09:06:52\u001b[0m | ℹ️ \u001b[1mMerge repos\\micropython-stubs\\stubs\\micropython-v1_23_0-docstubs\\pyb\\Accel.pyi from \u001b[0m\n",
       "\u001b[1mrepos\\gobotTypeshed\\micropython_typesheds\\pyb.pyi\u001b[0m\n"
      ]
     },
     "metadata": {},
     "output_type": "display_data"
    },
    {
     "data": {
      "text/html": [
       "<pre style=\"white-space:pre;overflow-x:auto;line-height:normal;font-family:Menlo,'DejaVu Sans Mono',consolas,'Courier New',monospace\"><span style=\"color: #008000; text-decoration-color: #008000\">09:06:53</span> | ℹ️ <span style=\"font-weight: bold\">Merge repos\\micropython-stubs\\stubs\\micropython-v1_23_0-docstubs\\pyb\\ADC.pyi from </span>\n",
       "<span style=\"font-weight: bold\">repos\\gobotTypeshed\\micropython_typesheds\\pyb.pyi</span>\n",
       "</pre>\n"
      ],
      "text/plain": [
       "\u001b[32m09:06:53\u001b[0m | ℹ️ \u001b[1mMerge repos\\micropython-stubs\\stubs\\micropython-v1_23_0-docstubs\\pyb\\ADC.pyi from \u001b[0m\n",
       "\u001b[1mrepos\\gobotTypeshed\\micropython_typesheds\\pyb.pyi\u001b[0m\n"
      ]
     },
     "metadata": {},
     "output_type": "display_data"
    },
    {
     "data": {
      "text/html": [
       "<pre style=\"white-space:pre;overflow-x:auto;line-height:normal;font-family:Menlo,'DejaVu Sans Mono',consolas,'Courier New',monospace\"><span style=\"color: #008000; text-decoration-color: #008000\">09:06:53</span> | ℹ️ <span style=\"font-weight: bold\">Merge repos\\micropython-stubs\\stubs\\micropython-v1_23_0-docstubs\\pyb\\CAN.pyi from </span>\n",
       "<span style=\"font-weight: bold\">repos\\gobotTypeshed\\micropython_typesheds\\pyb.pyi</span>\n",
       "</pre>\n"
      ],
      "text/plain": [
       "\u001b[32m09:06:53\u001b[0m | ℹ️ \u001b[1mMerge repos\\micropython-stubs\\stubs\\micropython-v1_23_0-docstubs\\pyb\\CAN.pyi from \u001b[0m\n",
       "\u001b[1mrepos\\gobotTypeshed\\micropython_typesheds\\pyb.pyi\u001b[0m\n"
      ]
     },
     "metadata": {},
     "output_type": "display_data"
    },
    {
     "data": {
      "text/html": [
       "<pre style=\"white-space:pre;overflow-x:auto;line-height:normal;font-family:Menlo,'DejaVu Sans Mono',consolas,'Courier New',monospace\"><span style=\"color: #008000; text-decoration-color: #008000\">09:06:54</span> | ℹ️ <span style=\"font-weight: bold\">Change info to @overload</span>\n",
       "</pre>\n"
      ],
      "text/plain": [
       "\u001b[32m09:06:54\u001b[0m | ℹ️ \u001b[1mChange info to @overload\u001b[0m\n"
      ]
     },
     "metadata": {},
     "output_type": "display_data"
    },
    {
     "data": {
      "text/html": [
       "<pre style=\"white-space:pre;overflow-x:auto;line-height:normal;font-family:Menlo,'DejaVu Sans Mono',consolas,'Courier New',monospace\"><span style=\"color: #008000; text-decoration-color: #008000\">09:06:54</span> | ℹ️ <span style=\"font-weight: bold\">Change setfilter to @overload</span>\n",
       "</pre>\n"
      ],
      "text/plain": [
       "\u001b[32m09:06:54\u001b[0m | ℹ️ \u001b[1mChange setfilter to @overload\u001b[0m\n"
      ]
     },
     "metadata": {},
     "output_type": "display_data"
    },
    {
     "data": {
      "text/html": [
       "<pre style=\"white-space:pre;overflow-x:auto;line-height:normal;font-family:Menlo,'DejaVu Sans Mono',consolas,'Courier New',monospace\"><span style=\"color: #008000; text-decoration-color: #008000\">09:06:54</span> | ℹ️ <span style=\"font-weight: bold\">Change recv to @overload</span>\n",
       "</pre>\n"
      ],
      "text/plain": [
       "\u001b[32m09:06:54\u001b[0m | ℹ️ \u001b[1mChange recv to @overload\u001b[0m\n"
      ]
     },
     "metadata": {},
     "output_type": "display_data"
    },
    {
     "data": {
      "text/html": [
       "<pre style=\"white-space:pre;overflow-x:auto;line-height:normal;font-family:Menlo,'DejaVu Sans Mono',consolas,'Courier New',monospace\"><span style=\"color: #008000; text-decoration-color: #008000\">09:06:54</span> | ℹ️ <span style=\"font-weight: bold\">Merge repos\\micropython-stubs\\stubs\\micropython-v1_23_0-docstubs\\pyb\\DAC.pyi from </span>\n",
       "<span style=\"font-weight: bold\">repos\\gobotTypeshed\\micropython_typesheds\\pyb.pyi</span>\n",
       "</pre>\n"
      ],
      "text/plain": [
       "\u001b[32m09:06:54\u001b[0m | ℹ️ \u001b[1mMerge repos\\micropython-stubs\\stubs\\micropython-v1_23_0-docstubs\\pyb\\DAC.pyi from \u001b[0m\n",
       "\u001b[1mrepos\\gobotTypeshed\\micropython_typesheds\\pyb.pyi\u001b[0m\n"
      ]
     },
     "metadata": {},
     "output_type": "display_data"
    },
    {
     "data": {
      "text/html": [
       "<pre style=\"white-space:pre;overflow-x:auto;line-height:normal;font-family:Menlo,'DejaVu Sans Mono',consolas,'Courier New',monospace\"><span style=\"color: #008000; text-decoration-color: #008000\">09:06:55</span> | ℹ️ <span style=\"font-weight: bold\">Merge repos\\micropython-stubs\\stubs\\micropython-v1_23_0-docstubs\\pyb\\ExtInt.pyi from </span>\n",
       "<span style=\"font-weight: bold\">repos\\gobotTypeshed\\micropython_typesheds\\pyb.pyi</span>\n",
       "</pre>\n"
      ],
      "text/plain": [
       "\u001b[32m09:06:55\u001b[0m | ℹ️ \u001b[1mMerge repos\\micropython-stubs\\stubs\\micropython-v1_23_0-docstubs\\pyb\\ExtInt.pyi from \u001b[0m\n",
       "\u001b[1mrepos\\gobotTypeshed\\micropython_typesheds\\pyb.pyi\u001b[0m\n"
      ]
     },
     "metadata": {},
     "output_type": "display_data"
    },
    {
     "data": {
      "text/html": [
       "<pre style=\"white-space:pre;overflow-x:auto;line-height:normal;font-family:Menlo,'DejaVu Sans Mono',consolas,'Courier New',monospace\"><span style=\"color: #008000; text-decoration-color: #008000\">09:06:55</span> | ℹ️ <span style=\"font-weight: bold\">Merge repos\\micropython-stubs\\stubs\\micropython-v1_23_0-docstubs\\pyb\\Flash.pyi from </span>\n",
       "<span style=\"font-weight: bold\">repos\\gobotTypeshed\\micropython_typesheds\\pyb.pyi</span>\n",
       "</pre>\n"
      ],
      "text/plain": [
       "\u001b[32m09:06:55\u001b[0m | ℹ️ \u001b[1mMerge repos\\micropython-stubs\\stubs\\micropython-v1_23_0-docstubs\\pyb\\Flash.pyi from \u001b[0m\n",
       "\u001b[1mrepos\\gobotTypeshed\\micropython_typesheds\\pyb.pyi\u001b[0m\n"
      ]
     },
     "metadata": {},
     "output_type": "display_data"
    },
    {
     "data": {
      "text/html": [
       "<pre style=\"white-space:pre;overflow-x:auto;line-height:normal;font-family:Menlo,'DejaVu Sans Mono',consolas,'Courier New',monospace\"><span style=\"color: #008000; text-decoration-color: #008000\">09:06:56</span> | ℹ️ <span style=\"font-weight: bold\">Change __init__ to @overload</span>\n",
       "</pre>\n"
      ],
      "text/plain": [
       "\u001b[32m09:06:56\u001b[0m | ℹ️ \u001b[1mChange __init__ to @overload\u001b[0m\n"
      ]
     },
     "metadata": {},
     "output_type": "display_data"
    },
    {
     "data": {
      "text/html": [
       "<pre style=\"white-space:pre;overflow-x:auto;line-height:normal;font-family:Menlo,'DejaVu Sans Mono',consolas,'Courier New',monospace\"><span style=\"color: #008000; text-decoration-color: #008000\">09:06:56</span> | ℹ️ <span style=\"font-weight: bold\">Merge repos\\micropython-stubs\\stubs\\micropython-v1_23_0-docstubs\\pyb\\I2C.pyi from </span>\n",
       "<span style=\"font-weight: bold\">repos\\gobotTypeshed\\micropython_typesheds\\pyb.pyi</span>\n",
       "</pre>\n"
      ],
      "text/plain": [
       "\u001b[32m09:06:56\u001b[0m | ℹ️ \u001b[1mMerge repos\\micropython-stubs\\stubs\\micropython-v1_23_0-docstubs\\pyb\\I2C.pyi from \u001b[0m\n",
       "\u001b[1mrepos\\gobotTypeshed\\micropython_typesheds\\pyb.pyi\u001b[0m\n"
      ]
     },
     "metadata": {},
     "output_type": "display_data"
    },
    {
     "data": {
      "text/html": [
       "<pre style=\"white-space:pre;overflow-x:auto;line-height:normal;font-family:Menlo,'DejaVu Sans Mono',consolas,'Courier New',monospace\"><span style=\"color: #008000; text-decoration-color: #008000\">09:06:56</span> | ℹ️ <span style=\"font-weight: bold\">Change mem_read to @overload</span>\n",
       "</pre>\n"
      ],
      "text/plain": [
       "\u001b[32m09:06:56\u001b[0m | ℹ️ \u001b[1mChange mem_read to @overload\u001b[0m\n"
      ]
     },
     "metadata": {},
     "output_type": "display_data"
    },
    {
     "data": {
      "text/html": [
       "<pre style=\"white-space:pre;overflow-x:auto;line-height:normal;font-family:Menlo,'DejaVu Sans Mono',consolas,'Courier New',monospace\"><span style=\"color: #008000; text-decoration-color: #008000\">09:06:56</span> | ℹ️ <span style=\"font-weight: bold\">Change recv to @overload</span>\n",
       "</pre>\n"
      ],
      "text/plain": [
       "\u001b[32m09:06:56\u001b[0m | ℹ️ \u001b[1mChange recv to @overload\u001b[0m\n"
      ]
     },
     "metadata": {},
     "output_type": "display_data"
    },
    {
     "data": {
      "text/html": [
       "<pre style=\"white-space:pre;overflow-x:auto;line-height:normal;font-family:Menlo,'DejaVu Sans Mono',consolas,'Courier New',monospace\"><span style=\"color: #008000; text-decoration-color: #008000\">09:06:56</span> | ℹ️ <span style=\"font-weight: bold\">Merge repos\\micropython-stubs\\stubs\\micropython-v1_23_0-docstubs\\pyb\\LCD.pyi from </span>\n",
       "<span style=\"font-weight: bold\">repos\\gobotTypeshed\\micropython_typesheds\\pyb.pyi</span>\n",
       "</pre>\n"
      ],
      "text/plain": [
       "\u001b[32m09:06:56\u001b[0m | ℹ️ \u001b[1mMerge repos\\micropython-stubs\\stubs\\micropython-v1_23_0-docstubs\\pyb\\LCD.pyi from \u001b[0m\n",
       "\u001b[1mrepos\\gobotTypeshed\\micropython_typesheds\\pyb.pyi\u001b[0m\n"
      ]
     },
     "metadata": {},
     "output_type": "display_data"
    },
    {
     "data": {
      "text/html": [
       "<pre style=\"white-space:pre;overflow-x:auto;line-height:normal;font-family:Menlo,'DejaVu Sans Mono',consolas,'Courier New',monospace\"><span style=\"color: #008000; text-decoration-color: #008000\">09:06:57</span> | ℹ️ <span style=\"font-weight: bold\">Merge repos\\micropython-stubs\\stubs\\micropython-v1_23_0-docstubs\\pyb\\LED.pyi from </span>\n",
       "<span style=\"font-weight: bold\">repos\\gobotTypeshed\\micropython_typesheds\\pyb.pyi</span>\n",
       "</pre>\n"
      ],
      "text/plain": [
       "\u001b[32m09:06:57\u001b[0m | ℹ️ \u001b[1mMerge repos\\micropython-stubs\\stubs\\micropython-v1_23_0-docstubs\\pyb\\LED.pyi from \u001b[0m\n",
       "\u001b[1mrepos\\gobotTypeshed\\micropython_typesheds\\pyb.pyi\u001b[0m\n"
      ]
     },
     "metadata": {},
     "output_type": "display_data"
    },
    {
     "data": {
      "text/html": [
       "<pre style=\"white-space:pre;overflow-x:auto;line-height:normal;font-family:Menlo,'DejaVu Sans Mono',consolas,'Courier New',monospace\"><span style=\"color: #008000; text-decoration-color: #008000\">09:06:58</span> | ℹ️ <span style=\"font-weight: bold\">Change intensity to @overload</span>\n",
       "</pre>\n"
      ],
      "text/plain": [
       "\u001b[32m09:06:58\u001b[0m | ℹ️ \u001b[1mChange intensity to @overload\u001b[0m\n"
      ]
     },
     "metadata": {},
     "output_type": "display_data"
    },
    {
     "data": {
      "text/html": [
       "<pre style=\"white-space:pre;overflow-x:auto;line-height:normal;font-family:Menlo,'DejaVu Sans Mono',consolas,'Courier New',monospace\"><span style=\"color: #008000; text-decoration-color: #008000\">09:06:58</span> | ℹ️ <span style=\"font-weight: bold\">Merge repos\\micropython-stubs\\stubs\\micropython-v1_23_0-docstubs\\pyb\\Pin.pyi from </span>\n",
       "<span style=\"font-weight: bold\">repos\\gobotTypeshed\\micropython_typesheds\\pyb.pyi</span>\n",
       "</pre>\n"
      ],
      "text/plain": [
       "\u001b[32m09:06:58\u001b[0m | ℹ️ \u001b[1mMerge repos\\micropython-stubs\\stubs\\micropython-v1_23_0-docstubs\\pyb\\Pin.pyi from \u001b[0m\n",
       "\u001b[1mrepos\\gobotTypeshed\\micropython_typesheds\\pyb.pyi\u001b[0m\n"
      ]
     },
     "metadata": {},
     "output_type": "display_data"
    },
    {
     "data": {
      "text/html": [
       "<pre style=\"white-space:pre;overflow-x:auto;line-height:normal;font-family:Menlo,'DejaVu Sans Mono',consolas,'Courier New',monospace\"><span style=\"color: #008000; text-decoration-color: #008000\">09:06:58</span> | ℹ️ <span style=\"font-weight: bold\">Change debug to @overload</span>\n",
       "</pre>\n"
      ],
      "text/plain": [
       "\u001b[32m09:06:58\u001b[0m | ℹ️ \u001b[1mChange debug to @overload\u001b[0m\n"
      ]
     },
     "metadata": {},
     "output_type": "display_data"
    },
    {
     "data": {
      "text/html": [
       "<pre style=\"white-space:pre;overflow-x:auto;line-height:normal;font-family:Menlo,'DejaVu Sans Mono',consolas,'Courier New',monospace\"><span style=\"color: #008000; text-decoration-color: #008000\">09:06:58</span> | ℹ️ <span style=\"font-weight: bold\">Change dict to @overload</span>\n",
       "</pre>\n"
      ],
      "text/plain": [
       "\u001b[32m09:06:58\u001b[0m | ℹ️ \u001b[1mChange dict to @overload\u001b[0m\n"
      ]
     },
     "metadata": {},
     "output_type": "display_data"
    },
    {
     "data": {
      "text/html": [
       "<pre style=\"white-space:pre;overflow-x:auto;line-height:normal;font-family:Menlo,'DejaVu Sans Mono',consolas,'Courier New',monospace\"><span style=\"color: #008000; text-decoration-color: #008000\">09:06:58</span> | ℹ️ <span style=\"font-weight: bold\">Change mapper to @overload</span>\n",
       "</pre>\n"
      ],
      "text/plain": [
       "\u001b[32m09:06:58\u001b[0m | ℹ️ \u001b[1mChange mapper to @overload\u001b[0m\n"
      ]
     },
     "metadata": {},
     "output_type": "display_data"
    },
    {
     "data": {
      "text/html": [
       "<pre style=\"white-space:pre;overflow-x:auto;line-height:normal;font-family:Menlo,'DejaVu Sans Mono',consolas,'Courier New',monospace\"><span style=\"color: #008000; text-decoration-color: #008000\">09:06:58</span> | ℹ️ <span style=\"font-weight: bold\">Change value to @overload</span>\n",
       "</pre>\n"
      ],
      "text/plain": [
       "\u001b[32m09:06:58\u001b[0m | ℹ️ \u001b[1mChange value to @overload\u001b[0m\n"
      ]
     },
     "metadata": {},
     "output_type": "display_data"
    },
    {
     "data": {
      "text/html": [
       "<pre style=\"white-space:pre;overflow-x:auto;line-height:normal;font-family:Menlo,'DejaVu Sans Mono',consolas,'Courier New',monospace\"><span style=\"color: #008000; text-decoration-color: #008000\">09:06:58</span> | ℹ️ <span style=\"font-weight: bold\">Merge repos\\micropython-stubs\\stubs\\micropython-v1_23_0-docstubs\\pyb\\RTC.pyi from </span>\n",
       "<span style=\"font-weight: bold\">repos\\gobotTypeshed\\micropython_typesheds\\pyb.pyi</span>\n",
       "</pre>\n"
      ],
      "text/plain": [
       "\u001b[32m09:06:58\u001b[0m | ℹ️ \u001b[1mMerge repos\\micropython-stubs\\stubs\\micropython-v1_23_0-docstubs\\pyb\\RTC.pyi from \u001b[0m\n",
       "\u001b[1mrepos\\gobotTypeshed\\micropython_typesheds\\pyb.pyi\u001b[0m\n"
      ]
     },
     "metadata": {},
     "output_type": "display_data"
    },
    {
     "data": {
      "text/html": [
       "<pre style=\"white-space:pre;overflow-x:auto;line-height:normal;font-family:Menlo,'DejaVu Sans Mono',consolas,'Courier New',monospace\"><span style=\"color: #008000; text-decoration-color: #008000\">09:06:59</span> | ℹ️ <span style=\"font-weight: bold\">Change calibration to @overload</span>\n",
       "</pre>\n"
      ],
      "text/plain": [
       "\u001b[32m09:06:59\u001b[0m | ℹ️ \u001b[1mChange calibration to @overload\u001b[0m\n"
      ]
     },
     "metadata": {},
     "output_type": "display_data"
    },
    {
     "data": {
      "text/html": [
       "<pre style=\"white-space:pre;overflow-x:auto;line-height:normal;font-family:Menlo,'DejaVu Sans Mono',consolas,'Courier New',monospace\"><span style=\"color: #008000; text-decoration-color: #008000\">09:06:59</span> | ℹ️ <span style=\"font-weight: bold\">Merge repos\\micropython-stubs\\stubs\\micropython-v1_23_0-docstubs\\pyb\\Servo.pyi from </span>\n",
       "<span style=\"font-weight: bold\">repos\\gobotTypeshed\\micropython_typesheds\\pyb.pyi</span>\n",
       "</pre>\n"
      ],
      "text/plain": [
       "\u001b[32m09:06:59\u001b[0m | ℹ️ \u001b[1mMerge repos\\micropython-stubs\\stubs\\micropython-v1_23_0-docstubs\\pyb\\Servo.pyi from \u001b[0m\n",
       "\u001b[1mrepos\\gobotTypeshed\\micropython_typesheds\\pyb.pyi\u001b[0m\n"
      ]
     },
     "metadata": {},
     "output_type": "display_data"
    },
    {
     "data": {
      "text/html": [
       "<pre style=\"white-space:pre;overflow-x:auto;line-height:normal;font-family:Menlo,'DejaVu Sans Mono',consolas,'Courier New',monospace\"><span style=\"color: #008000; text-decoration-color: #008000\">09:06:59</span> | ℹ️ <span style=\"font-weight: bold\">Change angle to @overload</span>\n",
       "</pre>\n"
      ],
      "text/plain": [
       "\u001b[32m09:06:59\u001b[0m | ℹ️ \u001b[1mChange angle to @overload\u001b[0m\n"
      ]
     },
     "metadata": {},
     "output_type": "display_data"
    },
    {
     "data": {
      "text/html": [
       "<pre style=\"white-space:pre;overflow-x:auto;line-height:normal;font-family:Menlo,'DejaVu Sans Mono',consolas,'Courier New',monospace\"><span style=\"color: #008000; text-decoration-color: #008000\">09:06:59</span> | ℹ️ <span style=\"font-weight: bold\">Change speed to @overload</span>\n",
       "</pre>\n"
      ],
      "text/plain": [
       "\u001b[32m09:06:59\u001b[0m | ℹ️ \u001b[1mChange speed to @overload\u001b[0m\n"
      ]
     },
     "metadata": {},
     "output_type": "display_data"
    },
    {
     "data": {
      "text/html": [
       "<pre style=\"white-space:pre;overflow-x:auto;line-height:normal;font-family:Menlo,'DejaVu Sans Mono',consolas,'Courier New',monospace\"><span style=\"color: #008000; text-decoration-color: #008000\">09:06:59</span> | ℹ️ <span style=\"font-weight: bold\">Change calibration to @overload</span>\n",
       "</pre>\n"
      ],
      "text/plain": [
       "\u001b[32m09:06:59\u001b[0m | ℹ️ \u001b[1mChange calibration to @overload\u001b[0m\n"
      ]
     },
     "metadata": {},
     "output_type": "display_data"
    },
    {
     "data": {
      "text/html": [
       "<pre style=\"white-space:pre;overflow-x:auto;line-height:normal;font-family:Menlo,'DejaVu Sans Mono',consolas,'Courier New',monospace\"><span style=\"color: #008000; text-decoration-color: #008000\">09:06:59</span> | ℹ️ <span style=\"font-weight: bold\">Merge repos\\micropython-stubs\\stubs\\micropython-v1_23_0-docstubs\\pyb\\SPI.pyi from </span>\n",
       "<span style=\"font-weight: bold\">repos\\gobotTypeshed\\micropython_typesheds\\pyb.pyi</span>\n",
       "</pre>\n"
      ],
      "text/plain": [
       "\u001b[32m09:06:59\u001b[0m | ℹ️ \u001b[1mMerge repos\\micropython-stubs\\stubs\\micropython-v1_23_0-docstubs\\pyb\\SPI.pyi from \u001b[0m\n",
       "\u001b[1mrepos\\gobotTypeshed\\micropython_typesheds\\pyb.pyi\u001b[0m\n"
      ]
     },
     "metadata": {},
     "output_type": "display_data"
    },
    {
     "data": {
      "text/html": [
       "<pre style=\"white-space:pre;overflow-x:auto;line-height:normal;font-family:Menlo,'DejaVu Sans Mono',consolas,'Courier New',monospace\"><span style=\"color: #008000; text-decoration-color: #008000\">09:07:00</span> | ℹ️ <span style=\"font-weight: bold\">Change __init__ to @overload</span>\n",
       "</pre>\n"
      ],
      "text/plain": [
       "\u001b[32m09:07:00\u001b[0m | ℹ️ \u001b[1mChange __init__ to @overload\u001b[0m\n"
      ]
     },
     "metadata": {},
     "output_type": "display_data"
    },
    {
     "data": {
      "text/html": [
       "<pre style=\"white-space:pre;overflow-x:auto;line-height:normal;font-family:Menlo,'DejaVu Sans Mono',consolas,'Courier New',monospace\"><span style=\"color: #008000; text-decoration-color: #008000\">09:07:00</span> | ℹ️ <span style=\"font-weight: bold\">Change init to @overload</span>\n",
       "</pre>\n"
      ],
      "text/plain": [
       "\u001b[32m09:07:00\u001b[0m | ℹ️ \u001b[1mChange init to @overload\u001b[0m\n"
      ]
     },
     "metadata": {},
     "output_type": "display_data"
    },
    {
     "data": {
      "text/html": [
       "<pre style=\"white-space:pre;overflow-x:auto;line-height:normal;font-family:Menlo,'DejaVu Sans Mono',consolas,'Courier New',monospace\"><span style=\"color: #008000; text-decoration-color: #008000\">09:07:00</span> | ℹ️ <span style=\"font-weight: bold\">Merge repos\\micropython-stubs\\stubs\\micropython-v1_23_0-docstubs\\pyb\\Switch.pyi from </span>\n",
       "<span style=\"font-weight: bold\">repos\\gobotTypeshed\\micropython_typesheds\\pyb.pyi</span>\n",
       "</pre>\n"
      ],
      "text/plain": [
       "\u001b[32m09:07:00\u001b[0m | ℹ️ \u001b[1mMerge repos\\micropython-stubs\\stubs\\micropython-v1_23_0-docstubs\\pyb\\Switch.pyi from \u001b[0m\n",
       "\u001b[1mrepos\\gobotTypeshed\\micropython_typesheds\\pyb.pyi\u001b[0m\n"
      ]
     },
     "metadata": {},
     "output_type": "display_data"
    },
    {
     "data": {
      "text/html": [
       "<pre style=\"white-space:pre;overflow-x:auto;line-height:normal;font-family:Menlo,'DejaVu Sans Mono',consolas,'Courier New',monospace\"><span style=\"color: #008000; text-decoration-color: #008000\">09:07:01</span> | ℹ️ <span style=\"font-weight: bold\">Merge repos\\micropython-stubs\\stubs\\micropython-v1_23_0-docstubs\\pyb\\Timer.pyi from </span>\n",
       "<span style=\"font-weight: bold\">repos\\gobotTypeshed\\micropython_typesheds\\pyb.pyi</span>\n",
       "</pre>\n"
      ],
      "text/plain": [
       "\u001b[32m09:07:01\u001b[0m | ℹ️ \u001b[1mMerge repos\\micropython-stubs\\stubs\\micropython-v1_23_0-docstubs\\pyb\\Timer.pyi from \u001b[0m\n",
       "\u001b[1mrepos\\gobotTypeshed\\micropython_typesheds\\pyb.pyi\u001b[0m\n"
      ]
     },
     "metadata": {},
     "output_type": "display_data"
    },
    {
     "data": {
      "text/html": [
       "<pre style=\"white-space:pre;overflow-x:auto;line-height:normal;font-family:Menlo,'DejaVu Sans Mono',consolas,'Courier New',monospace\"><span style=\"color: #008000; text-decoration-color: #008000\">09:07:01</span> | ℹ️ <span style=\"font-weight: bold\">Change __init__ to @overload</span>\n",
       "</pre>\n"
      ],
      "text/plain": [
       "\u001b[32m09:07:01\u001b[0m | ℹ️ \u001b[1mChange __init__ to @overload\u001b[0m\n"
      ]
     },
     "metadata": {},
     "output_type": "display_data"
    },
    {
     "data": {
      "text/html": [
       "<pre style=\"white-space:pre;overflow-x:auto;line-height:normal;font-family:Menlo,'DejaVu Sans Mono',consolas,'Courier New',monospace\"><span style=\"color: #008000; text-decoration-color: #008000\">09:07:01</span> | ℹ️ <span style=\"font-weight: bold\">Change init to @overload</span>\n",
       "</pre>\n"
      ],
      "text/plain": [
       "\u001b[32m09:07:01\u001b[0m | ℹ️ \u001b[1mChange init to @overload\u001b[0m\n"
      ]
     },
     "metadata": {},
     "output_type": "display_data"
    },
    {
     "data": {
      "text/html": [
       "<pre style=\"white-space:pre;overflow-x:auto;line-height:normal;font-family:Menlo,'DejaVu Sans Mono',consolas,'Courier New',monospace\"><span style=\"color: #008000; text-decoration-color: #008000\">09:07:01</span> | ℹ️ <span style=\"font-weight: bold\">Change channel to @overload</span>\n",
       "</pre>\n"
      ],
      "text/plain": [
       "\u001b[32m09:07:01\u001b[0m | ℹ️ \u001b[1mChange channel to @overload\u001b[0m\n"
      ]
     },
     "metadata": {},
     "output_type": "display_data"
    },
    {
     "data": {
      "text/html": [
       "<pre style=\"white-space:pre;overflow-x:auto;line-height:normal;font-family:Menlo,'DejaVu Sans Mono',consolas,'Courier New',monospace\"><span style=\"color: #008000; text-decoration-color: #008000\">09:07:01</span> | ℹ️ <span style=\"font-weight: bold\">Change counter to @overload</span>\n",
       "</pre>\n"
      ],
      "text/plain": [
       "\u001b[32m09:07:01\u001b[0m | ℹ️ \u001b[1mChange counter to @overload\u001b[0m\n"
      ]
     },
     "metadata": {},
     "output_type": "display_data"
    },
    {
     "data": {
      "text/html": [
       "<pre style=\"white-space:pre;overflow-x:auto;line-height:normal;font-family:Menlo,'DejaVu Sans Mono',consolas,'Courier New',monospace\"><span style=\"color: #008000; text-decoration-color: #008000\">09:07:01</span> | ℹ️ <span style=\"font-weight: bold\">Change freq to @overload</span>\n",
       "</pre>\n"
      ],
      "text/plain": [
       "\u001b[32m09:07:01\u001b[0m | ℹ️ \u001b[1mChange freq to @overload\u001b[0m\n"
      ]
     },
     "metadata": {},
     "output_type": "display_data"
    },
    {
     "data": {
      "text/html": [
       "<pre style=\"white-space:pre;overflow-x:auto;line-height:normal;font-family:Menlo,'DejaVu Sans Mono',consolas,'Courier New',monospace\"><span style=\"color: #008000; text-decoration-color: #008000\">09:07:01</span> | ℹ️ <span style=\"font-weight: bold\">Change period to @overload</span>\n",
       "</pre>\n"
      ],
      "text/plain": [
       "\u001b[32m09:07:01\u001b[0m | ℹ️ \u001b[1mChange period to @overload\u001b[0m\n"
      ]
     },
     "metadata": {},
     "output_type": "display_data"
    },
    {
     "data": {
      "text/html": [
       "<pre style=\"white-space:pre;overflow-x:auto;line-height:normal;font-family:Menlo,'DejaVu Sans Mono',consolas,'Courier New',monospace\"><span style=\"color: #008000; text-decoration-color: #008000\">09:07:01</span> | ℹ️ <span style=\"font-weight: bold\">Change prescaler to @overload</span>\n",
       "</pre>\n"
      ],
      "text/plain": [
       "\u001b[32m09:07:01\u001b[0m | ℹ️ \u001b[1mChange prescaler to @overload\u001b[0m\n"
      ]
     },
     "metadata": {},
     "output_type": "display_data"
    },
    {
     "data": {
      "text/html": [
       "<pre style=\"white-space:pre;overflow-x:auto;line-height:normal;font-family:Menlo,'DejaVu Sans Mono',consolas,'Courier New',monospace\"><span style=\"color: #008000; text-decoration-color: #008000\">09:07:01</span> | ℹ️ <span style=\"font-weight: bold\">Merge repos\\micropython-stubs\\stubs\\micropython-v1_23_0-docstubs\\pyb\\UART.pyi from </span>\n",
       "<span style=\"font-weight: bold\">repos\\gobotTypeshed\\micropython_typesheds\\pyb.pyi</span>\n",
       "</pre>\n"
      ],
      "text/plain": [
       "\u001b[32m09:07:01\u001b[0m | ℹ️ \u001b[1mMerge repos\\micropython-stubs\\stubs\\micropython-v1_23_0-docstubs\\pyb\\UART.pyi from \u001b[0m\n",
       "\u001b[1mrepos\\gobotTypeshed\\micropython_typesheds\\pyb.pyi\u001b[0m\n"
      ]
     },
     "metadata": {},
     "output_type": "display_data"
    },
    {
     "data": {
      "text/html": [
       "<pre style=\"white-space:pre;overflow-x:auto;line-height:normal;font-family:Menlo,'DejaVu Sans Mono',consolas,'Courier New',monospace\"><span style=\"color: #008000; text-decoration-color: #008000\">09:07:02</span> | ℹ️ <span style=\"font-weight: bold\">Change __init__ to @overload</span>\n",
       "</pre>\n"
      ],
      "text/plain": [
       "\u001b[32m09:07:02\u001b[0m | ℹ️ \u001b[1mChange __init__ to @overload\u001b[0m\n"
      ]
     },
     "metadata": {},
     "output_type": "display_data"
    },
    {
     "data": {
      "text/html": [
       "<pre style=\"white-space:pre;overflow-x:auto;line-height:normal;font-family:Menlo,'DejaVu Sans Mono',consolas,'Courier New',monospace\"><span style=\"color: #008000; text-decoration-color: #008000\">09:07:02</span> | ℹ️ <span style=\"font-weight: bold\">Change read to @overload</span>\n",
       "</pre>\n"
      ],
      "text/plain": [
       "\u001b[32m09:07:02\u001b[0m | ℹ️ \u001b[1mChange read to @overload\u001b[0m\n"
      ]
     },
     "metadata": {},
     "output_type": "display_data"
    },
    {
     "data": {
      "text/html": [
       "<pre style=\"white-space:pre;overflow-x:auto;line-height:normal;font-family:Menlo,'DejaVu Sans Mono',consolas,'Courier New',monospace\"><span style=\"color: #008000; text-decoration-color: #008000\">09:07:02</span> | ℹ️ <span style=\"font-weight: bold\">Change readinto to @overload</span>\n",
       "</pre>\n"
      ],
      "text/plain": [
       "\u001b[32m09:07:02\u001b[0m | ℹ️ \u001b[1mChange readinto to @overload\u001b[0m\n"
      ]
     },
     "metadata": {},
     "output_type": "display_data"
    },
    {
     "data": {
      "text/html": [
       "<pre style=\"white-space:pre;overflow-x:auto;line-height:normal;font-family:Menlo,'DejaVu Sans Mono',consolas,'Courier New',monospace\"><span style=\"color: #008000; text-decoration-color: #008000\">09:07:02</span> | ℹ️ <span style=\"font-weight: bold\">Merge repos\\micropython-stubs\\stubs\\micropython-v1_23_0-docstubs\\pyb\\USB_HID.pyi from </span>\n",
       "<span style=\"font-weight: bold\">repos\\gobotTypeshed\\micropython_typesheds\\pyb.pyi</span>\n",
       "</pre>\n"
      ],
      "text/plain": [
       "\u001b[32m09:07:02\u001b[0m | ℹ️ \u001b[1mMerge repos\\micropython-stubs\\stubs\\micropython-v1_23_0-docstubs\\pyb\\USB_HID.pyi from \u001b[0m\n",
       "\u001b[1mrepos\\gobotTypeshed\\micropython_typesheds\\pyb.pyi\u001b[0m\n"
      ]
     },
     "metadata": {},
     "output_type": "display_data"
    },
    {
     "data": {
      "text/html": [
       "<pre style=\"white-space:pre;overflow-x:auto;line-height:normal;font-family:Menlo,'DejaVu Sans Mono',consolas,'Courier New',monospace\"><span style=\"color: #008000; text-decoration-color: #008000\">09:07:02</span> | ℹ️ <span style=\"font-weight: bold\">Change recv to @overload</span>\n",
       "</pre>\n"
      ],
      "text/plain": [
       "\u001b[32m09:07:02\u001b[0m | ℹ️ \u001b[1mChange recv to @overload\u001b[0m\n"
      ]
     },
     "metadata": {},
     "output_type": "display_data"
    },
    {
     "data": {
      "text/html": [
       "<pre style=\"white-space:pre;overflow-x:auto;line-height:normal;font-family:Menlo,'DejaVu Sans Mono',consolas,'Courier New',monospace\"><span style=\"color: #008000; text-decoration-color: #008000\">09:07:03</span> | ℹ️ <span style=\"font-weight: bold\">Merge repos\\micropython-stubs\\stubs\\micropython-v1_23_0-docstubs\\pyb\\USB_VCP.pyi from </span>\n",
       "<span style=\"font-weight: bold\">repos\\gobotTypeshed\\micropython_typesheds\\pyb.pyi</span>\n",
       "</pre>\n"
      ],
      "text/plain": [
       "\u001b[32m09:07:03\u001b[0m | ℹ️ \u001b[1mMerge repos\\micropython-stubs\\stubs\\micropython-v1_23_0-docstubs\\pyb\\USB_VCP.pyi from \u001b[0m\n",
       "\u001b[1mrepos\\gobotTypeshed\\micropython_typesheds\\pyb.pyi\u001b[0m\n"
      ]
     },
     "metadata": {},
     "output_type": "display_data"
    },
    {
     "data": {
      "text/html": [
       "<pre style=\"white-space:pre;overflow-x:auto;line-height:normal;font-family:Menlo,'DejaVu Sans Mono',consolas,'Courier New',monospace\"><span style=\"color: #008000; text-decoration-color: #008000\">09:07:03</span> | ℹ️ <span style=\"font-weight: bold\">Change read to @overload</span>\n",
       "</pre>\n"
      ],
      "text/plain": [
       "\u001b[32m09:07:03\u001b[0m | ℹ️ \u001b[1mChange read to @overload\u001b[0m\n"
      ]
     },
     "metadata": {},
     "output_type": "display_data"
    },
    {
     "data": {
      "text/html": [
       "<pre style=\"white-space:pre;overflow-x:auto;line-height:normal;font-family:Menlo,'DejaVu Sans Mono',consolas,'Courier New',monospace\"><span style=\"color: #008000; text-decoration-color: #008000\">09:07:03</span> | ℹ️ <span style=\"font-weight: bold\">Change readinto to @overload</span>\n",
       "</pre>\n"
      ],
      "text/plain": [
       "\u001b[32m09:07:03\u001b[0m | ℹ️ \u001b[1mChange readinto to @overload\u001b[0m\n"
      ]
     },
     "metadata": {},
     "output_type": "display_data"
    },
    {
     "data": {
      "text/html": [
       "<pre style=\"white-space:pre;overflow-x:auto;line-height:normal;font-family:Menlo,'DejaVu Sans Mono',consolas,'Courier New',monospace\"><span style=\"color: #008000; text-decoration-color: #008000\">09:07:03</span> | ℹ️ <span style=\"font-weight: bold\">Change recv to @overload</span>\n",
       "</pre>\n"
      ],
      "text/plain": [
       "\u001b[32m09:07:03\u001b[0m | ℹ️ \u001b[1mChange recv to @overload\u001b[0m\n"
      ]
     },
     "metadata": {},
     "output_type": "display_data"
    },
    {
     "data": {
      "text/html": [
       "<pre style=\"white-space:pre;overflow-x:auto;line-height:normal;font-family:Menlo,'DejaVu Sans Mono',consolas,'Courier New',monospace\"><span style=\"color: #008000; text-decoration-color: #008000\">09:07:03</span> | ℹ️ <span style=\"font-weight: bold\">Merge repos\\micropython-stubs\\stubs\\micropython-v1_23_0-docstubs\\random\\__init__.pyi from </span>\n",
       "<span style=\"font-weight: bold\">repos\\gobotTypeshed\\micropython_typesheds\\random.pyi</span>\n",
       "</pre>\n"
      ],
      "text/plain": [
       "\u001b[32m09:07:03\u001b[0m | ℹ️ \u001b[1mMerge repos\\micropython-stubs\\stubs\\micropython-v1_23_0-docstubs\\random\\__init__.pyi from \u001b[0m\n",
       "\u001b[1mrepos\\gobotTypeshed\\micropython_typesheds\\random.pyi\u001b[0m\n"
      ]
     },
     "metadata": {},
     "output_type": "display_data"
    },
    {
     "data": {
      "text/html": [
       "<pre style=\"white-space:pre;overflow-x:auto;line-height:normal;font-family:Menlo,'DejaVu Sans Mono',consolas,'Courier New',monospace\"><span style=\"color: #008000; text-decoration-color: #008000\">09:07:03</span> | ℹ️ <span style=\"font-weight: bold\">Change randrange to @overload</span>\n",
       "</pre>\n"
      ],
      "text/plain": [
       "\u001b[32m09:07:03\u001b[0m | ℹ️ \u001b[1mChange randrange to @overload\u001b[0m\n"
      ]
     },
     "metadata": {},
     "output_type": "display_data"
    },
    {
     "data": {
      "text/html": [
       "<pre style=\"white-space:pre;overflow-x:auto;line-height:normal;font-family:Menlo,'DejaVu Sans Mono',consolas,'Courier New',monospace\"><span style=\"color: #008000; text-decoration-color: #008000\">09:07:03</span> | ℹ️ <span style=\"font-weight: bold\">Merge repos\\micropython-stubs\\stubs\\micropython-v1_23_0-docstubs\\select\\__init__.pyi from </span>\n",
       "<span style=\"font-weight: bold\">repos\\gobotTypeshed\\micropython_typesheds\\select.pyi</span>\n",
       "</pre>\n"
      ],
      "text/plain": [
       "\u001b[32m09:07:03\u001b[0m | ℹ️ \u001b[1mMerge repos\\micropython-stubs\\stubs\\micropython-v1_23_0-docstubs\\select\\__init__.pyi from \u001b[0m\n",
       "\u001b[1mrepos\\gobotTypeshed\\micropython_typesheds\\select.pyi\u001b[0m\n"
      ]
     },
     "metadata": {},
     "output_type": "display_data"
    },
    {
     "data": {
      "text/html": [
       "<pre style=\"white-space:pre;overflow-x:auto;line-height:normal;font-family:Menlo,'DejaVu Sans Mono',consolas,'Courier New',monospace\"><span style=\"color: #008000; text-decoration-color: #008000\">09:07:03</span> | ℹ️ <span style=\"font-weight: bold\">Merge repos\\micropython-stubs\\stubs\\micropython-v1_23_0-docstubs\\select\\__init__.pyi from </span>\n",
       "<span style=\"font-weight: bold\">repos\\gobotTypeshed\\micropython_typesheds\\uselect.pyi</span>\n",
       "</pre>\n"
      ],
      "text/plain": [
       "\u001b[32m09:07:03\u001b[0m | ℹ️ \u001b[1mMerge repos\\micropython-stubs\\stubs\\micropython-v1_23_0-docstubs\\select\\__init__.pyi from \u001b[0m\n",
       "\u001b[1mrepos\\gobotTypeshed\\micropython_typesheds\\uselect.pyi\u001b[0m\n"
      ]
     },
     "metadata": {},
     "output_type": "display_data"
    },
    {
     "data": {
      "text/html": [
       "<pre style=\"white-space:pre;overflow-x:auto;line-height:normal;font-family:Menlo,'DejaVu Sans Mono',consolas,'Courier New',monospace\"><span style=\"color: #008000; text-decoration-color: #008000\">09:07:03</span> | ℹ️ <span style=\"font-weight: bold\">Merge repos\\micropython-stubs\\stubs\\micropython-v1_23_0-docstubs\\socket\\__init__.pyi from </span>\n",
       "<span style=\"font-weight: bold\">repos\\gobotTypeshed\\micropython_typesheds\\socket.pyi</span>\n",
       "</pre>\n"
      ],
      "text/plain": [
       "\u001b[32m09:07:03\u001b[0m | ℹ️ \u001b[1mMerge repos\\micropython-stubs\\stubs\\micropython-v1_23_0-docstubs\\socket\\__init__.pyi from \u001b[0m\n",
       "\u001b[1mrepos\\gobotTypeshed\\micropython_typesheds\\socket.pyi\u001b[0m\n"
      ]
     },
     "metadata": {},
     "output_type": "display_data"
    },
    {
     "data": {
      "text/html": [
       "<pre style=\"white-space:pre;overflow-x:auto;line-height:normal;font-family:Menlo,'DejaVu Sans Mono',consolas,'Courier New',monospace\"><span style=\"color: #008000; text-decoration-color: #008000\">09:07:03</span> | ℹ️ <span style=\"font-weight: bold\">Merge repos\\micropython-stubs\\stubs\\micropython-v1_23_0-docstubs\\socket\\__init__.pyi from </span>\n",
       "<span style=\"font-weight: bold\">repos\\gobotTypeshed\\micropython_typesheds\\usocket.pyi</span>\n",
       "</pre>\n"
      ],
      "text/plain": [
       "\u001b[32m09:07:03\u001b[0m | ℹ️ \u001b[1mMerge repos\\micropython-stubs\\stubs\\micropython-v1_23_0-docstubs\\socket\\__init__.pyi from \u001b[0m\n",
       "\u001b[1mrepos\\gobotTypeshed\\micropython_typesheds\\usocket.pyi\u001b[0m\n"
      ]
     },
     "metadata": {},
     "output_type": "display_data"
    },
    {
     "data": {
      "text/html": [
       "<pre style=\"white-space:pre;overflow-x:auto;line-height:normal;font-family:Menlo,'DejaVu Sans Mono',consolas,'Courier New',monospace\"><span style=\"color: #008000; text-decoration-color: #008000\">09:07:04</span> | ℹ️ <span style=\"font-weight: bold\">Merge repos\\micropython-stubs\\stubs\\micropython-v1_23_0-docstubs\\ssl\\__init__.pyi from </span>\n",
       "<span style=\"font-weight: bold\">repos\\gobotTypeshed\\micropython_typesheds\\ssl.pyi</span>\n",
       "</pre>\n"
      ],
      "text/plain": [
       "\u001b[32m09:07:04\u001b[0m | ℹ️ \u001b[1mMerge repos\\micropython-stubs\\stubs\\micropython-v1_23_0-docstubs\\ssl\\__init__.pyi from \u001b[0m\n",
       "\u001b[1mrepos\\gobotTypeshed\\micropython_typesheds\\ssl.pyi\u001b[0m\n"
      ]
     },
     "metadata": {},
     "output_type": "display_data"
    },
    {
     "data": {
      "text/html": [
       "<pre style=\"white-space:pre;overflow-x:auto;line-height:normal;font-family:Menlo,'DejaVu Sans Mono',consolas,'Courier New',monospace\"><span style=\"color: #008000; text-decoration-color: #008000\">09:07:04</span> | ℹ️ <span style=\"font-weight: bold\">Merge repos\\micropython-stubs\\stubs\\micropython-v1_23_0-docstubs\\ssl\\__init__.pyi from </span>\n",
       "<span style=\"font-weight: bold\">repos\\gobotTypeshed\\micropython_typesheds\\ussl.pyi</span>\n",
       "</pre>\n"
      ],
      "text/plain": [
       "\u001b[32m09:07:04\u001b[0m | ℹ️ \u001b[1mMerge repos\\micropython-stubs\\stubs\\micropython-v1_23_0-docstubs\\ssl\\__init__.pyi from \u001b[0m\n",
       "\u001b[1mrepos\\gobotTypeshed\\micropython_typesheds\\ussl.pyi\u001b[0m\n"
      ]
     },
     "metadata": {},
     "output_type": "display_data"
    },
    {
     "data": {
      "text/html": [
       "<pre style=\"white-space:pre;overflow-x:auto;line-height:normal;font-family:Menlo,'DejaVu Sans Mono',consolas,'Courier New',monospace\"><span style=\"color: #008000; text-decoration-color: #008000\">09:07:04</span> | ℹ️ <span style=\"font-weight: bold\">Merge repos\\micropython-stubs\\stubs\\micropython-v1_23_0-docstubs\\stm\\__init__.pyi from </span>\n",
       "<span style=\"font-weight: bold\">repos\\gobotTypeshed\\micropython_typesheds\\stm.pyi</span>\n",
       "</pre>\n"
      ],
      "text/plain": [
       "\u001b[32m09:07:04\u001b[0m | ℹ️ \u001b[1mMerge repos\\micropython-stubs\\stubs\\micropython-v1_23_0-docstubs\\stm\\__init__.pyi from \u001b[0m\n",
       "\u001b[1mrepos\\gobotTypeshed\\micropython_typesheds\\stm.pyi\u001b[0m\n"
      ]
     },
     "metadata": {},
     "output_type": "display_data"
    },
    {
     "data": {
      "text/html": [
       "<pre style=\"white-space:pre;overflow-x:auto;line-height:normal;font-family:Menlo,'DejaVu Sans Mono',consolas,'Courier New',monospace\"><span style=\"color: #008000; text-decoration-color: #008000\">09:07:04</span> | ℹ️ <span style=\"font-weight: bold\">Merge repos\\micropython-stubs\\stubs\\micropython-v1_23_0-docstubs\\struct\\__init__.pyi from </span>\n",
       "<span style=\"font-weight: bold\">repos\\gobotTypeshed\\micropython_typesheds\\struct.pyi</span>\n",
       "</pre>\n"
      ],
      "text/plain": [
       "\u001b[32m09:07:04\u001b[0m | ℹ️ \u001b[1mMerge repos\\micropython-stubs\\stubs\\micropython-v1_23_0-docstubs\\struct\\__init__.pyi from \u001b[0m\n",
       "\u001b[1mrepos\\gobotTypeshed\\micropython_typesheds\\struct.pyi\u001b[0m\n"
      ]
     },
     "metadata": {},
     "output_type": "display_data"
    },
    {
     "data": {
      "text/html": [
       "<pre style=\"white-space:pre;overflow-x:auto;line-height:normal;font-family:Menlo,'DejaVu Sans Mono',consolas,'Courier New',monospace\"><span style=\"color: #008000; text-decoration-color: #008000\">09:07:04</span> | ℹ️ <span style=\"font-weight: bold\">Merge repos\\micropython-stubs\\stubs\\micropython-v1_23_0-docstubs\\struct\\__init__.pyi from </span>\n",
       "<span style=\"font-weight: bold\">repos\\gobotTypeshed\\micropython_typesheds\\ustruct.pyi</span>\n",
       "</pre>\n"
      ],
      "text/plain": [
       "\u001b[32m09:07:04\u001b[0m | ℹ️ \u001b[1mMerge repos\\micropython-stubs\\stubs\\micropython-v1_23_0-docstubs\\struct\\__init__.pyi from \u001b[0m\n",
       "\u001b[1mrepos\\gobotTypeshed\\micropython_typesheds\\ustruct.pyi\u001b[0m\n"
      ]
     },
     "metadata": {},
     "output_type": "display_data"
    },
    {
     "data": {
      "text/html": [
       "<pre style=\"white-space:pre;overflow-x:auto;line-height:normal;font-family:Menlo,'DejaVu Sans Mono',consolas,'Courier New',monospace\"><span style=\"color: #008000; text-decoration-color: #008000\">09:07:04</span> | ℹ️ <span style=\"font-weight: bold\">Merge repos\\micropython-stubs\\stubs\\micropython-v1_23_0-docstubs\\sys\\__init__.pyi from </span>\n",
       "<span style=\"font-weight: bold\">repos\\gobotTypeshed\\micropython_typesheds\\sys.pyi</span>\n",
       "</pre>\n"
      ],
      "text/plain": [
       "\u001b[32m09:07:04\u001b[0m | ℹ️ \u001b[1mMerge repos\\micropython-stubs\\stubs\\micropython-v1_23_0-docstubs\\sys\\__init__.pyi from \u001b[0m\n",
       "\u001b[1mrepos\\gobotTypeshed\\micropython_typesheds\\sys.pyi\u001b[0m\n"
      ]
     },
     "metadata": {},
     "output_type": "display_data"
    },
    {
     "data": {
      "text/html": [
       "<pre style=\"white-space:pre;overflow-x:auto;line-height:normal;font-family:Menlo,'DejaVu Sans Mono',consolas,'Courier New',monospace\"><span style=\"color: #008000; text-decoration-color: #008000\">09:07:04</span> | ℹ️ <span style=\"font-weight: bold\">Merge repos\\micropython-stubs\\stubs\\micropython-v1_23_0-docstubs\\sys\\__init__.pyi from </span>\n",
       "<span style=\"font-weight: bold\">repos\\gobotTypeshed\\micropython_typesheds\\usys.pyi</span>\n",
       "</pre>\n"
      ],
      "text/plain": [
       "\u001b[32m09:07:04\u001b[0m | ℹ️ \u001b[1mMerge repos\\micropython-stubs\\stubs\\micropython-v1_23_0-docstubs\\sys\\__init__.pyi from \u001b[0m\n",
       "\u001b[1mrepos\\gobotTypeshed\\micropython_typesheds\\usys.pyi\u001b[0m\n"
      ]
     },
     "metadata": {},
     "output_type": "display_data"
    },
    {
     "data": {
      "text/html": [
       "<pre style=\"white-space:pre;overflow-x:auto;line-height:normal;font-family:Menlo,'DejaVu Sans Mono',consolas,'Courier New',monospace\"><span style=\"color: #008000; text-decoration-color: #008000\">09:07:05</span> | ℹ️ <span style=\"font-weight: bold\">Merge repos\\micropython-stubs\\stubs\\micropython-v1_23_0-docstubs\\time\\__init__.pyi from </span>\n",
       "<span style=\"font-weight: bold\">repos\\gobotTypeshed\\micropython_typesheds\\time.pyi</span>\n",
       "</pre>\n"
      ],
      "text/plain": [
       "\u001b[32m09:07:05\u001b[0m | ℹ️ \u001b[1mMerge repos\\micropython-stubs\\stubs\\micropython-v1_23_0-docstubs\\time\\__init__.pyi from \u001b[0m\n",
       "\u001b[1mrepos\\gobotTypeshed\\micropython_typesheds\\time.pyi\u001b[0m\n"
      ]
     },
     "metadata": {},
     "output_type": "display_data"
    },
    {
     "data": {
      "text/html": [
       "<pre style=\"white-space:pre;overflow-x:auto;line-height:normal;font-family:Menlo,'DejaVu Sans Mono',consolas,'Courier New',monospace\"><span style=\"color: #008000; text-decoration-color: #008000\">09:07:05</span> | ℹ️ <span style=\"font-weight: bold\">Merge repos\\micropython-stubs\\stubs\\micropython-v1_23_0-docstubs\\time\\__init__.pyi from </span>\n",
       "<span style=\"font-weight: bold\">repos\\gobotTypeshed\\micropython_typesheds\\utime.pyi</span>\n",
       "</pre>\n"
      ],
      "text/plain": [
       "\u001b[32m09:07:05\u001b[0m | ℹ️ \u001b[1mMerge repos\\micropython-stubs\\stubs\\micropython-v1_23_0-docstubs\\time\\__init__.pyi from \u001b[0m\n",
       "\u001b[1mrepos\\gobotTypeshed\\micropython_typesheds\\utime.pyi\u001b[0m\n"
      ]
     },
     "metadata": {},
     "output_type": "display_data"
    },
    {
     "data": {
      "text/html": [
       "<pre style=\"white-space:pre;overflow-x:auto;line-height:normal;font-family:Menlo,'DejaVu Sans Mono',consolas,'Courier New',monospace\"><span style=\"color: #008000; text-decoration-color: #008000\">09:07:05</span> | ℹ️ <span style=\"font-weight: bold\">Merge repos\\micropython-stubs\\stubs\\micropython-v1_23_0-docstubs\\uarray.pyi from </span>\n",
       "<span style=\"font-weight: bold\">repos\\gobotTypeshed\\micropython_typesheds\\array.pyi</span>\n",
       "</pre>\n"
      ],
      "text/plain": [
       "\u001b[32m09:07:05\u001b[0m | ℹ️ \u001b[1mMerge repos\\micropython-stubs\\stubs\\micropython-v1_23_0-docstubs\\uarray.pyi from \u001b[0m\n",
       "\u001b[1mrepos\\gobotTypeshed\\micropython_typesheds\\array.pyi\u001b[0m\n"
      ]
     },
     "metadata": {},
     "output_type": "display_data"
    },
    {
     "data": {
      "text/html": [
       "<pre style=\"white-space:pre;overflow-x:auto;line-height:normal;font-family:Menlo,'DejaVu Sans Mono',consolas,'Courier New',monospace\"><span style=\"color: #008000; text-decoration-color: #008000\">09:07:05</span> | ℹ️ <span style=\"font-weight: bold\">Merge repos\\micropython-stubs\\stubs\\micropython-v1_23_0-docstubs\\uarray.pyi from </span>\n",
       "<span style=\"font-weight: bold\">repos\\gobotTypeshed\\micropython_typesheds\\uarray.pyi</span>\n",
       "</pre>\n"
      ],
      "text/plain": [
       "\u001b[32m09:07:05\u001b[0m | ℹ️ \u001b[1mMerge repos\\micropython-stubs\\stubs\\micropython-v1_23_0-docstubs\\uarray.pyi from \u001b[0m\n",
       "\u001b[1mrepos\\gobotTypeshed\\micropython_typesheds\\uarray.pyi\u001b[0m\n"
      ]
     },
     "metadata": {},
     "output_type": "display_data"
    },
    {
     "data": {
      "text/html": [
       "<pre style=\"white-space:pre;overflow-x:auto;line-height:normal;font-family:Menlo,'DejaVu Sans Mono',consolas,'Courier New',monospace\"><span style=\"color: #008000; text-decoration-color: #008000\">09:07:05</span> | ℹ️ <span style=\"font-weight: bold\">Merge repos\\micropython-stubs\\stubs\\micropython-v1_23_0-docstubs\\ubinascii.pyi from </span>\n",
       "<span style=\"font-weight: bold\">repos\\gobotTypeshed\\micropython_typesheds\\binascii.pyi</span>\n",
       "</pre>\n"
      ],
      "text/plain": [
       "\u001b[32m09:07:05\u001b[0m | ℹ️ \u001b[1mMerge repos\\micropython-stubs\\stubs\\micropython-v1_23_0-docstubs\\ubinascii.pyi from \u001b[0m\n",
       "\u001b[1mrepos\\gobotTypeshed\\micropython_typesheds\\binascii.pyi\u001b[0m\n"
      ]
     },
     "metadata": {},
     "output_type": "display_data"
    },
    {
     "data": {
      "text/html": [
       "<pre style=\"white-space:pre;overflow-x:auto;line-height:normal;font-family:Menlo,'DejaVu Sans Mono',consolas,'Courier New',monospace\"><span style=\"color: #008000; text-decoration-color: #008000\">09:07:05</span> | ℹ️ <span style=\"font-weight: bold\">Merge repos\\micropython-stubs\\stubs\\micropython-v1_23_0-docstubs\\ubinascii.pyi from </span>\n",
       "<span style=\"font-weight: bold\">repos\\gobotTypeshed\\micropython_typesheds\\ubinascii.pyi</span>\n",
       "</pre>\n"
      ],
      "text/plain": [
       "\u001b[32m09:07:05\u001b[0m | ℹ️ \u001b[1mMerge repos\\micropython-stubs\\stubs\\micropython-v1_23_0-docstubs\\ubinascii.pyi from \u001b[0m\n",
       "\u001b[1mrepos\\gobotTypeshed\\micropython_typesheds\\ubinascii.pyi\u001b[0m\n"
      ]
     },
     "metadata": {},
     "output_type": "display_data"
    },
    {
     "data": {
      "text/html": [
       "<pre style=\"white-space:pre;overflow-x:auto;line-height:normal;font-family:Menlo,'DejaVu Sans Mono',consolas,'Courier New',monospace\"><span style=\"color: #008000; text-decoration-color: #008000\">09:07:05</span> | ℹ️ <span style=\"font-weight: bold\">Merge repos\\micropython-stubs\\stubs\\micropython-v1_23_0-docstubs\\uctypes\\__init__.pyi from </span>\n",
       "<span style=\"font-weight: bold\">repos\\gobotTypeshed\\micropython_typesheds\\uctypes.pyi</span>\n",
       "</pre>\n"
      ],
      "text/plain": [
       "\u001b[32m09:07:05\u001b[0m | ℹ️ \u001b[1mMerge repos\\micropython-stubs\\stubs\\micropython-v1_23_0-docstubs\\uctypes\\__init__.pyi from \u001b[0m\n",
       "\u001b[1mrepos\\gobotTypeshed\\micropython_typesheds\\uctypes.pyi\u001b[0m\n"
      ]
     },
     "metadata": {},
     "output_type": "display_data"
    },
    {
     "data": {
      "text/html": [
       "<pre style=\"white-space:pre;overflow-x:auto;line-height:normal;font-family:Menlo,'DejaVu Sans Mono',consolas,'Courier New',monospace\"><span style=\"color: #008000; text-decoration-color: #008000\">09:07:05</span> | ℹ️ <span style=\"font-weight: bold\">Merge repos\\micropython-stubs\\stubs\\micropython-v1_23_0-docstubs\\uio.pyi from </span>\n",
       "<span style=\"font-weight: bold\">repos\\gobotTypeshed\\micropython_typesheds\\io.pyi</span>\n",
       "</pre>\n"
      ],
      "text/plain": [
       "\u001b[32m09:07:05\u001b[0m | ℹ️ \u001b[1mMerge repos\\micropython-stubs\\stubs\\micropython-v1_23_0-docstubs\\uio.pyi from \u001b[0m\n",
       "\u001b[1mrepos\\gobotTypeshed\\micropython_typesheds\\io.pyi\u001b[0m\n"
      ]
     },
     "metadata": {},
     "output_type": "display_data"
    },
    {
     "data": {
      "text/html": [
       "<pre style=\"white-space:pre;overflow-x:auto;line-height:normal;font-family:Menlo,'DejaVu Sans Mono',consolas,'Courier New',monospace\"><span style=\"color: #008000; text-decoration-color: #008000\">09:07:05</span> | ℹ️ <span style=\"font-weight: bold\">Merge repos\\micropython-stubs\\stubs\\micropython-v1_23_0-docstubs\\uio.pyi from </span>\n",
       "<span style=\"font-weight: bold\">repos\\gobotTypeshed\\micropython_typesheds\\uio.pyi</span>\n",
       "</pre>\n"
      ],
      "text/plain": [
       "\u001b[32m09:07:05\u001b[0m | ℹ️ \u001b[1mMerge repos\\micropython-stubs\\stubs\\micropython-v1_23_0-docstubs\\uio.pyi from \u001b[0m\n",
       "\u001b[1mrepos\\gobotTypeshed\\micropython_typesheds\\uio.pyi\u001b[0m\n"
      ]
     },
     "metadata": {},
     "output_type": "display_data"
    },
    {
     "data": {
      "text/html": [
       "<pre style=\"white-space:pre;overflow-x:auto;line-height:normal;font-family:Menlo,'DejaVu Sans Mono',consolas,'Courier New',monospace\"><span style=\"color: #008000; text-decoration-color: #008000\">09:07:05</span> | ℹ️ <span style=\"font-weight: bold\">Merge repos\\micropython-stubs\\stubs\\micropython-v1_23_0-docstubs\\ujson.pyi from </span>\n",
       "<span style=\"font-weight: bold\">repos\\gobotTypeshed\\micropython_typesheds\\json.pyi</span>\n",
       "</pre>\n"
      ],
      "text/plain": [
       "\u001b[32m09:07:05\u001b[0m | ℹ️ \u001b[1mMerge repos\\micropython-stubs\\stubs\\micropython-v1_23_0-docstubs\\ujson.pyi from \u001b[0m\n",
       "\u001b[1mrepos\\gobotTypeshed\\micropython_typesheds\\json.pyi\u001b[0m\n"
      ]
     },
     "metadata": {},
     "output_type": "display_data"
    },
    {
     "data": {
      "text/html": [
       "<pre style=\"white-space:pre;overflow-x:auto;line-height:normal;font-family:Menlo,'DejaVu Sans Mono',consolas,'Courier New',monospace\"><span style=\"color: #008000; text-decoration-color: #008000\">09:07:05</span> | ℹ️ <span style=\"font-weight: bold\">Merge repos\\micropython-stubs\\stubs\\micropython-v1_23_0-docstubs\\ujson.pyi from </span>\n",
       "<span style=\"font-weight: bold\">repos\\gobotTypeshed\\micropython_typesheds\\ujson.pyi</span>\n",
       "</pre>\n"
      ],
      "text/plain": [
       "\u001b[32m09:07:05\u001b[0m | ℹ️ \u001b[1mMerge repos\\micropython-stubs\\stubs\\micropython-v1_23_0-docstubs\\ujson.pyi from \u001b[0m\n",
       "\u001b[1mrepos\\gobotTypeshed\\micropython_typesheds\\ujson.pyi\u001b[0m\n"
      ]
     },
     "metadata": {},
     "output_type": "display_data"
    },
    {
     "data": {
      "text/html": [
       "<pre style=\"white-space:pre;overflow-x:auto;line-height:normal;font-family:Menlo,'DejaVu Sans Mono',consolas,'Courier New',monospace\"><span style=\"color: #008000; text-decoration-color: #008000\">09:07:05</span> | ℹ️ <span style=\"font-weight: bold\">Merge repos\\micropython-stubs\\stubs\\micropython-v1_23_0-docstubs\\uos.pyi from </span>\n",
       "<span style=\"font-weight: bold\">repos\\gobotTypeshed\\micropython_typesheds\\os.pyi</span>\n",
       "</pre>\n"
      ],
      "text/plain": [
       "\u001b[32m09:07:05\u001b[0m | ℹ️ \u001b[1mMerge repos\\micropython-stubs\\stubs\\micropython-v1_23_0-docstubs\\uos.pyi from \u001b[0m\n",
       "\u001b[1mrepos\\gobotTypeshed\\micropython_typesheds\\os.pyi\u001b[0m\n"
      ]
     },
     "metadata": {},
     "output_type": "display_data"
    },
    {
     "data": {
      "text/html": [
       "<pre style=\"white-space:pre;overflow-x:auto;line-height:normal;font-family:Menlo,'DejaVu Sans Mono',consolas,'Courier New',monospace\"><span style=\"color: #008000; text-decoration-color: #008000\">09:07:05</span> | ℹ️ <span style=\"font-weight: bold\">Merge repos\\micropython-stubs\\stubs\\micropython-v1_23_0-docstubs\\uos.pyi from </span>\n",
       "<span style=\"font-weight: bold\">repos\\gobotTypeshed\\micropython_typesheds\\uos.pyi</span>\n",
       "</pre>\n"
      ],
      "text/plain": [
       "\u001b[32m09:07:05\u001b[0m | ℹ️ \u001b[1mMerge repos\\micropython-stubs\\stubs\\micropython-v1_23_0-docstubs\\uos.pyi from \u001b[0m\n",
       "\u001b[1mrepos\\gobotTypeshed\\micropython_typesheds\\uos.pyi\u001b[0m\n"
      ]
     },
     "metadata": {},
     "output_type": "display_data"
    },
    {
     "data": {
      "text/html": [
       "<pre style=\"white-space:pre;overflow-x:auto;line-height:normal;font-family:Menlo,'DejaVu Sans Mono',consolas,'Courier New',monospace\"><span style=\"color: #008000; text-decoration-color: #008000\">09:07:05</span> | ℹ️ <span style=\"font-weight: bold\">Merge repos\\micropython-stubs\\stubs\\micropython-v1_23_0-docstubs\\uselect.pyi from </span>\n",
       "<span style=\"font-weight: bold\">repos\\gobotTypeshed\\micropython_typesheds\\select.pyi</span>\n",
       "</pre>\n"
      ],
      "text/plain": [
       "\u001b[32m09:07:05\u001b[0m | ℹ️ \u001b[1mMerge repos\\micropython-stubs\\stubs\\micropython-v1_23_0-docstubs\\uselect.pyi from \u001b[0m\n",
       "\u001b[1mrepos\\gobotTypeshed\\micropython_typesheds\\select.pyi\u001b[0m\n"
      ]
     },
     "metadata": {},
     "output_type": "display_data"
    },
    {
     "data": {
      "text/html": [
       "<pre style=\"white-space:pre;overflow-x:auto;line-height:normal;font-family:Menlo,'DejaVu Sans Mono',consolas,'Courier New',monospace\"><span style=\"color: #008000; text-decoration-color: #008000\">09:07:05</span> | ℹ️ <span style=\"font-weight: bold\">Merge repos\\micropython-stubs\\stubs\\micropython-v1_23_0-docstubs\\uselect.pyi from </span>\n",
       "<span style=\"font-weight: bold\">repos\\gobotTypeshed\\micropython_typesheds\\uselect.pyi</span>\n",
       "</pre>\n"
      ],
      "text/plain": [
       "\u001b[32m09:07:05\u001b[0m | ℹ️ \u001b[1mMerge repos\\micropython-stubs\\stubs\\micropython-v1_23_0-docstubs\\uselect.pyi from \u001b[0m\n",
       "\u001b[1mrepos\\gobotTypeshed\\micropython_typesheds\\uselect.pyi\u001b[0m\n"
      ]
     },
     "metadata": {},
     "output_type": "display_data"
    },
    {
     "data": {
      "text/html": [
       "<pre style=\"white-space:pre;overflow-x:auto;line-height:normal;font-family:Menlo,'DejaVu Sans Mono',consolas,'Courier New',monospace\"><span style=\"color: #008000; text-decoration-color: #008000\">09:07:05</span> | ℹ️ <span style=\"font-weight: bold\">Merge repos\\micropython-stubs\\stubs\\micropython-v1_23_0-docstubs\\usocket.pyi from </span>\n",
       "<span style=\"font-weight: bold\">repos\\gobotTypeshed\\micropython_typesheds\\socket.pyi</span>\n",
       "</pre>\n"
      ],
      "text/plain": [
       "\u001b[32m09:07:05\u001b[0m | ℹ️ \u001b[1mMerge repos\\micropython-stubs\\stubs\\micropython-v1_23_0-docstubs\\usocket.pyi from \u001b[0m\n",
       "\u001b[1mrepos\\gobotTypeshed\\micropython_typesheds\\socket.pyi\u001b[0m\n"
      ]
     },
     "metadata": {},
     "output_type": "display_data"
    },
    {
     "data": {
      "text/html": [
       "<pre style=\"white-space:pre;overflow-x:auto;line-height:normal;font-family:Menlo,'DejaVu Sans Mono',consolas,'Courier New',monospace\"><span style=\"color: #008000; text-decoration-color: #008000\">09:07:06</span> | ℹ️ <span style=\"font-weight: bold\">Merge repos\\micropython-stubs\\stubs\\micropython-v1_23_0-docstubs\\usocket.pyi from </span>\n",
       "<span style=\"font-weight: bold\">repos\\gobotTypeshed\\micropython_typesheds\\usocket.pyi</span>\n",
       "</pre>\n"
      ],
      "text/plain": [
       "\u001b[32m09:07:06\u001b[0m | ℹ️ \u001b[1mMerge repos\\micropython-stubs\\stubs\\micropython-v1_23_0-docstubs\\usocket.pyi from \u001b[0m\n",
       "\u001b[1mrepos\\gobotTypeshed\\micropython_typesheds\\usocket.pyi\u001b[0m\n"
      ]
     },
     "metadata": {},
     "output_type": "display_data"
    },
    {
     "data": {
      "text/html": [
       "<pre style=\"white-space:pre;overflow-x:auto;line-height:normal;font-family:Menlo,'DejaVu Sans Mono',consolas,'Courier New',monospace\"><span style=\"color: #008000; text-decoration-color: #008000\">09:07:06</span> | ℹ️ <span style=\"font-weight: bold\">Merge repos\\micropython-stubs\\stubs\\micropython-v1_23_0-docstubs\\ussl.pyi from </span>\n",
       "<span style=\"font-weight: bold\">repos\\gobotTypeshed\\micropython_typesheds\\ssl.pyi</span>\n",
       "</pre>\n"
      ],
      "text/plain": [
       "\u001b[32m09:07:06\u001b[0m | ℹ️ \u001b[1mMerge repos\\micropython-stubs\\stubs\\micropython-v1_23_0-docstubs\\ussl.pyi from \u001b[0m\n",
       "\u001b[1mrepos\\gobotTypeshed\\micropython_typesheds\\ssl.pyi\u001b[0m\n"
      ]
     },
     "metadata": {},
     "output_type": "display_data"
    },
    {
     "data": {
      "text/html": [
       "<pre style=\"white-space:pre;overflow-x:auto;line-height:normal;font-family:Menlo,'DejaVu Sans Mono',consolas,'Courier New',monospace\"><span style=\"color: #008000; text-decoration-color: #008000\">09:07:06</span> | ℹ️ <span style=\"font-weight: bold\">Merge repos\\micropython-stubs\\stubs\\micropython-v1_23_0-docstubs\\ussl.pyi from </span>\n",
       "<span style=\"font-weight: bold\">repos\\gobotTypeshed\\micropython_typesheds\\ussl.pyi</span>\n",
       "</pre>\n"
      ],
      "text/plain": [
       "\u001b[32m09:07:06\u001b[0m | ℹ️ \u001b[1mMerge repos\\micropython-stubs\\stubs\\micropython-v1_23_0-docstubs\\ussl.pyi from \u001b[0m\n",
       "\u001b[1mrepos\\gobotTypeshed\\micropython_typesheds\\ussl.pyi\u001b[0m\n"
      ]
     },
     "metadata": {},
     "output_type": "display_data"
    },
    {
     "data": {
      "text/html": [
       "<pre style=\"white-space:pre;overflow-x:auto;line-height:normal;font-family:Menlo,'DejaVu Sans Mono',consolas,'Courier New',monospace\"><span style=\"color: #008000; text-decoration-color: #008000\">09:07:06</span> | ℹ️ <span style=\"font-weight: bold\">Merge repos\\micropython-stubs\\stubs\\micropython-v1_23_0-docstubs\\ustruct.pyi from </span>\n",
       "<span style=\"font-weight: bold\">repos\\gobotTypeshed\\micropython_typesheds\\struct.pyi</span>\n",
       "</pre>\n"
      ],
      "text/plain": [
       "\u001b[32m09:07:06\u001b[0m | ℹ️ \u001b[1mMerge repos\\micropython-stubs\\stubs\\micropython-v1_23_0-docstubs\\ustruct.pyi from \u001b[0m\n",
       "\u001b[1mrepos\\gobotTypeshed\\micropython_typesheds\\struct.pyi\u001b[0m\n"
      ]
     },
     "metadata": {},
     "output_type": "display_data"
    },
    {
     "data": {
      "text/html": [
       "<pre style=\"white-space:pre;overflow-x:auto;line-height:normal;font-family:Menlo,'DejaVu Sans Mono',consolas,'Courier New',monospace\"><span style=\"color: #008000; text-decoration-color: #008000\">09:07:06</span> | ℹ️ <span style=\"font-weight: bold\">Merge repos\\micropython-stubs\\stubs\\micropython-v1_23_0-docstubs\\ustruct.pyi from </span>\n",
       "<span style=\"font-weight: bold\">repos\\gobotTypeshed\\micropython_typesheds\\ustruct.pyi</span>\n",
       "</pre>\n"
      ],
      "text/plain": [
       "\u001b[32m09:07:06\u001b[0m | ℹ️ \u001b[1mMerge repos\\micropython-stubs\\stubs\\micropython-v1_23_0-docstubs\\ustruct.pyi from \u001b[0m\n",
       "\u001b[1mrepos\\gobotTypeshed\\micropython_typesheds\\ustruct.pyi\u001b[0m\n"
      ]
     },
     "metadata": {},
     "output_type": "display_data"
    },
    {
     "data": {
      "text/html": [
       "<pre style=\"white-space:pre;overflow-x:auto;line-height:normal;font-family:Menlo,'DejaVu Sans Mono',consolas,'Courier New',monospace\"><span style=\"color: #008000; text-decoration-color: #008000\">09:07:06</span> | ℹ️ <span style=\"font-weight: bold\">Merge repos\\micropython-stubs\\stubs\\micropython-v1_23_0-docstubs\\utime.pyi from </span>\n",
       "<span style=\"font-weight: bold\">repos\\gobotTypeshed\\micropython_typesheds\\time.pyi</span>\n",
       "</pre>\n"
      ],
      "text/plain": [
       "\u001b[32m09:07:06\u001b[0m | ℹ️ \u001b[1mMerge repos\\micropython-stubs\\stubs\\micropython-v1_23_0-docstubs\\utime.pyi from \u001b[0m\n",
       "\u001b[1mrepos\\gobotTypeshed\\micropython_typesheds\\time.pyi\u001b[0m\n"
      ]
     },
     "metadata": {},
     "output_type": "display_data"
    },
    {
     "data": {
      "text/html": [
       "<pre style=\"white-space:pre;overflow-x:auto;line-height:normal;font-family:Menlo,'DejaVu Sans Mono',consolas,'Courier New',monospace\"><span style=\"color: #008000; text-decoration-color: #008000\">09:07:06</span> | ℹ️ <span style=\"font-weight: bold\">Merge repos\\micropython-stubs\\stubs\\micropython-v1_23_0-docstubs\\utime.pyi from </span>\n",
       "<span style=\"font-weight: bold\">repos\\gobotTypeshed\\micropython_typesheds\\utime.pyi</span>\n",
       "</pre>\n"
      ],
      "text/plain": [
       "\u001b[32m09:07:06\u001b[0m | ℹ️ \u001b[1mMerge repos\\micropython-stubs\\stubs\\micropython-v1_23_0-docstubs\\utime.pyi from \u001b[0m\n",
       "\u001b[1mrepos\\gobotTypeshed\\micropython_typesheds\\utime.pyi\u001b[0m\n"
      ]
     },
     "metadata": {},
     "output_type": "display_data"
    },
    {
     "data": {
      "text/html": [
       "<pre style=\"white-space:pre;overflow-x:auto;line-height:normal;font-family:Menlo,'DejaVu Sans Mono',consolas,'Courier New',monospace\"><span style=\"color: #008000; text-decoration-color: #008000\">09:07:06</span> | ℹ️ <span style=\"font-weight: bold\">Merge repos\\micropython-stubs\\stubs\\micropython-v1_23_0-docstubs\\uzlib.pyi from </span>\n",
       "<span style=\"font-weight: bold\">repos\\gobotTypeshed\\micropython_typesheds\\uzlib.pyi</span>\n",
       "</pre>\n"
      ],
      "text/plain": [
       "\u001b[32m09:07:06\u001b[0m | ℹ️ \u001b[1mMerge repos\\micropython-stubs\\stubs\\micropython-v1_23_0-docstubs\\uzlib.pyi from \u001b[0m\n",
       "\u001b[1mrepos\\gobotTypeshed\\micropython_typesheds\\uzlib.pyi\u001b[0m\n"
      ]
     },
     "metadata": {},
     "output_type": "display_data"
    },
    {
     "data": {
      "text/html": [
       "<pre style=\"white-space:pre;overflow-x:auto;line-height:normal;font-family:Menlo,'DejaVu Sans Mono',consolas,'Courier New',monospace\"><span style=\"color: #008000; text-decoration-color: #008000\">09:07:06</span> | ℹ️ <span style=\"font-weight: bold\">Merge repos\\micropython-stubs\\stubs\\micropython-v1_23_0-docstubs\\uzlib.pyi from </span>\n",
       "<span style=\"font-weight: bold\">repos\\gobotTypeshed\\micropython_typesheds\\zlib.pyi</span>\n",
       "</pre>\n"
      ],
      "text/plain": [
       "\u001b[32m09:07:06\u001b[0m | ℹ️ \u001b[1mMerge repos\\micropython-stubs\\stubs\\micropython-v1_23_0-docstubs\\uzlib.pyi from \u001b[0m\n",
       "\u001b[1mrepos\\gobotTypeshed\\micropython_typesheds\\zlib.pyi\u001b[0m\n"
      ]
     },
     "metadata": {},
     "output_type": "display_data"
    },
    {
     "data": {
      "text/html": [
       "<pre style=\"white-space:pre;overflow-x:auto;line-height:normal;font-family:Menlo,'DejaVu Sans Mono',consolas,'Courier New',monospace\"><span style=\"color: #008000; text-decoration-color: #008000\">09:07:06</span> | ℹ️ <span style=\"font-weight: bold\">Merge repos\\micropython-stubs\\stubs\\micropython-v1_23_0-docstubs\\wipy\\__init__.pyi from </span>\n",
       "<span style=\"font-weight: bold\">repos\\gobotTypeshed\\micropython_typesheds\\wipy.pyi</span>\n",
       "</pre>\n"
      ],
      "text/plain": [
       "\u001b[32m09:07:06\u001b[0m | ℹ️ \u001b[1mMerge repos\\micropython-stubs\\stubs\\micropython-v1_23_0-docstubs\\wipy\\__init__.pyi from \u001b[0m\n",
       "\u001b[1mrepos\\gobotTypeshed\\micropython_typesheds\\wipy.pyi\u001b[0m\n"
      ]
     },
     "metadata": {},
     "output_type": "display_data"
    },
    {
     "data": {
      "text/html": [
       "<pre style=\"white-space:pre;overflow-x:auto;line-height:normal;font-family:Menlo,'DejaVu Sans Mono',consolas,'Courier New',monospace\"><span style=\"color: #008000; text-decoration-color: #008000\">09:07:06</span> | ℹ️ <span style=\"font-weight: bold\">Change heartbeat to @overload</span>\n",
       "</pre>\n"
      ],
      "text/plain": [
       "\u001b[32m09:07:06\u001b[0m | ℹ️ \u001b[1mChange heartbeat to @overload\u001b[0m\n"
      ]
     },
     "metadata": {},
     "output_type": "display_data"
    },
    {
     "data": {
      "text/html": [
       "<pre style=\"white-space:pre;overflow-x:auto;line-height:normal;font-family:Menlo,'DejaVu Sans Mono',consolas,'Courier New',monospace\"><span style=\"color: #008000; text-decoration-color: #008000\">09:07:06</span> | ℹ️ <span style=\"font-weight: bold\">Merge repos\\micropython-stubs\\stubs\\micropython-v1_23_0-docstubs\\zlib\\__init__.pyi from </span>\n",
       "<span style=\"font-weight: bold\">repos\\gobotTypeshed\\micropython_typesheds\\uzlib.pyi</span>\n",
       "</pre>\n"
      ],
      "text/plain": [
       "\u001b[32m09:07:06\u001b[0m | ℹ️ \u001b[1mMerge repos\\micropython-stubs\\stubs\\micropython-v1_23_0-docstubs\\zlib\\__init__.pyi from \u001b[0m\n",
       "\u001b[1mrepos\\gobotTypeshed\\micropython_typesheds\\uzlib.pyi\u001b[0m\n"
      ]
     },
     "metadata": {},
     "output_type": "display_data"
    },
    {
     "data": {
      "text/html": [
       "<pre style=\"white-space:pre;overflow-x:auto;line-height:normal;font-family:Menlo,'DejaVu Sans Mono',consolas,'Courier New',monospace\"><span style=\"color: #008000; text-decoration-color: #008000\">09:07:06</span> | ℹ️ <span style=\"font-weight: bold\">Merge repos\\micropython-stubs\\stubs\\micropython-v1_23_0-docstubs\\zlib\\__init__.pyi from </span>\n",
       "<span style=\"font-weight: bold\">repos\\gobotTypeshed\\micropython_typesheds\\zlib.pyi</span>\n",
       "</pre>\n"
      ],
      "text/plain": [
       "\u001b[32m09:07:06\u001b[0m | ℹ️ \u001b[1mMerge repos\\micropython-stubs\\stubs\\micropython-v1_23_0-docstubs\\zlib\\__init__.pyi from \u001b[0m\n",
       "\u001b[1mrepos\\gobotTypeshed\\micropython_typesheds\\zlib.pyi\u001b[0m\n"
      ]
     },
     "metadata": {},
     "output_type": "display_data"
    }
   ],
   "source": [
    "# assume root of workspace is the current directory\n",
    "# # Merge typehints from IntelliJ plugin with docstubs\n",
    "# %run -m stubber.stubber enrich --no-docstrings --stubs repos\\micropython-stubs\\stubs\\micropython-v1_23_0-docstubs --docstubs repos\\intellij-micropython\\typehints\n",
    "\n",
    "# Merge from Howard Lovatt (MIT) \n",
    "# %run -m stubber.stubber enrich --no-docstrings --stubs repos\\micropython-stubs\\stubs\\micropython-v1_23_0-docstubs --source repos\\PyBoardTypeshed\\micropython_typesheds\n",
    "\n",
    "# gobot1234\n",
    "%run -m stubber.stubber enrich --no-docstrings --stubs repos\\micropython-stubs\\stubs\\micropython-v1_23_0-docstubs --source repos\\gobotTypeshed\\micropython_typesheds\n"
   ]
  },
  {
   "cell_type": "code",
   "execution_count": 12,
   "metadata": {},
   "outputs": [
    {
     "name": "stdout",
     "output_type": "stream",
     "text": [
      "All checks passed!\n"
     ]
    }
   ],
   "source": [
    "\n",
    "! ruff check repos\\micropython-stubs\\stubs\\micropython-v1_23_0-docstubs --fix --unsafe-fixes\n"
   ]
  },
  {
   "cell_type": "code",
   "execution_count": 14,
   "metadata": {},
   "outputs": [
    {
     "name": "stdout",
     "output_type": "stream",
     "text": [
      "WARNING: there is a new pyright version available (v1.1.370 -> v1.1.378).\n",
      "Please install the new version or set PYRIGHT_PYTHON_FORCE_VERSION to `latest`\n",
      "\n",
      "d:\\mypython\\micropython-stubber\\repos\\micropython-stubs\\stubs\\micropython-v1_23_0-docstubs\\uio.pyi\n",
      "  d:\\mypython\\micropython-stubber\\repos\\micropython-stubs\\stubs\\micropython-v1_23_0-docstubs\\uio.pyi:\u001b[33m12\u001b[39m:\u001b[33m5\u001b[39m - \u001b[31merror\u001b[39m: \"Self\" is unknown import symbol\u001b[90m (reportAttributeAccessIssue)\u001b[39m\n",
      "  d:\\mypython\\micropython-stubber\\repos\\micropython-stubs\\stubs\\micropython-v1_23_0-docstubs\\uio.pyi:\u001b[33m14\u001b[39m:\u001b[33m5\u001b[39m - \u001b[31merror\u001b[39m: \"TypeAlias\" is unknown import symbol\u001b[90m (reportAttributeAccessIssue)\u001b[39m\n",
      "d:\\mypython\\micropython-stubber\\repos\\micropython-stubs\\stubs\\micropython-v1_23_0-docstubs\\uos.pyi\n",
      "  d:\\mypython\\micropython-stubber\\repos\\micropython-stubs\\stubs\\micropython-v1_23_0-docstubs\\uos.pyi:\u001b[33m5\u001b[39m:\u001b[33m23\u001b[39m - \u001b[31merror\u001b[39m: \"AbstractBlockDev\" is unknown import symbol\u001b[90m (reportAttributeAccessIssue)\u001b[39m\n",
      "  d:\\mypython\\micropython-stubber\\repos\\micropython-stubs\\stubs\\micropython-v1_23_0-docstubs\\uos.pyi:\u001b[33m5\u001b[39m:\u001b[33m63\u001b[39m - \u001b[31merror\u001b[39m: \"_AnyPath\" is unknown import symbol\u001b[90m (reportAttributeAccessIssue)\u001b[39m\n",
      "  d:\\mypython\\micropython-stubber\\repos\\micropython-stubs\\stubs\\micropython-v1_23_0-docstubs\\uos.pyi:\u001b[33m5\u001b[39m:\u001b[33m73\u001b[39m - \u001b[31merror\u001b[39m: \"_FdOrAnyPath\" is unknown import symbol\u001b[90m (reportAttributeAccessIssue)\u001b[39m\n",
      "  d:\\mypython\\micropython-stubber\\repos\\micropython-stubs\\stubs\\micropython-v1_23_0-docstubs\\uos.pyi:\u001b[33m5\u001b[39m:\u001b[33m87\u001b[39m - \u001b[31merror\u001b[39m: \"_StrOrBytesT\" is unknown import symbol\u001b[90m (reportAttributeAccessIssue)\u001b[39m\n",
      "d:\\mypython\\micropython-stubber\\repos\\micropython-stubs\\stubs\\micropython-v1_23_0-docstubs\\usocket.pyi\n",
      "  d:\\mypython\\micropython-stubber\\repos\\micropython-stubs\\stubs\\micropython-v1_23_0-docstubs\\usocket.pyi:\u001b[33m6\u001b[39m:\u001b[33m41\u001b[39m - \u001b[31merror\u001b[39m: \"TypeAlias\" is unknown import symbol\u001b[90m (reportAttributeAccessIssue)\u001b[39m\n",
      "d:\\mypython\\micropython-stubber\\repos\\micropython-stubs\\stubs\\micropython-v1_23_0-docstubs\\ussl.pyi\n",
      "  d:\\mypython\\micropython-stubber\\repos\\micropython-stubs\\stubs\\micropython-v1_23_0-docstubs\\ussl.pyi:\u001b[33m6\u001b[39m:\u001b[33m17\u001b[39m - \u001b[31merror\u001b[39m: \"StrOrBytesPath\" is unknown import symbol\u001b[90m (reportAttributeAccessIssue)\u001b[39m\n",
      "  d:\\mypython\\micropython-stubber\\repos\\micropython-stubs\\stubs\\micropython-v1_23_0-docstubs\\ussl.pyi:\u001b[33m7\u001b[39m:\u001b[33m21\u001b[39m - \u001b[31merror\u001b[39m: \"Socket\" is unknown import symbol\u001b[90m (reportAttributeAccessIssue)\u001b[39m\n",
      "d:\\mypython\\micropython-stubber\\repos\\micropython-stubs\\stubs\\micropython-v1_23_0-docstubs\\array\\__init__.pyi\n",
      "  d:\\mypython\\micropython-stubber\\repos\\micropython-stubs\\stubs\\micropython-v1_23_0-docstubs\\array\\__init__.pyi:\u001b[33m20\u001b[39m:\u001b[33m29\u001b[39m - \u001b[36mwarning\u001b[39m: \"_T\" is not defined\u001b[90m (reportUndefinedVariable)\u001b[39m\n",
      "  d:\\mypython\\micropython-stubber\\repos\\micropython-stubs\\stubs\\micropython-v1_23_0-docstubs\\array\\__init__.pyi:\u001b[33m20\u001b[39m:\u001b[33m42\u001b[39m - \u001b[36mwarning\u001b[39m: \"_T\" is not defined\u001b[90m (reportUndefinedVariable)\u001b[39m\n",
      "  d:\\mypython\\micropython-stubber\\repos\\micropython-stubs\\stubs\\micropython-v1_23_0-docstubs\\array\\__init__.pyi:\u001b[33m20\u001b[39m:\u001b[33m42\u001b[39m - \u001b[31merror\u001b[39m: Type argument for \"Generic\" must be a type variable\n",
      "  d:\\mypython\\micropython-stubber\\repos\\micropython-stubs\\stubs\\micropython-v1_23_0-docstubs\\array\\__init__.pyi:\u001b[33m72\u001b[39m:\u001b[33m42\u001b[39m - \u001b[36mwarning\u001b[39m: \"_T\" is not defined\u001b[90m (reportUndefinedVariable)\u001b[39m\n",
      "  d:\\mypython\\micropython-stubber\\repos\\micropython-stubs\\stubs\\micropython-v1_23_0-docstubs\\array\\__init__.pyi:\u001b[33m84\u001b[39m:\u001b[33m47\u001b[39m - \u001b[36mwarning\u001b[39m: \"_T\" is not defined\u001b[90m (reportUndefinedVariable)\u001b[39m\n",
      "  d:\\mypython\\micropython-stubber\\repos\\micropython-stubs\\stubs\\micropython-v1_23_0-docstubs\\array\\__init__.pyi:\u001b[33m84\u001b[39m:\u001b[33m47\u001b[39m - \u001b[31merror\u001b[39m: Expected no type arguments for class \"array\"\u001b[90m (reportInvalidTypeArguments)\u001b[39m\n",
      "  d:\\mypython\\micropython-stubber\\repos\\micropython-stubs\\stubs\\micropython-v1_23_0-docstubs\\array\\__init__.pyi:\u001b[33m96\u001b[39m:\u001b[33m42\u001b[39m - \u001b[36mwarning\u001b[39m: \"_T\" is not defined\u001b[90m (reportUndefinedVariable)\u001b[39m\n",
      "  d:\\mypython\\micropython-stubber\\repos\\micropython-stubs\\stubs\\micropython-v1_23_0-docstubs\\array\\__init__.pyi:\u001b[33m107\u001b[39m:\u001b[33m47\u001b[39m - \u001b[36mwarning\u001b[39m: \"_T\" is not defined\u001b[90m (reportUndefinedVariable)\u001b[39m\n",
      "  d:\\mypython\\micropython-stubber\\repos\\micropython-stubs\\stubs\\micropython-v1_23_0-docstubs\\array\\__init__.pyi:\u001b[33m107\u001b[39m:\u001b[33m47\u001b[39m - \u001b[31merror\u001b[39m: Expected no type arguments for class \"array\"\u001b[90m (reportInvalidTypeArguments)\u001b[39m\n",
      "  d:\\mypython\\micropython-stubber\\repos\\micropython-stubs\\stubs\\micropython-v1_23_0-docstubs\\array\\__init__.pyi:\u001b[33m117\u001b[39m:\u001b[33m46\u001b[39m - \u001b[36mwarning\u001b[39m: \"_T\" is not defined\u001b[90m (reportUndefinedVariable)\u001b[39m\n",
      "  d:\\mypython\\micropython-stubber\\repos\\micropython-stubs\\stubs\\micropython-v1_23_0-docstubs\\array\\__init__.pyi:\u001b[33m128\u001b[39m:\u001b[33m52\u001b[39m - \u001b[36mwarning\u001b[39m: \"_T\" is not defined\u001b[90m (reportUndefinedVariable)\u001b[39m\n",
      "  d:\\mypython\\micropython-stubber\\repos\\micropython-stubs\\stubs\\micropython-v1_23_0-docstubs\\array\\__init__.pyi:\u001b[33m128\u001b[39m:\u001b[33m52\u001b[39m - \u001b[31merror\u001b[39m: Expected no type arguments for class \"array\"\u001b[90m (reportInvalidTypeArguments)\u001b[39m\n",
      "  d:\\mypython\\micropython-stubber\\repos\\micropython-stubs\\stubs\\micropython-v1_23_0-docstubs\\array\\__init__.pyi:\u001b[33m139\u001b[39m:\u001b[33m46\u001b[39m - \u001b[36mwarning\u001b[39m: \"_T\" is not defined\u001b[90m (reportUndefinedVariable)\u001b[39m\n",
      "  d:\\mypython\\micropython-stubber\\repos\\micropython-stubs\\stubs\\micropython-v1_23_0-docstubs\\array\\__init__.pyi:\u001b[33m150\u001b[39m:\u001b[33m52\u001b[39m - \u001b[36mwarning\u001b[39m: \"_T\" is not defined\u001b[90m (reportUndefinedVariable)\u001b[39m\n",
      "  d:\\mypython\\micropython-stubber\\repos\\micropython-stubs\\stubs\\micropython-v1_23_0-docstubs\\array\\__init__.pyi:\u001b[33m150\u001b[39m:\u001b[33m52\u001b[39m - \u001b[31merror\u001b[39m: Expected no type arguments for class \"array\"\u001b[90m (reportInvalidTypeArguments)\u001b[39m\n",
      "  d:\\mypython\\micropython-stubber\\repos\\micropython-stubs\\stubs\\micropython-v1_23_0-docstubs\\array\\__init__.pyi:\u001b[33m168\u001b[39m:\u001b[33m39\u001b[39m - \u001b[36mwarning\u001b[39m: \"_T\" is not defined\u001b[90m (reportUndefinedVariable)\u001b[39m\n",
      "  d:\\mypython\\micropython-stubber\\repos\\micropython-stubs\\stubs\\micropython-v1_23_0-docstubs\\array\\__init__.pyi:\u001b[33m168\u001b[39m:\u001b[33m39\u001b[39m - \u001b[31merror\u001b[39m: Expected no type arguments for class \"array\"\u001b[90m (reportInvalidTypeArguments)\u001b[39m\n",
      "d:\\mypython\\micropython-stubber\\repos\\micropython-stubs\\stubs\\micropython-v1_23_0-docstubs\\asyncio\\__init__.pyi\n",
      "  d:\\mypython\\micropython-stubber\\repos\\micropython-stubs\\stubs\\micropython-v1_23_0-docstubs\\asyncio\\__init__.pyi:\u001b[33m40\u001b[39m:\u001b[33m35\u001b[39m - \u001b[31merror\u001b[39m: \"TypeAlias\" is unknown import symbol\u001b[90m (reportAttributeAccessIssue)\u001b[39m\n",
      "  d:\\mypython\\micropython-stubber\\repos\\micropython-stubs\\stubs\\micropython-v1_23_0-docstubs\\asyncio\\__init__.pyi:\u001b[33m41\u001b[39m:\u001b[33m23\u001b[39m - \u001b[31merror\u001b[39m: \"AnyReadableBuf\" is unknown import symbol\u001b[90m (reportAttributeAccessIssue)\u001b[39m\n",
      "  d:\\mypython\\micropython-stubber\\repos\\micropython-stubs\\stubs\\micropython-v1_23_0-docstubs\\asyncio\\__init__.pyi:\u001b[33m45\u001b[39m:\u001b[33m22\u001b[39m - \u001b[36mwarning\u001b[39m: \"_T\" is not defined\u001b[90m (reportUndefinedVariable)\u001b[39m\n",
      "  d:\\mypython\\micropython-stubber\\repos\\micropython-stubs\\stubs\\micropython-v1_23_0-docstubs\\asyncio\\__init__.pyi:\u001b[33m45\u001b[39m:\u001b[33m36\u001b[39m - \u001b[36mwarning\u001b[39m: \"_T\" is not defined\u001b[90m (reportUndefinedVariable)\u001b[39m\n",
      "  d:\\mypython\\micropython-stubber\\repos\\micropython-stubs\\stubs\\micropython-v1_23_0-docstubs\\asyncio\\__init__.pyi:\u001b[33m45\u001b[39m:\u001b[33m49\u001b[39m - \u001b[36mwarning\u001b[39m: \"_T\" is not defined\u001b[90m (reportUndefinedVariable)\u001b[39m\n",
      "  d:\\mypython\\micropython-stubber\\repos\\micropython-stubs\\stubs\\micropython-v1_23_0-docstubs\\asyncio\\__init__.pyi:\u001b[33m45\u001b[39m:\u001b[33m49\u001b[39m - \u001b[31merror\u001b[39m: Type argument for \"Generic\" must be a type variable\n",
      "  d:\\mypython\\micropython-stubber\\repos\\micropython-stubs\\stubs\\micropython-v1_23_0-docstubs\\asyncio\\__init__.pyi:\u001b[33m342\u001b[39m:\u001b[33m18\u001b[39m - \u001b[36mwarning\u001b[39m: \"_T\" is not defined\u001b[90m (reportUndefinedVariable)\u001b[39m\n",
      "d:\\mypython\\micropython-stubber\\repos\\micropython-stubs\\stubs\\micropython-v1_23_0-docstubs\\bluetooth\\__init__.pyi\n",
      "  d:\\mypython\\micropython-stubber\\repos\\micropython-stubs\\stubs\\micropython-v1_23_0-docstubs\\bluetooth\\__init__.pyi:\u001b[33m25\u001b[39m:\u001b[33m27\u001b[39m - \u001b[31merror\u001b[39m: \"TypeAlias\" is unknown import symbol\u001b[90m (reportAttributeAccessIssue)\u001b[39m\n",
      "  d:\\mypython\\micropython-stubber\\repos\\micropython-stubs\\stubs\\micropython-v1_23_0-docstubs\\bluetooth\\__init__.pyi:\u001b[33m26\u001b[39m:\u001b[33m23\u001b[39m - \u001b[31merror\u001b[39m: \"AnyWritableBuf\" is unknown import symbol\u001b[90m (reportAttributeAccessIssue)\u001b[39m\n",
      "  d:\\mypython\\micropython-stubber\\repos\\micropython-stubs\\stubs\\micropython-v1_23_0-docstubs\\bluetooth\\__init__.pyi:\u001b[33m26\u001b[39m:\u001b[33m39\u001b[39m - \u001b[31merror\u001b[39m: \"AnyReadableBuf\" is unknown import symbol\u001b[90m (reportAttributeAccessIssue)\u001b[39m\n",
      "d:\\mypython\\micropython-stubber\\repos\\micropython-stubs\\stubs\\micropython-v1_23_0-docstubs\\cmath\\__init__.pyi\n",
      "  d:\\mypython\\micropython-stubber\\repos\\micropython-stubs\\stubs\\micropython-v1_23_0-docstubs\\cmath\\__init__.pyi:\u001b[33m18\u001b[39m:\u001b[33m52\u001b[39m - \u001b[31merror\u001b[39m: \"TypeAlias\" is unknown import symbol\u001b[90m (reportAttributeAccessIssue)\u001b[39m\n",
      "d:\\mypython\\micropython-stubber\\repos\\micropython-stubs\\stubs\\micropython-v1_23_0-docstubs\\collections\\__init__.pyi\n",
      "  d:\\mypython\\micropython-stubber\\repos\\micropython-stubs\\stubs\\micropython-v1_23_0-docstubs\\collections\\__init__.pyi:\u001b[33m65\u001b[39m:\u001b[33m24\u001b[39m - \u001b[36mwarning\u001b[39m: \"_KT\" is not defined\u001b[90m (reportUndefinedVariable)\u001b[39m\n",
      "  d:\\mypython\\micropython-stubber\\repos\\micropython-stubs\\stubs\\micropython-v1_23_0-docstubs\\collections\\__init__.pyi:\u001b[33m65\u001b[39m:\u001b[33m29\u001b[39m - \u001b[36mwarning\u001b[39m: \"_VT\" is not defined\u001b[90m (reportUndefinedVariable)\u001b[39m\n",
      "  d:\\mypython\\micropython-stubber\\repos\\micropython-stubs\\stubs\\micropython-v1_23_0-docstubs\\collections\\__init__.pyi:\u001b[33m65\u001b[39m:\u001b[33m43\u001b[39m - \u001b[36mwarning\u001b[39m: \"_KT\" is not defined\u001b[90m (reportUndefinedVariable)\u001b[39m\n",
      "  d:\\mypython\\micropython-stubber\\repos\\micropython-stubs\\stubs\\micropython-v1_23_0-docstubs\\collections\\__init__.pyi:\u001b[33m65\u001b[39m:\u001b[33m43\u001b[39m - \u001b[31merror\u001b[39m: Type argument for \"Generic\" must be a type variable\n",
      "  d:\\mypython\\micropython-stubber\\repos\\micropython-stubs\\stubs\\micropython-v1_23_0-docstubs\\collections\\__init__.pyi:\u001b[33m65\u001b[39m:\u001b[33m48\u001b[39m - \u001b[36mwarning\u001b[39m: \"_VT\" is not defined\u001b[90m (reportUndefinedVariable)\u001b[39m\n",
      "  d:\\mypython\\micropython-stubber\\repos\\micropython-stubs\\stubs\\micropython-v1_23_0-docstubs\\collections\\__init__.pyi:\u001b[33m65\u001b[39m:\u001b[33m48\u001b[39m - \u001b[31merror\u001b[39m: Type argument for \"Generic\" must be a type variable\n",
      "  d:\\mypython\\micropython-stubber\\repos\\micropython-stubs\\stubs\\micropython-v1_23_0-docstubs\\collections\\__init__.pyi:\u001b[33m185\u001b[39m:\u001b[33m34\u001b[39m - \u001b[36mwarning\u001b[39m: \"_VT\" is not defined\u001b[90m (reportUndefinedVariable)\u001b[39m\n",
      "  d:\\mypython\\micropython-stubber\\repos\\micropython-stubs\\stubs\\micropython-v1_23_0-docstubs\\collections\\__init__.pyi:\u001b[33m211\u001b[39m:\u001b[33m37\u001b[39m - \u001b[36mwarning\u001b[39m: \"_KT\" is not defined\u001b[90m (reportUndefinedVariable)\u001b[39m\n",
      "  d:\\mypython\\micropython-stubber\\repos\\micropython-stubs\\stubs\\micropython-v1_23_0-docstubs\\collections\\__init__.pyi:\u001b[33m211\u001b[39m:\u001b[33m42\u001b[39m - \u001b[36mwarning\u001b[39m: \"_VT\" is not defined\u001b[90m (reportUndefinedVariable)\u001b[39m\n",
      "  d:\\mypython\\micropython-stubber\\repos\\micropython-stubs\\stubs\\micropython-v1_23_0-docstubs\\collections\\__init__.pyi:\u001b[33m211\u001b[39m:\u001b[33m58\u001b[39m - \u001b[36mwarning\u001b[39m: \"_VT\" is not defined\u001b[90m (reportUndefinedVariable)\u001b[39m\n",
      "  d:\\mypython\\micropython-stubber\\repos\\micropython-stubs\\stubs\\micropython-v1_23_0-docstubs\\collections\\__init__.pyi:\u001b[33m263\u001b[39m:\u001b[33m34\u001b[39m - \u001b[36mwarning\u001b[39m: \"_VT\" is not defined\u001b[90m (reportUndefinedVariable)\u001b[39m\n",
      "  d:\\mypython\\micropython-stubber\\repos\\micropython-stubs\\stubs\\micropython-v1_23_0-docstubs\\collections\\__init__.pyi:\u001b[33m289\u001b[39m:\u001b[33m37\u001b[39m - \u001b[36mwarning\u001b[39m: \"_KT\" is not defined\u001b[90m (reportUndefinedVariable)\u001b[39m\n",
      "  d:\\mypython\\micropython-stubber\\repos\\micropython-stubs\\stubs\\micropython-v1_23_0-docstubs\\collections\\__init__.pyi:\u001b[33m289\u001b[39m:\u001b[33m42\u001b[39m - \u001b[36mwarning\u001b[39m: \"_VT\" is not defined\u001b[90m (reportUndefinedVariable)\u001b[39m\n",
      "  d:\\mypython\\micropython-stubber\\repos\\micropython-stubs\\stubs\\micropython-v1_23_0-docstubs\\collections\\__init__.pyi:\u001b[33m289\u001b[39m:\u001b[33m58\u001b[39m - \u001b[36mwarning\u001b[39m: \"_VT\" is not defined\u001b[90m (reportUndefinedVariable)\u001b[39m\n",
      "d:\\mypython\\micropython-stubber\\repos\\micropython-stubs\\stubs\\micropython-v1_23_0-docstubs\\cryptolib\\__init__.pyi\n",
      "  d:\\mypython\\micropython-stubber\\repos\\micropython-stubs\\stubs\\micropython-v1_23_0-docstubs\\cryptolib\\__init__.pyi:\u001b[33m19\u001b[39m:\u001b[33m29\u001b[39m - \u001b[36mwarning\u001b[39m: \"AnyReadableBuf\" is not defined\u001b[90m (reportUndefinedVariable)\u001b[39m\n",
      "  d:\\mypython\\micropython-stubber\\repos\\micropython-stubs\\stubs\\micropython-v1_23_0-docstubs\\cryptolib\\__init__.pyi:\u001b[33m40\u001b[39m:\u001b[33m29\u001b[39m - \u001b[36mwarning\u001b[39m: \"AnyReadableBuf\" is not defined\u001b[90m (reportUndefinedVariable)\u001b[39m\n",
      "  d:\\mypython\\micropython-stubber\\repos\\micropython-stubs\\stubs\\micropython-v1_23_0-docstubs\\cryptolib\\__init__.pyi:\u001b[33m40\u001b[39m:\u001b[33m60\u001b[39m - \u001b[36mwarning\u001b[39m: \"AnyReadableBuf\" is not defined\u001b[90m (reportUndefinedVariable)\u001b[39m\n",
      "  d:\\mypython\\micropython-stubber\\repos\\micropython-stubs\\stubs\\micropython-v1_23_0-docstubs\\cryptolib\\__init__.pyi:\u001b[33m61\u001b[39m:\u001b[33m29\u001b[39m - \u001b[36mwarning\u001b[39m: \"AnyReadableBuf\" is not defined\u001b[90m (reportUndefinedVariable)\u001b[39m\n",
      "  d:\\mypython\\micropython-stubber\\repos\\micropython-stubs\\stubs\\micropython-v1_23_0-docstubs\\cryptolib\\__init__.pyi:\u001b[33m82\u001b[39m:\u001b[33m29\u001b[39m - \u001b[36mwarning\u001b[39m: \"AnyReadableBuf\" is not defined\u001b[90m (reportUndefinedVariable)\u001b[39m\n",
      "  d:\\mypython\\micropython-stubber\\repos\\micropython-stubs\\stubs\\micropython-v1_23_0-docstubs\\cryptolib\\__init__.pyi:\u001b[33m82\u001b[39m:\u001b[33m60\u001b[39m - \u001b[36mwarning\u001b[39m: \"AnyReadableBuf\" is not defined\u001b[90m (reportUndefinedVariable)\u001b[39m\n",
      "  d:\\mypython\\micropython-stubber\\repos\\micropython-stubs\\stubs\\micropython-v1_23_0-docstubs\\cryptolib\\__init__.pyi:\u001b[33m103\u001b[39m:\u001b[33m31\u001b[39m - \u001b[36mwarning\u001b[39m: \"AnyReadableBuf\" is not defined\u001b[90m (reportUndefinedVariable)\u001b[39m\n",
      "  d:\\mypython\\micropython-stubber\\repos\\micropython-stubs\\stubs\\micropython-v1_23_0-docstubs\\cryptolib\\__init__.pyi:\u001b[33m112\u001b[39m:\u001b[33m31\u001b[39m - \u001b[36mwarning\u001b[39m: \"AnyReadableBuf\" is not defined\u001b[90m (reportUndefinedVariable)\u001b[39m\n",
      "  d:\\mypython\\micropython-stubber\\repos\\micropython-stubs\\stubs\\micropython-v1_23_0-docstubs\\cryptolib\\__init__.pyi:\u001b[33m112\u001b[39m:\u001b[33m56\u001b[39m - \u001b[36mwarning\u001b[39m: \"AnyWritableBuf\" is not defined\u001b[90m (reportUndefinedVariable)\u001b[39m\n",
      "  d:\\mypython\\micropython-stubber\\repos\\micropython-stubs\\stubs\\micropython-v1_23_0-docstubs\\cryptolib\\__init__.pyi:\u001b[33m121\u001b[39m:\u001b[33m31\u001b[39m - \u001b[36mwarning\u001b[39m: \"AnyReadableBuf\" is not defined\u001b[90m (reportUndefinedVariable)\u001b[39m\n",
      "  d:\\mypython\\micropython-stubber\\repos\\micropython-stubs\\stubs\\micropython-v1_23_0-docstubs\\cryptolib\\__init__.pyi:\u001b[33m130\u001b[39m:\u001b[33m31\u001b[39m - \u001b[36mwarning\u001b[39m: \"AnyReadableBuf\" is not defined\u001b[90m (reportUndefinedVariable)\u001b[39m\n",
      "  d:\\mypython\\micropython-stubber\\repos\\micropython-stubs\\stubs\\micropython-v1_23_0-docstubs\\cryptolib\\__init__.pyi:\u001b[33m130\u001b[39m:\u001b[33m56\u001b[39m - \u001b[36mwarning\u001b[39m: \"AnyWritableBuf\" is not defined\u001b[90m (reportUndefinedVariable)\u001b[39m\n",
      "  d:\\mypython\\micropython-stubber\\repos\\micropython-stubs\\stubs\\micropython-v1_23_0-docstubs\\cryptolib\\__init__.pyi:\u001b[33m139\u001b[39m:\u001b[33m31\u001b[39m - \u001b[36mwarning\u001b[39m: \"AnyReadableBuf\" is not defined\u001b[90m (reportUndefinedVariable)\u001b[39m\n",
      "  d:\\mypython\\micropython-stubber\\repos\\micropython-stubs\\stubs\\micropython-v1_23_0-docstubs\\cryptolib\\__init__.pyi:\u001b[33m145\u001b[39m:\u001b[33m31\u001b[39m - \u001b[36mwarning\u001b[39m: \"AnyReadableBuf\" is not defined\u001b[90m (reportUndefinedVariable)\u001b[39m\n",
      "  d:\\mypython\\micropython-stubber\\repos\\micropython-stubs\\stubs\\micropython-v1_23_0-docstubs\\cryptolib\\__init__.pyi:\u001b[33m145\u001b[39m:\u001b[33m56\u001b[39m - \u001b[36mwarning\u001b[39m: \"AnyWritableBuf\" is not defined\u001b[90m (reportUndefinedVariable)\u001b[39m\n",
      "  d:\\mypython\\micropython-stubber\\repos\\micropython-stubs\\stubs\\micropython-v1_23_0-docstubs\\cryptolib\\__init__.pyi:\u001b[33m151\u001b[39m:\u001b[33m31\u001b[39m - \u001b[36mwarning\u001b[39m: \"AnyReadableBuf\" is not defined\u001b[90m (reportUndefinedVariable)\u001b[39m\n",
      "  d:\\mypython\\micropython-stubber\\repos\\micropython-stubs\\stubs\\micropython-v1_23_0-docstubs\\cryptolib\\__init__.pyi:\u001b[33m157\u001b[39m:\u001b[33m31\u001b[39m - \u001b[36mwarning\u001b[39m: \"AnyReadableBuf\" is not defined\u001b[90m (reportUndefinedVariable)\u001b[39m\n",
      "  d:\\mypython\\micropython-stubber\\repos\\micropython-stubs\\stubs\\micropython-v1_23_0-docstubs\\cryptolib\\__init__.pyi:\u001b[33m157\u001b[39m:\u001b[33m56\u001b[39m - \u001b[36mwarning\u001b[39m: \"AnyWritableBuf\" is not defined\u001b[90m (reportUndefinedVariable)\u001b[39m\n",
      "d:\\mypython\\micropython-stubber\\repos\\micropython-stubs\\stubs\\micropython-v1_23_0-docstubs\\esp\\__init__.pyi\n",
      "  d:\\mypython\\micropython-stubber\\repos\\micropython-stubs\\stubs\\micropython-v1_23_0-docstubs\\esp\\__init__.pyi:\u001b[33m104\u001b[39m:\u001b[33m52\u001b[39m - \u001b[36mwarning\u001b[39m: \"AnyWritableBuf\" is not defined\u001b[90m (reportUndefinedVariable)\u001b[39m\n",
      "d:\\mypython\\micropython-stubber\\repos\\micropython-stubs\\stubs\\micropython-v1_23_0-docstubs\\esp32\\__init__.pyi\n",
      "  d:\\mypython\\micropython-stubber\\repos\\micropython-stubs\\stubs\\micropython-v1_23_0-docstubs\\esp32\\__init__.pyi:\u001b[33m14\u001b[39m:\u001b[33m23\u001b[39m - \u001b[31merror\u001b[39m: \"AbstractBlockDev\" is unknown import symbol\u001b[90m (reportAttributeAccessIssue)\u001b[39m\n",
      "  d:\\mypython\\micropython-stubber\\repos\\micropython-stubs\\stubs\\micropython-v1_23_0-docstubs\\esp32\\__init__.pyi:\u001b[33m14\u001b[39m:\u001b[33m41\u001b[39m - \u001b[31merror\u001b[39m: \"AnyReadableBuf\" is unknown import symbol\u001b[90m (reportAttributeAccessIssue)\u001b[39m\n",
      "d:\\mypython\\micropython-stubber\\repos\\micropython-stubs\\stubs\\micropython-v1_23_0-docstubs\\espnow\\__init__.pyi\n",
      "  d:\\mypython\\micropython-stubber\\repos\\micropython-stubs\\stubs\\micropython-v1_23_0-docstubs\\espnow\\__init__.pyi:\u001b[33m461\u001b[39m:\u001b[33m35\u001b[39m - \u001b[36mwarning\u001b[39m: \"value\" is not defined\u001b[90m (reportUndefinedVariable)\u001b[39m\n",
      "d:\\mypython\\micropython-stubber\\repos\\micropython-stubs\\stubs\\micropython-v1_23_0-docstubs\\framebuf\\__init__.pyi\n",
      "  d:\\mypython\\micropython-stubber\\repos\\micropython-stubs\\stubs\\micropython-v1_23_0-docstubs\\framebuf\\__init__.pyi:\u001b[33m14\u001b[39m:\u001b[33m23\u001b[39m - \u001b[31merror\u001b[39m: \"AnyWritableBuf\" is unknown import symbol\u001b[90m (reportAttributeAccessIssue)\u001b[39m\n",
      "d:\\mypython\\micropython-stubber\\repos\\micropython-stubs\\stubs\\micropython-v1_23_0-docstubs\\hashlib\\__init__.pyi\n",
      "  d:\\mypython\\micropython-stubber\\repos\\micropython-stubs\\stubs\\micropython-v1_23_0-docstubs\\hashlib\\__init__.pyi:\u001b[33m31\u001b[39m:\u001b[33m23\u001b[39m - \u001b[31merror\u001b[39m: \"AnyReadableBuf\" is unknown import symbol\u001b[90m (reportAttributeAccessIssue)\u001b[39m\n",
      "  d:\\mypython\\micropython-stubber\\repos\\micropython-stubs\\stubs\\micropython-v1_23_0-docstubs\\hashlib\\__init__.pyi:\u001b[33m34\u001b[39m:\u001b[33m14\u001b[39m - \u001b[31merror\u001b[39m: Expected type expression but received \"Literal['_Hash']\"\u001b[90m (reportGeneralTypeIssues)\u001b[39m\n",
      "  d:\\mypython\\micropython-stubber\\repos\\micropython-stubs\\stubs\\micropython-v1_23_0-docstubs\\hashlib\\__init__.pyi:\u001b[33m66\u001b[39m:\u001b[33m12\u001b[39m - \u001b[31merror\u001b[39m: Expected type expression but received \"Literal['_Hash']\"\u001b[90m (reportGeneralTypeIssues)\u001b[39m\n",
      "  d:\\mypython\\micropython-stubber\\repos\\micropython-stubs\\stubs\\micropython-v1_23_0-docstubs\\hashlib\\__init__.pyi:\u001b[33m98\u001b[39m:\u001b[33m11\u001b[39m - \u001b[31merror\u001b[39m: Expected type expression but received \"Literal['_Hash']\"\u001b[90m (reportGeneralTypeIssues)\u001b[39m\n",
      "d:\\mypython\\micropython-stubber\\repos\\micropython-stubs\\stubs\\micropython-v1_23_0-docstubs\\heapq\\__init__.pyi\n",
      "  d:\\mypython\\micropython-stubber\\repos\\micropython-stubs\\stubs\\micropython-v1_23_0-docstubs\\heapq\\__init__.pyi:\u001b[33m27\u001b[39m:\u001b[33m22\u001b[39m - \u001b[36mwarning\u001b[39m: \"_T\" is not defined\u001b[90m (reportUndefinedVariable)\u001b[39m\n",
      "d:\\mypython\\micropython-stubber\\repos\\micropython-stubs\\stubs\\micropython-v1_23_0-docstubs\\io\\__init__.pyi\n",
      "  d:\\mypython\\micropython-stubber\\repos\\micropython-stubs\\stubs\\micropython-v1_23_0-docstubs\\io\\__init__.pyi:\u001b[33m85\u001b[39m:\u001b[33m5\u001b[39m - \u001b[31merror\u001b[39m: \"Self\" is unknown import symbol\u001b[90m (reportAttributeAccessIssue)\u001b[39m\n",
      "  d:\\mypython\\micropython-stubber\\repos\\micropython-stubs\\stubs\\micropython-v1_23_0-docstubs\\io\\__init__.pyi:\u001b[33m87\u001b[39m:\u001b[33m5\u001b[39m - \u001b[31merror\u001b[39m: \"TypeAlias\" is unknown import symbol\u001b[90m (reportAttributeAccessIssue)\u001b[39m\n",
      "  d:\\mypython\\micropython-stubber\\repos\\micropython-stubs\\stubs\\micropython-v1_23_0-docstubs\\io\\__init__.pyi:\u001b[33m197\u001b[39m:\u001b[33m40\u001b[39m - \u001b[31merror\u001b[39m: Expression of type \"Literal['']\" cannot be assigned to parameter of type \"bytes\"\n",
      "    \"Literal['']\" is incompatible with \"bytes\"\u001b[90m (reportArgumentType)\u001b[39m\n",
      "  d:\\mypython\\micropython-stubber\\repos\\micropython-stubs\\stubs\\micropython-v1_23_0-docstubs\\io\\__init__.pyi:\u001b[33m311\u001b[39m:\u001b[33m16\u001b[39m - \u001b[36mwarning\u001b[39m: \"_OpenFile\" is not defined\u001b[90m (reportUndefinedVariable)\u001b[39m\n",
      "  d:\\mypython\\micropython-stubber\\repos\\micropython-stubs\\stubs\\micropython-v1_23_0-docstubs\\io\\__init__.pyi:\u001b[33m311\u001b[39m:\u001b[33m44\u001b[39m - \u001b[36mwarning\u001b[39m: \"TextIOWrapper\" is not defined\u001b[90m (reportUndefinedVariable)\u001b[39m\n",
      "  d:\\mypython\\micropython-stubber\\repos\\micropython-stubs\\stubs\\micropython-v1_23_0-docstubs\\io\\__init__.pyi:\u001b[33m319\u001b[39m:\u001b[33m16\u001b[39m - \u001b[36mwarning\u001b[39m: \"_OpenFile\" is not defined\u001b[90m (reportUndefinedVariable)\u001b[39m\n",
      "  d:\\mypython\\micropython-stubber\\repos\\micropython-stubs\\stubs\\micropython-v1_23_0-docstubs\\io\\__init__.pyi:\u001b[33m319\u001b[39m:\u001b[33m33\u001b[39m - \u001b[36mwarning\u001b[39m: \"_OpenTextMode\" is not defined\u001b[90m (reportUndefinedVariable)\u001b[39m\n",
      "  d:\\mypython\\micropython-stubber\\repos\\micropython-stubs\\stubs\\micropython-v1_23_0-docstubs\\io\\__init__.pyi:\u001b[33m319\u001b[39m:\u001b[33m71\u001b[39m - \u001b[36mwarning\u001b[39m: \"TextIOWrapper\" is not defined\u001b[90m (reportUndefinedVariable)\u001b[39m\n",
      "  d:\\mypython\\micropython-stubber\\repos\\micropython-stubs\\stubs\\micropython-v1_23_0-docstubs\\io\\__init__.pyi:\u001b[33m327\u001b[39m:\u001b[33m16\u001b[39m - \u001b[36mwarning\u001b[39m: \"_OpenFile\" is not defined\u001b[90m (reportUndefinedVariable)\u001b[39m\n",
      "  d:\\mypython\\micropython-stubber\\repos\\micropython-stubs\\stubs\\micropython-v1_23_0-docstubs\\io\\__init__.pyi:\u001b[33m327\u001b[39m:\u001b[33m33\u001b[39m - \u001b[36mwarning\u001b[39m: \"_OpenBinaryMode\" is not defined\u001b[90m (reportUndefinedVariable)\u001b[39m\n",
      "  d:\\mypython\\micropython-stubber\\repos\\micropython-stubs\\stubs\\micropython-v1_23_0-docstubs\\io\\__init__.pyi:\u001b[33m327\u001b[39m:\u001b[33m73\u001b[39m - \u001b[36mwarning\u001b[39m: \"FileIO\" is not defined\u001b[90m (reportUndefinedVariable)\u001b[39m\n",
      "  d:\\mypython\\micropython-stubber\\repos\\micropython-stubs\\stubs\\micropython-v1_23_0-docstubs\\io\\__init__.pyi:\u001b[33m335\u001b[39m:\u001b[33m16\u001b[39m - \u001b[36mwarning\u001b[39m: \"_OpenFile\" is not defined\u001b[90m (reportUndefinedVariable)\u001b[39m\n",
      "  d:\\mypython\\micropython-stubber\\repos\\micropython-stubs\\stubs\\micropython-v1_23_0-docstubs\\io\\__init__.pyi:\u001b[33m335\u001b[39m:\u001b[33m44\u001b[39m - \u001b[36mwarning\u001b[39m: \"TextIOWrapper\" is not defined\u001b[90m (reportUndefinedVariable)\u001b[39m\n",
      "  d:\\mypython\\micropython-stubber\\repos\\micropython-stubs\\stubs\\micropython-v1_23_0-docstubs\\io\\__init__.pyi:\u001b[33m343\u001b[39m:\u001b[33m16\u001b[39m - \u001b[36mwarning\u001b[39m: \"_OpenFile\" is not defined\u001b[90m (reportUndefinedVariable)\u001b[39m\n",
      "  d:\\mypython\\micropython-stubber\\repos\\micropython-stubs\\stubs\\micropython-v1_23_0-docstubs\\io\\__init__.pyi:\u001b[33m343\u001b[39m:\u001b[33m33\u001b[39m - \u001b[36mwarning\u001b[39m: \"_OpenTextMode\" is not defined\u001b[90m (reportUndefinedVariable)\u001b[39m\n",
      "  d:\\mypython\\micropython-stubber\\repos\\micropython-stubs\\stubs\\micropython-v1_23_0-docstubs\\io\\__init__.pyi:\u001b[33m343\u001b[39m:\u001b[33m71\u001b[39m - \u001b[36mwarning\u001b[39m: \"TextIOWrapper\" is not defined\u001b[90m (reportUndefinedVariable)\u001b[39m\n",
      "  d:\\mypython\\micropython-stubber\\repos\\micropython-stubs\\stubs\\micropython-v1_23_0-docstubs\\io\\__init__.pyi:\u001b[33m351\u001b[39m:\u001b[33m16\u001b[39m - \u001b[36mwarning\u001b[39m: \"_OpenFile\" is not defined\u001b[90m (reportUndefinedVariable)\u001b[39m\n",
      "  d:\\mypython\\micropython-stubber\\repos\\micropython-stubs\\stubs\\micropython-v1_23_0-docstubs\\io\\__init__.pyi:\u001b[33m351\u001b[39m:\u001b[33m33\u001b[39m - \u001b[36mwarning\u001b[39m: \"_OpenBinaryMode\" is not defined\u001b[90m (reportUndefinedVariable)\u001b[39m\n",
      "  d:\\mypython\\micropython-stubber\\repos\\micropython-stubs\\stubs\\micropython-v1_23_0-docstubs\\io\\__init__.pyi:\u001b[33m351\u001b[39m:\u001b[33m73\u001b[39m - \u001b[36mwarning\u001b[39m: \"FileIO\" is not defined\u001b[90m (reportUndefinedVariable)\u001b[39m\n",
      "d:\\mypython\\micropython-stubber\\repos\\micropython-stubs\\stubs\\micropython-v1_23_0-docstubs\\machine\\ADC.pyi\n",
      "  d:\\mypython\\micropython-stubber\\repos\\micropython-stubs\\stubs\\micropython-v1_23_0-docstubs\\machine\\ADC.pyi:\u001b[33m5\u001b[39m:\u001b[33m23\u001b[39m - \u001b[31merror\u001b[39m: \"AbstractBlockDev\" is unknown import symbol\u001b[90m (reportAttributeAccessIssue)\u001b[39m\n",
      "  d:\\mypython\\micropython-stubber\\repos\\micropython-stubs\\stubs\\micropython-v1_23_0-docstubs\\machine\\ADC.pyi:\u001b[33m5\u001b[39m:\u001b[33m41\u001b[39m - \u001b[31merror\u001b[39m: \"AnyReadableBuf\" is unknown import symbol\u001b[90m (reportAttributeAccessIssue)\u001b[39m\n",
      "  d:\\mypython\\micropython-stubber\\repos\\micropython-stubs\\stubs\\micropython-v1_23_0-docstubs\\machine\\ADC.pyi:\u001b[33m5\u001b[39m:\u001b[33m57\u001b[39m - \u001b[31merror\u001b[39m: \"AnyWritableBuf\" is unknown import symbol\u001b[90m (reportAttributeAccessIssue)\u001b[39m\n",
      "d:\\mypython\\micropython-stubber\\repos\\micropython-stubs\\stubs\\micropython-v1_23_0-docstubs\\machine\\ADCBlock.pyi\n",
      "  d:\\mypython\\micropython-stubber\\repos\\micropython-stubs\\stubs\\micropython-v1_23_0-docstubs\\machine\\ADCBlock.pyi:\u001b[33m4\u001b[39m:\u001b[33m23\u001b[39m - \u001b[31merror\u001b[39m: \"AbstractBlockDev\" is unknown import symbol\u001b[90m (reportAttributeAccessIssue)\u001b[39m\n",
      "  d:\\mypython\\micropython-stubber\\repos\\micropython-stubs\\stubs\\micropython-v1_23_0-docstubs\\machine\\ADCBlock.pyi:\u001b[33m4\u001b[39m:\u001b[33m41\u001b[39m - \u001b[31merror\u001b[39m: \"AnyReadableBuf\" is unknown import symbol\u001b[90m (reportAttributeAccessIssue)\u001b[39m\n",
      "  d:\\mypython\\micropython-stubber\\repos\\micropython-stubs\\stubs\\micropython-v1_23_0-docstubs\\machine\\ADCBlock.pyi:\u001b[33m4\u001b[39m:\u001b[33m57\u001b[39m - \u001b[31merror\u001b[39m: \"AnyWritableBuf\" is unknown import symbol\u001b[90m (reportAttributeAccessIssue)\u001b[39m\n",
      "d:\\mypython\\micropython-stubber\\repos\\micropython-stubs\\stubs\\micropython-v1_23_0-docstubs\\machine\\ADCWiPy.pyi\n",
      "  d:\\mypython\\micropython-stubber\\repos\\micropython-stubs\\stubs\\micropython-v1_23_0-docstubs\\machine\\ADCWiPy.pyi:\u001b[33m4\u001b[39m:\u001b[33m23\u001b[39m - \u001b[31merror\u001b[39m: \"AbstractBlockDev\" is unknown import symbol\u001b[90m (reportAttributeAccessIssue)\u001b[39m\n",
      "  d:\\mypython\\micropython-stubber\\repos\\micropython-stubs\\stubs\\micropython-v1_23_0-docstubs\\machine\\ADCWiPy.pyi:\u001b[33m4\u001b[39m:\u001b[33m41\u001b[39m - \u001b[31merror\u001b[39m: \"AnyReadableBuf\" is unknown import symbol\u001b[90m (reportAttributeAccessIssue)\u001b[39m\n",
      "  d:\\mypython\\micropython-stubber\\repos\\micropython-stubs\\stubs\\micropython-v1_23_0-docstubs\\machine\\ADCWiPy.pyi:\u001b[33m4\u001b[39m:\u001b[33m57\u001b[39m - \u001b[31merror\u001b[39m: \"AnyWritableBuf\" is unknown import symbol\u001b[90m (reportAttributeAccessIssue)\u001b[39m\n",
      "d:\\mypython\\micropython-stubber\\repos\\micropython-stubs\\stubs\\micropython-v1_23_0-docstubs\\machine\\I2C.pyi\n",
      "  d:\\mypython\\micropython-stubber\\repos\\micropython-stubs\\stubs\\micropython-v1_23_0-docstubs\\machine\\I2C.pyi:\u001b[33m5\u001b[39m:\u001b[33m23\u001b[39m - \u001b[31merror\u001b[39m: \"AbstractBlockDev\" is unknown import symbol\u001b[90m (reportAttributeAccessIssue)\u001b[39m\n",
      "  d:\\mypython\\micropython-stubber\\repos\\micropython-stubs\\stubs\\micropython-v1_23_0-docstubs\\machine\\I2C.pyi:\u001b[33m5\u001b[39m:\u001b[33m41\u001b[39m - \u001b[31merror\u001b[39m: \"AnyReadableBuf\" is unknown import symbol\u001b[90m (reportAttributeAccessIssue)\u001b[39m\n",
      "  d:\\mypython\\micropython-stubber\\repos\\micropython-stubs\\stubs\\micropython-v1_23_0-docstubs\\machine\\I2C.pyi:\u001b[33m5\u001b[39m:\u001b[33m57\u001b[39m - \u001b[31merror\u001b[39m: \"AnyWritableBuf\" is unknown import symbol\u001b[90m (reportAttributeAccessIssue)\u001b[39m\n",
      "d:\\mypython\\micropython-stubber\\repos\\micropython-stubs\\stubs\\micropython-v1_23_0-docstubs\\machine\\I2S.pyi\n",
      "  d:\\mypython\\micropython-stubber\\repos\\micropython-stubs\\stubs\\micropython-v1_23_0-docstubs\\machine\\I2S.pyi:\u001b[33m4\u001b[39m:\u001b[33m23\u001b[39m - \u001b[31merror\u001b[39m: \"AbstractBlockDev\" is unknown import symbol\u001b[90m (reportAttributeAccessIssue)\u001b[39m\n",
      "  d:\\mypython\\micropython-stubber\\repos\\micropython-stubs\\stubs\\micropython-v1_23_0-docstubs\\machine\\I2S.pyi:\u001b[33m4\u001b[39m:\u001b[33m41\u001b[39m - \u001b[31merror\u001b[39m: \"AnyReadableBuf\" is unknown import symbol\u001b[90m (reportAttributeAccessIssue)\u001b[39m\n",
      "  d:\\mypython\\micropython-stubber\\repos\\micropython-stubs\\stubs\\micropython-v1_23_0-docstubs\\machine\\I2S.pyi:\u001b[33m4\u001b[39m:\u001b[33m57\u001b[39m - \u001b[31merror\u001b[39m: \"AnyWritableBuf\" is unknown import symbol\u001b[90m (reportAttributeAccessIssue)\u001b[39m\n",
      "d:\\mypython\\micropython-stubber\\repos\\micropython-stubs\\stubs\\micropython-v1_23_0-docstubs\\machine\\PWM.pyi\n",
      "  d:\\mypython\\micropython-stubber\\repos\\micropython-stubs\\stubs\\micropython-v1_23_0-docstubs\\machine\\PWM.pyi:\u001b[33m5\u001b[39m:\u001b[33m23\u001b[39m - \u001b[31merror\u001b[39m: \"AbstractBlockDev\" is unknown import symbol\u001b[90m (reportAttributeAccessIssue)\u001b[39m\n",
      "  d:\\mypython\\micropython-stubber\\repos\\micropython-stubs\\stubs\\micropython-v1_23_0-docstubs\\machine\\PWM.pyi:\u001b[33m5\u001b[39m:\u001b[33m41\u001b[39m - \u001b[31merror\u001b[39m: \"AnyReadableBuf\" is unknown import symbol\u001b[90m (reportAttributeAccessIssue)\u001b[39m\n",
      "  d:\\mypython\\micropython-stubber\\repos\\micropython-stubs\\stubs\\micropython-v1_23_0-docstubs\\machine\\PWM.pyi:\u001b[33m5\u001b[39m:\u001b[33m57\u001b[39m - \u001b[31merror\u001b[39m: \"AnyWritableBuf\" is unknown import symbol\u001b[90m (reportAttributeAccessIssue)\u001b[39m\n",
      "d:\\mypython\\micropython-stubber\\repos\\micropython-stubs\\stubs\\micropython-v1_23_0-docstubs\\machine\\Pin.pyi\n",
      "  d:\\mypython\\micropython-stubber\\repos\\micropython-stubs\\stubs\\micropython-v1_23_0-docstubs\\machine\\Pin.pyi:\u001b[33m5\u001b[39m:\u001b[33m23\u001b[39m - \u001b[31merror\u001b[39m: \"AbstractBlockDev\" is unknown import symbol\u001b[90m (reportAttributeAccessIssue)\u001b[39m\n",
      "  d:\\mypython\\micropython-stubber\\repos\\micropython-stubs\\stubs\\micropython-v1_23_0-docstubs\\machine\\Pin.pyi:\u001b[33m5\u001b[39m:\u001b[33m41\u001b[39m - \u001b[31merror\u001b[39m: \"AnyReadableBuf\" is unknown import symbol\u001b[90m (reportAttributeAccessIssue)\u001b[39m\n",
      "  d:\\mypython\\micropython-stubber\\repos\\micropython-stubs\\stubs\\micropython-v1_23_0-docstubs\\machine\\Pin.pyi:\u001b[33m5\u001b[39m:\u001b[33m57\u001b[39m - \u001b[31merror\u001b[39m: \"AnyWritableBuf\" is unknown import symbol\u001b[90m (reportAttributeAccessIssue)\u001b[39m\n",
      "d:\\mypython\\micropython-stubber\\repos\\micropython-stubs\\stubs\\micropython-v1_23_0-docstubs\\machine\\RTC.pyi\n",
      "  d:\\mypython\\micropython-stubber\\repos\\micropython-stubs\\stubs\\micropython-v1_23_0-docstubs\\machine\\RTC.pyi:\u001b[33m5\u001b[39m:\u001b[33m23\u001b[39m - \u001b[31merror\u001b[39m: \"AbstractBlockDev\" is unknown import symbol\u001b[90m (reportAttributeAccessIssue)\u001b[39m\n",
      "  d:\\mypython\\micropython-stubber\\repos\\micropython-stubs\\stubs\\micropython-v1_23_0-docstubs\\machine\\RTC.pyi:\u001b[33m5\u001b[39m:\u001b[33m41\u001b[39m - \u001b[31merror\u001b[39m: \"AnyReadableBuf\" is unknown import symbol\u001b[90m (reportAttributeAccessIssue)\u001b[39m\n",
      "  d:\\mypython\\micropython-stubber\\repos\\micropython-stubs\\stubs\\micropython-v1_23_0-docstubs\\machine\\RTC.pyi:\u001b[33m5\u001b[39m:\u001b[33m57\u001b[39m - \u001b[31merror\u001b[39m: \"AnyWritableBuf\" is unknown import symbol\u001b[90m (reportAttributeAccessIssue)\u001b[39m\n",
      "d:\\mypython\\micropython-stubber\\repos\\micropython-stubs\\stubs\\micropython-v1_23_0-docstubs\\machine\\SD.pyi\n",
      "  d:\\mypython\\micropython-stubber\\repos\\micropython-stubs\\stubs\\micropython-v1_23_0-docstubs\\machine\\SD.pyi:\u001b[33m4\u001b[39m:\u001b[33m23\u001b[39m - \u001b[31merror\u001b[39m: \"AbstractBlockDev\" is unknown import symbol\u001b[90m (reportAttributeAccessIssue)\u001b[39m\n",
      "  d:\\mypython\\micropython-stubber\\repos\\micropython-stubs\\stubs\\micropython-v1_23_0-docstubs\\machine\\SD.pyi:\u001b[33m4\u001b[39m:\u001b[33m41\u001b[39m - \u001b[31merror\u001b[39m: \"AnyReadableBuf\" is unknown import symbol\u001b[90m (reportAttributeAccessIssue)\u001b[39m\n",
      "  d:\\mypython\\micropython-stubber\\repos\\micropython-stubs\\stubs\\micropython-v1_23_0-docstubs\\machine\\SD.pyi:\u001b[33m4\u001b[39m:\u001b[33m57\u001b[39m - \u001b[31merror\u001b[39m: \"AnyWritableBuf\" is unknown import symbol\u001b[90m (reportAttributeAccessIssue)\u001b[39m\n",
      "d:\\mypython\\micropython-stubber\\repos\\micropython-stubs\\stubs\\micropython-v1_23_0-docstubs\\machine\\SDCard.pyi\n",
      "  d:\\mypython\\micropython-stubber\\repos\\micropython-stubs\\stubs\\micropython-v1_23_0-docstubs\\machine\\SDCard.pyi:\u001b[33m4\u001b[39m:\u001b[33m23\u001b[39m - \u001b[31merror\u001b[39m: \"AbstractBlockDev\" is unknown import symbol\u001b[90m (reportAttributeAccessIssue)\u001b[39m\n",
      "  d:\\mypython\\micropython-stubber\\repos\\micropython-stubs\\stubs\\micropython-v1_23_0-docstubs\\machine\\SDCard.pyi:\u001b[33m4\u001b[39m:\u001b[33m41\u001b[39m - \u001b[31merror\u001b[39m: \"AnyReadableBuf\" is unknown import symbol\u001b[90m (reportAttributeAccessIssue)\u001b[39m\n",
      "  d:\\mypython\\micropython-stubber\\repos\\micropython-stubs\\stubs\\micropython-v1_23_0-docstubs\\machine\\SDCard.pyi:\u001b[33m4\u001b[39m:\u001b[33m57\u001b[39m - \u001b[31merror\u001b[39m: \"AnyWritableBuf\" is unknown import symbol\u001b[90m (reportAttributeAccessIssue)\u001b[39m\n",
      "d:\\mypython\\micropython-stubber\\repos\\micropython-stubs\\stubs\\micropython-v1_23_0-docstubs\\machine\\SPI.pyi\n",
      "  d:\\mypython\\micropython-stubber\\repos\\micropython-stubs\\stubs\\micropython-v1_23_0-docstubs\\machine\\SPI.pyi:\u001b[33m5\u001b[39m:\u001b[33m23\u001b[39m - \u001b[31merror\u001b[39m: \"AbstractBlockDev\" is unknown import symbol\u001b[90m (reportAttributeAccessIssue)\u001b[39m\n",
      "  d:\\mypython\\micropython-stubber\\repos\\micropython-stubs\\stubs\\micropython-v1_23_0-docstubs\\machine\\SPI.pyi:\u001b[33m5\u001b[39m:\u001b[33m41\u001b[39m - \u001b[31merror\u001b[39m: \"AnyReadableBuf\" is unknown import symbol\u001b[90m (reportAttributeAccessIssue)\u001b[39m\n",
      "  d:\\mypython\\micropython-stubber\\repos\\micropython-stubs\\stubs\\micropython-v1_23_0-docstubs\\machine\\SPI.pyi:\u001b[33m5\u001b[39m:\u001b[33m57\u001b[39m - \u001b[31merror\u001b[39m: \"AnyWritableBuf\" is unknown import symbol\u001b[90m (reportAttributeAccessIssue)\u001b[39m\n",
      "  d:\\mypython\\micropython-stubber\\repos\\micropython-stubs\\stubs\\micropython-v1_23_0-docstubs\\machine\\SPI.pyi:\u001b[33m92\u001b[39m:\u001b[33m14\u001b[39m - \u001b[36mwarning\u001b[39m: \"Pin\" is not defined\u001b[90m (reportUndefinedVariable)\u001b[39m\n",
      "  d:\\mypython\\micropython-stubber\\repos\\micropython-stubs\\stubs\\micropython-v1_23_0-docstubs\\machine\\SPI.pyi:\u001b[33m93\u001b[39m:\u001b[33m15\u001b[39m - \u001b[36mwarning\u001b[39m: \"Pin\" is not defined\u001b[90m (reportUndefinedVariable)\u001b[39m\n",
      "  d:\\mypython\\micropython-stubber\\repos\\micropython-stubs\\stubs\\micropython-v1_23_0-docstubs\\machine\\SPI.pyi:\u001b[33m94\u001b[39m:\u001b[33m15\u001b[39m - \u001b[36mwarning\u001b[39m: \"Pin\" is not defined\u001b[90m (reportUndefinedVariable)\u001b[39m\n",
      "  d:\\mypython\\micropython-stubber\\repos\\micropython-stubs\\stubs\\micropython-v1_23_0-docstubs\\machine\\SPI.pyi:\u001b[33m118\u001b[39m:\u001b[33m21\u001b[39m - \u001b[36mwarning\u001b[39m: \"Pin\" is not defined\u001b[90m (reportUndefinedVariable)\u001b[39m\n",
      "  d:\\mypython\\micropython-stubber\\repos\\micropython-stubs\\stubs\\micropython-v1_23_0-docstubs\\machine\\SPI.pyi:\u001b[33m118\u001b[39m:\u001b[33m26\u001b[39m - \u001b[36mwarning\u001b[39m: \"Pin\" is not defined\u001b[90m (reportUndefinedVariable)\u001b[39m\n",
      "  d:\\mypython\\micropython-stubber\\repos\\micropython-stubs\\stubs\\micropython-v1_23_0-docstubs\\machine\\SPI.pyi:\u001b[33m118\u001b[39m:\u001b[33m31\u001b[39m - \u001b[36mwarning\u001b[39m: \"Pin\" is not defined\u001b[90m (reportUndefinedVariable)\u001b[39m\n",
      "  d:\\mypython\\micropython-stubber\\repos\\micropython-stubs\\stubs\\micropython-v1_23_0-docstubs\\machine\\SPI.pyi:\u001b[33m140\u001b[39m:\u001b[33m14\u001b[39m - \u001b[36mwarning\u001b[39m: \"Pin\" is not defined\u001b[90m (reportUndefinedVariable)\u001b[39m\n",
      "  d:\\mypython\\micropython-stubber\\repos\\micropython-stubs\\stubs\\micropython-v1_23_0-docstubs\\machine\\SPI.pyi:\u001b[33m141\u001b[39m:\u001b[33m15\u001b[39m - \u001b[36mwarning\u001b[39m: \"Pin\" is not defined\u001b[90m (reportUndefinedVariable)\u001b[39m\n",
      "  d:\\mypython\\micropython-stubber\\repos\\micropython-stubs\\stubs\\micropython-v1_23_0-docstubs\\machine\\SPI.pyi:\u001b[33m142\u001b[39m:\u001b[33m15\u001b[39m - \u001b[36mwarning\u001b[39m: \"Pin\" is not defined\u001b[90m (reportUndefinedVariable)\u001b[39m\n",
      "  d:\\mypython\\micropython-stubber\\repos\\micropython-stubs\\stubs\\micropython-v1_23_0-docstubs\\machine\\SPI.pyi:\u001b[33m175\u001b[39m:\u001b[33m21\u001b[39m - \u001b[36mwarning\u001b[39m: \"Pin\" is not defined\u001b[90m (reportUndefinedVariable)\u001b[39m\n",
      "  d:\\mypython\\micropython-stubber\\repos\\micropython-stubs\\stubs\\micropython-v1_23_0-docstubs\\machine\\SPI.pyi:\u001b[33m175\u001b[39m:\u001b[33m26\u001b[39m - \u001b[36mwarning\u001b[39m: \"Pin\" is not defined\u001b[90m (reportUndefinedVariable)\u001b[39m\n",
      "  d:\\mypython\\micropython-stubber\\repos\\micropython-stubs\\stubs\\micropython-v1_23_0-docstubs\\machine\\SPI.pyi:\u001b[33m175\u001b[39m:\u001b[33m31\u001b[39m - \u001b[36mwarning\u001b[39m: \"Pin\" is not defined\u001b[90m (reportUndefinedVariable)\u001b[39m\n",
      "d:\\mypython\\micropython-stubber\\repos\\micropython-stubs\\stubs\\micropython-v1_23_0-docstubs\\machine\\Signal.pyi\n",
      "  d:\\mypython\\micropython-stubber\\repos\\micropython-stubs\\stubs\\micropython-v1_23_0-docstubs\\machine\\Signal.pyi:\u001b[33m5\u001b[39m:\u001b[33m23\u001b[39m - \u001b[31merror\u001b[39m: \"AbstractBlockDev\" is unknown import symbol\u001b[90m (reportAttributeAccessIssue)\u001b[39m\n",
      "  d:\\mypython\\micropython-stubber\\repos\\micropython-stubs\\stubs\\micropython-v1_23_0-docstubs\\machine\\Signal.pyi:\u001b[33m5\u001b[39m:\u001b[33m41\u001b[39m - \u001b[31merror\u001b[39m: \"AnyReadableBuf\" is unknown import symbol\u001b[90m (reportAttributeAccessIssue)\u001b[39m\n",
      "  d:\\mypython\\micropython-stubber\\repos\\micropython-stubs\\stubs\\micropython-v1_23_0-docstubs\\machine\\Signal.pyi:\u001b[33m5\u001b[39m:\u001b[33m57\u001b[39m - \u001b[31merror\u001b[39m: \"AnyWritableBuf\" is unknown import symbol\u001b[90m (reportAttributeAccessIssue)\u001b[39m\n",
      "d:\\mypython\\micropython-stubber\\repos\\micropython-stubs\\stubs\\micropython-v1_23_0-docstubs\\machine\\Timer.pyi\n",
      "  d:\\mypython\\micropython-stubber\\repos\\micropython-stubs\\stubs\\micropython-v1_23_0-docstubs\\machine\\Timer.pyi:\u001b[33m4\u001b[39m:\u001b[33m23\u001b[39m - \u001b[31merror\u001b[39m: \"AbstractBlockDev\" is unknown import symbol\u001b[90m (reportAttributeAccessIssue)\u001b[39m\n",
      "  d:\\mypython\\micropython-stubber\\repos\\micropython-stubs\\stubs\\micropython-v1_23_0-docstubs\\machine\\Timer.pyi:\u001b[33m4\u001b[39m:\u001b[33m41\u001b[39m - \u001b[31merror\u001b[39m: \"AnyReadableBuf\" is unknown import symbol\u001b[90m (reportAttributeAccessIssue)\u001b[39m\n",
      "  d:\\mypython\\micropython-stubber\\repos\\micropython-stubs\\stubs\\micropython-v1_23_0-docstubs\\machine\\Timer.pyi:\u001b[33m4\u001b[39m:\u001b[33m57\u001b[39m - \u001b[31merror\u001b[39m: \"AnyWritableBuf\" is unknown import symbol\u001b[90m (reportAttributeAccessIssue)\u001b[39m\n",
      "  d:\\mypython\\micropython-stubber\\repos\\micropython-stubs\\stubs\\micropython-v1_23_0-docstubs\\machine\\Timer.pyi:\u001b[33m53\u001b[39m:\u001b[33m19\u001b[39m - \u001b[36mwarning\u001b[39m: \"Callable\" is not defined\u001b[90m (reportUndefinedVariable)\u001b[39m\n",
      "d:\\mypython\\micropython-stubber\\repos\\micropython-stubs\\stubs\\micropython-v1_23_0-docstubs\\machine\\TimerWiPy.pyi\n",
      "  d:\\mypython\\micropython-stubber\\repos\\micropython-stubs\\stubs\\micropython-v1_23_0-docstubs\\machine\\TimerWiPy.pyi:\u001b[33m5\u001b[39m:\u001b[33m23\u001b[39m - \u001b[31merror\u001b[39m: \"AbstractBlockDev\" is unknown import symbol\u001b[90m (reportAttributeAccessIssue)\u001b[39m\n",
      "  d:\\mypython\\micropython-stubber\\repos\\micropython-stubs\\stubs\\micropython-v1_23_0-docstubs\\machine\\TimerWiPy.pyi:\u001b[33m5\u001b[39m:\u001b[33m41\u001b[39m - \u001b[31merror\u001b[39m: \"AnyReadableBuf\" is unknown import symbol\u001b[90m (reportAttributeAccessIssue)\u001b[39m\n",
      "  d:\\mypython\\micropython-stubber\\repos\\micropython-stubs\\stubs\\micropython-v1_23_0-docstubs\\machine\\TimerWiPy.pyi:\u001b[33m5\u001b[39m:\u001b[33m57\u001b[39m - \u001b[31merror\u001b[39m: \"AnyWritableBuf\" is unknown import symbol\u001b[90m (reportAttributeAccessIssue)\u001b[39m\n",
      "  d:\\mypython\\micropython-stubber\\repos\\micropython-stubs\\stubs\\micropython-v1_23_0-docstubs\\machine\\TimerWiPy.pyi:\u001b[33m47\u001b[39m:\u001b[33m58\u001b[39m - \u001b[36mwarning\u001b[39m: \"POSITIVE\" is not defined\u001b[90m (reportUndefinedVariable)\u001b[39m\n",
      "d:\\mypython\\micropython-stubber\\repos\\micropython-stubs\\stubs\\micropython-v1_23_0-docstubs\\machine\\UART.pyi\n",
      "  d:\\mypython\\micropython-stubber\\repos\\micropython-stubs\\stubs\\micropython-v1_23_0-docstubs\\machine\\UART.pyi:\u001b[33m5\u001b[39m:\u001b[33m23\u001b[39m - \u001b[31merror\u001b[39m: \"AbstractBlockDev\" is unknown import symbol\u001b[90m (reportAttributeAccessIssue)\u001b[39m\n",
      "  d:\\mypython\\micropython-stubber\\repos\\micropython-stubs\\stubs\\micropython-v1_23_0-docstubs\\machine\\UART.pyi:\u001b[33m5\u001b[39m:\u001b[33m41\u001b[39m - \u001b[31merror\u001b[39m: \"AnyReadableBuf\" is unknown import symbol\u001b[90m (reportAttributeAccessIssue)\u001b[39m\n",
      "  d:\\mypython\\micropython-stubber\\repos\\micropython-stubs\\stubs\\micropython-v1_23_0-docstubs\\machine\\UART.pyi:\u001b[33m5\u001b[39m:\u001b[33m57\u001b[39m - \u001b[31merror\u001b[39m: \"AnyWritableBuf\" is unknown import symbol\u001b[90m (reportAttributeAccessIssue)\u001b[39m\n",
      "  d:\\mypython\\micropython-stubber\\repos\\micropython-stubs\\stubs\\micropython-v1_23_0-docstubs\\machine\\UART.pyi:\u001b[33m57\u001b[39m:\u001b[33m13\u001b[39m - \u001b[36mwarning\u001b[39m: \"Pin\" is not defined\u001b[90m (reportUndefinedVariable)\u001b[39m\n",
      "  d:\\mypython\\micropython-stubber\\repos\\micropython-stubs\\stubs\\micropython-v1_23_0-docstubs\\machine\\UART.pyi:\u001b[33m58\u001b[39m:\u001b[33m13\u001b[39m - \u001b[36mwarning\u001b[39m: \"Pin\" is not defined\u001b[90m (reportUndefinedVariable)\u001b[39m\n",
      "  d:\\mypython\\micropython-stubber\\repos\\micropython-stubs\\stubs\\micropython-v1_23_0-docstubs\\machine\\UART.pyi:\u001b[33m79\u001b[39m:\u001b[33m21\u001b[39m - \u001b[36mwarning\u001b[39m: \"Pin\" is not defined\u001b[90m (reportUndefinedVariable)\u001b[39m\n",
      "  d:\\mypython\\micropython-stubber\\repos\\micropython-stubs\\stubs\\micropython-v1_23_0-docstubs\\machine\\UART.pyi:\u001b[33m79\u001b[39m:\u001b[33m26\u001b[39m - \u001b[36mwarning\u001b[39m: \"Pin\" is not defined\u001b[90m (reportUndefinedVariable)\u001b[39m\n",
      "  d:\\mypython\\micropython-stubber\\repos\\micropython-stubs\\stubs\\micropython-v1_23_0-docstubs\\machine\\UART.pyi:\u001b[33m95\u001b[39m:\u001b[33m21\u001b[39m - \u001b[36mwarning\u001b[39m: \"Pin\" is not defined\u001b[90m (reportUndefinedVariable)\u001b[39m\n",
      "  d:\\mypython\\micropython-stubber\\repos\\micropython-stubs\\stubs\\micropython-v1_23_0-docstubs\\machine\\UART.pyi:\u001b[33m95\u001b[39m:\u001b[33m26\u001b[39m - \u001b[36mwarning\u001b[39m: \"Pin\" is not defined\u001b[90m (reportUndefinedVariable)\u001b[39m\n",
      "  d:\\mypython\\micropython-stubber\\repos\\micropython-stubs\\stubs\\micropython-v1_23_0-docstubs\\machine\\UART.pyi:\u001b[33m95\u001b[39m:\u001b[33m31\u001b[39m - \u001b[36mwarning\u001b[39m: \"Pin\" is not defined\u001b[90m (reportUndefinedVariable)\u001b[39m\n",
      "  d:\\mypython\\micropython-stubber\\repos\\micropython-stubs\\stubs\\micropython-v1_23_0-docstubs\\machine\\UART.pyi:\u001b[33m95\u001b[39m:\u001b[33m36\u001b[39m - \u001b[36mwarning\u001b[39m: \"Pin\" is not defined\u001b[90m (reportUndefinedVariable)\u001b[39m\n",
      "  d:\\mypython\\micropython-stubber\\repos\\micropython-stubs\\stubs\\micropython-v1_23_0-docstubs\\machine\\UART.pyi:\u001b[33m110\u001b[39m:\u001b[33m13\u001b[39m - \u001b[36mwarning\u001b[39m: \"Pin\" is not defined\u001b[90m (reportUndefinedVariable)\u001b[39m\n",
      "  d:\\mypython\\micropython-stubber\\repos\\micropython-stubs\\stubs\\micropython-v1_23_0-docstubs\\machine\\UART.pyi:\u001b[33m111\u001b[39m:\u001b[33m13\u001b[39m - \u001b[36mwarning\u001b[39m: \"Pin\" is not defined\u001b[90m (reportUndefinedVariable)\u001b[39m\n",
      "  d:\\mypython\\micropython-stubber\\repos\\micropython-stubs\\stubs\\micropython-v1_23_0-docstubs\\machine\\UART.pyi:\u001b[33m179\u001b[39m:\u001b[33m21\u001b[39m - \u001b[36mwarning\u001b[39m: \"Pin\" is not defined\u001b[90m (reportUndefinedVariable)\u001b[39m\n",
      "  d:\\mypython\\micropython-stubber\\repos\\micropython-stubs\\stubs\\micropython-v1_23_0-docstubs\\machine\\UART.pyi:\u001b[33m179\u001b[39m:\u001b[33m26\u001b[39m - \u001b[36mwarning\u001b[39m: \"Pin\" is not defined\u001b[90m (reportUndefinedVariable)\u001b[39m\n",
      "  d:\\mypython\\micropython-stubber\\repos\\micropython-stubs\\stubs\\micropython-v1_23_0-docstubs\\machine\\UART.pyi:\u001b[33m242\u001b[39m:\u001b[33m21\u001b[39m - \u001b[36mwarning\u001b[39m: \"Pin\" is not defined\u001b[90m (reportUndefinedVariable)\u001b[39m\n",
      "  d:\\mypython\\micropython-stubber\\repos\\micropython-stubs\\stubs\\micropython-v1_23_0-docstubs\\machine\\UART.pyi:\u001b[33m242\u001b[39m:\u001b[33m26\u001b[39m - \u001b[36mwarning\u001b[39m: \"Pin\" is not defined\u001b[90m (reportUndefinedVariable)\u001b[39m\n",
      "  d:\\mypython\\micropython-stubber\\repos\\micropython-stubs\\stubs\\micropython-v1_23_0-docstubs\\machine\\UART.pyi:\u001b[33m242\u001b[39m:\u001b[33m31\u001b[39m - \u001b[36mwarning\u001b[39m: \"Pin\" is not defined\u001b[90m (reportUndefinedVariable)\u001b[39m\n",
      "  d:\\mypython\\micropython-stubber\\repos\\micropython-stubs\\stubs\\micropython-v1_23_0-docstubs\\machine\\UART.pyi:\u001b[33m242\u001b[39m:\u001b[33m36\u001b[39m - \u001b[36mwarning\u001b[39m: \"Pin\" is not defined\u001b[90m (reportUndefinedVariable)\u001b[39m\n",
      "d:\\mypython\\micropython-stubber\\repos\\micropython-stubs\\stubs\\micropython-v1_23_0-docstubs\\machine\\USBDevice.pyi\n",
      "  d:\\mypython\\micropython-stubber\\repos\\micropython-stubs\\stubs\\micropython-v1_23_0-docstubs\\machine\\USBDevice.pyi:\u001b[33m5\u001b[39m:\u001b[33m23\u001b[39m - \u001b[31merror\u001b[39m: \"AbstractBlockDev\" is unknown import symbol\u001b[90m (reportAttributeAccessIssue)\u001b[39m\n",
      "  d:\\mypython\\micropython-stubber\\repos\\micropython-stubs\\stubs\\micropython-v1_23_0-docstubs\\machine\\USBDevice.pyi:\u001b[33m5\u001b[39m:\u001b[33m41\u001b[39m - \u001b[31merror\u001b[39m: \"AnyReadableBuf\" is unknown import symbol\u001b[90m (reportAttributeAccessIssue)\u001b[39m\n",
      "  d:\\mypython\\micropython-stubber\\repos\\micropython-stubs\\stubs\\micropython-v1_23_0-docstubs\\machine\\USBDevice.pyi:\u001b[33m5\u001b[39m:\u001b[33m57\u001b[39m - \u001b[31merror\u001b[39m: \"AnyWritableBuf\" is unknown import symbol\u001b[90m (reportAttributeAccessIssue)\u001b[39m\n",
      "d:\\mypython\\micropython-stubber\\repos\\micropython-stubs\\stubs\\micropython-v1_23_0-docstubs\\machine\\WDT.pyi\n",
      "  d:\\mypython\\micropython-stubber\\repos\\micropython-stubs\\stubs\\micropython-v1_23_0-docstubs\\machine\\WDT.pyi:\u001b[33m4\u001b[39m:\u001b[33m23\u001b[39m - \u001b[31merror\u001b[39m: \"AbstractBlockDev\" is unknown import symbol\u001b[90m (reportAttributeAccessIssue)\u001b[39m\n",
      "  d:\\mypython\\micropython-stubber\\repos\\micropython-stubs\\stubs\\micropython-v1_23_0-docstubs\\machine\\WDT.pyi:\u001b[33m4\u001b[39m:\u001b[33m41\u001b[39m - \u001b[31merror\u001b[39m: \"AnyReadableBuf\" is unknown import symbol\u001b[90m (reportAttributeAccessIssue)\u001b[39m\n",
      "  d:\\mypython\\micropython-stubber\\repos\\micropython-stubs\\stubs\\micropython-v1_23_0-docstubs\\machine\\WDT.pyi:\u001b[33m4\u001b[39m:\u001b[33m57\u001b[39m - \u001b[31merror\u001b[39m: \"AnyWritableBuf\" is unknown import symbol\u001b[90m (reportAttributeAccessIssue)\u001b[39m\n",
      "d:\\mypython\\micropython-stubber\\repos\\micropython-stubs\\stubs\\micropython-v1_23_0-docstubs\\machine\\__init__.pyi\n",
      "  d:\\mypython\\micropython-stubber\\repos\\micropython-stubs\\stubs\\micropython-v1_23_0-docstubs\\machine\\__init__.pyi:\u001b[33m18\u001b[39m:\u001b[33m23\u001b[39m - \u001b[31merror\u001b[39m: \"AbstractBlockDev\" is unknown import symbol\u001b[90m (reportAttributeAccessIssue)\u001b[39m\n",
      "  d:\\mypython\\micropython-stubber\\repos\\micropython-stubs\\stubs\\micropython-v1_23_0-docstubs\\machine\\__init__.pyi:\u001b[33m18\u001b[39m:\u001b[33m41\u001b[39m - \u001b[31merror\u001b[39m: \"AnyReadableBuf\" is unknown import symbol\u001b[90m (reportAttributeAccessIssue)\u001b[39m\n",
      "  d:\\mypython\\micropython-stubber\\repos\\micropython-stubs\\stubs\\micropython-v1_23_0-docstubs\\machine\\__init__.pyi:\u001b[33m18\u001b[39m:\u001b[33m57\u001b[39m - \u001b[31merror\u001b[39m: \"AnyWritableBuf\" is unknown import symbol\u001b[90m (reportAttributeAccessIssue)\u001b[39m\n",
      "d:\\mypython\\micropython-stubber\\repos\\micropython-stubs\\stubs\\micropython-v1_23_0-docstubs\\neopixel\\__init__.pyi\n",
      "  d:\\mypython\\micropython-stubber\\repos\\micropython-stubs\\stubs\\micropython-v1_23_0-docstubs\\neopixel\\__init__.pyi:\u001b[33m17\u001b[39m:\u001b[33m20\u001b[39m - \u001b[31merror\u001b[39m: \"TypeAlias\" is unknown import symbol\u001b[90m (reportAttributeAccessIssue)\u001b[39m\n",
      "d:\\mypython\\micropython-stubber\\repos\\micropython-stubs\\stubs\\micropython-v1_23_0-docstubs\\openamp\\__init__.pyi\n",
      "  d:\\mypython\\micropython-stubber\\repos\\micropython-stubs\\stubs\\micropython-v1_23_0-docstubs\\openamp\\__init__.pyi:\u001b[33m55\u001b[39m:\u001b[33m44\u001b[39m - \u001b[36mwarning\u001b[39m: \"ENDPOINT_ADDR_ANY\" is not defined\u001b[90m (reportUndefinedVariable)\u001b[39m\n",
      "  d:\\mypython\\micropython-stubber\\repos\\micropython-stubs\\stubs\\micropython-v1_23_0-docstubs\\openamp\\__init__.pyi:\u001b[33m55\u001b[39m:\u001b[33m68\u001b[39m - \u001b[36mwarning\u001b[39m: \"ENDPOINT_ADDR_ANY\" is not defined\u001b[90m (reportUndefinedVariable)\u001b[39m\n",
      "d:\\mypython\\micropython-stubber\\repos\\micropython-stubs\\stubs\\micropython-v1_23_0-docstubs\\os\\__init__.pyi\n",
      "  d:\\mypython\\micropython-stubber\\repos\\micropython-stubs\\stubs\\micropython-v1_23_0-docstubs\\os\\__init__.pyi:\u001b[33m28\u001b[39m:\u001b[33m5\u001b[39m - \u001b[31merror\u001b[39m: \"AbstractBlockDev\" is unknown import symbol\u001b[90m (reportAttributeAccessIssue)\u001b[39m\n",
      "  d:\\mypython\\micropython-stubber\\repos\\micropython-stubs\\stubs\\micropython-v1_23_0-docstubs\\os\\__init__.pyi:\u001b[33m29\u001b[39m:\u001b[33m5\u001b[39m - \u001b[31merror\u001b[39m: \"_AnyPath\" is unknown import symbol\u001b[90m (reportAttributeAccessIssue)\u001b[39m\n",
      "  d:\\mypython\\micropython-stubber\\repos\\micropython-stubs\\stubs\\micropython-v1_23_0-docstubs\\os\\__init__.pyi:\u001b[33m30\u001b[39m:\u001b[33m5\u001b[39m - \u001b[31merror\u001b[39m: \"_FdOrAnyPath\" is unknown import symbol\u001b[90m (reportAttributeAccessIssue)\u001b[39m\n",
      "  d:\\mypython\\micropython-stubber\\repos\\micropython-stubs\\stubs\\micropython-v1_23_0-docstubs\\os\\__init__.pyi:\u001b[33m31\u001b[39m:\u001b[33m5\u001b[39m - \u001b[31merror\u001b[39m: \"_StrOrBytesT\" is unknown import symbol\u001b[90m (reportAttributeAccessIssue)\u001b[39m\n",
      "  d:\\mypython\\micropython-stubber\\repos\\micropython-stubs\\stubs\\micropython-v1_23_0-docstubs\\os\\__init__.pyi:\u001b[33m66\u001b[39m:\u001b[33m16\u001b[39m - \u001b[36mwarning\u001b[39m: \"uname_result\" is not defined\u001b[90m (reportUndefinedVariable)\u001b[39m\n",
      "d:\\mypython\\micropython-stubber\\repos\\micropython-stubs\\stubs\\micropython-v1_23_0-docstubs\\pyb\\ADC.pyi\n",
      "  d:\\mypython\\micropython-stubber\\repos\\micropython-stubs\\stubs\\micropython-v1_23_0-docstubs\\pyb\\ADC.pyi:\u001b[33m4\u001b[39m:\u001b[33m23\u001b[39m - \u001b[31merror\u001b[39m: \"AbstractBlockDev\" is unknown import symbol\u001b[90m (reportAttributeAccessIssue)\u001b[39m\n",
      "  d:\\mypython\\micropython-stubber\\repos\\micropython-stubs\\stubs\\micropython-v1_23_0-docstubs\\pyb\\ADC.pyi:\u001b[33m4\u001b[39m:\u001b[33m41\u001b[39m - \u001b[31merror\u001b[39m: \"AnyReadableBuf\" is unknown import symbol\u001b[90m (reportAttributeAccessIssue)\u001b[39m\n",
      "  d:\\mypython\\micropython-stubber\\repos\\micropython-stubs\\stubs\\micropython-v1_23_0-docstubs\\pyb\\ADC.pyi:\u001b[33m4\u001b[39m:\u001b[33m57\u001b[39m - \u001b[31merror\u001b[39m: \"AnyWritableBuf\" is unknown import symbol\u001b[90m (reportAttributeAccessIssue)\u001b[39m\n",
      "d:\\mypython\\micropython-stubber\\repos\\micropython-stubs\\stubs\\micropython-v1_23_0-docstubs\\pyb\\Accel.pyi\n",
      "  d:\\mypython\\micropython-stubber\\repos\\micropython-stubs\\stubs\\micropython-v1_23_0-docstubs\\pyb\\Accel.pyi:\u001b[33m15\u001b[39m:\u001b[33m23\u001b[39m - \u001b[31merror\u001b[39m: \"AbstractBlockDev\" is unknown import symbol\u001b[90m (reportAttributeAccessIssue)\u001b[39m\n",
      "  d:\\mypython\\micropython-stubber\\repos\\micropython-stubs\\stubs\\micropython-v1_23_0-docstubs\\pyb\\Accel.pyi:\u001b[33m15\u001b[39m:\u001b[33m41\u001b[39m - \u001b[31merror\u001b[39m: \"AnyReadableBuf\" is unknown import symbol\u001b[90m (reportAttributeAccessIssue)\u001b[39m\n",
      "  d:\\mypython\\micropython-stubber\\repos\\micropython-stubs\\stubs\\micropython-v1_23_0-docstubs\\pyb\\Accel.pyi:\u001b[33m15\u001b[39m:\u001b[33m57\u001b[39m - \u001b[31merror\u001b[39m: \"AnyWritableBuf\" is unknown import symbol\u001b[90m (reportAttributeAccessIssue)\u001b[39m\n",
      "d:\\mypython\\micropython-stubber\\repos\\micropython-stubs\\stubs\\micropython-v1_23_0-docstubs\\pyb\\CAN.pyi\n",
      "  d:\\mypython\\micropython-stubber\\repos\\micropython-stubs\\stubs\\micropython-v1_23_0-docstubs\\pyb\\CAN.pyi:\u001b[33m16\u001b[39m:\u001b[33m23\u001b[39m - \u001b[31merror\u001b[39m: \"AbstractBlockDev\" is unknown import symbol\u001b[90m (reportAttributeAccessIssue)\u001b[39m\n",
      "  d:\\mypython\\micropython-stubber\\repos\\micropython-stubs\\stubs\\micropython-v1_23_0-docstubs\\pyb\\CAN.pyi:\u001b[33m16\u001b[39m:\u001b[33m41\u001b[39m - \u001b[31merror\u001b[39m: \"AnyReadableBuf\" is unknown import symbol\u001b[90m (reportAttributeAccessIssue)\u001b[39m\n",
      "  d:\\mypython\\micropython-stubber\\repos\\micropython-stubs\\stubs\\micropython-v1_23_0-docstubs\\pyb\\CAN.pyi:\u001b[33m16\u001b[39m:\u001b[33m57\u001b[39m - \u001b[31merror\u001b[39m: \"AnyWritableBuf\" is unknown import symbol\u001b[90m (reportAttributeAccessIssue)\u001b[39m\n",
      "  d:\\mypython\\micropython-stubber\\repos\\micropython-stubs\\stubs\\micropython-v1_23_0-docstubs\\pyb\\CAN.pyi:\u001b[33m80\u001b[39m:\u001b[33m18\u001b[39m - \u001b[36mwarning\u001b[39m: \"MSB\" is not defined\u001b[90m (reportUndefinedVariable)\u001b[39m\n",
      "d:\\mypython\\micropython-stubber\\repos\\micropython-stubs\\stubs\\micropython-v1_23_0-docstubs\\pyb\\DAC.pyi\n",
      "  d:\\mypython\\micropython-stubber\\repos\\micropython-stubs\\stubs\\micropython-v1_23_0-docstubs\\pyb\\DAC.pyi:\u001b[33m4\u001b[39m:\u001b[33m23\u001b[39m - \u001b[31merror\u001b[39m: \"AbstractBlockDev\" is unknown import symbol\u001b[90m (reportAttributeAccessIssue)\u001b[39m\n",
      "  d:\\mypython\\micropython-stubber\\repos\\micropython-stubs\\stubs\\micropython-v1_23_0-docstubs\\pyb\\DAC.pyi:\u001b[33m4\u001b[39m:\u001b[33m41\u001b[39m - \u001b[31merror\u001b[39m: \"AnyReadableBuf\" is unknown import symbol\u001b[90m (reportAttributeAccessIssue)\u001b[39m\n",
      "  d:\\mypython\\micropython-stubber\\repos\\micropython-stubs\\stubs\\micropython-v1_23_0-docstubs\\pyb\\DAC.pyi:\u001b[33m4\u001b[39m:\u001b[33m57\u001b[39m - \u001b[31merror\u001b[39m: \"AnyWritableBuf\" is unknown import symbol\u001b[90m (reportAttributeAccessIssue)\u001b[39m\n",
      "d:\\mypython\\micropython-stubber\\repos\\micropython-stubs\\stubs\\micropython-v1_23_0-docstubs\\pyb\\ExtInt.pyi\n",
      "  d:\\mypython\\micropython-stubber\\repos\\micropython-stubs\\stubs\\micropython-v1_23_0-docstubs\\pyb\\ExtInt.pyi:\u001b[33m4\u001b[39m:\u001b[33m23\u001b[39m - \u001b[31merror\u001b[39m: \"AbstractBlockDev\" is unknown import symbol\u001b[90m (reportAttributeAccessIssue)\u001b[39m\n",
      "  d:\\mypython\\micropython-stubber\\repos\\micropython-stubs\\stubs\\micropython-v1_23_0-docstubs\\pyb\\ExtInt.pyi:\u001b[33m4\u001b[39m:\u001b[33m41\u001b[39m - \u001b[31merror\u001b[39m: \"AnyReadableBuf\" is unknown import symbol\u001b[90m (reportAttributeAccessIssue)\u001b[39m\n",
      "  d:\\mypython\\micropython-stubber\\repos\\micropython-stubs\\stubs\\micropython-v1_23_0-docstubs\\pyb\\ExtInt.pyi:\u001b[33m4\u001b[39m:\u001b[33m57\u001b[39m - \u001b[31merror\u001b[39m: \"AnyWritableBuf\" is unknown import symbol\u001b[90m (reportAttributeAccessIssue)\u001b[39m\n",
      "d:\\mypython\\micropython-stubber\\repos\\micropython-stubs\\stubs\\micropython-v1_23_0-docstubs\\pyb\\Flash.pyi\n",
      "  d:\\mypython\\micropython-stubber\\repos\\micropython-stubs\\stubs\\micropython-v1_23_0-docstubs\\pyb\\Flash.pyi:\u001b[33m15\u001b[39m:\u001b[33m23\u001b[39m - \u001b[31merror\u001b[39m: \"AbstractBlockDev\" is unknown import symbol\u001b[90m (reportAttributeAccessIssue)\u001b[39m\n",
      "  d:\\mypython\\micropython-stubber\\repos\\micropython-stubs\\stubs\\micropython-v1_23_0-docstubs\\pyb\\Flash.pyi:\u001b[33m15\u001b[39m:\u001b[33m41\u001b[39m - \u001b[31merror\u001b[39m: \"AnyReadableBuf\" is unknown import symbol\u001b[90m (reportAttributeAccessIssue)\u001b[39m\n",
      "  d:\\mypython\\micropython-stubber\\repos\\micropython-stubs\\stubs\\micropython-v1_23_0-docstubs\\pyb\\Flash.pyi:\u001b[33m15\u001b[39m:\u001b[33m57\u001b[39m - \u001b[31merror\u001b[39m: \"AnyWritableBuf\" is unknown import symbol\u001b[90m (reportAttributeAccessIssue)\u001b[39m\n",
      "d:\\mypython\\micropython-stubber\\repos\\micropython-stubs\\stubs\\micropython-v1_23_0-docstubs\\pyb\\I2C.pyi\n",
      "  d:\\mypython\\micropython-stubber\\repos\\micropython-stubs\\stubs\\micropython-v1_23_0-docstubs\\pyb\\I2C.pyi:\u001b[33m15\u001b[39m:\u001b[33m23\u001b[39m - \u001b[31merror\u001b[39m: \"AbstractBlockDev\" is unknown import symbol\u001b[90m (reportAttributeAccessIssue)\u001b[39m\n",
      "  d:\\mypython\\micropython-stubber\\repos\\micropython-stubs\\stubs\\micropython-v1_23_0-docstubs\\pyb\\I2C.pyi:\u001b[33m15\u001b[39m:\u001b[33m41\u001b[39m - \u001b[31merror\u001b[39m: \"AnyReadableBuf\" is unknown import symbol\u001b[90m (reportAttributeAccessIssue)\u001b[39m\n",
      "  d:\\mypython\\micropython-stubber\\repos\\micropython-stubs\\stubs\\micropython-v1_23_0-docstubs\\pyb\\I2C.pyi:\u001b[33m15\u001b[39m:\u001b[33m57\u001b[39m - \u001b[31merror\u001b[39m: \"AnyWritableBuf\" is unknown import symbol\u001b[90m (reportAttributeAccessIssue)\u001b[39m\n",
      "  d:\\mypython\\micropython-stubber\\repos\\micropython-stubs\\stubs\\micropython-v1_23_0-docstubs\\pyb\\I2C.pyi:\u001b[33m86\u001b[39m:\u001b[33m18\u001b[39m - \u001b[36mwarning\u001b[39m: \"MSB\" is not defined\u001b[90m (reportUndefinedVariable)\u001b[39m\n",
      "d:\\mypython\\micropython-stubber\\repos\\micropython-stubs\\stubs\\micropython-v1_23_0-docstubs\\pyb\\LCD.pyi\n",
      "  d:\\mypython\\micropython-stubber\\repos\\micropython-stubs\\stubs\\micropython-v1_23_0-docstubs\\pyb\\LCD.pyi:\u001b[33m4\u001b[39m:\u001b[33m23\u001b[39m - \u001b[31merror\u001b[39m: \"AbstractBlockDev\" is unknown import symbol\u001b[90m (reportAttributeAccessIssue)\u001b[39m\n",
      "  d:\\mypython\\micropython-stubber\\repos\\micropython-stubs\\stubs\\micropython-v1_23_0-docstubs\\pyb\\LCD.pyi:\u001b[33m4\u001b[39m:\u001b[33m41\u001b[39m - \u001b[31merror\u001b[39m: \"AnyReadableBuf\" is unknown import symbol\u001b[90m (reportAttributeAccessIssue)\u001b[39m\n",
      "  d:\\mypython\\micropython-stubber\\repos\\micropython-stubs\\stubs\\micropython-v1_23_0-docstubs\\pyb\\LCD.pyi:\u001b[33m4\u001b[39m:\u001b[33m57\u001b[39m - \u001b[31merror\u001b[39m: \"AnyWritableBuf\" is unknown import symbol\u001b[90m (reportAttributeAccessIssue)\u001b[39m\n",
      "d:\\mypython\\micropython-stubber\\repos\\micropython-stubs\\stubs\\micropython-v1_23_0-docstubs\\pyb\\LED.pyi\n",
      "  d:\\mypython\\micropython-stubber\\repos\\micropython-stubs\\stubs\\micropython-v1_23_0-docstubs\\pyb\\LED.pyi:\u001b[33m15\u001b[39m:\u001b[33m23\u001b[39m - \u001b[31merror\u001b[39m: \"AbstractBlockDev\" is unknown import symbol\u001b[90m (reportAttributeAccessIssue)\u001b[39m\n",
      "  d:\\mypython\\micropython-stubber\\repos\\micropython-stubs\\stubs\\micropython-v1_23_0-docstubs\\pyb\\LED.pyi:\u001b[33m15\u001b[39m:\u001b[33m41\u001b[39m - \u001b[31merror\u001b[39m: \"AnyReadableBuf\" is unknown import symbol\u001b[90m (reportAttributeAccessIssue)\u001b[39m\n",
      "  d:\\mypython\\micropython-stubber\\repos\\micropython-stubs\\stubs\\micropython-v1_23_0-docstubs\\pyb\\LED.pyi:\u001b[33m15\u001b[39m:\u001b[33m57\u001b[39m - \u001b[31merror\u001b[39m: \"AnyWritableBuf\" is unknown import symbol\u001b[90m (reportAttributeAccessIssue)\u001b[39m\n",
      "d:\\mypython\\micropython-stubber\\repos\\micropython-stubs\\stubs\\micropython-v1_23_0-docstubs\\pyb\\Pin.pyi\n",
      "  d:\\mypython\\micropython-stubber\\repos\\micropython-stubs\\stubs\\micropython-v1_23_0-docstubs\\pyb\\Pin.pyi:\u001b[33m16\u001b[39m:\u001b[33m23\u001b[39m - \u001b[31merror\u001b[39m: \"AbstractBlockDev\" is unknown import symbol\u001b[90m (reportAttributeAccessIssue)\u001b[39m\n",
      "  d:\\mypython\\micropython-stubber\\repos\\micropython-stubs\\stubs\\micropython-v1_23_0-docstubs\\pyb\\Pin.pyi:\u001b[33m16\u001b[39m:\u001b[33m41\u001b[39m - \u001b[31merror\u001b[39m: \"AnyReadableBuf\" is unknown import symbol\u001b[90m (reportAttributeAccessIssue)\u001b[39m\n",
      "  d:\\mypython\\micropython-stubber\\repos\\micropython-stubs\\stubs\\micropython-v1_23_0-docstubs\\pyb\\Pin.pyi:\u001b[33m16\u001b[39m:\u001b[33m57\u001b[39m - \u001b[31merror\u001b[39m: \"AnyWritableBuf\" is unknown import symbol\u001b[90m (reportAttributeAccessIssue)\u001b[39m\n",
      "  d:\\mypython\\micropython-stubber\\repos\\micropython-stubs\\stubs\\micropython-v1_23_0-docstubs\\pyb\\Pin.pyi:\u001b[33m142\u001b[39m:\u001b[33m21\u001b[39m - \u001b[36mwarning\u001b[39m: \"Callable\" is not defined\u001b[90m (reportUndefinedVariable)\u001b[39m\n",
      "  d:\\mypython\\micropython-stubber\\repos\\micropython-stubs\\stubs\\micropython-v1_23_0-docstubs\\pyb\\Pin.pyi:\u001b[33m149\u001b[39m:\u001b[33m21\u001b[39m - \u001b[36mwarning\u001b[39m: \"Callable\" is not defined\u001b[90m (reportUndefinedVariable)\u001b[39m\n",
      "d:\\mypython\\micropython-stubber\\repos\\micropython-stubs\\stubs\\micropython-v1_23_0-docstubs\\pyb\\RTC.pyi\n",
      "  d:\\mypython\\micropython-stubber\\repos\\micropython-stubs\\stubs\\micropython-v1_23_0-docstubs\\pyb\\RTC.pyi:\u001b[33m16\u001b[39m:\u001b[33m23\u001b[39m - \u001b[31merror\u001b[39m: \"AbstractBlockDev\" is unknown import symbol\u001b[90m (reportAttributeAccessIssue)\u001b[39m\n",
      "  d:\\mypython\\micropython-stubber\\repos\\micropython-stubs\\stubs\\micropython-v1_23_0-docstubs\\pyb\\RTC.pyi:\u001b[33m16\u001b[39m:\u001b[33m41\u001b[39m - \u001b[31merror\u001b[39m: \"AnyReadableBuf\" is unknown import symbol\u001b[90m (reportAttributeAccessIssue)\u001b[39m\n",
      "  d:\\mypython\\micropython-stubber\\repos\\micropython-stubs\\stubs\\micropython-v1_23_0-docstubs\\pyb\\RTC.pyi:\u001b[33m16\u001b[39m:\u001b[33m57\u001b[39m - \u001b[31merror\u001b[39m: \"AnyWritableBuf\" is unknown import symbol\u001b[90m (reportAttributeAccessIssue)\u001b[39m\n",
      "d:\\mypython\\micropython-stubber\\repos\\micropython-stubs\\stubs\\micropython-v1_23_0-docstubs\\pyb\\SPI.pyi\n",
      "  d:\\mypython\\micropython-stubber\\repos\\micropython-stubs\\stubs\\micropython-v1_23_0-docstubs\\pyb\\SPI.pyi:\u001b[33m4\u001b[39m:\u001b[33m23\u001b[39m - \u001b[31merror\u001b[39m: \"AbstractBlockDev\" is unknown import symbol\u001b[90m (reportAttributeAccessIssue)\u001b[39m\n",
      "  d:\\mypython\\micropython-stubber\\repos\\micropython-stubs\\stubs\\micropython-v1_23_0-docstubs\\pyb\\SPI.pyi:\u001b[33m4\u001b[39m:\u001b[33m41\u001b[39m - \u001b[31merror\u001b[39m: \"AnyReadableBuf\" is unknown import symbol\u001b[90m (reportAttributeAccessIssue)\u001b[39m\n",
      "  d:\\mypython\\micropython-stubber\\repos\\micropython-stubs\\stubs\\micropython-v1_23_0-docstubs\\pyb\\SPI.pyi:\u001b[33m4\u001b[39m:\u001b[33m57\u001b[39m - \u001b[31merror\u001b[39m: \"AnyWritableBuf\" is unknown import symbol\u001b[90m (reportAttributeAccessIssue)\u001b[39m\n",
      "d:\\mypython\\micropython-stubber\\repos\\micropython-stubs\\stubs\\micropython-v1_23_0-docstubs\\pyb\\Servo.pyi\n",
      "  d:\\mypython\\micropython-stubber\\repos\\micropython-stubs\\stubs\\micropython-v1_23_0-docstubs\\pyb\\Servo.pyi:\u001b[33m16\u001b[39m:\u001b[33m23\u001b[39m - \u001b[31merror\u001b[39m: \"AbstractBlockDev\" is unknown import symbol\u001b[90m (reportAttributeAccessIssue)\u001b[39m\n",
      "  d:\\mypython\\micropython-stubber\\repos\\micropython-stubs\\stubs\\micropython-v1_23_0-docstubs\\pyb\\Servo.pyi:\u001b[33m16\u001b[39m:\u001b[33m41\u001b[39m - \u001b[31merror\u001b[39m: \"AnyReadableBuf\" is unknown import symbol\u001b[90m (reportAttributeAccessIssue)\u001b[39m\n",
      "  d:\\mypython\\micropython-stubber\\repos\\micropython-stubs\\stubs\\micropython-v1_23_0-docstubs\\pyb\\Servo.pyi:\u001b[33m16\u001b[39m:\u001b[33m57\u001b[39m - \u001b[31merror\u001b[39m: \"AnyWritableBuf\" is unknown import symbol\u001b[90m (reportAttributeAccessIssue)\u001b[39m\n",
      "d:\\mypython\\micropython-stubber\\repos\\micropython-stubs\\stubs\\micropython-v1_23_0-docstubs\\pyb\\Switch.pyi\n",
      "  d:\\mypython\\micropython-stubber\\repos\\micropython-stubs\\stubs\\micropython-v1_23_0-docstubs\\pyb\\Switch.pyi:\u001b[33m4\u001b[39m:\u001b[33m23\u001b[39m - \u001b[31merror\u001b[39m: \"AbstractBlockDev\" is unknown import symbol\u001b[90m (reportAttributeAccessIssue)\u001b[39m\n",
      "  d:\\mypython\\micropython-stubber\\repos\\micropython-stubs\\stubs\\micropython-v1_23_0-docstubs\\pyb\\Switch.pyi:\u001b[33m4\u001b[39m:\u001b[33m41\u001b[39m - \u001b[31merror\u001b[39m: \"AnyReadableBuf\" is unknown import symbol\u001b[90m (reportAttributeAccessIssue)\u001b[39m\n",
      "  d:\\mypython\\micropython-stubber\\repos\\micropython-stubs\\stubs\\micropython-v1_23_0-docstubs\\pyb\\Switch.pyi:\u001b[33m4\u001b[39m:\u001b[33m57\u001b[39m - \u001b[31merror\u001b[39m: \"AnyWritableBuf\" is unknown import symbol\u001b[90m (reportAttributeAccessIssue)\u001b[39m\n",
      "d:\\mypython\\micropython-stubber\\repos\\micropython-stubs\\stubs\\micropython-v1_23_0-docstubs\\pyb\\Timer.pyi\n",
      "  d:\\mypython\\micropython-stubber\\repos\\micropython-stubs\\stubs\\micropython-v1_23_0-docstubs\\pyb\\Timer.pyi:\u001b[33m5\u001b[39m:\u001b[33m23\u001b[39m - \u001b[31merror\u001b[39m: \"AbstractBlockDev\" is unknown import symbol\u001b[90m (reportAttributeAccessIssue)\u001b[39m\n",
      "  d:\\mypython\\micropython-stubber\\repos\\micropython-stubs\\stubs\\micropython-v1_23_0-docstubs\\pyb\\Timer.pyi:\u001b[33m5\u001b[39m:\u001b[33m41\u001b[39m - \u001b[31merror\u001b[39m: \"AnyReadableBuf\" is unknown import symbol\u001b[90m (reportAttributeAccessIssue)\u001b[39m\n",
      "  d:\\mypython\\micropython-stubber\\repos\\micropython-stubs\\stubs\\micropython-v1_23_0-docstubs\\pyb\\Timer.pyi:\u001b[33m5\u001b[39m:\u001b[33m57\u001b[39m - \u001b[31merror\u001b[39m: \"AnyWritableBuf\" is unknown import symbol\u001b[90m (reportAttributeAccessIssue)\u001b[39m\n",
      "  d:\\mypython\\micropython-stubber\\repos\\micropython-stubs\\stubs\\micropython-v1_23_0-docstubs\\pyb\\Timer.pyi:\u001b[33m258\u001b[39m:\u001b[33m43\u001b[39m - \u001b[36mwarning\u001b[39m: \"TimerChannel\" is not defined\u001b[90m (reportUndefinedVariable)\u001b[39m\n",
      "  d:\\mypython\\micropython-stubber\\repos\\micropython-stubs\\stubs\\micropython-v1_23_0-docstubs\\pyb\\Timer.pyi:\u001b[33m352\u001b[39m:\u001b[33m14\u001b[39m - \u001b[36mwarning\u001b[39m: \"Pin\" is not defined\u001b[90m (reportUndefinedVariable)\u001b[39m\n",
      "  d:\\mypython\\micropython-stubber\\repos\\micropython-stubs\\stubs\\micropython-v1_23_0-docstubs\\pyb\\Timer.pyi:\u001b[33m354\u001b[39m:\u001b[33m10\u001b[39m - \u001b[36mwarning\u001b[39m: \"TimerChannel\" is not defined\u001b[90m (reportUndefinedVariable)\u001b[39m\n",
      "  d:\\mypython\\micropython-stubber\\repos\\micropython-stubs\\stubs\\micropython-v1_23_0-docstubs\\pyb\\Timer.pyi:\u001b[33m448\u001b[39m:\u001b[33m14\u001b[39m - \u001b[36mwarning\u001b[39m: \"Pin\" is not defined\u001b[90m (reportUndefinedVariable)\u001b[39m\n",
      "  d:\\mypython\\micropython-stubber\\repos\\micropython-stubs\\stubs\\micropython-v1_23_0-docstubs\\pyb\\Timer.pyi:\u001b[33m450\u001b[39m:\u001b[33m10\u001b[39m - \u001b[36mwarning\u001b[39m: \"TimerChannel\" is not defined\u001b[90m (reportUndefinedVariable)\u001b[39m\n",
      "  d:\\mypython\\micropython-stubber\\repos\\micropython-stubs\\stubs\\micropython-v1_23_0-docstubs\\pyb\\Timer.pyi:\u001b[33m544\u001b[39m:\u001b[33m14\u001b[39m - \u001b[36mwarning\u001b[39m: \"Pin\" is not defined\u001b[90m (reportUndefinedVariable)\u001b[39m\n",
      "  d:\\mypython\\micropython-stubber\\repos\\micropython-stubs\\stubs\\micropython-v1_23_0-docstubs\\pyb\\Timer.pyi:\u001b[33m547\u001b[39m:\u001b[33m10\u001b[39m - \u001b[36mwarning\u001b[39m: \"TimerChannel\" is not defined\u001b[90m (reportUndefinedVariable)\u001b[39m\n",
      "  d:\\mypython\\micropython-stubber\\repos\\micropython-stubs\\stubs\\micropython-v1_23_0-docstubs\\pyb\\Timer.pyi:\u001b[33m641\u001b[39m:\u001b[33m14\u001b[39m - \u001b[36mwarning\u001b[39m: \"Pin\" is not defined\u001b[90m (reportUndefinedVariable)\u001b[39m\n",
      "  d:\\mypython\\micropython-stubber\\repos\\micropython-stubs\\stubs\\micropython-v1_23_0-docstubs\\pyb\\Timer.pyi:\u001b[33m643\u001b[39m:\u001b[33m10\u001b[39m - \u001b[36mwarning\u001b[39m: \"TimerChannel\" is not defined\u001b[90m (reportUndefinedVariable)\u001b[39m\n",
      "  d:\\mypython\\micropython-stubber\\repos\\micropython-stubs\\stubs\\micropython-v1_23_0-docstubs\\pyb\\Timer.pyi:\u001b[33m731\u001b[39m:\u001b[33m100\u001b[39m - \u001b[36mwarning\u001b[39m: \"Pin\" is not defined\u001b[90m (reportUndefinedVariable)\u001b[39m\n",
      "  d:\\mypython\\micropython-stubber\\repos\\micropython-stubs\\stubs\\micropython-v1_23_0-docstubs\\pyb\\Timer.pyi:\u001b[33m732\u001b[39m:\u001b[33m10\u001b[39m - \u001b[36mwarning\u001b[39m: \"TimerChannel\" is not defined\u001b[90m (reportUndefinedVariable)\u001b[39m\n",
      "d:\\mypython\\micropython-stubber\\repos\\micropython-stubs\\stubs\\micropython-v1_23_0-docstubs\\pyb\\UART.pyi\n",
      "  d:\\mypython\\micropython-stubber\\repos\\micropython-stubs\\stubs\\micropython-v1_23_0-docstubs\\pyb\\UART.pyi:\u001b[33m15\u001b[39m:\u001b[33m23\u001b[39m - \u001b[31merror\u001b[39m: \"AbstractBlockDev\" is unknown import symbol\u001b[90m (reportAttributeAccessIssue)\u001b[39m\n",
      "  d:\\mypython\\micropython-stubber\\repos\\micropython-stubs\\stubs\\micropython-v1_23_0-docstubs\\pyb\\UART.pyi:\u001b[33m15\u001b[39m:\u001b[33m41\u001b[39m - \u001b[31merror\u001b[39m: \"AnyReadableBuf\" is unknown import symbol\u001b[90m (reportAttributeAccessIssue)\u001b[39m\n",
      "  d:\\mypython\\micropython-stubber\\repos\\micropython-stubs\\stubs\\micropython-v1_23_0-docstubs\\pyb\\UART.pyi:\u001b[33m15\u001b[39m:\u001b[33m57\u001b[39m - \u001b[31merror\u001b[39m: \"AnyWritableBuf\" is unknown import symbol\u001b[90m (reportAttributeAccessIssue)\u001b[39m\n",
      "d:\\mypython\\micropython-stubber\\repos\\micropython-stubs\\stubs\\micropython-v1_23_0-docstubs\\pyb\\USB_HID.pyi\n",
      "  d:\\mypython\\micropython-stubber\\repos\\micropython-stubs\\stubs\\micropython-v1_23_0-docstubs\\pyb\\USB_HID.pyi:\u001b[33m4\u001b[39m:\u001b[33m23\u001b[39m - \u001b[31merror\u001b[39m: \"AbstractBlockDev\" is unknown import symbol\u001b[90m (reportAttributeAccessIssue)\u001b[39m\n",
      "  d:\\mypython\\micropython-stubber\\repos\\micropython-stubs\\stubs\\micropython-v1_23_0-docstubs\\pyb\\USB_HID.pyi:\u001b[33m4\u001b[39m:\u001b[33m41\u001b[39m - \u001b[31merror\u001b[39m: \"AnyReadableBuf\" is unknown import symbol\u001b[90m (reportAttributeAccessIssue)\u001b[39m\n",
      "  d:\\mypython\\micropython-stubber\\repos\\micropython-stubs\\stubs\\micropython-v1_23_0-docstubs\\pyb\\USB_HID.pyi:\u001b[33m4\u001b[39m:\u001b[33m57\u001b[39m - \u001b[31merror\u001b[39m: \"AnyWritableBuf\" is unknown import symbol\u001b[90m (reportAttributeAccessIssue)\u001b[39m\n",
      "d:\\mypython\\micropython-stubber\\repos\\micropython-stubs\\stubs\\micropython-v1_23_0-docstubs\\pyb\\USB_VCP.pyi\n",
      "  d:\\mypython\\micropython-stubber\\repos\\micropython-stubs\\stubs\\micropython-v1_23_0-docstubs\\pyb\\USB_VCP.pyi:\u001b[33m16\u001b[39m:\u001b[33m23\u001b[39m - \u001b[31merror\u001b[39m: \"AbstractBlockDev\" is unknown import symbol\u001b[90m (reportAttributeAccessIssue)\u001b[39m\n",
      "  d:\\mypython\\micropython-stubber\\repos\\micropython-stubs\\stubs\\micropython-v1_23_0-docstubs\\pyb\\USB_VCP.pyi:\u001b[33m16\u001b[39m:\u001b[33m41\u001b[39m - \u001b[31merror\u001b[39m: \"AnyReadableBuf\" is unknown import symbol\u001b[90m (reportAttributeAccessIssue)\u001b[39m\n",
      "  d:\\mypython\\micropython-stubber\\repos\\micropython-stubs\\stubs\\micropython-v1_23_0-docstubs\\pyb\\USB_VCP.pyi:\u001b[33m16\u001b[39m:\u001b[33m57\u001b[39m - \u001b[31merror\u001b[39m: \"AnyWritableBuf\" is unknown import symbol\u001b[90m (reportAttributeAccessIssue)\u001b[39m\n",
      "d:\\mypython\\micropython-stubber\\repos\\micropython-stubs\\stubs\\micropython-v1_23_0-docstubs\\pyb\\__init__.pyi\n",
      "  d:\\mypython\\micropython-stubber\\repos\\micropython-stubs\\stubs\\micropython-v1_23_0-docstubs\\pyb\\__init__.pyi:\u001b[33m24\u001b[39m:\u001b[33m23\u001b[39m - \u001b[31merror\u001b[39m: \"AbstractBlockDev\" is unknown import symbol\u001b[90m (reportAttributeAccessIssue)\u001b[39m\n",
      "  d:\\mypython\\micropython-stubber\\repos\\micropython-stubs\\stubs\\micropython-v1_23_0-docstubs\\pyb\\__init__.pyi:\u001b[33m24\u001b[39m:\u001b[33m41\u001b[39m - \u001b[31merror\u001b[39m: \"AnyReadableBuf\" is unknown import symbol\u001b[90m (reportAttributeAccessIssue)\u001b[39m\n",
      "  d:\\mypython\\micropython-stubber\\repos\\micropython-stubs\\stubs\\micropython-v1_23_0-docstubs\\pyb\\__init__.pyi:\u001b[33m24\u001b[39m:\u001b[33m57\u001b[39m - \u001b[31merror\u001b[39m: \"AnyWritableBuf\" is unknown import symbol\u001b[90m (reportAttributeAccessIssue)\u001b[39m\n",
      "  d:\\mypython\\micropython-stubber\\repos\\micropython-stubs\\stubs\\micropython-v1_23_0-docstubs\\pyb\\__init__.pyi:\u001b[33m523\u001b[39m:\u001b[33m13\u001b[39m - \u001b[36mwarning\u001b[39m: \"_OldAbstractReadOnlyBlockDev\" is not defined\u001b[90m (reportUndefinedVariable)\u001b[39m\n",
      "  d:\\mypython\\micropython-stubber\\repos\\micropython-stubs\\stubs\\micropython-v1_23_0-docstubs\\pyb\\__init__.pyi:\u001b[33m565\u001b[39m:\u001b[33m13\u001b[39m - \u001b[36mwarning\u001b[39m: \"_OldAbstractBlockDev\" is not defined\u001b[90m (reportUndefinedVariable)\u001b[39m\n",
      "  d:\\mypython\\micropython-stubber\\repos\\micropython-stubs\\stubs\\micropython-v1_23_0-docstubs\\pyb\\__init__.pyi:\u001b[33m682\u001b[39m:\u001b[33m45\u001b[39m - \u001b[31merror\u001b[39m: Expression of type \"int\" cannot be assigned to parameter of type \"tuple[int, int, int, int, bytes]\"\n",
      "    \"int\" is incompatible with \"tuple[int, int, int, int, bytes]\"\u001b[90m (reportArgumentType)\u001b[39m\n",
      "d:\\mypython\\micropython-stubber\\repos\\micropython-stubs\\stubs\\micropython-v1_23_0-docstubs\\rp2\\__init__.pyi\n",
      "  d:\\mypython\\micropython-stubber\\repos\\micropython-stubs\\stubs\\micropython-v1_23_0-docstubs\\rp2\\__init__.pyi:\u001b[33m44\u001b[39m:\u001b[33m19\u001b[39m - \u001b[31merror\u001b[39m: \"JOIN_NONE\" is not a known attribute of module \".PIO\"\u001b[90m (reportAttributeAccessIssue)\u001b[39m\n",
      "d:\\mypython\\micropython-stubber\\repos\\micropython-stubs\\stubs\\micropython-v1_23_0-docstubs\\socket\\__init__.pyi\n",
      "  d:\\mypython\\micropython-stubber\\repos\\micropython-stubs\\stubs\\micropython-v1_23_0-docstubs\\socket\\__init__.pyi:\u001b[33m68\u001b[39m:\u001b[33m36\u001b[39m - \u001b[31merror\u001b[39m: \"TypeAlias\" is unknown import symbol\u001b[90m (reportAttributeAccessIssue)\u001b[39m\n",
      "d:\\mypython\\micropython-stubber\\repos\\micropython-stubs\\stubs\\micropython-v1_23_0-docstubs\\ssl\\__init__.pyi\n",
      "  d:\\mypython\\micropython-stubber\\repos\\micropython-stubs\\stubs\\micropython-v1_23_0-docstubs\\ssl\\__init__.pyi:\u001b[33m19\u001b[39m:\u001b[33m17\u001b[39m - \u001b[31merror\u001b[39m: \"StrOrBytesPath\" is unknown import symbol\u001b[90m (reportAttributeAccessIssue)\u001b[39m\n",
      "  d:\\mypython\\micropython-stubber\\repos\\micropython-stubs\\stubs\\micropython-v1_23_0-docstubs\\ssl\\__init__.pyi:\u001b[33m20\u001b[39m:\u001b[33m21\u001b[39m - \u001b[31merror\u001b[39m: \"Socket\" is unknown import symbol\u001b[90m (reportAttributeAccessIssue)\u001b[39m\n",
      "d:\\mypython\\micropython-stubber\\repos\\micropython-stubs\\stubs\\micropython-v1_23_0-docstubs\\time\\__init__.pyi\n",
      "  d:\\mypython\\micropython-stubber\\repos\\micropython-stubs\\stubs\\micropython-v1_23_0-docstubs\\time\\__init__.pyi:\u001b[33m148\u001b[39m:\u001b[33m19\u001b[39m - \u001b[36mwarning\u001b[39m: \"_TicksUs\" is not defined\u001b[90m (reportUndefinedVariable)\u001b[39m\n",
      "  d:\\mypython\\micropython-stubber\\repos\\micropython-stubs\\stubs\\micropython-v1_23_0-docstubs\\time\\__init__.pyi:\u001b[33m154\u001b[39m:\u001b[33m20\u001b[39m - \u001b[36mwarning\u001b[39m: \"_TicksCPU\" is not defined\u001b[90m (reportUndefinedVariable)\u001b[39m\n",
      "  d:\\mypython\\micropython-stubber\\repos\\micropython-stubs\\stubs\\micropython-v1_23_0-docstubs\\time\\__init__.pyi:\u001b[33m169\u001b[39m:\u001b[33m32\u001b[39m - \u001b[36mwarning\u001b[39m: \"_Ticks\" is not defined\u001b[90m (reportUndefinedVariable)\u001b[39m\n",
      "d:\\mypython\\micropython-stubber\\repos\\micropython-stubs\\stubs\\micropython-v1_23_0-docstubs\\uctypes\\__init__.pyi\n",
      "  d:\\mypython\\micropython-stubber\\repos\\micropython-stubs\\stubs\\micropython-v1_23_0-docstubs\\uctypes\\__init__.pyi:\u001b[33m17\u001b[39m:\u001b[33m23\u001b[39m - \u001b[31merror\u001b[39m: \"AnyReadableBuf\" is unknown import symbol\u001b[90m (reportAttributeAccessIssue)\u001b[39m\n",
      "d:\\mypython\\micropython-stubber\\repos\\micropython-stubs\\stubs\\micropython-v1_23_0-docstubs\\wm8960\\__init__.pyi\n",
      "  d:\\mypython\\micropython-stubber\\repos\\micropython-stubs\\stubs\\micropython-v1_23_0-docstubs\\wm8960\\__init__.pyi:\u001b[33m58\u001b[39m:\u001b[33m14\u001b[39m - \u001b[36mwarning\u001b[39m: \"SWAP_NONE\" is not defined\u001b[90m (reportUndefinedVariable)\u001b[39m\n",
      "  d:\\mypython\\micropython-stubber\\repos\\micropython-stubs\\stubs\\micropython-v1_23_0-docstubs\\wm8960\\__init__.pyi:\u001b[33m59\u001b[39m:\u001b[33m15\u001b[39m - \u001b[36mwarning\u001b[39m: \"ROUTE_PLAYBACK_RECORD\" is not defined\u001b[90m (reportUndefinedVariable)\u001b[39m\n",
      "  d:\\mypython\\micropython-stubber\\repos\\micropython-stubs\\stubs\\micropython-v1_23_0-docstubs\\wm8960\\__init__.pyi:\u001b[33m60\u001b[39m:\u001b[33m20\u001b[39m - \u001b[36mwarning\u001b[39m: \"INPUT_MIC3\" is not defined\u001b[90m (reportUndefinedVariable)\u001b[39m\n",
      "  d:\\mypython\\micropython-stubber\\repos\\micropython-stubs\\stubs\\micropython-v1_23_0-docstubs\\wm8960\\__init__.pyi:\u001b[33m61\u001b[39m:\u001b[33m21\u001b[39m - \u001b[36mwarning\u001b[39m: \"INPUT_MIC2\" is not defined\u001b[90m (reportUndefinedVariable)\u001b[39m\n",
      "  d:\\mypython\\micropython-stubber\\repos\\micropython-stubs\\stubs\\micropython-v1_23_0-docstubs\\wm8960\\__init__.pyi:\u001b[33m62\u001b[39m:\u001b[33m23\u001b[39m - \u001b[36mwarning\u001b[39m: \"SYSCLK_MCLK\" is not defined\u001b[90m (reportUndefinedVariable)\u001b[39m\n",
      "  d:\\mypython\\micropython-stubber\\repos\\micropython-stubs\\stubs\\micropython-v1_23_0-docstubs\\wm8960\\__init__.pyi:\u001b[33m65\u001b[39m:\u001b[33m18\u001b[39m - \u001b[36mwarning\u001b[39m: \"SYNC_DAC\" is not defined\u001b[90m (reportUndefinedVariable)\u001b[39m\n",
      "  d:\\mypython\\micropython-stubber\\repos\\micropython-stubs\\stubs\\micropython-v1_23_0-docstubs\\wm8960\\__init__.pyi:\u001b[33m66\u001b[39m:\u001b[33m18\u001b[39m - \u001b[36mwarning\u001b[39m: \"BUS_I2S\" is not defined\u001b[90m (reportUndefinedVariable)\u001b[39m\n",
      "  d:\\mypython\\micropython-stubber\\repos\\micropython-stubs\\stubs\\micropython-v1_23_0-docstubs\\wm8960\\__init__.pyi:\u001b[33m67\u001b[39m:\u001b[33m21\u001b[39m - \u001b[36mwarning\u001b[39m: \"WM8960_I2C_ADDR\" is not defined\u001b[90m (reportUndefinedVariable)\u001b[39m\n",
      "  d:\\mypython\\micropython-stubber\\repos\\micropython-stubs\\stubs\\micropython-v1_23_0-docstubs\\wm8960\\__init__.pyi:\u001b[33m97\u001b[39m:\u001b[33m50\u001b[39m - \u001b[36mwarning\u001b[39m: \"MUTE_FAST\" is not defined\u001b[90m (reportUndefinedVariable)\u001b[39m\n",
      "  d:\\mypython\\micropython-stubber\\repos\\micropython-stubs\\stubs\\micropython-v1_23_0-docstubs\\wm8960\\__init__.pyi:\u001b[33m151\u001b[39m:\u001b[33m38\u001b[39m - \u001b[36mwarning\u001b[39m: \"ALC_MODE\" is not defined\u001b[90m (reportUndefinedVariable)\u001b[39m\n",
      "156 errors, 127 warnings, 0 informations \n"
     ]
    }
   ],
   "source": [
    "\n",
    "! pyright repos\\micropython-stubs\\stubs\\micropython-v1_23_0-docstubs\n"
   ]
  },
  {
   "cell_type": "code",
   "execution_count": null,
   "metadata": {},
   "outputs": [],
   "source": []
  }
 ],
 "metadata": {
  "kernelspec": {
   "display_name": ".venv",
   "language": "python",
   "name": "python3"
  },
  "language_info": {
   "codemirror_mode": {
    "name": "ipython",
    "version": 3
   },
   "file_extension": ".py",
   "mimetype": "text/x-python",
   "name": "python",
   "nbconvert_exporter": "python",
   "pygments_lexer": "ipython3",
   "version": "3.11.9"
  }
 },
 "nbformat": 4,
 "nbformat_minor": 2
}
