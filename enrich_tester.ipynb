{
 "cells": [
  {
   "cell_type": "markdown",
   "metadata": {},
   "source": [
    "Try to merge in overloads from other maintainers \n",
    "----\n",
    "\n",
    "- clone to repos \n",
    "- new docstubs \n",
    "- merge in overloads"
   ]
  },
  {
   "cell_type": "code",
   "execution_count": 4,
   "metadata": {},
   "outputs": [
    {
     "data": {
      "text/html": [
       "<pre style=\"white-space:pre;overflow-x:auto;line-height:normal;font-family:Menlo,'DejaVu Sans Mono',consolas,'Courier New',monospace\"><span style=\"color: #008000; text-decoration-color: #008000\">22:26:16</span> | ℹ️ <span style=\"font-weight: bold\">micropython-stubber </span><span style=\"color: #008080; text-decoration-color: #008080; font-weight: bold\">1.23</span><span style=\"font-weight: bold\">.2a0</span>\n",
       "</pre>\n"
      ],
      "text/plain": [
       "\u001b[32m22:26:16\u001b[0m | ℹ️ \u001b[1mmicropython-stubber \u001b[0m\u001b[1;36m1.23\u001b[0m\u001b[1m.2a0\u001b[0m\n"
      ]
     },
     "metadata": {},
     "output_type": "display_data"
    },
    {
     "data": {
      "text/html": [
       "<pre style=\"white-space:pre;overflow-x:auto;line-height:normal;font-family:Menlo,'DejaVu Sans Mono',consolas,'Courier New',monospace\"><span style=\"color: #008000; text-decoration-color: #008000\">22:26:16</span> | ℹ️ <span style=\"font-weight: bold\">fetch updates</span>\n",
       "</pre>\n"
      ],
      "text/plain": [
       "\u001b[32m22:26:16\u001b[0m | ℹ️ \u001b[1mfetch updates\u001b[0m\n"
      ]
     },
     "metadata": {},
     "output_type": "display_data"
    },
    {
     "data": {
      "text/html": [
       "<pre style=\"white-space:pre;overflow-x:auto;line-height:normal;font-family:Menlo,'DejaVu Sans Mono',consolas,'Courier New',monospace\"><span style=\"color: #008000; text-decoration-color: #008000\">22:26:16</span> | ❌ <span style=\"color: #800000; text-decoration-color: #800000; font-weight: bold\">Command </span><span style=\"color: #800000; text-decoration-color: #800000; font-weight: bold\">'['</span><span style=\"color: #800000; text-decoration-color: #800000; font-weight: bold\">git', </span><span style=\"color: #800000; text-decoration-color: #800000; font-weight: bold\">'fetch'</span><span style=\"color: #800000; text-decoration-color: #800000; font-weight: bold\">, </span><span style=\"color: #800000; text-decoration-color: #800000; font-weight: bold\">'--all'</span><span style=\"color: #800000; text-decoration-color: #800000; font-weight: bold\">, </span><span style=\"color: #800000; text-decoration-color: #800000; font-weight: bold\">'--tags'</span><span style=\"color: #800000; text-decoration-color: #800000; font-weight: bold\">, </span><span style=\"color: #800000; text-decoration-color: #800000; font-weight: bold\">'--quiet'</span><span style=\"color: #800000; text-decoration-color: #800000; font-weight: bold\">]</span><span style=\"color: #800000; text-decoration-color: #800000; font-weight: bold\">' returned non-zero exit status 128. : fatal: </span>\n",
       "<span style=\"color: #800000; text-decoration-color: #800000; font-weight: bold\">unable to access '</span><span style=\"color: #800000; text-decoration-color: #800000; font-weight: bold; text-decoration: underline\">https://github.com/micropython/micropython.git/</span><span style=\"color: #800000; text-decoration-color: #800000; font-weight: bold\">': Could not resolve host: github.com</span>\n",
       "\n",
       "</pre>\n"
      ],
      "text/plain": [
       "\u001b[32m22:26:16\u001b[0m | ❌ \u001b[1;31mCommand \u001b[0m\u001b[1;31m'\u001b[0m\u001b[1;31m[\u001b[0m\u001b[1;31m'\u001b[0m\u001b[1;31mgit', \u001b[0m\u001b[1;31m'fetch'\u001b[0m\u001b[1;31m, \u001b[0m\u001b[1;31m'--all'\u001b[0m\u001b[1;31m, \u001b[0m\u001b[1;31m'--tags'\u001b[0m\u001b[1;31m, \u001b[0m\u001b[1;31m'--quiet'\u001b[0m\u001b[1;31m]\u001b[0m\u001b[1;31m' returned non-zero exit status 128. : fatal: \u001b[0m\n",
       "\u001b[1;31munable to access '\u001b[0m\u001b[1;4;31mhttps://github.com/micropython/micropython.git/\u001b[0m\u001b[1;31m': Could not resolve host: github.com\u001b[0m\n",
       "\n"
      ]
     },
     "metadata": {},
     "output_type": "display_data"
    },
    {
     "data": {
      "text/html": [
       "<pre style=\"white-space:pre;overflow-x:auto;line-height:normal;font-family:Menlo,'DejaVu Sans Mono',consolas,'Courier New',monospace\"><span style=\"color: #008000; text-decoration-color: #008000\">22:26:17</span> | ❌ <span style=\"color: #800000; text-decoration-color: #800000; font-weight: bold\">Command </span><span style=\"color: #800000; text-decoration-color: #800000; font-weight: bold\">'['</span><span style=\"color: #800000; text-decoration-color: #800000; font-weight: bold\">git', </span><span style=\"color: #800000; text-decoration-color: #800000; font-weight: bold\">'fetch'</span><span style=\"color: #800000; text-decoration-color: #800000; font-weight: bold\">, </span><span style=\"color: #800000; text-decoration-color: #800000; font-weight: bold\">'--all'</span><span style=\"color: #800000; text-decoration-color: #800000; font-weight: bold\">, </span><span style=\"color: #800000; text-decoration-color: #800000; font-weight: bold\">'--tags'</span><span style=\"color: #800000; text-decoration-color: #800000; font-weight: bold\">, </span><span style=\"color: #800000; text-decoration-color: #800000; font-weight: bold\">'--quiet'</span><span style=\"color: #800000; text-decoration-color: #800000; font-weight: bold\">]</span><span style=\"color: #800000; text-decoration-color: #800000; font-weight: bold\">' returned non-zero exit status 128. : fatal: </span>\n",
       "<span style=\"color: #800000; text-decoration-color: #800000; font-weight: bold\">unable to access '</span><span style=\"color: #800000; text-decoration-color: #800000; font-weight: bold; text-decoration: underline\">https://github.com/micropython/micropython-lib.git/</span><span style=\"color: #800000; text-decoration-color: #800000; font-weight: bold\">': Could not resolve host: github.com</span>\n",
       "\n",
       "</pre>\n"
      ],
      "text/plain": [
       "\u001b[32m22:26:17\u001b[0m | ❌ \u001b[1;31mCommand \u001b[0m\u001b[1;31m'\u001b[0m\u001b[1;31m[\u001b[0m\u001b[1;31m'\u001b[0m\u001b[1;31mgit', \u001b[0m\u001b[1;31m'fetch'\u001b[0m\u001b[1;31m, \u001b[0m\u001b[1;31m'--all'\u001b[0m\u001b[1;31m, \u001b[0m\u001b[1;31m'--tags'\u001b[0m\u001b[1;31m, \u001b[0m\u001b[1;31m'--quiet'\u001b[0m\u001b[1;31m]\u001b[0m\u001b[1;31m' returned non-zero exit status 128. : fatal: \u001b[0m\n",
       "\u001b[1;31munable to access '\u001b[0m\u001b[1;4;31mhttps://github.com/micropython/micropython-lib.git/\u001b[0m\u001b[1;31m': Could not resolve host: github.com\u001b[0m\n",
       "\n"
      ]
     },
     "metadata": {},
     "output_type": "display_data"
    },
    {
     "data": {
      "text/html": [
       "<pre style=\"white-space:pre;overflow-x:auto;line-height:normal;font-family:Menlo,'DejaVu Sans Mono',consolas,'Courier New',monospace\"><span style=\"color: #008000; text-decoration-color: #008000\">22:26:17</span> | ❌ <span style=\"color: #800000; text-decoration-color: #800000; font-weight: bold\">Command </span><span style=\"color: #800000; text-decoration-color: #800000; font-weight: bold\">'['</span><span style=\"color: #800000; text-decoration-color: #800000; font-weight: bold\">git', </span><span style=\"color: #800000; text-decoration-color: #800000; font-weight: bold\">'fetch'</span><span style=\"color: #800000; text-decoration-color: #800000; font-weight: bold\">, </span><span style=\"color: #800000; text-decoration-color: #800000; font-weight: bold\">'--all'</span><span style=\"color: #800000; text-decoration-color: #800000; font-weight: bold\">, </span><span style=\"color: #800000; text-decoration-color: #800000; font-weight: bold\">'--tags'</span><span style=\"color: #800000; text-decoration-color: #800000; font-weight: bold\">, </span><span style=\"color: #800000; text-decoration-color: #800000; font-weight: bold\">'--quiet'</span><span style=\"color: #800000; text-decoration-color: #800000; font-weight: bold\">]</span><span style=\"color: #800000; text-decoration-color: #800000; font-weight: bold\">' returned non-zero exit status 128. : fatal: </span>\n",
       "<span style=\"color: #800000; text-decoration-color: #800000; font-weight: bold\">unable to access '</span><span style=\"color: #800000; text-decoration-color: #800000; font-weight: bold; text-decoration: underline\">https://github.com/josverl/micropython-stubs.git/</span><span style=\"color: #800000; text-decoration-color: #800000; font-weight: bold\">': Could not resolve host: github.com</span>\n",
       "\n",
       "</pre>\n"
      ],
      "text/plain": [
       "\u001b[32m22:26:17\u001b[0m | ❌ \u001b[1;31mCommand \u001b[0m\u001b[1;31m'\u001b[0m\u001b[1;31m[\u001b[0m\u001b[1;31m'\u001b[0m\u001b[1;31mgit', \u001b[0m\u001b[1;31m'fetch'\u001b[0m\u001b[1;31m, \u001b[0m\u001b[1;31m'--all'\u001b[0m\u001b[1;31m, \u001b[0m\u001b[1;31m'--tags'\u001b[0m\u001b[1;31m, \u001b[0m\u001b[1;31m'--quiet'\u001b[0m\u001b[1;31m]\u001b[0m\u001b[1;31m' returned non-zero exit status 128. : fatal: \u001b[0m\n",
       "\u001b[1;31munable to access '\u001b[0m\u001b[1;4;31mhttps://github.com/josverl/micropython-stubs.git/\u001b[0m\u001b[1;31m': Could not resolve host: github.com\u001b[0m\n",
       "\n"
      ]
     },
     "metadata": {},
     "output_type": "display_data"
    },
    {
     "data": {
      "text/html": [
       "<pre style=\"white-space:pre;overflow-x:auto;line-height:normal;font-family:Menlo,'DejaVu Sans Mono',consolas,'Courier New',monospace\"><span style=\"color: #008000; text-decoration-color: #008000\">22:26:17</span> | ℹ️ <span style=\"font-weight: bold\">Switching to v1.</span><span style=\"color: #008080; text-decoration-color: #008080; font-weight: bold\">23.0</span>\n",
       "</pre>\n"
      ],
      "text/plain": [
       "\u001b[32m22:26:17\u001b[0m | ℹ️ \u001b[1mSwitching to v1.\u001b[0m\u001b[1;36m23.0\u001b[0m\n"
      ]
     },
     "metadata": {},
     "output_type": "display_data"
    },
    {
     "data": {
      "text/html": [
       "<pre style=\"white-space:pre;overflow-x:auto;line-height:normal;font-family:Menlo,'DejaVu Sans Mono',consolas,'Courier New',monospace\"><span style=\"color: #008000; text-decoration-color: #008000\">22:26:25</span> | ℹ️ <span style=\"font-weight: bold\">repos\\micropython                        v1.</span><span style=\"color: #008080; text-decoration-color: #008080; font-weight: bold\">23.0</span>\n",
       "</pre>\n"
      ],
      "text/plain": [
       "\u001b[32m22:26:25\u001b[0m | ℹ️ \u001b[1mrepos\\micropython                        v1.\u001b[0m\u001b[1;36m23.0\u001b[0m\n"
      ]
     },
     "metadata": {},
     "output_type": "display_data"
    },
    {
     "data": {
      "text/html": [
       "<pre style=\"white-space:pre;overflow-x:auto;line-height:normal;font-family:Menlo,'DejaVu Sans Mono',consolas,'Courier New',monospace\"><span style=\"color: #008000; text-decoration-color: #008000\">22:26:25</span> | ℹ️ <span style=\"font-weight: bold\">repos\\micropython-lib                    v1.</span><span style=\"color: #008080; text-decoration-color: #008080; font-weight: bold\">23.0</span>\n",
       "</pre>\n"
      ],
      "text/plain": [
       "\u001b[32m22:26:25\u001b[0m | ℹ️ \u001b[1mrepos\\micropython-lib                    v1.\u001b[0m\u001b[1;36m23.0\u001b[0m\n"
      ]
     },
     "metadata": {},
     "output_type": "display_data"
    },
    {
     "data": {
      "text/html": [
       "<pre style=\"white-space:pre;overflow-x:auto;line-height:normal;font-family:Menlo,'DejaVu Sans Mono',consolas,'Courier New',monospace\"><span style=\"color: #008000; text-decoration-color: #008000\">22:26:26</span> | ℹ️ <span style=\"font-weight: bold\">repos\\micropython\\lib\\micropython-lib    v1.</span><span style=\"color: #008080; text-decoration-color: #008080; font-weight: bold\">23.0</span>\n",
       "</pre>\n"
      ],
      "text/plain": [
       "\u001b[32m22:26:26\u001b[0m | ℹ️ \u001b[1mrepos\\micropython\\lib\\micropython-lib    v1.\u001b[0m\u001b[1;36m23.0\u001b[0m\n"
      ]
     },
     "metadata": {},
     "output_type": "display_data"
    },
    {
     "data": {
      "text/html": [
       "<pre style=\"white-space:pre;overflow-x:auto;line-height:normal;font-family:Menlo,'DejaVu Sans Mono',consolas,'Courier New',monospace\"><span style=\"color: #008000; text-decoration-color: #008000\">22:26:26</span> | ℹ️ <span style=\"font-weight: bold\">Get docstubs for MicroPython v1.</span><span style=\"color: #008080; text-decoration-color: #008080; font-weight: bold\">23.0</span>\n",
       "</pre>\n"
      ],
      "text/plain": [
       "\u001b[32m22:26:26\u001b[0m | ℹ️ \u001b[1mGet docstubs for MicroPython v1.\u001b[0m\u001b[1;36m23.0\u001b[0m\n"
      ]
     },
     "metadata": {},
     "output_type": "display_data"
    },
    {
     "data": {
      "text/html": [
       "<pre style=\"white-space:pre;overflow-x:auto;line-height:normal;font-family:Menlo,'DejaVu Sans Mono',consolas,'Courier New',monospace\"><span style=\"color: #008000; text-decoration-color: #008000\">22:26:26</span> | ℹ️ <span style=\"font-weight: bold\"> - Writing to: scratch\\micropython-v1_23_0-docstubs\\array\\__init__.pyi</span>\n",
       "</pre>\n"
      ],
      "text/plain": [
       "\u001b[32m22:26:26\u001b[0m | ℹ️ \u001b[1m - Writing to: scratch\\micropython-v1_23_0-docstubs\\array\\__init__.pyi\u001b[0m\n"
      ]
     },
     "metadata": {},
     "output_type": "display_data"
    },
    {
     "data": {
      "text/html": [
       "<pre style=\"white-space:pre;overflow-x:auto;line-height:normal;font-family:Menlo,'DejaVu Sans Mono',consolas,'Courier New',monospace\"><span style=\"color: #008000; text-decoration-color: #008000\">22:26:26</span> | ℹ️ <span style=\"font-weight: bold\"> - Writing to: scratch\\micropython-v1_23_0-docstubs\\asyncio\\__init__.pyi</span>\n",
       "</pre>\n"
      ],
      "text/plain": [
       "\u001b[32m22:26:26\u001b[0m | ℹ️ \u001b[1m - Writing to: scratch\\micropython-v1_23_0-docstubs\\asyncio\\__init__.pyi\u001b[0m\n"
      ]
     },
     "metadata": {},
     "output_type": "display_data"
    },
    {
     "data": {
      "text/html": [
       "<pre style=\"white-space:pre;overflow-x:auto;line-height:normal;font-family:Menlo,'DejaVu Sans Mono',consolas,'Courier New',monospace\"><span style=\"color: #008000; text-decoration-color: #008000\">22:26:26</span> | ℹ️ <span style=\"font-weight: bold\"> - Writing to: scratch\\micropython-v1_23_0-docstubs\\binascii\\__init__.pyi</span>\n",
       "</pre>\n"
      ],
      "text/plain": [
       "\u001b[32m22:26:26\u001b[0m | ℹ️ \u001b[1m - Writing to: scratch\\micropython-v1_23_0-docstubs\\binascii\\__init__.pyi\u001b[0m\n"
      ]
     },
     "metadata": {},
     "output_type": "display_data"
    },
    {
     "data": {
      "text/html": [
       "<pre style=\"white-space:pre;overflow-x:auto;line-height:normal;font-family:Menlo,'DejaVu Sans Mono',consolas,'Courier New',monospace\"><span style=\"color: #008000; text-decoration-color: #008000\">22:26:26</span> | ℹ️ <span style=\"font-weight: bold\"> - Writing to: scratch\\micropython-v1_23_0-docstubs\\bluetooth\\__init__.pyi</span>\n",
       "</pre>\n"
      ],
      "text/plain": [
       "\u001b[32m22:26:26\u001b[0m | ℹ️ \u001b[1m - Writing to: scratch\\micropython-v1_23_0-docstubs\\bluetooth\\__init__.pyi\u001b[0m\n"
      ]
     },
     "metadata": {},
     "output_type": "display_data"
    },
    {
     "data": {
      "text/html": [
       "<pre style=\"white-space:pre;overflow-x:auto;line-height:normal;font-family:Menlo,'DejaVu Sans Mono',consolas,'Courier New',monospace\"><span style=\"color: #008000; text-decoration-color: #008000\">22:26:26</span> | ℹ️ <span style=\"font-weight: bold\"> - Writing to: scratch\\micropython-v1_23_0-docstubs\\btree\\__init__.pyi</span>\n",
       "</pre>\n"
      ],
      "text/plain": [
       "\u001b[32m22:26:26\u001b[0m | ℹ️ \u001b[1m - Writing to: scratch\\micropython-v1_23_0-docstubs\\btree\\__init__.pyi\u001b[0m\n"
      ]
     },
     "metadata": {},
     "output_type": "display_data"
    },
    {
     "data": {
      "text/html": [
       "<pre style=\"white-space:pre;overflow-x:auto;line-height:normal;font-family:Menlo,'DejaVu Sans Mono',consolas,'Courier New',monospace\"><span style=\"color: #008000; text-decoration-color: #008000\">22:26:26</span> | ℹ️ <span style=\"font-weight: bold\"> - Writing to: scratch\\micropython-v1_23_0-docstubs\\cmath\\__init__.pyi</span>\n",
       "</pre>\n"
      ],
      "text/plain": [
       "\u001b[32m22:26:26\u001b[0m | ℹ️ \u001b[1m - Writing to: scratch\\micropython-v1_23_0-docstubs\\cmath\\__init__.pyi\u001b[0m\n"
      ]
     },
     "metadata": {},
     "output_type": "display_data"
    },
    {
     "data": {
      "text/html": [
       "<pre style=\"white-space:pre;overflow-x:auto;line-height:normal;font-family:Menlo,'DejaVu Sans Mono',consolas,'Courier New',monospace\"><span style=\"color: #008000; text-decoration-color: #008000\">22:26:26</span> | ℹ️ <span style=\"font-weight: bold\"> - Writing to: scratch\\micropython-v1_23_0-docstubs\\collections\\__init__.pyi</span>\n",
       "</pre>\n"
      ],
      "text/plain": [
       "\u001b[32m22:26:26\u001b[0m | ℹ️ \u001b[1m - Writing to: scratch\\micropython-v1_23_0-docstubs\\collections\\__init__.pyi\u001b[0m\n"
      ]
     },
     "metadata": {},
     "output_type": "display_data"
    },
    {
     "data": {
      "text/html": [
       "<pre style=\"white-space:pre;overflow-x:auto;line-height:normal;font-family:Menlo,'DejaVu Sans Mono',consolas,'Courier New',monospace\"><span style=\"color: #008000; text-decoration-color: #008000\">22:26:26</span> | ℹ️ <span style=\"font-weight: bold\"> - Writing to: scratch\\micropython-v1_23_0-docstubs\\cryptolib\\__init__.pyi</span>\n",
       "</pre>\n"
      ],
      "text/plain": [
       "\u001b[32m22:26:26\u001b[0m | ℹ️ \u001b[1m - Writing to: scratch\\micropython-v1_23_0-docstubs\\cryptolib\\__init__.pyi\u001b[0m\n"
      ]
     },
     "metadata": {},
     "output_type": "display_data"
    },
    {
     "data": {
      "text/html": [
       "<pre style=\"white-space:pre;overflow-x:auto;line-height:normal;font-family:Menlo,'DejaVu Sans Mono',consolas,'Courier New',monospace\"><span style=\"color: #008000; text-decoration-color: #008000\">22:26:26</span> | ℹ️ <span style=\"font-weight: bold\"> - Writing to: scratch\\micropython-v1_23_0-docstubs\\deflate\\__init__.pyi</span>\n",
       "</pre>\n"
      ],
      "text/plain": [
       "\u001b[32m22:26:26\u001b[0m | ℹ️ \u001b[1m - Writing to: scratch\\micropython-v1_23_0-docstubs\\deflate\\__init__.pyi\u001b[0m\n"
      ]
     },
     "metadata": {},
     "output_type": "display_data"
    },
    {
     "data": {
      "text/html": [
       "<pre style=\"white-space:pre;overflow-x:auto;line-height:normal;font-family:Menlo,'DejaVu Sans Mono',consolas,'Courier New',monospace\"><span style=\"color: #008000; text-decoration-color: #008000\">22:26:26</span> | ℹ️ <span style=\"font-weight: bold\"> - Writing to: scratch\\micropython-v1_23_0-docstubs\\errno\\__init__.pyi</span>\n",
       "</pre>\n"
      ],
      "text/plain": [
       "\u001b[32m22:26:26\u001b[0m | ℹ️ \u001b[1m - Writing to: scratch\\micropython-v1_23_0-docstubs\\errno\\__init__.pyi\u001b[0m\n"
      ]
     },
     "metadata": {},
     "output_type": "display_data"
    },
    {
     "data": {
      "text/html": [
       "<pre style=\"white-space:pre;overflow-x:auto;line-height:normal;font-family:Menlo,'DejaVu Sans Mono',consolas,'Courier New',monospace\"><span style=\"color: #008000; text-decoration-color: #008000\">22:26:26</span> | ℹ️ <span style=\"font-weight: bold\"> - Writing to: scratch\\micropython-v1_23_0-docstubs\\esp\\__init__.pyi</span>\n",
       "</pre>\n"
      ],
      "text/plain": [
       "\u001b[32m22:26:26\u001b[0m | ℹ️ \u001b[1m - Writing to: scratch\\micropython-v1_23_0-docstubs\\esp\\__init__.pyi\u001b[0m\n"
      ]
     },
     "metadata": {},
     "output_type": "display_data"
    },
    {
     "data": {
      "text/html": [
       "<pre style=\"white-space:pre;overflow-x:auto;line-height:normal;font-family:Menlo,'DejaVu Sans Mono',consolas,'Courier New',monospace\"><span style=\"color: #008000; text-decoration-color: #008000\">22:26:26</span> | ℹ️ <span style=\"font-weight: bold\"> - Writing to: scratch\\micropython-v1_23_0-docstubs\\esp32\\__init__.pyi</span>\n",
       "</pre>\n"
      ],
      "text/plain": [
       "\u001b[32m22:26:26\u001b[0m | ℹ️ \u001b[1m - Writing to: scratch\\micropython-v1_23_0-docstubs\\esp32\\__init__.pyi\u001b[0m\n"
      ]
     },
     "metadata": {},
     "output_type": "display_data"
    },
    {
     "data": {
      "text/html": [
       "<pre style=\"white-space:pre;overflow-x:auto;line-height:normal;font-family:Menlo,'DejaVu Sans Mono',consolas,'Courier New',monospace\"><span style=\"color: #008000; text-decoration-color: #008000\">22:26:26</span> | ℹ️ <span style=\"font-weight: bold\"> - Writing to: scratch\\micropython-v1_23_0-docstubs\\espnow\\__init__.pyi</span>\n",
       "</pre>\n"
      ],
      "text/plain": [
       "\u001b[32m22:26:26\u001b[0m | ℹ️ \u001b[1m - Writing to: scratch\\micropython-v1_23_0-docstubs\\espnow\\__init__.pyi\u001b[0m\n"
      ]
     },
     "metadata": {},
     "output_type": "display_data"
    },
    {
     "data": {
      "text/html": [
       "<pre style=\"white-space:pre;overflow-x:auto;line-height:normal;font-family:Menlo,'DejaVu Sans Mono',consolas,'Courier New',monospace\"><span style=\"color: #008000; text-decoration-color: #008000\">22:26:26</span> | ℹ️ <span style=\"font-weight: bold\"> - Writing to: scratch\\micropython-v1_23_0-docstubs\\framebuf\\__init__.pyi</span>\n",
       "</pre>\n"
      ],
      "text/plain": [
       "\u001b[32m22:26:26\u001b[0m | ℹ️ \u001b[1m - Writing to: scratch\\micropython-v1_23_0-docstubs\\framebuf\\__init__.pyi\u001b[0m\n"
      ]
     },
     "metadata": {},
     "output_type": "display_data"
    },
    {
     "data": {
      "text/html": [
       "<pre style=\"white-space:pre;overflow-x:auto;line-height:normal;font-family:Menlo,'DejaVu Sans Mono',consolas,'Courier New',monospace\"><span style=\"color: #008000; text-decoration-color: #008000\">22:26:26</span> | ℹ️ <span style=\"font-weight: bold\"> - Writing to: scratch\\micropython-v1_23_0-docstubs\\gc\\__init__.pyi</span>\n",
       "</pre>\n"
      ],
      "text/plain": [
       "\u001b[32m22:26:26\u001b[0m | ℹ️ \u001b[1m - Writing to: scratch\\micropython-v1_23_0-docstubs\\gc\\__init__.pyi\u001b[0m\n"
      ]
     },
     "metadata": {},
     "output_type": "display_data"
    },
    {
     "data": {
      "text/html": [
       "<pre style=\"white-space:pre;overflow-x:auto;line-height:normal;font-family:Menlo,'DejaVu Sans Mono',consolas,'Courier New',monospace\"><span style=\"color: #008000; text-decoration-color: #008000\">22:26:26</span> | ℹ️ <span style=\"font-weight: bold\"> - Writing to: scratch\\micropython-v1_23_0-docstubs\\gzip\\__init__.pyi</span>\n",
       "</pre>\n"
      ],
      "text/plain": [
       "\u001b[32m22:26:26\u001b[0m | ℹ️ \u001b[1m - Writing to: scratch\\micropython-v1_23_0-docstubs\\gzip\\__init__.pyi\u001b[0m\n"
      ]
     },
     "metadata": {},
     "output_type": "display_data"
    },
    {
     "data": {
      "text/html": [
       "<pre style=\"white-space:pre;overflow-x:auto;line-height:normal;font-family:Menlo,'DejaVu Sans Mono',consolas,'Courier New',monospace\"><span style=\"color: #008000; text-decoration-color: #008000\">22:26:26</span> | ℹ️ <span style=\"font-weight: bold\"> - Writing to: scratch\\micropython-v1_23_0-docstubs\\hashlib\\__init__.pyi</span>\n",
       "</pre>\n"
      ],
      "text/plain": [
       "\u001b[32m22:26:26\u001b[0m | ℹ️ \u001b[1m - Writing to: scratch\\micropython-v1_23_0-docstubs\\hashlib\\__init__.pyi\u001b[0m\n"
      ]
     },
     "metadata": {},
     "output_type": "display_data"
    },
    {
     "data": {
      "text/html": [
       "<pre style=\"white-space:pre;overflow-x:auto;line-height:normal;font-family:Menlo,'DejaVu Sans Mono',consolas,'Courier New',monospace\"><span style=\"color: #008000; text-decoration-color: #008000\">22:26:26</span> | ℹ️ <span style=\"font-weight: bold\"> - Writing to: scratch\\micropython-v1_23_0-docstubs\\heapq\\__init__.pyi</span>\n",
       "</pre>\n"
      ],
      "text/plain": [
       "\u001b[32m22:26:26\u001b[0m | ℹ️ \u001b[1m - Writing to: scratch\\micropython-v1_23_0-docstubs\\heapq\\__init__.pyi\u001b[0m\n"
      ]
     },
     "metadata": {},
     "output_type": "display_data"
    },
    {
     "data": {
      "text/html": [
       "<pre style=\"white-space:pre;overflow-x:auto;line-height:normal;font-family:Menlo,'DejaVu Sans Mono',consolas,'Courier New',monospace\"><span style=\"color: #008000; text-decoration-color: #008000\">22:26:26</span> | ℹ️ <span style=\"font-weight: bold\"> - Writing to: scratch\\micropython-v1_23_0-docstubs\\io\\__init__.pyi</span>\n",
       "</pre>\n"
      ],
      "text/plain": [
       "\u001b[32m22:26:26\u001b[0m | ℹ️ \u001b[1m - Writing to: scratch\\micropython-v1_23_0-docstubs\\io\\__init__.pyi\u001b[0m\n"
      ]
     },
     "metadata": {},
     "output_type": "display_data"
    },
    {
     "data": {
      "text/html": [
       "<pre style=\"white-space:pre;overflow-x:auto;line-height:normal;font-family:Menlo,'DejaVu Sans Mono',consolas,'Courier New',monospace\"><span style=\"color: #008000; text-decoration-color: #008000\">22:26:26</span> | ℹ️ <span style=\"font-weight: bold\"> - Writing to: scratch\\micropython-v1_23_0-docstubs\\json\\__init__.pyi</span>\n",
       "</pre>\n"
      ],
      "text/plain": [
       "\u001b[32m22:26:26\u001b[0m | ℹ️ \u001b[1m - Writing to: scratch\\micropython-v1_23_0-docstubs\\json\\__init__.pyi\u001b[0m\n"
      ]
     },
     "metadata": {},
     "output_type": "display_data"
    },
    {
     "data": {
      "text/html": [
       "<pre style=\"white-space:pre;overflow-x:auto;line-height:normal;font-family:Menlo,'DejaVu Sans Mono',consolas,'Courier New',monospace\"><span style=\"color: #008000; text-decoration-color: #008000\">22:26:27</span> | ℹ️ <span style=\"font-weight: bold\"> - Writing to: scratch\\micropython-v1_23_0-docstubs\\lcd160cr\\__init__.pyi</span>\n",
       "</pre>\n"
      ],
      "text/plain": [
       "\u001b[32m22:26:27\u001b[0m | ℹ️ \u001b[1m - Writing to: scratch\\micropython-v1_23_0-docstubs\\lcd160cr\\__init__.pyi\u001b[0m\n"
      ]
     },
     "metadata": {},
     "output_type": "display_data"
    },
    {
     "data": {
      "text/html": [
       "<pre style=\"white-space:pre;overflow-x:auto;line-height:normal;font-family:Menlo,'DejaVu Sans Mono',consolas,'Courier New',monospace\"><span style=\"color: #008000; text-decoration-color: #008000\">22:26:27</span> | ℹ️ <span style=\"font-weight: bold\"> - Writing to: scratch\\micropython-v1_23_0-docstubs\\machine\\ADC.pyi</span>\n",
       "</pre>\n"
      ],
      "text/plain": [
       "\u001b[32m22:26:27\u001b[0m | ℹ️ \u001b[1m - Writing to: scratch\\micropython-v1_23_0-docstubs\\machine\\ADC.pyi\u001b[0m\n"
      ]
     },
     "metadata": {},
     "output_type": "display_data"
    },
    {
     "data": {
      "text/html": [
       "<pre style=\"white-space:pre;overflow-x:auto;line-height:normal;font-family:Menlo,'DejaVu Sans Mono',consolas,'Courier New',monospace\"><span style=\"color: #008000; text-decoration-color: #008000\">22:26:27</span> | ℹ️ <span style=\"font-weight: bold\"> - Writing to: scratch\\micropython-v1_23_0-docstubs\\machine\\ADCBlock.pyi</span>\n",
       "</pre>\n"
      ],
      "text/plain": [
       "\u001b[32m22:26:27\u001b[0m | ℹ️ \u001b[1m - Writing to: scratch\\micropython-v1_23_0-docstubs\\machine\\ADCBlock.pyi\u001b[0m\n"
      ]
     },
     "metadata": {},
     "output_type": "display_data"
    },
    {
     "data": {
      "text/html": [
       "<pre style=\"white-space:pre;overflow-x:auto;line-height:normal;font-family:Menlo,'DejaVu Sans Mono',consolas,'Courier New',monospace\"><span style=\"color: #008000; text-decoration-color: #008000\">22:26:27</span> | ℹ️ <span style=\"font-weight: bold\"> - Writing to: scratch\\micropython-v1_23_0-docstubs\\machine\\ADCWiPy.pyi</span>\n",
       "</pre>\n"
      ],
      "text/plain": [
       "\u001b[32m22:26:27\u001b[0m | ℹ️ \u001b[1m - Writing to: scratch\\micropython-v1_23_0-docstubs\\machine\\ADCWiPy.pyi\u001b[0m\n"
      ]
     },
     "metadata": {},
     "output_type": "display_data"
    },
    {
     "data": {
      "text/html": [
       "<pre style=\"white-space:pre;overflow-x:auto;line-height:normal;font-family:Menlo,'DejaVu Sans Mono',consolas,'Courier New',monospace\"><span style=\"color: #008000; text-decoration-color: #008000\">22:26:27</span> | ℹ️ <span style=\"font-weight: bold\"> - Writing to: scratch\\micropython-v1_23_0-docstubs\\machine\\I2C.pyi</span>\n",
       "</pre>\n"
      ],
      "text/plain": [
       "\u001b[32m22:26:27\u001b[0m | ℹ️ \u001b[1m - Writing to: scratch\\micropython-v1_23_0-docstubs\\machine\\I2C.pyi\u001b[0m\n"
      ]
     },
     "metadata": {},
     "output_type": "display_data"
    },
    {
     "data": {
      "text/html": [
       "<pre style=\"white-space:pre;overflow-x:auto;line-height:normal;font-family:Menlo,'DejaVu Sans Mono',consolas,'Courier New',monospace\"><span style=\"color: #008000; text-decoration-color: #008000\">22:26:27</span> | ℹ️ <span style=\"font-weight: bold\"> - Writing to: scratch\\micropython-v1_23_0-docstubs\\machine\\I2S.pyi</span>\n",
       "</pre>\n"
      ],
      "text/plain": [
       "\u001b[32m22:26:27\u001b[0m | ℹ️ \u001b[1m - Writing to: scratch\\micropython-v1_23_0-docstubs\\machine\\I2S.pyi\u001b[0m\n"
      ]
     },
     "metadata": {},
     "output_type": "display_data"
    },
    {
     "data": {
      "text/html": [
       "<pre style=\"white-space:pre;overflow-x:auto;line-height:normal;font-family:Menlo,'DejaVu Sans Mono',consolas,'Courier New',monospace\"><span style=\"color: #008000; text-decoration-color: #008000\">22:26:27</span> | ℹ️ <span style=\"font-weight: bold\"> - Writing to: scratch\\micropython-v1_23_0-docstubs\\machine\\Pin.pyi</span>\n",
       "</pre>\n"
      ],
      "text/plain": [
       "\u001b[32m22:26:27\u001b[0m | ℹ️ \u001b[1m - Writing to: scratch\\micropython-v1_23_0-docstubs\\machine\\Pin.pyi\u001b[0m\n"
      ]
     },
     "metadata": {},
     "output_type": "display_data"
    },
    {
     "data": {
      "text/html": [
       "<pre style=\"white-space:pre;overflow-x:auto;line-height:normal;font-family:Menlo,'DejaVu Sans Mono',consolas,'Courier New',monospace\"><span style=\"color: #008000; text-decoration-color: #008000\">22:26:27</span> | ℹ️ <span style=\"font-weight: bold\"> - Writing to: scratch\\micropython-v1_23_0-docstubs\\machine\\PWM.pyi</span>\n",
       "</pre>\n"
      ],
      "text/plain": [
       "\u001b[32m22:26:27\u001b[0m | ℹ️ \u001b[1m - Writing to: scratch\\micropython-v1_23_0-docstubs\\machine\\PWM.pyi\u001b[0m\n"
      ]
     },
     "metadata": {},
     "output_type": "display_data"
    },
    {
     "data": {
      "text/html": [
       "<pre style=\"white-space:pre;overflow-x:auto;line-height:normal;font-family:Menlo,'DejaVu Sans Mono',consolas,'Courier New',monospace\"><span style=\"color: #008000; text-decoration-color: #008000\">22:26:27</span> | ℹ️ <span style=\"font-weight: bold\"> - Writing to: scratch\\micropython-v1_23_0-docstubs\\machine\\__init__.pyi</span>\n",
       "</pre>\n"
      ],
      "text/plain": [
       "\u001b[32m22:26:27\u001b[0m | ℹ️ \u001b[1m - Writing to: scratch\\micropython-v1_23_0-docstubs\\machine\\__init__.pyi\u001b[0m\n"
      ]
     },
     "metadata": {},
     "output_type": "display_data"
    },
    {
     "data": {
      "text/html": [
       "<pre style=\"white-space:pre;overflow-x:auto;line-height:normal;font-family:Menlo,'DejaVu Sans Mono',consolas,'Courier New',monospace\"><span style=\"color: #008000; text-decoration-color: #008000\">22:26:27</span> | ℹ️ <span style=\"font-weight: bold\"> - Writing to: scratch\\micropython-v1_23_0-docstubs\\machine\\RTC.pyi</span>\n",
       "</pre>\n"
      ],
      "text/plain": [
       "\u001b[32m22:26:27\u001b[0m | ℹ️ \u001b[1m - Writing to: scratch\\micropython-v1_23_0-docstubs\\machine\\RTC.pyi\u001b[0m\n"
      ]
     },
     "metadata": {},
     "output_type": "display_data"
    },
    {
     "data": {
      "text/html": [
       "<pre style=\"white-space:pre;overflow-x:auto;line-height:normal;font-family:Menlo,'DejaVu Sans Mono',consolas,'Courier New',monospace\"><span style=\"color: #008000; text-decoration-color: #008000\">22:26:27</span> | ℹ️ <span style=\"font-weight: bold\"> - Writing to: scratch\\micropython-v1_23_0-docstubs\\machine\\SD.pyi</span>\n",
       "</pre>\n"
      ],
      "text/plain": [
       "\u001b[32m22:26:27\u001b[0m | ℹ️ \u001b[1m - Writing to: scratch\\micropython-v1_23_0-docstubs\\machine\\SD.pyi\u001b[0m\n"
      ]
     },
     "metadata": {},
     "output_type": "display_data"
    },
    {
     "data": {
      "text/html": [
       "<pre style=\"white-space:pre;overflow-x:auto;line-height:normal;font-family:Menlo,'DejaVu Sans Mono',consolas,'Courier New',monospace\"><span style=\"color: #008000; text-decoration-color: #008000\">22:26:27</span> | ℹ️ <span style=\"font-weight: bold\"> - Writing to: scratch\\micropython-v1_23_0-docstubs\\machine\\SDCard.pyi</span>\n",
       "</pre>\n"
      ],
      "text/plain": [
       "\u001b[32m22:26:27\u001b[0m | ℹ️ \u001b[1m - Writing to: scratch\\micropython-v1_23_0-docstubs\\machine\\SDCard.pyi\u001b[0m\n"
      ]
     },
     "metadata": {},
     "output_type": "display_data"
    },
    {
     "data": {
      "text/html": [
       "<pre style=\"white-space:pre;overflow-x:auto;line-height:normal;font-family:Menlo,'DejaVu Sans Mono',consolas,'Courier New',monospace\"><span style=\"color: #008000; text-decoration-color: #008000\">22:26:27</span> | ℹ️ <span style=\"font-weight: bold\"> - Writing to: scratch\\micropython-v1_23_0-docstubs\\machine\\Signal.pyi</span>\n",
       "</pre>\n"
      ],
      "text/plain": [
       "\u001b[32m22:26:27\u001b[0m | ℹ️ \u001b[1m - Writing to: scratch\\micropython-v1_23_0-docstubs\\machine\\Signal.pyi\u001b[0m\n"
      ]
     },
     "metadata": {},
     "output_type": "display_data"
    },
    {
     "data": {
      "text/html": [
       "<pre style=\"white-space:pre;overflow-x:auto;line-height:normal;font-family:Menlo,'DejaVu Sans Mono',consolas,'Courier New',monospace\"><span style=\"color: #008000; text-decoration-color: #008000\">22:26:27</span> | ℹ️ <span style=\"font-weight: bold\"> - Writing to: scratch\\micropython-v1_23_0-docstubs\\machine\\SPI.pyi</span>\n",
       "</pre>\n"
      ],
      "text/plain": [
       "\u001b[32m22:26:27\u001b[0m | ℹ️ \u001b[1m - Writing to: scratch\\micropython-v1_23_0-docstubs\\machine\\SPI.pyi\u001b[0m\n"
      ]
     },
     "metadata": {},
     "output_type": "display_data"
    },
    {
     "data": {
      "text/html": [
       "<pre style=\"white-space:pre;overflow-x:auto;line-height:normal;font-family:Menlo,'DejaVu Sans Mono',consolas,'Courier New',monospace\"><span style=\"color: #008000; text-decoration-color: #008000\">22:26:27</span> | ℹ️ <span style=\"font-weight: bold\"> - Writing to: scratch\\micropython-v1_23_0-docstubs\\machine\\Timer.pyi</span>\n",
       "</pre>\n"
      ],
      "text/plain": [
       "\u001b[32m22:26:27\u001b[0m | ℹ️ \u001b[1m - Writing to: scratch\\micropython-v1_23_0-docstubs\\machine\\Timer.pyi\u001b[0m\n"
      ]
     },
     "metadata": {},
     "output_type": "display_data"
    },
    {
     "data": {
      "text/html": [
       "<pre style=\"white-space:pre;overflow-x:auto;line-height:normal;font-family:Menlo,'DejaVu Sans Mono',consolas,'Courier New',monospace\"><span style=\"color: #008000; text-decoration-color: #008000\">22:26:27</span> | ℹ️ <span style=\"font-weight: bold\"> - Writing to: scratch\\micropython-v1_23_0-docstubs\\machine\\TimerWiPy.pyi</span>\n",
       "</pre>\n"
      ],
      "text/plain": [
       "\u001b[32m22:26:27\u001b[0m | ℹ️ \u001b[1m - Writing to: scratch\\micropython-v1_23_0-docstubs\\machine\\TimerWiPy.pyi\u001b[0m\n"
      ]
     },
     "metadata": {},
     "output_type": "display_data"
    },
    {
     "data": {
      "text/html": [
       "<pre style=\"white-space:pre;overflow-x:auto;line-height:normal;font-family:Menlo,'DejaVu Sans Mono',consolas,'Courier New',monospace\"><span style=\"color: #008000; text-decoration-color: #008000\">22:26:27</span> | ℹ️ <span style=\"font-weight: bold\"> - Writing to: scratch\\micropython-v1_23_0-docstubs\\machine\\UART.pyi</span>\n",
       "</pre>\n"
      ],
      "text/plain": [
       "\u001b[32m22:26:27\u001b[0m | ℹ️ \u001b[1m - Writing to: scratch\\micropython-v1_23_0-docstubs\\machine\\UART.pyi\u001b[0m\n"
      ]
     },
     "metadata": {},
     "output_type": "display_data"
    },
    {
     "data": {
      "text/html": [
       "<pre style=\"white-space:pre;overflow-x:auto;line-height:normal;font-family:Menlo,'DejaVu Sans Mono',consolas,'Courier New',monospace\"><span style=\"color: #008000; text-decoration-color: #008000\">22:26:27</span> | ℹ️ <span style=\"font-weight: bold\"> - Writing to: scratch\\micropython-v1_23_0-docstubs\\machine\\USBDevice.pyi</span>\n",
       "</pre>\n"
      ],
      "text/plain": [
       "\u001b[32m22:26:27\u001b[0m | ℹ️ \u001b[1m - Writing to: scratch\\micropython-v1_23_0-docstubs\\machine\\USBDevice.pyi\u001b[0m\n"
      ]
     },
     "metadata": {},
     "output_type": "display_data"
    },
    {
     "data": {
      "text/html": [
       "<pre style=\"white-space:pre;overflow-x:auto;line-height:normal;font-family:Menlo,'DejaVu Sans Mono',consolas,'Courier New',monospace\"><span style=\"color: #008000; text-decoration-color: #008000\">22:26:27</span> | ℹ️ <span style=\"font-weight: bold\"> - Writing to: scratch\\micropython-v1_23_0-docstubs\\machine\\WDT.pyi</span>\n",
       "</pre>\n"
      ],
      "text/plain": [
       "\u001b[32m22:26:27\u001b[0m | ℹ️ \u001b[1m - Writing to: scratch\\micropython-v1_23_0-docstubs\\machine\\WDT.pyi\u001b[0m\n"
      ]
     },
     "metadata": {},
     "output_type": "display_data"
    },
    {
     "data": {
      "text/html": [
       "<pre style=\"white-space:pre;overflow-x:auto;line-height:normal;font-family:Menlo,'DejaVu Sans Mono',consolas,'Courier New',monospace\"><span style=\"color: #008000; text-decoration-color: #008000\">22:26:27</span> | ℹ️ <span style=\"font-weight: bold\"> - Writing to: scratch\\micropython-v1_23_0-docstubs\\math\\__init__.pyi</span>\n",
       "</pre>\n"
      ],
      "text/plain": [
       "\u001b[32m22:26:27\u001b[0m | ℹ️ \u001b[1m - Writing to: scratch\\micropython-v1_23_0-docstubs\\math\\__init__.pyi\u001b[0m\n"
      ]
     },
     "metadata": {},
     "output_type": "display_data"
    },
    {
     "data": {
      "text/html": [
       "<pre style=\"white-space:pre;overflow-x:auto;line-height:normal;font-family:Menlo,'DejaVu Sans Mono',consolas,'Courier New',monospace\"><span style=\"color: #008000; text-decoration-color: #008000\">22:26:27</span> | ℹ️ <span style=\"font-weight: bold\"> - Writing to: scratch\\micropython-v1_23_0-docstubs\\micropython\\__init__.pyi</span>\n",
       "</pre>\n"
      ],
      "text/plain": [
       "\u001b[32m22:26:27\u001b[0m | ℹ️ \u001b[1m - Writing to: scratch\\micropython-v1_23_0-docstubs\\micropython\\__init__.pyi\u001b[0m\n"
      ]
     },
     "metadata": {},
     "output_type": "display_data"
    },
    {
     "data": {
      "text/html": [
       "<pre style=\"white-space:pre;overflow-x:auto;line-height:normal;font-family:Menlo,'DejaVu Sans Mono',consolas,'Courier New',monospace\"><span style=\"color: #008000; text-decoration-color: #008000\">22:26:27</span> | ℹ️ <span style=\"font-weight: bold\"> - Writing to: scratch\\micropython-v1_23_0-docstubs\\neopixel\\__init__.pyi</span>\n",
       "</pre>\n"
      ],
      "text/plain": [
       "\u001b[32m22:26:27\u001b[0m | ℹ️ \u001b[1m - Writing to: scratch\\micropython-v1_23_0-docstubs\\neopixel\\__init__.pyi\u001b[0m\n"
      ]
     },
     "metadata": {},
     "output_type": "display_data"
    },
    {
     "data": {
      "text/html": [
       "<pre style=\"white-space:pre;overflow-x:auto;line-height:normal;font-family:Menlo,'DejaVu Sans Mono',consolas,'Courier New',monospace\"><span style=\"color: #008000; text-decoration-color: #008000\">22:26:27</span> | ℹ️ <span style=\"font-weight: bold\"> - Writing to: scratch\\micropython-v1_23_0-docstubs\\network\\LAN.pyi</span>\n",
       "</pre>\n"
      ],
      "text/plain": [
       "\u001b[32m22:26:27\u001b[0m | ℹ️ \u001b[1m - Writing to: scratch\\micropython-v1_23_0-docstubs\\network\\LAN.pyi\u001b[0m\n"
      ]
     },
     "metadata": {},
     "output_type": "display_data"
    },
    {
     "data": {
      "text/html": [
       "<pre style=\"white-space:pre;overflow-x:auto;line-height:normal;font-family:Menlo,'DejaVu Sans Mono',consolas,'Courier New',monospace\"><span style=\"color: #008000; text-decoration-color: #008000\">22:26:27</span> | ℹ️ <span style=\"font-weight: bold\"> - Writing to: scratch\\micropython-v1_23_0-docstubs\\network\\__init__.pyi</span>\n",
       "</pre>\n"
      ],
      "text/plain": [
       "\u001b[32m22:26:27\u001b[0m | ℹ️ \u001b[1m - Writing to: scratch\\micropython-v1_23_0-docstubs\\network\\__init__.pyi\u001b[0m\n"
      ]
     },
     "metadata": {},
     "output_type": "display_data"
    },
    {
     "data": {
      "text/html": [
       "<pre style=\"white-space:pre;overflow-x:auto;line-height:normal;font-family:Menlo,'DejaVu Sans Mono',consolas,'Courier New',monospace\"><span style=\"color: #008000; text-decoration-color: #008000\">22:26:27</span> | ℹ️ <span style=\"font-weight: bold\"> - Writing to: scratch\\micropython-v1_23_0-docstubs\\network\\WIZNET5K.pyi</span>\n",
       "</pre>\n"
      ],
      "text/plain": [
       "\u001b[32m22:26:27\u001b[0m | ℹ️ \u001b[1m - Writing to: scratch\\micropython-v1_23_0-docstubs\\network\\WIZNET5K.pyi\u001b[0m\n"
      ]
     },
     "metadata": {},
     "output_type": "display_data"
    },
    {
     "data": {
      "text/html": [
       "<pre style=\"white-space:pre;overflow-x:auto;line-height:normal;font-family:Menlo,'DejaVu Sans Mono',consolas,'Courier New',monospace\"><span style=\"color: #008000; text-decoration-color: #008000\">22:26:27</span> | ℹ️ <span style=\"font-weight: bold\"> - Writing to: scratch\\micropython-v1_23_0-docstubs\\network\\WLAN.pyi</span>\n",
       "</pre>\n"
      ],
      "text/plain": [
       "\u001b[32m22:26:27\u001b[0m | ℹ️ \u001b[1m - Writing to: scratch\\micropython-v1_23_0-docstubs\\network\\WLAN.pyi\u001b[0m\n"
      ]
     },
     "metadata": {},
     "output_type": "display_data"
    },
    {
     "data": {
      "text/html": [
       "<pre style=\"white-space:pre;overflow-x:auto;line-height:normal;font-family:Menlo,'DejaVu Sans Mono',consolas,'Courier New',monospace\"><span style=\"color: #008000; text-decoration-color: #008000\">22:26:27</span> | ℹ️ <span style=\"font-weight: bold\"> - Writing to: scratch\\micropython-v1_23_0-docstubs\\network\\WLANWiPy.pyi</span>\n",
       "</pre>\n"
      ],
      "text/plain": [
       "\u001b[32m22:26:27\u001b[0m | ℹ️ \u001b[1m - Writing to: scratch\\micropython-v1_23_0-docstubs\\network\\WLANWiPy.pyi\u001b[0m\n"
      ]
     },
     "metadata": {},
     "output_type": "display_data"
    },
    {
     "data": {
      "text/html": [
       "<pre style=\"white-space:pre;overflow-x:auto;line-height:normal;font-family:Menlo,'DejaVu Sans Mono',consolas,'Courier New',monospace\"><span style=\"color: #008000; text-decoration-color: #008000\">22:26:27</span> | ℹ️ <span style=\"font-weight: bold\"> - Writing to: scratch\\micropython-v1_23_0-docstubs\\openamp\\__init__.pyi</span>\n",
       "</pre>\n"
      ],
      "text/plain": [
       "\u001b[32m22:26:27\u001b[0m | ℹ️ \u001b[1m - Writing to: scratch\\micropython-v1_23_0-docstubs\\openamp\\__init__.pyi\u001b[0m\n"
      ]
     },
     "metadata": {},
     "output_type": "display_data"
    },
    {
     "data": {
      "text/html": [
       "<pre style=\"white-space:pre;overflow-x:auto;line-height:normal;font-family:Menlo,'DejaVu Sans Mono',consolas,'Courier New',monospace\"><span style=\"color: #008000; text-decoration-color: #008000\">22:26:27</span> | ℹ️ <span style=\"font-weight: bold\"> - Writing to: scratch\\micropython-v1_23_0-docstubs\\os\\__init__.pyi</span>\n",
       "</pre>\n"
      ],
      "text/plain": [
       "\u001b[32m22:26:27\u001b[0m | ℹ️ \u001b[1m - Writing to: scratch\\micropython-v1_23_0-docstubs\\os\\__init__.pyi\u001b[0m\n"
      ]
     },
     "metadata": {},
     "output_type": "display_data"
    },
    {
     "data": {
      "text/html": [
       "<pre style=\"white-space:pre;overflow-x:auto;line-height:normal;font-family:Menlo,'DejaVu Sans Mono',consolas,'Courier New',monospace\"><span style=\"color: #008000; text-decoration-color: #008000\">22:26:27</span> | ℹ️ <span style=\"font-weight: bold\"> - Writing to: scratch\\micropython-v1_23_0-docstubs\\platform\\__init__.pyi</span>\n",
       "</pre>\n"
      ],
      "text/plain": [
       "\u001b[32m22:26:27\u001b[0m | ℹ️ \u001b[1m - Writing to: scratch\\micropython-v1_23_0-docstubs\\platform\\__init__.pyi\u001b[0m\n"
      ]
     },
     "metadata": {},
     "output_type": "display_data"
    },
    {
     "data": {
      "text/html": [
       "<pre style=\"white-space:pre;overflow-x:auto;line-height:normal;font-family:Menlo,'DejaVu Sans Mono',consolas,'Courier New',monospace\"><span style=\"color: #008000; text-decoration-color: #008000\">22:26:27</span> | ℹ️ <span style=\"font-weight: bold\"> - Writing to: scratch\\micropython-v1_23_0-docstubs\\pyb\\Accel.pyi</span>\n",
       "</pre>\n"
      ],
      "text/plain": [
       "\u001b[32m22:26:27\u001b[0m | ℹ️ \u001b[1m - Writing to: scratch\\micropython-v1_23_0-docstubs\\pyb\\Accel.pyi\u001b[0m\n"
      ]
     },
     "metadata": {},
     "output_type": "display_data"
    },
    {
     "data": {
      "text/html": [
       "<pre style=\"white-space:pre;overflow-x:auto;line-height:normal;font-family:Menlo,'DejaVu Sans Mono',consolas,'Courier New',monospace\"><span style=\"color: #008000; text-decoration-color: #008000\">22:26:27</span> | ℹ️ <span style=\"font-weight: bold\"> - Writing to: scratch\\micropython-v1_23_0-docstubs\\pyb\\ADC.pyi</span>\n",
       "</pre>\n"
      ],
      "text/plain": [
       "\u001b[32m22:26:27\u001b[0m | ℹ️ \u001b[1m - Writing to: scratch\\micropython-v1_23_0-docstubs\\pyb\\ADC.pyi\u001b[0m\n"
      ]
     },
     "metadata": {},
     "output_type": "display_data"
    },
    {
     "data": {
      "text/html": [
       "<pre style=\"white-space:pre;overflow-x:auto;line-height:normal;font-family:Menlo,'DejaVu Sans Mono',consolas,'Courier New',monospace\"><span style=\"color: #008000; text-decoration-color: #008000\">22:26:27</span> | ℹ️ <span style=\"font-weight: bold\"> - Writing to: scratch\\micropython-v1_23_0-docstubs\\pyb\\CAN.pyi</span>\n",
       "</pre>\n"
      ],
      "text/plain": [
       "\u001b[32m22:26:27\u001b[0m | ℹ️ \u001b[1m - Writing to: scratch\\micropython-v1_23_0-docstubs\\pyb\\CAN.pyi\u001b[0m\n"
      ]
     },
     "metadata": {},
     "output_type": "display_data"
    },
    {
     "data": {
      "text/html": [
       "<pre style=\"white-space:pre;overflow-x:auto;line-height:normal;font-family:Menlo,'DejaVu Sans Mono',consolas,'Courier New',monospace\"><span style=\"color: #008000; text-decoration-color: #008000\">22:26:27</span> | ℹ️ <span style=\"font-weight: bold\"> - Writing to: scratch\\micropython-v1_23_0-docstubs\\pyb\\DAC.pyi</span>\n",
       "</pre>\n"
      ],
      "text/plain": [
       "\u001b[32m22:26:27\u001b[0m | ℹ️ \u001b[1m - Writing to: scratch\\micropython-v1_23_0-docstubs\\pyb\\DAC.pyi\u001b[0m\n"
      ]
     },
     "metadata": {},
     "output_type": "display_data"
    },
    {
     "data": {
      "text/html": [
       "<pre style=\"white-space:pre;overflow-x:auto;line-height:normal;font-family:Menlo,'DejaVu Sans Mono',consolas,'Courier New',monospace\"><span style=\"color: #008000; text-decoration-color: #008000\">22:26:27</span> | ℹ️ <span style=\"font-weight: bold\"> - Writing to: scratch\\micropython-v1_23_0-docstubs\\pyb\\ExtInt.pyi</span>\n",
       "</pre>\n"
      ],
      "text/plain": [
       "\u001b[32m22:26:27\u001b[0m | ℹ️ \u001b[1m - Writing to: scratch\\micropython-v1_23_0-docstubs\\pyb\\ExtInt.pyi\u001b[0m\n"
      ]
     },
     "metadata": {},
     "output_type": "display_data"
    },
    {
     "data": {
      "text/html": [
       "<pre style=\"white-space:pre;overflow-x:auto;line-height:normal;font-family:Menlo,'DejaVu Sans Mono',consolas,'Courier New',monospace\"><span style=\"color: #008000; text-decoration-color: #008000\">22:26:27</span> | ℹ️ <span style=\"font-weight: bold\"> - Writing to: scratch\\micropython-v1_23_0-docstubs\\pyb\\Flash.pyi</span>\n",
       "</pre>\n"
      ],
      "text/plain": [
       "\u001b[32m22:26:27\u001b[0m | ℹ️ \u001b[1m - Writing to: scratch\\micropython-v1_23_0-docstubs\\pyb\\Flash.pyi\u001b[0m\n"
      ]
     },
     "metadata": {},
     "output_type": "display_data"
    },
    {
     "data": {
      "text/html": [
       "<pre style=\"white-space:pre;overflow-x:auto;line-height:normal;font-family:Menlo,'DejaVu Sans Mono',consolas,'Courier New',monospace\"><span style=\"color: #008000; text-decoration-color: #008000\">22:26:27</span> | ℹ️ <span style=\"font-weight: bold\"> - Writing to: scratch\\micropython-v1_23_0-docstubs\\pyb\\I2C.pyi</span>\n",
       "</pre>\n"
      ],
      "text/plain": [
       "\u001b[32m22:26:27\u001b[0m | ℹ️ \u001b[1m - Writing to: scratch\\micropython-v1_23_0-docstubs\\pyb\\I2C.pyi\u001b[0m\n"
      ]
     },
     "metadata": {},
     "output_type": "display_data"
    },
    {
     "data": {
      "text/html": [
       "<pre style=\"white-space:pre;overflow-x:auto;line-height:normal;font-family:Menlo,'DejaVu Sans Mono',consolas,'Courier New',monospace\"><span style=\"color: #008000; text-decoration-color: #008000\">22:26:27</span> | ℹ️ <span style=\"font-weight: bold\"> - Writing to: scratch\\micropython-v1_23_0-docstubs\\pyb\\LCD.pyi</span>\n",
       "</pre>\n"
      ],
      "text/plain": [
       "\u001b[32m22:26:27\u001b[0m | ℹ️ \u001b[1m - Writing to: scratch\\micropython-v1_23_0-docstubs\\pyb\\LCD.pyi\u001b[0m\n"
      ]
     },
     "metadata": {},
     "output_type": "display_data"
    },
    {
     "data": {
      "text/html": [
       "<pre style=\"white-space:pre;overflow-x:auto;line-height:normal;font-family:Menlo,'DejaVu Sans Mono',consolas,'Courier New',monospace\"><span style=\"color: #008000; text-decoration-color: #008000\">22:26:27</span> | ℹ️ <span style=\"font-weight: bold\"> - Writing to: scratch\\micropython-v1_23_0-docstubs\\pyb\\LED.pyi</span>\n",
       "</pre>\n"
      ],
      "text/plain": [
       "\u001b[32m22:26:27\u001b[0m | ℹ️ \u001b[1m - Writing to: scratch\\micropython-v1_23_0-docstubs\\pyb\\LED.pyi\u001b[0m\n"
      ]
     },
     "metadata": {},
     "output_type": "display_data"
    },
    {
     "data": {
      "text/html": [
       "<pre style=\"white-space:pre;overflow-x:auto;line-height:normal;font-family:Menlo,'DejaVu Sans Mono',consolas,'Courier New',monospace\"><span style=\"color: #008000; text-decoration-color: #008000\">22:26:27</span> | ℹ️ <span style=\"font-weight: bold\"> - Writing to: scratch\\micropython-v1_23_0-docstubs\\pyb\\Pin.pyi</span>\n",
       "</pre>\n"
      ],
      "text/plain": [
       "\u001b[32m22:26:27\u001b[0m | ℹ️ \u001b[1m - Writing to: scratch\\micropython-v1_23_0-docstubs\\pyb\\Pin.pyi\u001b[0m\n"
      ]
     },
     "metadata": {},
     "output_type": "display_data"
    },
    {
     "data": {
      "text/html": [
       "<pre style=\"white-space:pre;overflow-x:auto;line-height:normal;font-family:Menlo,'DejaVu Sans Mono',consolas,'Courier New',monospace\"><span style=\"color: #008000; text-decoration-color: #008000\">22:26:27</span> | ℹ️ <span style=\"font-weight: bold\"> - Writing to: scratch\\micropython-v1_23_0-docstubs\\pyb\\__init__.pyi</span>\n",
       "</pre>\n"
      ],
      "text/plain": [
       "\u001b[32m22:26:27\u001b[0m | ℹ️ \u001b[1m - Writing to: scratch\\micropython-v1_23_0-docstubs\\pyb\\__init__.pyi\u001b[0m\n"
      ]
     },
     "metadata": {},
     "output_type": "display_data"
    },
    {
     "data": {
      "text/html": [
       "<pre style=\"white-space:pre;overflow-x:auto;line-height:normal;font-family:Menlo,'DejaVu Sans Mono',consolas,'Courier New',monospace\"><span style=\"color: #008000; text-decoration-color: #008000\">22:26:27</span> | ℹ️ <span style=\"font-weight: bold\"> - Writing to: scratch\\micropython-v1_23_0-docstubs\\pyb\\RTC.pyi</span>\n",
       "</pre>\n"
      ],
      "text/plain": [
       "\u001b[32m22:26:27\u001b[0m | ℹ️ \u001b[1m - Writing to: scratch\\micropython-v1_23_0-docstubs\\pyb\\RTC.pyi\u001b[0m\n"
      ]
     },
     "metadata": {},
     "output_type": "display_data"
    },
    {
     "data": {
      "text/html": [
       "<pre style=\"white-space:pre;overflow-x:auto;line-height:normal;font-family:Menlo,'DejaVu Sans Mono',consolas,'Courier New',monospace\"><span style=\"color: #008000; text-decoration-color: #008000\">22:26:27</span> | ℹ️ <span style=\"font-weight: bold\"> - Writing to: scratch\\micropython-v1_23_0-docstubs\\pyb\\Servo.pyi</span>\n",
       "</pre>\n"
      ],
      "text/plain": [
       "\u001b[32m22:26:27\u001b[0m | ℹ️ \u001b[1m - Writing to: scratch\\micropython-v1_23_0-docstubs\\pyb\\Servo.pyi\u001b[0m\n"
      ]
     },
     "metadata": {},
     "output_type": "display_data"
    },
    {
     "data": {
      "text/html": [
       "<pre style=\"white-space:pre;overflow-x:auto;line-height:normal;font-family:Menlo,'DejaVu Sans Mono',consolas,'Courier New',monospace\"><span style=\"color: #008000; text-decoration-color: #008000\">22:26:27</span> | ℹ️ <span style=\"font-weight: bold\"> - Writing to: scratch\\micropython-v1_23_0-docstubs\\pyb\\SPI.pyi</span>\n",
       "</pre>\n"
      ],
      "text/plain": [
       "\u001b[32m22:26:27\u001b[0m | ℹ️ \u001b[1m - Writing to: scratch\\micropython-v1_23_0-docstubs\\pyb\\SPI.pyi\u001b[0m\n"
      ]
     },
     "metadata": {},
     "output_type": "display_data"
    },
    {
     "data": {
      "text/html": [
       "<pre style=\"white-space:pre;overflow-x:auto;line-height:normal;font-family:Menlo,'DejaVu Sans Mono',consolas,'Courier New',monospace\"><span style=\"color: #008000; text-decoration-color: #008000\">22:26:27</span> | ℹ️ <span style=\"font-weight: bold\"> - Writing to: scratch\\micropython-v1_23_0-docstubs\\pyb\\Switch.pyi</span>\n",
       "</pre>\n"
      ],
      "text/plain": [
       "\u001b[32m22:26:27\u001b[0m | ℹ️ \u001b[1m - Writing to: scratch\\micropython-v1_23_0-docstubs\\pyb\\Switch.pyi\u001b[0m\n"
      ]
     },
     "metadata": {},
     "output_type": "display_data"
    },
    {
     "data": {
      "text/html": [
       "<pre style=\"white-space:pre;overflow-x:auto;line-height:normal;font-family:Menlo,'DejaVu Sans Mono',consolas,'Courier New',monospace\"><span style=\"color: #008000; text-decoration-color: #008000\">22:26:27</span> | ℹ️ <span style=\"font-weight: bold\"> - Writing to: scratch\\micropython-v1_23_0-docstubs\\pyb\\Timer.pyi</span>\n",
       "</pre>\n"
      ],
      "text/plain": [
       "\u001b[32m22:26:27\u001b[0m | ℹ️ \u001b[1m - Writing to: scratch\\micropython-v1_23_0-docstubs\\pyb\\Timer.pyi\u001b[0m\n"
      ]
     },
     "metadata": {},
     "output_type": "display_data"
    },
    {
     "data": {
      "text/html": [
       "<pre style=\"white-space:pre;overflow-x:auto;line-height:normal;font-family:Menlo,'DejaVu Sans Mono',consolas,'Courier New',monospace\"><span style=\"color: #008000; text-decoration-color: #008000\">22:26:27</span> | ℹ️ <span style=\"font-weight: bold\"> - Writing to: scratch\\micropython-v1_23_0-docstubs\\pyb\\UART.pyi</span>\n",
       "</pre>\n"
      ],
      "text/plain": [
       "\u001b[32m22:26:27\u001b[0m | ℹ️ \u001b[1m - Writing to: scratch\\micropython-v1_23_0-docstubs\\pyb\\UART.pyi\u001b[0m\n"
      ]
     },
     "metadata": {},
     "output_type": "display_data"
    },
    {
     "data": {
      "text/html": [
       "<pre style=\"white-space:pre;overflow-x:auto;line-height:normal;font-family:Menlo,'DejaVu Sans Mono',consolas,'Courier New',monospace\"><span style=\"color: #008000; text-decoration-color: #008000\">22:26:27</span> | ℹ️ <span style=\"font-weight: bold\"> - Writing to: scratch\\micropython-v1_23_0-docstubs\\pyb\\USB_HID.pyi</span>\n",
       "</pre>\n"
      ],
      "text/plain": [
       "\u001b[32m22:26:27\u001b[0m | ℹ️ \u001b[1m - Writing to: scratch\\micropython-v1_23_0-docstubs\\pyb\\USB_HID.pyi\u001b[0m\n"
      ]
     },
     "metadata": {},
     "output_type": "display_data"
    },
    {
     "data": {
      "text/html": [
       "<pre style=\"white-space:pre;overflow-x:auto;line-height:normal;font-family:Menlo,'DejaVu Sans Mono',consolas,'Courier New',monospace\"><span style=\"color: #008000; text-decoration-color: #008000\">22:26:27</span> | ℹ️ <span style=\"font-weight: bold\"> - Writing to: scratch\\micropython-v1_23_0-docstubs\\pyb\\USB_VCP.pyi</span>\n",
       "</pre>\n"
      ],
      "text/plain": [
       "\u001b[32m22:26:27\u001b[0m | ℹ️ \u001b[1m - Writing to: scratch\\micropython-v1_23_0-docstubs\\pyb\\USB_VCP.pyi\u001b[0m\n"
      ]
     },
     "metadata": {},
     "output_type": "display_data"
    },
    {
     "data": {
      "text/html": [
       "<pre style=\"white-space:pre;overflow-x:auto;line-height:normal;font-family:Menlo,'DejaVu Sans Mono',consolas,'Courier New',monospace\"><span style=\"color: #008000; text-decoration-color: #008000\">22:26:27</span> | ℹ️ <span style=\"font-weight: bold\"> - Writing to: scratch\\micropython-v1_23_0-docstubs\\random\\__init__.pyi</span>\n",
       "</pre>\n"
      ],
      "text/plain": [
       "\u001b[32m22:26:27\u001b[0m | ℹ️ \u001b[1m - Writing to: scratch\\micropython-v1_23_0-docstubs\\random\\__init__.pyi\u001b[0m\n"
      ]
     },
     "metadata": {},
     "output_type": "display_data"
    },
    {
     "data": {
      "text/html": [
       "<pre style=\"white-space:pre;overflow-x:auto;line-height:normal;font-family:Menlo,'DejaVu Sans Mono',consolas,'Courier New',monospace\"><span style=\"color: #008000; text-decoration-color: #008000\">22:26:27</span> | ℹ️ <span style=\"font-weight: bold\"> - Writing to: scratch\\micropython-v1_23_0-docstubs\\rp2\\DMA.pyi</span>\n",
       "</pre>\n"
      ],
      "text/plain": [
       "\u001b[32m22:26:27\u001b[0m | ℹ️ \u001b[1m - Writing to: scratch\\micropython-v1_23_0-docstubs\\rp2\\DMA.pyi\u001b[0m\n"
      ]
     },
     "metadata": {},
     "output_type": "display_data"
    },
    {
     "data": {
      "text/html": [
       "<pre style=\"white-space:pre;overflow-x:auto;line-height:normal;font-family:Menlo,'DejaVu Sans Mono',consolas,'Courier New',monospace\"><span style=\"color: #008000; text-decoration-color: #008000\">22:26:27</span> | ℹ️ <span style=\"font-weight: bold\"> - Writing to: scratch\\micropython-v1_23_0-docstubs\\rp2\\Flash.pyi</span>\n",
       "</pre>\n"
      ],
      "text/plain": [
       "\u001b[32m22:26:27\u001b[0m | ℹ️ \u001b[1m - Writing to: scratch\\micropython-v1_23_0-docstubs\\rp2\\Flash.pyi\u001b[0m\n"
      ]
     },
     "metadata": {},
     "output_type": "display_data"
    },
    {
     "data": {
      "text/html": [
       "<pre style=\"white-space:pre;overflow-x:auto;line-height:normal;font-family:Menlo,'DejaVu Sans Mono',consolas,'Courier New',monospace\"><span style=\"color: #008000; text-decoration-color: #008000\">22:26:27</span> | ℹ️ <span style=\"font-weight: bold\"> - Writing to: scratch\\micropython-v1_23_0-docstubs\\rp2\\PIO.pyi</span>\n",
       "</pre>\n"
      ],
      "text/plain": [
       "\u001b[32m22:26:27\u001b[0m | ℹ️ \u001b[1m - Writing to: scratch\\micropython-v1_23_0-docstubs\\rp2\\PIO.pyi\u001b[0m\n"
      ]
     },
     "metadata": {},
     "output_type": "display_data"
    },
    {
     "data": {
      "text/html": [
       "<pre style=\"white-space:pre;overflow-x:auto;line-height:normal;font-family:Menlo,'DejaVu Sans Mono',consolas,'Courier New',monospace\"><span style=\"color: #008000; text-decoration-color: #008000\">22:26:27</span> | ℹ️ <span style=\"font-weight: bold\"> - Writing to: scratch\\micropython-v1_23_0-docstubs\\rp2\\__init__.pyi</span>\n",
       "</pre>\n"
      ],
      "text/plain": [
       "\u001b[32m22:26:27\u001b[0m | ℹ️ \u001b[1m - Writing to: scratch\\micropython-v1_23_0-docstubs\\rp2\\__init__.pyi\u001b[0m\n"
      ]
     },
     "metadata": {},
     "output_type": "display_data"
    },
    {
     "data": {
      "text/html": [
       "<pre style=\"white-space:pre;overflow-x:auto;line-height:normal;font-family:Menlo,'DejaVu Sans Mono',consolas,'Courier New',monospace\"><span style=\"color: #008000; text-decoration-color: #008000\">22:26:27</span> | ℹ️ <span style=\"font-weight: bold\"> - Writing to: scratch\\micropython-v1_23_0-docstubs\\rp2\\StateMachine.pyi</span>\n",
       "</pre>\n"
      ],
      "text/plain": [
       "\u001b[32m22:26:27\u001b[0m | ℹ️ \u001b[1m - Writing to: scratch\\micropython-v1_23_0-docstubs\\rp2\\StateMachine.pyi\u001b[0m\n"
      ]
     },
     "metadata": {},
     "output_type": "display_data"
    },
    {
     "data": {
      "text/html": [
       "<pre style=\"white-space:pre;overflow-x:auto;line-height:normal;font-family:Menlo,'DejaVu Sans Mono',consolas,'Courier New',monospace\"><span style=\"color: #008000; text-decoration-color: #008000\">22:26:27</span> | ℹ️ <span style=\"font-weight: bold\"> - Writing to: scratch\\micropython-v1_23_0-docstubs\\select\\__init__.pyi</span>\n",
       "</pre>\n"
      ],
      "text/plain": [
       "\u001b[32m22:26:27\u001b[0m | ℹ️ \u001b[1m - Writing to: scratch\\micropython-v1_23_0-docstubs\\select\\__init__.pyi\u001b[0m\n"
      ]
     },
     "metadata": {},
     "output_type": "display_data"
    },
    {
     "data": {
      "text/html": [
       "<pre style=\"white-space:pre;overflow-x:auto;line-height:normal;font-family:Menlo,'DejaVu Sans Mono',consolas,'Courier New',monospace\"><span style=\"color: #008000; text-decoration-color: #008000\">22:26:28</span> | ℹ️ <span style=\"font-weight: bold\"> - Writing to: scratch\\micropython-v1_23_0-docstubs\\socket\\__init__.pyi</span>\n",
       "</pre>\n"
      ],
      "text/plain": [
       "\u001b[32m22:26:28\u001b[0m | ℹ️ \u001b[1m - Writing to: scratch\\micropython-v1_23_0-docstubs\\socket\\__init__.pyi\u001b[0m\n"
      ]
     },
     "metadata": {},
     "output_type": "display_data"
    },
    {
     "data": {
      "text/html": [
       "<pre style=\"white-space:pre;overflow-x:auto;line-height:normal;font-family:Menlo,'DejaVu Sans Mono',consolas,'Courier New',monospace\"><span style=\"color: #008000; text-decoration-color: #008000\">22:26:28</span> | ℹ️ <span style=\"font-weight: bold\"> - Writing to: scratch\\micropython-v1_23_0-docstubs\\ssl\\__init__.pyi</span>\n",
       "</pre>\n"
      ],
      "text/plain": [
       "\u001b[32m22:26:28\u001b[0m | ℹ️ \u001b[1m - Writing to: scratch\\micropython-v1_23_0-docstubs\\ssl\\__init__.pyi\u001b[0m\n"
      ]
     },
     "metadata": {},
     "output_type": "display_data"
    },
    {
     "data": {
      "text/html": [
       "<pre style=\"white-space:pre;overflow-x:auto;line-height:normal;font-family:Menlo,'DejaVu Sans Mono',consolas,'Courier New',monospace\"><span style=\"color: #008000; text-decoration-color: #008000\">22:26:28</span> | ℹ️ <span style=\"font-weight: bold\"> - Writing to: scratch\\micropython-v1_23_0-docstubs\\stm\\__init__.pyi</span>\n",
       "</pre>\n"
      ],
      "text/plain": [
       "\u001b[32m22:26:28\u001b[0m | ℹ️ \u001b[1m - Writing to: scratch\\micropython-v1_23_0-docstubs\\stm\\__init__.pyi\u001b[0m\n"
      ]
     },
     "metadata": {},
     "output_type": "display_data"
    },
    {
     "data": {
      "text/html": [
       "<pre style=\"white-space:pre;overflow-x:auto;line-height:normal;font-family:Menlo,'DejaVu Sans Mono',consolas,'Courier New',monospace\"><span style=\"color: #008000; text-decoration-color: #008000\">22:26:28</span> | ℹ️ <span style=\"font-weight: bold\"> - Writing to: scratch\\micropython-v1_23_0-docstubs\\struct\\__init__.pyi</span>\n",
       "</pre>\n"
      ],
      "text/plain": [
       "\u001b[32m22:26:28\u001b[0m | ℹ️ \u001b[1m - Writing to: scratch\\micropython-v1_23_0-docstubs\\struct\\__init__.pyi\u001b[0m\n"
      ]
     },
     "metadata": {},
     "output_type": "display_data"
    },
    {
     "data": {
      "text/html": [
       "<pre style=\"white-space:pre;overflow-x:auto;line-height:normal;font-family:Menlo,'DejaVu Sans Mono',consolas,'Courier New',monospace\"><span style=\"color: #008000; text-decoration-color: #008000\">22:26:28</span> | ℹ️ <span style=\"font-weight: bold\"> - Writing to: scratch\\micropython-v1_23_0-docstubs\\sys\\__init__.pyi</span>\n",
       "</pre>\n"
      ],
      "text/plain": [
       "\u001b[32m22:26:28\u001b[0m | ℹ️ \u001b[1m - Writing to: scratch\\micropython-v1_23_0-docstubs\\sys\\__init__.pyi\u001b[0m\n"
      ]
     },
     "metadata": {},
     "output_type": "display_data"
    },
    {
     "data": {
      "text/html": [
       "<pre style=\"white-space:pre;overflow-x:auto;line-height:normal;font-family:Menlo,'DejaVu Sans Mono',consolas,'Courier New',monospace\"><span style=\"color: #008000; text-decoration-color: #008000\">22:26:28</span> | ℹ️ <span style=\"font-weight: bold\"> - Writing to: scratch\\micropython-v1_23_0-docstubs\\time\\__init__.pyi</span>\n",
       "</pre>\n"
      ],
      "text/plain": [
       "\u001b[32m22:26:28\u001b[0m | ℹ️ \u001b[1m - Writing to: scratch\\micropython-v1_23_0-docstubs\\time\\__init__.pyi\u001b[0m\n"
      ]
     },
     "metadata": {},
     "output_type": "display_data"
    },
    {
     "data": {
      "text/html": [
       "<pre style=\"white-space:pre;overflow-x:auto;line-height:normal;font-family:Menlo,'DejaVu Sans Mono',consolas,'Courier New',monospace\"><span style=\"color: #008000; text-decoration-color: #008000\">22:26:28</span> | ℹ️ <span style=\"font-weight: bold\"> - Writing to: scratch\\micropython-v1_23_0-docstubs\\uctypes\\__init__.pyi</span>\n",
       "</pre>\n"
      ],
      "text/plain": [
       "\u001b[32m22:26:28\u001b[0m | ℹ️ \u001b[1m - Writing to: scratch\\micropython-v1_23_0-docstubs\\uctypes\\__init__.pyi\u001b[0m\n"
      ]
     },
     "metadata": {},
     "output_type": "display_data"
    },
    {
     "data": {
      "text/html": [
       "<pre style=\"white-space:pre;overflow-x:auto;line-height:normal;font-family:Menlo,'DejaVu Sans Mono',consolas,'Courier New',monospace\"><span style=\"color: #008000; text-decoration-color: #008000\">22:26:28</span> | ℹ️ <span style=\"font-weight: bold\"> - Writing to: scratch\\micropython-v1_23_0-docstubs\\vfs\\__init__.pyi</span>\n",
       "</pre>\n"
      ],
      "text/plain": [
       "\u001b[32m22:26:28\u001b[0m | ℹ️ \u001b[1m - Writing to: scratch\\micropython-v1_23_0-docstubs\\vfs\\__init__.pyi\u001b[0m\n"
      ]
     },
     "metadata": {},
     "output_type": "display_data"
    },
    {
     "data": {
      "text/html": [
       "<pre style=\"white-space:pre;overflow-x:auto;line-height:normal;font-family:Menlo,'DejaVu Sans Mono',consolas,'Courier New',monospace\"><span style=\"color: #008000; text-decoration-color: #008000\">22:26:28</span> | ℹ️ <span style=\"font-weight: bold\"> - Writing to: scratch\\micropython-v1_23_0-docstubs\\wipy\\__init__.pyi</span>\n",
       "</pre>\n"
      ],
      "text/plain": [
       "\u001b[32m22:26:28\u001b[0m | ℹ️ \u001b[1m - Writing to: scratch\\micropython-v1_23_0-docstubs\\wipy\\__init__.pyi\u001b[0m\n"
      ]
     },
     "metadata": {},
     "output_type": "display_data"
    },
    {
     "data": {
      "text/html": [
       "<pre style=\"white-space:pre;overflow-x:auto;line-height:normal;font-family:Menlo,'DejaVu Sans Mono',consolas,'Courier New',monospace\"><span style=\"color: #008000; text-decoration-color: #008000\">22:26:28</span> | ℹ️ <span style=\"font-weight: bold\"> - Writing to: scratch\\micropython-v1_23_0-docstubs\\wm8960\\__init__.pyi</span>\n",
       "</pre>\n"
      ],
      "text/plain": [
       "\u001b[32m22:26:28\u001b[0m | ℹ️ \u001b[1m - Writing to: scratch\\micropython-v1_23_0-docstubs\\wm8960\\__init__.pyi\u001b[0m\n"
      ]
     },
     "metadata": {},
     "output_type": "display_data"
    },
    {
     "data": {
      "text/html": [
       "<pre style=\"white-space:pre;overflow-x:auto;line-height:normal;font-family:Menlo,'DejaVu Sans Mono',consolas,'Courier New',monospace\"><span style=\"color: #008000; text-decoration-color: #008000\">22:26:28</span> | ℹ️ <span style=\"font-weight: bold\"> - Writing to: scratch\\micropython-v1_23_0-docstubs\\zephyr\\DiskAccess.pyi</span>\n",
       "</pre>\n"
      ],
      "text/plain": [
       "\u001b[32m22:26:28\u001b[0m | ℹ️ \u001b[1m - Writing to: scratch\\micropython-v1_23_0-docstubs\\zephyr\\DiskAccess.pyi\u001b[0m\n"
      ]
     },
     "metadata": {},
     "output_type": "display_data"
    },
    {
     "data": {
      "text/html": [
       "<pre style=\"white-space:pre;overflow-x:auto;line-height:normal;font-family:Menlo,'DejaVu Sans Mono',consolas,'Courier New',monospace\"><span style=\"color: #008000; text-decoration-color: #008000\">22:26:28</span> | ℹ️ <span style=\"font-weight: bold\"> - Writing to: scratch\\micropython-v1_23_0-docstubs\\zephyr\\FlashArea.pyi</span>\n",
       "</pre>\n"
      ],
      "text/plain": [
       "\u001b[32m22:26:28\u001b[0m | ℹ️ \u001b[1m - Writing to: scratch\\micropython-v1_23_0-docstubs\\zephyr\\FlashArea.pyi\u001b[0m\n"
      ]
     },
     "metadata": {},
     "output_type": "display_data"
    },
    {
     "data": {
      "text/html": [
       "<pre style=\"white-space:pre;overflow-x:auto;line-height:normal;font-family:Menlo,'DejaVu Sans Mono',consolas,'Courier New',monospace\"><span style=\"color: #008000; text-decoration-color: #008000\">22:26:28</span> | ℹ️ <span style=\"font-weight: bold\"> - Writing to: scratch\\micropython-v1_23_0-docstubs\\zephyr\\__init__.pyi</span>\n",
       "</pre>\n"
      ],
      "text/plain": [
       "\u001b[32m22:26:28\u001b[0m | ℹ️ \u001b[1m - Writing to: scratch\\micropython-v1_23_0-docstubs\\zephyr\\__init__.pyi\u001b[0m\n"
      ]
     },
     "metadata": {},
     "output_type": "display_data"
    },
    {
     "data": {
      "text/html": [
       "<pre style=\"white-space:pre;overflow-x:auto;line-height:normal;font-family:Menlo,'DejaVu Sans Mono',consolas,'Courier New',monospace\"><span style=\"color: #008000; text-decoration-color: #008000\">22:26:28</span> | ℹ️ <span style=\"font-weight: bold\"> - Writing to: scratch\\micropython-v1_23_0-docstubs\\zephyr\\zsensor.pyi</span>\n",
       "</pre>\n"
      ],
      "text/plain": [
       "\u001b[32m22:26:28\u001b[0m | ℹ️ \u001b[1m - Writing to: scratch\\micropython-v1_23_0-docstubs\\zephyr\\zsensor.pyi\u001b[0m\n"
      ]
     },
     "metadata": {},
     "output_type": "display_data"
    },
    {
     "data": {
      "text/html": [
       "<pre style=\"white-space:pre;overflow-x:auto;line-height:normal;font-family:Menlo,'DejaVu Sans Mono',consolas,'Courier New',monospace\"><span style=\"color: #008000; text-decoration-color: #008000\">22:26:28</span> | ℹ️ <span style=\"font-weight: bold\"> - Writing to: scratch\\micropython-v1_23_0-docstubs\\zlib\\__init__.pyi</span>\n",
       "</pre>\n"
      ],
      "text/plain": [
       "\u001b[32m22:26:28\u001b[0m | ℹ️ \u001b[1m - Writing to: scratch\\micropython-v1_23_0-docstubs\\zlib\\__init__.pyi\u001b[0m\n"
      ]
     },
     "metadata": {},
     "output_type": "display_data"
    },
    {
     "data": {
      "text/html": [
       "<pre style=\"white-space:pre;overflow-x:auto;line-height:normal;font-family:Menlo,'DejaVu Sans Mono',consolas,'Courier New',monospace\"><span style=\"color: #008000; text-decoration-color: #008000\">22:26:28</span> | ℹ️ <span style=\"font-weight: bold\"> - Writing to: scratch\\micropython-v1_23_0-docstubs\\_thread\\__init__.pyi</span>\n",
       "</pre>\n"
      ],
      "text/plain": [
       "\u001b[32m22:26:28\u001b[0m | ℹ️ \u001b[1m - Writing to: scratch\\micropython-v1_23_0-docstubs\\_thread\\__init__.pyi\u001b[0m\n"
      ]
     },
     "metadata": {},
     "output_type": "display_data"
    },
    {
     "data": {
      "text/html": [
       "<pre style=\"white-space:pre;overflow-x:auto;line-height:normal;font-family:Menlo,'DejaVu Sans Mono',consolas,'Courier New',monospace\"><span style=\"color: #008000; text-decoration-color: #008000\">22:26:28</span> | ℹ️ <span style=\"font-weight: bold\">::group:: start post processing of retrieved stubs</span>\n",
       "</pre>\n"
      ],
      "text/plain": [
       "\u001b[32m22:26:28\u001b[0m | ℹ️ \u001b[1m::group:: start post processing of retrieved stubs\u001b[0m\n"
      ]
     },
     "metadata": {},
     "output_type": "display_data"
    },
    {
     "data": {
      "text/html": [
       "<pre style=\"white-space:pre;overflow-x:auto;line-height:normal;font-family:Menlo,'DejaVu Sans Mono',consolas,'Courier New',monospace\"><span style=\"color: #008000; text-decoration-color: #008000\">22:26:33</span> | ℹ️ <span style=\"font-weight: bold\">Running autoflake on: scratch\\micropython-v1_23_0-docstubs</span>\n",
       "</pre>\n"
      ],
      "text/plain": [
       "\u001b[32m22:26:33\u001b[0m | ℹ️ \u001b[1mRunning autoflake on: scratch\\micropython-v1_23_0-docstubs\u001b[0m\n"
      ]
     },
     "metadata": {},
     "output_type": "display_data"
    },
    {
     "data": {
      "text/html": [
       "<pre style=\"white-space:pre;overflow-x:auto;line-height:normal;font-family:Menlo,'DejaVu Sans Mono',consolas,'Courier New',monospace\"><span style=\"color: #008000; text-decoration-color: #008000\">22:26:35</span> | ℹ️ <span style=\"font-weight: bold\">::group:: Done</span>\n",
       "</pre>\n"
      ],
      "text/plain": [
       "\u001b[32m22:26:35\u001b[0m | ℹ️ \u001b[1m::group:: Done\u001b[0m\n"
      ]
     },
     "metadata": {},
     "output_type": "display_data"
    },
    {
     "name": "stderr",
     "output_type": "stream",
     "text": [
      "Skipping .ipynb files as Jupyter dependencies are not installed.\n",
      "You can fix this by running ``pip install \"black[jupyter]\"``\n",
      "reformatted D:\\mypython\\micropython-stubber\\scratch\\micropython-v1_23_0-docstubs\\esp32\\__init__.pyi\n",
      "reformatted D:\\mypython\\micropython-stubber\\scratch\\micropython-v1_23_0-docstubs\\espnow\\__init__.pyi\n",
      "reformatted D:\\mypython\\micropython-stubber\\scratch\\micropython-v1_23_0-docstubs\\machine\\ADC.pyi\n",
      "reformatted D:\\mypython\\micropython-stubber\\scratch\\micropython-v1_23_0-docstubs\\machine\\I2S.pyi\n",
      "reformatted D:\\mypython\\micropython-stubber\\scratch\\micropython-v1_23_0-docstubs\\lcd160cr\\__init__.pyi\n",
      "reformatted D:\\mypython\\micropython-stubber\\scratch\\micropython-v1_23_0-docstubs\\machine\\PWM.pyi\n",
      "reformatted D:\\mypython\\micropython-stubber\\scratch\\micropython-v1_23_0-docstubs\\asyncio\\__init__.pyi\n",
      "reformatted D:\\mypython\\micropython-stubber\\scratch\\micropython-v1_23_0-docstubs\\machine\\SDCard.pyi\n",
      "reformatted D:\\mypython\\micropython-stubber\\scratch\\micropython-v1_23_0-docstubs\\machine\\Pin.pyi\n",
      "reformatted D:\\mypython\\micropython-stubber\\scratch\\micropython-v1_23_0-docstubs\\machine\\SPI.pyi\n",
      "reformatted D:\\mypython\\micropython-stubber\\scratch\\micropython-v1_23_0-docstubs\\machine\\TimerWiPy.pyi\n",
      "reformatted D:\\mypython\\micropython-stubber\\scratch\\micropython-v1_23_0-docstubs\\machine\\USBDevice.pyi\n",
      "reformatted D:\\mypython\\micropython-stubber\\scratch\\micropython-v1_23_0-docstubs\\network\\__init__.pyi\n",
      "reformatted D:\\mypython\\micropython-stubber\\scratch\\micropython-v1_23_0-docstubs\\openamp\\__init__.pyi\n",
      "reformatted D:\\mypython\\micropython-stubber\\scratch\\micropython-v1_23_0-docstubs\\os\\__init__.pyi\n",
      "reformatted D:\\mypython\\micropython-stubber\\scratch\\micropython-v1_23_0-docstubs\\pyb\\I2C.pyi\n",
      "reformatted D:\\mypython\\micropython-stubber\\scratch\\micropython-v1_23_0-docstubs\\pyb\\Servo.pyi\n",
      "reformatted D:\\mypython\\micropython-stubber\\scratch\\micropython-v1_23_0-docstubs\\pyb\\CAN.pyi\n",
      "reformatted D:\\mypython\\micropython-stubber\\scratch\\micropython-v1_23_0-docstubs\\bluetooth\\__init__.pyi\n",
      "reformatted D:\\mypython\\micropython-stubber\\scratch\\micropython-v1_23_0-docstubs\\pyb\\SPI.pyi\n",
      "reformatted D:\\mypython\\micropython-stubber\\scratch\\micropython-v1_23_0-docstubs\\rp2\\DMA.pyi\n",
      "reformatted D:\\mypython\\micropython-stubber\\scratch\\micropython-v1_23_0-docstubs\\pyb\\Timer.pyi\n",
      "reformatted D:\\mypython\\micropython-stubber\\scratch\\micropython-v1_23_0-docstubs\\pyb\\__init__.pyi\n",
      "reformatted D:\\mypython\\micropython-stubber\\scratch\\micropython-v1_23_0-docstubs\\pyb\\UART.pyi\n",
      "reformatted D:\\mypython\\micropython-stubber\\scratch\\micropython-v1_23_0-docstubs\\ssl\\__init__.pyi\n",
      "reformatted D:\\mypython\\micropython-stubber\\scratch\\micropython-v1_23_0-docstubs\\rp2\\PIO.pyi\n",
      "reformatted D:\\mypython\\micropython-stubber\\scratch\\micropython-v1_23_0-docstubs\\vfs\\__init__.pyi\n",
      "reformatted D:\\mypython\\micropython-stubber\\scratch\\micropython-v1_23_0-docstubs\\wm8960\\__init__.pyi\n",
      "\n",
      "All done! ✨ 🍰 ✨\n",
      "28 files reformatted, 174 files left unchanged.\n"
     ]
    }
   ],
   "source": [
    "# create docstubs without cleaning up the .rst  docstrings\n",
    "%run -m stubber.stubber docstubs --version 1.23.0 --stub-path scratch\n",
    "# --no-clean-rst\n",
    "\n",
    "! black scratch\n"
   ]
  },
  {
   "cell_type": "code",
   "execution_count": 5,
   "metadata": {},
   "outputs": [
    {
     "name": "stdout",
     "output_type": "stream",
     "text": [
      "d:\\mypython\\micropython-stubber\\scratch\n"
     ]
    },
    {
     "name": "stderr",
     "output_type": "stream",
     "text": [
      "d:\\mypython\\micropython-stubber\\.venv\\Lib\\site-packages\\IPython\\core\\magics\\osm.py:417: UserWarning: using dhist requires you to install the `pickleshare` library.\n",
      "  self.shell.db['dhist'] = compress_dhist(dhist)[-100:]\n"
     ]
    },
    {
     "name": "stdout",
     "output_type": "stream",
     "text": [
      "d:\\mypython\\micropython-stubber\n"
     ]
    }
   ],
   "source": [
    "# stage to see changes from next steps \n",
    "%cd scratch\n",
    "!git add .\n",
    "%cd ..\n"
   ]
  },
  {
   "cell_type": "code",
   "execution_count": 6,
   "metadata": {},
   "outputs": [
    {
     "data": {
      "text/html": [
       "<pre style=\"white-space:pre;overflow-x:auto;line-height:normal;font-family:Menlo,'DejaVu Sans Mono',consolas,'Courier New',monospace\"><span style=\"color: #008000; text-decoration-color: #008000\">22:28:13</span> | ℹ️ <span style=\"font-weight: bold\">micropython-stubber </span><span style=\"color: #008080; text-decoration-color: #008080; font-weight: bold\">1.23</span><span style=\"font-weight: bold\">.2a0</span>\n",
       "</pre>\n"
      ],
      "text/plain": [
       "\u001b[32m22:28:13\u001b[0m | ℹ️ \u001b[1mmicropython-stubber \u001b[0m\u001b[1;36m1.23\u001b[0m\u001b[1m.2a0\u001b[0m\n"
      ]
     },
     "metadata": {},
     "output_type": "display_data"
    },
    {
     "data": {
      "text/html": [
       "<pre style=\"white-space:pre;overflow-x:auto;line-height:normal;font-family:Menlo,'DejaVu Sans Mono',consolas,'Courier New',monospace\"><span style=\"color: #008000; text-decoration-color: #008000\">22:28:13</span> | ℹ️ <span style=\"font-weight: bold\">Enriching scratch with repos\\intellij-micropython\\typehints</span>\n",
       "</pre>\n"
      ],
      "text/plain": [
       "\u001b[32m22:28:13\u001b[0m | ℹ️ \u001b[1mEnriching scratch with repos\\intellij-micropython\\typehints\u001b[0m\n"
      ]
     },
     "metadata": {},
     "output_type": "display_data"
    },
    {
     "data": {
      "text/html": [
       "<pre style=\"white-space:pre;overflow-x:auto;line-height:normal;font-family:Menlo,'DejaVu Sans Mono',consolas,'Courier New',monospace\"><span style=\"color: #008000; text-decoration-color: #008000\">22:28:13</span> | ℹ️ <span style=\"font-weight: bold\">Enrich folder scratch.</span>\n",
       "</pre>\n"
      ],
      "text/plain": [
       "\u001b[32m22:28:13\u001b[0m | ℹ️ \u001b[1mEnrich folder scratch.\u001b[0m\n"
      ]
     },
     "metadata": {},
     "output_type": "display_data"
    },
    {
     "data": {
      "text/html": [
       "<pre style=\"white-space:pre;overflow-x:auto;line-height:normal;font-family:Menlo,'DejaVu Sans Mono',consolas,'Courier New',monospace\"><span style=\"color: #008000; text-decoration-color: #008000\">22:28:13</span> | ℹ️ <span style=\"font-weight: bold\">Merge scratch\\micropython-v1_23_0-docstubs\\_thread\\__init__.pyi from </span>\n",
       "<span style=\"font-weight: bold\">repos\\intellij-micropython\\typehints\\stdlib\\_thread.pyi</span>\n",
       "</pre>\n"
      ],
      "text/plain": [
       "\u001b[32m22:28:13\u001b[0m | ℹ️ \u001b[1mMerge scratch\\micropython-v1_23_0-docstubs\\_thread\\__init__.pyi from \u001b[0m\n",
       "\u001b[1mrepos\\intellij-micropython\\typehints\\stdlib\\_thread.pyi\u001b[0m\n"
      ]
     },
     "metadata": {},
     "output_type": "display_data"
    },
    {
     "data": {
      "text/html": [
       "<pre style=\"white-space:pre;overflow-x:auto;line-height:normal;font-family:Menlo,'DejaVu Sans Mono',consolas,'Courier New',monospace\"><span style=\"color: #008000; text-decoration-color: #008000\">22:28:13</span> | ℹ️ <span style=\"font-weight: bold\">Merge scratch\\micropython-v1_23_0-docstubs\\array\\__init__.pyi from </span>\n",
       "<span style=\"font-weight: bold\">repos\\intellij-micropython\\typehints\\stdlib\\array.pyi</span>\n",
       "</pre>\n"
      ],
      "text/plain": [
       "\u001b[32m22:28:13\u001b[0m | ℹ️ \u001b[1mMerge scratch\\micropython-v1_23_0-docstubs\\array\\__init__.pyi from \u001b[0m\n",
       "\u001b[1mrepos\\intellij-micropython\\typehints\\stdlib\\array.pyi\u001b[0m\n"
      ]
     },
     "metadata": {},
     "output_type": "display_data"
    },
    {
     "data": {
      "text/html": [
       "<pre style=\"white-space:pre;overflow-x:auto;line-height:normal;font-family:Menlo,'DejaVu Sans Mono',consolas,'Courier New',monospace\"><span style=\"color: #008000; text-decoration-color: #008000\">22:28:13</span> | ℹ️ <span style=\"font-weight: bold\">Change __getitem__ to @overload</span>\n",
       "</pre>\n"
      ],
      "text/plain": [
       "\u001b[32m22:28:13\u001b[0m | ℹ️ \u001b[1mChange __getitem__ to @overload\u001b[0m\n"
      ]
     },
     "metadata": {},
     "output_type": "display_data"
    },
    {
     "data": {
      "text/html": [
       "<pre style=\"white-space:pre;overflow-x:auto;line-height:normal;font-family:Menlo,'DejaVu Sans Mono',consolas,'Courier New',monospace\"><span style=\"color: #008000; text-decoration-color: #008000\">22:28:13</span> | ℹ️ <span style=\"font-weight: bold\">Change __setitem__ to @overload</span>\n",
       "</pre>\n"
      ],
      "text/plain": [
       "\u001b[32m22:28:13\u001b[0m | ℹ️ \u001b[1mChange __setitem__ to @overload\u001b[0m\n"
      ]
     },
     "metadata": {},
     "output_type": "display_data"
    },
    {
     "data": {
      "text/html": [
       "<pre style=\"white-space:pre;overflow-x:auto;line-height:normal;font-family:Menlo,'DejaVu Sans Mono',consolas,'Courier New',monospace\"><span style=\"color: #008000; text-decoration-color: #008000\">22:28:14</span> | ℹ️ <span style=\"font-weight: bold\">Merge scratch\\micropython-v1_23_0-docstubs\\array\\__init__.pyi from </span>\n",
       "<span style=\"font-weight: bold\">repos\\intellij-micropython\\typehints\\stdlib\\uarray.pyi</span>\n",
       "</pre>\n"
      ],
      "text/plain": [
       "\u001b[32m22:28:14\u001b[0m | ℹ️ \u001b[1mMerge scratch\\micropython-v1_23_0-docstubs\\array\\__init__.pyi from \u001b[0m\n",
       "\u001b[1mrepos\\intellij-micropython\\typehints\\stdlib\\uarray.pyi\u001b[0m\n"
      ]
     },
     "metadata": {},
     "output_type": "display_data"
    },
    {
     "data": {
      "text/html": [
       "<pre style=\"white-space:pre;overflow-x:auto;line-height:normal;font-family:Menlo,'DejaVu Sans Mono',consolas,'Courier New',monospace\"><span style=\"color: #008000; text-decoration-color: #008000\">22:28:14</span> | ℹ️ <span style=\"font-weight: bold\">Merge scratch\\micropython-v1_23_0-docstubs\\asyncio\\__init__.pyi from </span>\n",
       "<span style=\"font-weight: bold\">repos\\intellij-micropython\\typehints\\stdlib\\uasyncio.pyi</span>\n",
       "</pre>\n"
      ],
      "text/plain": [
       "\u001b[32m22:28:14\u001b[0m | ℹ️ \u001b[1mMerge scratch\\micropython-v1_23_0-docstubs\\asyncio\\__init__.pyi from \u001b[0m\n",
       "\u001b[1mrepos\\intellij-micropython\\typehints\\stdlib\\uasyncio.pyi\u001b[0m\n"
      ]
     },
     "metadata": {},
     "output_type": "display_data"
    },
    {
     "data": {
      "text/html": [
       "<pre style=\"white-space:pre;overflow-x:auto;line-height:normal;font-family:Menlo,'DejaVu Sans Mono',consolas,'Courier New',monospace\"><span style=\"color: #008000; text-decoration-color: #008000\">22:28:15</span> | ℹ️ <span style=\"font-weight: bold\">Merge scratch\\micropython-v1_23_0-docstubs\\binascii\\__init__.pyi from </span>\n",
       "<span style=\"font-weight: bold\">repos\\intellij-micropython\\typehints\\stdlib\\binascii.pyi</span>\n",
       "</pre>\n"
      ],
      "text/plain": [
       "\u001b[32m22:28:15\u001b[0m | ℹ️ \u001b[1mMerge scratch\\micropython-v1_23_0-docstubs\\binascii\\__init__.pyi from \u001b[0m\n",
       "\u001b[1mrepos\\intellij-micropython\\typehints\\stdlib\\binascii.pyi\u001b[0m\n"
      ]
     },
     "metadata": {},
     "output_type": "display_data"
    },
    {
     "data": {
      "text/html": [
       "<pre style=\"white-space:pre;overflow-x:auto;line-height:normal;font-family:Menlo,'DejaVu Sans Mono',consolas,'Courier New',monospace\"><span style=\"color: #008000; text-decoration-color: #008000\">22:28:15</span> | ℹ️ <span style=\"font-weight: bold\">Merge scratch\\micropython-v1_23_0-docstubs\\binascii\\__init__.pyi from </span>\n",
       "<span style=\"font-weight: bold\">repos\\intellij-micropython\\typehints\\stdlib\\ubinascii.pyi</span>\n",
       "</pre>\n"
      ],
      "text/plain": [
       "\u001b[32m22:28:15\u001b[0m | ℹ️ \u001b[1mMerge scratch\\micropython-v1_23_0-docstubs\\binascii\\__init__.pyi from \u001b[0m\n",
       "\u001b[1mrepos\\intellij-micropython\\typehints\\stdlib\\ubinascii.pyi\u001b[0m\n"
      ]
     },
     "metadata": {},
     "output_type": "display_data"
    },
    {
     "data": {
      "text/html": [
       "<pre style=\"white-space:pre;overflow-x:auto;line-height:normal;font-family:Menlo,'DejaVu Sans Mono',consolas,'Courier New',monospace\"><span style=\"color: #008000; text-decoration-color: #008000\">22:28:15</span> | ℹ️ <span style=\"font-weight: bold\">Merge scratch\\micropython-v1_23_0-docstubs\\bluetooth\\__init__.pyi from </span>\n",
       "<span style=\"font-weight: bold\">repos\\intellij-micropython\\typehints\\micropython\\bluetooth.pyi</span>\n",
       "</pre>\n"
      ],
      "text/plain": [
       "\u001b[32m22:28:15\u001b[0m | ℹ️ \u001b[1mMerge scratch\\micropython-v1_23_0-docstubs\\bluetooth\\__init__.pyi from \u001b[0m\n",
       "\u001b[1mrepos\\intellij-micropython\\typehints\\micropython\\bluetooth.pyi\u001b[0m\n"
      ]
     },
     "metadata": {},
     "output_type": "display_data"
    },
    {
     "data": {
      "text/html": [
       "<pre style=\"white-space:pre;overflow-x:auto;line-height:normal;font-family:Menlo,'DejaVu Sans Mono',consolas,'Courier New',monospace\"><span style=\"color: #008000; text-decoration-color: #008000\">22:28:15</span> | ℹ️ <span style=\"font-weight: bold\">Change active to @overload</span>\n",
       "</pre>\n"
      ],
      "text/plain": [
       "\u001b[32m22:28:15\u001b[0m | ℹ️ \u001b[1mChange active to @overload\u001b[0m\n"
      ]
     },
     "metadata": {},
     "output_type": "display_data"
    },
    {
     "data": {
      "text/html": [
       "<pre style=\"white-space:pre;overflow-x:auto;line-height:normal;font-family:Menlo,'DejaVu Sans Mono',consolas,'Courier New',monospace\"><span style=\"color: #008000; text-decoration-color: #008000\">22:28:15</span> | ℹ️ <span style=\"font-weight: bold\">Change config to @overload</span>\n",
       "</pre>\n"
      ],
      "text/plain": [
       "\u001b[32m22:28:15\u001b[0m | ℹ️ \u001b[1mChange config to @overload\u001b[0m\n"
      ]
     },
     "metadata": {},
     "output_type": "display_data"
    },
    {
     "data": {
      "text/html": [
       "<pre style=\"white-space:pre;overflow-x:auto;line-height:normal;font-family:Menlo,'DejaVu Sans Mono',consolas,'Courier New',monospace\"><span style=\"color: #008000; text-decoration-color: #008000\">22:28:16</span> | ℹ️ <span style=\"font-weight: bold\">Merge scratch\\micropython-v1_23_0-docstubs\\bluetooth\\__init__.pyi from </span>\n",
       "<span style=\"font-weight: bold\">repos\\intellij-micropython\\typehints\\micropython\\ubluetooth.pyi</span>\n",
       "</pre>\n"
      ],
      "text/plain": [
       "\u001b[32m22:28:16\u001b[0m | ℹ️ \u001b[1mMerge scratch\\micropython-v1_23_0-docstubs\\bluetooth\\__init__.pyi from \u001b[0m\n",
       "\u001b[1mrepos\\intellij-micropython\\typehints\\micropython\\ubluetooth.pyi\u001b[0m\n"
      ]
     },
     "metadata": {},
     "output_type": "display_data"
    },
    {
     "data": {
      "text/html": [
       "<pre style=\"white-space:pre;overflow-x:auto;line-height:normal;font-family:Menlo,'DejaVu Sans Mono',consolas,'Courier New',monospace\"><span style=\"color: #008000; text-decoration-color: #008000\">22:28:16</span> | ℹ️ <span style=\"font-weight: bold\">Merge scratch\\micropython-v1_23_0-docstubs\\btree\\__init__.pyi from </span>\n",
       "<span style=\"font-weight: bold\">repos\\intellij-micropython\\typehints\\micropython\\btree.pyi</span>\n",
       "</pre>\n"
      ],
      "text/plain": [
       "\u001b[32m22:28:16\u001b[0m | ℹ️ \u001b[1mMerge scratch\\micropython-v1_23_0-docstubs\\btree\\__init__.pyi from \u001b[0m\n",
       "\u001b[1mrepos\\intellij-micropython\\typehints\\micropython\\btree.pyi\u001b[0m\n"
      ]
     },
     "metadata": {},
     "output_type": "display_data"
    },
    {
     "data": {
      "text/html": [
       "<pre style=\"white-space:pre;overflow-x:auto;line-height:normal;font-family:Menlo,'DejaVu Sans Mono',consolas,'Courier New',monospace\"><span style=\"color: #008000; text-decoration-color: #008000\">22:28:17</span> | ℹ️ <span style=\"font-weight: bold\">Merge scratch\\micropython-v1_23_0-docstubs\\cmath\\__init__.pyi from </span>\n",
       "<span style=\"font-weight: bold\">repos\\intellij-micropython\\typehints\\stdlib\\cmath.pyi</span>\n",
       "</pre>\n"
      ],
      "text/plain": [
       "\u001b[32m22:28:17\u001b[0m | ℹ️ \u001b[1mMerge scratch\\micropython-v1_23_0-docstubs\\cmath\\__init__.pyi from \u001b[0m\n",
       "\u001b[1mrepos\\intellij-micropython\\typehints\\stdlib\\cmath.pyi\u001b[0m\n"
      ]
     },
     "metadata": {},
     "output_type": "display_data"
    },
    {
     "data": {
      "text/html": [
       "<pre style=\"white-space:pre;overflow-x:auto;line-height:normal;font-family:Menlo,'DejaVu Sans Mono',consolas,'Courier New',monospace\"><span style=\"color: #008000; text-decoration-color: #008000\">22:28:17</span> | ℹ️ <span style=\"font-weight: bold\">Merge scratch\\micropython-v1_23_0-docstubs\\collections\\__init__.pyi from </span>\n",
       "<span style=\"font-weight: bold\">repos\\intellij-micropython\\typehints\\stdlib\\collections.pyi</span>\n",
       "</pre>\n"
      ],
      "text/plain": [
       "\u001b[32m22:28:17\u001b[0m | ℹ️ \u001b[1mMerge scratch\\micropython-v1_23_0-docstubs\\collections\\__init__.pyi from \u001b[0m\n",
       "\u001b[1mrepos\\intellij-micropython\\typehints\\stdlib\\collections.pyi\u001b[0m\n"
      ]
     },
     "metadata": {},
     "output_type": "display_data"
    },
    {
     "data": {
      "text/html": [
       "<pre style=\"white-space:pre;overflow-x:auto;line-height:normal;font-family:Menlo,'DejaVu Sans Mono',consolas,'Courier New',monospace\"><span style=\"color: #008000; text-decoration-color: #008000\">22:28:17</span> | ℹ️ <span style=\"font-weight: bold\">Change __init__ to @overload</span>\n",
       "</pre>\n"
      ],
      "text/plain": [
       "\u001b[32m22:28:17\u001b[0m | ℹ️ \u001b[1mChange __init__ to @overload\u001b[0m\n"
      ]
     },
     "metadata": {},
     "output_type": "display_data"
    },
    {
     "data": {
      "text/html": [
       "<pre style=\"white-space:pre;overflow-x:auto;line-height:normal;font-family:Menlo,'DejaVu Sans Mono',consolas,'Courier New',monospace\"><span style=\"color: #008000; text-decoration-color: #008000\">22:28:17</span> | ℹ️ <span style=\"font-weight: bold\">Merge scratch\\micropython-v1_23_0-docstubs\\collections\\__init__.pyi from </span>\n",
       "<span style=\"font-weight: bold\">repos\\intellij-micropython\\typehints\\stdlib\\ucollections.pyi</span>\n",
       "</pre>\n"
      ],
      "text/plain": [
       "\u001b[32m22:28:17\u001b[0m | ℹ️ \u001b[1mMerge scratch\\micropython-v1_23_0-docstubs\\collections\\__init__.pyi from \u001b[0m\n",
       "\u001b[1mrepos\\intellij-micropython\\typehints\\stdlib\\ucollections.pyi\u001b[0m\n"
      ]
     },
     "metadata": {},
     "output_type": "display_data"
    },
    {
     "data": {
      "text/html": [
       "<pre style=\"white-space:pre;overflow-x:auto;line-height:normal;font-family:Menlo,'DejaVu Sans Mono',consolas,'Courier New',monospace\"><span style=\"color: #008000; text-decoration-color: #008000\">22:28:17</span> | ℹ️ <span style=\"font-weight: bold\">Merge scratch\\micropython-v1_23_0-docstubs\\cryptolib\\__init__.pyi from </span>\n",
       "<span style=\"font-weight: bold\">repos\\intellij-micropython\\typehints\\micropython\\cryptolib.pyi</span>\n",
       "</pre>\n"
      ],
      "text/plain": [
       "\u001b[32m22:28:17\u001b[0m | ℹ️ \u001b[1mMerge scratch\\micropython-v1_23_0-docstubs\\cryptolib\\__init__.pyi from \u001b[0m\n",
       "\u001b[1mrepos\\intellij-micropython\\typehints\\micropython\\cryptolib.pyi\u001b[0m\n"
      ]
     },
     "metadata": {},
     "output_type": "display_data"
    },
    {
     "data": {
      "text/html": [
       "<pre style=\"white-space:pre;overflow-x:auto;line-height:normal;font-family:Menlo,'DejaVu Sans Mono',consolas,'Courier New',monospace\"><span style=\"color: #008000; text-decoration-color: #008000\">22:28:18</span> | ℹ️ <span style=\"font-weight: bold\">Change __init__ to @overload</span>\n",
       "</pre>\n"
      ],
      "text/plain": [
       "\u001b[32m22:28:18\u001b[0m | ℹ️ \u001b[1mChange __init__ to @overload\u001b[0m\n"
      ]
     },
     "metadata": {},
     "output_type": "display_data"
    },
    {
     "data": {
      "text/html": [
       "<pre style=\"white-space:pre;overflow-x:auto;line-height:normal;font-family:Menlo,'DejaVu Sans Mono',consolas,'Courier New',monospace\"><span style=\"color: #008000; text-decoration-color: #008000\">22:28:18</span> | ℹ️ <span style=\"font-weight: bold\">Change encrypt to @overload</span>\n",
       "</pre>\n"
      ],
      "text/plain": [
       "\u001b[32m22:28:18\u001b[0m | ℹ️ \u001b[1mChange encrypt to @overload\u001b[0m\n"
      ]
     },
     "metadata": {},
     "output_type": "display_data"
    },
    {
     "data": {
      "text/html": [
       "<pre style=\"white-space:pre;overflow-x:auto;line-height:normal;font-family:Menlo,'DejaVu Sans Mono',consolas,'Courier New',monospace\"><span style=\"color: #008000; text-decoration-color: #008000\">22:28:18</span> | ℹ️ <span style=\"font-weight: bold\">Change decrypt to @overload</span>\n",
       "</pre>\n"
      ],
      "text/plain": [
       "\u001b[32m22:28:18\u001b[0m | ℹ️ \u001b[1mChange decrypt to @overload\u001b[0m\n"
      ]
     },
     "metadata": {},
     "output_type": "display_data"
    },
    {
     "data": {
      "text/html": [
       "<pre style=\"white-space:pre;overflow-x:auto;line-height:normal;font-family:Menlo,'DejaVu Sans Mono',consolas,'Courier New',monospace\"><span style=\"color: #008000; text-decoration-color: #008000\">22:28:18</span> | ℹ️ <span style=\"font-weight: bold\">Merge scratch\\micropython-v1_23_0-docstubs\\cryptolib\\__init__.pyi from </span>\n",
       "<span style=\"font-weight: bold\">repos\\intellij-micropython\\typehints\\micropython\\ucryptolib.pyi</span>\n",
       "</pre>\n"
      ],
      "text/plain": [
       "\u001b[32m22:28:18\u001b[0m | ℹ️ \u001b[1mMerge scratch\\micropython-v1_23_0-docstubs\\cryptolib\\__init__.pyi from \u001b[0m\n",
       "\u001b[1mrepos\\intellij-micropython\\typehints\\micropython\\ucryptolib.pyi\u001b[0m\n"
      ]
     },
     "metadata": {},
     "output_type": "display_data"
    },
    {
     "data": {
      "text/html": [
       "<pre style=\"white-space:pre;overflow-x:auto;line-height:normal;font-family:Menlo,'DejaVu Sans Mono',consolas,'Courier New',monospace\"><span style=\"color: #008000; text-decoration-color: #008000\">22:28:18</span> | ℹ️ <span style=\"font-weight: bold\">Merge scratch\\micropython-v1_23_0-docstubs\\errno\\__init__.pyi from </span>\n",
       "<span style=\"font-weight: bold\">repos\\intellij-micropython\\typehints\\stdlib\\errno.pyi</span>\n",
       "</pre>\n"
      ],
      "text/plain": [
       "\u001b[32m22:28:18\u001b[0m | ℹ️ \u001b[1mMerge scratch\\micropython-v1_23_0-docstubs\\errno\\__init__.pyi from \u001b[0m\n",
       "\u001b[1mrepos\\intellij-micropython\\typehints\\stdlib\\errno.pyi\u001b[0m\n"
      ]
     },
     "metadata": {},
     "output_type": "display_data"
    },
    {
     "data": {
      "text/html": [
       "<pre style=\"white-space:pre;overflow-x:auto;line-height:normal;font-family:Menlo,'DejaVu Sans Mono',consolas,'Courier New',monospace\"><span style=\"color: #008000; text-decoration-color: #008000\">22:28:18</span> | ℹ️ <span style=\"font-weight: bold\">Merge scratch\\micropython-v1_23_0-docstubs\\errno\\__init__.pyi from </span>\n",
       "<span style=\"font-weight: bold\">repos\\intellij-micropython\\typehints\\stdlib\\uerrno.pyi</span>\n",
       "</pre>\n"
      ],
      "text/plain": [
       "\u001b[32m22:28:18\u001b[0m | ℹ️ \u001b[1mMerge scratch\\micropython-v1_23_0-docstubs\\errno\\__init__.pyi from \u001b[0m\n",
       "\u001b[1mrepos\\intellij-micropython\\typehints\\stdlib\\uerrno.pyi\u001b[0m\n"
      ]
     },
     "metadata": {},
     "output_type": "display_data"
    },
    {
     "data": {
      "text/html": [
       "<pre style=\"white-space:pre;overflow-x:auto;line-height:normal;font-family:Menlo,'DejaVu Sans Mono',consolas,'Courier New',monospace\"><span style=\"color: #008000; text-decoration-color: #008000\">22:28:18</span> | ℹ️ <span style=\"font-weight: bold\">Merge scratch\\micropython-v1_23_0-docstubs\\esp\\__init__.pyi from </span>\n",
       "<span style=\"font-weight: bold\">repos\\intellij-micropython\\typehints\\esp32\\esp.pyi</span>\n",
       "</pre>\n"
      ],
      "text/plain": [
       "\u001b[32m22:28:18\u001b[0m | ℹ️ \u001b[1mMerge scratch\\micropython-v1_23_0-docstubs\\esp\\__init__.pyi from \u001b[0m\n",
       "\u001b[1mrepos\\intellij-micropython\\typehints\\esp32\\esp.pyi\u001b[0m\n"
      ]
     },
     "metadata": {},
     "output_type": "display_data"
    },
    {
     "data": {
      "text/html": [
       "<pre style=\"white-space:pre;overflow-x:auto;line-height:normal;font-family:Menlo,'DejaVu Sans Mono',consolas,'Courier New',monospace\"><span style=\"color: #008000; text-decoration-color: #008000\">22:28:18</span> | ℹ️ <span style=\"font-weight: bold\">Merge scratch\\micropython-v1_23_0-docstubs\\esp\\__init__.pyi from </span>\n",
       "<span style=\"font-weight: bold\">repos\\intellij-micropython\\typehints\\esp8266\\esp.pyi</span>\n",
       "</pre>\n"
      ],
      "text/plain": [
       "\u001b[32m22:28:18\u001b[0m | ℹ️ \u001b[1mMerge scratch\\micropython-v1_23_0-docstubs\\esp\\__init__.pyi from \u001b[0m\n",
       "\u001b[1mrepos\\intellij-micropython\\typehints\\esp8266\\esp.pyi\u001b[0m\n"
      ]
     },
     "metadata": {},
     "output_type": "display_data"
    },
    {
     "data": {
      "text/html": [
       "<pre style=\"white-space:pre;overflow-x:auto;line-height:normal;font-family:Menlo,'DejaVu Sans Mono',consolas,'Courier New',monospace\"><span style=\"color: #008000; text-decoration-color: #008000\">22:28:19</span> | ℹ️ <span style=\"font-weight: bold\">Merge scratch\\micropython-v1_23_0-docstubs\\esp32\\__init__.pyi from </span>\n",
       "<span style=\"font-weight: bold\">repos\\intellij-micropython\\typehints\\esp32\\esp32.pyi</span>\n",
       "</pre>\n"
      ],
      "text/plain": [
       "\u001b[32m22:28:19\u001b[0m | ℹ️ \u001b[1mMerge scratch\\micropython-v1_23_0-docstubs\\esp32\\__init__.pyi from \u001b[0m\n",
       "\u001b[1mrepos\\intellij-micropython\\typehints\\esp32\\esp32.pyi\u001b[0m\n"
      ]
     },
     "metadata": {},
     "output_type": "display_data"
    },
    {
     "data": {
      "text/html": [
       "<pre style=\"white-space:pre;overflow-x:auto;line-height:normal;font-family:Menlo,'DejaVu Sans Mono',consolas,'Courier New',monospace\"><span style=\"color: #008000; text-decoration-color: #008000\">22:28:19</span> | ℹ️ <span style=\"font-weight: bold\">Change readblocks to @overload</span>\n",
       "</pre>\n"
      ],
      "text/plain": [
       "\u001b[32m22:28:19\u001b[0m | ℹ️ \u001b[1mChange readblocks to @overload\u001b[0m\n"
      ]
     },
     "metadata": {},
     "output_type": "display_data"
    },
    {
     "data": {
      "text/html": [
       "<pre style=\"white-space:pre;overflow-x:auto;line-height:normal;font-family:Menlo,'DejaVu Sans Mono',consolas,'Courier New',monospace\"><span style=\"color: #008000; text-decoration-color: #008000\">22:28:19</span> | ℹ️ <span style=\"font-weight: bold\">Change writeblocks to @overload</span>\n",
       "</pre>\n"
      ],
      "text/plain": [
       "\u001b[32m22:28:19\u001b[0m | ℹ️ \u001b[1mChange writeblocks to @overload\u001b[0m\n"
      ]
     },
     "metadata": {},
     "output_type": "display_data"
    },
    {
     "data": {
      "text/html": [
       "<pre style=\"white-space:pre;overflow-x:auto;line-height:normal;font-family:Menlo,'DejaVu Sans Mono',consolas,'Courier New',monospace\"><span style=\"color: #008000; text-decoration-color: #008000\">22:28:19</span> | ℹ️ <span style=\"font-weight: bold\">Merge scratch\\micropython-v1_23_0-docstubs\\framebuf\\__init__.pyi from </span>\n",
       "<span style=\"font-weight: bold\">repos\\intellij-micropython\\typehints\\micropython\\framebuf.pyi</span>\n",
       "</pre>\n"
      ],
      "text/plain": [
       "\u001b[32m22:28:19\u001b[0m | ℹ️ \u001b[1mMerge scratch\\micropython-v1_23_0-docstubs\\framebuf\\__init__.pyi from \u001b[0m\n",
       "\u001b[1mrepos\\intellij-micropython\\typehints\\micropython\\framebuf.pyi\u001b[0m\n"
      ]
     },
     "metadata": {},
     "output_type": "display_data"
    },
    {
     "data": {
      "text/html": [
       "<pre style=\"white-space:pre;overflow-x:auto;line-height:normal;font-family:Menlo,'DejaVu Sans Mono',consolas,'Courier New',monospace\"><span style=\"color: #008000; text-decoration-color: #008000\">22:28:19</span> | ℹ️ <span style=\"font-weight: bold\">Change pixel to @overload</span>\n",
       "</pre>\n"
      ],
      "text/plain": [
       "\u001b[32m22:28:19\u001b[0m | ℹ️ \u001b[1mChange pixel to @overload\u001b[0m\n"
      ]
     },
     "metadata": {},
     "output_type": "display_data"
    },
    {
     "data": {
      "text/html": [
       "<pre style=\"white-space:pre;overflow-x:auto;line-height:normal;font-family:Menlo,'DejaVu Sans Mono',consolas,'Courier New',monospace\"><span style=\"color: #008000; text-decoration-color: #008000\">22:28:20</span> | ℹ️ <span style=\"font-weight: bold\">Merge scratch\\micropython-v1_23_0-docstubs\\gc\\__init__.pyi from </span>\n",
       "<span style=\"font-weight: bold\">repos\\intellij-micropython\\typehints\\stdlib\\gc.pyi</span>\n",
       "</pre>\n"
      ],
      "text/plain": [
       "\u001b[32m22:28:20\u001b[0m | ℹ️ \u001b[1mMerge scratch\\micropython-v1_23_0-docstubs\\gc\\__init__.pyi from \u001b[0m\n",
       "\u001b[1mrepos\\intellij-micropython\\typehints\\stdlib\\gc.pyi\u001b[0m\n"
      ]
     },
     "metadata": {},
     "output_type": "display_data"
    },
    {
     "data": {
      "text/html": [
       "<pre style=\"white-space:pre;overflow-x:auto;line-height:normal;font-family:Menlo,'DejaVu Sans Mono',consolas,'Courier New',monospace\"><span style=\"color: #008000; text-decoration-color: #008000\">22:28:20</span> | ℹ️ <span style=\"font-weight: bold\">Change threshold to @overload</span>\n",
       "</pre>\n"
      ],
      "text/plain": [
       "\u001b[32m22:28:20\u001b[0m | ℹ️ \u001b[1mChange threshold to @overload\u001b[0m\n"
      ]
     },
     "metadata": {},
     "output_type": "display_data"
    },
    {
     "data": {
      "text/html": [
       "<pre style=\"white-space:pre;overflow-x:auto;line-height:normal;font-family:Menlo,'DejaVu Sans Mono',consolas,'Courier New',monospace\"><span style=\"color: #008000; text-decoration-color: #008000\">22:28:20</span> | ℹ️ <span style=\"font-weight: bold\">Merge scratch\\micropython-v1_23_0-docstubs\\hashlib\\__init__.pyi from </span>\n",
       "<span style=\"font-weight: bold\">repos\\intellij-micropython\\typehints\\stdlib\\hashlib.pyi</span>\n",
       "</pre>\n"
      ],
      "text/plain": [
       "\u001b[32m22:28:20\u001b[0m | ℹ️ \u001b[1mMerge scratch\\micropython-v1_23_0-docstubs\\hashlib\\__init__.pyi from \u001b[0m\n",
       "\u001b[1mrepos\\intellij-micropython\\typehints\\stdlib\\hashlib.pyi\u001b[0m\n"
      ]
     },
     "metadata": {},
     "output_type": "display_data"
    },
    {
     "data": {
      "text/html": [
       "<pre style=\"white-space:pre;overflow-x:auto;line-height:normal;font-family:Menlo,'DejaVu Sans Mono',consolas,'Courier New',monospace\"><span style=\"color: #008000; text-decoration-color: #008000\">22:28:20</span> | ℹ️ <span style=\"font-weight: bold\">Change __init__ to @overload</span>\n",
       "</pre>\n"
      ],
      "text/plain": [
       "\u001b[32m22:28:20\u001b[0m | ℹ️ \u001b[1mChange __init__ to @overload\u001b[0m\n"
      ]
     },
     "metadata": {},
     "output_type": "display_data"
    },
    {
     "data": {
      "text/html": [
       "<pre style=\"white-space:pre;overflow-x:auto;line-height:normal;font-family:Menlo,'DejaVu Sans Mono',consolas,'Courier New',monospace\"><span style=\"color: #008000; text-decoration-color: #008000\">22:28:20</span> | ℹ️ <span style=\"font-weight: bold\">Change __init__ to @overload</span>\n",
       "</pre>\n"
      ],
      "text/plain": [
       "\u001b[32m22:28:20\u001b[0m | ℹ️ \u001b[1mChange __init__ to @overload\u001b[0m\n"
      ]
     },
     "metadata": {},
     "output_type": "display_data"
    },
    {
     "data": {
      "text/html": [
       "<pre style=\"white-space:pre;overflow-x:auto;line-height:normal;font-family:Menlo,'DejaVu Sans Mono',consolas,'Courier New',monospace\"><span style=\"color: #008000; text-decoration-color: #008000\">22:28:20</span> | ℹ️ <span style=\"font-weight: bold\">Merge scratch\\micropython-v1_23_0-docstubs\\hashlib\\__init__.pyi from </span>\n",
       "<span style=\"font-weight: bold\">repos\\intellij-micropython\\typehints\\stdlib\\uhashlib.pyi</span>\n",
       "</pre>\n"
      ],
      "text/plain": [
       "\u001b[32m22:28:20\u001b[0m | ℹ️ \u001b[1mMerge scratch\\micropython-v1_23_0-docstubs\\hashlib\\__init__.pyi from \u001b[0m\n",
       "\u001b[1mrepos\\intellij-micropython\\typehints\\stdlib\\uhashlib.pyi\u001b[0m\n"
      ]
     },
     "metadata": {},
     "output_type": "display_data"
    },
    {
     "data": {
      "text/html": [
       "<pre style=\"white-space:pre;overflow-x:auto;line-height:normal;font-family:Menlo,'DejaVu Sans Mono',consolas,'Courier New',monospace\"><span style=\"color: #008000; text-decoration-color: #008000\">22:28:20</span> | ℹ️ <span style=\"font-weight: bold\">Merge scratch\\micropython-v1_23_0-docstubs\\heapq\\__init__.pyi from </span>\n",
       "<span style=\"font-weight: bold\">repos\\intellij-micropython\\typehints\\stdlib\\heapq.pyi</span>\n",
       "</pre>\n"
      ],
      "text/plain": [
       "\u001b[32m22:28:20\u001b[0m | ℹ️ \u001b[1mMerge scratch\\micropython-v1_23_0-docstubs\\heapq\\__init__.pyi from \u001b[0m\n",
       "\u001b[1mrepos\\intellij-micropython\\typehints\\stdlib\\heapq.pyi\u001b[0m\n"
      ]
     },
     "metadata": {},
     "output_type": "display_data"
    },
    {
     "data": {
      "text/html": [
       "<pre style=\"white-space:pre;overflow-x:auto;line-height:normal;font-family:Menlo,'DejaVu Sans Mono',consolas,'Courier New',monospace\"><span style=\"color: #008000; text-decoration-color: #008000\">22:28:20</span> | ℹ️ <span style=\"font-weight: bold\">Merge scratch\\micropython-v1_23_0-docstubs\\heapq\\__init__.pyi from </span>\n",
       "<span style=\"font-weight: bold\">repos\\intellij-micropython\\typehints\\stdlib\\uheapq.pyi</span>\n",
       "</pre>\n"
      ],
      "text/plain": [
       "\u001b[32m22:28:20\u001b[0m | ℹ️ \u001b[1mMerge scratch\\micropython-v1_23_0-docstubs\\heapq\\__init__.pyi from \u001b[0m\n",
       "\u001b[1mrepos\\intellij-micropython\\typehints\\stdlib\\uheapq.pyi\u001b[0m\n"
      ]
     },
     "metadata": {},
     "output_type": "display_data"
    },
    {
     "data": {
      "text/html": [
       "<pre style=\"white-space:pre;overflow-x:auto;line-height:normal;font-family:Menlo,'DejaVu Sans Mono',consolas,'Courier New',monospace\"><span style=\"color: #008000; text-decoration-color: #008000\">22:28:21</span> | ℹ️ <span style=\"font-weight: bold\">Merge scratch\\micropython-v1_23_0-docstubs\\io\\__init__.pyi from </span>\n",
       "<span style=\"font-weight: bold\">repos\\intellij-micropython\\typehints\\stdlib\\io.pyi</span>\n",
       "</pre>\n"
      ],
      "text/plain": [
       "\u001b[32m22:28:21\u001b[0m | ℹ️ \u001b[1mMerge scratch\\micropython-v1_23_0-docstubs\\io\\__init__.pyi from \u001b[0m\n",
       "\u001b[1mrepos\\intellij-micropython\\typehints\\stdlib\\io.pyi\u001b[0m\n"
      ]
     },
     "metadata": {},
     "output_type": "display_data"
    },
    {
     "data": {
      "text/html": [
       "<pre style=\"white-space:pre;overflow-x:auto;line-height:normal;font-family:Menlo,'DejaVu Sans Mono',consolas,'Courier New',monospace\"><span style=\"color: #008000; text-decoration-color: #008000\">22:28:21</span> | ℹ️ <span style=\"font-weight: bold\">Change __init__ to @overload</span>\n",
       "</pre>\n"
      ],
      "text/plain": [
       "\u001b[32m22:28:21\u001b[0m | ℹ️ \u001b[1mChange __init__ to @overload\u001b[0m\n"
      ]
     },
     "metadata": {},
     "output_type": "display_data"
    },
    {
     "data": {
      "text/html": [
       "<pre style=\"white-space:pre;overflow-x:auto;line-height:normal;font-family:Menlo,'DejaVu Sans Mono',consolas,'Courier New',monospace\"><span style=\"color: #008000; text-decoration-color: #008000\">22:28:21</span> | ℹ️ <span style=\"font-weight: bold\">Change __init__ to @overload</span>\n",
       "</pre>\n"
      ],
      "text/plain": [
       "\u001b[32m22:28:21\u001b[0m | ℹ️ \u001b[1mChange __init__ to @overload\u001b[0m\n"
      ]
     },
     "metadata": {},
     "output_type": "display_data"
    },
    {
     "data": {
      "text/html": [
       "<pre style=\"white-space:pre;overflow-x:auto;line-height:normal;font-family:Menlo,'DejaVu Sans Mono',consolas,'Courier New',monospace\"><span style=\"color: #008000; text-decoration-color: #008000\">22:28:21</span> | ℹ️ <span style=\"font-weight: bold\">Change open to @overload</span>\n",
       "</pre>\n"
      ],
      "text/plain": [
       "\u001b[32m22:28:21\u001b[0m | ℹ️ \u001b[1mChange open to @overload\u001b[0m\n"
      ]
     },
     "metadata": {},
     "output_type": "display_data"
    },
    {
     "data": {
      "text/html": [
       "<pre style=\"white-space:pre;overflow-x:auto;line-height:normal;font-family:Menlo,'DejaVu Sans Mono',consolas,'Courier New',monospace\"><span style=\"color: #008000; text-decoration-color: #008000\">22:28:21</span> | ℹ️ <span style=\"font-weight: bold\">Merge scratch\\micropython-v1_23_0-docstubs\\io\\__init__.pyi from </span>\n",
       "<span style=\"font-weight: bold\">repos\\intellij-micropython\\typehints\\stdlib\\uio.pyi</span>\n",
       "</pre>\n"
      ],
      "text/plain": [
       "\u001b[32m22:28:21\u001b[0m | ℹ️ \u001b[1mMerge scratch\\micropython-v1_23_0-docstubs\\io\\__init__.pyi from \u001b[0m\n",
       "\u001b[1mrepos\\intellij-micropython\\typehints\\stdlib\\uio.pyi\u001b[0m\n"
      ]
     },
     "metadata": {},
     "output_type": "display_data"
    },
    {
     "data": {
      "text/html": [
       "<pre style=\"white-space:pre;overflow-x:auto;line-height:normal;font-family:Menlo,'DejaVu Sans Mono',consolas,'Courier New',monospace\"><span style=\"color: #008000; text-decoration-color: #008000\">22:28:21</span> | ℹ️ <span style=\"font-weight: bold\">Merge scratch\\micropython-v1_23_0-docstubs\\json\\__init__.pyi from </span>\n",
       "<span style=\"font-weight: bold\">repos\\intellij-micropython\\typehints\\stdlib\\json.pyi</span>\n",
       "</pre>\n"
      ],
      "text/plain": [
       "\u001b[32m22:28:21\u001b[0m | ℹ️ \u001b[1mMerge scratch\\micropython-v1_23_0-docstubs\\json\\__init__.pyi from \u001b[0m\n",
       "\u001b[1mrepos\\intellij-micropython\\typehints\\stdlib\\json.pyi\u001b[0m\n"
      ]
     },
     "metadata": {},
     "output_type": "display_data"
    },
    {
     "data": {
      "text/html": [
       "<pre style=\"white-space:pre;overflow-x:auto;line-height:normal;font-family:Menlo,'DejaVu Sans Mono',consolas,'Courier New',monospace\"><span style=\"color: #008000; text-decoration-color: #008000\">22:28:21</span> | ℹ️ <span style=\"font-weight: bold\">Merge scratch\\micropython-v1_23_0-docstubs\\json\\__init__.pyi from </span>\n",
       "<span style=\"font-weight: bold\">repos\\intellij-micropython\\typehints\\stdlib\\ujson.pyi</span>\n",
       "</pre>\n"
      ],
      "text/plain": [
       "\u001b[32m22:28:21\u001b[0m | ℹ️ \u001b[1mMerge scratch\\micropython-v1_23_0-docstubs\\json\\__init__.pyi from \u001b[0m\n",
       "\u001b[1mrepos\\intellij-micropython\\typehints\\stdlib\\ujson.pyi\u001b[0m\n"
      ]
     },
     "metadata": {},
     "output_type": "display_data"
    },
    {
     "data": {
      "text/html": [
       "<pre style=\"white-space:pre;overflow-x:auto;line-height:normal;font-family:Menlo,'DejaVu Sans Mono',consolas,'Courier New',monospace\"><span style=\"color: #008000; text-decoration-color: #008000\">22:28:22</span> | ℹ️ <span style=\"font-weight: bold\">Merge scratch\\micropython-v1_23_0-docstubs\\lcd160cr\\__init__.pyi from </span>\n",
       "<span style=\"font-weight: bold\">repos\\intellij-micropython\\typehints\\pyboard\\lcd160cr.pyi</span>\n",
       "</pre>\n"
      ],
      "text/plain": [
       "\u001b[32m22:28:22\u001b[0m | ℹ️ \u001b[1mMerge scratch\\micropython-v1_23_0-docstubs\\lcd160cr\\__init__.pyi from \u001b[0m\n",
       "\u001b[1mrepos\\intellij-micropython\\typehints\\pyboard\\lcd160cr.pyi\u001b[0m\n"
      ]
     },
     "metadata": {},
     "output_type": "display_data"
    },
    {
     "data": {
      "text/html": [
       "<pre style=\"white-space:pre;overflow-x:auto;line-height:normal;font-family:Menlo,'DejaVu Sans Mono',consolas,'Courier New',monospace\"><span style=\"color: #008000; text-decoration-color: #008000\">22:28:22</span> | ℹ️ <span style=\"font-weight: bold\">Change __init__ to @overload</span>\n",
       "</pre>\n"
      ],
      "text/plain": [
       "\u001b[32m22:28:22\u001b[0m | ℹ️ \u001b[1mChange __init__ to @overload\u001b[0m\n"
      ]
     },
     "metadata": {},
     "output_type": "display_data"
    },
    {
     "data": {
      "text/html": [
       "<pre style=\"white-space:pre;overflow-x:auto;line-height:normal;font-family:Menlo,'DejaVu Sans Mono',consolas,'Courier New',monospace\"><span style=\"color: #008000; text-decoration-color: #008000\">22:28:22</span> | ℹ️ <span style=\"font-weight: bold\">Merge scratch\\micropython-v1_23_0-docstubs\\machine\\__init__.pyi from </span>\n",
       "<span style=\"font-weight: bold\">repos\\intellij-micropython\\typehints\\micropython\\machine.pyi</span>\n",
       "</pre>\n"
      ],
      "text/plain": [
       "\u001b[32m22:28:22\u001b[0m | ℹ️ \u001b[1mMerge scratch\\micropython-v1_23_0-docstubs\\machine\\__init__.pyi from \u001b[0m\n",
       "\u001b[1mrepos\\intellij-micropython\\typehints\\micropython\\machine.pyi\u001b[0m\n"
      ]
     },
     "metadata": {},
     "output_type": "display_data"
    },
    {
     "data": {
      "text/html": [
       "<pre style=\"white-space:pre;overflow-x:auto;line-height:normal;font-family:Menlo,'DejaVu Sans Mono',consolas,'Courier New',monospace\"><span style=\"color: #008000; text-decoration-color: #008000\">22:28:23</span> | ℹ️ <span style=\"font-weight: bold\">Change freq to @overload</span>\n",
       "</pre>\n"
      ],
      "text/plain": [
       "\u001b[32m22:28:23\u001b[0m | ℹ️ \u001b[1mChange freq to @overload\u001b[0m\n"
      ]
     },
     "metadata": {},
     "output_type": "display_data"
    },
    {
     "data": {
      "text/html": [
       "<pre style=\"white-space:pre;overflow-x:auto;line-height:normal;font-family:Menlo,'DejaVu Sans Mono',consolas,'Courier New',monospace\"><span style=\"color: #008000; text-decoration-color: #008000\">22:28:23</span> | ℹ️ <span style=\"font-weight: bold\">Change lightsleep to @overload</span>\n",
       "</pre>\n"
      ],
      "text/plain": [
       "\u001b[32m22:28:23\u001b[0m | ℹ️ \u001b[1mChange lightsleep to @overload\u001b[0m\n"
      ]
     },
     "metadata": {},
     "output_type": "display_data"
    },
    {
     "data": {
      "text/html": [
       "<pre style=\"white-space:pre;overflow-x:auto;line-height:normal;font-family:Menlo,'DejaVu Sans Mono',consolas,'Courier New',monospace\"><span style=\"color: #008000; text-decoration-color: #008000\">22:28:23</span> | ℹ️ <span style=\"font-weight: bold\">Change deepsleep to @overload</span>\n",
       "</pre>\n"
      ],
      "text/plain": [
       "\u001b[32m22:28:23\u001b[0m | ℹ️ \u001b[1mChange deepsleep to @overload\u001b[0m\n"
      ]
     },
     "metadata": {},
     "output_type": "display_data"
    },
    {
     "data": {
      "text/html": [
       "<pre style=\"white-space:pre;overflow-x:auto;line-height:normal;font-family:Menlo,'DejaVu Sans Mono',consolas,'Courier New',monospace\"><span style=\"color: #008000; text-decoration-color: #008000\">22:28:24</span> | ℹ️ <span style=\"font-weight: bold\">Merge scratch\\micropython-v1_23_0-docstubs\\machine\\ADC.pyi from </span>\n",
       "<span style=\"font-weight: bold\">repos\\intellij-micropython\\typehints\\micropython\\machine.pyi</span>\n",
       "</pre>\n"
      ],
      "text/plain": [
       "\u001b[32m22:28:24\u001b[0m | ℹ️ \u001b[1mMerge scratch\\micropython-v1_23_0-docstubs\\machine\\ADC.pyi from \u001b[0m\n",
       "\u001b[1mrepos\\intellij-micropython\\typehints\\micropython\\machine.pyi\u001b[0m\n"
      ]
     },
     "metadata": {},
     "output_type": "display_data"
    },
    {
     "data": {
      "text/html": [
       "<pre style=\"white-space:pre;overflow-x:auto;line-height:normal;font-family:Menlo,'DejaVu Sans Mono',consolas,'Courier New',monospace\"><span style=\"color: #008000; text-decoration-color: #008000\">22:28:25</span> | ℹ️ <span style=\"font-weight: bold\">Merge scratch\\micropython-v1_23_0-docstubs\\machine\\ADCBlock.pyi from </span>\n",
       "<span style=\"font-weight: bold\">repos\\intellij-micropython\\typehints\\micropython\\machine.pyi</span>\n",
       "</pre>\n"
      ],
      "text/plain": [
       "\u001b[32m22:28:25\u001b[0m | ℹ️ \u001b[1mMerge scratch\\micropython-v1_23_0-docstubs\\machine\\ADCBlock.pyi from \u001b[0m\n",
       "\u001b[1mrepos\\intellij-micropython\\typehints\\micropython\\machine.pyi\u001b[0m\n"
      ]
     },
     "metadata": {},
     "output_type": "display_data"
    },
    {
     "data": {
      "text/html": [
       "<pre style=\"white-space:pre;overflow-x:auto;line-height:normal;font-family:Menlo,'DejaVu Sans Mono',consolas,'Courier New',monospace\"><span style=\"color: #008000; text-decoration-color: #008000\">22:28:26</span> | ℹ️ <span style=\"font-weight: bold\">Merge scratch\\micropython-v1_23_0-docstubs\\machine\\ADCWiPy.pyi from </span>\n",
       "<span style=\"font-weight: bold\">repos\\intellij-micropython\\typehints\\micropython\\machine.pyi</span>\n",
       "</pre>\n"
      ],
      "text/plain": [
       "\u001b[32m22:28:26\u001b[0m | ℹ️ \u001b[1mMerge scratch\\micropython-v1_23_0-docstubs\\machine\\ADCWiPy.pyi from \u001b[0m\n",
       "\u001b[1mrepos\\intellij-micropython\\typehints\\micropython\\machine.pyi\u001b[0m\n"
      ]
     },
     "metadata": {},
     "output_type": "display_data"
    },
    {
     "data": {
      "text/html": [
       "<pre style=\"white-space:pre;overflow-x:auto;line-height:normal;font-family:Menlo,'DejaVu Sans Mono',consolas,'Courier New',monospace\"><span style=\"color: #008000; text-decoration-color: #008000\">22:28:27</span> | ℹ️ <span style=\"font-weight: bold\">Merge scratch\\micropython-v1_23_0-docstubs\\machine\\I2C.pyi from </span>\n",
       "<span style=\"font-weight: bold\">repos\\intellij-micropython\\typehints\\micropython\\machine.pyi</span>\n",
       "</pre>\n"
      ],
      "text/plain": [
       "\u001b[32m22:28:27\u001b[0m | ℹ️ \u001b[1mMerge scratch\\micropython-v1_23_0-docstubs\\machine\\I2C.pyi from \u001b[0m\n",
       "\u001b[1mrepos\\intellij-micropython\\typehints\\micropython\\machine.pyi\u001b[0m\n"
      ]
     },
     "metadata": {},
     "output_type": "display_data"
    },
    {
     "data": {
      "text/html": [
       "<pre style=\"white-space:pre;overflow-x:auto;line-height:normal;font-family:Menlo,'DejaVu Sans Mono',consolas,'Courier New',monospace\"><span style=\"color: #008000; text-decoration-color: #008000\">22:28:28</span> | ℹ️ <span style=\"font-weight: bold\">Change __init__ to @overload</span>\n",
       "</pre>\n"
      ],
      "text/plain": [
       "\u001b[32m22:28:28\u001b[0m | ℹ️ \u001b[1mChange __init__ to @overload\u001b[0m\n"
      ]
     },
     "metadata": {},
     "output_type": "display_data"
    },
    {
     "data": {
      "text/html": [
       "<pre style=\"white-space:pre;overflow-x:auto;line-height:normal;font-family:Menlo,'DejaVu Sans Mono',consolas,'Courier New',monospace\"><span style=\"color: #008000; text-decoration-color: #008000\">22:28:28</span> | ℹ️ <span style=\"font-weight: bold\">Change init to @overload</span>\n",
       "</pre>\n"
      ],
      "text/plain": [
       "\u001b[32m22:28:28\u001b[0m | ℹ️ \u001b[1mChange init to @overload\u001b[0m\n"
      ]
     },
     "metadata": {},
     "output_type": "display_data"
    },
    {
     "data": {
      "text/html": [
       "<pre style=\"white-space:pre;overflow-x:auto;line-height:normal;font-family:Menlo,'DejaVu Sans Mono',consolas,'Courier New',monospace\"><span style=\"color: #008000; text-decoration-color: #008000\">22:28:28</span> | ℹ️ <span style=\"font-weight: bold\">Merge scratch\\micropython-v1_23_0-docstubs\\machine\\I2S.pyi from </span>\n",
       "<span style=\"font-weight: bold\">repos\\intellij-micropython\\typehints\\micropython\\machine.pyi</span>\n",
       "</pre>\n"
      ],
      "text/plain": [
       "\u001b[32m22:28:28\u001b[0m | ℹ️ \u001b[1mMerge scratch\\micropython-v1_23_0-docstubs\\machine\\I2S.pyi from \u001b[0m\n",
       "\u001b[1mrepos\\intellij-micropython\\typehints\\micropython\\machine.pyi\u001b[0m\n"
      ]
     },
     "metadata": {},
     "output_type": "display_data"
    },
    {
     "data": {
      "text/html": [
       "<pre style=\"white-space:pre;overflow-x:auto;line-height:normal;font-family:Menlo,'DejaVu Sans Mono',consolas,'Courier New',monospace\"><span style=\"color: #008000; text-decoration-color: #008000\">22:28:30</span> | ℹ️ <span style=\"font-weight: bold\">Merge scratch\\micropython-v1_23_0-docstubs\\machine\\Pin.pyi from </span>\n",
       "<span style=\"font-weight: bold\">repos\\intellij-micropython\\typehints\\micropython\\machine.pyi</span>\n",
       "</pre>\n"
      ],
      "text/plain": [
       "\u001b[32m22:28:30\u001b[0m | ℹ️ \u001b[1mMerge scratch\\micropython-v1_23_0-docstubs\\machine\\Pin.pyi from \u001b[0m\n",
       "\u001b[1mrepos\\intellij-micropython\\typehints\\micropython\\machine.pyi\u001b[0m\n"
      ]
     },
     "metadata": {},
     "output_type": "display_data"
    },
    {
     "data": {
      "text/html": [
       "<pre style=\"white-space:pre;overflow-x:auto;line-height:normal;font-family:Menlo,'DejaVu Sans Mono',consolas,'Courier New',monospace\"><span style=\"color: #008000; text-decoration-color: #008000\">22:28:31</span> | ℹ️ <span style=\"font-weight: bold\">Change value to @overload</span>\n",
       "</pre>\n"
      ],
      "text/plain": [
       "\u001b[32m22:28:31\u001b[0m | ℹ️ \u001b[1mChange value to @overload\u001b[0m\n"
      ]
     },
     "metadata": {},
     "output_type": "display_data"
    },
    {
     "data": {
      "text/html": [
       "<pre style=\"white-space:pre;overflow-x:auto;line-height:normal;font-family:Menlo,'DejaVu Sans Mono',consolas,'Courier New',monospace\"><span style=\"color: #008000; text-decoration-color: #008000\">22:28:31</span> | ℹ️ <span style=\"font-weight: bold\">Change __call__ to @overload</span>\n",
       "</pre>\n"
      ],
      "text/plain": [
       "\u001b[32m22:28:31\u001b[0m | ℹ️ \u001b[1mChange __call__ to @overload\u001b[0m\n"
      ]
     },
     "metadata": {},
     "output_type": "display_data"
    },
    {
     "data": {
      "text/html": [
       "<pre style=\"white-space:pre;overflow-x:auto;line-height:normal;font-family:Menlo,'DejaVu Sans Mono',consolas,'Courier New',monospace\"><span style=\"color: #008000; text-decoration-color: #008000\">22:28:31</span> | ℹ️ <span style=\"font-weight: bold\">Change mode to @overload</span>\n",
       "</pre>\n"
      ],
      "text/plain": [
       "\u001b[32m22:28:31\u001b[0m | ℹ️ \u001b[1mChange mode to @overload\u001b[0m\n"
      ]
     },
     "metadata": {},
     "output_type": "display_data"
    },
    {
     "data": {
      "text/html": [
       "<pre style=\"white-space:pre;overflow-x:auto;line-height:normal;font-family:Menlo,'DejaVu Sans Mono',consolas,'Courier New',monospace\"><span style=\"color: #008000; text-decoration-color: #008000\">22:28:31</span> | ℹ️ <span style=\"font-weight: bold\">Change pull to @overload</span>\n",
       "</pre>\n"
      ],
      "text/plain": [
       "\u001b[32m22:28:31\u001b[0m | ℹ️ \u001b[1mChange pull to @overload\u001b[0m\n"
      ]
     },
     "metadata": {},
     "output_type": "display_data"
    },
    {
     "data": {
      "text/html": [
       "<pre style=\"white-space:pre;overflow-x:auto;line-height:normal;font-family:Menlo,'DejaVu Sans Mono',consolas,'Courier New',monospace\"><span style=\"color: #008000; text-decoration-color: #008000\">22:28:31</span> | ℹ️ <span style=\"font-weight: bold\">Change drive to @overload</span>\n",
       "</pre>\n"
      ],
      "text/plain": [
       "\u001b[32m22:28:31\u001b[0m | ℹ️ \u001b[1mChange drive to @overload\u001b[0m\n"
      ]
     },
     "metadata": {},
     "output_type": "display_data"
    },
    {
     "data": {
      "text/html": [
       "<pre style=\"white-space:pre;overflow-x:auto;line-height:normal;font-family:Menlo,'DejaVu Sans Mono',consolas,'Courier New',monospace\"><span style=\"color: #008000; text-decoration-color: #008000\">22:28:31</span> | ℹ️ <span style=\"font-weight: bold\">Merge scratch\\micropython-v1_23_0-docstubs\\machine\\PWM.pyi from </span>\n",
       "<span style=\"font-weight: bold\">repos\\intellij-micropython\\typehints\\micropython\\machine.pyi</span>\n",
       "</pre>\n"
      ],
      "text/plain": [
       "\u001b[32m22:28:31\u001b[0m | ℹ️ \u001b[1mMerge scratch\\micropython-v1_23_0-docstubs\\machine\\PWM.pyi from \u001b[0m\n",
       "\u001b[1mrepos\\intellij-micropython\\typehints\\micropython\\machine.pyi\u001b[0m\n"
      ]
     },
     "metadata": {},
     "output_type": "display_data"
    },
    {
     "data": {
      "text/html": [
       "<pre style=\"white-space:pre;overflow-x:auto;line-height:normal;font-family:Menlo,'DejaVu Sans Mono',consolas,'Courier New',monospace\"><span style=\"color: #008000; text-decoration-color: #008000\">22:28:32</span> | ℹ️ <span style=\"font-weight: bold\">Change freq to @overload</span>\n",
       "</pre>\n"
      ],
      "text/plain": [
       "\u001b[32m22:28:32\u001b[0m | ℹ️ \u001b[1mChange freq to @overload\u001b[0m\n"
      ]
     },
     "metadata": {},
     "output_type": "display_data"
    },
    {
     "data": {
      "text/html": [
       "<pre style=\"white-space:pre;overflow-x:auto;line-height:normal;font-family:Menlo,'DejaVu Sans Mono',consolas,'Courier New',monospace\"><span style=\"color: #008000; text-decoration-color: #008000\">22:28:32</span> | ℹ️ <span style=\"font-weight: bold\">Change duty_u16 to @overload</span>\n",
       "</pre>\n"
      ],
      "text/plain": [
       "\u001b[32m22:28:32\u001b[0m | ℹ️ \u001b[1mChange duty_u16 to @overload\u001b[0m\n"
      ]
     },
     "metadata": {},
     "output_type": "display_data"
    },
    {
     "data": {
      "text/html": [
       "<pre style=\"white-space:pre;overflow-x:auto;line-height:normal;font-family:Menlo,'DejaVu Sans Mono',consolas,'Courier New',monospace\"><span style=\"color: #008000; text-decoration-color: #008000\">22:28:32</span> | ℹ️ <span style=\"font-weight: bold\">Change duty_ns to @overload</span>\n",
       "</pre>\n"
      ],
      "text/plain": [
       "\u001b[32m22:28:32\u001b[0m | ℹ️ \u001b[1mChange duty_ns to @overload\u001b[0m\n"
      ]
     },
     "metadata": {},
     "output_type": "display_data"
    },
    {
     "data": {
      "text/html": [
       "<pre style=\"white-space:pre;overflow-x:auto;line-height:normal;font-family:Menlo,'DejaVu Sans Mono',consolas,'Courier New',monospace\"><span style=\"color: #008000; text-decoration-color: #008000\">22:28:33</span> | ℹ️ <span style=\"font-weight: bold\">Merge scratch\\micropython-v1_23_0-docstubs\\machine\\RTC.pyi from </span>\n",
       "<span style=\"font-weight: bold\">repos\\intellij-micropython\\typehints\\micropython\\machine.pyi</span>\n",
       "</pre>\n"
      ],
      "text/plain": [
       "\u001b[32m22:28:33\u001b[0m | ℹ️ \u001b[1mMerge scratch\\micropython-v1_23_0-docstubs\\machine\\RTC.pyi from \u001b[0m\n",
       "\u001b[1mrepos\\intellij-micropython\\typehints\\micropython\\machine.pyi\u001b[0m\n"
      ]
     },
     "metadata": {},
     "output_type": "display_data"
    },
    {
     "data": {
      "text/html": [
       "<pre style=\"white-space:pre;overflow-x:auto;line-height:normal;font-family:Menlo,'DejaVu Sans Mono',consolas,'Courier New',monospace\"><span style=\"color: #008000; text-decoration-color: #008000\">22:28:34</span> | ℹ️ <span style=\"font-weight: bold\">Change __init__ to @overload</span>\n",
       "</pre>\n"
      ],
      "text/plain": [
       "\u001b[32m22:28:34\u001b[0m | ℹ️ \u001b[1mChange __init__ to @overload\u001b[0m\n"
      ]
     },
     "metadata": {},
     "output_type": "display_data"
    },
    {
     "data": {
      "text/html": [
       "<pre style=\"white-space:pre;overflow-x:auto;line-height:normal;font-family:Menlo,'DejaVu Sans Mono',consolas,'Courier New',monospace\"><span style=\"color: #008000; text-decoration-color: #008000\">22:28:34</span> | ℹ️ <span style=\"font-weight: bold\">Change init to @overload</span>\n",
       "</pre>\n"
      ],
      "text/plain": [
       "\u001b[32m22:28:34\u001b[0m | ℹ️ \u001b[1mChange init to @overload\u001b[0m\n"
      ]
     },
     "metadata": {},
     "output_type": "display_data"
    },
    {
     "data": {
      "text/html": [
       "<pre style=\"white-space:pre;overflow-x:auto;line-height:normal;font-family:Menlo,'DejaVu Sans Mono',consolas,'Courier New',monospace\"><span style=\"color: #008000; text-decoration-color: #008000\">22:28:34</span> | ℹ️ <span style=\"font-weight: bold\">Change alarm to @overload</span>\n",
       "</pre>\n"
      ],
      "text/plain": [
       "\u001b[32m22:28:34\u001b[0m | ℹ️ \u001b[1mChange alarm to @overload\u001b[0m\n"
      ]
     },
     "metadata": {},
     "output_type": "display_data"
    },
    {
     "data": {
      "text/html": [
       "<pre style=\"white-space:pre;overflow-x:auto;line-height:normal;font-family:Menlo,'DejaVu Sans Mono',consolas,'Courier New',monospace\"><span style=\"color: #008000; text-decoration-color: #008000\">22:28:35</span> | ℹ️ <span style=\"font-weight: bold\">Merge scratch\\micropython-v1_23_0-docstubs\\machine\\SD.pyi from </span>\n",
       "<span style=\"font-weight: bold\">repos\\intellij-micropython\\typehints\\micropython\\machine.pyi</span>\n",
       "</pre>\n"
      ],
      "text/plain": [
       "\u001b[32m22:28:35\u001b[0m | ℹ️ \u001b[1mMerge scratch\\micropython-v1_23_0-docstubs\\machine\\SD.pyi from \u001b[0m\n",
       "\u001b[1mrepos\\intellij-micropython\\typehints\\micropython\\machine.pyi\u001b[0m\n"
      ]
     },
     "metadata": {},
     "output_type": "display_data"
    },
    {
     "data": {
      "text/html": [
       "<pre style=\"white-space:pre;overflow-x:auto;line-height:normal;font-family:Menlo,'DejaVu Sans Mono',consolas,'Courier New',monospace\"><span style=\"color: #008000; text-decoration-color: #008000\">22:28:36</span> | ℹ️ <span style=\"font-weight: bold\">Merge scratch\\micropython-v1_23_0-docstubs\\machine\\SDCard.pyi from </span>\n",
       "<span style=\"font-weight: bold\">repos\\intellij-micropython\\typehints\\micropython\\machine.pyi</span>\n",
       "</pre>\n"
      ],
      "text/plain": [
       "\u001b[32m22:28:36\u001b[0m | ℹ️ \u001b[1mMerge scratch\\micropython-v1_23_0-docstubs\\machine\\SDCard.pyi from \u001b[0m\n",
       "\u001b[1mrepos\\intellij-micropython\\typehints\\micropython\\machine.pyi\u001b[0m\n"
      ]
     },
     "metadata": {},
     "output_type": "display_data"
    },
    {
     "data": {
      "text/html": [
       "<pre style=\"white-space:pre;overflow-x:auto;line-height:normal;font-family:Menlo,'DejaVu Sans Mono',consolas,'Courier New',monospace\"><span style=\"color: #008000; text-decoration-color: #008000\">22:28:37</span> | ℹ️ <span style=\"font-weight: bold\">Merge scratch\\micropython-v1_23_0-docstubs\\machine\\Signal.pyi from </span>\n",
       "<span style=\"font-weight: bold\">repos\\intellij-micropython\\typehints\\micropython\\machine.pyi</span>\n",
       "</pre>\n"
      ],
      "text/plain": [
       "\u001b[32m22:28:37\u001b[0m | ℹ️ \u001b[1mMerge scratch\\micropython-v1_23_0-docstubs\\machine\\Signal.pyi from \u001b[0m\n",
       "\u001b[1mrepos\\intellij-micropython\\typehints\\micropython\\machine.pyi\u001b[0m\n"
      ]
     },
     "metadata": {},
     "output_type": "display_data"
    },
    {
     "data": {
      "text/html": [
       "<pre style=\"white-space:pre;overflow-x:auto;line-height:normal;font-family:Menlo,'DejaVu Sans Mono',consolas,'Courier New',monospace\"><span style=\"color: #008000; text-decoration-color: #008000\">22:28:38</span> | ℹ️ <span style=\"font-weight: bold\">Change __init__ to @overload</span>\n",
       "</pre>\n"
      ],
      "text/plain": [
       "\u001b[32m22:28:38\u001b[0m | ℹ️ \u001b[1mChange __init__ to @overload\u001b[0m\n"
      ]
     },
     "metadata": {},
     "output_type": "display_data"
    },
    {
     "data": {
      "text/html": [
       "<pre style=\"white-space:pre;overflow-x:auto;line-height:normal;font-family:Menlo,'DejaVu Sans Mono',consolas,'Courier New',monospace\"><span style=\"color: #008000; text-decoration-color: #008000\">22:28:38</span> | ℹ️ <span style=\"font-weight: bold\">Change value to @overload</span>\n",
       "</pre>\n"
      ],
      "text/plain": [
       "\u001b[32m22:28:38\u001b[0m | ℹ️ \u001b[1mChange value to @overload\u001b[0m\n"
      ]
     },
     "metadata": {},
     "output_type": "display_data"
    },
    {
     "data": {
      "text/html": [
       "<pre style=\"white-space:pre;overflow-x:auto;line-height:normal;font-family:Menlo,'DejaVu Sans Mono',consolas,'Courier New',monospace\"><span style=\"color: #008000; text-decoration-color: #008000\">22:28:38</span> | ℹ️ <span style=\"font-weight: bold\">Merge scratch\\micropython-v1_23_0-docstubs\\machine\\SPI.pyi from </span>\n",
       "<span style=\"font-weight: bold\">repos\\intellij-micropython\\typehints\\micropython\\machine.pyi</span>\n",
       "</pre>\n"
      ],
      "text/plain": [
       "\u001b[32m22:28:38\u001b[0m | ℹ️ \u001b[1mMerge scratch\\micropython-v1_23_0-docstubs\\machine\\SPI.pyi from \u001b[0m\n",
       "\u001b[1mrepos\\intellij-micropython\\typehints\\micropython\\machine.pyi\u001b[0m\n"
      ]
     },
     "metadata": {},
     "output_type": "display_data"
    },
    {
     "data": {
      "text/html": [
       "<pre style=\"white-space:pre;overflow-x:auto;line-height:normal;font-family:Menlo,'DejaVu Sans Mono',consolas,'Courier New',monospace\"><span style=\"color: #008000; text-decoration-color: #008000\">22:28:39</span> | ℹ️ <span style=\"font-weight: bold\">Change __init__ to @overload</span>\n",
       "</pre>\n"
      ],
      "text/plain": [
       "\u001b[32m22:28:39\u001b[0m | ℹ️ \u001b[1mChange __init__ to @overload\u001b[0m\n"
      ]
     },
     "metadata": {},
     "output_type": "display_data"
    },
    {
     "data": {
      "text/html": [
       "<pre style=\"white-space:pre;overflow-x:auto;line-height:normal;font-family:Menlo,'DejaVu Sans Mono',consolas,'Courier New',monospace\"><span style=\"color: #008000; text-decoration-color: #008000\">22:28:39</span> | ℹ️ <span style=\"font-weight: bold\">Change init to @overload</span>\n",
       "</pre>\n"
      ],
      "text/plain": [
       "\u001b[32m22:28:39\u001b[0m | ℹ️ \u001b[1mChange init to @overload\u001b[0m\n"
      ]
     },
     "metadata": {},
     "output_type": "display_data"
    },
    {
     "data": {
      "text/html": [
       "<pre style=\"white-space:pre;overflow-x:auto;line-height:normal;font-family:Menlo,'DejaVu Sans Mono',consolas,'Courier New',monospace\"><span style=\"color: #008000; text-decoration-color: #008000\">22:28:39</span> | ℹ️ <span style=\"font-weight: bold\">Merge scratch\\micropython-v1_23_0-docstubs\\machine\\Timer.pyi from </span>\n",
       "<span style=\"font-weight: bold\">repos\\intellij-micropython\\typehints\\micropython\\machine.pyi</span>\n",
       "</pre>\n"
      ],
      "text/plain": [
       "\u001b[32m22:28:39\u001b[0m | ℹ️ \u001b[1mMerge scratch\\micropython-v1_23_0-docstubs\\machine\\Timer.pyi from \u001b[0m\n",
       "\u001b[1mrepos\\intellij-micropython\\typehints\\micropython\\machine.pyi\u001b[0m\n"
      ]
     },
     "metadata": {},
     "output_type": "display_data"
    },
    {
     "data": {
      "text/html": [
       "<pre style=\"white-space:pre;overflow-x:auto;line-height:normal;font-family:Menlo,'DejaVu Sans Mono',consolas,'Courier New',monospace\"><span style=\"color: #008000; text-decoration-color: #008000\">22:28:39</span> | ℹ️ <span style=\"font-weight: bold\">Change __init__ to @overload</span>\n",
       "</pre>\n"
      ],
      "text/plain": [
       "\u001b[32m22:28:39\u001b[0m | ℹ️ \u001b[1mChange __init__ to @overload\u001b[0m\n"
      ]
     },
     "metadata": {},
     "output_type": "display_data"
    },
    {
     "data": {
      "text/html": [
       "<pre style=\"white-space:pre;overflow-x:auto;line-height:normal;font-family:Menlo,'DejaVu Sans Mono',consolas,'Courier New',monospace\"><span style=\"color: #008000; text-decoration-color: #008000\">22:28:40</span> | ℹ️ <span style=\"font-weight: bold\">Merge scratch\\micropython-v1_23_0-docstubs\\machine\\TimerWiPy.pyi from </span>\n",
       "<span style=\"font-weight: bold\">repos\\intellij-micropython\\typehints\\micropython\\machine.pyi</span>\n",
       "</pre>\n"
      ],
      "text/plain": [
       "\u001b[32m22:28:40\u001b[0m | ℹ️ \u001b[1mMerge scratch\\micropython-v1_23_0-docstubs\\machine\\TimerWiPy.pyi from \u001b[0m\n",
       "\u001b[1mrepos\\intellij-micropython\\typehints\\micropython\\machine.pyi\u001b[0m\n"
      ]
     },
     "metadata": {},
     "output_type": "display_data"
    },
    {
     "data": {
      "text/html": [
       "<pre style=\"white-space:pre;overflow-x:auto;line-height:normal;font-family:Menlo,'DejaVu Sans Mono',consolas,'Courier New',monospace\"><span style=\"color: #008000; text-decoration-color: #008000\">22:28:41</span> | ℹ️ <span style=\"font-weight: bold\">Merge scratch\\micropython-v1_23_0-docstubs\\machine\\UART.pyi from </span>\n",
       "<span style=\"font-weight: bold\">repos\\intellij-micropython\\typehints\\micropython\\machine.pyi</span>\n",
       "</pre>\n"
      ],
      "text/plain": [
       "\u001b[32m22:28:41\u001b[0m | ℹ️ \u001b[1mMerge scratch\\micropython-v1_23_0-docstubs\\machine\\UART.pyi from \u001b[0m\n",
       "\u001b[1mrepos\\intellij-micropython\\typehints\\micropython\\machine.pyi\u001b[0m\n"
      ]
     },
     "metadata": {},
     "output_type": "display_data"
    },
    {
     "data": {
      "text/html": [
       "<pre style=\"white-space:pre;overflow-x:auto;line-height:normal;font-family:Menlo,'DejaVu Sans Mono',consolas,'Courier New',monospace\"><span style=\"color: #008000; text-decoration-color: #008000\">22:28:42</span> | ℹ️ <span style=\"font-weight: bold\">Change __init__ to @overload</span>\n",
       "</pre>\n"
      ],
      "text/plain": [
       "\u001b[32m22:28:42\u001b[0m | ℹ️ \u001b[1mChange __init__ to @overload\u001b[0m\n"
      ]
     },
     "metadata": {},
     "output_type": "display_data"
    },
    {
     "data": {
      "text/html": [
       "<pre style=\"white-space:pre;overflow-x:auto;line-height:normal;font-family:Menlo,'DejaVu Sans Mono',consolas,'Courier New',monospace\"><span style=\"color: #008000; text-decoration-color: #008000\">22:28:42</span> | ℹ️ <span style=\"font-weight: bold\">Change init to @overload</span>\n",
       "</pre>\n"
      ],
      "text/plain": [
       "\u001b[32m22:28:42\u001b[0m | ℹ️ \u001b[1mChange init to @overload\u001b[0m\n"
      ]
     },
     "metadata": {},
     "output_type": "display_data"
    },
    {
     "data": {
      "text/html": [
       "<pre style=\"white-space:pre;overflow-x:auto;line-height:normal;font-family:Menlo,'DejaVu Sans Mono',consolas,'Courier New',monospace\"><span style=\"color: #008000; text-decoration-color: #008000\">22:28:42</span> | ℹ️ <span style=\"font-weight: bold\">Change read to @overload</span>\n",
       "</pre>\n"
      ],
      "text/plain": [
       "\u001b[32m22:28:42\u001b[0m | ℹ️ \u001b[1mChange read to @overload\u001b[0m\n"
      ]
     },
     "metadata": {},
     "output_type": "display_data"
    },
    {
     "data": {
      "text/html": [
       "<pre style=\"white-space:pre;overflow-x:auto;line-height:normal;font-family:Menlo,'DejaVu Sans Mono',consolas,'Courier New',monospace\"><span style=\"color: #008000; text-decoration-color: #008000\">22:28:42</span> | ℹ️ <span style=\"font-weight: bold\">Change readinto to @overload</span>\n",
       "</pre>\n"
      ],
      "text/plain": [
       "\u001b[32m22:28:42\u001b[0m | ℹ️ \u001b[1mChange readinto to @overload\u001b[0m\n"
      ]
     },
     "metadata": {},
     "output_type": "display_data"
    },
    {
     "data": {
      "text/html": [
       "<pre style=\"white-space:pre;overflow-x:auto;line-height:normal;font-family:Menlo,'DejaVu Sans Mono',consolas,'Courier New',monospace\"><span style=\"color: #008000; text-decoration-color: #008000\">22:28:42</span> | ℹ️ <span style=\"font-weight: bold\">Merge scratch\\micropython-v1_23_0-docstubs\\machine\\USBDevice.pyi from </span>\n",
       "<span style=\"font-weight: bold\">repos\\intellij-micropython\\typehints\\micropython\\machine.pyi</span>\n",
       "</pre>\n"
      ],
      "text/plain": [
       "\u001b[32m22:28:42\u001b[0m | ℹ️ \u001b[1mMerge scratch\\micropython-v1_23_0-docstubs\\machine\\USBDevice.pyi from \u001b[0m\n",
       "\u001b[1mrepos\\intellij-micropython\\typehints\\micropython\\machine.pyi\u001b[0m\n"
      ]
     },
     "metadata": {},
     "output_type": "display_data"
    },
    {
     "data": {
      "text/html": [
       "<pre style=\"white-space:pre;overflow-x:auto;line-height:normal;font-family:Menlo,'DejaVu Sans Mono',consolas,'Courier New',monospace\"><span style=\"color: #008000; text-decoration-color: #008000\">22:28:43</span> | ℹ️ <span style=\"font-weight: bold\">Merge scratch\\micropython-v1_23_0-docstubs\\machine\\WDT.pyi from </span>\n",
       "<span style=\"font-weight: bold\">repos\\intellij-micropython\\typehints\\micropython\\machine.pyi</span>\n",
       "</pre>\n"
      ],
      "text/plain": [
       "\u001b[32m22:28:43\u001b[0m | ℹ️ \u001b[1mMerge scratch\\micropython-v1_23_0-docstubs\\machine\\WDT.pyi from \u001b[0m\n",
       "\u001b[1mrepos\\intellij-micropython\\typehints\\micropython\\machine.pyi\u001b[0m\n"
      ]
     },
     "metadata": {},
     "output_type": "display_data"
    },
    {
     "data": {
      "text/html": [
       "<pre style=\"white-space:pre;overflow-x:auto;line-height:normal;font-family:Menlo,'DejaVu Sans Mono',consolas,'Courier New',monospace\"><span style=\"color: #008000; text-decoration-color: #008000\">22:28:44</span> | ℹ️ <span style=\"font-weight: bold\">Merge scratch\\micropython-v1_23_0-docstubs\\math\\__init__.pyi from </span>\n",
       "<span style=\"font-weight: bold\">repos\\intellij-micropython\\typehints\\stdlib\\math.pyi</span>\n",
       "</pre>\n"
      ],
      "text/plain": [
       "\u001b[32m22:28:44\u001b[0m | ℹ️ \u001b[1mMerge scratch\\micropython-v1_23_0-docstubs\\math\\__init__.pyi from \u001b[0m\n",
       "\u001b[1mrepos\\intellij-micropython\\typehints\\stdlib\\math.pyi\u001b[0m\n"
      ]
     },
     "metadata": {},
     "output_type": "display_data"
    },
    {
     "data": {
      "text/html": [
       "<pre style=\"white-space:pre;overflow-x:auto;line-height:normal;font-family:Menlo,'DejaVu Sans Mono',consolas,'Courier New',monospace\"><span style=\"color: #008000; text-decoration-color: #008000\">22:28:44</span> | ℹ️ <span style=\"font-weight: bold\">Merge scratch\\micropython-v1_23_0-docstubs\\micropython\\__init__.pyi from </span>\n",
       "<span style=\"font-weight: bold\">repos\\intellij-micropython\\typehints\\micropython\\micropython.pyi</span>\n",
       "</pre>\n"
      ],
      "text/plain": [
       "\u001b[32m22:28:44\u001b[0m | ℹ️ \u001b[1mMerge scratch\\micropython-v1_23_0-docstubs\\micropython\\__init__.pyi from \u001b[0m\n",
       "\u001b[1mrepos\\intellij-micropython\\typehints\\micropython\\micropython.pyi\u001b[0m\n"
      ]
     },
     "metadata": {},
     "output_type": "display_data"
    },
    {
     "data": {
      "text/html": [
       "<pre style=\"white-space:pre;overflow-x:auto;line-height:normal;font-family:Menlo,'DejaVu Sans Mono',consolas,'Courier New',monospace\"><span style=\"color: #008000; text-decoration-color: #008000\">22:28:44</span> | ℹ️ <span style=\"font-weight: bold\">Change opt_level to @overload</span>\n",
       "</pre>\n"
      ],
      "text/plain": [
       "\u001b[32m22:28:44\u001b[0m | ℹ️ \u001b[1mChange opt_level to @overload\u001b[0m\n"
      ]
     },
     "metadata": {},
     "output_type": "display_data"
    },
    {
     "data": {
      "text/html": [
       "<pre style=\"white-space:pre;overflow-x:auto;line-height:normal;font-family:Menlo,'DejaVu Sans Mono',consolas,'Courier New',monospace\"><span style=\"color: #008000; text-decoration-color: #008000\">22:28:44</span> | ℹ️ <span style=\"font-weight: bold\">Change mem_info to @overload</span>\n",
       "</pre>\n"
      ],
      "text/plain": [
       "\u001b[32m22:28:44\u001b[0m | ℹ️ \u001b[1mChange mem_info to @overload\u001b[0m\n"
      ]
     },
     "metadata": {},
     "output_type": "display_data"
    },
    {
     "data": {
      "text/html": [
       "<pre style=\"white-space:pre;overflow-x:auto;line-height:normal;font-family:Menlo,'DejaVu Sans Mono',consolas,'Courier New',monospace\"><span style=\"color: #008000; text-decoration-color: #008000\">22:28:44</span> | ℹ️ <span style=\"font-weight: bold\">Change qstr_info to @overload</span>\n",
       "</pre>\n"
      ],
      "text/plain": [
       "\u001b[32m22:28:44\u001b[0m | ℹ️ \u001b[1mChange qstr_info to @overload\u001b[0m\n"
      ]
     },
     "metadata": {},
     "output_type": "display_data"
    },
    {
     "data": {
      "text/html": [
       "<pre style=\"white-space:pre;overflow-x:auto;line-height:normal;font-family:Menlo,'DejaVu Sans Mono',consolas,'Courier New',monospace\"><span style=\"color: #008000; text-decoration-color: #008000\">22:28:44</span> | ℹ️ <span style=\"font-weight: bold\">Merge scratch\\micropython-v1_23_0-docstubs\\neopixel\\__init__.pyi from </span>\n",
       "<span style=\"font-weight: bold\">repos\\intellij-micropython\\typehints\\microbit\\neopixel.pyi</span>\n",
       "</pre>\n"
      ],
      "text/plain": [
       "\u001b[32m22:28:44\u001b[0m | ℹ️ \u001b[1mMerge scratch\\micropython-v1_23_0-docstubs\\neopixel\\__init__.pyi from \u001b[0m\n",
       "\u001b[1mrepos\\intellij-micropython\\typehints\\microbit\\neopixel.pyi\u001b[0m\n"
      ]
     },
     "metadata": {},
     "output_type": "display_data"
    },
    {
     "data": {
      "text/html": [
       "<pre style=\"white-space:pre;overflow-x:auto;line-height:normal;font-family:Menlo,'DejaVu Sans Mono',consolas,'Courier New',monospace\"><span style=\"color: #008000; text-decoration-color: #008000\">22:28:44</span> | ℹ️ <span style=\"font-weight: bold\">Merge scratch\\micropython-v1_23_0-docstubs\\neopixel\\__init__.pyi from </span>\n",
       "<span style=\"font-weight: bold\">repos\\intellij-micropython\\typehints\\micropython\\neopixel.pyi</span>\n",
       "</pre>\n"
      ],
      "text/plain": [
       "\u001b[32m22:28:44\u001b[0m | ℹ️ \u001b[1mMerge scratch\\micropython-v1_23_0-docstubs\\neopixel\\__init__.pyi from \u001b[0m\n",
       "\u001b[1mrepos\\intellij-micropython\\typehints\\micropython\\neopixel.pyi\u001b[0m\n"
      ]
     },
     "metadata": {},
     "output_type": "display_data"
    },
    {
     "data": {
      "text/html": [
       "<pre style=\"white-space:pre;overflow-x:auto;line-height:normal;font-family:Menlo,'DejaVu Sans Mono',consolas,'Courier New',monospace\"><span style=\"color: #008000; text-decoration-color: #008000\">22:28:45</span> | ℹ️ <span style=\"font-weight: bold\">Merge scratch\\micropython-v1_23_0-docstubs\\network\\__init__.pyi from </span>\n",
       "<span style=\"font-weight: bold\">repos\\intellij-micropython\\typehints\\esp32\\network.pyi</span>\n",
       "</pre>\n"
      ],
      "text/plain": [
       "\u001b[32m22:28:45\u001b[0m | ℹ️ \u001b[1mMerge scratch\\micropython-v1_23_0-docstubs\\network\\__init__.pyi from \u001b[0m\n",
       "\u001b[1mrepos\\intellij-micropython\\typehints\\esp32\\network.pyi\u001b[0m\n"
      ]
     },
     "metadata": {},
     "output_type": "display_data"
    },
    {
     "data": {
      "text/html": [
       "<pre style=\"white-space:pre;overflow-x:auto;line-height:normal;font-family:Menlo,'DejaVu Sans Mono',consolas,'Courier New',monospace\"><span style=\"color: #008000; text-decoration-color: #008000\">22:28:45</span> | ℹ️ <span style=\"font-weight: bold\">Merge scratch\\micropython-v1_23_0-docstubs\\network\\__init__.pyi from </span>\n",
       "<span style=\"font-weight: bold\">repos\\intellij-micropython\\typehints\\esp8266\\network.pyi</span>\n",
       "</pre>\n"
      ],
      "text/plain": [
       "\u001b[32m22:28:45\u001b[0m | ℹ️ \u001b[1mMerge scratch\\micropython-v1_23_0-docstubs\\network\\__init__.pyi from \u001b[0m\n",
       "\u001b[1mrepos\\intellij-micropython\\typehints\\esp8266\\network.pyi\u001b[0m\n"
      ]
     },
     "metadata": {},
     "output_type": "display_data"
    },
    {
     "data": {
      "text/html": [
       "<pre style=\"white-space:pre;overflow-x:auto;line-height:normal;font-family:Menlo,'DejaVu Sans Mono',consolas,'Courier New',monospace\"><span style=\"color: #008000; text-decoration-color: #008000\">22:28:45</span> | ℹ️ <span style=\"font-weight: bold\">Merge scratch\\micropython-v1_23_0-docstubs\\network\\__init__.pyi from </span>\n",
       "<span style=\"font-weight: bold\">repos\\intellij-micropython\\typehints\\micropython\\network.pyi</span>\n",
       "</pre>\n"
      ],
      "text/plain": [
       "\u001b[32m22:28:45\u001b[0m | ℹ️ \u001b[1mMerge scratch\\micropython-v1_23_0-docstubs\\network\\__init__.pyi from \u001b[0m\n",
       "\u001b[1mrepos\\intellij-micropython\\typehints\\micropython\\network.pyi\u001b[0m\n"
      ]
     },
     "metadata": {},
     "output_type": "display_data"
    },
    {
     "data": {
      "text/html": [
       "<pre style=\"white-space:pre;overflow-x:auto;line-height:normal;font-family:Menlo,'DejaVu Sans Mono',consolas,'Courier New',monospace\"><span style=\"color: #008000; text-decoration-color: #008000\">22:28:46</span> | ℹ️ <span style=\"font-weight: bold\">Change active to @overload</span>\n",
       "</pre>\n"
      ],
      "text/plain": [
       "\u001b[32m22:28:46\u001b[0m | ℹ️ \u001b[1mChange active to @overload\u001b[0m\n"
      ]
     },
     "metadata": {},
     "output_type": "display_data"
    },
    {
     "data": {
      "text/html": [
       "<pre style=\"white-space:pre;overflow-x:auto;line-height:normal;font-family:Menlo,'DejaVu Sans Mono',consolas,'Courier New',monospace\"><span style=\"color: #008000; text-decoration-color: #008000\">22:28:46</span> | ℹ️ <span style=\"font-weight: bold\">Change connect to @overload</span>\n",
       "</pre>\n"
      ],
      "text/plain": [
       "\u001b[32m22:28:46\u001b[0m | ℹ️ \u001b[1mChange connect to @overload\u001b[0m\n"
      ]
     },
     "metadata": {},
     "output_type": "display_data"
    },
    {
     "data": {
      "text/html": [
       "<pre style=\"white-space:pre;overflow-x:auto;line-height:normal;font-family:Menlo,'DejaVu Sans Mono',consolas,'Courier New',monospace\"><span style=\"color: #008000; text-decoration-color: #008000\">22:28:46</span> | ℹ️ <span style=\"font-weight: bold\">Change status to @overload</span>\n",
       "</pre>\n"
      ],
      "text/plain": [
       "\u001b[32m22:28:46\u001b[0m | ℹ️ \u001b[1mChange status to @overload\u001b[0m\n"
      ]
     },
     "metadata": {},
     "output_type": "display_data"
    },
    {
     "data": {
      "text/html": [
       "<pre style=\"white-space:pre;overflow-x:auto;line-height:normal;font-family:Menlo,'DejaVu Sans Mono',consolas,'Courier New',monospace\"><span style=\"color: #008000; text-decoration-color: #008000\">22:28:46</span> | ℹ️ <span style=\"font-weight: bold\">Change ifconfig to @overload</span>\n",
       "</pre>\n"
      ],
      "text/plain": [
       "\u001b[32m22:28:46\u001b[0m | ℹ️ \u001b[1mChange ifconfig to @overload\u001b[0m\n"
      ]
     },
     "metadata": {},
     "output_type": "display_data"
    },
    {
     "data": {
      "text/html": [
       "<pre style=\"white-space:pre;overflow-x:auto;line-height:normal;font-family:Menlo,'DejaVu Sans Mono',consolas,'Courier New',monospace\"><span style=\"color: #008000; text-decoration-color: #008000\">22:28:46</span> | ℹ️ <span style=\"font-weight: bold\">Change config to @overload</span>\n",
       "</pre>\n"
      ],
      "text/plain": [
       "\u001b[32m22:28:46\u001b[0m | ℹ️ \u001b[1mChange config to @overload\u001b[0m\n"
      ]
     },
     "metadata": {},
     "output_type": "display_data"
    },
    {
     "data": {
      "text/html": [
       "<pre style=\"white-space:pre;overflow-x:auto;line-height:normal;font-family:Menlo,'DejaVu Sans Mono',consolas,'Courier New',monospace\"><span style=\"color: #008000; text-decoration-color: #008000\">22:28:46</span> | ℹ️ <span style=\"font-weight: bold\">Merge scratch\\micropython-v1_23_0-docstubs\\network\\LAN.pyi from </span>\n",
       "<span style=\"font-weight: bold\">repos\\intellij-micropython\\typehints\\esp32\\network.pyi</span>\n",
       "</pre>\n"
      ],
      "text/plain": [
       "\u001b[32m22:28:46\u001b[0m | ℹ️ \u001b[1mMerge scratch\\micropython-v1_23_0-docstubs\\network\\LAN.pyi from \u001b[0m\n",
       "\u001b[1mrepos\\intellij-micropython\\typehints\\esp32\\network.pyi\u001b[0m\n"
      ]
     },
     "metadata": {},
     "output_type": "display_data"
    },
    {
     "data": {
      "text/html": [
       "<pre style=\"white-space:pre;overflow-x:auto;line-height:normal;font-family:Menlo,'DejaVu Sans Mono',consolas,'Courier New',monospace\"><span style=\"color: #008000; text-decoration-color: #008000\">22:28:46</span> | ℹ️ <span style=\"font-weight: bold\">Merge scratch\\micropython-v1_23_0-docstubs\\network\\LAN.pyi from </span>\n",
       "<span style=\"font-weight: bold\">repos\\intellij-micropython\\typehints\\esp8266\\network.pyi</span>\n",
       "</pre>\n"
      ],
      "text/plain": [
       "\u001b[32m22:28:46\u001b[0m | ℹ️ \u001b[1mMerge scratch\\micropython-v1_23_0-docstubs\\network\\LAN.pyi from \u001b[0m\n",
       "\u001b[1mrepos\\intellij-micropython\\typehints\\esp8266\\network.pyi\u001b[0m\n"
      ]
     },
     "metadata": {},
     "output_type": "display_data"
    },
    {
     "data": {
      "text/html": [
       "<pre style=\"white-space:pre;overflow-x:auto;line-height:normal;font-family:Menlo,'DejaVu Sans Mono',consolas,'Courier New',monospace\"><span style=\"color: #008000; text-decoration-color: #008000\">22:28:46</span> | ℹ️ <span style=\"font-weight: bold\">Merge scratch\\micropython-v1_23_0-docstubs\\network\\LAN.pyi from </span>\n",
       "<span style=\"font-weight: bold\">repos\\intellij-micropython\\typehints\\micropython\\network.pyi</span>\n",
       "</pre>\n"
      ],
      "text/plain": [
       "\u001b[32m22:28:46\u001b[0m | ℹ️ \u001b[1mMerge scratch\\micropython-v1_23_0-docstubs\\network\\LAN.pyi from \u001b[0m\n",
       "\u001b[1mrepos\\intellij-micropython\\typehints\\micropython\\network.pyi\u001b[0m\n"
      ]
     },
     "metadata": {},
     "output_type": "display_data"
    },
    {
     "data": {
      "text/html": [
       "<pre style=\"white-space:pre;overflow-x:auto;line-height:normal;font-family:Menlo,'DejaVu Sans Mono',consolas,'Courier New',monospace\"><span style=\"color: #008000; text-decoration-color: #008000\">22:28:47</span> | ℹ️ <span style=\"font-weight: bold\">Merge scratch\\micropython-v1_23_0-docstubs\\network\\WIZNET5K.pyi from </span>\n",
       "<span style=\"font-weight: bold\">repos\\intellij-micropython\\typehints\\esp32\\network.pyi</span>\n",
       "</pre>\n"
      ],
      "text/plain": [
       "\u001b[32m22:28:47\u001b[0m | ℹ️ \u001b[1mMerge scratch\\micropython-v1_23_0-docstubs\\network\\WIZNET5K.pyi from \u001b[0m\n",
       "\u001b[1mrepos\\intellij-micropython\\typehints\\esp32\\network.pyi\u001b[0m\n"
      ]
     },
     "metadata": {},
     "output_type": "display_data"
    },
    {
     "data": {
      "text/html": [
       "<pre style=\"white-space:pre;overflow-x:auto;line-height:normal;font-family:Menlo,'DejaVu Sans Mono',consolas,'Courier New',monospace\"><span style=\"color: #008000; text-decoration-color: #008000\">22:28:47</span> | ℹ️ <span style=\"font-weight: bold\">Merge scratch\\micropython-v1_23_0-docstubs\\network\\WIZNET5K.pyi from </span>\n",
       "<span style=\"font-weight: bold\">repos\\intellij-micropython\\typehints\\esp8266\\network.pyi</span>\n",
       "</pre>\n"
      ],
      "text/plain": [
       "\u001b[32m22:28:47\u001b[0m | ℹ️ \u001b[1mMerge scratch\\micropython-v1_23_0-docstubs\\network\\WIZNET5K.pyi from \u001b[0m\n",
       "\u001b[1mrepos\\intellij-micropython\\typehints\\esp8266\\network.pyi\u001b[0m\n"
      ]
     },
     "metadata": {},
     "output_type": "display_data"
    },
    {
     "data": {
      "text/html": [
       "<pre style=\"white-space:pre;overflow-x:auto;line-height:normal;font-family:Menlo,'DejaVu Sans Mono',consolas,'Courier New',monospace\"><span style=\"color: #008000; text-decoration-color: #008000\">22:28:47</span> | ℹ️ <span style=\"font-weight: bold\">Merge scratch\\micropython-v1_23_0-docstubs\\network\\WIZNET5K.pyi from </span>\n",
       "<span style=\"font-weight: bold\">repos\\intellij-micropython\\typehints\\micropython\\network.pyi</span>\n",
       "</pre>\n"
      ],
      "text/plain": [
       "\u001b[32m22:28:47\u001b[0m | ℹ️ \u001b[1mMerge scratch\\micropython-v1_23_0-docstubs\\network\\WIZNET5K.pyi from \u001b[0m\n",
       "\u001b[1mrepos\\intellij-micropython\\typehints\\micropython\\network.pyi\u001b[0m\n"
      ]
     },
     "metadata": {},
     "output_type": "display_data"
    },
    {
     "data": {
      "text/html": [
       "<pre style=\"white-space:pre;overflow-x:auto;line-height:normal;font-family:Menlo,'DejaVu Sans Mono',consolas,'Courier New',monospace\"><span style=\"color: #008000; text-decoration-color: #008000\">22:28:48</span> | ℹ️ <span style=\"font-weight: bold\">Change ifconfig to @overload</span>\n",
       "</pre>\n"
      ],
      "text/plain": [
       "\u001b[32m22:28:48\u001b[0m | ℹ️ \u001b[1mChange ifconfig to @overload\u001b[0m\n"
      ]
     },
     "metadata": {},
     "output_type": "display_data"
    },
    {
     "data": {
      "text/html": [
       "<pre style=\"white-space:pre;overflow-x:auto;line-height:normal;font-family:Menlo,'DejaVu Sans Mono',consolas,'Courier New',monospace\"><span style=\"color: #008000; text-decoration-color: #008000\">22:28:48</span> | ℹ️ <span style=\"font-weight: bold\">Merge scratch\\micropython-v1_23_0-docstubs\\network\\WLAN.pyi from </span>\n",
       "<span style=\"font-weight: bold\">repos\\intellij-micropython\\typehints\\esp32\\network.pyi</span>\n",
       "</pre>\n"
      ],
      "text/plain": [
       "\u001b[32m22:28:48\u001b[0m | ℹ️ \u001b[1mMerge scratch\\micropython-v1_23_0-docstubs\\network\\WLAN.pyi from \u001b[0m\n",
       "\u001b[1mrepos\\intellij-micropython\\typehints\\esp32\\network.pyi\u001b[0m\n"
      ]
     },
     "metadata": {},
     "output_type": "display_data"
    },
    {
     "data": {
      "text/html": [
       "<pre style=\"white-space:pre;overflow-x:auto;line-height:normal;font-family:Menlo,'DejaVu Sans Mono',consolas,'Courier New',monospace\"><span style=\"color: #008000; text-decoration-color: #008000\">22:28:48</span> | ℹ️ <span style=\"font-weight: bold\">Change active to @overload</span>\n",
       "</pre>\n"
      ],
      "text/plain": [
       "\u001b[32m22:28:48\u001b[0m | ℹ️ \u001b[1mChange active to @overload\u001b[0m\n"
      ]
     },
     "metadata": {},
     "output_type": "display_data"
    },
    {
     "data": {
      "text/html": [
       "<pre style=\"white-space:pre;overflow-x:auto;line-height:normal;font-family:Menlo,'DejaVu Sans Mono',consolas,'Courier New',monospace\"><span style=\"color: #008000; text-decoration-color: #008000\">22:28:48</span> | ℹ️ <span style=\"font-weight: bold\">Change ifconfig to @overload</span>\n",
       "</pre>\n"
      ],
      "text/plain": [
       "\u001b[32m22:28:48\u001b[0m | ℹ️ \u001b[1mChange ifconfig to @overload\u001b[0m\n"
      ]
     },
     "metadata": {},
     "output_type": "display_data"
    },
    {
     "data": {
      "text/html": [
       "<pre style=\"white-space:pre;overflow-x:auto;line-height:normal;font-family:Menlo,'DejaVu Sans Mono',consolas,'Courier New',monospace\"><span style=\"color: #008000; text-decoration-color: #008000\">22:28:48</span> | ℹ️ <span style=\"font-weight: bold\">Change config to @overload</span>\n",
       "</pre>\n"
      ],
      "text/plain": [
       "\u001b[32m22:28:48\u001b[0m | ℹ️ \u001b[1mChange config to @overload\u001b[0m\n"
      ]
     },
     "metadata": {},
     "output_type": "display_data"
    },
    {
     "data": {
      "text/html": [
       "<pre style=\"white-space:pre;overflow-x:auto;line-height:normal;font-family:Menlo,'DejaVu Sans Mono',consolas,'Courier New',monospace\"><span style=\"color: #008000; text-decoration-color: #008000\">22:28:48</span> | ℹ️ <span style=\"font-weight: bold\">Merge scratch\\micropython-v1_23_0-docstubs\\network\\WLAN.pyi from </span>\n",
       "<span style=\"font-weight: bold\">repos\\intellij-micropython\\typehints\\esp8266\\network.pyi</span>\n",
       "</pre>\n"
      ],
      "text/plain": [
       "\u001b[32m22:28:48\u001b[0m | ℹ️ \u001b[1mMerge scratch\\micropython-v1_23_0-docstubs\\network\\WLAN.pyi from \u001b[0m\n",
       "\u001b[1mrepos\\intellij-micropython\\typehints\\esp8266\\network.pyi\u001b[0m\n"
      ]
     },
     "metadata": {},
     "output_type": "display_data"
    },
    {
     "data": {
      "text/html": [
       "<pre style=\"white-space:pre;overflow-x:auto;line-height:normal;font-family:Menlo,'DejaVu Sans Mono',consolas,'Courier New',monospace\"><span style=\"color: #008000; text-decoration-color: #008000\">22:28:48</span> | ℹ️ <span style=\"font-weight: bold\">Merge scratch\\micropython-v1_23_0-docstubs\\network\\WLAN.pyi from </span>\n",
       "<span style=\"font-weight: bold\">repos\\intellij-micropython\\typehints\\micropython\\network.pyi</span>\n",
       "</pre>\n"
      ],
      "text/plain": [
       "\u001b[32m22:28:48\u001b[0m | ℹ️ \u001b[1mMerge scratch\\micropython-v1_23_0-docstubs\\network\\WLAN.pyi from \u001b[0m\n",
       "\u001b[1mrepos\\intellij-micropython\\typehints\\micropython\\network.pyi\u001b[0m\n"
      ]
     },
     "metadata": {},
     "output_type": "display_data"
    },
    {
     "data": {
      "text/html": [
       "<pre style=\"white-space:pre;overflow-x:auto;line-height:normal;font-family:Menlo,'DejaVu Sans Mono',consolas,'Courier New',monospace\"><span style=\"color: #008000; text-decoration-color: #008000\">22:28:49</span> | ℹ️ <span style=\"font-weight: bold\">Change status to @overload</span>\n",
       "</pre>\n"
      ],
      "text/plain": [
       "\u001b[32m22:28:49\u001b[0m | ℹ️ \u001b[1mChange status to @overload\u001b[0m\n"
      ]
     },
     "metadata": {},
     "output_type": "display_data"
    },
    {
     "data": {
      "text/html": [
       "<pre style=\"white-space:pre;overflow-x:auto;line-height:normal;font-family:Menlo,'DejaVu Sans Mono',consolas,'Courier New',monospace\"><span style=\"color: #008000; text-decoration-color: #008000\">22:28:49</span> | ℹ️ <span style=\"font-weight: bold\">Merge scratch\\micropython-v1_23_0-docstubs\\network\\WLANWiPy.pyi from </span>\n",
       "<span style=\"font-weight: bold\">repos\\intellij-micropython\\typehints\\esp32\\network.pyi</span>\n",
       "</pre>\n"
      ],
      "text/plain": [
       "\u001b[32m22:28:49\u001b[0m | ℹ️ \u001b[1mMerge scratch\\micropython-v1_23_0-docstubs\\network\\WLANWiPy.pyi from \u001b[0m\n",
       "\u001b[1mrepos\\intellij-micropython\\typehints\\esp32\\network.pyi\u001b[0m\n"
      ]
     },
     "metadata": {},
     "output_type": "display_data"
    },
    {
     "data": {
      "text/html": [
       "<pre style=\"white-space:pre;overflow-x:auto;line-height:normal;font-family:Menlo,'DejaVu Sans Mono',consolas,'Courier New',monospace\"><span style=\"color: #008000; text-decoration-color: #008000\">22:28:49</span> | ℹ️ <span style=\"font-weight: bold\">Merge scratch\\micropython-v1_23_0-docstubs\\network\\WLANWiPy.pyi from </span>\n",
       "<span style=\"font-weight: bold\">repos\\intellij-micropython\\typehints\\esp8266\\network.pyi</span>\n",
       "</pre>\n"
      ],
      "text/plain": [
       "\u001b[32m22:28:49\u001b[0m | ℹ️ \u001b[1mMerge scratch\\micropython-v1_23_0-docstubs\\network\\WLANWiPy.pyi from \u001b[0m\n",
       "\u001b[1mrepos\\intellij-micropython\\typehints\\esp8266\\network.pyi\u001b[0m\n"
      ]
     },
     "metadata": {},
     "output_type": "display_data"
    },
    {
     "data": {
      "text/html": [
       "<pre style=\"white-space:pre;overflow-x:auto;line-height:normal;font-family:Menlo,'DejaVu Sans Mono',consolas,'Courier New',monospace\"><span style=\"color: #008000; text-decoration-color: #008000\">22:28:50</span> | ℹ️ <span style=\"font-weight: bold\">Merge scratch\\micropython-v1_23_0-docstubs\\network\\WLANWiPy.pyi from </span>\n",
       "<span style=\"font-weight: bold\">repos\\intellij-micropython\\typehints\\micropython\\network.pyi</span>\n",
       "</pre>\n"
      ],
      "text/plain": [
       "\u001b[32m22:28:50\u001b[0m | ℹ️ \u001b[1mMerge scratch\\micropython-v1_23_0-docstubs\\network\\WLANWiPy.pyi from \u001b[0m\n",
       "\u001b[1mrepos\\intellij-micropython\\typehints\\micropython\\network.pyi\u001b[0m\n"
      ]
     },
     "metadata": {},
     "output_type": "display_data"
    },
    {
     "data": {
      "text/html": [
       "<pre style=\"white-space:pre;overflow-x:auto;line-height:normal;font-family:Menlo,'DejaVu Sans Mono',consolas,'Courier New',monospace\"><span style=\"color: #008000; text-decoration-color: #008000\">22:28:50</span> | ℹ️ <span style=\"font-weight: bold\">Change __init__ to @overload</span>\n",
       "</pre>\n"
      ],
      "text/plain": [
       "\u001b[32m22:28:50\u001b[0m | ℹ️ \u001b[1mChange __init__ to @overload\u001b[0m\n"
      ]
     },
     "metadata": {},
     "output_type": "display_data"
    },
    {
     "data": {
      "text/html": [
       "<pre style=\"white-space:pre;overflow-x:auto;line-height:normal;font-family:Menlo,'DejaVu Sans Mono',consolas,'Courier New',monospace\"><span style=\"color: #008000; text-decoration-color: #008000\">22:28:50</span> | ℹ️ <span style=\"font-weight: bold\">Change ifconfig to @overload</span>\n",
       "</pre>\n"
      ],
      "text/plain": [
       "\u001b[32m22:28:50\u001b[0m | ℹ️ \u001b[1mChange ifconfig to @overload\u001b[0m\n"
      ]
     },
     "metadata": {},
     "output_type": "display_data"
    },
    {
     "data": {
      "text/html": [
       "<pre style=\"white-space:pre;overflow-x:auto;line-height:normal;font-family:Menlo,'DejaVu Sans Mono',consolas,'Courier New',monospace\"><span style=\"color: #008000; text-decoration-color: #008000\">22:28:50</span> | ℹ️ <span style=\"font-weight: bold\">Change mode to @overload</span>\n",
       "</pre>\n"
      ],
      "text/plain": [
       "\u001b[32m22:28:50\u001b[0m | ℹ️ \u001b[1mChange mode to @overload\u001b[0m\n"
      ]
     },
     "metadata": {},
     "output_type": "display_data"
    },
    {
     "data": {
      "text/html": [
       "<pre style=\"white-space:pre;overflow-x:auto;line-height:normal;font-family:Menlo,'DejaVu Sans Mono',consolas,'Courier New',monospace\"><span style=\"color: #008000; text-decoration-color: #008000\">22:28:50</span> | ℹ️ <span style=\"font-weight: bold\">Change ssid to @overload</span>\n",
       "</pre>\n"
      ],
      "text/plain": [
       "\u001b[32m22:28:50\u001b[0m | ℹ️ \u001b[1mChange ssid to @overload\u001b[0m\n"
      ]
     },
     "metadata": {},
     "output_type": "display_data"
    },
    {
     "data": {
      "text/html": [
       "<pre style=\"white-space:pre;overflow-x:auto;line-height:normal;font-family:Menlo,'DejaVu Sans Mono',consolas,'Courier New',monospace\"><span style=\"color: #008000; text-decoration-color: #008000\">22:28:50</span> | ℹ️ <span style=\"font-weight: bold\">Change auth to @overload</span>\n",
       "</pre>\n"
      ],
      "text/plain": [
       "\u001b[32m22:28:50\u001b[0m | ℹ️ \u001b[1mChange auth to @overload\u001b[0m\n"
      ]
     },
     "metadata": {},
     "output_type": "display_data"
    },
    {
     "data": {
      "text/html": [
       "<pre style=\"white-space:pre;overflow-x:auto;line-height:normal;font-family:Menlo,'DejaVu Sans Mono',consolas,'Courier New',monospace\"><span style=\"color: #008000; text-decoration-color: #008000\">22:28:50</span> | ℹ️ <span style=\"font-weight: bold\">Change channel to @overload</span>\n",
       "</pre>\n"
      ],
      "text/plain": [
       "\u001b[32m22:28:50\u001b[0m | ℹ️ \u001b[1mChange channel to @overload\u001b[0m\n"
      ]
     },
     "metadata": {},
     "output_type": "display_data"
    },
    {
     "data": {
      "text/html": [
       "<pre style=\"white-space:pre;overflow-x:auto;line-height:normal;font-family:Menlo,'DejaVu Sans Mono',consolas,'Courier New',monospace\"><span style=\"color: #008000; text-decoration-color: #008000\">22:28:50</span> | ℹ️ <span style=\"font-weight: bold\">Change antenna to @overload</span>\n",
       "</pre>\n"
      ],
      "text/plain": [
       "\u001b[32m22:28:50\u001b[0m | ℹ️ \u001b[1mChange antenna to @overload\u001b[0m\n"
      ]
     },
     "metadata": {},
     "output_type": "display_data"
    },
    {
     "data": {
      "text/html": [
       "<pre style=\"white-space:pre;overflow-x:auto;line-height:normal;font-family:Menlo,'DejaVu Sans Mono',consolas,'Courier New',monospace\"><span style=\"color: #008000; text-decoration-color: #008000\">22:28:50</span> | ℹ️ <span style=\"font-weight: bold\">Change mac to @overload</span>\n",
       "</pre>\n"
      ],
      "text/plain": [
       "\u001b[32m22:28:50\u001b[0m | ℹ️ \u001b[1mChange mac to @overload\u001b[0m\n"
      ]
     },
     "metadata": {},
     "output_type": "display_data"
    },
    {
     "data": {
      "text/html": [
       "<pre style=\"white-space:pre;overflow-x:auto;line-height:normal;font-family:Menlo,'DejaVu Sans Mono',consolas,'Courier New',monospace\"><span style=\"color: #008000; text-decoration-color: #008000\">22:28:50</span> | ℹ️ <span style=\"font-weight: bold\">Merge scratch\\micropython-v1_23_0-docstubs\\os\\__init__.pyi from </span>\n",
       "<span style=\"font-weight: bold\">repos\\intellij-micropython\\typehints\\stdlib\\os.pyi</span>\n",
       "</pre>\n"
      ],
      "text/plain": [
       "\u001b[32m22:28:50\u001b[0m | ℹ️ \u001b[1mMerge scratch\\micropython-v1_23_0-docstubs\\os\\__init__.pyi from \u001b[0m\n",
       "\u001b[1mrepos\\intellij-micropython\\typehints\\stdlib\\os.pyi\u001b[0m\n"
      ]
     },
     "metadata": {},
     "output_type": "display_data"
    },
    {
     "data": {
      "text/html": [
       "<pre style=\"white-space:pre;overflow-x:auto;line-height:normal;font-family:Menlo,'DejaVu Sans Mono',consolas,'Courier New',monospace\"><span style=\"color: #008000; text-decoration-color: #008000\">22:28:50</span> | ℹ️ <span style=\"font-weight: bold\">Change ilistdir to @overload</span>\n",
       "</pre>\n"
      ],
      "text/plain": [
       "\u001b[32m22:28:50\u001b[0m | ℹ️ \u001b[1mChange ilistdir to @overload\u001b[0m\n"
      ]
     },
     "metadata": {},
     "output_type": "display_data"
    },
    {
     "data": {
      "text/html": [
       "<pre style=\"white-space:pre;overflow-x:auto;line-height:normal;font-family:Menlo,'DejaVu Sans Mono',consolas,'Courier New',monospace\"><span style=\"color: #008000; text-decoration-color: #008000\">22:28:50</span> | ℹ️ <span style=\"font-weight: bold\">Change listdir to @overload</span>\n",
       "</pre>\n"
      ],
      "text/plain": [
       "\u001b[32m22:28:50\u001b[0m | ℹ️ \u001b[1mChange listdir to @overload\u001b[0m\n"
      ]
     },
     "metadata": {},
     "output_type": "display_data"
    },
    {
     "data": {
      "text/html": [
       "<pre style=\"white-space:pre;overflow-x:auto;line-height:normal;font-family:Menlo,'DejaVu Sans Mono',consolas,'Courier New',monospace\"><span style=\"color: #008000; text-decoration-color: #008000\">22:28:51</span> | ℹ️ <span style=\"font-weight: bold\">Merge scratch\\micropython-v1_23_0-docstubs\\os\\__init__.pyi from </span>\n",
       "<span style=\"font-weight: bold\">repos\\intellij-micropython\\typehints\\stdlib\\uos.pyi</span>\n",
       "</pre>\n"
      ],
      "text/plain": [
       "\u001b[32m22:28:51\u001b[0m | ℹ️ \u001b[1mMerge scratch\\micropython-v1_23_0-docstubs\\os\\__init__.pyi from \u001b[0m\n",
       "\u001b[1mrepos\\intellij-micropython\\typehints\\stdlib\\uos.pyi\u001b[0m\n"
      ]
     },
     "metadata": {},
     "output_type": "display_data"
    },
    {
     "data": {
      "text/html": [
       "<pre style=\"white-space:pre;overflow-x:auto;line-height:normal;font-family:Menlo,'DejaVu Sans Mono',consolas,'Courier New',monospace\"><span style=\"color: #008000; text-decoration-color: #008000\">22:28:52</span> | ℹ️ <span style=\"font-weight: bold\">Merge scratch\\micropython-v1_23_0-docstubs\\pyb\\__init__.pyi from </span>\n",
       "<span style=\"font-weight: bold\">repos\\intellij-micropython\\typehints\\pyboard\\pyb.pyi</span>\n",
       "</pre>\n"
      ],
      "text/plain": [
       "\u001b[32m22:28:52\u001b[0m | ℹ️ \u001b[1mMerge scratch\\micropython-v1_23_0-docstubs\\pyb\\__init__.pyi from \u001b[0m\n",
       "\u001b[1mrepos\\intellij-micropython\\typehints\\pyboard\\pyb.pyi\u001b[0m\n"
      ]
     },
     "metadata": {},
     "output_type": "display_data"
    },
    {
     "data": {
      "text/html": [
       "<pre style=\"white-space:pre;overflow-x:auto;line-height:normal;font-family:Menlo,'DejaVu Sans Mono',consolas,'Courier New',monospace\"><span style=\"color: #008000; text-decoration-color: #008000\">22:28:53</span> | ℹ️ <span style=\"font-weight: bold\">Change freq to @overload</span>\n",
       "</pre>\n"
      ],
      "text/plain": [
       "\u001b[32m22:28:53\u001b[0m | ℹ️ \u001b[1mChange freq to @overload\u001b[0m\n"
      ]
     },
     "metadata": {},
     "output_type": "display_data"
    },
    {
     "data": {
      "text/html": [
       "<pre style=\"white-space:pre;overflow-x:auto;line-height:normal;font-family:Menlo,'DejaVu Sans Mono',consolas,'Courier New',monospace\"><span style=\"color: #008000; text-decoration-color: #008000\">22:28:53</span> | ℹ️ <span style=\"font-weight: bold\">Change hid to @overload</span>\n",
       "</pre>\n"
      ],
      "text/plain": [
       "\u001b[32m22:28:53\u001b[0m | ℹ️ \u001b[1mChange hid to @overload\u001b[0m\n"
      ]
     },
     "metadata": {},
     "output_type": "display_data"
    },
    {
     "data": {
      "text/html": [
       "<pre style=\"white-space:pre;overflow-x:auto;line-height:normal;font-family:Menlo,'DejaVu Sans Mono',consolas,'Courier New',monospace\"><span style=\"color: #008000; text-decoration-color: #008000\">22:28:53</span> | ℹ️ <span style=\"font-weight: bold\">Change info to @overload</span>\n",
       "</pre>\n"
      ],
      "text/plain": [
       "\u001b[32m22:28:53\u001b[0m | ℹ️ \u001b[1mChange info to @overload\u001b[0m\n"
      ]
     },
     "metadata": {},
     "output_type": "display_data"
    },
    {
     "data": {
      "text/html": [
       "<pre style=\"white-space:pre;overflow-x:auto;line-height:normal;font-family:Menlo,'DejaVu Sans Mono',consolas,'Courier New',monospace\"><span style=\"color: #008000; text-decoration-color: #008000\">22:28:53</span> | ℹ️ <span style=\"font-weight: bold\">Change mount to @overload</span>\n",
       "</pre>\n"
      ],
      "text/plain": [
       "\u001b[32m22:28:53\u001b[0m | ℹ️ \u001b[1mChange mount to @overload\u001b[0m\n"
      ]
     },
     "metadata": {},
     "output_type": "display_data"
    },
    {
     "data": {
      "text/html": [
       "<pre style=\"white-space:pre;overflow-x:auto;line-height:normal;font-family:Menlo,'DejaVu Sans Mono',consolas,'Courier New',monospace\"><span style=\"color: #008000; text-decoration-color: #008000\">22:28:53</span> | ℹ️ <span style=\"font-weight: bold\">Change repl_uart to @overload</span>\n",
       "</pre>\n"
      ],
      "text/plain": [
       "\u001b[32m22:28:53\u001b[0m | ℹ️ \u001b[1mChange repl_uart to @overload\u001b[0m\n"
      ]
     },
     "metadata": {},
     "output_type": "display_data"
    },
    {
     "data": {
      "text/html": [
       "<pre style=\"white-space:pre;overflow-x:auto;line-height:normal;font-family:Menlo,'DejaVu Sans Mono',consolas,'Courier New',monospace\"><span style=\"color: #008000; text-decoration-color: #008000\">22:28:53</span> | ℹ️ <span style=\"font-weight: bold\">Change usb_mode to @overload</span>\n",
       "</pre>\n"
      ],
      "text/plain": [
       "\u001b[32m22:28:53\u001b[0m | ℹ️ \u001b[1mChange usb_mode to @overload\u001b[0m\n"
      ]
     },
     "metadata": {},
     "output_type": "display_data"
    },
    {
     "data": {
      "text/html": [
       "<pre style=\"white-space:pre;overflow-x:auto;line-height:normal;font-family:Menlo,'DejaVu Sans Mono',consolas,'Courier New',monospace\"><span style=\"color: #008000; text-decoration-color: #008000\">22:28:54</span> | ℹ️ <span style=\"font-weight: bold\">Merge scratch\\micropython-v1_23_0-docstubs\\pyb\\Accel.pyi from </span>\n",
       "<span style=\"font-weight: bold\">repos\\intellij-micropython\\typehints\\pyboard\\pyb.pyi</span>\n",
       "</pre>\n"
      ],
      "text/plain": [
       "\u001b[32m22:28:54\u001b[0m | ℹ️ \u001b[1mMerge scratch\\micropython-v1_23_0-docstubs\\pyb\\Accel.pyi from \u001b[0m\n",
       "\u001b[1mrepos\\intellij-micropython\\typehints\\pyboard\\pyb.pyi\u001b[0m\n"
      ]
     },
     "metadata": {},
     "output_type": "display_data"
    },
    {
     "data": {
      "text/html": [
       "<pre style=\"white-space:pre;overflow-x:auto;line-height:normal;font-family:Menlo,'DejaVu Sans Mono',consolas,'Courier New',monospace\"><span style=\"color: #008000; text-decoration-color: #008000\">22:28:55</span> | ℹ️ <span style=\"font-weight: bold\">Merge scratch\\micropython-v1_23_0-docstubs\\pyb\\ADC.pyi from </span>\n",
       "<span style=\"font-weight: bold\">repos\\intellij-micropython\\typehints\\pyboard\\pyb.pyi</span>\n",
       "</pre>\n"
      ],
      "text/plain": [
       "\u001b[32m22:28:55\u001b[0m | ℹ️ \u001b[1mMerge scratch\\micropython-v1_23_0-docstubs\\pyb\\ADC.pyi from \u001b[0m\n",
       "\u001b[1mrepos\\intellij-micropython\\typehints\\pyboard\\pyb.pyi\u001b[0m\n"
      ]
     },
     "metadata": {},
     "output_type": "display_data"
    },
    {
     "data": {
      "text/html": [
       "<pre style=\"white-space:pre;overflow-x:auto;line-height:normal;font-family:Menlo,'DejaVu Sans Mono',consolas,'Courier New',monospace\"><span style=\"color: #008000; text-decoration-color: #008000\">22:28:56</span> | ℹ️ <span style=\"font-weight: bold\">Merge scratch\\micropython-v1_23_0-docstubs\\pyb\\CAN.pyi from </span>\n",
       "<span style=\"font-weight: bold\">repos\\intellij-micropython\\typehints\\pyboard\\pyb.pyi</span>\n",
       "</pre>\n"
      ],
      "text/plain": [
       "\u001b[32m22:28:56\u001b[0m | ℹ️ \u001b[1mMerge scratch\\micropython-v1_23_0-docstubs\\pyb\\CAN.pyi from \u001b[0m\n",
       "\u001b[1mrepos\\intellij-micropython\\typehints\\pyboard\\pyb.pyi\u001b[0m\n"
      ]
     },
     "metadata": {},
     "output_type": "display_data"
    },
    {
     "data": {
      "text/html": [
       "<pre style=\"white-space:pre;overflow-x:auto;line-height:normal;font-family:Menlo,'DejaVu Sans Mono',consolas,'Courier New',monospace\"><span style=\"color: #008000; text-decoration-color: #008000\">22:28:59</span> | ℹ️ <span style=\"font-weight: bold\">Change info to @overload</span>\n",
       "</pre>\n"
      ],
      "text/plain": [
       "\u001b[32m22:28:59\u001b[0m | ℹ️ \u001b[1mChange info to @overload\u001b[0m\n"
      ]
     },
     "metadata": {},
     "output_type": "display_data"
    },
    {
     "data": {
      "text/html": [
       "<pre style=\"white-space:pre;overflow-x:auto;line-height:normal;font-family:Menlo,'DejaVu Sans Mono',consolas,'Courier New',monospace\"><span style=\"color: #008000; text-decoration-color: #008000\">22:28:59</span> | ℹ️ <span style=\"font-weight: bold\">Change setfilter to @overload</span>\n",
       "</pre>\n"
      ],
      "text/plain": [
       "\u001b[32m22:28:59\u001b[0m | ℹ️ \u001b[1mChange setfilter to @overload\u001b[0m\n"
      ]
     },
     "metadata": {},
     "output_type": "display_data"
    },
    {
     "data": {
      "text/html": [
       "<pre style=\"white-space:pre;overflow-x:auto;line-height:normal;font-family:Menlo,'DejaVu Sans Mono',consolas,'Courier New',monospace\"><span style=\"color: #008000; text-decoration-color: #008000\">22:28:59</span> | ℹ️ <span style=\"font-weight: bold\">Change recv to @overload</span>\n",
       "</pre>\n"
      ],
      "text/plain": [
       "\u001b[32m22:28:59\u001b[0m | ℹ️ \u001b[1mChange recv to @overload\u001b[0m\n"
      ]
     },
     "metadata": {},
     "output_type": "display_data"
    },
    {
     "data": {
      "text/html": [
       "<pre style=\"white-space:pre;overflow-x:auto;line-height:normal;font-family:Menlo,'DejaVu Sans Mono',consolas,'Courier New',monospace\"><span style=\"color: #008000; text-decoration-color: #008000\">22:28:59</span> | ℹ️ <span style=\"font-weight: bold\">Merge scratch\\micropython-v1_23_0-docstubs\\pyb\\DAC.pyi from </span>\n",
       "<span style=\"font-weight: bold\">repos\\intellij-micropython\\typehints\\pyboard\\pyb.pyi</span>\n",
       "</pre>\n"
      ],
      "text/plain": [
       "\u001b[32m22:28:59\u001b[0m | ℹ️ \u001b[1mMerge scratch\\micropython-v1_23_0-docstubs\\pyb\\DAC.pyi from \u001b[0m\n",
       "\u001b[1mrepos\\intellij-micropython\\typehints\\pyboard\\pyb.pyi\u001b[0m\n"
      ]
     },
     "metadata": {},
     "output_type": "display_data"
    },
    {
     "data": {
      "text/html": [
       "<pre style=\"white-space:pre;overflow-x:auto;line-height:normal;font-family:Menlo,'DejaVu Sans Mono',consolas,'Courier New',monospace\"><span style=\"color: #008000; text-decoration-color: #008000\">22:29:01</span> | ℹ️ <span style=\"font-weight: bold\">Merge scratch\\micropython-v1_23_0-docstubs\\pyb\\ExtInt.pyi from </span>\n",
       "<span style=\"font-weight: bold\">repos\\intellij-micropython\\typehints\\pyboard\\pyb.pyi</span>\n",
       "</pre>\n"
      ],
      "text/plain": [
       "\u001b[32m22:29:01\u001b[0m | ℹ️ \u001b[1mMerge scratch\\micropython-v1_23_0-docstubs\\pyb\\ExtInt.pyi from \u001b[0m\n",
       "\u001b[1mrepos\\intellij-micropython\\typehints\\pyboard\\pyb.pyi\u001b[0m\n"
      ]
     },
     "metadata": {},
     "output_type": "display_data"
    },
    {
     "data": {
      "text/html": [
       "<pre style=\"white-space:pre;overflow-x:auto;line-height:normal;font-family:Menlo,'DejaVu Sans Mono',consolas,'Courier New',monospace\"><span style=\"color: #008000; text-decoration-color: #008000\">22:29:03</span> | ℹ️ <span style=\"font-weight: bold\">Merge scratch\\micropython-v1_23_0-docstubs\\pyb\\Flash.pyi from </span>\n",
       "<span style=\"font-weight: bold\">repos\\intellij-micropython\\typehints\\pyboard\\pyb.pyi</span>\n",
       "</pre>\n"
      ],
      "text/plain": [
       "\u001b[32m22:29:03\u001b[0m | ℹ️ \u001b[1mMerge scratch\\micropython-v1_23_0-docstubs\\pyb\\Flash.pyi from \u001b[0m\n",
       "\u001b[1mrepos\\intellij-micropython\\typehints\\pyboard\\pyb.pyi\u001b[0m\n"
      ]
     },
     "metadata": {},
     "output_type": "display_data"
    },
    {
     "data": {
      "text/html": [
       "<pre style=\"white-space:pre;overflow-x:auto;line-height:normal;font-family:Menlo,'DejaVu Sans Mono',consolas,'Courier New',monospace\"><span style=\"color: #008000; text-decoration-color: #008000\">22:29:04</span> | ℹ️ <span style=\"font-weight: bold\">Change __init__ to @overload</span>\n",
       "</pre>\n"
      ],
      "text/plain": [
       "\u001b[32m22:29:04\u001b[0m | ℹ️ \u001b[1mChange __init__ to @overload\u001b[0m\n"
      ]
     },
     "metadata": {},
     "output_type": "display_data"
    },
    {
     "data": {
      "text/html": [
       "<pre style=\"white-space:pre;overflow-x:auto;line-height:normal;font-family:Menlo,'DejaVu Sans Mono',consolas,'Courier New',monospace\"><span style=\"color: #008000; text-decoration-color: #008000\">22:29:04</span> | ℹ️ <span style=\"font-weight: bold\">Merge scratch\\micropython-v1_23_0-docstubs\\pyb\\I2C.pyi from </span>\n",
       "<span style=\"font-weight: bold\">repos\\intellij-micropython\\typehints\\pyboard\\pyb.pyi</span>\n",
       "</pre>\n"
      ],
      "text/plain": [
       "\u001b[32m22:29:04\u001b[0m | ℹ️ \u001b[1mMerge scratch\\micropython-v1_23_0-docstubs\\pyb\\I2C.pyi from \u001b[0m\n",
       "\u001b[1mrepos\\intellij-micropython\\typehints\\pyboard\\pyb.pyi\u001b[0m\n"
      ]
     },
     "metadata": {},
     "output_type": "display_data"
    },
    {
     "data": {
      "text/html": [
       "<pre style=\"white-space:pre;overflow-x:auto;line-height:normal;font-family:Menlo,'DejaVu Sans Mono',consolas,'Courier New',monospace\"><span style=\"color: #008000; text-decoration-color: #008000\">22:29:06</span> | ℹ️ <span style=\"font-weight: bold\">Change mem_read to @overload</span>\n",
       "</pre>\n"
      ],
      "text/plain": [
       "\u001b[32m22:29:06\u001b[0m | ℹ️ \u001b[1mChange mem_read to @overload\u001b[0m\n"
      ]
     },
     "metadata": {},
     "output_type": "display_data"
    },
    {
     "data": {
      "text/html": [
       "<pre style=\"white-space:pre;overflow-x:auto;line-height:normal;font-family:Menlo,'DejaVu Sans Mono',consolas,'Courier New',monospace\"><span style=\"color: #008000; text-decoration-color: #008000\">22:29:06</span> | ℹ️ <span style=\"font-weight: bold\">Change recv to @overload</span>\n",
       "</pre>\n"
      ],
      "text/plain": [
       "\u001b[32m22:29:06\u001b[0m | ℹ️ \u001b[1mChange recv to @overload\u001b[0m\n"
      ]
     },
     "metadata": {},
     "output_type": "display_data"
    },
    {
     "data": {
      "text/html": [
       "<pre style=\"white-space:pre;overflow-x:auto;line-height:normal;font-family:Menlo,'DejaVu Sans Mono',consolas,'Courier New',monospace\"><span style=\"color: #008000; text-decoration-color: #008000\">22:29:06</span> | ℹ️ <span style=\"font-weight: bold\">Merge scratch\\micropython-v1_23_0-docstubs\\pyb\\LCD.pyi from </span>\n",
       "<span style=\"font-weight: bold\">repos\\intellij-micropython\\typehints\\pyboard\\pyb.pyi</span>\n",
       "</pre>\n"
      ],
      "text/plain": [
       "\u001b[32m22:29:06\u001b[0m | ℹ️ \u001b[1mMerge scratch\\micropython-v1_23_0-docstubs\\pyb\\LCD.pyi from \u001b[0m\n",
       "\u001b[1mrepos\\intellij-micropython\\typehints\\pyboard\\pyb.pyi\u001b[0m\n"
      ]
     },
     "metadata": {},
     "output_type": "display_data"
    },
    {
     "data": {
      "text/html": [
       "<pre style=\"white-space:pre;overflow-x:auto;line-height:normal;font-family:Menlo,'DejaVu Sans Mono',consolas,'Courier New',monospace\"><span style=\"color: #008000; text-decoration-color: #008000\">22:29:08</span> | ℹ️ <span style=\"font-weight: bold\">Merge scratch\\micropython-v1_23_0-docstubs\\pyb\\LED.pyi from </span>\n",
       "<span style=\"font-weight: bold\">repos\\intellij-micropython\\typehints\\pyboard\\pyb.pyi</span>\n",
       "</pre>\n"
      ],
      "text/plain": [
       "\u001b[32m22:29:08\u001b[0m | ℹ️ \u001b[1mMerge scratch\\micropython-v1_23_0-docstubs\\pyb\\LED.pyi from \u001b[0m\n",
       "\u001b[1mrepos\\intellij-micropython\\typehints\\pyboard\\pyb.pyi\u001b[0m\n"
      ]
     },
     "metadata": {},
     "output_type": "display_data"
    },
    {
     "data": {
      "text/html": [
       "<pre style=\"white-space:pre;overflow-x:auto;line-height:normal;font-family:Menlo,'DejaVu Sans Mono',consolas,'Courier New',monospace\"><span style=\"color: #008000; text-decoration-color: #008000\">22:29:09</span> | ℹ️ <span style=\"font-weight: bold\">Change intensity to @overload</span>\n",
       "</pre>\n"
      ],
      "text/plain": [
       "\u001b[32m22:29:09\u001b[0m | ℹ️ \u001b[1mChange intensity to @overload\u001b[0m\n"
      ]
     },
     "metadata": {},
     "output_type": "display_data"
    },
    {
     "data": {
      "text/html": [
       "<pre style=\"white-space:pre;overflow-x:auto;line-height:normal;font-family:Menlo,'DejaVu Sans Mono',consolas,'Courier New',monospace\"><span style=\"color: #008000; text-decoration-color: #008000\">22:29:09</span> | ℹ️ <span style=\"font-weight: bold\">Merge scratch\\micropython-v1_23_0-docstubs\\pyb\\Pin.pyi from </span>\n",
       "<span style=\"font-weight: bold\">repos\\intellij-micropython\\typehints\\pyboard\\pyb.pyi</span>\n",
       "</pre>\n"
      ],
      "text/plain": [
       "\u001b[32m22:29:09\u001b[0m | ℹ️ \u001b[1mMerge scratch\\micropython-v1_23_0-docstubs\\pyb\\Pin.pyi from \u001b[0m\n",
       "\u001b[1mrepos\\intellij-micropython\\typehints\\pyboard\\pyb.pyi\u001b[0m\n"
      ]
     },
     "metadata": {},
     "output_type": "display_data"
    },
    {
     "data": {
      "text/html": [
       "<pre style=\"white-space:pre;overflow-x:auto;line-height:normal;font-family:Menlo,'DejaVu Sans Mono',consolas,'Courier New',monospace\"><span style=\"color: #008000; text-decoration-color: #008000\">22:29:11</span> | ℹ️ <span style=\"font-weight: bold\">Change debug to @overload</span>\n",
       "</pre>\n"
      ],
      "text/plain": [
       "\u001b[32m22:29:11\u001b[0m | ℹ️ \u001b[1mChange debug to @overload\u001b[0m\n"
      ]
     },
     "metadata": {},
     "output_type": "display_data"
    },
    {
     "data": {
      "text/html": [
       "<pre style=\"white-space:pre;overflow-x:auto;line-height:normal;font-family:Menlo,'DejaVu Sans Mono',consolas,'Courier New',monospace\"><span style=\"color: #008000; text-decoration-color: #008000\">22:29:11</span> | ℹ️ <span style=\"font-weight: bold\">Change dict to @overload</span>\n",
       "</pre>\n"
      ],
      "text/plain": [
       "\u001b[32m22:29:11\u001b[0m | ℹ️ \u001b[1mChange dict to @overload\u001b[0m\n"
      ]
     },
     "metadata": {},
     "output_type": "display_data"
    },
    {
     "data": {
      "text/html": [
       "<pre style=\"white-space:pre;overflow-x:auto;line-height:normal;font-family:Menlo,'DejaVu Sans Mono',consolas,'Courier New',monospace\"><span style=\"color: #008000; text-decoration-color: #008000\">22:29:11</span> | ℹ️ <span style=\"font-weight: bold\">Change mapper to @overload</span>\n",
       "</pre>\n"
      ],
      "text/plain": [
       "\u001b[32m22:29:11\u001b[0m | ℹ️ \u001b[1mChange mapper to @overload\u001b[0m\n"
      ]
     },
     "metadata": {},
     "output_type": "display_data"
    },
    {
     "data": {
      "text/html": [
       "<pre style=\"white-space:pre;overflow-x:auto;line-height:normal;font-family:Menlo,'DejaVu Sans Mono',consolas,'Courier New',monospace\"><span style=\"color: #008000; text-decoration-color: #008000\">22:29:11</span> | ℹ️ <span style=\"font-weight: bold\">Change value to @overload</span>\n",
       "</pre>\n"
      ],
      "text/plain": [
       "\u001b[32m22:29:11\u001b[0m | ℹ️ \u001b[1mChange value to @overload\u001b[0m\n"
      ]
     },
     "metadata": {},
     "output_type": "display_data"
    },
    {
     "data": {
      "text/html": [
       "<pre style=\"white-space:pre;overflow-x:auto;line-height:normal;font-family:Menlo,'DejaVu Sans Mono',consolas,'Courier New',monospace\"><span style=\"color: #008000; text-decoration-color: #008000\">22:29:11</span> | ℹ️ <span style=\"font-weight: bold\">Merge scratch\\micropython-v1_23_0-docstubs\\pyb\\RTC.pyi from </span>\n",
       "<span style=\"font-weight: bold\">repos\\intellij-micropython\\typehints\\pyboard\\pyb.pyi</span>\n",
       "</pre>\n"
      ],
      "text/plain": [
       "\u001b[32m22:29:11\u001b[0m | ℹ️ \u001b[1mMerge scratch\\micropython-v1_23_0-docstubs\\pyb\\RTC.pyi from \u001b[0m\n",
       "\u001b[1mrepos\\intellij-micropython\\typehints\\pyboard\\pyb.pyi\u001b[0m\n"
      ]
     },
     "metadata": {},
     "output_type": "display_data"
    },
    {
     "data": {
      "text/html": [
       "<pre style=\"white-space:pre;overflow-x:auto;line-height:normal;font-family:Menlo,'DejaVu Sans Mono',consolas,'Courier New',monospace\"><span style=\"color: #008000; text-decoration-color: #008000\">22:29:12</span> | ℹ️ <span style=\"font-weight: bold\">Change calibration to @overload</span>\n",
       "</pre>\n"
      ],
      "text/plain": [
       "\u001b[32m22:29:12\u001b[0m | ℹ️ \u001b[1mChange calibration to @overload\u001b[0m\n"
      ]
     },
     "metadata": {},
     "output_type": "display_data"
    },
    {
     "data": {
      "text/html": [
       "<pre style=\"white-space:pre;overflow-x:auto;line-height:normal;font-family:Menlo,'DejaVu Sans Mono',consolas,'Courier New',monospace\"><span style=\"color: #008000; text-decoration-color: #008000\">22:29:12</span> | ℹ️ <span style=\"font-weight: bold\">Merge scratch\\micropython-v1_23_0-docstubs\\pyb\\Servo.pyi from </span>\n",
       "<span style=\"font-weight: bold\">repos\\intellij-micropython\\typehints\\pyboard\\pyb.pyi</span>\n",
       "</pre>\n"
      ],
      "text/plain": [
       "\u001b[32m22:29:12\u001b[0m | ℹ️ \u001b[1mMerge scratch\\micropython-v1_23_0-docstubs\\pyb\\Servo.pyi from \u001b[0m\n",
       "\u001b[1mrepos\\intellij-micropython\\typehints\\pyboard\\pyb.pyi\u001b[0m\n"
      ]
     },
     "metadata": {},
     "output_type": "display_data"
    },
    {
     "data": {
      "text/html": [
       "<pre style=\"white-space:pre;overflow-x:auto;line-height:normal;font-family:Menlo,'DejaVu Sans Mono',consolas,'Courier New',monospace\"><span style=\"color: #008000; text-decoration-color: #008000\">22:29:14</span> | ℹ️ <span style=\"font-weight: bold\">Change angle to @overload</span>\n",
       "</pre>\n"
      ],
      "text/plain": [
       "\u001b[32m22:29:14\u001b[0m | ℹ️ \u001b[1mChange angle to @overload\u001b[0m\n"
      ]
     },
     "metadata": {},
     "output_type": "display_data"
    },
    {
     "data": {
      "text/html": [
       "<pre style=\"white-space:pre;overflow-x:auto;line-height:normal;font-family:Menlo,'DejaVu Sans Mono',consolas,'Courier New',monospace\"><span style=\"color: #008000; text-decoration-color: #008000\">22:29:14</span> | ℹ️ <span style=\"font-weight: bold\">Change speed to @overload</span>\n",
       "</pre>\n"
      ],
      "text/plain": [
       "\u001b[32m22:29:14\u001b[0m | ℹ️ \u001b[1mChange speed to @overload\u001b[0m\n"
      ]
     },
     "metadata": {},
     "output_type": "display_data"
    },
    {
     "data": {
      "text/html": [
       "<pre style=\"white-space:pre;overflow-x:auto;line-height:normal;font-family:Menlo,'DejaVu Sans Mono',consolas,'Courier New',monospace\"><span style=\"color: #008000; text-decoration-color: #008000\">22:29:14</span> | ℹ️ <span style=\"font-weight: bold\">Change calibration to @overload</span>\n",
       "</pre>\n"
      ],
      "text/plain": [
       "\u001b[32m22:29:14\u001b[0m | ℹ️ \u001b[1mChange calibration to @overload\u001b[0m\n"
      ]
     },
     "metadata": {},
     "output_type": "display_data"
    },
    {
     "data": {
      "text/html": [
       "<pre style=\"white-space:pre;overflow-x:auto;line-height:normal;font-family:Menlo,'DejaVu Sans Mono',consolas,'Courier New',monospace\"><span style=\"color: #008000; text-decoration-color: #008000\">22:29:14</span> | ℹ️ <span style=\"font-weight: bold\">Merge scratch\\micropython-v1_23_0-docstubs\\pyb\\SPI.pyi from </span>\n",
       "<span style=\"font-weight: bold\">repos\\intellij-micropython\\typehints\\pyboard\\pyb.pyi</span>\n",
       "</pre>\n"
      ],
      "text/plain": [
       "\u001b[32m22:29:14\u001b[0m | ℹ️ \u001b[1mMerge scratch\\micropython-v1_23_0-docstubs\\pyb\\SPI.pyi from \u001b[0m\n",
       "\u001b[1mrepos\\intellij-micropython\\typehints\\pyboard\\pyb.pyi\u001b[0m\n"
      ]
     },
     "metadata": {},
     "output_type": "display_data"
    },
    {
     "data": {
      "text/html": [
       "<pre style=\"white-space:pre;overflow-x:auto;line-height:normal;font-family:Menlo,'DejaVu Sans Mono',consolas,'Courier New',monospace\"><span style=\"color: #008000; text-decoration-color: #008000\">22:29:16</span> | ℹ️ <span style=\"font-weight: bold\">Change __init__ to @overload</span>\n",
       "</pre>\n"
      ],
      "text/plain": [
       "\u001b[32m22:29:16\u001b[0m | ℹ️ \u001b[1mChange __init__ to @overload\u001b[0m\n"
      ]
     },
     "metadata": {},
     "output_type": "display_data"
    },
    {
     "data": {
      "text/html": [
       "<pre style=\"white-space:pre;overflow-x:auto;line-height:normal;font-family:Menlo,'DejaVu Sans Mono',consolas,'Courier New',monospace\"><span style=\"color: #008000; text-decoration-color: #008000\">22:29:16</span> | ℹ️ <span style=\"font-weight: bold\">Change init to @overload</span>\n",
       "</pre>\n"
      ],
      "text/plain": [
       "\u001b[32m22:29:16\u001b[0m | ℹ️ \u001b[1mChange init to @overload\u001b[0m\n"
      ]
     },
     "metadata": {},
     "output_type": "display_data"
    },
    {
     "data": {
      "text/html": [
       "<pre style=\"white-space:pre;overflow-x:auto;line-height:normal;font-family:Menlo,'DejaVu Sans Mono',consolas,'Courier New',monospace\"><span style=\"color: #008000; text-decoration-color: #008000\">22:29:16</span> | ℹ️ <span style=\"font-weight: bold\">Merge scratch\\micropython-v1_23_0-docstubs\\pyb\\Switch.pyi from </span>\n",
       "<span style=\"font-weight: bold\">repos\\intellij-micropython\\typehints\\pyboard\\pyb.pyi</span>\n",
       "</pre>\n"
      ],
      "text/plain": [
       "\u001b[32m22:29:16\u001b[0m | ℹ️ \u001b[1mMerge scratch\\micropython-v1_23_0-docstubs\\pyb\\Switch.pyi from \u001b[0m\n",
       "\u001b[1mrepos\\intellij-micropython\\typehints\\pyboard\\pyb.pyi\u001b[0m\n"
      ]
     },
     "metadata": {},
     "output_type": "display_data"
    },
    {
     "data": {
      "text/html": [
       "<pre style=\"white-space:pre;overflow-x:auto;line-height:normal;font-family:Menlo,'DejaVu Sans Mono',consolas,'Courier New',monospace\"><span style=\"color: #008000; text-decoration-color: #008000\">22:29:18</span> | ℹ️ <span style=\"font-weight: bold\">Merge scratch\\micropython-v1_23_0-docstubs\\pyb\\Timer.pyi from </span>\n",
       "<span style=\"font-weight: bold\">repos\\intellij-micropython\\typehints\\pyboard\\pyb.pyi</span>\n",
       "</pre>\n"
      ],
      "text/plain": [
       "\u001b[32m22:29:18\u001b[0m | ℹ️ \u001b[1mMerge scratch\\micropython-v1_23_0-docstubs\\pyb\\Timer.pyi from \u001b[0m\n",
       "\u001b[1mrepos\\intellij-micropython\\typehints\\pyboard\\pyb.pyi\u001b[0m\n"
      ]
     },
     "metadata": {},
     "output_type": "display_data"
    },
    {
     "data": {
      "text/html": [
       "<pre style=\"white-space:pre;overflow-x:auto;line-height:normal;font-family:Menlo,'DejaVu Sans Mono',consolas,'Courier New',monospace\"><span style=\"color: #008000; text-decoration-color: #008000\">22:29:19</span> | ℹ️ <span style=\"font-weight: bold\">Change __init__ to @overload</span>\n",
       "</pre>\n"
      ],
      "text/plain": [
       "\u001b[32m22:29:19\u001b[0m | ℹ️ \u001b[1mChange __init__ to @overload\u001b[0m\n"
      ]
     },
     "metadata": {},
     "output_type": "display_data"
    },
    {
     "data": {
      "text/html": [
       "<pre style=\"white-space:pre;overflow-x:auto;line-height:normal;font-family:Menlo,'DejaVu Sans Mono',consolas,'Courier New',monospace\"><span style=\"color: #008000; text-decoration-color: #008000\">22:29:19</span> | ℹ️ <span style=\"font-weight: bold\">Change init to @overload</span>\n",
       "</pre>\n"
      ],
      "text/plain": [
       "\u001b[32m22:29:19\u001b[0m | ℹ️ \u001b[1mChange init to @overload\u001b[0m\n"
      ]
     },
     "metadata": {},
     "output_type": "display_data"
    },
    {
     "data": {
      "text/html": [
       "<pre style=\"white-space:pre;overflow-x:auto;line-height:normal;font-family:Menlo,'DejaVu Sans Mono',consolas,'Courier New',monospace\"><span style=\"color: #008000; text-decoration-color: #008000\">22:29:19</span> | ℹ️ <span style=\"font-weight: bold\">Change channel to @overload</span>\n",
       "</pre>\n"
      ],
      "text/plain": [
       "\u001b[32m22:29:19\u001b[0m | ℹ️ \u001b[1mChange channel to @overload\u001b[0m\n"
      ]
     },
     "metadata": {},
     "output_type": "display_data"
    },
    {
     "data": {
      "text/html": [
       "<pre style=\"white-space:pre;overflow-x:auto;line-height:normal;font-family:Menlo,'DejaVu Sans Mono',consolas,'Courier New',monospace\"><span style=\"color: #008000; text-decoration-color: #008000\">22:29:19</span> | ℹ️ <span style=\"font-weight: bold\">Change counter to @overload</span>\n",
       "</pre>\n"
      ],
      "text/plain": [
       "\u001b[32m22:29:19\u001b[0m | ℹ️ \u001b[1mChange counter to @overload\u001b[0m\n"
      ]
     },
     "metadata": {},
     "output_type": "display_data"
    },
    {
     "data": {
      "text/html": [
       "<pre style=\"white-space:pre;overflow-x:auto;line-height:normal;font-family:Menlo,'DejaVu Sans Mono',consolas,'Courier New',monospace\"><span style=\"color: #008000; text-decoration-color: #008000\">22:29:19</span> | ℹ️ <span style=\"font-weight: bold\">Change freq to @overload</span>\n",
       "</pre>\n"
      ],
      "text/plain": [
       "\u001b[32m22:29:19\u001b[0m | ℹ️ \u001b[1mChange freq to @overload\u001b[0m\n"
      ]
     },
     "metadata": {},
     "output_type": "display_data"
    },
    {
     "data": {
      "text/html": [
       "<pre style=\"white-space:pre;overflow-x:auto;line-height:normal;font-family:Menlo,'DejaVu Sans Mono',consolas,'Courier New',monospace\"><span style=\"color: #008000; text-decoration-color: #008000\">22:29:19</span> | ℹ️ <span style=\"font-weight: bold\">Change period to @overload</span>\n",
       "</pre>\n"
      ],
      "text/plain": [
       "\u001b[32m22:29:19\u001b[0m | ℹ️ \u001b[1mChange period to @overload\u001b[0m\n"
      ]
     },
     "metadata": {},
     "output_type": "display_data"
    },
    {
     "data": {
      "text/html": [
       "<pre style=\"white-space:pre;overflow-x:auto;line-height:normal;font-family:Menlo,'DejaVu Sans Mono',consolas,'Courier New',monospace\"><span style=\"color: #008000; text-decoration-color: #008000\">22:29:19</span> | ℹ️ <span style=\"font-weight: bold\">Change prescaler to @overload</span>\n",
       "</pre>\n"
      ],
      "text/plain": [
       "\u001b[32m22:29:19\u001b[0m | ℹ️ \u001b[1mChange prescaler to @overload\u001b[0m\n"
      ]
     },
     "metadata": {},
     "output_type": "display_data"
    },
    {
     "data": {
      "text/html": [
       "<pre style=\"white-space:pre;overflow-x:auto;line-height:normal;font-family:Menlo,'DejaVu Sans Mono',consolas,'Courier New',monospace\"><span style=\"color: #008000; text-decoration-color: #008000\">22:29:20</span> | ℹ️ <span style=\"font-weight: bold\">Merge scratch\\micropython-v1_23_0-docstubs\\pyb\\UART.pyi from </span>\n",
       "<span style=\"font-weight: bold\">repos\\intellij-micropython\\typehints\\pyboard\\pyb.pyi</span>\n",
       "</pre>\n"
      ],
      "text/plain": [
       "\u001b[32m22:29:20\u001b[0m | ℹ️ \u001b[1mMerge scratch\\micropython-v1_23_0-docstubs\\pyb\\UART.pyi from \u001b[0m\n",
       "\u001b[1mrepos\\intellij-micropython\\typehints\\pyboard\\pyb.pyi\u001b[0m\n"
      ]
     },
     "metadata": {},
     "output_type": "display_data"
    },
    {
     "data": {
      "text/html": [
       "<pre style=\"white-space:pre;overflow-x:auto;line-height:normal;font-family:Menlo,'DejaVu Sans Mono',consolas,'Courier New',monospace\"><span style=\"color: #008000; text-decoration-color: #008000\">22:29:21</span> | ℹ️ <span style=\"font-weight: bold\">Change __init__ to @overload</span>\n",
       "</pre>\n"
      ],
      "text/plain": [
       "\u001b[32m22:29:21\u001b[0m | ℹ️ \u001b[1mChange __init__ to @overload\u001b[0m\n"
      ]
     },
     "metadata": {},
     "output_type": "display_data"
    },
    {
     "data": {
      "text/html": [
       "<pre style=\"white-space:pre;overflow-x:auto;line-height:normal;font-family:Menlo,'DejaVu Sans Mono',consolas,'Courier New',monospace\"><span style=\"color: #008000; text-decoration-color: #008000\">22:29:21</span> | ℹ️ <span style=\"font-weight: bold\">Change read to @overload</span>\n",
       "</pre>\n"
      ],
      "text/plain": [
       "\u001b[32m22:29:21\u001b[0m | ℹ️ \u001b[1mChange read to @overload\u001b[0m\n"
      ]
     },
     "metadata": {},
     "output_type": "display_data"
    },
    {
     "data": {
      "text/html": [
       "<pre style=\"white-space:pre;overflow-x:auto;line-height:normal;font-family:Menlo,'DejaVu Sans Mono',consolas,'Courier New',monospace\"><span style=\"color: #008000; text-decoration-color: #008000\">22:29:21</span> | ℹ️ <span style=\"font-weight: bold\">Change readinto to @overload</span>\n",
       "</pre>\n"
      ],
      "text/plain": [
       "\u001b[32m22:29:21\u001b[0m | ℹ️ \u001b[1mChange readinto to @overload\u001b[0m\n"
      ]
     },
     "metadata": {},
     "output_type": "display_data"
    },
    {
     "data": {
      "text/html": [
       "<pre style=\"white-space:pre;overflow-x:auto;line-height:normal;font-family:Menlo,'DejaVu Sans Mono',consolas,'Courier New',monospace\"><span style=\"color: #008000; text-decoration-color: #008000\">22:29:21</span> | ℹ️ <span style=\"font-weight: bold\">Merge scratch\\micropython-v1_23_0-docstubs\\pyb\\USB_HID.pyi from </span>\n",
       "<span style=\"font-weight: bold\">repos\\intellij-micropython\\typehints\\pyboard\\pyb.pyi</span>\n",
       "</pre>\n"
      ],
      "text/plain": [
       "\u001b[32m22:29:21\u001b[0m | ℹ️ \u001b[1mMerge scratch\\micropython-v1_23_0-docstubs\\pyb\\USB_HID.pyi from \u001b[0m\n",
       "\u001b[1mrepos\\intellij-micropython\\typehints\\pyboard\\pyb.pyi\u001b[0m\n"
      ]
     },
     "metadata": {},
     "output_type": "display_data"
    },
    {
     "data": {
      "text/html": [
       "<pre style=\"white-space:pre;overflow-x:auto;line-height:normal;font-family:Menlo,'DejaVu Sans Mono',consolas,'Courier New',monospace\"><span style=\"color: #008000; text-decoration-color: #008000\">22:29:23</span> | ℹ️ <span style=\"font-weight: bold\">Change recv to @overload</span>\n",
       "</pre>\n"
      ],
      "text/plain": [
       "\u001b[32m22:29:23\u001b[0m | ℹ️ \u001b[1mChange recv to @overload\u001b[0m\n"
      ]
     },
     "metadata": {},
     "output_type": "display_data"
    },
    {
     "data": {
      "text/html": [
       "<pre style=\"white-space:pre;overflow-x:auto;line-height:normal;font-family:Menlo,'DejaVu Sans Mono',consolas,'Courier New',monospace\"><span style=\"color: #008000; text-decoration-color: #008000\">22:29:23</span> | ℹ️ <span style=\"font-weight: bold\">Merge scratch\\micropython-v1_23_0-docstubs\\pyb\\USB_VCP.pyi from </span>\n",
       "<span style=\"font-weight: bold\">repos\\intellij-micropython\\typehints\\pyboard\\pyb.pyi</span>\n",
       "</pre>\n"
      ],
      "text/plain": [
       "\u001b[32m22:29:23\u001b[0m | ℹ️ \u001b[1mMerge scratch\\micropython-v1_23_0-docstubs\\pyb\\USB_VCP.pyi from \u001b[0m\n",
       "\u001b[1mrepos\\intellij-micropython\\typehints\\pyboard\\pyb.pyi\u001b[0m\n"
      ]
     },
     "metadata": {},
     "output_type": "display_data"
    },
    {
     "data": {
      "text/html": [
       "<pre style=\"white-space:pre;overflow-x:auto;line-height:normal;font-family:Menlo,'DejaVu Sans Mono',consolas,'Courier New',monospace\"><span style=\"color: #008000; text-decoration-color: #008000\">22:29:25</span> | ℹ️ <span style=\"font-weight: bold\">Change read to @overload</span>\n",
       "</pre>\n"
      ],
      "text/plain": [
       "\u001b[32m22:29:25\u001b[0m | ℹ️ \u001b[1mChange read to @overload\u001b[0m\n"
      ]
     },
     "metadata": {},
     "output_type": "display_data"
    },
    {
     "data": {
      "text/html": [
       "<pre style=\"white-space:pre;overflow-x:auto;line-height:normal;font-family:Menlo,'DejaVu Sans Mono',consolas,'Courier New',monospace\"><span style=\"color: #008000; text-decoration-color: #008000\">22:29:25</span> | ℹ️ <span style=\"font-weight: bold\">Change readinto to @overload</span>\n",
       "</pre>\n"
      ],
      "text/plain": [
       "\u001b[32m22:29:25\u001b[0m | ℹ️ \u001b[1mChange readinto to @overload\u001b[0m\n"
      ]
     },
     "metadata": {},
     "output_type": "display_data"
    },
    {
     "data": {
      "text/html": [
       "<pre style=\"white-space:pre;overflow-x:auto;line-height:normal;font-family:Menlo,'DejaVu Sans Mono',consolas,'Courier New',monospace\"><span style=\"color: #008000; text-decoration-color: #008000\">22:29:25</span> | ℹ️ <span style=\"font-weight: bold\">Change recv to @overload</span>\n",
       "</pre>\n"
      ],
      "text/plain": [
       "\u001b[32m22:29:25\u001b[0m | ℹ️ \u001b[1mChange recv to @overload\u001b[0m\n"
      ]
     },
     "metadata": {},
     "output_type": "display_data"
    },
    {
     "data": {
      "text/html": [
       "<pre style=\"white-space:pre;overflow-x:auto;line-height:normal;font-family:Menlo,'DejaVu Sans Mono',consolas,'Courier New',monospace\"><span style=\"color: #008000; text-decoration-color: #008000\">22:29:25</span> | ℹ️ <span style=\"font-weight: bold\">Merge scratch\\micropython-v1_23_0-docstubs\\rp2\\__init__.pyi from </span>\n",
       "<span style=\"font-weight: bold\">repos\\intellij-micropython\\typehints\\rpi_pico\\rp2.pyi</span>\n",
       "</pre>\n"
      ],
      "text/plain": [
       "\u001b[32m22:29:25\u001b[0m | ℹ️ \u001b[1mMerge scratch\\micropython-v1_23_0-docstubs\\rp2\\__init__.pyi from \u001b[0m\n",
       "\u001b[1mrepos\\intellij-micropython\\typehints\\rpi_pico\\rp2.pyi\u001b[0m\n"
      ]
     },
     "metadata": {},
     "output_type": "display_data"
    },
    {
     "data": {
      "text/html": [
       "<pre style=\"white-space:pre;overflow-x:auto;line-height:normal;font-family:Menlo,'DejaVu Sans Mono',consolas,'Courier New',monospace\"><span style=\"color: #008000; text-decoration-color: #008000\">22:29:25</span> | ℹ️ <span style=\"font-weight: bold\">Merge scratch\\micropython-v1_23_0-docstubs\\rp2\\DMA.pyi from </span>\n",
       "<span style=\"font-weight: bold\">repos\\intellij-micropython\\typehints\\rpi_pico\\rp2.pyi</span>\n",
       "</pre>\n"
      ],
      "text/plain": [
       "\u001b[32m22:29:25\u001b[0m | ℹ️ \u001b[1mMerge scratch\\micropython-v1_23_0-docstubs\\rp2\\DMA.pyi from \u001b[0m\n",
       "\u001b[1mrepos\\intellij-micropython\\typehints\\rpi_pico\\rp2.pyi\u001b[0m\n"
      ]
     },
     "metadata": {},
     "output_type": "display_data"
    },
    {
     "data": {
      "text/html": [
       "<pre style=\"white-space:pre;overflow-x:auto;line-height:normal;font-family:Menlo,'DejaVu Sans Mono',consolas,'Courier New',monospace\"><span style=\"color: #008000; text-decoration-color: #008000\">22:29:25</span> | ℹ️ <span style=\"font-weight: bold\">Merge scratch\\micropython-v1_23_0-docstubs\\rp2\\Flash.pyi from </span>\n",
       "<span style=\"font-weight: bold\">repos\\intellij-micropython\\typehints\\rpi_pico\\rp2.pyi</span>\n",
       "</pre>\n"
      ],
      "text/plain": [
       "\u001b[32m22:29:25\u001b[0m | ℹ️ \u001b[1mMerge scratch\\micropython-v1_23_0-docstubs\\rp2\\Flash.pyi from \u001b[0m\n",
       "\u001b[1mrepos\\intellij-micropython\\typehints\\rpi_pico\\rp2.pyi\u001b[0m\n"
      ]
     },
     "metadata": {},
     "output_type": "display_data"
    },
    {
     "data": {
      "text/html": [
       "<pre style=\"white-space:pre;overflow-x:auto;line-height:normal;font-family:Menlo,'DejaVu Sans Mono',consolas,'Courier New',monospace\"><span style=\"color: #008000; text-decoration-color: #008000\">22:29:25</span> | ℹ️ <span style=\"font-weight: bold\">Merge scratch\\micropython-v1_23_0-docstubs\\rp2\\PIO.pyi from </span>\n",
       "<span style=\"font-weight: bold\">repos\\intellij-micropython\\typehints\\rpi_pico\\rp2.pyi</span>\n",
       "</pre>\n"
      ],
      "text/plain": [
       "\u001b[32m22:29:25\u001b[0m | ℹ️ \u001b[1mMerge scratch\\micropython-v1_23_0-docstubs\\rp2\\PIO.pyi from \u001b[0m\n",
       "\u001b[1mrepos\\intellij-micropython\\typehints\\rpi_pico\\rp2.pyi\u001b[0m\n"
      ]
     },
     "metadata": {},
     "output_type": "display_data"
    },
    {
     "data": {
      "text/html": [
       "<pre style=\"white-space:pre;overflow-x:auto;line-height:normal;font-family:Menlo,'DejaVu Sans Mono',consolas,'Courier New',monospace\"><span style=\"color: #008000; text-decoration-color: #008000\">22:29:26</span> | ℹ️ <span style=\"font-weight: bold\">Merge scratch\\micropython-v1_23_0-docstubs\\rp2\\StateMachine.pyi from </span>\n",
       "<span style=\"font-weight: bold\">repos\\intellij-micropython\\typehints\\rpi_pico\\rp2.pyi</span>\n",
       "</pre>\n"
      ],
      "text/plain": [
       "\u001b[32m22:29:26\u001b[0m | ℹ️ \u001b[1mMerge scratch\\micropython-v1_23_0-docstubs\\rp2\\StateMachine.pyi from \u001b[0m\n",
       "\u001b[1mrepos\\intellij-micropython\\typehints\\rpi_pico\\rp2.pyi\u001b[0m\n"
      ]
     },
     "metadata": {},
     "output_type": "display_data"
    },
    {
     "data": {
      "text/html": [
       "<pre style=\"white-space:pre;overflow-x:auto;line-height:normal;font-family:Menlo,'DejaVu Sans Mono',consolas,'Courier New',monospace\"><span style=\"color: #008000; text-decoration-color: #008000\">22:29:26</span> | ℹ️ <span style=\"font-weight: bold\">Merge scratch\\micropython-v1_23_0-docstubs\\select\\__init__.pyi from </span>\n",
       "<span style=\"font-weight: bold\">repos\\intellij-micropython\\typehints\\stdlib\\select.pyi</span>\n",
       "</pre>\n"
      ],
      "text/plain": [
       "\u001b[32m22:29:26\u001b[0m | ℹ️ \u001b[1mMerge scratch\\micropython-v1_23_0-docstubs\\select\\__init__.pyi from \u001b[0m\n",
       "\u001b[1mrepos\\intellij-micropython\\typehints\\stdlib\\select.pyi\u001b[0m\n"
      ]
     },
     "metadata": {},
     "output_type": "display_data"
    },
    {
     "data": {
      "text/html": [
       "<pre style=\"white-space:pre;overflow-x:auto;line-height:normal;font-family:Menlo,'DejaVu Sans Mono',consolas,'Courier New',monospace\"><span style=\"color: #008000; text-decoration-color: #008000\">22:29:26</span> | ℹ️ <span style=\"font-weight: bold\">Merge scratch\\micropython-v1_23_0-docstubs\\select\\__init__.pyi from </span>\n",
       "<span style=\"font-weight: bold\">repos\\intellij-micropython\\typehints\\stdlib\\uselect.pyi</span>\n",
       "</pre>\n"
      ],
      "text/plain": [
       "\u001b[32m22:29:26\u001b[0m | ℹ️ \u001b[1mMerge scratch\\micropython-v1_23_0-docstubs\\select\\__init__.pyi from \u001b[0m\n",
       "\u001b[1mrepos\\intellij-micropython\\typehints\\stdlib\\uselect.pyi\u001b[0m\n"
      ]
     },
     "metadata": {},
     "output_type": "display_data"
    },
    {
     "data": {
      "text/html": [
       "<pre style=\"white-space:pre;overflow-x:auto;line-height:normal;font-family:Menlo,'DejaVu Sans Mono',consolas,'Courier New',monospace\"><span style=\"color: #008000; text-decoration-color: #008000\">22:29:27</span> | ℹ️ <span style=\"font-weight: bold\">Merge scratch\\micropython-v1_23_0-docstubs\\socket\\__init__.pyi from </span>\n",
       "<span style=\"font-weight: bold\">repos\\intellij-micropython\\typehints\\stdlib\\socket.pyi</span>\n",
       "</pre>\n"
      ],
      "text/plain": [
       "\u001b[32m22:29:27\u001b[0m | ℹ️ \u001b[1mMerge scratch\\micropython-v1_23_0-docstubs\\socket\\__init__.pyi from \u001b[0m\n",
       "\u001b[1mrepos\\intellij-micropython\\typehints\\stdlib\\socket.pyi\u001b[0m\n"
      ]
     },
     "metadata": {},
     "output_type": "display_data"
    },
    {
     "data": {
      "text/html": [
       "<pre style=\"white-space:pre;overflow-x:auto;line-height:normal;font-family:Menlo,'DejaVu Sans Mono',consolas,'Courier New',monospace\"><span style=\"color: #008000; text-decoration-color: #008000\">22:29:27</span> | ℹ️ <span style=\"font-weight: bold\">Merge scratch\\micropython-v1_23_0-docstubs\\socket\\__init__.pyi from </span>\n",
       "<span style=\"font-weight: bold\">repos\\intellij-micropython\\typehints\\stdlib\\usocket.pyi</span>\n",
       "</pre>\n"
      ],
      "text/plain": [
       "\u001b[32m22:29:27\u001b[0m | ℹ️ \u001b[1mMerge scratch\\micropython-v1_23_0-docstubs\\socket\\__init__.pyi from \u001b[0m\n",
       "\u001b[1mrepos\\intellij-micropython\\typehints\\stdlib\\usocket.pyi\u001b[0m\n"
      ]
     },
     "metadata": {},
     "output_type": "display_data"
    },
    {
     "data": {
      "text/html": [
       "<pre style=\"white-space:pre;overflow-x:auto;line-height:normal;font-family:Menlo,'DejaVu Sans Mono',consolas,'Courier New',monospace\"><span style=\"color: #008000; text-decoration-color: #008000\">22:29:27</span> | ℹ️ <span style=\"font-weight: bold\">Merge scratch\\micropython-v1_23_0-docstubs\\ssl\\__init__.pyi from </span>\n",
       "<span style=\"font-weight: bold\">repos\\intellij-micropython\\typehints\\stdlib\\ssl.pyi</span>\n",
       "</pre>\n"
      ],
      "text/plain": [
       "\u001b[32m22:29:27\u001b[0m | ℹ️ \u001b[1mMerge scratch\\micropython-v1_23_0-docstubs\\ssl\\__init__.pyi from \u001b[0m\n",
       "\u001b[1mrepos\\intellij-micropython\\typehints\\stdlib\\ssl.pyi\u001b[0m\n"
      ]
     },
     "metadata": {},
     "output_type": "display_data"
    },
    {
     "data": {
      "text/html": [
       "<pre style=\"white-space:pre;overflow-x:auto;line-height:normal;font-family:Menlo,'DejaVu Sans Mono',consolas,'Courier New',monospace\"><span style=\"color: #008000; text-decoration-color: #008000\">22:29:28</span> | ℹ️ <span style=\"font-weight: bold\">Merge scratch\\micropython-v1_23_0-docstubs\\ssl\\__init__.pyi from </span>\n",
       "<span style=\"font-weight: bold\">repos\\intellij-micropython\\typehints\\stdlib\\ussl.pyi</span>\n",
       "</pre>\n"
      ],
      "text/plain": [
       "\u001b[32m22:29:28\u001b[0m | ℹ️ \u001b[1mMerge scratch\\micropython-v1_23_0-docstubs\\ssl\\__init__.pyi from \u001b[0m\n",
       "\u001b[1mrepos\\intellij-micropython\\typehints\\stdlib\\ussl.pyi\u001b[0m\n"
      ]
     },
     "metadata": {},
     "output_type": "display_data"
    },
    {
     "data": {
      "text/html": [
       "<pre style=\"white-space:pre;overflow-x:auto;line-height:normal;font-family:Menlo,'DejaVu Sans Mono',consolas,'Courier New',monospace\"><span style=\"color: #008000; text-decoration-color: #008000\">22:29:28</span> | ℹ️ <span style=\"font-weight: bold\">Merge scratch\\micropython-v1_23_0-docstubs\\stm\\__init__.pyi from </span>\n",
       "<span style=\"font-weight: bold\">repos\\intellij-micropython\\typehints\\pyboard\\stm.pyi</span>\n",
       "</pre>\n"
      ],
      "text/plain": [
       "\u001b[32m22:29:28\u001b[0m | ℹ️ \u001b[1mMerge scratch\\micropython-v1_23_0-docstubs\\stm\\__init__.pyi from \u001b[0m\n",
       "\u001b[1mrepos\\intellij-micropython\\typehints\\pyboard\\stm.pyi\u001b[0m\n"
      ]
     },
     "metadata": {},
     "output_type": "display_data"
    },
    {
     "data": {
      "text/html": [
       "<pre style=\"white-space:pre;overflow-x:auto;line-height:normal;font-family:Menlo,'DejaVu Sans Mono',consolas,'Courier New',monospace\"><span style=\"color: #008000; text-decoration-color: #008000\">22:29:28</span> | ℹ️ <span style=\"font-weight: bold\">Merge scratch\\micropython-v1_23_0-docstubs\\struct\\__init__.pyi from </span>\n",
       "<span style=\"font-weight: bold\">repos\\intellij-micropython\\typehints\\stdlib\\struct.pyi</span>\n",
       "</pre>\n"
      ],
      "text/plain": [
       "\u001b[32m22:29:28\u001b[0m | ℹ️ \u001b[1mMerge scratch\\micropython-v1_23_0-docstubs\\struct\\__init__.pyi from \u001b[0m\n",
       "\u001b[1mrepos\\intellij-micropython\\typehints\\stdlib\\struct.pyi\u001b[0m\n"
      ]
     },
     "metadata": {},
     "output_type": "display_data"
    },
    {
     "data": {
      "text/html": [
       "<pre style=\"white-space:pre;overflow-x:auto;line-height:normal;font-family:Menlo,'DejaVu Sans Mono',consolas,'Courier New',monospace\"><span style=\"color: #008000; text-decoration-color: #008000\">22:29:28</span> | ℹ️ <span style=\"font-weight: bold\">Merge scratch\\micropython-v1_23_0-docstubs\\struct\\__init__.pyi from </span>\n",
       "<span style=\"font-weight: bold\">repos\\intellij-micropython\\typehints\\stdlib\\ustruct.pyi</span>\n",
       "</pre>\n"
      ],
      "text/plain": [
       "\u001b[32m22:29:28\u001b[0m | ℹ️ \u001b[1mMerge scratch\\micropython-v1_23_0-docstubs\\struct\\__init__.pyi from \u001b[0m\n",
       "\u001b[1mrepos\\intellij-micropython\\typehints\\stdlib\\ustruct.pyi\u001b[0m\n"
      ]
     },
     "metadata": {},
     "output_type": "display_data"
    },
    {
     "data": {
      "text/html": [
       "<pre style=\"white-space:pre;overflow-x:auto;line-height:normal;font-family:Menlo,'DejaVu Sans Mono',consolas,'Courier New',monospace\"><span style=\"color: #008000; text-decoration-color: #008000\">22:29:28</span> | ℹ️ <span style=\"font-weight: bold\">Merge scratch\\micropython-v1_23_0-docstubs\\sys\\__init__.pyi from </span>\n",
       "<span style=\"font-weight: bold\">repos\\intellij-micropython\\typehints\\stdlib\\sys.pyi</span>\n",
       "</pre>\n"
      ],
      "text/plain": [
       "\u001b[32m22:29:28\u001b[0m | ℹ️ \u001b[1mMerge scratch\\micropython-v1_23_0-docstubs\\sys\\__init__.pyi from \u001b[0m\n",
       "\u001b[1mrepos\\intellij-micropython\\typehints\\stdlib\\sys.pyi\u001b[0m\n"
      ]
     },
     "metadata": {},
     "output_type": "display_data"
    },
    {
     "data": {
      "text/html": [
       "<pre style=\"white-space:pre;overflow-x:auto;line-height:normal;font-family:Menlo,'DejaVu Sans Mono',consolas,'Courier New',monospace\"><span style=\"color: #008000; text-decoration-color: #008000\">22:29:29</span> | ℹ️ <span style=\"font-weight: bold\">Merge scratch\\micropython-v1_23_0-docstubs\\sys\\__init__.pyi from </span>\n",
       "<span style=\"font-weight: bold\">repos\\intellij-micropython\\typehints\\stdlib\\usys.pyi</span>\n",
       "</pre>\n"
      ],
      "text/plain": [
       "\u001b[32m22:29:29\u001b[0m | ℹ️ \u001b[1mMerge scratch\\micropython-v1_23_0-docstubs\\sys\\__init__.pyi from \u001b[0m\n",
       "\u001b[1mrepos\\intellij-micropython\\typehints\\stdlib\\usys.pyi\u001b[0m\n"
      ]
     },
     "metadata": {},
     "output_type": "display_data"
    },
    {
     "data": {
      "text/html": [
       "<pre style=\"white-space:pre;overflow-x:auto;line-height:normal;font-family:Menlo,'DejaVu Sans Mono',consolas,'Courier New',monospace\"><span style=\"color: #008000; text-decoration-color: #008000\">22:29:29</span> | ℹ️ <span style=\"font-weight: bold\">Merge scratch\\micropython-v1_23_0-docstubs\\time\\__init__.pyi from </span>\n",
       "<span style=\"font-weight: bold\">repos\\intellij-micropython\\typehints\\stdlib\\time.pyi</span>\n",
       "</pre>\n"
      ],
      "text/plain": [
       "\u001b[32m22:29:29\u001b[0m | ℹ️ \u001b[1mMerge scratch\\micropython-v1_23_0-docstubs\\time\\__init__.pyi from \u001b[0m\n",
       "\u001b[1mrepos\\intellij-micropython\\typehints\\stdlib\\time.pyi\u001b[0m\n"
      ]
     },
     "metadata": {},
     "output_type": "display_data"
    },
    {
     "data": {
      "text/html": [
       "<pre style=\"white-space:pre;overflow-x:auto;line-height:normal;font-family:Menlo,'DejaVu Sans Mono',consolas,'Courier New',monospace\"><span style=\"color: #008000; text-decoration-color: #008000\">22:29:29</span> | ℹ️ <span style=\"font-weight: bold\">Merge scratch\\micropython-v1_23_0-docstubs\\time\\__init__.pyi from </span>\n",
       "<span style=\"font-weight: bold\">repos\\intellij-micropython\\typehints\\stdlib\\utime.pyi</span>\n",
       "</pre>\n"
      ],
      "text/plain": [
       "\u001b[32m22:29:29\u001b[0m | ℹ️ \u001b[1mMerge scratch\\micropython-v1_23_0-docstubs\\time\\__init__.pyi from \u001b[0m\n",
       "\u001b[1mrepos\\intellij-micropython\\typehints\\stdlib\\utime.pyi\u001b[0m\n"
      ]
     },
     "metadata": {},
     "output_type": "display_data"
    },
    {
     "data": {
      "text/html": [
       "<pre style=\"white-space:pre;overflow-x:auto;line-height:normal;font-family:Menlo,'DejaVu Sans Mono',consolas,'Courier New',monospace\"><span style=\"color: #008000; text-decoration-color: #008000\">22:29:29</span> | ℹ️ <span style=\"font-weight: bold\">Merge scratch\\micropython-v1_23_0-docstubs\\uarray.pyi from </span>\n",
       "<span style=\"font-weight: bold\">repos\\intellij-micropython\\typehints\\stdlib\\array.pyi</span>\n",
       "</pre>\n"
      ],
      "text/plain": [
       "\u001b[32m22:29:29\u001b[0m | ℹ️ \u001b[1mMerge scratch\\micropython-v1_23_0-docstubs\\uarray.pyi from \u001b[0m\n",
       "\u001b[1mrepos\\intellij-micropython\\typehints\\stdlib\\array.pyi\u001b[0m\n"
      ]
     },
     "metadata": {},
     "output_type": "display_data"
    },
    {
     "data": {
      "text/html": [
       "<pre style=\"white-space:pre;overflow-x:auto;line-height:normal;font-family:Menlo,'DejaVu Sans Mono',consolas,'Courier New',monospace\"><span style=\"color: #008000; text-decoration-color: #008000\">22:29:30</span> | ℹ️ <span style=\"font-weight: bold\">Merge scratch\\micropython-v1_23_0-docstubs\\uarray.pyi from </span>\n",
       "<span style=\"font-weight: bold\">repos\\intellij-micropython\\typehints\\stdlib\\uarray.pyi</span>\n",
       "</pre>\n"
      ],
      "text/plain": [
       "\u001b[32m22:29:30\u001b[0m | ℹ️ \u001b[1mMerge scratch\\micropython-v1_23_0-docstubs\\uarray.pyi from \u001b[0m\n",
       "\u001b[1mrepos\\intellij-micropython\\typehints\\stdlib\\uarray.pyi\u001b[0m\n"
      ]
     },
     "metadata": {},
     "output_type": "display_data"
    },
    {
     "data": {
      "text/html": [
       "<pre style=\"white-space:pre;overflow-x:auto;line-height:normal;font-family:Menlo,'DejaVu Sans Mono',consolas,'Courier New',monospace\"><span style=\"color: #008000; text-decoration-color: #008000\">22:29:30</span> | ℹ️ <span style=\"font-weight: bold\">Merge scratch\\micropython-v1_23_0-docstubs\\ubinascii.pyi from </span>\n",
       "<span style=\"font-weight: bold\">repos\\intellij-micropython\\typehints\\stdlib\\binascii.pyi</span>\n",
       "</pre>\n"
      ],
      "text/plain": [
       "\u001b[32m22:29:30\u001b[0m | ℹ️ \u001b[1mMerge scratch\\micropython-v1_23_0-docstubs\\ubinascii.pyi from \u001b[0m\n",
       "\u001b[1mrepos\\intellij-micropython\\typehints\\stdlib\\binascii.pyi\u001b[0m\n"
      ]
     },
     "metadata": {},
     "output_type": "display_data"
    },
    {
     "data": {
      "text/html": [
       "<pre style=\"white-space:pre;overflow-x:auto;line-height:normal;font-family:Menlo,'DejaVu Sans Mono',consolas,'Courier New',monospace\"><span style=\"color: #008000; text-decoration-color: #008000\">22:29:30</span> | ℹ️ <span style=\"font-weight: bold\">Merge scratch\\micropython-v1_23_0-docstubs\\ubinascii.pyi from </span>\n",
       "<span style=\"font-weight: bold\">repos\\intellij-micropython\\typehints\\stdlib\\ubinascii.pyi</span>\n",
       "</pre>\n"
      ],
      "text/plain": [
       "\u001b[32m22:29:30\u001b[0m | ℹ️ \u001b[1mMerge scratch\\micropython-v1_23_0-docstubs\\ubinascii.pyi from \u001b[0m\n",
       "\u001b[1mrepos\\intellij-micropython\\typehints\\stdlib\\ubinascii.pyi\u001b[0m\n"
      ]
     },
     "metadata": {},
     "output_type": "display_data"
    },
    {
     "data": {
      "text/html": [
       "<pre style=\"white-space:pre;overflow-x:auto;line-height:normal;font-family:Menlo,'DejaVu Sans Mono',consolas,'Courier New',monospace\"><span style=\"color: #008000; text-decoration-color: #008000\">22:29:30</span> | ℹ️ <span style=\"font-weight: bold\">Merge scratch\\micropython-v1_23_0-docstubs\\uctypes\\__init__.pyi from </span>\n",
       "<span style=\"font-weight: bold\">repos\\intellij-micropython\\typehints\\micropython\\uctypes.pyi</span>\n",
       "</pre>\n"
      ],
      "text/plain": [
       "\u001b[32m22:29:30\u001b[0m | ℹ️ \u001b[1mMerge scratch\\micropython-v1_23_0-docstubs\\uctypes\\__init__.pyi from \u001b[0m\n",
       "\u001b[1mrepos\\intellij-micropython\\typehints\\micropython\\uctypes.pyi\u001b[0m\n"
      ]
     },
     "metadata": {},
     "output_type": "display_data"
    },
    {
     "data": {
      "text/html": [
       "<pre style=\"white-space:pre;overflow-x:auto;line-height:normal;font-family:Menlo,'DejaVu Sans Mono',consolas,'Courier New',monospace\"><span style=\"color: #008000; text-decoration-color: #008000\">22:29:30</span> | ℹ️ <span style=\"font-weight: bold\">Merge scratch\\micropython-v1_23_0-docstubs\\uio.pyi from </span>\n",
       "<span style=\"font-weight: bold\">repos\\intellij-micropython\\typehints\\stdlib\\io.pyi</span>\n",
       "</pre>\n"
      ],
      "text/plain": [
       "\u001b[32m22:29:30\u001b[0m | ℹ️ \u001b[1mMerge scratch\\micropython-v1_23_0-docstubs\\uio.pyi from \u001b[0m\n",
       "\u001b[1mrepos\\intellij-micropython\\typehints\\stdlib\\io.pyi\u001b[0m\n"
      ]
     },
     "metadata": {},
     "output_type": "display_data"
    },
    {
     "data": {
      "text/html": [
       "<pre style=\"white-space:pre;overflow-x:auto;line-height:normal;font-family:Menlo,'DejaVu Sans Mono',consolas,'Courier New',monospace\"><span style=\"color: #008000; text-decoration-color: #008000\">22:29:30</span> | ℹ️ <span style=\"font-weight: bold\">Merge scratch\\micropython-v1_23_0-docstubs\\uio.pyi from </span>\n",
       "<span style=\"font-weight: bold\">repos\\intellij-micropython\\typehints\\stdlib\\uio.pyi</span>\n",
       "</pre>\n"
      ],
      "text/plain": [
       "\u001b[32m22:29:30\u001b[0m | ℹ️ \u001b[1mMerge scratch\\micropython-v1_23_0-docstubs\\uio.pyi from \u001b[0m\n",
       "\u001b[1mrepos\\intellij-micropython\\typehints\\stdlib\\uio.pyi\u001b[0m\n"
      ]
     },
     "metadata": {},
     "output_type": "display_data"
    },
    {
     "data": {
      "text/html": [
       "<pre style=\"white-space:pre;overflow-x:auto;line-height:normal;font-family:Menlo,'DejaVu Sans Mono',consolas,'Courier New',monospace\"><span style=\"color: #008000; text-decoration-color: #008000\">22:29:31</span> | ℹ️ <span style=\"font-weight: bold\">Merge scratch\\micropython-v1_23_0-docstubs\\ujson.pyi from </span>\n",
       "<span style=\"font-weight: bold\">repos\\intellij-micropython\\typehints\\stdlib\\json.pyi</span>\n",
       "</pre>\n"
      ],
      "text/plain": [
       "\u001b[32m22:29:31\u001b[0m | ℹ️ \u001b[1mMerge scratch\\micropython-v1_23_0-docstubs\\ujson.pyi from \u001b[0m\n",
       "\u001b[1mrepos\\intellij-micropython\\typehints\\stdlib\\json.pyi\u001b[0m\n"
      ]
     },
     "metadata": {},
     "output_type": "display_data"
    },
    {
     "data": {
      "text/html": [
       "<pre style=\"white-space:pre;overflow-x:auto;line-height:normal;font-family:Menlo,'DejaVu Sans Mono',consolas,'Courier New',monospace\"><span style=\"color: #008000; text-decoration-color: #008000\">22:29:31</span> | ℹ️ <span style=\"font-weight: bold\">Merge scratch\\micropython-v1_23_0-docstubs\\ujson.pyi from </span>\n",
       "<span style=\"font-weight: bold\">repos\\intellij-micropython\\typehints\\stdlib\\ujson.pyi</span>\n",
       "</pre>\n"
      ],
      "text/plain": [
       "\u001b[32m22:29:31\u001b[0m | ℹ️ \u001b[1mMerge scratch\\micropython-v1_23_0-docstubs\\ujson.pyi from \u001b[0m\n",
       "\u001b[1mrepos\\intellij-micropython\\typehints\\stdlib\\ujson.pyi\u001b[0m\n"
      ]
     },
     "metadata": {},
     "output_type": "display_data"
    },
    {
     "data": {
      "text/html": [
       "<pre style=\"white-space:pre;overflow-x:auto;line-height:normal;font-family:Menlo,'DejaVu Sans Mono',consolas,'Courier New',monospace\"><span style=\"color: #008000; text-decoration-color: #008000\">22:29:31</span> | ℹ️ <span style=\"font-weight: bold\">Merge scratch\\micropython-v1_23_0-docstubs\\uos.pyi from </span>\n",
       "<span style=\"font-weight: bold\">repos\\intellij-micropython\\typehints\\stdlib\\os.pyi</span>\n",
       "</pre>\n"
      ],
      "text/plain": [
       "\u001b[32m22:29:31\u001b[0m | ℹ️ \u001b[1mMerge scratch\\micropython-v1_23_0-docstubs\\uos.pyi from \u001b[0m\n",
       "\u001b[1mrepos\\intellij-micropython\\typehints\\stdlib\\os.pyi\u001b[0m\n"
      ]
     },
     "metadata": {},
     "output_type": "display_data"
    },
    {
     "data": {
      "text/html": [
       "<pre style=\"white-space:pre;overflow-x:auto;line-height:normal;font-family:Menlo,'DejaVu Sans Mono',consolas,'Courier New',monospace\"><span style=\"color: #008000; text-decoration-color: #008000\">22:29:31</span> | ℹ️ <span style=\"font-weight: bold\">Merge scratch\\micropython-v1_23_0-docstubs\\uos.pyi from </span>\n",
       "<span style=\"font-weight: bold\">repos\\intellij-micropython\\typehints\\stdlib\\uos.pyi</span>\n",
       "</pre>\n"
      ],
      "text/plain": [
       "\u001b[32m22:29:31\u001b[0m | ℹ️ \u001b[1mMerge scratch\\micropython-v1_23_0-docstubs\\uos.pyi from \u001b[0m\n",
       "\u001b[1mrepos\\intellij-micropython\\typehints\\stdlib\\uos.pyi\u001b[0m\n"
      ]
     },
     "metadata": {},
     "output_type": "display_data"
    },
    {
     "data": {
      "text/html": [
       "<pre style=\"white-space:pre;overflow-x:auto;line-height:normal;font-family:Menlo,'DejaVu Sans Mono',consolas,'Courier New',monospace\"><span style=\"color: #008000; text-decoration-color: #008000\">22:29:32</span> | ℹ️ <span style=\"font-weight: bold\">Merge scratch\\micropython-v1_23_0-docstubs\\uselect.pyi from </span>\n",
       "<span style=\"font-weight: bold\">repos\\intellij-micropython\\typehints\\stdlib\\select.pyi</span>\n",
       "</pre>\n"
      ],
      "text/plain": [
       "\u001b[32m22:29:32\u001b[0m | ℹ️ \u001b[1mMerge scratch\\micropython-v1_23_0-docstubs\\uselect.pyi from \u001b[0m\n",
       "\u001b[1mrepos\\intellij-micropython\\typehints\\stdlib\\select.pyi\u001b[0m\n"
      ]
     },
     "metadata": {},
     "output_type": "display_data"
    },
    {
     "data": {
      "text/html": [
       "<pre style=\"white-space:pre;overflow-x:auto;line-height:normal;font-family:Menlo,'DejaVu Sans Mono',consolas,'Courier New',monospace\"><span style=\"color: #008000; text-decoration-color: #008000\">22:29:32</span> | ℹ️ <span style=\"font-weight: bold\">Merge scratch\\micropython-v1_23_0-docstubs\\uselect.pyi from </span>\n",
       "<span style=\"font-weight: bold\">repos\\intellij-micropython\\typehints\\stdlib\\uselect.pyi</span>\n",
       "</pre>\n"
      ],
      "text/plain": [
       "\u001b[32m22:29:32\u001b[0m | ℹ️ \u001b[1mMerge scratch\\micropython-v1_23_0-docstubs\\uselect.pyi from \u001b[0m\n",
       "\u001b[1mrepos\\intellij-micropython\\typehints\\stdlib\\uselect.pyi\u001b[0m\n"
      ]
     },
     "metadata": {},
     "output_type": "display_data"
    },
    {
     "data": {
      "text/html": [
       "<pre style=\"white-space:pre;overflow-x:auto;line-height:normal;font-family:Menlo,'DejaVu Sans Mono',consolas,'Courier New',monospace\"><span style=\"color: #008000; text-decoration-color: #008000\">22:29:32</span> | ℹ️ <span style=\"font-weight: bold\">Merge scratch\\micropython-v1_23_0-docstubs\\usocket.pyi from </span>\n",
       "<span style=\"font-weight: bold\">repos\\intellij-micropython\\typehints\\stdlib\\socket.pyi</span>\n",
       "</pre>\n"
      ],
      "text/plain": [
       "\u001b[32m22:29:32\u001b[0m | ℹ️ \u001b[1mMerge scratch\\micropython-v1_23_0-docstubs\\usocket.pyi from \u001b[0m\n",
       "\u001b[1mrepos\\intellij-micropython\\typehints\\stdlib\\socket.pyi\u001b[0m\n"
      ]
     },
     "metadata": {},
     "output_type": "display_data"
    },
    {
     "data": {
      "text/html": [
       "<pre style=\"white-space:pre;overflow-x:auto;line-height:normal;font-family:Menlo,'DejaVu Sans Mono',consolas,'Courier New',monospace\"><span style=\"color: #008000; text-decoration-color: #008000\">22:29:32</span> | ℹ️ <span style=\"font-weight: bold\">Merge scratch\\micropython-v1_23_0-docstubs\\usocket.pyi from </span>\n",
       "<span style=\"font-weight: bold\">repos\\intellij-micropython\\typehints\\stdlib\\usocket.pyi</span>\n",
       "</pre>\n"
      ],
      "text/plain": [
       "\u001b[32m22:29:32\u001b[0m | ℹ️ \u001b[1mMerge scratch\\micropython-v1_23_0-docstubs\\usocket.pyi from \u001b[0m\n",
       "\u001b[1mrepos\\intellij-micropython\\typehints\\stdlib\\usocket.pyi\u001b[0m\n"
      ]
     },
     "metadata": {},
     "output_type": "display_data"
    },
    {
     "data": {
      "text/html": [
       "<pre style=\"white-space:pre;overflow-x:auto;line-height:normal;font-family:Menlo,'DejaVu Sans Mono',consolas,'Courier New',monospace\"><span style=\"color: #008000; text-decoration-color: #008000\">22:29:32</span> | ℹ️ <span style=\"font-weight: bold\">Merge scratch\\micropython-v1_23_0-docstubs\\ussl.pyi from </span>\n",
       "<span style=\"font-weight: bold\">repos\\intellij-micropython\\typehints\\stdlib\\ssl.pyi</span>\n",
       "</pre>\n"
      ],
      "text/plain": [
       "\u001b[32m22:29:32\u001b[0m | ℹ️ \u001b[1mMerge scratch\\micropython-v1_23_0-docstubs\\ussl.pyi from \u001b[0m\n",
       "\u001b[1mrepos\\intellij-micropython\\typehints\\stdlib\\ssl.pyi\u001b[0m\n"
      ]
     },
     "metadata": {},
     "output_type": "display_data"
    },
    {
     "data": {
      "text/html": [
       "<pre style=\"white-space:pre;overflow-x:auto;line-height:normal;font-family:Menlo,'DejaVu Sans Mono',consolas,'Courier New',monospace\"><span style=\"color: #008000; text-decoration-color: #008000\">22:29:32</span> | ℹ️ <span style=\"font-weight: bold\">Merge scratch\\micropython-v1_23_0-docstubs\\ussl.pyi from </span>\n",
       "<span style=\"font-weight: bold\">repos\\intellij-micropython\\typehints\\stdlib\\ussl.pyi</span>\n",
       "</pre>\n"
      ],
      "text/plain": [
       "\u001b[32m22:29:32\u001b[0m | ℹ️ \u001b[1mMerge scratch\\micropython-v1_23_0-docstubs\\ussl.pyi from \u001b[0m\n",
       "\u001b[1mrepos\\intellij-micropython\\typehints\\stdlib\\ussl.pyi\u001b[0m\n"
      ]
     },
     "metadata": {},
     "output_type": "display_data"
    },
    {
     "data": {
      "text/html": [
       "<pre style=\"white-space:pre;overflow-x:auto;line-height:normal;font-family:Menlo,'DejaVu Sans Mono',consolas,'Courier New',monospace\"><span style=\"color: #008000; text-decoration-color: #008000\">22:29:32</span> | ℹ️ <span style=\"font-weight: bold\">Merge scratch\\micropython-v1_23_0-docstubs\\ustruct.pyi from </span>\n",
       "<span style=\"font-weight: bold\">repos\\intellij-micropython\\typehints\\stdlib\\struct.pyi</span>\n",
       "</pre>\n"
      ],
      "text/plain": [
       "\u001b[32m22:29:32\u001b[0m | ℹ️ \u001b[1mMerge scratch\\micropython-v1_23_0-docstubs\\ustruct.pyi from \u001b[0m\n",
       "\u001b[1mrepos\\intellij-micropython\\typehints\\stdlib\\struct.pyi\u001b[0m\n"
      ]
     },
     "metadata": {},
     "output_type": "display_data"
    },
    {
     "data": {
      "text/html": [
       "<pre style=\"white-space:pre;overflow-x:auto;line-height:normal;font-family:Menlo,'DejaVu Sans Mono',consolas,'Courier New',monospace\"><span style=\"color: #008000; text-decoration-color: #008000\">22:29:33</span> | ℹ️ <span style=\"font-weight: bold\">Merge scratch\\micropython-v1_23_0-docstubs\\ustruct.pyi from </span>\n",
       "<span style=\"font-weight: bold\">repos\\intellij-micropython\\typehints\\stdlib\\ustruct.pyi</span>\n",
       "</pre>\n"
      ],
      "text/plain": [
       "\u001b[32m22:29:33\u001b[0m | ℹ️ \u001b[1mMerge scratch\\micropython-v1_23_0-docstubs\\ustruct.pyi from \u001b[0m\n",
       "\u001b[1mrepos\\intellij-micropython\\typehints\\stdlib\\ustruct.pyi\u001b[0m\n"
      ]
     },
     "metadata": {},
     "output_type": "display_data"
    },
    {
     "data": {
      "text/html": [
       "<pre style=\"white-space:pre;overflow-x:auto;line-height:normal;font-family:Menlo,'DejaVu Sans Mono',consolas,'Courier New',monospace\"><span style=\"color: #008000; text-decoration-color: #008000\">22:29:33</span> | ℹ️ <span style=\"font-weight: bold\">Merge scratch\\micropython-v1_23_0-docstubs\\utime.pyi from </span>\n",
       "<span style=\"font-weight: bold\">repos\\intellij-micropython\\typehints\\stdlib\\time.pyi</span>\n",
       "</pre>\n"
      ],
      "text/plain": [
       "\u001b[32m22:29:33\u001b[0m | ℹ️ \u001b[1mMerge scratch\\micropython-v1_23_0-docstubs\\utime.pyi from \u001b[0m\n",
       "\u001b[1mrepos\\intellij-micropython\\typehints\\stdlib\\time.pyi\u001b[0m\n"
      ]
     },
     "metadata": {},
     "output_type": "display_data"
    },
    {
     "data": {
      "text/html": [
       "<pre style=\"white-space:pre;overflow-x:auto;line-height:normal;font-family:Menlo,'DejaVu Sans Mono',consolas,'Courier New',monospace\"><span style=\"color: #008000; text-decoration-color: #008000\">22:29:33</span> | ℹ️ <span style=\"font-weight: bold\">Merge scratch\\micropython-v1_23_0-docstubs\\utime.pyi from </span>\n",
       "<span style=\"font-weight: bold\">repos\\intellij-micropython\\typehints\\stdlib\\utime.pyi</span>\n",
       "</pre>\n"
      ],
      "text/plain": [
       "\u001b[32m22:29:33\u001b[0m | ℹ️ \u001b[1mMerge scratch\\micropython-v1_23_0-docstubs\\utime.pyi from \u001b[0m\n",
       "\u001b[1mrepos\\intellij-micropython\\typehints\\stdlib\\utime.pyi\u001b[0m\n"
      ]
     },
     "metadata": {},
     "output_type": "display_data"
    },
    {
     "data": {
      "text/html": [
       "<pre style=\"white-space:pre;overflow-x:auto;line-height:normal;font-family:Menlo,'DejaVu Sans Mono',consolas,'Courier New',monospace\"><span style=\"color: #008000; text-decoration-color: #008000\">22:29:33</span> | ℹ️ <span style=\"font-weight: bold\">Merge scratch\\micropython-v1_23_0-docstubs\\uzlib.pyi from </span>\n",
       "<span style=\"font-weight: bold\">repos\\intellij-micropython\\typehints\\stdlib\\uzlib.pyi</span>\n",
       "</pre>\n"
      ],
      "text/plain": [
       "\u001b[32m22:29:33\u001b[0m | ℹ️ \u001b[1mMerge scratch\\micropython-v1_23_0-docstubs\\uzlib.pyi from \u001b[0m\n",
       "\u001b[1mrepos\\intellij-micropython\\typehints\\stdlib\\uzlib.pyi\u001b[0m\n"
      ]
     },
     "metadata": {},
     "output_type": "display_data"
    },
    {
     "data": {
      "text/html": [
       "<pre style=\"white-space:pre;overflow-x:auto;line-height:normal;font-family:Menlo,'DejaVu Sans Mono',consolas,'Courier New',monospace\"><span style=\"color: #008000; text-decoration-color: #008000\">22:29:33</span> | ℹ️ <span style=\"font-weight: bold\">Merge scratch\\micropython-v1_23_0-docstubs\\uzlib.pyi from </span>\n",
       "<span style=\"font-weight: bold\">repos\\intellij-micropython\\typehints\\stdlib\\zlib.pyi</span>\n",
       "</pre>\n"
      ],
      "text/plain": [
       "\u001b[32m22:29:33\u001b[0m | ℹ️ \u001b[1mMerge scratch\\micropython-v1_23_0-docstubs\\uzlib.pyi from \u001b[0m\n",
       "\u001b[1mrepos\\intellij-micropython\\typehints\\stdlib\\zlib.pyi\u001b[0m\n"
      ]
     },
     "metadata": {},
     "output_type": "display_data"
    },
    {
     "data": {
      "text/html": [
       "<pre style=\"white-space:pre;overflow-x:auto;line-height:normal;font-family:Menlo,'DejaVu Sans Mono',consolas,'Courier New',monospace\"><span style=\"color: #008000; text-decoration-color: #008000\">22:29:33</span> | ℹ️ <span style=\"font-weight: bold\">Merge scratch\\micropython-v1_23_0-docstubs\\zlib\\__init__.pyi from </span>\n",
       "<span style=\"font-weight: bold\">repos\\intellij-micropython\\typehints\\stdlib\\uzlib.pyi</span>\n",
       "</pre>\n"
      ],
      "text/plain": [
       "\u001b[32m22:29:33\u001b[0m | ℹ️ \u001b[1mMerge scratch\\micropython-v1_23_0-docstubs\\zlib\\__init__.pyi from \u001b[0m\n",
       "\u001b[1mrepos\\intellij-micropython\\typehints\\stdlib\\uzlib.pyi\u001b[0m\n"
      ]
     },
     "metadata": {},
     "output_type": "display_data"
    },
    {
     "data": {
      "text/html": [
       "<pre style=\"white-space:pre;overflow-x:auto;line-height:normal;font-family:Menlo,'DejaVu Sans Mono',consolas,'Courier New',monospace\"><span style=\"color: #008000; text-decoration-color: #008000\">22:29:33</span> | ℹ️ <span style=\"font-weight: bold\">Merge scratch\\micropython-v1_23_0-docstubs\\zlib\\__init__.pyi from </span>\n",
       "<span style=\"font-weight: bold\">repos\\intellij-micropython\\typehints\\stdlib\\zlib.pyi</span>\n",
       "</pre>\n"
      ],
      "text/plain": [
       "\u001b[32m22:29:33\u001b[0m | ℹ️ \u001b[1mMerge scratch\\micropython-v1_23_0-docstubs\\zlib\\__init__.pyi from \u001b[0m\n",
       "\u001b[1mrepos\\intellij-micropython\\typehints\\stdlib\\zlib.pyi\u001b[0m\n"
      ]
     },
     "metadata": {},
     "output_type": "display_data"
    }
   ],
   "source": [
    "# assume root of workspace is the current directory\n",
    "# # Merge typehints from IntelliJ plugin with docstubs\n",
    "%run -m stubber.stubber enrich --no-docstrings --stubs scratch --docstubs repos\\intellij-micropython\\typehints\n",
    "\n",
    "\n",
    "# BUG:\n",
    "# --no-docstring still copies over the docstring in array.array\n",
    "# - function signatures are not copied,  \n",
    "\n",
    "# Merge from Howard Lovatt (MIT) \n",
    "# %run -m stubber.stubber enrich --no-docstrings --stubs repos\\micropython-stubs\\stubs\\micropython-v1_23_0-docstubs --source repos\\PyBoardTypeshed\\micropython_typesheds\n",
    "\n",
    "\n",
    "\n",
    "# gobot1234\n",
    "#  %run -m stubber.stubber enrich --no-docstrings --stubs scratch\\micropython-v1_23_0-docstubs --source repos\\gobotTypeshed\\micropython_typesheds\n"
   ]
  },
  {
   "cell_type": "code",
   "execution_count": 4,
   "metadata": {},
   "outputs": [],
   "source": [
    "from pathlib import Path\n",
    "\n",
    "directory = Path(\"scratch/micropython-v1_23_0-docstubs\")\n",
    "\n",
    "NO_UMOD = [\n",
    "    # \"from uio import AnyReadableBuf\",\n",
    "    # \"from uio import AnyWritableBuf\",\n",
    "    # \"from uos import AbstractBlockDev\",\n",
    "    # \"from uio import StrOrBytesPath\",\n",
    "    \"from uio import\",\n",
    "    # \"from usocket import Socket\",\n",
    "    \"from usocket import\",\n",
    "]\n",
    "\n",
    "# Iterate over all files in the directory\n",
    "for file in directory.glob(\"**/*\"):\n",
    "    # Check if the file is a regular file\n",
    "    if file.is_file():\n",
    "        # Open the file in read mode\n",
    "        with file.open(mode=\"r\", encoding=\"utf-8\") as f:\n",
    "            # Read the contents of the file\n",
    "            lines = f.readlines()\n",
    "\n",
    "        # Open the file in write mode\n",
    "        with file.open(mode=\"w\", encoding=\"utf-8\") as f:\n",
    "            # Iterate over each line in the file\n",
    "            for line in lines:\n",
    "                # Check if the line starts with\n",
    "                if any(line.startswith(l) for l in NO_UMOD):\n",
    "                    # Modify the line to remove the `u` prefix\n",
    "                    line = \"from \" + line[6:]\n",
    "\n",
    "                # Write the modified line to the file\n",
    "                f.write(line)"
   ]
  },
  {
   "cell_type": "code",
   "execution_count": null,
   "metadata": {},
   "outputs": [],
   "source": [
    "\n",
    "! ruff check scratch\\micropython-v1_23_0-docstubs --fix --unsafe-fixes\n"
   ]
  },
  {
   "cell_type": "code",
   "execution_count": null,
   "metadata": {},
   "outputs": [],
   "source": [
    "\n",
    "! pyright scratch\\micropython-v1_23_0-docstubs\n"
   ]
  },
  {
   "cell_type": "code",
   "execution_count": null,
   "metadata": {},
   "outputs": [],
   "source": []
  }
 ],
 "metadata": {
  "kernelspec": {
   "display_name": ".venv",
   "language": "python",
   "name": "python3"
  },
  "language_info": {
   "codemirror_mode": {
    "name": "ipython",
    "version": 3
   },
   "file_extension": ".py",
   "mimetype": "text/x-python",
   "name": "python",
   "nbconvert_exporter": "python",
   "pygments_lexer": "ipython3",
   "version": "3.11.9"
  }
 },
 "nbformat": 4,
 "nbformat_minor": 2
}
