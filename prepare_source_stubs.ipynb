{
 "cells": [
  {
   "cell_type": "code",
   "execution_count": 2,
   "metadata": {},
   "outputs": [
    {
     "data": {
      "text/html": [
       "<pre style=\"white-space:pre;overflow-x:auto;line-height:normal;font-family:Menlo,'DejaVu Sans Mono',consolas,'Courier New',monospace\"><span style=\"color: #008000; text-decoration-color: #008000\">16:15:23</span> | ℹ️ <span style=\"font-weight: bold\">micropython-stubber </span><span style=\"color: #008080; text-decoration-color: #008080; font-weight: bold\">1.23</span><span style=\"font-weight: bold\">.2a0</span>\n",
       "</pre>\n"
      ],
      "text/plain": [
       "\u001b[32m16:15:23\u001b[0m | ℹ️ \u001b[1mmicropython-stubber \u001b[0m\u001b[1;36m1.23\u001b[0m\u001b[1m.2a0\u001b[0m\n"
      ]
     },
     "metadata": {},
     "output_type": "display_data"
    },
    {
     "data": {
      "text/html": [
       "<pre style=\"white-space:pre;overflow-x:auto;line-height:normal;font-family:Menlo,'DejaVu Sans Mono',consolas,'Courier New',monospace\"><span style=\"color: #008000; text-decoration-color: #008000\">16:15:23</span> | ℹ️ <span style=\"font-weight: bold\">fetch updates</span>\n",
       "</pre>\n"
      ],
      "text/plain": [
       "\u001b[32m16:15:23\u001b[0m | ℹ️ \u001b[1mfetch updates\u001b[0m\n"
      ]
     },
     "metadata": {},
     "output_type": "display_data"
    },
    {
     "data": {
      "text/html": [
       "<pre style=\"white-space:pre;overflow-x:auto;line-height:normal;font-family:Menlo,'DejaVu Sans Mono',consolas,'Courier New',monospace\"><span style=\"color: #008000; text-decoration-color: #008000\">16:15:24</span> | ℹ️ <span style=\"font-weight: bold\">Switching to v1.</span><span style=\"color: #008080; text-decoration-color: #008080; font-weight: bold\">23.0</span>\n",
       "</pre>\n"
      ],
      "text/plain": [
       "\u001b[32m16:15:24\u001b[0m | ℹ️ \u001b[1mSwitching to v1.\u001b[0m\u001b[1;36m23.0\u001b[0m\n"
      ]
     },
     "metadata": {},
     "output_type": "display_data"
    },
    {
     "data": {
      "text/html": [
       "<pre style=\"white-space:pre;overflow-x:auto;line-height:normal;font-family:Menlo,'DejaVu Sans Mono',consolas,'Courier New',monospace\"><span style=\"color: #008000; text-decoration-color: #008000\">16:15:26</span> | ℹ️ <span style=\"font-weight: bold\">repos\\micropython                        v1.</span><span style=\"color: #008080; text-decoration-color: #008080; font-weight: bold\">23.0</span>\n",
       "</pre>\n"
      ],
      "text/plain": [
       "\u001b[32m16:15:26\u001b[0m | ℹ️ \u001b[1mrepos\\micropython                        v1.\u001b[0m\u001b[1;36m23.0\u001b[0m\n"
      ]
     },
     "metadata": {},
     "output_type": "display_data"
    },
    {
     "data": {
      "text/html": [
       "<pre style=\"white-space:pre;overflow-x:auto;line-height:normal;font-family:Menlo,'DejaVu Sans Mono',consolas,'Courier New',monospace\"><span style=\"color: #008000; text-decoration-color: #008000\">16:15:26</span> | ℹ️ <span style=\"font-weight: bold\">repos\\micropython-lib                    v1.</span><span style=\"color: #008080; text-decoration-color: #008080; font-weight: bold\">23.0</span>\n",
       "</pre>\n"
      ],
      "text/plain": [
       "\u001b[32m16:15:26\u001b[0m | ℹ️ \u001b[1mrepos\\micropython-lib                    v1.\u001b[0m\u001b[1;36m23.0\u001b[0m\n"
      ]
     },
     "metadata": {},
     "output_type": "display_data"
    },
    {
     "data": {
      "text/html": [
       "<pre style=\"white-space:pre;overflow-x:auto;line-height:normal;font-family:Menlo,'DejaVu Sans Mono',consolas,'Courier New',monospace\"><span style=\"color: #008000; text-decoration-color: #008000\">16:15:26</span> | ℹ️ <span style=\"font-weight: bold\">repos\\micropython\\lib\\micropython-lib    v1.</span><span style=\"color: #008080; text-decoration-color: #008080; font-weight: bold\">23.0</span>\n",
       "</pre>\n"
      ],
      "text/plain": [
       "\u001b[32m16:15:26\u001b[0m | ℹ️ \u001b[1mrepos\\micropython\\lib\\micropython-lib    v1.\u001b[0m\u001b[1;36m23.0\u001b[0m\n"
      ]
     },
     "metadata": {},
     "output_type": "display_data"
    },
    {
     "data": {
      "text/html": [
       "<pre style=\"white-space:pre;overflow-x:auto;line-height:normal;font-family:Menlo,'DejaVu Sans Mono',consolas,'Courier New',monospace\"><span style=\"color: #008000; text-decoration-color: #008000\">16:15:27</span> | ℹ️ <span style=\"font-weight: bold\">Get docstubs for MicroPython v1.</span><span style=\"color: #008080; text-decoration-color: #008080; font-weight: bold\">23.0</span>\n",
       "</pre>\n"
      ],
      "text/plain": [
       "\u001b[32m16:15:27\u001b[0m | ℹ️ \u001b[1mGet docstubs for MicroPython v1.\u001b[0m\u001b[1;36m23.0\u001b[0m\n"
      ]
     },
     "metadata": {},
     "output_type": "display_data"
    },
    {
     "data": {
      "text/html": [
       "<pre style=\"white-space:pre;overflow-x:auto;line-height:normal;font-family:Menlo,'DejaVu Sans Mono',consolas,'Courier New',monospace\"><span style=\"color: #008000; text-decoration-color: #008000\">16:15:27</span> | ℹ️ <span style=\"font-weight: bold\"> - Writing to: repos\\micropython-stubs\\stubs\\micropython-v1_23_0-docstubs\\array\\__init__.pyi</span>\n",
       "</pre>\n"
      ],
      "text/plain": [
       "\u001b[32m16:15:27\u001b[0m | ℹ️ \u001b[1m - Writing to: repos\\micropython-stubs\\stubs\\micropython-v1_23_0-docstubs\\array\\__init__.pyi\u001b[0m\n"
      ]
     },
     "metadata": {},
     "output_type": "display_data"
    },
    {
     "data": {
      "text/html": [
       "<pre style=\"white-space:pre;overflow-x:auto;line-height:normal;font-family:Menlo,'DejaVu Sans Mono',consolas,'Courier New',monospace\"><span style=\"color: #008000; text-decoration-color: #008000\">16:15:27</span> | ℹ️ <span style=\"font-weight: bold\"> - Writing to: repos\\micropython-stubs\\stubs\\micropython-v1_23_0-docstubs\\asyncio\\__init__.pyi</span>\n",
       "</pre>\n"
      ],
      "text/plain": [
       "\u001b[32m16:15:27\u001b[0m | ℹ️ \u001b[1m - Writing to: repos\\micropython-stubs\\stubs\\micropython-v1_23_0-docstubs\\asyncio\\__init__.pyi\u001b[0m\n"
      ]
     },
     "metadata": {},
     "output_type": "display_data"
    },
    {
     "data": {
      "text/html": [
       "<pre style=\"white-space:pre;overflow-x:auto;line-height:normal;font-family:Menlo,'DejaVu Sans Mono',consolas,'Courier New',monospace\"><span style=\"color: #008000; text-decoration-color: #008000\">16:15:27</span> | ℹ️ <span style=\"font-weight: bold\"> - Writing to: repos\\micropython-stubs\\stubs\\micropython-v1_23_0-docstubs\\binascii\\__init__.pyi</span>\n",
       "</pre>\n"
      ],
      "text/plain": [
       "\u001b[32m16:15:27\u001b[0m | ℹ️ \u001b[1m - Writing to: repos\\micropython-stubs\\stubs\\micropython-v1_23_0-docstubs\\binascii\\__init__.pyi\u001b[0m\n"
      ]
     },
     "metadata": {},
     "output_type": "display_data"
    },
    {
     "data": {
      "text/html": [
       "<pre style=\"white-space:pre;overflow-x:auto;line-height:normal;font-family:Menlo,'DejaVu Sans Mono',consolas,'Courier New',monospace\"><span style=\"color: #008000; text-decoration-color: #008000\">16:15:27</span> | ℹ️ <span style=\"font-weight: bold\"> - Writing to: repos\\micropython-stubs\\stubs\\micropython-v1_23_0-docstubs\\bluetooth\\__init__.pyi</span>\n",
       "</pre>\n"
      ],
      "text/plain": [
       "\u001b[32m16:15:27\u001b[0m | ℹ️ \u001b[1m - Writing to: repos\\micropython-stubs\\stubs\\micropython-v1_23_0-docstubs\\bluetooth\\__init__.pyi\u001b[0m\n"
      ]
     },
     "metadata": {},
     "output_type": "display_data"
    },
    {
     "data": {
      "text/html": [
       "<pre style=\"white-space:pre;overflow-x:auto;line-height:normal;font-family:Menlo,'DejaVu Sans Mono',consolas,'Courier New',monospace\"><span style=\"color: #008000; text-decoration-color: #008000\">16:15:27</span> | ℹ️ <span style=\"font-weight: bold\"> - Writing to: repos\\micropython-stubs\\stubs\\micropython-v1_23_0-docstubs\\btree\\__init__.pyi</span>\n",
       "</pre>\n"
      ],
      "text/plain": [
       "\u001b[32m16:15:27\u001b[0m | ℹ️ \u001b[1m - Writing to: repos\\micropython-stubs\\stubs\\micropython-v1_23_0-docstubs\\btree\\__init__.pyi\u001b[0m\n"
      ]
     },
     "metadata": {},
     "output_type": "display_data"
    },
    {
     "data": {
      "text/html": [
       "<pre style=\"white-space:pre;overflow-x:auto;line-height:normal;font-family:Menlo,'DejaVu Sans Mono',consolas,'Courier New',monospace\"><span style=\"color: #008000; text-decoration-color: #008000\">16:15:27</span> | ℹ️ <span style=\"font-weight: bold\"> - Writing to: repos\\micropython-stubs\\stubs\\micropython-v1_23_0-docstubs\\cmath\\__init__.pyi</span>\n",
       "</pre>\n"
      ],
      "text/plain": [
       "\u001b[32m16:15:27\u001b[0m | ℹ️ \u001b[1m - Writing to: repos\\micropython-stubs\\stubs\\micropython-v1_23_0-docstubs\\cmath\\__init__.pyi\u001b[0m\n"
      ]
     },
     "metadata": {},
     "output_type": "display_data"
    },
    {
     "data": {
      "text/html": [
       "<pre style=\"white-space:pre;overflow-x:auto;line-height:normal;font-family:Menlo,'DejaVu Sans Mono',consolas,'Courier New',monospace\"><span style=\"color: #008000; text-decoration-color: #008000\">16:15:27</span> | ℹ️ <span style=\"font-weight: bold\"> - Writing to: repos\\micropython-stubs\\stubs\\micropython-v1_23_0-docstubs\\collections\\__init__.pyi</span>\n",
       "</pre>\n"
      ],
      "text/plain": [
       "\u001b[32m16:15:27\u001b[0m | ℹ️ \u001b[1m - Writing to: repos\\micropython-stubs\\stubs\\micropython-v1_23_0-docstubs\\collections\\__init__.pyi\u001b[0m\n"
      ]
     },
     "metadata": {},
     "output_type": "display_data"
    },
    {
     "data": {
      "text/html": [
       "<pre style=\"white-space:pre;overflow-x:auto;line-height:normal;font-family:Menlo,'DejaVu Sans Mono',consolas,'Courier New',monospace\"><span style=\"color: #008000; text-decoration-color: #008000\">16:15:27</span> | ℹ️ <span style=\"font-weight: bold\"> - Writing to: repos\\micropython-stubs\\stubs\\micropython-v1_23_0-docstubs\\cryptolib\\__init__.pyi</span>\n",
       "</pre>\n"
      ],
      "text/plain": [
       "\u001b[32m16:15:27\u001b[0m | ℹ️ \u001b[1m - Writing to: repos\\micropython-stubs\\stubs\\micropython-v1_23_0-docstubs\\cryptolib\\__init__.pyi\u001b[0m\n"
      ]
     },
     "metadata": {},
     "output_type": "display_data"
    },
    {
     "data": {
      "text/html": [
       "<pre style=\"white-space:pre;overflow-x:auto;line-height:normal;font-family:Menlo,'DejaVu Sans Mono',consolas,'Courier New',monospace\"><span style=\"color: #008000; text-decoration-color: #008000\">16:15:27</span> | ℹ️ <span style=\"font-weight: bold\"> - Writing to: repos\\micropython-stubs\\stubs\\micropython-v1_23_0-docstubs\\deflate\\__init__.pyi</span>\n",
       "</pre>\n"
      ],
      "text/plain": [
       "\u001b[32m16:15:27\u001b[0m | ℹ️ \u001b[1m - Writing to: repos\\micropython-stubs\\stubs\\micropython-v1_23_0-docstubs\\deflate\\__init__.pyi\u001b[0m\n"
      ]
     },
     "metadata": {},
     "output_type": "display_data"
    },
    {
     "data": {
      "text/html": [
       "<pre style=\"white-space:pre;overflow-x:auto;line-height:normal;font-family:Menlo,'DejaVu Sans Mono',consolas,'Courier New',monospace\"><span style=\"color: #008000; text-decoration-color: #008000\">16:15:27</span> | ℹ️ <span style=\"font-weight: bold\"> - Writing to: repos\\micropython-stubs\\stubs\\micropython-v1_23_0-docstubs\\errno\\__init__.pyi</span>\n",
       "</pre>\n"
      ],
      "text/plain": [
       "\u001b[32m16:15:27\u001b[0m | ℹ️ \u001b[1m - Writing to: repos\\micropython-stubs\\stubs\\micropython-v1_23_0-docstubs\\errno\\__init__.pyi\u001b[0m\n"
      ]
     },
     "metadata": {},
     "output_type": "display_data"
    },
    {
     "data": {
      "text/html": [
       "<pre style=\"white-space:pre;overflow-x:auto;line-height:normal;font-family:Menlo,'DejaVu Sans Mono',consolas,'Courier New',monospace\"><span style=\"color: #008000; text-decoration-color: #008000\">16:15:27</span> | ℹ️ <span style=\"font-weight: bold\"> - Writing to: repos\\micropython-stubs\\stubs\\micropython-v1_23_0-docstubs\\esp\\__init__.pyi</span>\n",
       "</pre>\n"
      ],
      "text/plain": [
       "\u001b[32m16:15:27\u001b[0m | ℹ️ \u001b[1m - Writing to: repos\\micropython-stubs\\stubs\\micropython-v1_23_0-docstubs\\esp\\__init__.pyi\u001b[0m\n"
      ]
     },
     "metadata": {},
     "output_type": "display_data"
    },
    {
     "data": {
      "text/html": [
       "<pre style=\"white-space:pre;overflow-x:auto;line-height:normal;font-family:Menlo,'DejaVu Sans Mono',consolas,'Courier New',monospace\"><span style=\"color: #008000; text-decoration-color: #008000\">16:15:27</span> | ℹ️ <span style=\"font-weight: bold\"> - Writing to: repos\\micropython-stubs\\stubs\\micropython-v1_23_0-docstubs\\esp32\\__init__.pyi</span>\n",
       "</pre>\n"
      ],
      "text/plain": [
       "\u001b[32m16:15:27\u001b[0m | ℹ️ \u001b[1m - Writing to: repos\\micropython-stubs\\stubs\\micropython-v1_23_0-docstubs\\esp32\\__init__.pyi\u001b[0m\n"
      ]
     },
     "metadata": {},
     "output_type": "display_data"
    },
    {
     "data": {
      "text/html": [
       "<pre style=\"white-space:pre;overflow-x:auto;line-height:normal;font-family:Menlo,'DejaVu Sans Mono',consolas,'Courier New',monospace\"><span style=\"color: #008000; text-decoration-color: #008000\">16:15:27</span> | ℹ️ <span style=\"font-weight: bold\"> - Writing to: repos\\micropython-stubs\\stubs\\micropython-v1_23_0-docstubs\\espnow\\__init__.pyi</span>\n",
       "</pre>\n"
      ],
      "text/plain": [
       "\u001b[32m16:15:27\u001b[0m | ℹ️ \u001b[1m - Writing to: repos\\micropython-stubs\\stubs\\micropython-v1_23_0-docstubs\\espnow\\__init__.pyi\u001b[0m\n"
      ]
     },
     "metadata": {},
     "output_type": "display_data"
    },
    {
     "data": {
      "text/html": [
       "<pre style=\"white-space:pre;overflow-x:auto;line-height:normal;font-family:Menlo,'DejaVu Sans Mono',consolas,'Courier New',monospace\"><span style=\"color: #008000; text-decoration-color: #008000\">16:15:27</span> | ℹ️ <span style=\"font-weight: bold\"> - Writing to: repos\\micropython-stubs\\stubs\\micropython-v1_23_0-docstubs\\framebuf\\__init__.pyi</span>\n",
       "</pre>\n"
      ],
      "text/plain": [
       "\u001b[32m16:15:27\u001b[0m | ℹ️ \u001b[1m - Writing to: repos\\micropython-stubs\\stubs\\micropython-v1_23_0-docstubs\\framebuf\\__init__.pyi\u001b[0m\n"
      ]
     },
     "metadata": {},
     "output_type": "display_data"
    },
    {
     "data": {
      "text/html": [
       "<pre style=\"white-space:pre;overflow-x:auto;line-height:normal;font-family:Menlo,'DejaVu Sans Mono',consolas,'Courier New',monospace\"><span style=\"color: #008000; text-decoration-color: #008000\">16:15:27</span> | ℹ️ <span style=\"font-weight: bold\"> - Writing to: repos\\micropython-stubs\\stubs\\micropython-v1_23_0-docstubs\\gc\\__init__.pyi</span>\n",
       "</pre>\n"
      ],
      "text/plain": [
       "\u001b[32m16:15:27\u001b[0m | ℹ️ \u001b[1m - Writing to: repos\\micropython-stubs\\stubs\\micropython-v1_23_0-docstubs\\gc\\__init__.pyi\u001b[0m\n"
      ]
     },
     "metadata": {},
     "output_type": "display_data"
    },
    {
     "data": {
      "text/html": [
       "<pre style=\"white-space:pre;overflow-x:auto;line-height:normal;font-family:Menlo,'DejaVu Sans Mono',consolas,'Courier New',monospace\"><span style=\"color: #008000; text-decoration-color: #008000\">16:15:27</span> | ℹ️ <span style=\"font-weight: bold\"> - Writing to: repos\\micropython-stubs\\stubs\\micropython-v1_23_0-docstubs\\gzip\\__init__.pyi</span>\n",
       "</pre>\n"
      ],
      "text/plain": [
       "\u001b[32m16:15:27\u001b[0m | ℹ️ \u001b[1m - Writing to: repos\\micropython-stubs\\stubs\\micropython-v1_23_0-docstubs\\gzip\\__init__.pyi\u001b[0m\n"
      ]
     },
     "metadata": {},
     "output_type": "display_data"
    },
    {
     "data": {
      "text/html": [
       "<pre style=\"white-space:pre;overflow-x:auto;line-height:normal;font-family:Menlo,'DejaVu Sans Mono',consolas,'Courier New',monospace\"><span style=\"color: #008000; text-decoration-color: #008000\">16:15:27</span> | ℹ️ <span style=\"font-weight: bold\"> - Writing to: repos\\micropython-stubs\\stubs\\micropython-v1_23_0-docstubs\\hashlib\\__init__.pyi</span>\n",
       "</pre>\n"
      ],
      "text/plain": [
       "\u001b[32m16:15:27\u001b[0m | ℹ️ \u001b[1m - Writing to: repos\\micropython-stubs\\stubs\\micropython-v1_23_0-docstubs\\hashlib\\__init__.pyi\u001b[0m\n"
      ]
     },
     "metadata": {},
     "output_type": "display_data"
    },
    {
     "data": {
      "text/html": [
       "<pre style=\"white-space:pre;overflow-x:auto;line-height:normal;font-family:Menlo,'DejaVu Sans Mono',consolas,'Courier New',monospace\"><span style=\"color: #008000; text-decoration-color: #008000\">16:15:27</span> | ℹ️ <span style=\"font-weight: bold\"> - Writing to: repos\\micropython-stubs\\stubs\\micropython-v1_23_0-docstubs\\heapq\\__init__.pyi</span>\n",
       "</pre>\n"
      ],
      "text/plain": [
       "\u001b[32m16:15:27\u001b[0m | ℹ️ \u001b[1m - Writing to: repos\\micropython-stubs\\stubs\\micropython-v1_23_0-docstubs\\heapq\\__init__.pyi\u001b[0m\n"
      ]
     },
     "metadata": {},
     "output_type": "display_data"
    },
    {
     "data": {
      "text/html": [
       "<pre style=\"white-space:pre;overflow-x:auto;line-height:normal;font-family:Menlo,'DejaVu Sans Mono',consolas,'Courier New',monospace\"><span style=\"color: #008000; text-decoration-color: #008000\">16:15:27</span> | ℹ️ <span style=\"font-weight: bold\"> - Writing to: repos\\micropython-stubs\\stubs\\micropython-v1_23_0-docstubs\\io\\__init__.pyi</span>\n",
       "</pre>\n"
      ],
      "text/plain": [
       "\u001b[32m16:15:27\u001b[0m | ℹ️ \u001b[1m - Writing to: repos\\micropython-stubs\\stubs\\micropython-v1_23_0-docstubs\\io\\__init__.pyi\u001b[0m\n"
      ]
     },
     "metadata": {},
     "output_type": "display_data"
    },
    {
     "data": {
      "text/html": [
       "<pre style=\"white-space:pre;overflow-x:auto;line-height:normal;font-family:Menlo,'DejaVu Sans Mono',consolas,'Courier New',monospace\"><span style=\"color: #008000; text-decoration-color: #008000\">16:15:27</span> | ℹ️ <span style=\"font-weight: bold\"> - Writing to: repos\\micropython-stubs\\stubs\\micropython-v1_23_0-docstubs\\json\\__init__.pyi</span>\n",
       "</pre>\n"
      ],
      "text/plain": [
       "\u001b[32m16:15:27\u001b[0m | ℹ️ \u001b[1m - Writing to: repos\\micropython-stubs\\stubs\\micropython-v1_23_0-docstubs\\json\\__init__.pyi\u001b[0m\n"
      ]
     },
     "metadata": {},
     "output_type": "display_data"
    },
    {
     "data": {
      "text/html": [
       "<pre style=\"white-space:pre;overflow-x:auto;line-height:normal;font-family:Menlo,'DejaVu Sans Mono',consolas,'Courier New',monospace\"><span style=\"color: #008000; text-decoration-color: #008000\">16:15:27</span> | ℹ️ <span style=\"font-weight: bold\"> - Writing to: repos\\micropython-stubs\\stubs\\micropython-v1_23_0-docstubs\\lcd160cr\\__init__.pyi</span>\n",
       "</pre>\n"
      ],
      "text/plain": [
       "\u001b[32m16:15:27\u001b[0m | ℹ️ \u001b[1m - Writing to: repos\\micropython-stubs\\stubs\\micropython-v1_23_0-docstubs\\lcd160cr\\__init__.pyi\u001b[0m\n"
      ]
     },
     "metadata": {},
     "output_type": "display_data"
    },
    {
     "data": {
      "text/html": [
       "<pre style=\"white-space:pre;overflow-x:auto;line-height:normal;font-family:Menlo,'DejaVu Sans Mono',consolas,'Courier New',monospace\"><span style=\"color: #008000; text-decoration-color: #008000\">16:15:27</span> | ℹ️ <span style=\"font-weight: bold\"> - Writing to: repos\\micropython-stubs\\stubs\\micropython-v1_23_0-docstubs\\machine\\ADC.pyi</span>\n",
       "</pre>\n"
      ],
      "text/plain": [
       "\u001b[32m16:15:27\u001b[0m | ℹ️ \u001b[1m - Writing to: repos\\micropython-stubs\\stubs\\micropython-v1_23_0-docstubs\\machine\\ADC.pyi\u001b[0m\n"
      ]
     },
     "metadata": {},
     "output_type": "display_data"
    },
    {
     "data": {
      "text/html": [
       "<pre style=\"white-space:pre;overflow-x:auto;line-height:normal;font-family:Menlo,'DejaVu Sans Mono',consolas,'Courier New',monospace\"><span style=\"color: #008000; text-decoration-color: #008000\">16:15:27</span> | ℹ️ <span style=\"font-weight: bold\"> - Writing to: repos\\micropython-stubs\\stubs\\micropython-v1_23_0-docstubs\\machine\\ADCBlock.pyi</span>\n",
       "</pre>\n"
      ],
      "text/plain": [
       "\u001b[32m16:15:27\u001b[0m | ℹ️ \u001b[1m - Writing to: repos\\micropython-stubs\\stubs\\micropython-v1_23_0-docstubs\\machine\\ADCBlock.pyi\u001b[0m\n"
      ]
     },
     "metadata": {},
     "output_type": "display_data"
    },
    {
     "data": {
      "text/html": [
       "<pre style=\"white-space:pre;overflow-x:auto;line-height:normal;font-family:Menlo,'DejaVu Sans Mono',consolas,'Courier New',monospace\"><span style=\"color: #008000; text-decoration-color: #008000\">16:15:27</span> | ℹ️ <span style=\"font-weight: bold\"> - Writing to: repos\\micropython-stubs\\stubs\\micropython-v1_23_0-docstubs\\machine\\ADCWiPy.pyi</span>\n",
       "</pre>\n"
      ],
      "text/plain": [
       "\u001b[32m16:15:27\u001b[0m | ℹ️ \u001b[1m - Writing to: repos\\micropython-stubs\\stubs\\micropython-v1_23_0-docstubs\\machine\\ADCWiPy.pyi\u001b[0m\n"
      ]
     },
     "metadata": {},
     "output_type": "display_data"
    },
    {
     "data": {
      "text/html": [
       "<pre style=\"white-space:pre;overflow-x:auto;line-height:normal;font-family:Menlo,'DejaVu Sans Mono',consolas,'Courier New',monospace\"><span style=\"color: #008000; text-decoration-color: #008000\">16:15:27</span> | ℹ️ <span style=\"font-weight: bold\"> - Writing to: repos\\micropython-stubs\\stubs\\micropython-v1_23_0-docstubs\\machine\\I2C.pyi</span>\n",
       "</pre>\n"
      ],
      "text/plain": [
       "\u001b[32m16:15:27\u001b[0m | ℹ️ \u001b[1m - Writing to: repos\\micropython-stubs\\stubs\\micropython-v1_23_0-docstubs\\machine\\I2C.pyi\u001b[0m\n"
      ]
     },
     "metadata": {},
     "output_type": "display_data"
    },
    {
     "data": {
      "text/html": [
       "<pre style=\"white-space:pre;overflow-x:auto;line-height:normal;font-family:Menlo,'DejaVu Sans Mono',consolas,'Courier New',monospace\"><span style=\"color: #008000; text-decoration-color: #008000\">16:15:27</span> | ℹ️ <span style=\"font-weight: bold\"> - Writing to: repos\\micropython-stubs\\stubs\\micropython-v1_23_0-docstubs\\machine\\I2S.pyi</span>\n",
       "</pre>\n"
      ],
      "text/plain": [
       "\u001b[32m16:15:27\u001b[0m | ℹ️ \u001b[1m - Writing to: repos\\micropython-stubs\\stubs\\micropython-v1_23_0-docstubs\\machine\\I2S.pyi\u001b[0m\n"
      ]
     },
     "metadata": {},
     "output_type": "display_data"
    },
    {
     "data": {
      "text/html": [
       "<pre style=\"white-space:pre;overflow-x:auto;line-height:normal;font-family:Menlo,'DejaVu Sans Mono',consolas,'Courier New',monospace\"><span style=\"color: #008000; text-decoration-color: #008000\">16:15:27</span> | ℹ️ <span style=\"font-weight: bold\"> - Writing to: repos\\micropython-stubs\\stubs\\micropython-v1_23_0-docstubs\\machine\\Pin.pyi</span>\n",
       "</pre>\n"
      ],
      "text/plain": [
       "\u001b[32m16:15:27\u001b[0m | ℹ️ \u001b[1m - Writing to: repos\\micropython-stubs\\stubs\\micropython-v1_23_0-docstubs\\machine\\Pin.pyi\u001b[0m\n"
      ]
     },
     "metadata": {},
     "output_type": "display_data"
    },
    {
     "data": {
      "text/html": [
       "<pre style=\"white-space:pre;overflow-x:auto;line-height:normal;font-family:Menlo,'DejaVu Sans Mono',consolas,'Courier New',monospace\"><span style=\"color: #008000; text-decoration-color: #008000\">16:15:27</span> | ℹ️ <span style=\"font-weight: bold\"> - Writing to: repos\\micropython-stubs\\stubs\\micropython-v1_23_0-docstubs\\machine\\PWM.pyi</span>\n",
       "</pre>\n"
      ],
      "text/plain": [
       "\u001b[32m16:15:27\u001b[0m | ℹ️ \u001b[1m - Writing to: repos\\micropython-stubs\\stubs\\micropython-v1_23_0-docstubs\\machine\\PWM.pyi\u001b[0m\n"
      ]
     },
     "metadata": {},
     "output_type": "display_data"
    },
    {
     "data": {
      "text/html": [
       "<pre style=\"white-space:pre;overflow-x:auto;line-height:normal;font-family:Menlo,'DejaVu Sans Mono',consolas,'Courier New',monospace\"><span style=\"color: #008000; text-decoration-color: #008000\">16:15:27</span> | ℹ️ <span style=\"font-weight: bold\"> - Writing to: repos\\micropython-stubs\\stubs\\micropython-v1_23_0-docstubs\\machine\\__init__.pyi</span>\n",
       "</pre>\n"
      ],
      "text/plain": [
       "\u001b[32m16:15:27\u001b[0m | ℹ️ \u001b[1m - Writing to: repos\\micropython-stubs\\stubs\\micropython-v1_23_0-docstubs\\machine\\__init__.pyi\u001b[0m\n"
      ]
     },
     "metadata": {},
     "output_type": "display_data"
    },
    {
     "data": {
      "text/html": [
       "<pre style=\"white-space:pre;overflow-x:auto;line-height:normal;font-family:Menlo,'DejaVu Sans Mono',consolas,'Courier New',monospace\"><span style=\"color: #008000; text-decoration-color: #008000\">16:15:27</span> | ℹ️ <span style=\"font-weight: bold\"> - Writing to: repos\\micropython-stubs\\stubs\\micropython-v1_23_0-docstubs\\machine\\RTC.pyi</span>\n",
       "</pre>\n"
      ],
      "text/plain": [
       "\u001b[32m16:15:27\u001b[0m | ℹ️ \u001b[1m - Writing to: repos\\micropython-stubs\\stubs\\micropython-v1_23_0-docstubs\\machine\\RTC.pyi\u001b[0m\n"
      ]
     },
     "metadata": {},
     "output_type": "display_data"
    },
    {
     "data": {
      "text/html": [
       "<pre style=\"white-space:pre;overflow-x:auto;line-height:normal;font-family:Menlo,'DejaVu Sans Mono',consolas,'Courier New',monospace\"><span style=\"color: #008000; text-decoration-color: #008000\">16:15:27</span> | ℹ️ <span style=\"font-weight: bold\"> - Writing to: repos\\micropython-stubs\\stubs\\micropython-v1_23_0-docstubs\\machine\\SD.pyi</span>\n",
       "</pre>\n"
      ],
      "text/plain": [
       "\u001b[32m16:15:27\u001b[0m | ℹ️ \u001b[1m - Writing to: repos\\micropython-stubs\\stubs\\micropython-v1_23_0-docstubs\\machine\\SD.pyi\u001b[0m\n"
      ]
     },
     "metadata": {},
     "output_type": "display_data"
    },
    {
     "data": {
      "text/html": [
       "<pre style=\"white-space:pre;overflow-x:auto;line-height:normal;font-family:Menlo,'DejaVu Sans Mono',consolas,'Courier New',monospace\"><span style=\"color: #008000; text-decoration-color: #008000\">16:15:27</span> | ℹ️ <span style=\"font-weight: bold\"> - Writing to: repos\\micropython-stubs\\stubs\\micropython-v1_23_0-docstubs\\machine\\SDCard.pyi</span>\n",
       "</pre>\n"
      ],
      "text/plain": [
       "\u001b[32m16:15:27\u001b[0m | ℹ️ \u001b[1m - Writing to: repos\\micropython-stubs\\stubs\\micropython-v1_23_0-docstubs\\machine\\SDCard.pyi\u001b[0m\n"
      ]
     },
     "metadata": {},
     "output_type": "display_data"
    },
    {
     "data": {
      "text/html": [
       "<pre style=\"white-space:pre;overflow-x:auto;line-height:normal;font-family:Menlo,'DejaVu Sans Mono',consolas,'Courier New',monospace\"><span style=\"color: #008000; text-decoration-color: #008000\">16:15:27</span> | ℹ️ <span style=\"font-weight: bold\"> - Writing to: repos\\micropython-stubs\\stubs\\micropython-v1_23_0-docstubs\\machine\\Signal.pyi</span>\n",
       "</pre>\n"
      ],
      "text/plain": [
       "\u001b[32m16:15:27\u001b[0m | ℹ️ \u001b[1m - Writing to: repos\\micropython-stubs\\stubs\\micropython-v1_23_0-docstubs\\machine\\Signal.pyi\u001b[0m\n"
      ]
     },
     "metadata": {},
     "output_type": "display_data"
    },
    {
     "data": {
      "text/html": [
       "<pre style=\"white-space:pre;overflow-x:auto;line-height:normal;font-family:Menlo,'DejaVu Sans Mono',consolas,'Courier New',monospace\"><span style=\"color: #008000; text-decoration-color: #008000\">16:15:27</span> | ℹ️ <span style=\"font-weight: bold\"> - Writing to: repos\\micropython-stubs\\stubs\\micropython-v1_23_0-docstubs\\machine\\SPI.pyi</span>\n",
       "</pre>\n"
      ],
      "text/plain": [
       "\u001b[32m16:15:27\u001b[0m | ℹ️ \u001b[1m - Writing to: repos\\micropython-stubs\\stubs\\micropython-v1_23_0-docstubs\\machine\\SPI.pyi\u001b[0m\n"
      ]
     },
     "metadata": {},
     "output_type": "display_data"
    },
    {
     "data": {
      "text/html": [
       "<pre style=\"white-space:pre;overflow-x:auto;line-height:normal;font-family:Menlo,'DejaVu Sans Mono',consolas,'Courier New',monospace\"><span style=\"color: #008000; text-decoration-color: #008000\">16:15:27</span> | ℹ️ <span style=\"font-weight: bold\"> - Writing to: repos\\micropython-stubs\\stubs\\micropython-v1_23_0-docstubs\\machine\\Timer.pyi</span>\n",
       "</pre>\n"
      ],
      "text/plain": [
       "\u001b[32m16:15:27\u001b[0m | ℹ️ \u001b[1m - Writing to: repos\\micropython-stubs\\stubs\\micropython-v1_23_0-docstubs\\machine\\Timer.pyi\u001b[0m\n"
      ]
     },
     "metadata": {},
     "output_type": "display_data"
    },
    {
     "data": {
      "text/html": [
       "<pre style=\"white-space:pre;overflow-x:auto;line-height:normal;font-family:Menlo,'DejaVu Sans Mono',consolas,'Courier New',monospace\"><span style=\"color: #008000; text-decoration-color: #008000\">16:15:27</span> | ℹ️ <span style=\"font-weight: bold\"> - Writing to: repos\\micropython-stubs\\stubs\\micropython-v1_23_0-docstubs\\machine\\TimerWiPy.pyi</span>\n",
       "</pre>\n"
      ],
      "text/plain": [
       "\u001b[32m16:15:27\u001b[0m | ℹ️ \u001b[1m - Writing to: repos\\micropython-stubs\\stubs\\micropython-v1_23_0-docstubs\\machine\\TimerWiPy.pyi\u001b[0m\n"
      ]
     },
     "metadata": {},
     "output_type": "display_data"
    },
    {
     "data": {
      "text/html": [
       "<pre style=\"white-space:pre;overflow-x:auto;line-height:normal;font-family:Menlo,'DejaVu Sans Mono',consolas,'Courier New',monospace\"><span style=\"color: #008000; text-decoration-color: #008000\">16:15:27</span> | ℹ️ <span style=\"font-weight: bold\"> - Writing to: repos\\micropython-stubs\\stubs\\micropython-v1_23_0-docstubs\\machine\\UART.pyi</span>\n",
       "</pre>\n"
      ],
      "text/plain": [
       "\u001b[32m16:15:27\u001b[0m | ℹ️ \u001b[1m - Writing to: repos\\micropython-stubs\\stubs\\micropython-v1_23_0-docstubs\\machine\\UART.pyi\u001b[0m\n"
      ]
     },
     "metadata": {},
     "output_type": "display_data"
    },
    {
     "data": {
      "text/html": [
       "<pre style=\"white-space:pre;overflow-x:auto;line-height:normal;font-family:Menlo,'DejaVu Sans Mono',consolas,'Courier New',monospace\"><span style=\"color: #008000; text-decoration-color: #008000\">16:15:27</span> | ℹ️ <span style=\"font-weight: bold\"> - Writing to: repos\\micropython-stubs\\stubs\\micropython-v1_23_0-docstubs\\machine\\USBDevice.pyi</span>\n",
       "</pre>\n"
      ],
      "text/plain": [
       "\u001b[32m16:15:27\u001b[0m | ℹ️ \u001b[1m - Writing to: repos\\micropython-stubs\\stubs\\micropython-v1_23_0-docstubs\\machine\\USBDevice.pyi\u001b[0m\n"
      ]
     },
     "metadata": {},
     "output_type": "display_data"
    },
    {
     "data": {
      "text/html": [
       "<pre style=\"white-space:pre;overflow-x:auto;line-height:normal;font-family:Menlo,'DejaVu Sans Mono',consolas,'Courier New',monospace\"><span style=\"color: #008000; text-decoration-color: #008000\">16:15:27</span> | ℹ️ <span style=\"font-weight: bold\"> - Writing to: repos\\micropython-stubs\\stubs\\micropython-v1_23_0-docstubs\\machine\\WDT.pyi</span>\n",
       "</pre>\n"
      ],
      "text/plain": [
       "\u001b[32m16:15:27\u001b[0m | ℹ️ \u001b[1m - Writing to: repos\\micropython-stubs\\stubs\\micropython-v1_23_0-docstubs\\machine\\WDT.pyi\u001b[0m\n"
      ]
     },
     "metadata": {},
     "output_type": "display_data"
    },
    {
     "data": {
      "text/html": [
       "<pre style=\"white-space:pre;overflow-x:auto;line-height:normal;font-family:Menlo,'DejaVu Sans Mono',consolas,'Courier New',monospace\"><span style=\"color: #008000; text-decoration-color: #008000\">16:15:27</span> | ℹ️ <span style=\"font-weight: bold\"> - Writing to: repos\\micropython-stubs\\stubs\\micropython-v1_23_0-docstubs\\math\\__init__.pyi</span>\n",
       "</pre>\n"
      ],
      "text/plain": [
       "\u001b[32m16:15:27\u001b[0m | ℹ️ \u001b[1m - Writing to: repos\\micropython-stubs\\stubs\\micropython-v1_23_0-docstubs\\math\\__init__.pyi\u001b[0m\n"
      ]
     },
     "metadata": {},
     "output_type": "display_data"
    },
    {
     "data": {
      "text/html": [
       "<pre style=\"white-space:pre;overflow-x:auto;line-height:normal;font-family:Menlo,'DejaVu Sans Mono',consolas,'Courier New',monospace\"><span style=\"color: #008000; text-decoration-color: #008000\">16:15:27</span> | ℹ️ <span style=\"font-weight: bold\"> - Writing to: repos\\micropython-stubs\\stubs\\micropython-v1_23_0-docstubs\\micropython\\__init__.pyi</span>\n",
       "</pre>\n"
      ],
      "text/plain": [
       "\u001b[32m16:15:27\u001b[0m | ℹ️ \u001b[1m - Writing to: repos\\micropython-stubs\\stubs\\micropython-v1_23_0-docstubs\\micropython\\__init__.pyi\u001b[0m\n"
      ]
     },
     "metadata": {},
     "output_type": "display_data"
    },
    {
     "data": {
      "text/html": [
       "<pre style=\"white-space:pre;overflow-x:auto;line-height:normal;font-family:Menlo,'DejaVu Sans Mono',consolas,'Courier New',monospace\"><span style=\"color: #008000; text-decoration-color: #008000\">16:15:27</span> | ℹ️ <span style=\"font-weight: bold\"> - Writing to: repos\\micropython-stubs\\stubs\\micropython-v1_23_0-docstubs\\neopixel\\__init__.pyi</span>\n",
       "</pre>\n"
      ],
      "text/plain": [
       "\u001b[32m16:15:27\u001b[0m | ℹ️ \u001b[1m - Writing to: repos\\micropython-stubs\\stubs\\micropython-v1_23_0-docstubs\\neopixel\\__init__.pyi\u001b[0m\n"
      ]
     },
     "metadata": {},
     "output_type": "display_data"
    },
    {
     "data": {
      "text/html": [
       "<pre style=\"white-space:pre;overflow-x:auto;line-height:normal;font-family:Menlo,'DejaVu Sans Mono',consolas,'Courier New',monospace\"><span style=\"color: #008000; text-decoration-color: #008000\">16:15:27</span> | ℹ️ <span style=\"font-weight: bold\"> - Writing to: repos\\micropython-stubs\\stubs\\micropython-v1_23_0-docstubs\\network\\LAN.pyi</span>\n",
       "</pre>\n"
      ],
      "text/plain": [
       "\u001b[32m16:15:27\u001b[0m | ℹ️ \u001b[1m - Writing to: repos\\micropython-stubs\\stubs\\micropython-v1_23_0-docstubs\\network\\LAN.pyi\u001b[0m\n"
      ]
     },
     "metadata": {},
     "output_type": "display_data"
    },
    {
     "data": {
      "text/html": [
       "<pre style=\"white-space:pre;overflow-x:auto;line-height:normal;font-family:Menlo,'DejaVu Sans Mono',consolas,'Courier New',monospace\"><span style=\"color: #008000; text-decoration-color: #008000\">16:15:27</span> | ℹ️ <span style=\"font-weight: bold\"> - Writing to: repos\\micropython-stubs\\stubs\\micropython-v1_23_0-docstubs\\network\\__init__.pyi</span>\n",
       "</pre>\n"
      ],
      "text/plain": [
       "\u001b[32m16:15:27\u001b[0m | ℹ️ \u001b[1m - Writing to: repos\\micropython-stubs\\stubs\\micropython-v1_23_0-docstubs\\network\\__init__.pyi\u001b[0m\n"
      ]
     },
     "metadata": {},
     "output_type": "display_data"
    },
    {
     "data": {
      "text/html": [
       "<pre style=\"white-space:pre;overflow-x:auto;line-height:normal;font-family:Menlo,'DejaVu Sans Mono',consolas,'Courier New',monospace\"><span style=\"color: #008000; text-decoration-color: #008000\">16:15:27</span> | ℹ️ <span style=\"font-weight: bold\"> - Writing to: repos\\micropython-stubs\\stubs\\micropython-v1_23_0-docstubs\\network\\WIZNET5K.pyi</span>\n",
       "</pre>\n"
      ],
      "text/plain": [
       "\u001b[32m16:15:27\u001b[0m | ℹ️ \u001b[1m - Writing to: repos\\micropython-stubs\\stubs\\micropython-v1_23_0-docstubs\\network\\WIZNET5K.pyi\u001b[0m\n"
      ]
     },
     "metadata": {},
     "output_type": "display_data"
    },
    {
     "data": {
      "text/html": [
       "<pre style=\"white-space:pre;overflow-x:auto;line-height:normal;font-family:Menlo,'DejaVu Sans Mono',consolas,'Courier New',monospace\"><span style=\"color: #008000; text-decoration-color: #008000\">16:15:27</span> | ℹ️ <span style=\"font-weight: bold\"> - Writing to: repos\\micropython-stubs\\stubs\\micropython-v1_23_0-docstubs\\network\\WLAN.pyi</span>\n",
       "</pre>\n"
      ],
      "text/plain": [
       "\u001b[32m16:15:27\u001b[0m | ℹ️ \u001b[1m - Writing to: repos\\micropython-stubs\\stubs\\micropython-v1_23_0-docstubs\\network\\WLAN.pyi\u001b[0m\n"
      ]
     },
     "metadata": {},
     "output_type": "display_data"
    },
    {
     "data": {
      "text/html": [
       "<pre style=\"white-space:pre;overflow-x:auto;line-height:normal;font-family:Menlo,'DejaVu Sans Mono',consolas,'Courier New',monospace\"><span style=\"color: #008000; text-decoration-color: #008000\">16:15:27</span> | ℹ️ <span style=\"font-weight: bold\"> - Writing to: repos\\micropython-stubs\\stubs\\micropython-v1_23_0-docstubs\\network\\WLANWiPy.pyi</span>\n",
       "</pre>\n"
      ],
      "text/plain": [
       "\u001b[32m16:15:27\u001b[0m | ℹ️ \u001b[1m - Writing to: repos\\micropython-stubs\\stubs\\micropython-v1_23_0-docstubs\\network\\WLANWiPy.pyi\u001b[0m\n"
      ]
     },
     "metadata": {},
     "output_type": "display_data"
    },
    {
     "data": {
      "text/html": [
       "<pre style=\"white-space:pre;overflow-x:auto;line-height:normal;font-family:Menlo,'DejaVu Sans Mono',consolas,'Courier New',monospace\"><span style=\"color: #008000; text-decoration-color: #008000\">16:15:27</span> | ℹ️ <span style=\"font-weight: bold\"> - Writing to: repos\\micropython-stubs\\stubs\\micropython-v1_23_0-docstubs\\openamp\\__init__.pyi</span>\n",
       "</pre>\n"
      ],
      "text/plain": [
       "\u001b[32m16:15:27\u001b[0m | ℹ️ \u001b[1m - Writing to: repos\\micropython-stubs\\stubs\\micropython-v1_23_0-docstubs\\openamp\\__init__.pyi\u001b[0m\n"
      ]
     },
     "metadata": {},
     "output_type": "display_data"
    },
    {
     "data": {
      "text/html": [
       "<pre style=\"white-space:pre;overflow-x:auto;line-height:normal;font-family:Menlo,'DejaVu Sans Mono',consolas,'Courier New',monospace\"><span style=\"color: #008000; text-decoration-color: #008000\">16:15:27</span> | ℹ️ <span style=\"font-weight: bold\"> - Writing to: repos\\micropython-stubs\\stubs\\micropython-v1_23_0-docstubs\\os\\__init__.pyi</span>\n",
       "</pre>\n"
      ],
      "text/plain": [
       "\u001b[32m16:15:27\u001b[0m | ℹ️ \u001b[1m - Writing to: repos\\micropython-stubs\\stubs\\micropython-v1_23_0-docstubs\\os\\__init__.pyi\u001b[0m\n"
      ]
     },
     "metadata": {},
     "output_type": "display_data"
    },
    {
     "data": {
      "text/html": [
       "<pre style=\"white-space:pre;overflow-x:auto;line-height:normal;font-family:Menlo,'DejaVu Sans Mono',consolas,'Courier New',monospace\"><span style=\"color: #008000; text-decoration-color: #008000\">16:15:27</span> | ℹ️ <span style=\"font-weight: bold\"> - Writing to: repos\\micropython-stubs\\stubs\\micropython-v1_23_0-docstubs\\platform\\__init__.pyi</span>\n",
       "</pre>\n"
      ],
      "text/plain": [
       "\u001b[32m16:15:27\u001b[0m | ℹ️ \u001b[1m - Writing to: repos\\micropython-stubs\\stubs\\micropython-v1_23_0-docstubs\\platform\\__init__.pyi\u001b[0m\n"
      ]
     },
     "metadata": {},
     "output_type": "display_data"
    },
    {
     "data": {
      "text/html": [
       "<pre style=\"white-space:pre;overflow-x:auto;line-height:normal;font-family:Menlo,'DejaVu Sans Mono',consolas,'Courier New',monospace\"><span style=\"color: #008000; text-decoration-color: #008000\">16:15:27</span> | ℹ️ <span style=\"font-weight: bold\"> - Writing to: repos\\micropython-stubs\\stubs\\micropython-v1_23_0-docstubs\\pyb\\Accel.pyi</span>\n",
       "</pre>\n"
      ],
      "text/plain": [
       "\u001b[32m16:15:27\u001b[0m | ℹ️ \u001b[1m - Writing to: repos\\micropython-stubs\\stubs\\micropython-v1_23_0-docstubs\\pyb\\Accel.pyi\u001b[0m\n"
      ]
     },
     "metadata": {},
     "output_type": "display_data"
    },
    {
     "data": {
      "text/html": [
       "<pre style=\"white-space:pre;overflow-x:auto;line-height:normal;font-family:Menlo,'DejaVu Sans Mono',consolas,'Courier New',monospace\"><span style=\"color: #008000; text-decoration-color: #008000\">16:15:27</span> | ℹ️ <span style=\"font-weight: bold\"> - Writing to: repos\\micropython-stubs\\stubs\\micropython-v1_23_0-docstubs\\pyb\\ADC.pyi</span>\n",
       "</pre>\n"
      ],
      "text/plain": [
       "\u001b[32m16:15:27\u001b[0m | ℹ️ \u001b[1m - Writing to: repos\\micropython-stubs\\stubs\\micropython-v1_23_0-docstubs\\pyb\\ADC.pyi\u001b[0m\n"
      ]
     },
     "metadata": {},
     "output_type": "display_data"
    },
    {
     "data": {
      "text/html": [
       "<pre style=\"white-space:pre;overflow-x:auto;line-height:normal;font-family:Menlo,'DejaVu Sans Mono',consolas,'Courier New',monospace\"><span style=\"color: #008000; text-decoration-color: #008000\">16:15:27</span> | ℹ️ <span style=\"font-weight: bold\"> - Writing to: repos\\micropython-stubs\\stubs\\micropython-v1_23_0-docstubs\\pyb\\CAN.pyi</span>\n",
       "</pre>\n"
      ],
      "text/plain": [
       "\u001b[32m16:15:27\u001b[0m | ℹ️ \u001b[1m - Writing to: repos\\micropython-stubs\\stubs\\micropython-v1_23_0-docstubs\\pyb\\CAN.pyi\u001b[0m\n"
      ]
     },
     "metadata": {},
     "output_type": "display_data"
    },
    {
     "data": {
      "text/html": [
       "<pre style=\"white-space:pre;overflow-x:auto;line-height:normal;font-family:Menlo,'DejaVu Sans Mono',consolas,'Courier New',monospace\"><span style=\"color: #008000; text-decoration-color: #008000\">16:15:27</span> | ℹ️ <span style=\"font-weight: bold\"> - Writing to: repos\\micropython-stubs\\stubs\\micropython-v1_23_0-docstubs\\pyb\\DAC.pyi</span>\n",
       "</pre>\n"
      ],
      "text/plain": [
       "\u001b[32m16:15:27\u001b[0m | ℹ️ \u001b[1m - Writing to: repos\\micropython-stubs\\stubs\\micropython-v1_23_0-docstubs\\pyb\\DAC.pyi\u001b[0m\n"
      ]
     },
     "metadata": {},
     "output_type": "display_data"
    },
    {
     "data": {
      "text/html": [
       "<pre style=\"white-space:pre;overflow-x:auto;line-height:normal;font-family:Menlo,'DejaVu Sans Mono',consolas,'Courier New',monospace\"><span style=\"color: #008000; text-decoration-color: #008000\">16:15:27</span> | ℹ️ <span style=\"font-weight: bold\"> - Writing to: repos\\micropython-stubs\\stubs\\micropython-v1_23_0-docstubs\\pyb\\ExtInt.pyi</span>\n",
       "</pre>\n"
      ],
      "text/plain": [
       "\u001b[32m16:15:27\u001b[0m | ℹ️ \u001b[1m - Writing to: repos\\micropython-stubs\\stubs\\micropython-v1_23_0-docstubs\\pyb\\ExtInt.pyi\u001b[0m\n"
      ]
     },
     "metadata": {},
     "output_type": "display_data"
    },
    {
     "data": {
      "text/html": [
       "<pre style=\"white-space:pre;overflow-x:auto;line-height:normal;font-family:Menlo,'DejaVu Sans Mono',consolas,'Courier New',monospace\"><span style=\"color: #008000; text-decoration-color: #008000\">16:15:27</span> | ℹ️ <span style=\"font-weight: bold\"> - Writing to: repos\\micropython-stubs\\stubs\\micropython-v1_23_0-docstubs\\pyb\\Flash.pyi</span>\n",
       "</pre>\n"
      ],
      "text/plain": [
       "\u001b[32m16:15:27\u001b[0m | ℹ️ \u001b[1m - Writing to: repos\\micropython-stubs\\stubs\\micropython-v1_23_0-docstubs\\pyb\\Flash.pyi\u001b[0m\n"
      ]
     },
     "metadata": {},
     "output_type": "display_data"
    },
    {
     "data": {
      "text/html": [
       "<pre style=\"white-space:pre;overflow-x:auto;line-height:normal;font-family:Menlo,'DejaVu Sans Mono',consolas,'Courier New',monospace\"><span style=\"color: #008000; text-decoration-color: #008000\">16:15:27</span> | ℹ️ <span style=\"font-weight: bold\"> - Writing to: repos\\micropython-stubs\\stubs\\micropython-v1_23_0-docstubs\\pyb\\I2C.pyi</span>\n",
       "</pre>\n"
      ],
      "text/plain": [
       "\u001b[32m16:15:27\u001b[0m | ℹ️ \u001b[1m - Writing to: repos\\micropython-stubs\\stubs\\micropython-v1_23_0-docstubs\\pyb\\I2C.pyi\u001b[0m\n"
      ]
     },
     "metadata": {},
     "output_type": "display_data"
    },
    {
     "data": {
      "text/html": [
       "<pre style=\"white-space:pre;overflow-x:auto;line-height:normal;font-family:Menlo,'DejaVu Sans Mono',consolas,'Courier New',monospace\"><span style=\"color: #008000; text-decoration-color: #008000\">16:15:27</span> | ℹ️ <span style=\"font-weight: bold\"> - Writing to: repos\\micropython-stubs\\stubs\\micropython-v1_23_0-docstubs\\pyb\\LCD.pyi</span>\n",
       "</pre>\n"
      ],
      "text/plain": [
       "\u001b[32m16:15:27\u001b[0m | ℹ️ \u001b[1m - Writing to: repos\\micropython-stubs\\stubs\\micropython-v1_23_0-docstubs\\pyb\\LCD.pyi\u001b[0m\n"
      ]
     },
     "metadata": {},
     "output_type": "display_data"
    },
    {
     "data": {
      "text/html": [
       "<pre style=\"white-space:pre;overflow-x:auto;line-height:normal;font-family:Menlo,'DejaVu Sans Mono',consolas,'Courier New',monospace\"><span style=\"color: #008000; text-decoration-color: #008000\">16:15:27</span> | ℹ️ <span style=\"font-weight: bold\"> - Writing to: repos\\micropython-stubs\\stubs\\micropython-v1_23_0-docstubs\\pyb\\LED.pyi</span>\n",
       "</pre>\n"
      ],
      "text/plain": [
       "\u001b[32m16:15:27\u001b[0m | ℹ️ \u001b[1m - Writing to: repos\\micropython-stubs\\stubs\\micropython-v1_23_0-docstubs\\pyb\\LED.pyi\u001b[0m\n"
      ]
     },
     "metadata": {},
     "output_type": "display_data"
    },
    {
     "data": {
      "text/html": [
       "<pre style=\"white-space:pre;overflow-x:auto;line-height:normal;font-family:Menlo,'DejaVu Sans Mono',consolas,'Courier New',monospace\"><span style=\"color: #008000; text-decoration-color: #008000\">16:15:27</span> | ℹ️ <span style=\"font-weight: bold\"> - Writing to: repos\\micropython-stubs\\stubs\\micropython-v1_23_0-docstubs\\pyb\\Pin.pyi</span>\n",
       "</pre>\n"
      ],
      "text/plain": [
       "\u001b[32m16:15:27\u001b[0m | ℹ️ \u001b[1m - Writing to: repos\\micropython-stubs\\stubs\\micropython-v1_23_0-docstubs\\pyb\\Pin.pyi\u001b[0m\n"
      ]
     },
     "metadata": {},
     "output_type": "display_data"
    },
    {
     "data": {
      "text/html": [
       "<pre style=\"white-space:pre;overflow-x:auto;line-height:normal;font-family:Menlo,'DejaVu Sans Mono',consolas,'Courier New',monospace\"><span style=\"color: #008000; text-decoration-color: #008000\">16:15:27</span> | ℹ️ <span style=\"font-weight: bold\"> - Writing to: repos\\micropython-stubs\\stubs\\micropython-v1_23_0-docstubs\\pyb\\__init__.pyi</span>\n",
       "</pre>\n"
      ],
      "text/plain": [
       "\u001b[32m16:15:27\u001b[0m | ℹ️ \u001b[1m - Writing to: repos\\micropython-stubs\\stubs\\micropython-v1_23_0-docstubs\\pyb\\__init__.pyi\u001b[0m\n"
      ]
     },
     "metadata": {},
     "output_type": "display_data"
    },
    {
     "data": {
      "text/html": [
       "<pre style=\"white-space:pre;overflow-x:auto;line-height:normal;font-family:Menlo,'DejaVu Sans Mono',consolas,'Courier New',monospace\"><span style=\"color: #008000; text-decoration-color: #008000\">16:15:27</span> | ℹ️ <span style=\"font-weight: bold\"> - Writing to: repos\\micropython-stubs\\stubs\\micropython-v1_23_0-docstubs\\pyb\\RTC.pyi</span>\n",
       "</pre>\n"
      ],
      "text/plain": [
       "\u001b[32m16:15:27\u001b[0m | ℹ️ \u001b[1m - Writing to: repos\\micropython-stubs\\stubs\\micropython-v1_23_0-docstubs\\pyb\\RTC.pyi\u001b[0m\n"
      ]
     },
     "metadata": {},
     "output_type": "display_data"
    },
    {
     "data": {
      "text/html": [
       "<pre style=\"white-space:pre;overflow-x:auto;line-height:normal;font-family:Menlo,'DejaVu Sans Mono',consolas,'Courier New',monospace\"><span style=\"color: #008000; text-decoration-color: #008000\">16:15:27</span> | ℹ️ <span style=\"font-weight: bold\"> - Writing to: repos\\micropython-stubs\\stubs\\micropython-v1_23_0-docstubs\\pyb\\Servo.pyi</span>\n",
       "</pre>\n"
      ],
      "text/plain": [
       "\u001b[32m16:15:27\u001b[0m | ℹ️ \u001b[1m - Writing to: repos\\micropython-stubs\\stubs\\micropython-v1_23_0-docstubs\\pyb\\Servo.pyi\u001b[0m\n"
      ]
     },
     "metadata": {},
     "output_type": "display_data"
    },
    {
     "data": {
      "text/html": [
       "<pre style=\"white-space:pre;overflow-x:auto;line-height:normal;font-family:Menlo,'DejaVu Sans Mono',consolas,'Courier New',monospace\"><span style=\"color: #008000; text-decoration-color: #008000\">16:15:27</span> | ℹ️ <span style=\"font-weight: bold\"> - Writing to: repos\\micropython-stubs\\stubs\\micropython-v1_23_0-docstubs\\pyb\\SPI.pyi</span>\n",
       "</pre>\n"
      ],
      "text/plain": [
       "\u001b[32m16:15:27\u001b[0m | ℹ️ \u001b[1m - Writing to: repos\\micropython-stubs\\stubs\\micropython-v1_23_0-docstubs\\pyb\\SPI.pyi\u001b[0m\n"
      ]
     },
     "metadata": {},
     "output_type": "display_data"
    },
    {
     "data": {
      "text/html": [
       "<pre style=\"white-space:pre;overflow-x:auto;line-height:normal;font-family:Menlo,'DejaVu Sans Mono',consolas,'Courier New',monospace\"><span style=\"color: #008000; text-decoration-color: #008000\">16:15:27</span> | ℹ️ <span style=\"font-weight: bold\"> - Writing to: repos\\micropython-stubs\\stubs\\micropython-v1_23_0-docstubs\\pyb\\Switch.pyi</span>\n",
       "</pre>\n"
      ],
      "text/plain": [
       "\u001b[32m16:15:27\u001b[0m | ℹ️ \u001b[1m - Writing to: repos\\micropython-stubs\\stubs\\micropython-v1_23_0-docstubs\\pyb\\Switch.pyi\u001b[0m\n"
      ]
     },
     "metadata": {},
     "output_type": "display_data"
    },
    {
     "data": {
      "text/html": [
       "<pre style=\"white-space:pre;overflow-x:auto;line-height:normal;font-family:Menlo,'DejaVu Sans Mono',consolas,'Courier New',monospace\"><span style=\"color: #008000; text-decoration-color: #008000\">16:15:27</span> | ℹ️ <span style=\"font-weight: bold\"> - Writing to: repos\\micropython-stubs\\stubs\\micropython-v1_23_0-docstubs\\pyb\\Timer.pyi</span>\n",
       "</pre>\n"
      ],
      "text/plain": [
       "\u001b[32m16:15:27\u001b[0m | ℹ️ \u001b[1m - Writing to: repos\\micropython-stubs\\stubs\\micropython-v1_23_0-docstubs\\pyb\\Timer.pyi\u001b[0m\n"
      ]
     },
     "metadata": {},
     "output_type": "display_data"
    },
    {
     "data": {
      "text/html": [
       "<pre style=\"white-space:pre;overflow-x:auto;line-height:normal;font-family:Menlo,'DejaVu Sans Mono',consolas,'Courier New',monospace\"><span style=\"color: #008000; text-decoration-color: #008000\">16:15:27</span> | ℹ️ <span style=\"font-weight: bold\"> - Writing to: repos\\micropython-stubs\\stubs\\micropython-v1_23_0-docstubs\\pyb\\UART.pyi</span>\n",
       "</pre>\n"
      ],
      "text/plain": [
       "\u001b[32m16:15:27\u001b[0m | ℹ️ \u001b[1m - Writing to: repos\\micropython-stubs\\stubs\\micropython-v1_23_0-docstubs\\pyb\\UART.pyi\u001b[0m\n"
      ]
     },
     "metadata": {},
     "output_type": "display_data"
    },
    {
     "data": {
      "text/html": [
       "<pre style=\"white-space:pre;overflow-x:auto;line-height:normal;font-family:Menlo,'DejaVu Sans Mono',consolas,'Courier New',monospace\"><span style=\"color: #008000; text-decoration-color: #008000\">16:15:27</span> | ℹ️ <span style=\"font-weight: bold\"> - Writing to: repos\\micropython-stubs\\stubs\\micropython-v1_23_0-docstubs\\pyb\\USB_HID.pyi</span>\n",
       "</pre>\n"
      ],
      "text/plain": [
       "\u001b[32m16:15:27\u001b[0m | ℹ️ \u001b[1m - Writing to: repos\\micropython-stubs\\stubs\\micropython-v1_23_0-docstubs\\pyb\\USB_HID.pyi\u001b[0m\n"
      ]
     },
     "metadata": {},
     "output_type": "display_data"
    },
    {
     "data": {
      "text/html": [
       "<pre style=\"white-space:pre;overflow-x:auto;line-height:normal;font-family:Menlo,'DejaVu Sans Mono',consolas,'Courier New',monospace\"><span style=\"color: #008000; text-decoration-color: #008000\">16:15:27</span> | ℹ️ <span style=\"font-weight: bold\"> - Writing to: repos\\micropython-stubs\\stubs\\micropython-v1_23_0-docstubs\\pyb\\USB_VCP.pyi</span>\n",
       "</pre>\n"
      ],
      "text/plain": [
       "\u001b[32m16:15:27\u001b[0m | ℹ️ \u001b[1m - Writing to: repos\\micropython-stubs\\stubs\\micropython-v1_23_0-docstubs\\pyb\\USB_VCP.pyi\u001b[0m\n"
      ]
     },
     "metadata": {},
     "output_type": "display_data"
    },
    {
     "data": {
      "text/html": [
       "<pre style=\"white-space:pre;overflow-x:auto;line-height:normal;font-family:Menlo,'DejaVu Sans Mono',consolas,'Courier New',monospace\"><span style=\"color: #008000; text-decoration-color: #008000\">16:15:27</span> | ℹ️ <span style=\"font-weight: bold\"> - Writing to: repos\\micropython-stubs\\stubs\\micropython-v1_23_0-docstubs\\random\\__init__.pyi</span>\n",
       "</pre>\n"
      ],
      "text/plain": [
       "\u001b[32m16:15:27\u001b[0m | ℹ️ \u001b[1m - Writing to: repos\\micropython-stubs\\stubs\\micropython-v1_23_0-docstubs\\random\\__init__.pyi\u001b[0m\n"
      ]
     },
     "metadata": {},
     "output_type": "display_data"
    },
    {
     "data": {
      "text/html": [
       "<pre style=\"white-space:pre;overflow-x:auto;line-height:normal;font-family:Menlo,'DejaVu Sans Mono',consolas,'Courier New',monospace\"><span style=\"color: #008000; text-decoration-color: #008000\">16:15:27</span> | ℹ️ <span style=\"font-weight: bold\"> - Writing to: repos\\micropython-stubs\\stubs\\micropython-v1_23_0-docstubs\\rp2\\DMA.pyi</span>\n",
       "</pre>\n"
      ],
      "text/plain": [
       "\u001b[32m16:15:27\u001b[0m | ℹ️ \u001b[1m - Writing to: repos\\micropython-stubs\\stubs\\micropython-v1_23_0-docstubs\\rp2\\DMA.pyi\u001b[0m\n"
      ]
     },
     "metadata": {},
     "output_type": "display_data"
    },
    {
     "data": {
      "text/html": [
       "<pre style=\"white-space:pre;overflow-x:auto;line-height:normal;font-family:Menlo,'DejaVu Sans Mono',consolas,'Courier New',monospace\"><span style=\"color: #008000; text-decoration-color: #008000\">16:15:27</span> | ℹ️ <span style=\"font-weight: bold\"> - Writing to: repos\\micropython-stubs\\stubs\\micropython-v1_23_0-docstubs\\rp2\\Flash.pyi</span>\n",
       "</pre>\n"
      ],
      "text/plain": [
       "\u001b[32m16:15:27\u001b[0m | ℹ️ \u001b[1m - Writing to: repos\\micropython-stubs\\stubs\\micropython-v1_23_0-docstubs\\rp2\\Flash.pyi\u001b[0m\n"
      ]
     },
     "metadata": {},
     "output_type": "display_data"
    },
    {
     "data": {
      "text/html": [
       "<pre style=\"white-space:pre;overflow-x:auto;line-height:normal;font-family:Menlo,'DejaVu Sans Mono',consolas,'Courier New',monospace\"><span style=\"color: #008000; text-decoration-color: #008000\">16:15:27</span> | ℹ️ <span style=\"font-weight: bold\"> - Writing to: repos\\micropython-stubs\\stubs\\micropython-v1_23_0-docstubs\\rp2\\PIO.pyi</span>\n",
       "</pre>\n"
      ],
      "text/plain": [
       "\u001b[32m16:15:27\u001b[0m | ℹ️ \u001b[1m - Writing to: repos\\micropython-stubs\\stubs\\micropython-v1_23_0-docstubs\\rp2\\PIO.pyi\u001b[0m\n"
      ]
     },
     "metadata": {},
     "output_type": "display_data"
    },
    {
     "data": {
      "text/html": [
       "<pre style=\"white-space:pre;overflow-x:auto;line-height:normal;font-family:Menlo,'DejaVu Sans Mono',consolas,'Courier New',monospace\"><span style=\"color: #008000; text-decoration-color: #008000\">16:15:27</span> | ℹ️ <span style=\"font-weight: bold\"> - Writing to: repos\\micropython-stubs\\stubs\\micropython-v1_23_0-docstubs\\rp2\\__init__.pyi</span>\n",
       "</pre>\n"
      ],
      "text/plain": [
       "\u001b[32m16:15:27\u001b[0m | ℹ️ \u001b[1m - Writing to: repos\\micropython-stubs\\stubs\\micropython-v1_23_0-docstubs\\rp2\\__init__.pyi\u001b[0m\n"
      ]
     },
     "metadata": {},
     "output_type": "display_data"
    },
    {
     "data": {
      "text/html": [
       "<pre style=\"white-space:pre;overflow-x:auto;line-height:normal;font-family:Menlo,'DejaVu Sans Mono',consolas,'Courier New',monospace\"><span style=\"color: #008000; text-decoration-color: #008000\">16:15:27</span> | ℹ️ <span style=\"font-weight: bold\"> - Writing to: repos\\micropython-stubs\\stubs\\micropython-v1_23_0-docstubs\\rp2\\StateMachine.pyi</span>\n",
       "</pre>\n"
      ],
      "text/plain": [
       "\u001b[32m16:15:27\u001b[0m | ℹ️ \u001b[1m - Writing to: repos\\micropython-stubs\\stubs\\micropython-v1_23_0-docstubs\\rp2\\StateMachine.pyi\u001b[0m\n"
      ]
     },
     "metadata": {},
     "output_type": "display_data"
    },
    {
     "data": {
      "text/html": [
       "<pre style=\"white-space:pre;overflow-x:auto;line-height:normal;font-family:Menlo,'DejaVu Sans Mono',consolas,'Courier New',monospace\"><span style=\"color: #008000; text-decoration-color: #008000\">16:15:27</span> | ℹ️ <span style=\"font-weight: bold\"> - Writing to: repos\\micropython-stubs\\stubs\\micropython-v1_23_0-docstubs\\select\\__init__.pyi</span>\n",
       "</pre>\n"
      ],
      "text/plain": [
       "\u001b[32m16:15:27\u001b[0m | ℹ️ \u001b[1m - Writing to: repos\\micropython-stubs\\stubs\\micropython-v1_23_0-docstubs\\select\\__init__.pyi\u001b[0m\n"
      ]
     },
     "metadata": {},
     "output_type": "display_data"
    },
    {
     "data": {
      "text/html": [
       "<pre style=\"white-space:pre;overflow-x:auto;line-height:normal;font-family:Menlo,'DejaVu Sans Mono',consolas,'Courier New',monospace\"><span style=\"color: #008000; text-decoration-color: #008000\">16:15:27</span> | ℹ️ <span style=\"font-weight: bold\"> - Writing to: repos\\micropython-stubs\\stubs\\micropython-v1_23_0-docstubs\\socket\\__init__.pyi</span>\n",
       "</pre>\n"
      ],
      "text/plain": [
       "\u001b[32m16:15:27\u001b[0m | ℹ️ \u001b[1m - Writing to: repos\\micropython-stubs\\stubs\\micropython-v1_23_0-docstubs\\socket\\__init__.pyi\u001b[0m\n"
      ]
     },
     "metadata": {},
     "output_type": "display_data"
    },
    {
     "data": {
      "text/html": [
       "<pre style=\"white-space:pre;overflow-x:auto;line-height:normal;font-family:Menlo,'DejaVu Sans Mono',consolas,'Courier New',monospace\"><span style=\"color: #008000; text-decoration-color: #008000\">16:15:27</span> | ℹ️ <span style=\"font-weight: bold\"> - Writing to: repos\\micropython-stubs\\stubs\\micropython-v1_23_0-docstubs\\ssl\\__init__.pyi</span>\n",
       "</pre>\n"
      ],
      "text/plain": [
       "\u001b[32m16:15:27\u001b[0m | ℹ️ \u001b[1m - Writing to: repos\\micropython-stubs\\stubs\\micropython-v1_23_0-docstubs\\ssl\\__init__.pyi\u001b[0m\n"
      ]
     },
     "metadata": {},
     "output_type": "display_data"
    },
    {
     "data": {
      "text/html": [
       "<pre style=\"white-space:pre;overflow-x:auto;line-height:normal;font-family:Menlo,'DejaVu Sans Mono',consolas,'Courier New',monospace\"><span style=\"color: #008000; text-decoration-color: #008000\">16:15:27</span> | ℹ️ <span style=\"font-weight: bold\"> - Writing to: repos\\micropython-stubs\\stubs\\micropython-v1_23_0-docstubs\\stm\\__init__.pyi</span>\n",
       "</pre>\n"
      ],
      "text/plain": [
       "\u001b[32m16:15:27\u001b[0m | ℹ️ \u001b[1m - Writing to: repos\\micropython-stubs\\stubs\\micropython-v1_23_0-docstubs\\stm\\__init__.pyi\u001b[0m\n"
      ]
     },
     "metadata": {},
     "output_type": "display_data"
    },
    {
     "data": {
      "text/html": [
       "<pre style=\"white-space:pre;overflow-x:auto;line-height:normal;font-family:Menlo,'DejaVu Sans Mono',consolas,'Courier New',monospace\"><span style=\"color: #008000; text-decoration-color: #008000\">16:15:27</span> | ℹ️ <span style=\"font-weight: bold\"> - Writing to: repos\\micropython-stubs\\stubs\\micropython-v1_23_0-docstubs\\struct\\__init__.pyi</span>\n",
       "</pre>\n"
      ],
      "text/plain": [
       "\u001b[32m16:15:27\u001b[0m | ℹ️ \u001b[1m - Writing to: repos\\micropython-stubs\\stubs\\micropython-v1_23_0-docstubs\\struct\\__init__.pyi\u001b[0m\n"
      ]
     },
     "metadata": {},
     "output_type": "display_data"
    },
    {
     "data": {
      "text/html": [
       "<pre style=\"white-space:pre;overflow-x:auto;line-height:normal;font-family:Menlo,'DejaVu Sans Mono',consolas,'Courier New',monospace\"><span style=\"color: #008000; text-decoration-color: #008000\">16:15:27</span> | ℹ️ <span style=\"font-weight: bold\"> - Writing to: repos\\micropython-stubs\\stubs\\micropython-v1_23_0-docstubs\\sys\\__init__.pyi</span>\n",
       "</pre>\n"
      ],
      "text/plain": [
       "\u001b[32m16:15:27\u001b[0m | ℹ️ \u001b[1m - Writing to: repos\\micropython-stubs\\stubs\\micropython-v1_23_0-docstubs\\sys\\__init__.pyi\u001b[0m\n"
      ]
     },
     "metadata": {},
     "output_type": "display_data"
    },
    {
     "data": {
      "text/html": [
       "<pre style=\"white-space:pre;overflow-x:auto;line-height:normal;font-family:Menlo,'DejaVu Sans Mono',consolas,'Courier New',monospace\"><span style=\"color: #008000; text-decoration-color: #008000\">16:15:27</span> | ℹ️ <span style=\"font-weight: bold\"> - Writing to: repos\\micropython-stubs\\stubs\\micropython-v1_23_0-docstubs\\time\\__init__.pyi</span>\n",
       "</pre>\n"
      ],
      "text/plain": [
       "\u001b[32m16:15:27\u001b[0m | ℹ️ \u001b[1m - Writing to: repos\\micropython-stubs\\stubs\\micropython-v1_23_0-docstubs\\time\\__init__.pyi\u001b[0m\n"
      ]
     },
     "metadata": {},
     "output_type": "display_data"
    },
    {
     "data": {
      "text/html": [
       "<pre style=\"white-space:pre;overflow-x:auto;line-height:normal;font-family:Menlo,'DejaVu Sans Mono',consolas,'Courier New',monospace\"><span style=\"color: #008000; text-decoration-color: #008000\">16:15:27</span> | ℹ️ <span style=\"font-weight: bold\"> - Writing to: repos\\micropython-stubs\\stubs\\micropython-v1_23_0-docstubs\\uctypes\\__init__.pyi</span>\n",
       "</pre>\n"
      ],
      "text/plain": [
       "\u001b[32m16:15:27\u001b[0m | ℹ️ \u001b[1m - Writing to: repos\\micropython-stubs\\stubs\\micropython-v1_23_0-docstubs\\uctypes\\__init__.pyi\u001b[0m\n"
      ]
     },
     "metadata": {},
     "output_type": "display_data"
    },
    {
     "data": {
      "text/html": [
       "<pre style=\"white-space:pre;overflow-x:auto;line-height:normal;font-family:Menlo,'DejaVu Sans Mono',consolas,'Courier New',monospace\"><span style=\"color: #008000; text-decoration-color: #008000\">16:15:27</span> | ℹ️ <span style=\"font-weight: bold\"> - Writing to: repos\\micropython-stubs\\stubs\\micropython-v1_23_0-docstubs\\vfs\\__init__.pyi</span>\n",
       "</pre>\n"
      ],
      "text/plain": [
       "\u001b[32m16:15:27\u001b[0m | ℹ️ \u001b[1m - Writing to: repos\\micropython-stubs\\stubs\\micropython-v1_23_0-docstubs\\vfs\\__init__.pyi\u001b[0m\n"
      ]
     },
     "metadata": {},
     "output_type": "display_data"
    },
    {
     "data": {
      "text/html": [
       "<pre style=\"white-space:pre;overflow-x:auto;line-height:normal;font-family:Menlo,'DejaVu Sans Mono',consolas,'Courier New',monospace\"><span style=\"color: #008000; text-decoration-color: #008000\">16:15:27</span> | ℹ️ <span style=\"font-weight: bold\"> - Writing to: repos\\micropython-stubs\\stubs\\micropython-v1_23_0-docstubs\\wipy\\__init__.pyi</span>\n",
       "</pre>\n"
      ],
      "text/plain": [
       "\u001b[32m16:15:27\u001b[0m | ℹ️ \u001b[1m - Writing to: repos\\micropython-stubs\\stubs\\micropython-v1_23_0-docstubs\\wipy\\__init__.pyi\u001b[0m\n"
      ]
     },
     "metadata": {},
     "output_type": "display_data"
    },
    {
     "data": {
      "text/html": [
       "<pre style=\"white-space:pre;overflow-x:auto;line-height:normal;font-family:Menlo,'DejaVu Sans Mono',consolas,'Courier New',monospace\"><span style=\"color: #008000; text-decoration-color: #008000\">16:15:27</span> | ℹ️ <span style=\"font-weight: bold\"> - Writing to: repos\\micropython-stubs\\stubs\\micropython-v1_23_0-docstubs\\wm8960\\__init__.pyi</span>\n",
       "</pre>\n"
      ],
      "text/plain": [
       "\u001b[32m16:15:27\u001b[0m | ℹ️ \u001b[1m - Writing to: repos\\micropython-stubs\\stubs\\micropython-v1_23_0-docstubs\\wm8960\\__init__.pyi\u001b[0m\n"
      ]
     },
     "metadata": {},
     "output_type": "display_data"
    },
    {
     "data": {
      "text/html": [
       "<pre style=\"white-space:pre;overflow-x:auto;line-height:normal;font-family:Menlo,'DejaVu Sans Mono',consolas,'Courier New',monospace\"><span style=\"color: #008000; text-decoration-color: #008000\">16:15:27</span> | ℹ️ <span style=\"font-weight: bold\"> - Writing to: repos\\micropython-stubs\\stubs\\micropython-v1_23_0-docstubs\\zephyr\\DiskAccess.pyi</span>\n",
       "</pre>\n"
      ],
      "text/plain": [
       "\u001b[32m16:15:27\u001b[0m | ℹ️ \u001b[1m - Writing to: repos\\micropython-stubs\\stubs\\micropython-v1_23_0-docstubs\\zephyr\\DiskAccess.pyi\u001b[0m\n"
      ]
     },
     "metadata": {},
     "output_type": "display_data"
    },
    {
     "data": {
      "text/html": [
       "<pre style=\"white-space:pre;overflow-x:auto;line-height:normal;font-family:Menlo,'DejaVu Sans Mono',consolas,'Courier New',monospace\"><span style=\"color: #008000; text-decoration-color: #008000\">16:15:27</span> | ℹ️ <span style=\"font-weight: bold\"> - Writing to: repos\\micropython-stubs\\stubs\\micropython-v1_23_0-docstubs\\zephyr\\FlashArea.pyi</span>\n",
       "</pre>\n"
      ],
      "text/plain": [
       "\u001b[32m16:15:27\u001b[0m | ℹ️ \u001b[1m - Writing to: repos\\micropython-stubs\\stubs\\micropython-v1_23_0-docstubs\\zephyr\\FlashArea.pyi\u001b[0m\n"
      ]
     },
     "metadata": {},
     "output_type": "display_data"
    },
    {
     "data": {
      "text/html": [
       "<pre style=\"white-space:pre;overflow-x:auto;line-height:normal;font-family:Menlo,'DejaVu Sans Mono',consolas,'Courier New',monospace\"><span style=\"color: #008000; text-decoration-color: #008000\">16:15:27</span> | ℹ️ <span style=\"font-weight: bold\"> - Writing to: repos\\micropython-stubs\\stubs\\micropython-v1_23_0-docstubs\\zephyr\\__init__.pyi</span>\n",
       "</pre>\n"
      ],
      "text/plain": [
       "\u001b[32m16:15:27\u001b[0m | ℹ️ \u001b[1m - Writing to: repos\\micropython-stubs\\stubs\\micropython-v1_23_0-docstubs\\zephyr\\__init__.pyi\u001b[0m\n"
      ]
     },
     "metadata": {},
     "output_type": "display_data"
    },
    {
     "data": {
      "text/html": [
       "<pre style=\"white-space:pre;overflow-x:auto;line-height:normal;font-family:Menlo,'DejaVu Sans Mono',consolas,'Courier New',monospace\"><span style=\"color: #008000; text-decoration-color: #008000\">16:15:27</span> | ℹ️ <span style=\"font-weight: bold\"> - Writing to: repos\\micropython-stubs\\stubs\\micropython-v1_23_0-docstubs\\zephyr\\zsensor.pyi</span>\n",
       "</pre>\n"
      ],
      "text/plain": [
       "\u001b[32m16:15:27\u001b[0m | ℹ️ \u001b[1m - Writing to: repos\\micropython-stubs\\stubs\\micropython-v1_23_0-docstubs\\zephyr\\zsensor.pyi\u001b[0m\n"
      ]
     },
     "metadata": {},
     "output_type": "display_data"
    },
    {
     "data": {
      "text/html": [
       "<pre style=\"white-space:pre;overflow-x:auto;line-height:normal;font-family:Menlo,'DejaVu Sans Mono',consolas,'Courier New',monospace\"><span style=\"color: #008000; text-decoration-color: #008000\">16:15:27</span> | ℹ️ <span style=\"font-weight: bold\"> - Writing to: repos\\micropython-stubs\\stubs\\micropython-v1_23_0-docstubs\\zlib\\__init__.pyi</span>\n",
       "</pre>\n"
      ],
      "text/plain": [
       "\u001b[32m16:15:27\u001b[0m | ℹ️ \u001b[1m - Writing to: repos\\micropython-stubs\\stubs\\micropython-v1_23_0-docstubs\\zlib\\__init__.pyi\u001b[0m\n"
      ]
     },
     "metadata": {},
     "output_type": "display_data"
    },
    {
     "data": {
      "text/html": [
       "<pre style=\"white-space:pre;overflow-x:auto;line-height:normal;font-family:Menlo,'DejaVu Sans Mono',consolas,'Courier New',monospace\"><span style=\"color: #008000; text-decoration-color: #008000\">16:15:27</span> | ℹ️ <span style=\"font-weight: bold\"> - Writing to: repos\\micropython-stubs\\stubs\\micropython-v1_23_0-docstubs\\_thread\\__init__.pyi</span>\n",
       "</pre>\n"
      ],
      "text/plain": [
       "\u001b[32m16:15:27\u001b[0m | ℹ️ \u001b[1m - Writing to: repos\\micropython-stubs\\stubs\\micropython-v1_23_0-docstubs\\_thread\\__init__.pyi\u001b[0m\n"
      ]
     },
     "metadata": {},
     "output_type": "display_data"
    },
    {
     "data": {
      "text/html": [
       "<pre style=\"white-space:pre;overflow-x:auto;line-height:normal;font-family:Menlo,'DejaVu Sans Mono',consolas,'Courier New',monospace\"><span style=\"color: #008000; text-decoration-color: #008000\">16:15:27</span> | ℹ️ <span style=\"font-weight: bold\">::group:: start post processing of retrieved stubs</span>\n",
       "</pre>\n"
      ],
      "text/plain": [
       "\u001b[32m16:15:27\u001b[0m | ℹ️ \u001b[1m::group:: start post processing of retrieved stubs\u001b[0m\n"
      ]
     },
     "metadata": {},
     "output_type": "display_data"
    },
    {
     "data": {
      "text/html": [
       "<pre style=\"white-space:pre;overflow-x:auto;line-height:normal;font-family:Menlo,'DejaVu Sans Mono',consolas,'Courier New',monospace\"><span style=\"color: #008000; text-decoration-color: #008000\">16:15:30</span> | ℹ️ <span style=\"font-weight: bold\">Running autoflake on: repos\\micropython-stubs\\stubs\\micropython-v1_23_0-docstubs</span>\n",
       "</pre>\n"
      ],
      "text/plain": [
       "\u001b[32m16:15:30\u001b[0m | ℹ️ \u001b[1mRunning autoflake on: repos\\micropython-stubs\\stubs\\micropython-v1_23_0-docstubs\u001b[0m\n"
      ]
     },
     "metadata": {},
     "output_type": "display_data"
    },
    {
     "data": {
      "text/html": [
       "<pre style=\"white-space:pre;overflow-x:auto;line-height:normal;font-family:Menlo,'DejaVu Sans Mono',consolas,'Courier New',monospace\"><span style=\"color: #008000; text-decoration-color: #008000\">16:15:31</span> | ℹ️ <span style=\"font-weight: bold\">::group:: Done</span>\n",
       "</pre>\n"
      ],
      "text/plain": [
       "\u001b[32m16:15:31\u001b[0m | ℹ️ \u001b[1m::group:: Done\u001b[0m\n"
      ]
     },
     "metadata": {},
     "output_type": "display_data"
    }
   ],
   "source": [
    "# create docstubs without cleaning up the .rst  docstrings\n",
    "%run -m stubber.stubber docstubs --version stable --no-clean-rst\n"
   ]
  },
  {
   "cell_type": "code",
   "execution_count": null,
   "metadata": {},
   "outputs": [],
   "source": [
    "# Test to merge in the manual annotations from the pycharm-micropython plugin\n",
    "\n",
    "%run -m stubber.stubber enrich --stubs repos/micropython-stubs/stubs/micropython-v1_23_0-docstubs --docstubs repos/intellij-micropython/typehints/micropython \n",
    "\n"
   ]
  },
  {
   "cell_type": "code",
   "execution_count": null,
   "metadata": {},
   "outputs": [],
   "source": [
    "# # merge the docstubs with boardstubs to get the non-documented methods and functions\n",
    "# %run -m  stubber.stubber get-frozen --version stable\n",
    "# %run -m stubber.stubber merge --version stable\n",
    "%run -m stubber.stubber build --version stable"
   ]
  },
  {
   "cell_type": "code",
   "execution_count": null,
   "metadata": {},
   "outputs": [],
   "source": [
    "# copy the merged docstubs to the docs folder\n",
    "from pathlib import Path\n",
    "import shutil\n",
    "\n",
    "origins = [\n",
    "    # standard\n",
    "    (\"array\", \"\"),\n",
    "    (\"asyncio\", \"\"),\n",
    "    (\"binascii\", \"\"),\n",
    "    # builtins not stubbed - needs to be created manually\n",
    "    # (\"builtin\", \"\"),\n",
    "    (\"cmath\", \"\"),\n",
    "    (\"collections\", \"\"),  # not on esp32\n",
    "    (\"errno\", \"\"),\n",
    "    (\"gc\", \"\"),\n",
    "    (\"gzip\", \"\"),  # Not in stubs\n",
    "    (\"hashlib\", \"\"),\n",
    "    (\"heapq\", \"\"),\n",
    "    (\"io\", \"\"),\n",
    "    (\"json\", \"\"),\n",
    "    (\"math\", \"\"),\n",
    "    (\"os\", \"\"),\n",
    "    (\"platform\", \"\"),\n",
    "    (\"random\", \"\"),\n",
    "    # (\"re\", \"\"),  # Not in stubs\n",
    "    (\"select\", \"\"),\n",
    "    (\"socket\", \"\"),\n",
    "    (\"ssl\", \"\"),\n",
    "    (\"struct\", \"\"),\n",
    "    (\"sys\", \"\"),\n",
    "    (\"time\", \"\"),\n",
    "    (\"zlib\", \"\"),  # Not in stubs\n",
    "    (\"_thread\", \"\"),\n",
    "    # micropython specific\n",
    "    (\"bluetooth\", \"\"),\n",
    "    (\"btree\", \"\"),\n",
    "    (\"cryptolib\", \"\"),\n",
    "    (\"deflate\", \"\"),\n",
    "    (\"framebuf\", \"\"),\n",
    "    (\"machine\", \"\"),\n",
    "    (\"micropython\", \"\"),\n",
    "    (\"neopixel\", \"\"),\n",
    "    (\"network\", \"\"),\n",
    "    (\"openamp\", \"\"),  # not in default stubs\n",
    "    (\"uctypes\", \"\"),\n",
    "    (\"vfs\", \"\"),\n",
    "    # drivers\n",
    "    (\"wm8960\", \"\"),\n",
    "    # stm32\n",
    "    (\"pyb\", \"\"),\n",
    "    (\"stm\", \"\"),\n",
    "    (\"lcd160cr\", \"\"),\n",
    "    # Wipy\n",
    "    (\"wipy\", \"\"),\n",
    "    # (\"machine.ADCWiPy\", \"\"),\n",
    "    # (\"machine.TimerWiPy\", \"\"),\n",
    "    # esp\n",
    "    (\"esp\", \"\"),\n",
    "    (\"esp32\", \"\"),\n",
    "    (\"espnow\", \"\"),\n",
    "    # rp2\n",
    "    (\"rp2\", \"\"),\n",
    "    # Zephyr\n",
    "    (\"zephyr\", \"\"),\n",
    "]\n",
    "\n",
    "origins.append(\n",
    "    (\"machine\", \"publish/micropython-v1_23_0-esp32-stubs\"),\n",
    ")\n",
    "\n",
    "base_path = Path(\"D:\\\\mypython\\\\micropython-stubber\\\\repos\\\\micropython-stubs\")\n",
    "target = Path(\"D:\\\\mypython\\\\autodoc201\\\\docs\\\\stubs\")\n",
    "if target.exists():\n",
    "    shutil.rmtree(target)\n",
    "target.mkdir(parents=True, exist_ok=True)\n",
    "\n",
    "\n",
    "for module, source in origins:\n",
    "    if not source:\n",
    "        # default\n",
    "        source = \"stubs/micropython-v1_23_0-docstubs\"  # \"publish/micropython-v1_23_0-esp32-stubs\"\n",
    "    source = \"stubs/micropython-v1_23_0-docstubs\"  # \"publish/micropython-v1_23_0-esp32-stubs\"\n",
    "    source_path = base_path / source\n",
    "    target_path = target\n",
    "    try:\n",
    "        print(f\"Copying {module} from {source_path}.\")\n",
    "        if (source_path / module).is_dir():\n",
    "            shutil.copytree(source_path / module, target_path / module, dirs_exist_ok=True)\n",
    "        else:\n",
    "            shutil.copy(source_path / f\"{module}.pyi\", target_path)\n",
    "        # print(f\"Copied {source}\")\n",
    "\n",
    "    except FileExistsError:\n",
    "        print(f\"FileExistsError: {source_path} \")"
   ]
  },
  {
   "cell_type": "code",
   "execution_count": null,
   "metadata": {},
   "outputs": [],
   "source": []
  }
 ],
 "metadata": {
  "kernelspec": {
   "display_name": ".venv",
   "language": "python",
   "name": "python3"
  },
  "language_info": {
   "codemirror_mode": {
    "name": "ipython",
    "version": 3
   },
   "file_extension": ".py",
   "mimetype": "text/x-python",
   "name": "python",
   "nbconvert_exporter": "python",
   "pygments_lexer": "ipython3",
   "version": "3.11.9"
  }
 },
 "nbformat": 4,
 "nbformat_minor": 2
}
